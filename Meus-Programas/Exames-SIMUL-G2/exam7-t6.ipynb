{
 "cells": [
  {
   "cell_type": "code",
   "execution_count": 6,
   "id": "f4651fed",
   "metadata": {},
   "outputs": [
    {
     "name": "stdout",
     "output_type": "stream",
     "text": [
      "[('Ana', 25, 'SP'), ('João', 30, 'RJ'), ('Eusébio', 97, 'TV')]\n"
     ]
    }
   ],
   "source": [
    "nomes = ['Ana', 'João', 'Eusébio']\n",
    "idades = [25, 30,97]\n",
    "cidades = ['SP', 'RJ','TV']\n",
    "\n",
    "combinados = zip(nomes, idades, cidades)\n",
    "print(list(combinados))  # [('Ana', 25, 'SP'), ('João', 30, 'RJ')]"
   ]
  },
  {
   "cell_type": "code",
   "execution_count": 9,
   "id": "59da97f7",
   "metadata": {},
   "outputs": [
    {
     "name": "stdout",
     "output_type": "stream",
     "text": [
      "maçã: €25.00\n",
      "banana: €16.50\n",
      "laranja: €9.60\n"
     ]
    }
   ],
   "source": [
    "produtos = ['maçã', 'banana', 'laranja']\n",
    "preços = [2.50, 1.10, 1.20]\n",
    "quantidades = [10, 15, 8]\n",
    "\n",
    "for produto, preço, quantidade in zip(produtos, preços, quantidades):\n",
    "    total = preço * quantidade\n",
    "    print(f\"{produto}: €{total:.2f}\")"
   ]
  },
  {
   "cell_type": "code",
   "execution_count": 24,
   "id": "484c2517",
   "metadata": {},
   "outputs": [
    {
     "name": "stdout",
     "output_type": "stream",
     "text": [
      "HELLO\n"
     ]
    }
   ],
   "source": [
    "def upcase(text): return text.upper()\n",
    "x = upcase\n",
    "f = [str.lower, x, str.capitalize]\n",
    "def dofunc(f):\n",
    "\tmessage = f('Hello')\n",
    "\tprint(message)\n",
    "dofunc(x)\n"
   ]
  },
  {
   "cell_type": "code",
   "execution_count": 25,
   "id": "db9f1eab",
   "metadata": {},
   "outputs": [
    {
     "name": "stdout",
     "output_type": "stream",
     "text": [
      "0 1 4 "
     ]
    }
   ],
   "source": [
    "def foo():\n",
    "    for x in range(3):\n",
    "        yield x*x\n",
    "for x in foo():\n",
    "    print(x, end=\" \")"
   ]
  },
  {
   "cell_type": "code",
   "execution_count": 27,
   "id": "f4adbf0c",
   "metadata": {},
   "outputs": [
    {
     "name": "stdout",
     "output_type": "stream",
     "text": [
      "{1: [1, 2], 2: [3, 4]}\n",
      "<class 'dict'>\n"
     ]
    }
   ],
   "source": [
    "spam = {}\n",
    "spam[1] = [1, 2]\n",
    "spam[2] = [3, 4]\n",
    "print(spam)\n",
    "print(type(spam))"
   ]
  },
  {
   "cell_type": "code",
   "execution_count": 37,
   "id": "5426cf18",
   "metadata": {},
   "outputs": [
    {
     "name": "stdout",
     "output_type": "stream",
     "text": [
      "{1, 2, 3, 4, 6, 7, 200, 9, 25, 100, 50}\n",
      "<class 'set'>\n"
     ]
    }
   ],
   "source": [
    "#spam = set()  # Cria um set vazio\n",
    "spam={1,1,2,3,4,7} # Cria um set com elementos duplicados\n",
    "#spam.add((1, 2))  # Adiciona uma tupla (1, 2) ao set\n",
    "#spam.add((3, 4))  # Adiciona uma tupla (3, 4) ao set\n",
    "spam.add(6)  # Adiciona o número 5 ao set\n",
    "spam.add(9)  # Adiciona o número 5 ao set\n",
    "spam.add(100)\n",
    "spam.add(50)\n",
    "spam.add(200)\n",
    "spam.add(25)\n",
    "print(spam)\n",
    "print(type(spam))\n"
   ]
  },
  {
   "cell_type": "code",
   "execution_count": 46,
   "id": "add98fe9",
   "metadata": {},
   "outputs": [
    {
     "name": "stdout",
     "output_type": "stream",
     "text": [
      "b1\n",
      "b2\n"
     ]
    }
   ],
   "source": [
    "spam = {'b1':11, 'b2':12}\n",
    "#for x in spam.items():print(x[0], x[1])    # OK\n",
    "#for x in spam.values():print(x[0], x[1])   # NOK\n",
    "#for x, y in spam.values():print(x, y)      # NOK\n",
    "#for x, y in spam.items():print(x, y)    # OK\n",
    "#for x in spam:print(x[0], x[1])\n",
    "for x in spam:print(x)"
   ]
  },
  {
   "cell_type": "code",
   "execution_count": 6,
   "id": "ce5f8ec2",
   "metadata": {},
   "outputs": [
    {
     "name": "stdout",
     "output_type": "stream",
     "text": [
      "[(10, 1, 2), (20, 3, 4), (30, 5, 6)]\n"
     ]
    }
   ],
   "source": [
    "p={10:\"ola\", 20:\"mundo\", 30:\"test\", 40:\"final\", 50:\"end\"}\n",
    "q=(1,3,5)\n",
    "r=[2,4,6,8,10]\n",
    "z=zip(p,q,r)\n",
    "print(list(z))\n"
   ]
  },
  {
   "cell_type": "code",
   "execution_count": 9,
   "id": "d22bbcb6",
   "metadata": {},
   "outputs": [
    {
     "name": "stdout",
     "output_type": "stream",
     "text": [
      "Objeto com __len__ retornando 0 é falso\n"
     ]
    }
   ],
   "source": [
    "class MinhaClasse:\n",
    "    def __len__(self):\n",
    "        return 0\n",
    "\n",
    "obj = MinhaClasse()\n",
    "if not obj:\n",
    "    print(\"Objeto com __len__ retornando 0 é falso\")  # Será impresso"
   ]
  },
  {
   "cell_type": "code",
   "execution_count": 11,
   "id": "9fd4ecdd",
   "metadata": {},
   "outputs": [
    {
     "name": "stdout",
     "output_type": "stream",
     "text": [
      "12.34\n",
      "12.34\n"
     ]
    }
   ],
   "source": [
    "print(.1234e2)\n",
    "print(1234e-2)"
   ]
  },
  {
   "cell_type": "code",
   "execution_count": 12,
   "id": "7dbbbfdf",
   "metadata": {},
   "outputs": [
    {
     "name": "stdout",
     "output_type": "stream",
     "text": [
      "a = 6 -> binário: 0b110\n",
      "b = 3 -> binário: 0b11\n",
      "\n",
      "1. AND (&)\n",
      "6 & 3 = 2 -> 0b110 & 0b11 = 0b10\n",
      "\n",
      "2. OR (|)\n",
      "6 | 3 = 7 -> 0b110 | 0b11 = 0b111\n",
      "\n",
      "3. XOR (^)\n",
      "6 ^ 3 = 5 -> 0b110 ^ 0b11 = 0b101\n",
      "\n",
      "4. NOT (~)\n",
      "~6 = -7 -> ~0b110 = -0b111\n",
      "~3 = -4 -> ~0b11 = -0b100\n",
      "\n",
      "5. SHIFT LEFT (<<)\n",
      "6 << 1 = 12 -> 0b110 << 1 = 0b1100\n",
      "3 << 2 = 12 -> 0b11 << 2 = 0b1100\n",
      "\n",
      "6. SHIFT RIGHT (>>)\n",
      "6 >> 1 = 3 -> 0b110 >> 1 = 0b11\n",
      "3 >> 1 = 1 -> 0b11 >> 1 = 0b1\n"
     ]
    }
   ],
   "source": [
    "# Demonstração de todos os operadores bitwise em Python\n",
    "\n",
    "# Números escolhidos\n",
    "a = 6   # binário: 0b110\n",
    "b = 3   # binário: 0b011\n",
    "\n",
    "print(f\"a = {a} -> binário: {bin(a)}\")\n",
    "print(f\"b = {b} -> binário: {bin(b)}\\n\")\n",
    "\n",
    "# AND (&)\n",
    "print(\"1. AND (&)\")\n",
    "print(f\"{a} & {b} = {a & b} -> {bin(a)} & {bin(b)} = {bin(a & b)}\\n\")\n",
    "\n",
    "# OR (|)\n",
    "print(\"2. OR (|)\")\n",
    "print(f\"{a} | {b} = {a | b} -> {bin(a)} | {bin(b)} = {bin(a | b)}\\n\")\n",
    "\n",
    "# XOR (^)\n",
    "print(\"3. XOR (^)\")\n",
    "print(f\"{a} ^ {b} = {a ^ b} -> {bin(a)} ^ {bin(b)} = {bin(a ^ b)}\\n\")\n",
    "\n",
    "# NOT (~)\n",
    "print(\"4. NOT (~)\")\n",
    "print(f\"~{a} = {~a} -> ~{bin(a)} = {bin(~a)}\")\n",
    "print(f\"~{b} = {~b} -> ~{bin(b)} = {bin(~b)}\\n\")\n",
    "\n",
    "# SHIFT LEFT (<<)\n",
    "print(\"5. SHIFT LEFT (<<)\")\n",
    "print(f\"{a} << 1 = {a << 1} -> {bin(a)} << 1 = {bin(a << 1)}\")\n",
    "print(f\"{b} << 2 = {b << 2} -> {bin(b)} << 2 = {bin(b << 2)}\\n\")\n",
    "\n",
    "# SHIFT RIGHT (>>)\n",
    "print(\"6. SHIFT RIGHT (>>)\")\n",
    "print(f\"{a} >> 1 = {a >> 1} -> {bin(a)} >> 1 = {bin(a >> 1)}\")\n",
    "print(f\"{b} >> 1 = {b >> 1} -> {bin(b)} >> 1 = {bin(b >> 1)}\")\n"
   ]
  },
  {
   "cell_type": "code",
   "execution_count": 15,
   "id": "5878c742",
   "metadata": {},
   "outputs": [
    {
     "data": {
      "text/plain": [
       "-1"
      ]
     },
     "execution_count": 15,
     "metadata": {},
     "output_type": "execute_result"
    }
   ],
   "source": [
    "-1 // 2"
   ]
  },
  {
   "cell_type": "code",
   "execution_count": 16,
   "id": "7a018922",
   "metadata": {},
   "outputs": [
    {
     "name": "stdout",
     "output_type": "stream",
     "text": [
      "(1, 2, 4, 5)\n",
      "(2, 3, 4, 5)\n",
      "(1, 2, 3, 4)\n"
     ]
    }
   ],
   "source": [
    "# Tupla original\n",
    "minha_tupla = (1, 2, 3, 4, 5)\n",
    "\n",
    "# Remover o elemento na posição 2 (valor 3)\n",
    "nova_tupla = minha_tupla[:2] + minha_tupla[3:]\n",
    "print(nova_tupla)  # (1, 2, 4, 5)\n",
    "\n",
    "# Remover o primeiro elemento\n",
    "sem_primeiro = minha_tupla[1:]\n",
    "print(sem_primeiro)  # (2, 3, 4, 5)\n",
    "\n",
    "# Remover o último elemento\n",
    "sem_ultimo = minha_tupla[:-1]\n",
    "print(sem_ultimo)  # (1, 2, 3, 4)"
   ]
  },
  {
   "cell_type": "code",
   "execution_count": 19,
   "id": "0ebf7a9b",
   "metadata": {},
   "outputs": [
    {
     "name": "stdout",
     "output_type": "stream",
     "text": [
      "bbbbbb\n",
      "OLAOLA\n"
     ]
    }
   ],
   "source": [
    "def ham(n):\n",
    "    result = 'b'\n",
    "    for i in range(n):\n",
    "        result += result\n",
    "        yield result\n",
    "for spam in ham(2):\n",
    "    print(spam, end=\"\")\n",
    "    \n",
    "print()\n",
    "x='OLA'\n",
    "x+=x\n",
    "print(x)"
   ]
  },
  {
   "cell_type": "code",
   "execution_count": 24,
   "id": "0fce9da0",
   "metadata": {},
   "outputs": [
    {
     "name": "stdout",
     "output_type": "stream",
     "text": [
      "('brown',)\n"
     ]
    }
   ],
   "source": [
    "spam = (\"the\", \"quick\", \"brown\", \"fox\")\n",
    "#print(spam[-2:-1])\n",
    "print(spam[-2:1:-1])"
   ]
  },
  {
   "cell_type": "code",
   "execution_count": 26,
   "id": "b7f8ffd4",
   "metadata": {},
   "outputs": [
    {
     "data": {
      "text/plain": [
       "{False: 'Nope'}"
      ]
     },
     "execution_count": 26,
     "metadata": {},
     "output_type": "execute_result"
    }
   ],
   "source": [
    "{False: 'No', 0: 'Nay', 0.0: 'Nope'}\n"
   ]
  },
  {
   "cell_type": "code",
   "execution_count": 30,
   "id": "04219a72",
   "metadata": {},
   "outputs": [
    {
     "name": "stdout",
     "output_type": "stream",
     "text": [
      "10\n"
     ]
    }
   ],
   "source": [
    "a, b = 10, 20\n",
    "print((b, a) [a < b])"
   ]
  },
  {
   "cell_type": "code",
   "execution_count": 33,
   "id": "90034ca4",
   "metadata": {},
   "outputs": [
    {
     "name": "stdout",
     "output_type": "stream",
     "text": [
      "31"
     ]
    }
   ],
   "source": [
    "x = 3\n",
    "while x > 0:\n",
    "    print(x, end='')\n",
    "    x //= 2"
   ]
  },
  {
   "cell_type": "code",
   "execution_count": 38,
   "id": "0122433f",
   "metadata": {},
   "outputs": [
    {
     "data": {
      "text/plain": [
       "9"
      ]
     },
     "execution_count": 38,
     "metadata": {},
     "output_type": "execute_result"
    }
   ],
   "source": [
    "for ii in range(10):\n",
    "    pass\n",
    "ii"
   ]
  },
  {
   "cell_type": "code",
   "execution_count": 39,
   "id": "6546241c",
   "metadata": {},
   "outputs": [
    {
     "name": "stdout",
     "output_type": "stream",
     "text": [
      "106\n"
     ]
    }
   ],
   "source": [
    "i = 0\n",
    "total = 0\n",
    "while i < 4 :\n",
    "    i += 2\n",
    "    total += i\n",
    "else:\n",
    "    total += 100\n",
    "print(total)"
   ]
  },
  {
   "cell_type": "code",
   "execution_count": 41,
   "id": "1d992aa3",
   "metadata": {},
   "outputs": [
    {
     "name": "stdout",
     "output_type": "stream",
     "text": [
      "-inf\n"
     ]
    },
    {
     "data": {
      "text/plain": [
       "-12345.0"
      ]
     },
     "execution_count": 41,
     "metadata": {},
     "output_type": "execute_result"
    }
   ],
   "source": [
    "print(float('-Infinity'))\n",
    "float((' -12345\\n'))"
   ]
  },
  {
   "cell_type": "code",
   "execution_count": 43,
   "id": "ac5214c7",
   "metadata": {},
   "outputs": [
    {
     "name": "stdout",
     "output_type": "stream",
     "text": [
      "Hello World!\n"
     ]
    }
   ],
   "source": [
    "print('Hello', end=' ')\n",
    "print('World!')"
   ]
  },
  {
   "cell_type": "code",
   "execution_count": 47,
   "id": "d0904475",
   "metadata": {},
   "outputs": [
    {
     "data": {
      "text/plain": [
       "'HELLO WORLD'"
      ]
     },
     "execution_count": 47,
     "metadata": {},
     "output_type": "execute_result"
    }
   ],
   "source": [
    "def dofunc(text, b):\n",
    "    def lowcase(): return text.lower()\n",
    "    def upcase(): return text.upper()\n",
    "    return upcase if b else lowcase\n",
    "\n",
    "#dofunc('Hello World', (True))()\n",
    "#dofunc('Hello World', (False,))()\n",
    "#dofunc('Hello World', True)\n",
    "dofunc('Hello World', True)() "
   ]
  },
  {
   "cell_type": "code",
   "execution_count": 48,
   "id": "b905525a",
   "metadata": {},
   "outputs": [
    {
     "name": "stdout",
     "output_type": "stream",
     "text": [
      "<function saudacao at 0x0000026E8AE94040>\n",
      "<class 'function'>\n",
      "Olá mundo!\n",
      "<class 'str'>\n"
     ]
    }
   ],
   "source": [
    "def saudacao():\n",
    "    return \"Olá mundo!\"\n",
    "\n",
    "# REFERÊNCIA à função (sem executar)\n",
    "ref_func = saudacao\n",
    "print(ref_func)        # <function saudacao at 0x...>\n",
    "print(type(ref_func))  # <class 'function'>\n",
    "\n",
    "# EXECUÇÃO da função\n",
    "resultado = saudacao()\n",
    "print(resultado)       # \"Olá mundo!\"\n",
    "print(type(resultado)) # <class 'str'>"
   ]
  },
  {
   "cell_type": "code",
   "execution_count": 52,
   "id": "61c8886f",
   "metadata": {},
   "outputs": [
    {
     "name": "stdout",
     "output_type": "stream",
     "text": [
      "f1 f2 \n",
      " {'f1': {'b1': 11, 'b2': 12}, 'f2': {'b1': 21, 'b2': 22}}\n"
     ]
    }
   ],
   "source": [
    "spam = {}\n",
    "spam['f1'] = {'b1':11, 'b2':12}\n",
    "spam['f2'] = {'b1':21, 'b2':22}\n",
    "for ham in spam.keys():\n",
    "    print(ham, end=' ')\n",
    "\n",
    "print(\"\\n\",spam)"
   ]
  },
  {
   "cell_type": "code",
   "execution_count": 53,
   "id": "1d5de1aa",
   "metadata": {},
   "outputs": [
    {
     "name": "stdout",
     "output_type": "stream",
     "text": [
      "{'0': 'value'} None\n"
     ]
    }
   ],
   "source": [
    "def spam(d, k, v):\n",
    "    d[k]=v\n",
    "    print(d, end=' ')\n",
    "print(spam({}, '0', 'value'))"
   ]
  },
  {
   "cell_type": "code",
   "execution_count": 93,
   "id": "5c85976e",
   "metadata": {},
   "outputs": [
    {
     "name": "stdout",
     "output_type": "stream",
     "text": [
      "<class 'str'>\n"
     ]
    }
   ],
   "source": [
    "print(type((\"the\")))"
   ]
  },
  {
   "cell_type": "code",
   "execution_count": null,
   "id": "54e08edb",
   "metadata": {},
   "outputs": [],
   "source": [
    "x = { 'x': 1, 'y': 2} \n",
    "for e in x: \n",
    "    print(e.value, type(e), end=' ')"
   ]
  },
  {
   "cell_type": "code",
   "execution_count": 99,
   "id": "83bb8c07",
   "metadata": {},
   "outputs": [
    {
     "name": "stdout",
     "output_type": "stream",
     "text": [
      "Chaves: ['nome', 'idade', 'cidade', 'profissao']\n",
      "João\n",
      "Valores: ['João', 30, 'São Paulo', 'Engenheiro']\n"
     ]
    }
   ],
   "source": [
    "pessoa = {\n",
    "    \"nome\": \"João\",\n",
    "    \"idade\": 30,\n",
    "    \"cidade\": \"São Paulo\",\n",
    "    \"profissao\": \"Engenheiro\"\n",
    "}\n",
    "\n",
    "# Método 1: .keys() - retorna uma view object\n",
    "chaves = pessoa.keys()\n",
    "print(\"Chaves:\", list(chaves))  # Convertendo para lista\n",
    "print(pessoa[\"nome\"])\n",
    "\n",
    "valores = pessoa.values()\n",
    "print(\"Valores:\", list(valores))  # Convertendo para lista"
   ]
  },
  {
   "cell_type": "code",
   "execution_count": 119,
   "id": "54d8f73c",
   "metadata": {},
   "outputs": [
    {
     "data": {
      "text/plain": [
       "'A'"
      ]
     },
     "execution_count": 119,
     "metadata": {},
     "output_type": "execute_result"
    }
   ],
   "source": [
    "spam = ('S', 'P', 'A', 'M',10)  \n",
    "s,C, _, H ,K = spam\n",
    "_\n"
   ]
  },
  {
   "cell_type": "code",
   "execution_count": 124,
   "id": "bbb91ace",
   "metadata": {},
   "outputs": [
    {
     "name": "stdout",
     "output_type": "stream",
     "text": [
      "[]\n",
      "[]\n",
      "2673800984832\n",
      "2673800984832\n"
     ]
    }
   ],
   "source": [
    "spam = [1, 2, 3]\n",
    "ham = spam\n",
    "del ham[:]\n",
    "print(ham)\n",
    "print(spam)\n",
    "print(id(ham),id(spam),sep=\"\\n\")"
   ]
  },
  {
   "cell_type": "code",
   "execution_count": 167,
   "id": "14e65d43",
   "metadata": {},
   "outputs": [
    {
     "name": "stdout",
     "output_type": "stream",
     "text": [
      "321\n",
      "{'rick': 789, 'morty': 654, 'summer': 321}\n"
     ]
    }
   ],
   "source": [
    "tel = {'rick': 123, 'morty': 456}\n",
    "tel['rick'] = 789\n",
    "tel.update({'morty': 654, 'summer': 321})\n",
    "\n",
    "#resultado = tel.get('spam')  # Retorna None\n",
    "#print(resultado is not None)  # False (porque None == None)\n",
    "\n",
    "print(tel.get('summer'))  \n",
    "#print(tel.get('batatas'))  \n",
    "print(tel)"
   ]
  },
  {
   "cell_type": "code",
   "execution_count": 160,
   "id": "ce5cfa44",
   "metadata": {},
   "outputs": [
    {
     "name": "stdout",
     "output_type": "stream",
     "text": [
      "[1, 2, 3] [1, 2, 3] True : 2673800704832 2673800704832\n"
     ]
    }
   ],
   "source": [
    "ham = [1, 2, 3]\n",
    "#spam = ham.copy() # Cópia superficial, sao elementes diferentes\n",
    "spam = ham  # Cópia por referência (ambos apontam para a mesma lista)\n",
    "# spam = ham[:]   # Cópia superficial, sao elementes diferentes\n",
    "#spam = list(ham) # Cópia superficial, sao elementes diferentes\n",
    "print(spam, ham, id(spam)==id(ham),\":\",id(spam),id(ham))"
   ]
  },
  {
   "cell_type": "code",
   "execution_count": 168,
   "id": "06f995bf",
   "metadata": {},
   "outputs": [
    {
     "name": "stdout",
     "output_type": "stream",
     "text": [
      "{1, 2, 3, 4, 5, 6}\n"
     ]
    }
   ],
   "source": [
    "s = {1, 2, 3}\n",
    "s.update([4, 5, 6])\n",
    "print(s)"
   ]
  },
  {
   "cell_type": "code",
   "execution_count": 169,
   "id": "5eb6f9f0",
   "metadata": {},
   "outputs": [
    {
     "name": "stdout",
     "output_type": "stream",
     "text": [
      "<class 'list'>\n",
      "<class 'tuple'>\n"
     ]
    }
   ],
   "source": [
    "x, y, z = \"x\", \"y\", \"z\"\n",
    "s = [x, y, z]\n",
    "t = x, y, z\n",
    "\n",
    "print(type(s), type(t), sep=\"\\n\")"
   ]
  },
  {
   "cell_type": "code",
   "execution_count": 183,
   "id": "fa79f251",
   "metadata": {},
   "outputs": [
    {
     "name": "stdout",
     "output_type": "stream",
     "text": [
      "['spam', 'ham', 'spam', 'ham']\n",
      "('spam', 'ham', 'spam', 'ham')\n",
      "spam hamspam ham\n"
     ]
    }
   ],
   "source": [
    "print(['spam', 'ham'] * 2)\n",
    "print(('spam', 'ham') * 2)\n",
    "print(\"spam ham\"*2)"
   ]
  },
  {
   "cell_type": "code",
   "execution_count": 191,
   "id": "0360a6f6",
   "metadata": {},
   "outputs": [
    {
     "name": "stdout",
     "output_type": "stream",
     "text": [
      "20\n"
     ]
    }
   ],
   "source": [
    "def spam(x, sum):\n",
    "    return sum if x == 0 else sum + spam(x-1, sum)\n",
    "print(spam(3, 5))"
   ]
  },
  {
   "cell_type": "code",
   "execution_count": 202,
   "id": "67bbfd9c",
   "metadata": {},
   "outputs": [
    {
     "name": "stdout",
     "output_type": "stream",
     "text": [
      "11 6 7\n"
     ]
    }
   ],
   "source": [
    "def spam(a, b, c=3):\n",
    "    print(a, b, c)\n",
    "    \n",
    "#spam(a=1,2,3)\n",
    "#spam(b=2,a=1)    \n",
    "spam(11,6,7)"
   ]
  },
  {
   "cell_type": "code",
   "execution_count": 206,
   "id": "e6b94562",
   "metadata": {},
   "outputs": [
    {
     "name": "stdout",
     "output_type": "stream",
     "text": [
      "10\n"
     ]
    }
   ],
   "source": [
    "a, b = 10, 20\n",
    "print({True: a, False: b} [a < b])"
   ]
  },
  {
   "cell_type": "code",
   "execution_count": 211,
   "id": "0cdd0c88",
   "metadata": {},
   "outputs": [
    {
     "name": "stdout",
     "output_type": "stream",
     "text": [
      "1 2 3\n"
     ]
    }
   ],
   "source": [
    "def spam(a, b, c=3):\n",
    "    print(a, b, c)\n",
    "spam(1, 2, c=3,)"
   ]
  },
  {
   "cell_type": "code",
   "execution_count": 212,
   "id": "9e8614ed",
   "metadata": {},
   "outputs": [
    {
     "name": "stdout",
     "output_type": "stream",
     "text": [
      "<_io.TextIOWrapper name='animals.txt' mode='r' encoding='cp1252'>\n"
     ]
    }
   ],
   "source": [
    "arquivo = open('animals.txt', 'r')\n",
    "print(arquivo)"
   ]
  }
 ],
 "metadata": {
  "kernelspec": {
   "display_name": "Python 3",
   "language": "python",
   "name": "python3"
  },
  "language_info": {
   "codemirror_mode": {
    "name": "ipython",
    "version": 3
   },
   "file_extension": ".py",
   "mimetype": "text/x-python",
   "name": "python",
   "nbconvert_exporter": "python",
   "pygments_lexer": "ipython3",
   "version": "3.13.6"
  }
 },
 "nbformat": 4,
 "nbformat_minor": 5
}
