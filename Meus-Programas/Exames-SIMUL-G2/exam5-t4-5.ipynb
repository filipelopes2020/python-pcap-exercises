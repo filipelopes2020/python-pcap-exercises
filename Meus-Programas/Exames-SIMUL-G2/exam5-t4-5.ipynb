{
 "cells": [
  {
   "cell_type": "code",
   "execution_count": null,
   "id": "f44fbf2a",
   "metadata": {},
   "outputs": [
    {
     "name": "stdout",
     "output_type": "stream",
     "text": [
      "2\n",
      "True\n"
     ]
    }
   ],
   "source": [
    "class A:\n",
    "    def __init__(self):\n",
    "        self.var = 1\n",
    "class B(A):\n",
    "    def __init__(self):\n",
    "        self.var = 2\n",
    "class C(B,A):\n",
    "    bot=3\n",
    "    def __init__(self):\n",
    "        super().__init__()\n",
    "\n",
    "c=C()\n",
    "\n",
    "print(c.var)\n",
    "print(issubclass(C,A))"
   ]
  },
  {
   "cell_type": "code",
   "execution_count": null,
   "id": "684527f8",
   "metadata": {},
   "outputs": [
    {
     "ename": "AttributeError",
     "evalue": "'C' object has no attribute 'val'",
     "output_type": "error",
     "traceback": [
      "\u001b[31m---------------------------------------------------------------------------\u001b[39m",
      "\u001b[31mAttributeError\u001b[39m                            Traceback (most recent call last)",
      "\u001b[36mCell\u001b[39m\u001b[36m \u001b[39m\u001b[32mIn[5]\u001b[39m\u001b[32m, line 18\u001b[39m\n\u001b[32m     14\u001b[39m \u001b[38;5;66;03m#obj_a=A()\u001b[39;00m\n\u001b[32m     15\u001b[39m \u001b[38;5;66;03m#obj_b=B()\u001b[39;00m\n\u001b[32m     16\u001b[39m obj_c=C()\n\u001b[32m---> \u001b[39m\u001b[32m18\u001b[39m \u001b[38;5;28mprint\u001b[39m(\u001b[43mobj_c\u001b[49m\u001b[43m.\u001b[49m\u001b[43mval\u001b[49m)\n",
      "\u001b[31mAttributeError\u001b[39m: 'C' object has no attribute 'val'"
     ]
    }
   ],
   "source": [
    "class A:\n",
    "    top = 1\n",
    "    def __init__(self):\n",
    "        self.val = 1\n",
    "class B(A):\n",
    "    mid=2\n",
    "    def __init__(self):\n",
    "        self.val = 2\n",
    "        self.__val=3        \n",
    "class C(B,A):\n",
    "    bot=3\n",
    "    def __init__(self):\n",
    "        pass\n",
    "#obj_a=A()\n",
    "#obj_b=B()\n",
    "obj_c=C()\n",
    "\n",
    "print(obj_c.val)"
   ]
  },
  {
   "cell_type": "code",
   "execution_count": 11,
   "id": "c332505b",
   "metadata": {},
   "outputs": [
    {
     "name": "stdout",
     "output_type": "stream",
     "text": [
      "{'v': 1}\n",
      "{'__module__': '__main__', '__firstlineno__': 1, 't': 1, '__init__': <function A.__init__ at 0x0000018F04975260>, '__static_attributes__': ('v',), '__dict__': <attribute '__dict__' of 'A' objects>, '__weakref__': <attribute '__weakref__' of 'A' objects>, '__doc__': None}\n"
     ]
    }
   ],
   "source": [
    "class A:\n",
    "    t = 1\n",
    "    def __init__(self):\n",
    "        self.v = 1\n",
    "        \n",
    "a = A()\n",
    "print(a.__dict__)\n",
    "print(A.__dict__)"
   ]
  },
  {
   "cell_type": "code",
   "execution_count": null,
   "id": "45997fb7",
   "metadata": {},
   "outputs": [
    {
     "name": "stdout",
     "output_type": "stream",
     "text": [
      "Calling Class A\n"
     ]
    }
   ],
   "source": [
    "class A:\n",
    "    def __init__(self):\n",
    "        print('Calling Class A')\n",
    "    \n",
    "class B(A):\n",
    "    def __init__(self):\n",
    "        #super().__init__()\n",
    "        A.__init__(self)\n",
    "b = B()\n",
    "\n"
   ]
  },
  {
   "cell_type": "code",
   "execution_count": 19,
   "id": "4f9c5760",
   "metadata": {},
   "outputs": [
    {
     "name": "stdout",
     "output_type": "stream",
     "text": [
      "nada\n",
      "True\n",
      "True\n",
      "True\n"
     ]
    }
   ],
   "source": [
    "class A: pass\n",
    "class B(A): pass\n",
    "class C(B): \n",
    "    def __init__(self):\n",
    "        print(\"nada\")\n",
    "\n",
    "c=C()\n",
    "#print(c)\n",
    "print(issubclass(C,A))\n",
    "print(issubclass(C,B))  \n",
    "print(issubclass(C,C))\n"
   ]
  },
  {
   "cell_type": "code",
   "execution_count": 20,
   "id": "fd2ff8ff",
   "metadata": {},
   "outputs": [
    {
     "name": "stdout",
     "output_type": "stream",
     "text": [
      "Construtor chamado, mas retornando None\n",
      "Objeto criado: None\n",
      "Tipo do objeto: <class 'NoneType'>\n"
     ]
    }
   ],
   "source": [
    "class ClasseComConstrutorNone:\n",
    "    def __new__(cls, *args, **kwargs):\n",
    "        # O método __new__ é chamado antes do __init__\n",
    "        # Se retornarmos None, a instância não é criada\n",
    "        print(\"Construtor chamado, mas retornando None\")\n",
    "        return None\n",
    "    \n",
    "    def __init__(self, valor):\n",
    "        # Este método nunca será executado se __new__ retornar None\n",
    "        self.valor = valor\n",
    "        print(\"Init executado\")\n",
    "\n",
    "# Testando a classe\n",
    "objeto = ClasseComConstrutorNone(42)\n",
    "print(f\"Objeto criado: {objeto}\")\n",
    "print(f\"Tipo do objeto: {type(objeto)}\")"
   ]
  },
  {
   "cell_type": "code",
   "execution_count": 21,
   "id": "f771dd21",
   "metadata": {},
   "outputs": [
    {
     "name": "stdout",
     "output_type": "stream",
     "text": [
      "1.0\n"
     ]
    }
   ],
   "source": [
    "x = 1. if 4 > 1 else 5.\n",
    "print(x)"
   ]
  },
  {
   "cell_type": "code",
   "execution_count": 24,
   "id": "e6b18b96",
   "metadata": {},
   "outputs": [
    {
     "name": "stdout",
     "output_type": "stream",
     "text": [
      "<generator object fun at 0x0000018F0481D970>\n",
      "0\n",
      "1\n",
      "2\n",
      "3\n"
     ]
    }
   ],
   "source": [
    "def fun(n):\n",
    "    for i in range(n):\n",
    "        yield i \n",
    "        \n",
    "x = fun(4)\n",
    "print(x)\n",
    "\n",
    "for i in x:\n",
    "    print(i)    \n"
   ]
  },
  {
   "cell_type": "code",
   "execution_count": 26,
   "id": "c3b2d74b",
   "metadata": {},
   "outputs": [
    {
     "name": "stdout",
     "output_type": "stream",
     "text": [
      "<generator object gerador_pares at 0x0000018F0497C700>\n",
      "0\n",
      "2\n",
      "4\n",
      "6\n",
      "8\n",
      "10\n"
     ]
    }
   ],
   "source": [
    "def gerador_pares(limite):\n",
    "    \"\"\"Gera números pares até o limite especificado\"\"\"\n",
    "    numero = 0\n",
    "    while numero <= limite:\n",
    "        yield numero\n",
    "        numero += 2\n",
    "\n",
    "x=gerador_pares(10)\n",
    "print(x)\n",
    "\n",
    "for i in x:\n",
    "    print(i)    \n",
    "\n",
    "# Usando o gerador\n",
    "#print(\"Números pares até 10:\")\n",
    "#for par in gerador_pares(10):\n",
    "#    print(par)"
   ]
  },
  {
   "cell_type": "code",
   "execution_count": 32,
   "id": "b75a98e3",
   "metadata": {},
   "outputs": [
    {
     "name": "stdout",
     "output_type": "stream",
     "text": [
      "False\n",
      "True\n"
     ]
    }
   ],
   "source": [
    "class A:\n",
    "    t = 1\n",
    "    def __init__(self):\n",
    "        self.v = 1\n",
    "\n",
    "def foo():\n",
    "    return 2 *3\n",
    "\n",
    "a= A()\n",
    "f = foo\n",
    "print(isinstance(f, type(foo())))\n",
    "print(isinstance(a, A))"
   ]
  },
  {
   "cell_type": "code",
   "execution_count": 42,
   "id": "d441430c",
   "metadata": {},
   "outputs": [
    {
     "name": "stdout",
     "output_type": "stream",
     "text": [
      "1757598988.950948\n",
      "time.struct_time(tm_year=2025, tm_mon=9, tm_mday=11, tm_hour=14, tm_min=56, tm_sec=28, tm_wday=3, tm_yday=254, tm_isdst=1)\n",
      "time.struct_time(tm_year=2025, tm_mon=9, tm_mday=11, tm_hour=13, tm_min=56, tm_sec=28, tm_wday=3, tm_yday=254, tm_isdst=0)\n",
      "Thu Sep 11 14:56:28 2025\n",
      "1757598988.950948\n",
      "2025-09-11 14:56:28\n"
     ]
    }
   ],
   "source": [
    "import time\n",
    "timestamp = time.time()\n",
    "print(timestamp)\n",
    "\n",
    "#print(dir(time))\n",
    "tempo_local = time.localtime()    # Hora local\n",
    "tempo_utc = time.gmtime()         # Hora UTC\n",
    "tempo_formatado = time.ctime() \n",
    "print(tempo_local)\n",
    "formatado = time.strftime(\"%Y-%m-%d %H:%M:%S\", tempo_local)\n",
    "print(tempo_utc)    \n",
    "print(tempo_formatado)\n",
    "#time.sleep(10)  # Pausa por 10 segundos\n",
    "#timestamp = time.time() \n",
    "print(timestamp)\n",
    "\n",
    "print(formatado)"
   ]
  },
  {
   "cell_type": "code",
   "execution_count": null,
   "id": "b72ee579",
   "metadata": {},
   "outputs": [
    {
     "ename": "SyntaxError",
     "evalue": "invalid syntax (3277313915.py, line 9)",
     "output_type": "error",
     "traceback": [
      "  \u001b[36mCell\u001b[39m\u001b[36m \u001b[39m\u001b[32mIn[46]\u001b[39m\u001b[32m, line 9\u001b[39m\n\u001b[31m    \u001b[39m\u001b[31mlambda: lambda\u001b[39m\n                  ^\n\u001b[31mSyntaxError\u001b[39m\u001b[31m:\u001b[39m invalid syntax\n"
     ]
    }
   ],
   "source": [
    "resultado = (lambda x: [])(2)\n",
    "print(resultado)  # Output: []\n",
    "\n",
    "f = lambda: 2 * 2\n",
    "print(f())  # Output: 4\n",
    "\n",
    "#lambda x: def foo(x): return 1 / x   # <--- Não é uma expressão lambda válida\n",
    "# lambda: lambda  # <--- Também não é válida\n"
   ]
  },
  {
   "cell_type": "code",
   "execution_count": null,
   "id": "aa9b6a67",
   "metadata": {},
   "outputs": [
    {
     "name": "stdout",
     "output_type": "stream",
     "text": [
      "True\n",
      "8\n",
      "1.0\n",
      "4.605170185988092\n",
      "2.0\n",
      "-----------\n",
      "2.302585092994046\n"
     ]
    }
   ],
   "source": [
    "from math import e,exp,log\n",
    "from random import *\n",
    "\n",
    "print(log(e,e)==exp(0))\n",
    "\n",
    "print(int(random()*10+1))\n",
    "\n",
    "print(log(e))        # Output: 1.0 (ln(e) = 1)\n",
    "print(log(100))      \n",
    "print(log(100, 10))  \n",
    "print(\"-----------\")\n",
    "print(log(10, e))  # Fixed: use base e instead of 1"
   ]
  },
  {
   "cell_type": "code",
   "execution_count": 102,
   "id": "da6433b3",
   "metadata": {},
   "outputs": [
    {
     "name": "stdout",
     "output_type": "stream",
     "text": [
      "0 3.0\n"
     ]
    }
   ],
   "source": [
    "y=0\n",
    "def function(x,y):\n",
    "    #global y\n",
    "    y=1\n",
    "    assert y!=0 \n",
    "    try:\n",
    "        return x/y \n",
    "    except ZeroDivisionError:\n",
    "        raise ValueError \n",
    "\n",
    "try:\n",
    "    z= function(3,0)\n",
    "except ArithmeticError:\n",
    "    y+=1\n",
    "except:\n",
    "    y+=3\n",
    "    \n",
    "print(y,z)\n"
   ]
  },
  {
   "cell_type": "code",
   "execution_count": null,
   "id": "306867a8",
   "metadata": {},
   "outputs": [
    {
     "ename": "SyntaxError",
     "evalue": "name 'y' is parameter and global (180891146.py, line 3)",
     "output_type": "error",
     "traceback": [
      "  \u001b[36mCell\u001b[39m\u001b[36m \u001b[39m\u001b[32mIn[105]\u001b[39m\u001b[32m, line 3\u001b[39m\n\u001b[31m    \u001b[39m\u001b[31mglobal y\u001b[39m\n    ^\n\u001b[31mSyntaxError\u001b[39m\u001b[31m:\u001b[39m name 'y' is parameter and global\n"
     ]
    }
   ],
   "source": [
    "\n",
    "y = 0\n",
    "def function(x, param_y):   # Mude o nome do parâmetro\n",
    "    global y\n",
    "    y = 1\n",
    "    assert y != 0\n",
    "    try:\n",
    "        return x / y\n",
    "    except ZeroDivisionError:\n",
    "        raise ValueError\n",
    "\n",
    "try:\n",
    "    function(3, 0)\n",
    "except ArithmeticError:\n",
    "    y += 1\n",
    "except:\n",
    "    y += 3\n",
    "\n",
    "k = function\n",
    "print(y,k)"
   ]
  },
  {
   "cell_type": "code",
   "execution_count": 106,
   "id": "75942dec",
   "metadata": {},
   "outputs": [
    {
     "name": "stdout",
     "output_type": "stream",
     "text": [
      "['Charlie', 'Alice', 'Bob']\n"
     ]
    }
   ],
   "source": [
    "names = ['Alice', 'Bob', 'Charlie']\n",
    "names.sort(key=lambda x: (x[-1], x[-2]), reverse=True)\n",
    "print(names)\n"
   ]
  },
  {
   "cell_type": "code",
   "execution_count": 110,
   "id": "0df6885a",
   "metadata": {},
   "outputs": [
    {
     "name": "stdout",
     "output_type": "stream",
     "text": [
      "2\n",
      "3.0\n"
     ]
    }
   ],
   "source": [
    "import math\n",
    "x = math.e\n",
    "print(math.trunc(x))\n",
    "print(round(x,0))"
   ]
  },
  {
   "cell_type": "code",
   "execution_count": 111,
   "id": "fc1fde35",
   "metadata": {},
   "outputs": [
    {
     "name": "stdout",
     "output_type": "stream",
     "text": [
      "Start\n",
      "From Err block: \n"
     ]
    }
   ],
   "source": [
    "class Err(Exception):\n",
    "    def __init__(self,msg):\n",
    "        self.message=msg\n",
    "        \n",
    "    def __str__(self):\n",
    "        return \"From Err block: \" \n",
    "    \n",
    "try:\n",
    "    print(\"Start\")\n",
    "    raise Err(\"Error raised\")\n",
    "except Err as e:\n",
    "    print(e)\n",
    "else:\n",
    "    print(\"From else block\")\n",
    "    "
   ]
  },
  {
   "cell_type": "code",
   "execution_count": null,
   "id": "b949aaed",
   "metadata": {},
   "outputs": [
    {
     "name": "stdout",
     "output_type": "stream",
     "text": [
      "From try block\n",
      "From finally block\n"
     ]
    }
   ],
   "source": [
    "try:\n",
    "    print(\"From try block\")\n",
    "    #assert 1\n",
    "except AssertionError:\n",
    "    print(\"From except block\")\n",
    "finally:\n",
    "    print(\"From finally block\")"
   ]
  },
  {
   "cell_type": "code",
   "execution_count": 119,
   "id": "53bf7603",
   "metadata": {},
   "outputs": [
    {
     "ename": "TypeError",
     "evalue": "argument of type 'int' is not iterable",
     "output_type": "error",
     "traceback": [
      "\u001b[31m---------------------------------------------------------------------------\u001b[39m",
      "\u001b[31mTypeError\u001b[39m                                 Traceback (most recent call last)",
      "\u001b[36mCell\u001b[39m\u001b[36m \u001b[39m\u001b[32mIn[119]\u001b[39m\u001b[32m, line 1\u001b[39m\n\u001b[32m----> \u001b[39m\u001b[32m1\u001b[39m \u001b[38;5;28mprint\u001b[39m(\u001b[38;5;28;43;01mTrue\u001b[39;49;00m\u001b[43m \u001b[49m\u001b[38;5;129;43;01mnot\u001b[39;49;00m\u001b[43m \u001b[49m\u001b[38;5;129;43;01min\u001b[39;49;00m\u001b[43m \u001b[49m\u001b[32;43m123\u001b[39;49m)\n",
      "\u001b[31mTypeError\u001b[39m: argument of type 'int' is not iterable"
     ]
    }
   ],
   "source": [
    "print(True not in 123)"
   ]
  },
  {
   "cell_type": "code",
   "execution_count": 120,
   "id": "f997b819",
   "metadata": {},
   "outputs": [
    {
     "name": "stdout",
     "output_type": "stream",
     "text": [
      "1, 2, 3\n"
     ]
    }
   ],
   "source": [
    "dicionario = {\"a\": 1, \"b\": 2, \"c\": 3}\n",
    "\n",
    "# Join nos valores (precisa converter para string primeiro)\n",
    "valores = \", \".join(str(valor) for valor in dicionario.values())\n",
    "print(valores)  # 1, 2, 3"
   ]
  },
  {
   "cell_type": "code",
   "execution_count": 123,
   "id": "6fb0972b",
   "metadata": {},
   "outputs": [
    {
     "name": "stdout",
     "output_type": "stream",
     "text": [
      "13\n",
      "Ola mundo\n",
      "9\n"
     ]
    }
   ],
   "source": [
    "x=\"Ola mundo    \"      \n",
    "print(len(x))\n",
    "x=x.rstrip()\n",
    "\n",
    "print(x)\n",
    "print(len(x))\n"
   ]
  },
  {
   "cell_type": "code",
   "execution_count": 128,
   "id": "b1011558",
   "metadata": {},
   "outputs": [
    {
     "name": "stdout",
     "output_type": "stream",
     "text": [
      "1.0\n",
      "0\n",
      "1.0\n",
      "True\n",
      "4.0\n"
     ]
    }
   ],
   "source": [
    "num = 1_000/1000; print(num)\n",
    "s = str(num)[-1]; print(s)\n",
    "print(str(1.))\n",
    "print(s==str(1.)[-1])\n",
    "\n",
    "\n",
    "print(2_000_000/500_000)\n"
   ]
  },
  {
   "cell_type": "code",
   "execution_count": 132,
   "id": "ae1cfb27",
   "metadata": {},
   "outputs": [
    {
     "name": "stdout",
     "output_type": "stream",
     "text": [
      "1713769907936 1713763393424\n",
      "140715183469928 140715183469928\n",
      "True\n"
     ]
    }
   ],
   "source": [
    "class A:\n",
    "    def __init__(self, value):\n",
    "        self.var = value\n",
    "    \n",
    "obj1= A(15)\n",
    "obj2= A(15)\n",
    "print(id(obj1), id(obj2))\n",
    "print(id(obj1.var), id(obj2.var))\n",
    "print(obj1.var == obj2.var)"
   ]
  },
  {
   "cell_type": "code",
   "execution_count": null,
   "id": "40bd1c2c",
   "metadata": {},
   "outputs": [],
   "source": [
    "# inside test.py\n",
    "class Classy: pass\n",
    "\n",
    "# inside exam_04.py\n",
    "from one import Classy\n",
    "\n",
    "print(Classy.__module__)\n",
    "obj = Classy()\n"
   ]
  },
  {
   "cell_type": "code",
   "execution_count": 137,
   "id": "4be55eec",
   "metadata": {},
   "outputs": [
    {
     "name": "stdout",
     "output_type": "stream",
     "text": [
      "c:\\Users\\mario\\AppData\\Local\\Programs\\Python\\Python313\\Lib\\random.py\n"
     ]
    }
   ],
   "source": [
    "import random\n",
    "print(random.__file__)"
   ]
  },
  {
   "cell_type": "code",
   "execution_count": 145,
   "id": "f3272b82",
   "metadata": {},
   "outputs": [
    {
     "name": "stdout",
     "output_type": "stream",
     "text": [
      "1\n"
     ]
    }
   ],
   "source": [
    "class A:\n",
    "    #def __init__(self):\n",
    "    #    self.var = 0\n",
    "    pass\n",
    "class B(A): \n",
    "    var = 1\n",
    "class C(A): \n",
    "    var = 2\n",
    "class D(B,C): \n",
    "    pass\n",
    "\n",
    "d=D()\n",
    "print(d.var)\n",
    "\n"
   ]
  },
  {
   "cell_type": "code",
   "execution_count": 147,
   "id": "f34996d1",
   "metadata": {},
   "outputs": [
    {
     "name": "stdout",
     "output_type": "stream",
     "text": [
      "Mickey\n"
     ]
    }
   ],
   "source": [
    "class Mouse:\n",
    "    def __init__(self, name):\n",
    "        self.my_name = name\n",
    "    def __str__(self):\n",
    "        return self.my_name\n",
    "    \n",
    "the_mouse = Mouse(\"Mickey\")\n",
    "print(the_mouse)  # This will raise an error because __str__ is missing 'self' parameter"
   ]
  },
  {
   "cell_type": "code",
   "execution_count": 149,
   "id": "946eaee4",
   "metadata": {},
   "outputs": [
    {
     "name": "stdout",
     "output_type": "stream",
     "text": [
      "False\n",
      "False\n",
      "False\n"
     ]
    },
    {
     "ename": "NameError",
     "evalue": "name 'g' is not defined",
     "output_type": "error",
     "traceback": [
      "\u001b[31m---------------------------------------------------------------------------\u001b[39m",
      "\u001b[31mNameError\u001b[39m                                 Traceback (most recent call last)",
      "\u001b[36mCell\u001b[39m\u001b[36m \u001b[39m\u001b[32mIn[149]\u001b[39m\u001b[32m, line 16\u001b[39m\n\u001b[32m     14\u001b[39m \u001b[38;5;28mprint\u001b[39m(b() == \u001b[32m6\u001b[39m)\n\u001b[32m     15\u001b[39m \u001b[38;5;28mprint\u001b[39m(a == b)\n\u001b[32m---> \u001b[39m\u001b[32m16\u001b[39m \u001b[38;5;28mprint\u001b[39m(\u001b[38;5;28misinstance\u001b[39m(b,\u001b[38;5;28mtype\u001b[39m(\u001b[43mg\u001b[49m)))\n",
      "\u001b[31mNameError\u001b[39m: name 'g' is not defined"
     ]
    }
   ],
   "source": [
    "var = 1\n",
    "def foo():\n",
    "    global var\n",
    "    var += 1\n",
    "    \n",
    "    def g():\n",
    "        return var\n",
    "    return g\n",
    "a=foo()\n",
    "var+=1\n",
    "b=foo()\n",
    "\n",
    "print(a() == 6)\n",
    "print(b() == 6)\n",
    "print(a == b)\n",
    "print(isinstance(b,type(g)))"
   ]
  },
  {
   "cell_type": "code",
   "execution_count": null,
   "id": "32a4c19f",
   "metadata": {},
   "outputs": [
    {
     "ename": "SyntaxError",
     "evalue": "invalid syntax (3915588113.py, line 5)",
     "output_type": "error",
     "traceback": [
      "  \u001b[36mCell\u001b[39m\u001b[36m \u001b[39m\u001b[32mIn[153]\u001b[39m\u001b[32m, line 5\u001b[39m\n\u001b[31m    \u001b[39m\u001b[31mlambda y x: 2\u001b[39m\n             ^\n\u001b[31mSyntaxError\u001b[39m\u001b[31m:\u001b[39m invalid syntax\n"
     ]
    }
   ],
   "source": [
    "lambda x: []\n",
    "lambda: (1,1)\n",
    "\n",
    "#lambda x: return 1/x\n",
    "#lambda y x: 2\n"
   ]
  },
  {
   "cell_type": "code",
   "execution_count": 1,
   "id": "166f5f1b",
   "metadata": {},
   "outputs": [
    {
     "name": "stdout",
     "output_type": "stream",
     "text": [
      "['ola', 'pa123']\n"
     ]
    }
   ],
   "source": [
    "lista=['ola',\n",
    "       'pa'\n",
    "       '123']\n",
    "print(lista)\n"
   ]
  },
  {
   "cell_type": "code",
   "execution_count": 24,
   "id": "e6cb06c8",
   "metadata": {},
   "outputs": [
    {
     "name": "stdout",
     "output_type": "stream",
     "text": [
      "Windows-11-10.0.26100-SP0\n",
      "Windows\n"
     ]
    }
   ],
   "source": [
    "import platform\n",
    "\n",
    "print(platform.platform())  # ou platform.platform(0,0)\n",
    "print(platform.system())\n"
   ]
  },
  {
   "cell_type": "code",
   "execution_count": 15,
   "id": "1e8d1dd8",
   "metadata": {},
   "outputs": [
    {
     "name": "stdout",
     "output_type": "stream",
     "text": [
      "dog\n",
      "cat\n",
      "lion\n",
      "fox\n",
      "bat\n",
      "tiger\n",
      "mouse\n"
     ]
    }
   ],
   "source": [
    "for linha in open(\"animals.txt\", \"r\"):\n",
    "    print(linha.strip())  # .strip() remove o \\n no final de cada linha\n"
   ]
  },
  {
   "cell_type": "code",
   "execution_count": 16,
   "id": "53b0e2b9",
   "metadata": {},
   "outputs": [
    {
     "name": "stdout",
     "output_type": "stream",
     "text": [
      "nt\n",
      "d:\\OneDrive\\Documentos\\REPOS\\PYTHON\\Cursos_Python\\Meus-Programas\\Exames-SIMUL-G2\n"
     ]
    }
   ],
   "source": [
    "import os\n",
    "print(os.name)\n",
    "print(os.getcwd())  "
   ]
  },
  {
   "cell_type": "code",
   "execution_count": 19,
   "id": "5623f566",
   "metadata": {},
   "outputs": [
    {
     "ename": "TypeError",
     "evalue": "__init__() should return None, not 'str'",
     "output_type": "error",
     "traceback": [
      "\u001b[31m---------------------------------------------------------------------------\u001b[39m",
      "\u001b[31mTypeError\u001b[39m                                 Traceback (most recent call last)",
      "\u001b[36mCell\u001b[39m\u001b[36m \u001b[39m\u001b[32mIn[19]\u001b[39m\u001b[32m, line 5\u001b[39m\n\u001b[32m      3\u001b[39m         \u001b[38;5;28mself\u001b[39m.nome = nome\n\u001b[32m      4\u001b[39m         \u001b[38;5;28;01mreturn\u001b[39;00m \u001b[33m\"\u001b[39m\u001b[33malgo\u001b[39m\u001b[33m\"\u001b[39m   \u001b[38;5;66;03m# tentativa de retornar valor\u001b[39;00m\n\u001b[32m----> \u001b[39m\u001b[32m5\u001b[39m p=\u001b[43mPessoa\u001b[49m\u001b[43m(\u001b[49m\u001b[33;43m\"\u001b[39;49m\u001b[33;43mJoao\u001b[39;49m\u001b[33;43m\"\u001b[39;49m\u001b[43m)\u001b[49m\n",
      "\u001b[31mTypeError\u001b[39m: __init__() should return None, not 'str'"
     ]
    }
   ],
   "source": [
    "class Pessoa:\n",
    "    def __init__(self, nome):\n",
    "        self.nome = nome\n",
    "        return \"algo\"   # tentativa de retornar valor\n",
    "p=Pessoa(\"Joao\")"
   ]
  },
  {
   "cell_type": "code",
   "execution_count": 22,
   "id": "1b3ad860",
   "metadata": {},
   "outputs": [
    {
     "ename": "NameError",
     "evalue": "name '__module__' is not defined",
     "output_type": "error",
     "traceback": [
      "\u001b[31m---------------------------------------------------------------------------\u001b[39m",
      "\u001b[31mNameError\u001b[39m                                 Traceback (most recent call last)",
      "\u001b[36mCell\u001b[39m\u001b[36m \u001b[39m\u001b[32mIn[22]\u001b[39m\u001b[32m, line 1\u001b[39m\n\u001b[32m----> \u001b[39m\u001b[32m1\u001b[39m \u001b[38;5;28mprint\u001b[39m(\u001b[34;43m__module__\u001b[39;49m)\n",
      "\u001b[31mNameError\u001b[39m: name '__module__' is not defined"
     ]
    }
   ],
   "source": [
    "print(__module__)"
   ]
  },
  {
   "cell_type": "code",
   "execution_count": null,
   "id": "30010094",
   "metadata": {},
   "outputs": [
    {
     "name": "stdout",
     "output_type": "stream",
     "text": [
      "Erro\n"
     ]
    }
   ],
   "source": [
    "try:\n",
    "    print(ABCD)\n",
    "except:\n",
    "    print(\"Erro\")\n"
   ]
  },
  {
   "cell_type": "code",
   "execution_count": 26,
   "id": "7f72c5bc",
   "metadata": {},
   "outputs": [
    {
     "ename": "TypeError",
     "evalue": "'str' object doesn't support item deletion",
     "output_type": "error",
     "traceback": [
      "\u001b[31m---------------------------------------------------------------------------\u001b[39m",
      "\u001b[31mTypeError\u001b[39m                                 Traceback (most recent call last)",
      "\u001b[36mCell\u001b[39m\u001b[36m \u001b[39m\u001b[32mIn[26]\u001b[39m\u001b[32m, line 3\u001b[39m\n\u001b[32m      1\u001b[39m st = \u001b[33m\"\u001b[39m\u001b[33mola pa 123\u001b[39m\u001b[33m\"\u001b[39m\n\u001b[32m----> \u001b[39m\u001b[32m3\u001b[39m \u001b[38;5;28;01mdel\u001b[39;00m \u001b[43mst\u001b[49m\u001b[43m[\u001b[49m\u001b[32;43m0\u001b[39;49m\u001b[43m]\u001b[49m\n",
      "\u001b[31mTypeError\u001b[39m: 'str' object doesn't support item deletion"
     ]
    }
   ],
   "source": [
    "st = \"ola pa 123\"\n",
    "\n",
    "del st[0]\n"
   ]
  },
  {
   "cell_type": "code",
   "execution_count": null,
   "id": "12f72223",
   "metadata": {},
   "outputs": [],
   "source": [
    "list1= [[x for x in range(4)] for y in range(4)]\n",
    "for r in range(4):\n",
    "    for c in range(4):\n",
    "        list1[r][c] += 5\n",
    "        \n",
    "print(list1)\n",
    "    "
   ]
  },
  {
   "cell_type": "code",
   "execution_count": 30,
   "id": "9c84c143",
   "metadata": {},
   "outputs": [
    {
     "ename": "ValueError",
     "evalue": "factorial() not defined for negative values",
     "output_type": "error",
     "traceback": [
      "\u001b[31m---------------------------------------------------------------------------\u001b[39m",
      "\u001b[31mValueError\u001b[39m                                Traceback (most recent call last)",
      "\u001b[36mCell\u001b[39m\u001b[36m \u001b[39m\u001b[32mIn[30]\u001b[39m\u001b[32m, line 2\u001b[39m\n\u001b[32m      1\u001b[39m \u001b[38;5;28;01mimport\u001b[39;00m\u001b[38;5;250m \u001b[39m\u001b[34;01mmath\u001b[39;00m\n\u001b[32m----> \u001b[39m\u001b[32m2\u001b[39m \u001b[38;5;28mprint\u001b[39m(\u001b[43mmath\u001b[49m\u001b[43m.\u001b[49m\u001b[43mfactorial\u001b[49m\u001b[43m(\u001b[49m\u001b[43m-\u001b[49m\u001b[32;43m3\u001b[39;49m\u001b[43m)\u001b[49m)\n",
      "\u001b[31mValueError\u001b[39m: factorial() not defined for negative values"
     ]
    }
   ],
   "source": [
    "import math\n",
    "print(math.factorial(-3))"
   ]
  },
  {
   "cell_type": "code",
   "execution_count": 33,
   "id": "c0712aa8",
   "metadata": {},
   "outputs": [
    {
     "name": "stdout",
     "output_type": "stream",
     "text": [
      "Erro de divisao por zero\n"
     ]
    }
   ],
   "source": [
    "def my_func():\n",
    "    r = 10/0\n",
    "\n",
    "try:\n",
    "    my_func()\n",
    "except ZeroDivisionError:\n",
    "    print(\"Erro de divisao por zero\")\n"
   ]
  },
  {
   "cell_type": "code",
   "execution_count": null,
   "id": "0afe6a92",
   "metadata": {},
   "outputs": [
    {
     "name": "stderr",
     "output_type": "stream",
     "text": [
      "<>:1: SyntaxWarning: assertion is always true, perhaps remove parentheses?\n",
      "C:\\Users\\mario\\AppData\\Local\\Temp\\ipykernel_22176\\162742600.py:1: SyntaxWarning: assertion is always true, perhaps remove parentheses?\n",
      "  assert (False, \"olapa\")\n"
     ]
    }
   ],
   "source": [
    "assert (False, \"batatas\")\n",
    "\n"
   ]
  },
  {
   "cell_type": "code",
   "execution_count": 60,
   "id": "6e35f876",
   "metadata": {},
   "outputs": [
    {
     "name": "stdout",
     "output_type": "stream",
     "text": [
      "<class '__main__.MyClass'>\n",
      "MyClass\n",
      "MyClass\n"
     ]
    }
   ],
   "source": [
    "class MyClass:\n",
    "    pass\n",
    "\n",
    "#print(type(MyClass()))\n",
    "#print(type(MyClass ))\n",
    "\n",
    "obj = MyClass()  # Cria uma INSTÂNCIA da classe\n",
    "#print(\"type obj\", type(obj)) # Mostra o tipo dessa instância\n",
    "print(obj.__class__)  # Mostra a classe da instância\n",
    "print(MyClass.__name__)  # Mostra o nome da classe\n",
    "print(obj.__class__.__name__)\n",
    "#print(hasattr(MyClass(), 'myvar'))  # False"
   ]
  },
  {
   "cell_type": "code",
   "execution_count": 57,
   "id": "be6940e1",
   "metadata": {},
   "outputs": [
    {
     "data": {
      "text/plain": [
       "0"
      ]
     },
     "execution_count": 57,
     "metadata": {},
     "output_type": "execute_result"
    }
   ],
   "source": [
    "import os \n",
    "os.system(\"dir\")\n",
    "os.system(\"explorer.exe\")\n",
    "os.system(\"time /T\")  # Windows"
   ]
  },
  {
   "cell_type": "code",
   "execution_count": 64,
   "id": "fcb34d10",
   "metadata": {},
   "outputs": [
    {
     "ename": "TypeError",
     "evalue": "python_version_tuple() got an unexpected keyword argument 'terse'",
     "output_type": "error",
     "traceback": [
      "\u001b[31m---------------------------------------------------------------------------\u001b[39m",
      "\u001b[31mTypeError\u001b[39m                                 Traceback (most recent call last)",
      "\u001b[36mCell\u001b[39m\u001b[36m \u001b[39m\u001b[32mIn[64]\u001b[39m\u001b[32m, line 3\u001b[39m\n\u001b[32m      1\u001b[39m \u001b[38;5;28;01mimport\u001b[39;00m\u001b[38;5;250m \u001b[39m\u001b[34;01mplatform\u001b[39;00m\n\u001b[32m----> \u001b[39m\u001b[32m3\u001b[39m \u001b[38;5;28mprint\u001b[39m(\u001b[43mplatform\u001b[49m\u001b[43m.\u001b[49m\u001b[43mpython_version_tuple\u001b[49m\u001b[43m(\u001b[49m\u001b[43mterse\u001b[49m\u001b[43m=\u001b[49m\u001b[32;43m0\u001b[39;49m\u001b[43m)\u001b[49m)\n",
      "\u001b[31mTypeError\u001b[39m: python_version_tuple() got an unexpected keyword argument 'terse'"
     ]
    }
   ],
   "source": [
    "import platform\n",
    "\n",
    "print(platform.python_version_tuple(terse=0))"
   ]
  },
  {
   "cell_type": "code",
   "execution_count": 65,
   "id": "2c0a5f5a",
   "metadata": {},
   "outputs": [
    {
     "name": "stdout",
     "output_type": "stream",
     "text": [
      "[[0, 1, 2, 3], [0, 1, 2, 3], [0, 1, 2, 3], [0, 1, 2, 3]]\n"
     ]
    }
   ],
   "source": [
    "list1= [[x for x in range(4)] for y in range(4)]\n",
    "print(list1)"
   ]
  },
  {
   "cell_type": "code",
   "execution_count": null,
   "id": "893c7b24",
   "metadata": {},
   "outputs": [],
   "source": [
    "try:\n",
    "    1234\n",
    "    name='joe'\n",
    "    id=100\n",
    "    id2=id1\n",
    "except:\n",
    "    print('Error')\n",
    "    pass\n"
   ]
  },
  {
   "cell_type": "code",
   "execution_count": 70,
   "id": "c4d5adec",
   "metadata": {},
   "outputs": [
    {
     "name": "stdout",
     "output_type": "stream",
     "text": [
      "None\n",
      "None\n"
     ]
    }
   ],
   "source": [
    "class Exemplo:\n",
    "    def __init__(self, x):\n",
    "        self.x = x\n",
    "        # Retorna None implicitamente\n",
    "\n",
    "class Exemplo2:\n",
    "    def __init__(self, x):\n",
    "        self.x = x\n",
    "        return None  # Retorna None explicitamente (funciona)\n",
    "\n",
    "class Exemplo3:\n",
    "    def __init__(self, x):\n",
    "        self.x = x\n",
    "        return 42  # TypeError: __init__() should return None\n",
    "\n",
    "# Testando\n",
    "obj1 = Exemplo(10)\n",
    "resultado = obj1.__init__(20)  # Chamando explicitamente\n",
    "print(resultado)  # Output: None - prova que retorna um valor (None)\n",
    "\n",
    "obj2 = Exemplo2(30)\n",
    "print(obj2.__init__(40))  # Output: None"
   ]
  },
  {
   "cell_type": "code",
   "execution_count": 89,
   "id": "c4634333",
   "metadata": {},
   "outputs": [
    {
     "name": "stdout",
     "output_type": "stream",
     "text": [
      "ola\n"
     ]
    }
   ],
   "source": [
    "class A:\n",
    "    def __init__(self, name):\n",
    "        self.name=name\n",
    "    def __str__(self):\n",
    "        return str(self.name)\n",
    "    \n",
    "class B(A):\n",
    "    def __init__(self,name):\n",
    "        super().__init__(name)\n",
    "        #A.__init__(self,name)\n",
    "\n",
    "b=B(\"ola\")\n",
    "print(b) "
   ]
  },
  {
   "cell_type": "code",
   "execution_count": 94,
   "id": "04f7cd78",
   "metadata": {},
   "outputs": [
    {
     "name": "stdout",
     "output_type": "stream",
     "text": [
      "2025-09-13\n"
     ]
    }
   ],
   "source": [
    "import datetime \n",
    "\n",
    "print(datetime.date.today()) \n"
   ]
  },
  {
   "cell_type": "code",
   "execution_count": 104,
   "id": "9aca8ba7",
   "metadata": {},
   "outputs": [
    {
     "data": {
      "text/plain": [
       "3"
      ]
     },
     "execution_count": 104,
     "metadata": {},
     "output_type": "execute_result"
    }
   ],
   "source": [
    "#(lambda x: assert x!=2)(2)\n",
    "\n",
    "(lambda x: exec('assert x != 2') if x == 2 else x)(3)\n",
    "#(lambda x: x if x != 2 else \"not 2\")(2)  # Retorna None se x == 2"
   ]
  },
  {
   "cell_type": "code",
   "execution_count": null,
   "id": "1285404c",
   "metadata": {},
   "outputs": [],
   "source": [
    "impor"
   ]
  }
 ],
 "metadata": {
  "kernelspec": {
   "display_name": "Python 3",
   "language": "python",
   "name": "python3"
  },
  "language_info": {
   "codemirror_mode": {
    "name": "ipython",
    "version": 3
   },
   "file_extension": ".py",
   "mimetype": "text/x-python",
   "name": "python",
   "nbconvert_exporter": "python",
   "pygments_lexer": "ipython3",
   "version": "3.13.6"
  }
 },
 "nbformat": 4,
 "nbformat_minor": 5
}
