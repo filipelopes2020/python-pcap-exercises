{
 "cells": [
  {
   "cell_type": "code",
   "execution_count": 8,
   "id": "75d0bdad",
   "metadata": {},
   "outputs": [
    {
     "name": "stdout",
     "output_type": "stream",
     "text": [
      "0.8312381954224046\n"
     ]
    }
   ],
   "source": [
    "import random\n",
    "print(random.random()*10)"
   ]
  },
  {
   "cell_type": "code",
   "execution_count": 9,
   "id": "8a01a560",
   "metadata": {},
   "outputs": [
    {
     "ename": "ModuleNotFoundError",
     "evalue": "No module named 'system'",
     "output_type": "error",
     "traceback": [
      "\u001b[31m---------------------------------------------------------------------------\u001b[39m",
      "\u001b[31mModuleNotFoundError\u001b[39m                       Traceback (most recent call last)",
      "\u001b[36mCell\u001b[39m\u001b[36m \u001b[39m\u001b[32mIn[9]\u001b[39m\u001b[32m, line 1\u001b[39m\n\u001b[32m----> \u001b[39m\u001b[32m1\u001b[39m \u001b[38;5;28;01mimport\u001b[39;00m\u001b[38;5;250m \u001b[39m\u001b[34;01msystem\u001b[39;00m\n\u001b[32m      2\u001b[39m \u001b[38;5;28mprint\u001b[39m(system.system())\n",
      "\u001b[31mModuleNotFoundError\u001b[39m: No module named 'system'"
     ]
    }
   ],
   "source": [
    "import system\n",
    "print(system.system())"
   ]
  },
  {
   "cell_type": "code",
   "execution_count": 37,
   "id": "39187ef9",
   "metadata": {},
   "outputs": [
    {
     "data": {
      "text/plain": [
       "17"
      ]
     },
     "execution_count": 37,
     "metadata": {},
     "output_type": "execute_result"
    }
   ],
   "source": [
    "import random\n",
    "list1=[10,17,12,122]\n",
    "random.choices([\"spam\", \"ham\", \"eggs\"], k=2)\n",
    "#random.choice({\"spam\", \"ham\", \"eggs\"}) \n",
    "random.choice(list1)"
   ]
  },
  {
   "cell_type": "code",
   "execution_count": null,
   "id": "d4cc8731",
   "metadata": {},
   "outputs": [
    {
     "name": "stdout",
     "output_type": "stream",
     "text": [
      "LuigiCandeias\n"
     ]
    }
   ],
   "source": [
    "import random\n",
    "\n",
    "cores = {1: \"MarioCandeias\", 10:\"LuigiCandeias\", 200:\"PeachCandeias\"}\n",
    "#print(random.choice(cores))\n",
    "\n",
    "print(cores[10])\n"
   ]
  },
  {
   "cell_type": "code",
   "execution_count": 63,
   "id": "2c6c497f",
   "metadata": {},
   "outputs": [
    {
     "data": {
      "text/plain": [
       "['eggs', 'spam']"
      ]
     },
     "execution_count": 63,
     "metadata": {},
     "output_type": "execute_result"
    }
   ],
   "source": [
    "import random\n",
    "random.sample([\"spam\", \"ham\", \"eggs\",\"batatas\"], k=2)"
   ]
  },
  {
   "cell_type": "code",
   "execution_count": 65,
   "id": "9417c4d3",
   "metadata": {},
   "outputs": [
    {
     "name": "stdout",
     "output_type": "stream",
     "text": [
      "10.0.26100\n",
      "<class 'str'>\n"
     ]
    }
   ],
   "source": [
    "import platform\n",
    "print(platform.version())\n",
    "print(type(platform.version()))"
   ]
  },
  {
   "cell_type": "code",
   "execution_count": 68,
   "id": "ab305adc",
   "metadata": {},
   "outputs": [
    {
     "name": "stdout",
     "output_type": "stream",
     "text": [
      "Windows-11\n",
      "Windows-11\n",
      "Windows-11\n",
      "Windows-11-10.0.26100-SP0\n"
     ]
    }
   ],
   "source": [
    "import platform\n",
    "print(platform.platform(aliased=3, terse=3))\n",
    "print(platform.platform(aliased=2, terse=2))\n",
    "print(platform.platform(aliased=1, terse=1))\n",
    "print(platform.platform(aliased=0, terse=0))"
   ]
  },
  {
   "cell_type": "code",
   "execution_count": 87,
   "id": "8fea226c",
   "metadata": {},
   "outputs": [
    {
     "name": "stdout",
     "output_type": "stream",
     "text": [
      "['AndroidVer', 'IOSVersionInfo', '_Processor', '_WIN32_CLIENT_RELEASES', '_WIN32_SERVER_RELEASES', '__builtins__', '__cached__', '__copyright__', '__doc__', '__file__', '__loader__', '__name__', '__package__', '__spec__', '__version__', '_comparable_version', '_default_architecture', '_follow_symlinks', '_get_machine_win32', '_java_getprop', '_mac_ver_xml', '_node', '_norm_version', '_os_release_cache', '_os_release_candidates', '_parse_os_release', '_platform', '_platform_cache', '_sys_version', '_sys_version_cache', '_syscmd_file', '_syscmd_ver', '_uname_cache', '_unknown_as_blank', '_ver_stages', '_win32_ver', '_wmi', '_wmi_query', 'android_ver', 'architecture', 'collections', 'freedesktop_os_release', 'functools', 'ios_ver', 'itertools', 'java_ver', 'libc_ver', 'mac_ver', 'machine', 'node', 'os', 'platform', 'processor', 'python_branch', 'python_build', 'python_compiler', 'python_implementation', 'python_revision', 'python_version', 'python_version_tuple', 're', 'release', 'sys', 'system', 'system_alias', 'uname', 'uname_result', 'version', 'win32_edition', 'win32_is_iot', 'win32_ver']\n",
      "Windows-11-10.0.26100-SP0\n"
     ]
    },
    {
     "data": {
      "text/plain": [
       "'CPython'"
      ]
     },
     "execution_count": 87,
     "metadata": {},
     "output_type": "execute_result"
    }
   ],
   "source": [
    "import platform\n",
    "print(dir(platform))\n",
    "print(platform.platform())\n",
    "#print(dir(None))\n",
    "#print(dir(1))\n",
    "platform.version()\n",
    "platform.python_implementation()"
   ]
  },
  {
   "cell_type": "code",
   "execution_count": 78,
   "id": "9accf186",
   "metadata": {},
   "outputs": [
    {
     "ename": "NameError",
     "evalue": "name 'math' is not defined",
     "output_type": "error",
     "traceback": [
      "\u001b[31m---------------------------------------------------------------------------\u001b[39m",
      "\u001b[31mNameError\u001b[39m                                 Traceback (most recent call last)",
      "\u001b[36mCell\u001b[39m\u001b[36m \u001b[39m\u001b[32mIn[78]\u001b[39m\u001b[32m, line 2\u001b[39m\n\u001b[32m      1\u001b[39m \u001b[38;5;28;01mfrom\u001b[39;00m\u001b[38;5;250m \u001b[39m\u001b[34;01mmath\u001b[39;00m\u001b[38;5;250m \u001b[39m\u001b[38;5;28;01mimport\u001b[39;00m factorial\n\u001b[32m----> \u001b[39m\u001b[32m2\u001b[39m \u001b[38;5;28mprint\u001b[39m(\u001b[43mmath\u001b[49m.factorial(\u001b[32m5\u001b[39m))\n",
      "\u001b[31mNameError\u001b[39m: name 'math' is not defined"
     ]
    }
   ],
   "source": [
    "from math import factorial\n",
    "print(math.factorial(5))"
   ]
  },
  {
   "cell_type": "code",
   "execution_count": 172,
   "id": "4fe999cd",
   "metadata": {},
   "outputs": [
    {
     "name": "stdout",
     "output_type": "stream",
     "text": [
      "5\n",
      "[2]\n"
     ]
    }
   ],
   "source": [
    "from random import *\n",
    "print(randint(1, 5))\n",
    "print(sample([randint(1,3)], 1))"
   ]
  },
  {
   "cell_type": "code",
   "execution_count": null,
   "id": "408f65c0",
   "metadata": {},
   "outputs": [
    {
     "name": "stdout",
     "output_type": "stream",
     "text": [
      "16.0\n"
     ]
    }
   ],
   "source": [
    "import math\n",
    "\n",
    "# Triângulo retângulo com catetos 3 e 4\n",
    "resultado = math.hypot(3, 4)\n",
    "resultado = math.hypot(-16)\n",
    "\n",
    "print(resultado)  # 5.0\n"
   ]
  },
  {
   "cell_type": "code",
   "execution_count": 191,
   "id": "c15a00f1",
   "metadata": {},
   "outputs": [
    {
     "name": "stdout",
     "output_type": "stream",
     "text": [
      "80\n",
      "0.2554450164868458\n",
      "46\n"
     ]
    }
   ],
   "source": [
    "# Definir seed\n",
    "import random\n",
    "random.seed(5, 2)\n",
    "\n",
    "# Gerar números aleatórios\n",
    "print(random.randint(1, 100))  # Sempre será 74\n",
    "print(random.random())          # Sempre será 0.5714025946899135\n",
    "print(random.randint(1, 100))  # Sempre será 5"
   ]
  }
 ],
 "metadata": {
  "kernelspec": {
   "display_name": "Python 3",
   "language": "python",
   "name": "python3"
  },
  "language_info": {
   "codemirror_mode": {
    "name": "ipython",
    "version": 3
   },
   "file_extension": ".py",
   "mimetype": "text/x-python",
   "name": "python",
   "nbconvert_exporter": "python",
   "pygments_lexer": "ipython3",
   "version": "3.13.6"
  }
 },
 "nbformat": 4,
 "nbformat_minor": 5
}
