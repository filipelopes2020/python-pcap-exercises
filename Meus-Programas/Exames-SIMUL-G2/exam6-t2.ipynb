{
 "cells": [
  {
   "cell_type": "code",
   "execution_count": 3,
   "id": "9191902d",
   "metadata": {},
   "outputs": [
    {
     "name": "stdout",
     "output_type": "stream",
     "text": [
      "['C', 'h', 'e', 'w', 'i', 'e']\n",
      "['H', 'a', 'n']\n",
      "['L', 'u', 'k', 'e']\n",
      "['L', 'H', 'a', 'n']\n",
      "---\n",
      "Error\n",
      "Done\n",
      "['L', 'H', 'a', 'n']\n",
      "['L', 'H', 'a', 'n']\n",
      "['L', 'u', 'k', 'e']\n"
     ]
    }
   ],
   "source": [
    "list_1 = list('Chewie')\n",
    "list_2 = list('Han')\n",
    "list_3 = list('Luke')\n",
    "    \n",
    "print(list_1)                # ['C', 'h', 'e', 'w', 'i', 'e']\n",
    "print(list_2)                # ['H', 'a', 'n']\n",
    "print(list_3)                # ['L', 'u', 'k', 'e']\n",
    "    \n",
    "try:\n",
    "    list_1=list_2            # list_1 and List_2 are now two variables pointing to the SAME list\n",
    "    #print(id(list_1))        # 139761980335760\n",
    "    #print(id(list_2))        # 139761980335760\n",
    "    list_2.insert(0,list_3[0])\n",
    "    print(list_2)          \n",
    "    print(\"---\")\n",
    "    assert list_1[0] == 'H'  # this is False, so AssertError exception will be raised\n",
    "except:\n",
    "    print('Error')           # Error\n",
    "else:\n",
    "    print('OK')\n",
    "finally:\n",
    "    print('Done')            # Done\n",
    "    \n",
    "print(list_1)                # ['L', 'H', 'a', 'n']\n",
    "print(list_2)                # ['L', 'H', 'a', 'n']\n",
    "print(list_3)                # ['L', 'u', 'k', 'e']"
   ]
  },
  {
   "cell_type": "code",
   "execution_count": 23,
   "id": "9621653a",
   "metadata": {},
   "outputs": [
    {
     "name": "stdout",
     "output_type": "stream",
     "text": [
      "['M', 'a', 'r', 'i', 'o', '-', ' ', 'C', 'a', 'n', 'd', 'e', 'i', 'a', 's']\n",
      "Mario- Candeias\n",
      "Mario- CandeiaSs\n"
     ]
    }
   ],
   "source": [
    "lista=list(\"Mario Candeias\")\n",
    "lista.insert(5,'-')\n",
    "print(lista)\n",
    "lista=\"\".join(lista)\n",
    "print(lista)\n",
    "lista=list(lista)\n",
    "lista.insert(-1,'S')   \n",
    "lista=\"\".join(lista)\n",
    "print(lista)\n"
   ]
  },
  {
   "cell_type": "code",
   "execution_count": 24,
   "id": "1c000c44",
   "metadata": {},
   "outputs": [
    {
     "name": "stdout",
     "output_type": "stream",
     "text": [
      "[1, 2, 4, 8, 16]\n"
     ]
    }
   ],
   "source": [
    "def my_func(n):\n",
    "    pwr = 1\n",
    "    for i in range(n):\n",
    "        yield pwr\n",
    "        pwr *= 2\n",
    "    \n",
    "t = [x for x in my_func(5)]\n",
    "print(t)"
   ]
  },
  {
   "cell_type": "code",
   "execution_count": 27,
   "id": "a032d1cb",
   "metadata": {},
   "outputs": [
    {
     "name": "stdout",
     "output_type": "stream",
     "text": [
      "Mario filipe lopes candeias\n"
     ]
    }
   ],
   "source": [
    "my_list = list('mARIO Filipe LOPES candeias')\n",
    "print(''.join(my_list).capitalize())"
   ]
  },
  {
   "cell_type": "code",
   "execution_count": 28,
   "id": "21cde856",
   "metadata": {},
   "outputs": [
    {
     "name": "stdout",
     "output_type": "stream",
     "text": [
      "[[0, 1, 2, 3], [3, 4, 5, 6], [6, 7, 8, 9]]\n"
     ]
    }
   ],
   "source": [
    "my_l = [[i+j for i in range(1,5,1)] for j in range(-1,6,3)]\n",
    "print(my_l)\n"
   ]
  },
  {
   "cell_type": "code",
   "execution_count": 4,
   "id": "e01fdff9",
   "metadata": {},
   "outputs": [
    {
     "name": "stdout",
     "output_type": "stream",
     "text": [
      "['Leo', 'and', 'Chloe', 'love', 'apple', 'pie']\n",
      "['Leo', 'and', 'Chloe', 'love', 'apple', 'pie']\n",
      "Leo\n"
     ]
    }
   ],
   "source": [
    "x = \"Leo and Chloe love apple pie\"\n",
    "y = x.split(); print(y)\n",
    "z = sorted(y); print(y)\n",
    "print(z[1])"
   ]
  },
  {
   "cell_type": "code",
   "execution_count": 13,
   "id": "b803a524",
   "metadata": {},
   "outputs": [
    {
     "name": "stdout",
     "output_type": "stream",
     "text": [
      "g\n",
      "\n"
     ]
    }
   ],
   "source": [
    "f = open('animals.txt','rt')    # Line 1 \n",
    "#data = f.readlines()[:5] \n",
    "#data = f.readlines(5) \n",
    "data = f.readline()[2:]  \n",
    "f.close()                    \n",
    "print(data)"
   ]
  },
  {
   "cell_type": "code",
   "execution_count": 17,
   "id": "cba1009f",
   "metadata": {},
   "outputs": [
    {
     "name": "stdout",
     "output_type": "stream",
     "text": [
      "*C3POC3POC3POC3POC3POC3POC3POC3POC3POC3PO*\n",
      "OK\n",
      "Done\n"
     ]
    }
   ],
   "source": [
    "def my_func(x,y):\n",
    "    return \"*\"+x*y+\"*\"\n",
    " \n",
    "try:\n",
    "    print(my_func('C3PO',10))        # C3POC3PO\n",
    "except TypeError:\n",
    "    print('TypeError')\n",
    "except ValueError:\n",
    "    print('ValueError')\n",
    "except:\n",
    "    print('Error')\n",
    "else:\n",
    "    print('OK')                    # OK\n",
    "finally:\n",
    "    print('Done')   "
   ]
  },
  {
   "cell_type": "code",
   "execution_count": 18,
   "id": "5b171e9b",
   "metadata": {},
   "outputs": [
    {
     "name": "stdout",
     "output_type": "stream",
     "text": [
      "2\n",
      "3\n",
      "3\n",
      "3\n",
      "5\n",
      "5\n"
     ]
    }
   ],
   "source": [
    "class Feline:\n",
    "    def __init__(self, f=1):\n",
    "        self.f = +f\n",
    "        self.g = -f\n",
    "    def reset(self, f=2):\n",
    "        self.f += f\n",
    "        return self.f\n",
    "    \n",
    "cat1 = Feline(2)\n",
    "print(cat1.f)    # 2\n",
    "cat2 = Feline(3)\n",
    "print(cat2.f)    # 3\n",
    "cat1 = cat2\n",
    "print(cat1.f)    # 3\n",
    "print(cat2.f)    # 3\n",
    "cat2.reset()\n",
    "print(cat1.f)    # 5\n",
    "print(cat2.f)    # 5"
   ]
  },
  {
   "cell_type": "code",
   "execution_count": 24,
   "id": "04434a87",
   "metadata": {},
   "outputs": [
    {
     "name": "stdout",
     "output_type": "stream",
     "text": [
      "24.0\n"
     ]
    }
   ],
   "source": [
    "from math import sqrt as s\n",
    "sqrt=(576,)\n",
    "result = s(sqrt[0])\n",
    "print(result)\n"
   ]
  },
  {
   "cell_type": "code",
   "execution_count": 31,
   "id": "ec628366",
   "metadata": {},
   "outputs": [
    {
     "name": "stdout",
     "output_type": "stream",
     "text": [
      "30\n"
     ]
    }
   ],
   "source": [
    "x = 500//2              # x = 2 but that does not really matter\n",
    "func = lambda x:30\n",
    "print(func(x))        # 3"
   ]
  },
  {
   "cell_type": "code",
   "execution_count": 40,
   "id": "173d1bfe",
   "metadata": {},
   "outputs": [
    {
     "name": "stdout",
     "output_type": "stream",
     "text": [
      "True\n",
      "False\n",
      "False\n",
      "True\n",
      "True\n"
     ]
    }
   ],
   "source": [
    "class A:\n",
    "    a=0\n",
    "    def __init__(self, x, y):\n",
    "        self.b = x\n",
    "        self.c = y\n",
    "    \n",
    "class B(A):\n",
    "    b = 0\n",
    "    def __init__(self, x, y, k):\n",
    "        super().__init__(x, y)\n",
    "        if k % 2 ==0:\n",
    "            self.e = k\n",
    "\n",
    "c = B(2,5,7)\n",
    "c.f = 4\n",
    "print(issubclass(B, A))        \n",
    "print(issubclass(A, B))        \n",
    "print(hasattr(c, 'e'))         \n",
    "print(hasattr(c, 'b'))         \n",
    "print(hasattr(c, 'f'))         "
   ]
  },
  {
   "cell_type": "code",
   "execution_count": 13,
   "id": "cbcedf4f",
   "metadata": {},
   "outputs": [
    {
     "name": "stdout",
     "output_type": "stream",
     "text": [
      "l: 11\n",
      "m: 10\n",
      "2\n",
      "2\n",
      "{'l': 11, '_Lambda__m': 10, '__n': 3}\n"
     ]
    }
   ],
   "source": [
    "class Lambda():\n",
    "    L=2\n",
    "    def __init__(self, x = 10):\n",
    "        self.l = x + 1\n",
    "        self.__m = x\n",
    "    def set(self, y = 2):\n",
    "        self.k = y + 1\n",
    "    \n",
    "class Omega(Lambda):\n",
    "    M=2\n",
    "    def __str__(self):\n",
    "        #super().set(6)\n",
    "        #print(\"k:\",self.k)\n",
    "        \n",
    "        print(\"l:\",self.l)\n",
    "        print(\"m:\", self._Lambda__m)        \n",
    "        print(str(super().L))\n",
    "        return str(super().L)\n",
    "    \n",
    "m = Omega()\n",
    "m.__n=3\n",
    "print(m)\n",
    "hasattr(m,'k') #returns True\n",
    "print(m.__dict__)"
   ]
  },
  {
   "cell_type": "code",
   "execution_count": 16,
   "id": "ef41a95c",
   "metadata": {},
   "outputs": [
    {
     "name": "stdout",
     "output_type": "stream",
     "text": [
      "True\n",
      "False\n",
      "False\n",
      "True\n",
      "False\n",
      "True\n"
     ]
    }
   ],
   "source": [
    "print(bool(3))\n",
    "print(bool(0))\n",
    "print(bool(\"\"))\n",
    "print(bool(\"Hello\"))\n",
    "print(bool([]))\n",
    "print(bool([1, 2, 3]))"
   ]
  },
  {
   "cell_type": "code",
   "execution_count": 20,
   "id": "f53340e5",
   "metadata": {},
   "outputs": [
    {
     "name": "stdout",
     "output_type": "stream",
     "text": [
      "['koala', 'apple', 'Polo', '1234Bz']\n",
      "koala\n"
     ]
    }
   ],
   "source": [
    "my_list = ['apple', 'koala', '1234Bz', 'Polo']\n",
    "my_list.sort(key = lambda x: x[::-1])\n",
    "    \n",
    "print(my_list)        # ['koala', 'apple', 'Polo', '1234Bz']\n",
    "print(my_list[0])     # koala"
   ]
  },
  {
   "cell_type": "code",
   "execution_count": null,
   "id": "8703751e",
   "metadata": {},
   "outputs": [
    {
     "name": "stdout",
     "output_type": "stream",
     "text": [
      "{97: 'a', 101: 'e', 114: 'r', 100: 'd'}\n",
      "a d e r "
     ]
    },
    {
     "ename": "ValueError",
     "evalue": "dictionary update sequence element #0 has length 1; 2 is required",
     "output_type": "error",
     "traceback": [
      "\u001b[31m---------------------------------------------------------------------------\u001b[39m",
      "\u001b[31mValueError\u001b[39m                                Traceback (most recent call last)",
      "\u001b[36mCell\u001b[39m\u001b[36m \u001b[39m\u001b[32mIn[36]\u001b[39m\u001b[32m, line 13\u001b[39m\n\u001b[32m      9\u001b[39m \u001b[38;5;28;01mfor\u001b[39;00m j \u001b[38;5;129;01min\u001b[39;00m \u001b[38;5;28msorted\u001b[39m(l.keys()):  \u001b[38;5;66;03m# 🔥 ordena as chaves (97, 100, 101, 114)\u001b[39;00m\n\u001b[32m     10\u001b[39m \u001b[38;5;66;03m#for j in l.keys():\u001b[39;00m\n\u001b[32m     11\u001b[39m     \u001b[38;5;28mprint\u001b[39m(l[j], end=\u001b[33m'\u001b[39m\u001b[33m \u001b[39m\u001b[33m'\u001b[39m)\n\u001b[32m---> \u001b[39m\u001b[32m13\u001b[39m l = \u001b[38;5;28;43mdict\u001b[39;49m\u001b[43m(\u001b[49m\u001b[38;5;28;43msorted\u001b[39;49m\u001b[43m(\u001b[49m\u001b[43ml\u001b[49m\u001b[43m.\u001b[49m\u001b[43mvalues\u001b[49m\u001b[43m(\u001b[49m\u001b[43m)\u001b[49m\u001b[43m)\u001b[49m\u001b[43m)\u001b[49m\n\u001b[32m     14\u001b[39m \u001b[38;5;28mprint\u001b[39m(\u001b[33m\"\u001b[39m\u001b[38;5;130;01m\\n\u001b[39;00m\u001b[33m\"\u001b[39m, l)    \n",
      "\u001b[31mValueError\u001b[39m: dictionary update sequence element #0 has length 1; 2 is required"
     ]
    }
   ],
   "source": [
    "l={}\n",
    "for i in 'Skywalker':\n",
    "    if i in 'Vader':\n",
    "        l[ord(i)]=i\n",
    "else:\n",
    "    l[ord('d')]='d' \n",
    "\n",
    "print(l)    \n",
    "for j in sorted(l.keys()):  # 🔥 ordena as chaves (97, 100, 101, 114)\n",
    "#for j in l.keys():\n",
    "    print(l[j], end=' ')\n",
    "\n",
    "l = dict(sorted(l.values))\n",
    "print(\"\\n\", l)    "
   ]
  }
 ],
 "metadata": {
  "kernelspec": {
   "display_name": "Python 3",
   "language": "python",
   "name": "python3"
  },
  "language_info": {
   "codemirror_mode": {
    "name": "ipython",
    "version": 3
   },
   "file_extension": ".py",
   "mimetype": "text/x-python",
   "name": "python",
   "nbconvert_exporter": "python",
   "pygments_lexer": "ipython3",
   "version": "3.13.6"
  }
 },
 "nbformat": 4,
 "nbformat_minor": 5
}
