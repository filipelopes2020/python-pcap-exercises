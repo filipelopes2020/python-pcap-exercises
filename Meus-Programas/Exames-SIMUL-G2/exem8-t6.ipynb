{
 "cells": [
  {
   "cell_type": "code",
   "execution_count": 3,
   "id": "587a9194",
   "metadata": {},
   "outputs": [
    {
     "name": "stdout",
     "output_type": "stream",
     "text": [
      "1784032494784\n"
     ]
    },
    {
     "ename": "TypeError",
     "evalue": "'tuple' object does not support item assignment",
     "output_type": "error",
     "traceback": [
      "\u001b[31m---------------------------------------------------------------------------\u001b[39m",
      "\u001b[31mTypeError\u001b[39m                                 Traceback (most recent call last)",
      "\u001b[36mCell\u001b[39m\u001b[36m \u001b[39m\u001b[32mIn[3]\u001b[39m\u001b[32m, line 5\u001b[39m\n\u001b[32m      2\u001b[39m \u001b[38;5;28mprint\u001b[39m(\u001b[38;5;28mid\u001b[39m(t))  \u001b[38;5;66;03m# Mostra endereço de memória\u001b[39;00m\n\u001b[32m      4\u001b[39m \u001b[38;5;66;03m#t.add(4)    # ERRO! Tuple não tem método add()\u001b[39;00m\n\u001b[32m----> \u001b[39m\u001b[32m5\u001b[39m \u001b[43mt\u001b[49m\u001b[43m[\u001b[49m\u001b[32;43m0\u001b[39;49m\u001b[43m]\u001b[49m = \u001b[32m10\u001b[39m   \u001b[38;5;66;03m# ERRO! Não pode modificar elementos\u001b[39;00m\n",
      "\u001b[31mTypeError\u001b[39m: 'tuple' object does not support item assignment"
     ]
    }
   ],
   "source": [
    "t = (1, 2, 3)\n",
    "print(id(t))  # Mostra endereço de memória\n",
    "\n",
    "#t.add(4)    # ERRO! Tuple não tem método add()\n",
    "t[0] = 10   # ERRO! Não pode modificar elementos"
   ]
  },
  {
   "cell_type": "code",
   "execution_count": null,
   "id": "bd3ecb48",
   "metadata": {},
   "outputs": [],
   "source": [
    "from typing import final\n",
    "\n",
    "class Base:\n",
    "    @final\n",
    "    def nao_sobrescreva(self): pass\n",
    "\n",
    "class Derivada(Base):\n",
    "    def nao_sobrescreva(self): \n",
    "        print(\"Tentando sobrescrever\")  # ERRO! Não pode sobrescrever método final\n",
    "        \n",
    "    def batatas(): \n",
    "        print(\"batatas\")    \n",
    "        \n",
    "d = Derivada\n",
    "d.nao_sobrescreva()\n",
    "#d.batatas()"
   ]
  },
  {
   "cell_type": "code",
   "execution_count": 17,
   "id": "87ad75ff",
   "metadata": {},
   "outputs": [
    {
     "ename": "AttributeError",
     "evalue": "'A' object has no attribute 'x'",
     "output_type": "error",
     "traceback": [
      "\u001b[31m---------------------------------------------------------------------------\u001b[39m",
      "\u001b[31mAttributeError\u001b[39m                            Traceback (most recent call last)",
      "\u001b[36mCell\u001b[39m\u001b[36m \u001b[39m\u001b[32mIn[17]\u001b[39m\u001b[32m, line 8\u001b[39m\n\u001b[32m      5\u001b[39m         \u001b[38;5;28mself\u001b[39m.y = \u001b[32m11\u001b[39m\n\u001b[32m      7\u001b[39m a = A()\n\u001b[32m----> \u001b[39m\u001b[32m8\u001b[39m \u001b[38;5;28mprint\u001b[39m(\u001b[43ma\u001b[49m\u001b[43m.\u001b[49m\u001b[43mx\u001b[49m)  \u001b[38;5;66;03m# 10\u001b[39;00m\n\u001b[32m      9\u001b[39m \u001b[38;5;28mprint\u001b[39m(a.y)  \u001b[38;5;66;03m# 11\u001b[39;00m\n",
      "\u001b[31mAttributeError\u001b[39m: 'A' object has no attribute 'x'"
     ]
    }
   ],
   "source": [
    "class A:\n",
    "    def __init__(self):\n",
    "        self.x = 10\n",
    "    def __init__(self):        \n",
    "        self.y = 11\n",
    "\n",
    "a = A()\n",
    "print(a.x)  # 10\n",
    "print(a.y)  # 11"
   ]
  },
  {
   "cell_type": "code",
   "execution_count": 19,
   "id": "3d0ec08e",
   "metadata": {},
   "outputs": [
    {
     "name": "stdout",
     "output_type": "stream",
     "text": [
      "0\n",
      "1\n",
      "2\n",
      "3\n"
     ]
    }
   ],
   "source": [
    "# Iterator criado SEM yield\n",
    "class Contador:\n",
    "    def __init__(self, limite):\n",
    "        self.limite = limite\n",
    "        self.atual = 0\n",
    "    \n",
    "    def __iter__(self):\n",
    "        return self\n",
    "    \n",
    "    def __next__(self):\n",
    "        if self.atual < self.limite:\n",
    "            valor = self.atual\n",
    "            self.atual += 1\n",
    "            return valor\n",
    "        raise StopIteration\n",
    "\n",
    "# Uso\n",
    "for num in Contador(4):\n",
    "    print(num)  # Output: 0, 1, 2"
   ]
  },
  {
   "cell_type": "code",
   "execution_count": 28,
   "id": "62a252dd",
   "metadata": {},
   "outputs": [
    {
     "name": "stdout",
     "output_type": "stream",
     "text": [
      "0\n",
      "1\n",
      "2\n",
      "3\n",
      "Iterator esgotado.\n"
     ]
    }
   ],
   "source": [
    "class MeuIterator:\n",
    "    def __init__(self, dados):\n",
    "        self.dados = dados\n",
    "        self.index = 0\n",
    "    \n",
    "    def __iter__(self):\n",
    "        return self\n",
    "    \n",
    "    def __next__(self):\n",
    "        if self.index < len(self.dados):\n",
    "            resultado = self.dados[self.index]\n",
    "            self.index += 1\n",
    "            return resultado\n",
    "        raise StopIteration\n",
    "\n",
    "# É um iterator válido\n",
    "iterator = MeuIterator([1, 4])\n",
    "try:\n",
    "    for item in range(4):\n",
    "        #print(next(iterator))  # 1\n",
    "        print(item)\n",
    "except StopIteration as e:\n",
    "    print(\"Iteração finalizada:\", e)\n",
    "finally:\n",
    "    print(\"Iterator esgotado.\")\n"
   ]
  }
 ],
 "metadata": {
  "kernelspec": {
   "display_name": "Python 3",
   "language": "python",
   "name": "python3"
  },
  "language_info": {
   "codemirror_mode": {
    "name": "ipython",
    "version": 3
   },
   "file_extension": ".py",
   "mimetype": "text/x-python",
   "name": "python",
   "nbconvert_exporter": "python",
   "pygments_lexer": "ipython3",
   "version": "3.13.6"
  }
 },
 "nbformat": 4,
 "nbformat_minor": 5
}
