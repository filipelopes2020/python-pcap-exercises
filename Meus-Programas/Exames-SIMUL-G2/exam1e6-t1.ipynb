{
 "cells": [
  {
   "cell_type": "code",
   "execution_count": 3,
   "id": "d536fba9",
   "metadata": {},
   "outputs": [
    {
     "name": "stdout",
     "output_type": "stream",
     "text": [
      "R2D2 is friend with C3PO\n"
     ]
    }
   ],
   "source": [
    "my_list = ['R2D2', 'C3PO']\n",
    "#print(my_list.join(' is friend with '))\n",
    "print(' is friend with '.join(my_list))"
   ]
  },
  {
   "cell_type": "code",
   "execution_count": 6,
   "id": "a99e85f8",
   "metadata": {},
   "outputs": [
    {
     "name": "stdout",
     "output_type": "stream",
     "text": [
      "CPython\n",
      "3.13.6\n",
      "Windows\n",
      "10.0.26100\n",
      "Windows-11-10.0.26100-SP0\n",
      "AMD64\n"
     ]
    }
   ],
   "source": [
    "    from platform import *\n",
    "    print(python_implementation())\n",
    "\n",
    "    \n",
    "    print(python_version())\n",
    "\n",
    "    \n",
    "    print(system())\n",
    "\n",
    "    \n",
    "    print(version())\n",
    "    print(platform())\n",
    "    print(machine())"
   ]
  },
  {
   "cell_type": "code",
   "execution_count": 15,
   "id": "a1baa3f6",
   "metadata": {},
   "outputs": [
    {
     "name": "stdout",
     "output_type": "stream",
     "text": [
      "1\n",
      "[0, 0, 0, 0, 1]\n",
      "1\n",
      "[0, 0, 1, 1, 2]\n"
     ]
    }
   ],
   "source": [
    "def sum_list(args, fun):\n",
    "    z = 0\n",
    "    for x in args:\n",
    "        z = z + fun(x)\n",
    "    return z\n",
    "\n",
    "# lista base\n",
    "lista = [ex // 2 for ex in range(5)]\n",
    "lista2=lista\n",
    "\n",
    "# soma usando a função sum_list\n",
    "print(sum_list(lista, lambda x: 1 if x > 1 else 0))\n",
    "\n",
    "# aplicar a lambda a cada elemento e capturar numa lista\n",
    "resultado = list(map(lambda x: 1 if x > 1 else 0, lista))\n",
    "print(resultado)\n",
    "\n",
    "#print(sum_list([ex//2 for ex in range(5)], lambda x: 1 if x>1 else 0))\n",
    "#print(sum_list(lista2, lambda x: 1 if x>1 else 0))\n",
    "print(sum_list([0, 0, 1, 1, 2], lambda x: 1 if x>1 else 0))\n",
    "print(lista2)"
   ]
  },
  {
   "cell_type": "code",
   "execution_count": 19,
   "id": "121ced04",
   "metadata": {},
   "outputs": [
    {
     "name": "stdout",
     "output_type": "stream",
     "text": [
      "Luke!\n"
     ]
    }
   ],
   "source": [
    "mylist1 = [[i for i in 'Luke'] for j in range(3)]\n",
    "mylist2 =[]\n",
    "for x in mylist1:\n",
    "    for y in x:\n",
    "        if y in mylist2:\n",
    "            continue\n",
    "        else:\n",
    "            mylist2.append(y)\n",
    "else:       \n",
    "    mylist2.append('!')\n",
    "print(''.join(mylist2))"
   ]
  },
  {
   "cell_type": "code",
   "execution_count": 18,
   "id": "32bd024f",
   "metadata": {},
   "outputs": [
    {
     "name": "stdout",
     "output_type": "stream",
     "text": [
      "Encontrado: 2\n"
     ]
    }
   ],
   "source": [
    "numeros = [1, 2, 3, 4, 5]\n",
    "buscar = 2\n",
    "\n",
    "for num in numeros:\n",
    "    if num == buscar:\n",
    "        print(f\"Encontrado: {num}\")\n",
    "        break\n",
    "else:\n",
    "    print(f\"{buscar} não encontrado na lista\")\n",
    "# Output: 6 não encontrado na lista"
   ]
  },
  {
   "cell_type": "code",
   "execution_count": 24,
   "id": "190bedba",
   "metadata": {},
   "outputs": [
    {
     "name": "stdout",
     "output_type": "stream",
     "text": [
      "Wrong input !\n"
     ]
    }
   ],
   "source": [
    "from math import sqrt as root\n",
    "    \n",
    "def my_root(x):\n",
    "    try:\n",
    "        return root(x)\n",
    "    except:\n",
    "        print('Function Error !')\n",
    "        raise\n",
    "    \n",
    "x=-2\n",
    "try:\n",
    "    assert x >0, \"Wrong input !\"\n",
    "    print(my_root(x))\n",
    "except Exception as e:\n",
    "    print(e)\n",
    "else:\n",
    "    print('All good !')\n"
   ]
  },
  {
   "cell_type": "code",
   "execution_count": 28,
   "id": "9647e377",
   "metadata": {},
   "outputs": [
    {
     "name": "stdout",
     "output_type": "stream",
     "text": [
      "True\n",
      "True\n",
      "15\n",
      "10\n"
     ]
    }
   ],
   "source": [
    "class Jedi:\n",
    "    LightSaber = 1\n",
    "    force = 11\n",
    "    def __init__(self):\n",
    "        self.force = 10\n",
    "        \n",
    "    \n",
    "class Sith(Jedi):\n",
    "    def __init__(self):\n",
    "        self.force = 15\n",
    "        \n",
    "class Padawan(Sith):\n",
    "    force = 5\n",
    "    def __init__(self):\n",
    "        super().__init__()\n",
    "        \n",
    "Luke = Padawan()\n",
    "jedi = Jedi()\n",
    "print(hasattr(Padawan, 'LightSaber'))\n",
    "print(hasattr(Luke, 'LightSaber'))\n",
    "print(Luke.force)\n",
    "print(jedi.force)"
   ]
  },
  {
   "cell_type": "code",
   "execution_count": 36,
   "id": "50eecce9",
   "metadata": {},
   "outputs": [
    {
     "name": "stdout",
     "output_type": "stream",
     "text": [
      "dog\n",
      "\n",
      "cat\n",
      "\n"
     ]
    }
   ],
   "source": [
    "f = open(\"animals.txt\", \"r\")\n",
    "print(f.readline(4))\n",
    "print(f.readline(4))"
   ]
  },
  {
   "cell_type": "code",
   "execution_count": null,
   "id": "f2e258eb",
   "metadata": {},
   "outputs": [
    {
     "name": "stdout",
     "output_type": "stream",
     "text": [
      "4.0\n",
      "Can't divide by string 2!\n"
     ]
    }
   ],
   "source": [
    "class AlphaDivisionError(ZeroDivisionError):\t\n",
    "    def __init__(self, message):\n",
    "        ZeroDivisionError.__init__(self, message)\n",
    "        #Exception.__init__(self, message)\n",
    "        #print(\"batatas\")\n",
    "    \n",
    "def func_div(x,y):\n",
    "    if y==0:\n",
    "        raise ZeroDivisionError(\"Can't divide by zero !\")\n",
    "    elif isinstance(y, str):\t\t\n",
    "        raise AlphaDivisionError(\"Can't divide by string !\")\n",
    "    else:\t\t\n",
    "        return x/y\n",
    "    \n",
    "try:\n",
    "    print(func_div(4,1))\n",
    "    \n",
    "    y='12'\n",
    "    if (isinstance(y, str)):\t\t\n",
    "        raise AlphaDivisionError(\"Can't divide by string 2!\")\n",
    "        \n",
    "except AlphaDivisionError as e:\n",
    "    print(str(e))\n",
    "except ZeroDivisionError as e:\n",
    "    print(str(e))\n",
    "except Exception as e:\n",
    "    print(\"There is an error !\")\n",
    "else:\n",
    "    print('All good !')\n"
   ]
  },
  {
   "cell_type": "code",
   "execution_count": 22,
   "id": "71a10dd8",
   "metadata": {},
   "outputs": [
    {
     "name": "stdout",
     "output_type": "stream",
     "text": [
      "Function Error #2\n",
      "Program Error #1\n"
     ]
    }
   ],
   "source": [
    "def list_func(x):\n",
    "    try:\n",
    "        return x[4]/x[-1]\n",
    "    except ZeroDivisionError:\n",
    "        print(\"Function Error #1\")\n",
    "        raise\n",
    "    except IndexError:\n",
    "        print(\"Function Error #2\")\n",
    "        raise\n",
    "    except:\n",
    "        print(\"Function Error #3\")\n",
    "        raise\n",
    "    \n",
    "my_list=[3,4,1,0]\n",
    "try:\n",
    "    print(list_func(my_list))\n",
    "except LookupError:\n",
    "    print(\"Program Error #1\")\n",
    "except ArithmeticError:\n",
    "    print(\"Program Error #2\")\n",
    "except:\n",
    "    print(\"Program Error #3\")"
   ]
  },
  {
   "cell_type": "code",
   "execution_count": null,
   "id": "18554464",
   "metadata": {},
   "outputs": [],
   "source": [
    "class Jedi:\n",
    "    def __init__(self, name):\n",
    "        self.name = name\n",
    "    def Print(self):\n",
    "    #def __str__(self):\n",
    "        return self.name\n",
    "    \n",
    "    \n",
    "Luke = Jedi('Luke')\n",
    "print(Luke)"
   ]
  },
  {
   "cell_type": "code",
   "execution_count": 38,
   "id": "21c94485",
   "metadata": {},
   "outputs": [
    {
     "name": "stdout",
     "output_type": "stream",
     "text": [
      "__main__\n",
      "(<class '__main__.RootVegetable'>,)\n",
      "(<class '__main__.RootVegetable'>, <class '__main__.Vegetable'>)\n",
      "(<class '__main__.Potato'>, <class '__main__.RootVegetable'>, <class '__main__.Vegetable'>, <class 'object'>)\n"
     ]
    }
   ],
   "source": [
    "class Vegetable:\n",
    "    pass    \n",
    "class RootVegetable(Vegetable):\n",
    "    pass\n",
    "class Potato(RootVegetable ):\n",
    "    pass\n",
    "    \n",
    "print(Potato.__module__)\n",
    "print(Potato.__bases__)\n",
    "print(Potato.__mro__[1:-1])\n",
    "print(Potato.__mro__)"
   ]
  },
  {
   "cell_type": "code",
   "execution_count": null,
   "id": "c3d902be",
   "metadata": {},
   "outputs": [
    {
     "name": "stdout",
     "output_type": "stream",
     "text": [
      "2\n",
      "-3\n",
      "-4\n"
     ]
    }
   ],
   "source": [
    "import math\n",
    "    \n",
    "def my_func(x,y):\n",
    "    z = math.trunc(x) + math.ceil(x) - math.floor(y)\n",
    "    return z\n",
    "    \n",
    "print(my_func(-1.6,-3.2))\n",
    "print(math.ceil(-3.2))\n",
    "print(math.floor(-3.2))"
   ]
  },
  {
   "cell_type": "code",
   "execution_count": 1,
   "id": "6a184ff9",
   "metadata": {},
   "outputs": [
    {
     "name": "stdout",
     "output_type": "stream",
     "text": [
      "Sky"
     ]
    }
   ],
   "source": [
    "mystring='Skywalker'\n",
    "n=0\n",
    "while n<=len(mystring):\n",
    "    print(mystring[n],end='')\n",
    "    if mystring[n]=='y':\n",
    "        break\n",
    "    else:  \n",
    "        n+=1\n",
    "        continue\n",
    "    \n",
    "else:\n",
    "    print(mystring[0])"
   ]
  },
  {
   "cell_type": "code",
   "execution_count": 14,
   "id": "5bbef7dc",
   "metadata": {},
   "outputs": [
    {
     "name": "stdout",
     "output_type": "stream",
     "text": [
      "<class 'str'>\n",
      "<class 'str'>\n",
      "{'name': 'Vader', 'lightsaber': 1, '_Sith__son': 'Luke', '__daughter': 'Leia1', '_Sith__daughter2': 'Leia2', '_Sith__daughter3': 'Leia3'}\n"
     ]
    }
   ],
   "source": [
    "class Sith:\n",
    "    darkside= True\n",
    "    def __init__(self, x, y):\n",
    "        self.name = x\n",
    "        self.lightsaber = 1\n",
    "        self.__son = y\n",
    "    def __str__(self):\n",
    "        return self.name\n",
    "    \n",
    "Vader = Sith(\"Vader\", \"Luke\")\n",
    "Vader.__daughter = 'Leia1'\n",
    "Vader._Sith__daughter2 = 'Leia2'\n",
    "setattr(Vader, \"_Sith__daughter3\", \"Leia3\")\n",
    "print(type(Vader._Sith__daughter2))\n",
    "print(type(Vader._Sith__daughter3))\n",
    "print(Vader.__dict__)\n"
   ]
  },
  {
   "cell_type": "code",
   "execution_count": 27,
   "id": "9fafcb8c",
   "metadata": {},
   "outputs": [
    {
     "name": "stdout",
     "output_type": "stream",
     "text": [
      "2\n",
      "2\n",
      "2\n",
      "I am master Jedi Baby Yoda\n",
      "{'Force': 2, 'name': 'Baby Yoda'}\n",
      "{'Force': 2, 'name': 'Luke'}\n",
      "{'Force': 2, 'name': 'Ben'}\n"
     ]
    }
   ],
   "source": [
    "class Jedi:\n",
    "    Force = 1\n",
    "    def __init__(self,name):\n",
    "        self.Force +=1\n",
    "        self.name = name\n",
    "    def __str__(self):\n",
    "        return \"I am master Jedi \" + self.name\n",
    "    \n",
    "class Padawan(Jedi):\n",
    "    def print(self):\n",
    "        return \"I am a Padawan\"\n",
    "    \n",
    "Luke=Jedi('Luke')\n",
    "#print(Jedi.Force)                # 1\n",
    "Ben=Jedi('Ben')\n",
    "#print(Jedi.Force)                # 2\n",
    "Baby_Yoda=Padawan('Baby Yoda')\n",
    "print(Luke.Force)                # 3\n",
    "print(Ben.Force)                # 3\n",
    "print(Baby_Yoda.Force)    \n",
    "print(Baby_Yoda)                 # I am master Jedi Baby Yoda\n",
    "Baby_Yoda.print()\n",
    "print(Baby_Yoda.__dict__)\n",
    "print(Luke.__dict__)\n",
    "print(Ben.__dict__)"
   ]
  },
  {
   "cell_type": "code",
   "execution_count": 30,
   "id": "04917ed5",
   "metadata": {},
   "outputs": [
    {
     "name": "stdout",
     "output_type": "stream",
     "text": [
      "20\n",
      "20\n",
      "20\n",
      "19\n"
     ]
    }
   ],
   "source": [
    "class Jedi:\n",
    "    Force = 19\n",
    "    def __init__(self,name):\n",
    "        self.Force +=1\n",
    "        self.name = name\n",
    "    def __str__(self):\n",
    "        return \"I am master Jedi \" + self.name\n",
    "    \n",
    "class Padawan(Jedi):\n",
    "    def print(self):\n",
    "        return \"I am a Padawan\"\n",
    "    \n",
    "Luke=Jedi('Luke')\n",
    "Ben=Jedi('Ben')\n",
    "Baby_Yoda=Padawan('Baby Yoda')\n",
    "print(Luke.Force)\n",
    "print(Ben.Force)\n",
    "print(Baby_Yoda.Force)\n",
    "print(Jedi.Force)"
   ]
  },
  {
   "cell_type": "code",
   "execution_count": 31,
   "id": "0f21718b",
   "metadata": {},
   "outputs": [
    {
     "name": "stdout",
     "output_type": "stream",
     "text": [
      "['E2BIG', 'EACCES', 'EADDRINUSE', 'EADDRNOTAVAIL', 'EAFNOSUPPORT', 'EAGAIN', 'EALREADY', 'EBADF', 'EBADMSG', 'EBUSY', 'ECANCELED', 'ECHILD', 'ECONNABORTED', 'ECONNREFUSED', 'ECONNRESET', 'EDEADLK', 'EDEADLOCK', 'EDESTADDRREQ', 'EDOM', 'EDQUOT', 'EEXIST', 'EFAULT', 'EFBIG', 'EHOSTDOWN', 'EHOSTUNREACH', 'EIDRM', 'EILSEQ', 'EINPROGRESS', 'EINTR', 'EINVAL', 'EIO', 'EISCONN', 'EISDIR', 'ELOOP', 'EMFILE', 'EMLINK', 'EMSGSIZE', 'ENAMETOOLONG', 'ENETDOWN', 'ENETRESET', 'ENETUNREACH', 'ENFILE', 'ENOBUFS', 'ENODATA', 'ENODEV', 'ENOENT', 'ENOEXEC', 'ENOLCK', 'ENOLINK', 'ENOMEM', 'ENOMSG', 'ENOPROTOOPT', 'ENOSPC', 'ENOSR', 'ENOSTR', 'ENOSYS', 'ENOTCONN', 'ENOTDIR', 'ENOTEMPTY', 'ENOTRECOVERABLE', 'ENOTSOCK', 'ENOTSUP', 'ENOTTY', 'ENXIO', 'EOPNOTSUPP', 'EOVERFLOW', 'EOWNERDEAD', 'EPERM', 'EPFNOSUPPORT', 'EPIPE', 'EPROTO', 'EPROTONOSUPPORT', 'EPROTOTYPE', 'ERANGE', 'EREMOTE', 'EROFS', 'ESHUTDOWN', 'ESOCKTNOSUPPORT', 'ESPIPE', 'ESRCH', 'ESTALE', 'ETIME', 'ETIMEDOUT', 'ETOOMANYREFS', 'ETXTBSY', 'EUSERS', 'EWOULDBLOCK', 'EXDEV', 'WSABASEERR', 'WSAEACCES', 'WSAEADDRINUSE', 'WSAEADDRNOTAVAIL', 'WSAEAFNOSUPPORT', 'WSAEALREADY', 'WSAEBADF', 'WSAECONNABORTED', 'WSAECONNREFUSED', 'WSAECONNRESET', 'WSAEDESTADDRREQ', 'WSAEDISCON', 'WSAEDQUOT', 'WSAEFAULT', 'WSAEHOSTDOWN', 'WSAEHOSTUNREACH', 'WSAEINPROGRESS', 'WSAEINTR', 'WSAEINVAL', 'WSAEISCONN', 'WSAELOOP', 'WSAEMFILE', 'WSAEMSGSIZE', 'WSAENAMETOOLONG', 'WSAENETDOWN', 'WSAENETRESET', 'WSAENETUNREACH', 'WSAENOBUFS', 'WSAENOPROTOOPT', 'WSAENOTCONN', 'WSAENOTEMPTY', 'WSAENOTSOCK', 'WSAEOPNOTSUPP', 'WSAEPFNOSUPPORT', 'WSAEPROCLIM', 'WSAEPROTONOSUPPORT', 'WSAEPROTOTYPE', 'WSAEREMOTE', 'WSAESHUTDOWN', 'WSAESOCKTNOSUPPORT', 'WSAESTALE', 'WSAETIMEDOUT', 'WSAETOOMANYREFS', 'WSAEUSERS', 'WSAEWOULDBLOCK', 'WSANOTINITIALISED', 'WSASYSNOTREADY', 'WSAVERNOTSUPPORTED', '__doc__', '__loader__', '__name__', '__package__', '__spec__', 'errorcode']\n"
     ]
    }
   ],
   "source": [
    "import errno\n",
    "\n",
    "print(dir(errno))"
   ]
  },
  {
   "cell_type": "code",
   "execution_count": 35,
   "id": "d3877cde",
   "metadata": {},
   "outputs": [
    {
     "name": "stdout",
     "output_type": "stream",
     "text": [
      "2\n"
     ]
    }
   ],
   "source": [
    "my_str = 'Luke !!\\n'\n",
    "z = my_str.index('k')\n",
    "print(z)"
   ]
  },
  {
   "cell_type": "code",
   "execution_count": 48,
   "id": "f17422c8",
   "metadata": {},
   "outputs": [
    {
     "name": "stdout",
     "output_type": "stream",
     "text": [
      "apanhada!\n"
     ]
    }
   ],
   "source": [
    "import errno\n",
    "#import os\n",
    "\n",
    "try:\n",
    "    assert 1 < 0 (\"Batatinhas\",)\n",
    "    # Tentativa de abrir um arquivo que não existe\n",
    "    with open('arquivo_inexistente.txt', 'r') as f:\n",
    "        content = f.read()\n",
    "    raise Exception(\"nada feito\")\n",
    "except OSError as e:\n",
    "    if e.errno == errno.ENOENT:\n",
    "        print(\"Erro: Arquivo não encontrado\")\n",
    "    elif e.errno == errno.EACCES:\n",
    "        print(\"Erro: Permissão negada\")\n",
    "    else:\n",
    "        print(f\"Erro desconhecido: {e}\")\n",
    "except Exception as e:\n",
    "    print(\"apanhada!\")\n",
    "except: \n",
    "    print(\"chapeu!\")"
   ]
  },
  {
   "cell_type": "code",
   "execution_count": null,
   "id": "69e82479",
   "metadata": {},
   "outputs": [],
   "source": [
    "f = open('animals.txt', 'r')\n",
    "data = f.read()\n",
    "for x in data:\n",
    "    print(x, end='')\n",
    "f.close()"
   ]
  },
  {
   "cell_type": "code",
   "execution_count": null,
   "id": "3cca6594",
   "metadata": {},
   "outputs": [],
   "source": [
    "for line in open(\"myfile.txt\", \"rt\"):\n",
    "    print(line, end='')"
   ]
  },
  {
   "cell_type": "code",
   "execution_count": 3,
   "id": "1601c13d",
   "metadata": {},
   "outputs": [
    {
     "name": "stdout",
     "output_type": "stream",
     "text": [
      "(1, 1, 27)\n"
     ]
    }
   ],
   "source": [
    "mylist1 = [x**x for x in range(4)]\n",
    "mylist2 = tuple(filter(lambda x: x % 2 != 0, mylist1))\n",
    "#mylist2 = tuple(map(lambda x: x % 2 != 0, mylist1))\n",
    "print(mylist2)"
   ]
  },
  {
   "cell_type": "code",
   "execution_count": 6,
   "id": "f6ee7772",
   "metadata": {},
   "outputs": [
    {
     "name": "stdout",
     "output_type": "stream",
     "text": [
      "[2, 4, 6]\n",
      "[2, 4, 6, 8, 10, 12]\n"
     ]
    }
   ],
   "source": [
    "numeros = [1, 2, 3, 4, 5, 6]\n",
    "\n",
    "\n",
    "num1 = filter(lambda x: x % 2 == 0, numeros)\n",
    "num2 = map(lambda x: x * 2, numeros)\n",
    "\n",
    "print(list(num1))\n",
    "print(list(num2))\n"
   ]
  },
  {
   "cell_type": "code",
   "execution_count": 14,
   "id": "df689456",
   "metadata": {},
   "outputs": [
    {
     "name": "stdout",
     "output_type": "stream",
     "text": [
      "{'name': 'Luke', '_Jedi__force': 10, 'lightsaber': True}\n",
      "True\n",
      "True\n",
      "True\n"
     ]
    }
   ],
   "source": [
    "class Jedi:\n",
    "    force = 1\n",
    "    def __init__(self, name):\n",
    "        self.name = name\n",
    " \n",
    "    def set_force(self, val):\n",
    "        self.__force = val\n",
    " \n",
    "Luke = Jedi('Luke')\n",
    "Luke.set_force(10)\n",
    "Luke.lightsaber = True\n",
    "print(Luke.__dict__)      # {'name': 'Luke', '_Jedi__force': 10, 'lightsaber': True}\n",
    "print(hasattr(Luke, 'lightsaber'))  # True\n",
    "print(hasattr(Luke, '_Jedi__force'))        # False\n",
    "print(hasattr(Luke, 'force'))   \n"
   ]
  },
  {
   "cell_type": "code",
   "execution_count": 19,
   "id": "253c0453",
   "metadata": {},
   "outputs": [
    {
     "name": "stdout",
     "output_type": "stream",
     "text": [
      "(<class '__main__.Sith'>, <class '__main__.Jedi'>)\n"
     ]
    }
   ],
   "source": [
    "class Jedi:\n",
    "    def __init__(self):\n",
    "        self.force = 10\n",
    "        \n",
    "class Sith:\n",
    "    def __init__(self):\n",
    "        self.force = 15\n",
    "        self.bases = 1\n",
    "        \n",
    "class Padawan(Sith, Jedi):\n",
    "    def __init__(self):\n",
    "        super().__init__()\n",
    "    \n",
    "Luke=Padawan()\n",
    "print(Padawan.__bases__)"
   ]
  },
  {
   "cell_type": "code",
   "execution_count": 38,
   "id": "1b4e1c0a",
   "metadata": {},
   "outputs": [
    {
     "name": "stdout",
     "output_type": "stream",
     "text": [
      "10\n"
     ]
    }
   ],
   "source": [
    "class Class1:\n",
    "    def __init__(self, val):\n",
    "        self.val = val\n",
    "class Class2(Class1):\n",
    "#    def __str__(self):\n",
    "#        return \"Hello\"\n",
    "    def __init__(self, val):\n",
    "        super().__init__( val) \n",
    "\n",
    "#class Class3(Class1):\n",
    "#    def __init__(self, val):\n",
    "#        Class1.__init__(self,val)\n",
    "    \n",
    "c = Class2(10)\n",
    "print(c.val)"
   ]
  },
  {
   "cell_type": "code",
   "execution_count": 41,
   "id": "ca162c4b",
   "metadata": {},
   "outputs": [
    {
     "name": "stdout",
     "output_type": "stream",
     "text": [
      "[2, 8, 14, 20]\n",
      "[20, 14, 2]\n",
      "[20, 14]\n"
     ]
    }
   ],
   "source": [
    "from random import sample\n",
    "    \n",
    "list_1 = [x << 1 for x in range(1,12,3)]\n",
    "print(list_1)\n",
    "list_2 = sample(list_1, 3)\n",
    "print(list_2)\n",
    "list_3 = list(filter(lambda x: x > 3, list_2))\n",
    "print(list_3)"
   ]
  },
  {
   "cell_type": "code",
   "execution_count": 44,
   "id": "c4856777",
   "metadata": {},
   "outputs": [
    {
     "name": "stdout",
     "output_type": "stream",
     "text": [
      "1 10\n"
     ]
    }
   ],
   "source": [
    "class Snake:                    # line 1\n",
    "    count = 10                   # line 2\n",
    "    def __init__(self, val):    # line 3\n",
    "        self.__count = val      # line 4\n",
    "        count=2                 # line 5\n",
    "                                # line 6\n",
    "class Python(Snake):            # line 7\n",
    "    def __init__(self, val):    # line 8\n",
    "        super().__init__(val)   # line 9\n",
    "                                # line 10\n",
    "my_snake = Python(1)            # line 11\n",
    "print(my_snake._Snake__count, my_snake.count)  # line 12"
   ]
  },
  {
   "cell_type": "code",
   "execution_count": 63,
   "id": "3f08bebf",
   "metadata": {},
   "outputs": [
    {
     "name": "stdout",
     "output_type": "stream",
     "text": [
      "True\n",
      "False\n"
     ]
    }
   ],
   "source": [
    "class Jedi:\n",
    "    def __init__(self, name):\n",
    "        self.name=name\n",
    "    \n",
    "class Sith(Jedi):\n",
    "    def __init__(self, name):\n",
    "        self.name=name\n",
    "class Batatas(Sith, Jedi):\n",
    "    k = 11\n",
    "    def __init__(self, name):\n",
    "        super().__init__(name)\n",
    "    def kouves(self):\n",
    "        return \"batata e kouve\"\n",
    "\n",
    "b = Batatas(\"Batata\")\n",
    "print(issubclass(Batatas, (Sith,Jedi)))\n",
    "print(hasattr(b.k, \"Batatas\"))"
   ]
  },
  {
   "cell_type": "code",
   "execution_count": 66,
   "id": "99648bcc",
   "metadata": {},
   "outputs": [
    {
     "name": "stdout",
     "output_type": "stream",
     "text": [
      "[1, 2]\n"
     ]
    }
   ],
   "source": [
    "def myfunc(n):\n",
    "    res = 1\n",
    "    for i in range(n,n+2,1):\n",
    "        yield res\n",
    "        res*= 2\n",
    "    \n",
    "y = [x for x in myfunc(3)]\n",
    "    \n",
    "print(y)"
   ]
  },
  {
   "cell_type": "code",
   "execution_count": 67,
   "id": "d195f2b5",
   "metadata": {},
   "outputs": [
    {
     "name": "stdout",
     "output_type": "stream",
     "text": [
      "AMD64\n"
     ]
    }
   ],
   "source": [
    "from platform import machine\n",
    "print(machine())"
   ]
  },
  {
   "cell_type": "code",
   "execution_count": 73,
   "id": "07c75661",
   "metadata": {},
   "outputs": [
    {
     "name": "stdout",
     "output_type": "stream",
     "text": [
      "[98, 99, 100, 97]\n"
     ]
    }
   ],
   "source": [
    "my_list = {'a': ord('a'), 'b': ord('b'), 'c': ord('c'), 'd': ord('d') }\n",
    "lista = []\n",
    "for i in sorted(my_list.keys()):\n",
    "    lista.insert(-1, my_list[i])\n",
    "print(lista)  # Output: [98, 99, 100, 97]"
   ]
  },
  {
   "cell_type": "code",
   "execution_count": null,
   "id": "3d797dc2",
   "metadata": {},
   "outputs": [
    {
     "name": "stdout",
     "output_type": "stream",
     "text": [
      "[2, 3, 5, 6, 8, 9]\n"
     ]
    }
   ],
   "source": [
    "list_1 = [x >> 1 for x in range(1,21,3) if x > 2]\n",
    "print(list_1)\n"
   ]
  }
 ],
 "metadata": {
  "kernelspec": {
   "display_name": "Python 3",
   "language": "python",
   "name": "python3"
  },
  "language_info": {
   "codemirror_mode": {
    "name": "ipython",
    "version": 3
   },
   "file_extension": ".py",
   "mimetype": "text/x-python",
   "name": "python",
   "nbconvert_exporter": "python",
   "pygments_lexer": "ipython3",
   "version": "3.13.6"
  }
 },
 "nbformat": 4,
 "nbformat_minor": 5
}
