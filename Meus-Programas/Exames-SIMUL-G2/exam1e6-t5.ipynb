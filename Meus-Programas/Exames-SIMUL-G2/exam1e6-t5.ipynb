{
 "cells": [
  {
   "cell_type": "code",
   "execution_count": null,
   "id": "00a236a2",
   "metadata": {},
   "outputs": [
    {
     "name": "stdout",
     "output_type": "stream",
     "text": [
      "True\n",
      "False\n",
      "True\n",
      "False\n",
      "range(0, 10)\n",
      "1\n"
     ]
    }
   ],
   "source": [
    "print(list(range(0, -10, -1)) == [0, -1, -2, -3, -4, -5, -6, -7, -8, -9])\n",
    "print(list(range(0)) == [0])\n",
    "print(range(0, 3, 2) == range(0, 4, 2))\n",
    "print(range(10) == [0, 1, 2, 3, 4, 5, 6, 7, 8, 9])\n",
    "print(range(10))\n"
   ]
  },
  {
   "cell_type": "code",
   "execution_count": 8,
   "id": "f8a362be",
   "metadata": {},
   "outputs": [
    {
     "name": "stdout",
     "output_type": "stream",
     "text": [
      "0\n",
      "False\n",
      "False\n"
     ]
    }
   ],
   "source": [
    "z = 3\n",
    "y = 7\n",
    "x = y == z and y > z or z > y and z != y\n",
    "print(int(x))\n",
    "print(y == z and y > z or z > y and z != y)\n",
    "print(False and True or False and True)"
   ]
  },
  {
   "cell_type": "code",
   "execution_count": 18,
   "id": "0decb3f6",
   "metadata": {},
   "outputs": [
    {
     "name": "stdout",
     "output_type": "stream",
     "text": [
      "*\n",
      "*\n"
     ]
    }
   ],
   "source": [
    "i = 6\n",
    "while i > 0:\n",
    "    i -= 2\n",
    "    print('*')\n",
    "    if i == 2:\n",
    "        break\n",
    "    else:\n",
    "        continue\n",
    "    print('1')\n",
    "else:\n",
    "    print('2')"
   ]
  },
  {
   "cell_type": "code",
   "execution_count": 26,
   "id": "4fd570eb",
   "metadata": {},
   "outputs": [
    {
     "name": "stdout",
     "output_type": "stream",
     "text": [
      "1\n",
      "2\n",
      "{(1, 2): 1, (2, 3): 2}\n"
     ]
    }
   ],
   "source": [
    "x = {(1, 2): 1, (2, 3): 2}\n",
    "print(x[1,2])\n",
    "print(x[2,3])\n",
    "print(x)"
   ]
  },
  {
   "cell_type": "code",
   "execution_count": 37,
   "id": "9351fe5d",
   "metadata": {},
   "outputs": [
    {
     "name": "stdout",
     "output_type": "stream",
     "text": [
      "1\n",
      "1\n",
      "True\n"
     ]
    }
   ],
   "source": [
    "    x = 1\n",
    "    y = 0\n",
    "    z = 1\n",
    "    print(y ^ z)    # 1\n",
    "    print(x | y)    # 1\n",
    "    print( y ^ z == x | y) # True"
   ]
  },
  {
   "cell_type": "code",
   "execution_count": 35,
   "id": "d463655a",
   "metadata": {},
   "outputs": [
    {
     "name": "stdout",
     "output_type": "stream",
     "text": [
      "*\n",
      "*\n",
      "*\n"
     ]
    }
   ],
   "source": [
    "x = 1\n",
    "while x < 10:\n",
    "    print('*')\n",
    "    x *= 2*x"
   ]
  },
  {
   "cell_type": "code",
   "execution_count": null,
   "id": "4711c9b0",
   "metadata": {},
   "outputs": [
    {
     "name": "stdout",
     "output_type": "stream",
     "text": [
      "20\n"
     ]
    }
   ],
   "source": [
    "x = input()\n",
    "y = input()\n",
    "print (x * y)"
   ]
  },
  {
   "cell_type": "code",
   "execution_count": 47,
   "id": "617058d8",
   "metadata": {},
   "outputs": [
    {
     "name": "stdout",
     "output_type": "stream",
     "text": [
      "{1: 2, 5: 2, 10: 2, 19: 2, 17: 2, 16: 2}\n",
      "[1, 5, 10, 19]\n",
      "[1, 5, 10, 19]\n",
      "[1, 5, 10, 19]\n"
     ]
    }
   ],
   "source": [
    "my_list = (1, 5, 10, 19, 20)    # this is a tuple\n",
    "#del my_list[-1]                # raise an exception\n",
    "    \n",
    "my_list = {1:2, 5:2, 10:2, 19:2, 17:2, 16:2, 20:2}\n",
    "my_list.pop(20)   \n",
    "print(my_list)\n",
    "    \n",
    "my_list = (1, 5, 10, 19, 20)\n",
    "#my_list.remove(20)             # raise an exception\n",
    "    \n",
    "my_list = [1, 5, 10, 19, 20]    # this is a list\n",
    "del my_list[-1]\n",
    "print(my_list)                  # [1, 5, 10, 19]\n",
    "    \n",
    "my_list = [1, 5, 10, 19, 20]\n",
    "my_list.pop()\n",
    "print(my_list)                  #  [1, 5, 10, 19]\n",
    "    \n",
    "my_list = [1, 5, 10, 19, 20]\n",
    "my_list.remove(20)\n",
    "print(my_list)                  #  [1, 5, 10, 19]"
   ]
  },
  {
   "cell_type": "code",
   "execution_count": 54,
   "id": "ae1d70c5",
   "metadata": {},
   "outputs": [
    {
     "name": "stdout",
     "output_type": "stream",
     "text": [
      "=== LISTAS ===\n",
      "Lista inicial: [10, 20, 30, 40, 50]\n",
      "Após del lista[1]: [10, 30, 40, 50]\n",
      "Após lista.remove(50): [10, 30, 40]\n",
      "Após lista.pop(0): [30, 40], removido = 10\n"
     ]
    }
   ],
   "source": [
    "print(\"=== LISTAS ===\")\n",
    "lista = [10, 20, 30, 40, 50]\n",
    "print(\"Lista inicial:\", lista)\n",
    "\n",
    "# del (por índice)\n",
    "del lista[1]\n",
    "print(\"Após del lista[1]:\", lista)\n",
    "\n",
    "# remove (por valor)\n",
    "lista.remove(50)\n",
    "print(\"Após lista.remove(50):\", lista)\n",
    "\n",
    "# pop (por índice)\n",
    "removido = lista.pop(0)\n",
    "print(f\"Após lista.pop(0): {lista}, removido = {removido}\")"
   ]
  },
  {
   "cell_type": "code",
   "execution_count": 62,
   "id": "eaab03a1",
   "metadata": {},
   "outputs": [
    {
     "name": "stdout",
     "output_type": "stream",
     "text": [
      "('Luke', 'Skywalker'),('Han', 'Solo'),('Darth', 'Vader'),dict_items([('Luke', 'Skywalker'), ('Han', 'Solo'), ('Darth', 'Vader')])\n"
     ]
    }
   ],
   "source": [
    "dictionary = {\"Luke\": \"Skywalker\", \"Han\": \"Solo\", \"Darth\": \"Vader\"}\n",
    "\n",
    "for x in dictionary.items():\n",
    "    print(x,end=',')  \n",
    "\n",
    "tup = dictionary.items()\n",
    "print(tup)"
   ]
  },
  {
   "cell_type": "code",
   "execution_count": 69,
   "id": "b21da531",
   "metadata": {},
   "outputs": [
    {
     "name": "stdout",
     "output_type": "stream",
     "text": [
      "dict_keys(['Luke', 'Han', 'Darth'])\n",
      "---\n",
      "dict_values(['Skywalker', 'Solo', 'Vader'])\n",
      "---\n",
      "dict_items([('Luke', 'Skywalker'), ('Han', 'Solo'), ('Darth', 'Vader')])\n"
     ]
    }
   ],
   "source": [
    "dictionary = {\"Luke\": \"Skywalker\", \"Han\": \"Solo\", \"Darth\": \"Vader\"}\n",
    "\n",
    "print(dictionary.keys()); print(\"---\")\n",
    "print(dictionary.values()); print(\"---\")\n",
    "print(dictionary.items())"
   ]
  },
  {
   "cell_type": "code",
   "execution_count": null,
   "id": "fa5ff8f6",
   "metadata": {},
   "outputs": [
    {
     "name": "stdout",
     "output_type": "stream",
     "text": [
      "True\n",
      "False\n",
      "True\n",
      "False\n"
     ]
    }
   ],
   "source": [
    "print(bool(4**0))\n",
    "print(bool([]))\n",
    "print(bool('False'))\n",
    "print(bool(None))"
   ]
  },
  {
   "cell_type": "code",
   "execution_count": 88,
   "id": "833c733a",
   "metadata": {},
   "outputs": [
    {
     "name": "stdout",
     "output_type": "stream",
     "text": [
      "618\n",
      "150\n",
      "15\n",
      "range(0, 10)\n",
      "45\n"
     ]
    }
   ],
   "source": [
    "x = range(3, 12, 3)\n",
    "for n in x:\n",
    "    if (n%2 == 0):\n",
    "        print(n, end='')    # 6\n",
    "    else:\n",
    "        pass\n",
    "else:\n",
    "    print(sum(x))        # 18\n",
    "\n",
    "matriz={10:\"joao\",20:\"ze\",30:\"miguel\",40:\"rui\",50:\"luis\"}\n",
    "mat2=(4,5,6)\n",
    "print(sum(matriz))\n",
    "print(sum(mat2))\n",
    "x=range(10); print(x)\n",
    "print(sum(x))"
   ]
  },
  {
   "cell_type": "code",
   "execution_count": 90,
   "id": "d5ba958f",
   "metadata": {},
   "outputs": [
    {
     "name": "stdout",
     "output_type": "stream",
     "text": [
      "2222\n"
     ]
    }
   ],
   "source": [
    "x = input()\n",
    "y = int(input())\n",
    "print(x * y)"
   ]
  },
  {
   "cell_type": "code",
   "execution_count": 92,
   "id": "7c7e1d14",
   "metadata": {},
   "outputs": [
    {
     "name": "stdout",
     "output_type": "stream",
     "text": [
      "2.0\n",
      "2\n",
      "4.0\n",
      "4.0\n"
     ]
    }
   ],
   "source": [
    "x = 5//2.0; print(x)\n",
    "y = 5 % 3; print(y)\n",
    "z = x + y; print(z)\n",
    "print(z)"
   ]
  },
  {
   "cell_type": "code",
   "execution_count": 110,
   "id": "cc3ea27c",
   "metadata": {},
   "outputs": [
    {
     "name": "stdout",
     "output_type": "stream",
     "text": [
      "13579*\n"
     ]
    }
   ],
   "source": [
    "for i in range(1,11,2):\n",
    "    print(i, end='')\n",
    "\n",
    "else:\n",
    "    print('*')"
   ]
  },
  {
   "cell_type": "code",
   "execution_count": 107,
   "id": "5493a612",
   "metadata": {},
   "outputs": [
    {
     "name": "stdout",
     "output_type": "stream",
     "text": [
      "3\n",
      "----\n",
      "('12', 2, 'ABC')\n",
      "----\n",
      "<class 'tuple'>\n"
     ]
    }
   ],
   "source": [
    "x = [10, 20, 30, 40,10,10, 50]\n",
    "print(x.count(10))\n",
    "print(\"----\")\n",
    "print(tuple(('12', 2, \"ABC\")))\n",
    "print(\"----\")\n",
    "X1 = 1,\n",
    "print(type(X1))"
   ]
  },
  {
   "cell_type": "code",
   "execution_count": 111,
   "id": "401d5e25",
   "metadata": {},
   "outputs": [
    {
     "name": "stdout",
     "output_type": "stream",
     "text": [
      "1\n"
     ]
    }
   ],
   "source": [
    "print(1%2)"
   ]
  },
  {
   "cell_type": "code",
   "execution_count": null,
   "id": "88dcfd5d",
   "metadata": {},
   "outputs": [],
   "source": [
    "for i in range(1,20):\n",
    "    if i%7 == 0:\n",
    "        break\n",
    "    elif i%2 == 0:\n",
    "        continue\n",
    "    else:\n",
    "        print(i, end='')\n",
    "else:\n",
    "    print(8)"
   ]
  },
  {
   "cell_type": "code",
   "execution_count": 113,
   "id": "61be1bf4",
   "metadata": {},
   "outputs": [
    {
     "name": "stdout",
     "output_type": "stream",
     "text": [
      "345,543\n"
     ]
    }
   ],
   "source": [
    "a = 3; b = 4; c = 5\n",
    "print(a,b,c,',',c,b,a,sep='')"
   ]
  },
  {
   "cell_type": "code",
   "execution_count": 114,
   "id": "87c3e0e9",
   "metadata": {},
   "outputs": [
    {
     "name": "stdout",
     "output_type": "stream",
     "text": [
      "2\n",
      "2.5\n"
     ]
    }
   ],
   "source": [
    "print(5//2)\n",
    "print(5/2)"
   ]
  },
  {
   "cell_type": "code",
   "execution_count": 155,
   "id": "2e2235f4",
   "metadata": {},
   "outputs": [
    {
     "name": "stdout",
     "output_type": "stream",
     "text": [
      "[0, 6, 12, 18, 24, 30, 36, 42, 48, 54, 60, 66, 72, 78, 84, 90, 96]\n"
     ]
    }
   ],
   "source": [
    "def func(x):\n",
    "    for i in range(x+1):\n",
    "        if i%6 == 0:\n",
    "            yield i\n",
    "list1 = [x for x in func(100)]\n",
    "\n",
    "print(list1)"
   ]
  },
  {
   "cell_type": "code",
   "execution_count": 129,
   "id": "6827107d",
   "metadata": {},
   "outputs": [
    {
     "name": "stdout",
     "output_type": "stream",
     "text": [
      "True\n",
      "2740252211456 2740253229248\n",
      "True\n",
      "2740253229248 2740253229248\n"
     ]
    }
   ],
   "source": [
    "countries1 = ['France', 'USA', 'Italy']\n",
    "countries2 = countries1\n",
    "countries3 = countries1[:]\n",
    "\n",
    "print(countries3 == countries1)\n",
    "print(id(countries3), id(countries1))\n",
    "print(countries2 is countries1)\n",
    "print(id(countries1), id(countries2))"
   ]
  },
  {
   "cell_type": "code",
   "execution_count": 131,
   "id": "2bceba8a",
   "metadata": {},
   "outputs": [
    {
     "name": "stdout",
     "output_type": "stream",
     "text": [
      "['England', 'USA', 'Italy'] ['England', 'USA', 'Italy'] ['France', 'Canada', 'Italy']\n",
      "----\n",
      "4\n"
     ]
    }
   ],
   "source": [
    "countries1 = ['France', 'USA', 'Italy']\n",
    "countries2 = countries1\n",
    "countries3 = countries1[:]\n",
    "    \n",
    "countries2[0] = 'England'\n",
    "countries3[1] = 'Canada'\n",
    "    \n",
    "res = 0\n",
    "print(countries1, countries2, countries3)\n",
    "print(\"----\")\n",
    "for i in (countries1, countries2, countries3):\n",
    "    if i[0] == 'England':\n",
    "        res += 1\n",
    "    if i[1] == 'Canada':\n",
    "        res += 2\n",
    "    \n",
    "print(res)"
   ]
  },
  {
   "cell_type": "code",
   "execution_count": 140,
   "id": "8295ada3",
   "metadata": {},
   "outputs": [
    {
     "name": "stdout",
     "output_type": "stream",
     "text": [
      "{}\n",
      "{0: 'Luke', 1: 'Han', 2: 'Leia'}\n",
      "Luke\n",
      "Han\n",
      "Leia\n"
     ]
    }
   ],
   "source": [
    "my_dict = {}\n",
    "my_list = ['Luke', 'Han', 'Leia', 'Ben']\n",
    "\n",
    "print(my_dict)\n",
    "for i in range(len(my_list)-1):\n",
    "    #my_dict[i] = (my_list[i], )\n",
    "    my_dict[i] = my_list[i]\n",
    "    \n",
    "print(my_dict)     # {0: ('Luke',), 1: ('Han',), 2: ('Leia',)}\n",
    "    \n",
    "#for i in sorted(my_dict.keys()):\n",
    "for i in my_dict.keys():\n",
    "    j = my_dict[i]\n",
    "    #print(j[0])    # Luke -> Han -> Leia\n",
    "    print(j)    # Luke -> Han -> Leia\n",
    "    #print(j[i])   # Luke -> exception : IndexError: tuple index out of range\n",
    "    #print(j)      # ('Luke',) -> ('Han',) -> ('Leia',)\n",
    "    #print(j['0']) # exception : TypeError: tuple indices must be integers or slices, not str"
   ]
  },
  {
   "cell_type": "code",
   "execution_count": 149,
   "id": "0d7ca9e5",
   "metadata": {},
   "outputs": [
    {
     "name": "stdout",
     "output_type": "stream",
     "text": [
      "5\n"
     ]
    }
   ],
   "source": [
    "x = eval(input(\"Enter number : \"))\n",
    "print(int(x))"
   ]
  },
  {
   "cell_type": "code",
   "execution_count": 7,
   "id": "b4bab6f6",
   "metadata": {},
   "outputs": [
    {
     "name": "stdout",
     "output_type": "stream",
     "text": [
      "4\n",
      "(2,)\n",
      "[2]\n"
     ]
    }
   ],
   "source": [
    "List = (1, 2, 4, 8)\n",
    "print(List[2])\n",
    "List = List[1:-2]\n",
    "print(List)        # (2,)\n",
    "List = list(List)\n",
    "print(List)        # [2]"
   ]
  },
  {
   "cell_type": "code",
   "execution_count": 19,
   "id": "b3adc3c1",
   "metadata": {},
   "outputs": [
    {
     "name": "stdout",
     "output_type": "stream",
     "text": [
      "*2\n",
      "*4\n",
      "*8\n",
      "**\n"
     ]
    }
   ],
   "source": [
    "x = 1\n",
    "while x < 5:\n",
    "    print('*',end='')\n",
    "    x = x << 1\n",
    "    print(x)\n",
    "else:\n",
    "    print(2*'*')\n",
    "#finally:\n",
    "#    print(3*'*')"
   ]
  }
 ],
 "metadata": {
  "kernelspec": {
   "display_name": "Python 3",
   "language": "python",
   "name": "python3"
  },
  "language_info": {
   "codemirror_mode": {
    "name": "ipython",
    "version": 3
   },
   "file_extension": ".py",
   "mimetype": "text/x-python",
   "name": "python",
   "nbconvert_exporter": "python",
   "pygments_lexer": "ipython3",
   "version": "3.13.6"
  }
 },
 "nbformat": 4,
 "nbformat_minor": 5
}
