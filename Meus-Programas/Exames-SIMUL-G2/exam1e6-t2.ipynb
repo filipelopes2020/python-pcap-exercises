{
 "cells": [
  {
   "cell_type": "code",
   "execution_count": 3,
   "id": "9191902d",
   "metadata": {},
   "outputs": [
    {
     "name": "stdout",
     "output_type": "stream",
     "text": [
      "['C', 'h', 'e', 'w', 'i', 'e']\n",
      "['H', 'a', 'n']\n",
      "['L', 'u', 'k', 'e']\n",
      "['L', 'H', 'a', 'n']\n",
      "---\n",
      "Error\n",
      "Done\n",
      "['L', 'H', 'a', 'n']\n",
      "['L', 'H', 'a', 'n']\n",
      "['L', 'u', 'k', 'e']\n"
     ]
    }
   ],
   "source": [
    "list_1 = list('Chewie')\n",
    "list_2 = list('Han')\n",
    "list_3 = list('Luke')\n",
    "    \n",
    "print(list_1)                # ['C', 'h', 'e', 'w', 'i', 'e']\n",
    "print(list_2)                # ['H', 'a', 'n']\n",
    "print(list_3)                # ['L', 'u', 'k', 'e']\n",
    "    \n",
    "try:\n",
    "    list_1=list_2            # list_1 and List_2 are now two variables pointing to the SAME list\n",
    "    #print(id(list_1))        # 139761980335760\n",
    "    #print(id(list_2))        # 139761980335760\n",
    "    list_2.insert(0,list_3[0])\n",
    "    print(list_2)          \n",
    "    print(\"---\")\n",
    "    assert list_1[0] == 'H'  # this is False, so AssertError exception will be raised\n",
    "except:\n",
    "    print('Error')           # Error\n",
    "else:\n",
    "    print('OK')\n",
    "finally:\n",
    "    print('Done')            # Done\n",
    "    \n",
    "print(list_1)                # ['L', 'H', 'a', 'n']\n",
    "print(list_2)                # ['L', 'H', 'a', 'n']\n",
    "print(list_3)                # ['L', 'u', 'k', 'e']"
   ]
  },
  {
   "cell_type": "code",
   "execution_count": 23,
   "id": "9621653a",
   "metadata": {},
   "outputs": [
    {
     "name": "stdout",
     "output_type": "stream",
     "text": [
      "['M', 'a', 'r', 'i', 'o', '-', ' ', 'C', 'a', 'n', 'd', 'e', 'i', 'a', 's']\n",
      "Mario- Candeias\n",
      "Mario- CandeiaSs\n"
     ]
    }
   ],
   "source": [
    "lista=list(\"Mario Candeias\")\n",
    "lista.insert(5,'-')\n",
    "print(lista)\n",
    "lista=\"\".join(lista)\n",
    "print(lista)\n",
    "lista=list(lista)\n",
    "lista.insert(-1,'S')   \n",
    "lista=\"\".join(lista)\n",
    "print(lista)\n"
   ]
  },
  {
   "cell_type": "code",
   "execution_count": 24,
   "id": "1c000c44",
   "metadata": {},
   "outputs": [
    {
     "name": "stdout",
     "output_type": "stream",
     "text": [
      "[1, 2, 4, 8, 16]\n"
     ]
    }
   ],
   "source": [
    "def my_func(n):\n",
    "    pwr = 1\n",
    "    for i in range(n):\n",
    "        yield pwr\n",
    "        pwr *= 2\n",
    "    \n",
    "t = [x for x in my_func(5)]\n",
    "print(t)"
   ]
  },
  {
   "cell_type": "code",
   "execution_count": 27,
   "id": "a032d1cb",
   "metadata": {},
   "outputs": [
    {
     "name": "stdout",
     "output_type": "stream",
     "text": [
      "Mario filipe lopes candeias\n"
     ]
    }
   ],
   "source": [
    "my_list = list('mARIO Filipe LOPES candeias')\n",
    "print(''.join(my_list).capitalize())"
   ]
  },
  {
   "cell_type": "code",
   "execution_count": 28,
   "id": "21cde856",
   "metadata": {},
   "outputs": [
    {
     "name": "stdout",
     "output_type": "stream",
     "text": [
      "[[0, 1, 2, 3], [3, 4, 5, 6], [6, 7, 8, 9]]\n"
     ]
    }
   ],
   "source": [
    "my_l = [[i+j for i in range(1,5,1)] for j in range(-1,6,3)]\n",
    "print(my_l)\n"
   ]
  },
  {
   "cell_type": "code",
   "execution_count": 4,
   "id": "e01fdff9",
   "metadata": {},
   "outputs": [
    {
     "name": "stdout",
     "output_type": "stream",
     "text": [
      "['Leo', 'and', 'Chloe', 'love', 'apple', 'pie']\n",
      "['Leo', 'and', 'Chloe', 'love', 'apple', 'pie']\n",
      "Leo\n"
     ]
    }
   ],
   "source": [
    "x = \"Leo and Chloe love apple pie\"\n",
    "y = x.split(); print(y)\n",
    "z = sorted(y); print(y)\n",
    "print(z[1])"
   ]
  },
  {
   "cell_type": "code",
   "execution_count": 13,
   "id": "b803a524",
   "metadata": {},
   "outputs": [
    {
     "name": "stdout",
     "output_type": "stream",
     "text": [
      "g\n",
      "\n"
     ]
    }
   ],
   "source": [
    "f = open('animals.txt','rt')    # Line 1 \n",
    "#data = f.readlines()[:5] \n",
    "#data = f.readlines(5) \n",
    "data = f.readline()[2:]  \n",
    "f.close()                    \n",
    "print(data)"
   ]
  },
  {
   "cell_type": "code",
   "execution_count": 17,
   "id": "cba1009f",
   "metadata": {},
   "outputs": [
    {
     "name": "stdout",
     "output_type": "stream",
     "text": [
      "*C3POC3POC3POC3POC3POC3POC3POC3POC3POC3PO*\n",
      "OK\n",
      "Done\n"
     ]
    }
   ],
   "source": [
    "def my_func(x,y):\n",
    "    return \"*\"+x*y+\"*\"\n",
    " \n",
    "try:\n",
    "    print(my_func('C3PO',10))        # C3POC3PO\n",
    "except TypeError:\n",
    "    print('TypeError')\n",
    "except ValueError:\n",
    "    print('ValueError')\n",
    "except:\n",
    "    print('Error')\n",
    "else:\n",
    "    print('OK')                    # OK\n",
    "finally:\n",
    "    print('Done')   "
   ]
  },
  {
   "cell_type": "code",
   "execution_count": 18,
   "id": "5b171e9b",
   "metadata": {},
   "outputs": [
    {
     "name": "stdout",
     "output_type": "stream",
     "text": [
      "2\n",
      "3\n",
      "3\n",
      "3\n",
      "5\n",
      "5\n"
     ]
    }
   ],
   "source": [
    "class Feline:\n",
    "    def __init__(self, f=1):\n",
    "        self.f = +f\n",
    "        self.g = -f\n",
    "    def reset(self, f=2):\n",
    "        self.f += f\n",
    "        return self.f\n",
    "    \n",
    "cat1 = Feline(2)\n",
    "print(cat1.f)    # 2\n",
    "cat2 = Feline(3)\n",
    "print(cat2.f)    # 3\n",
    "cat1 = cat2\n",
    "print(cat1.f)    # 3\n",
    "print(cat2.f)    # 3\n",
    "cat2.reset()\n",
    "print(cat1.f)    # 5\n",
    "print(cat2.f)    # 5"
   ]
  },
  {
   "cell_type": "code",
   "execution_count": 24,
   "id": "04434a87",
   "metadata": {},
   "outputs": [
    {
     "name": "stdout",
     "output_type": "stream",
     "text": [
      "24.0\n"
     ]
    }
   ],
   "source": [
    "from math import sqrt as s\n",
    "sqrt=(576,)\n",
    "result = s(sqrt[0])\n",
    "print(result)\n"
   ]
  },
  {
   "cell_type": "code",
   "execution_count": 31,
   "id": "ec628366",
   "metadata": {},
   "outputs": [
    {
     "name": "stdout",
     "output_type": "stream",
     "text": [
      "30\n"
     ]
    }
   ],
   "source": [
    "x = 500//2              # x = 2 but that does not really matter\n",
    "func = lambda x:30\n",
    "print(func(x))        # 3"
   ]
  },
  {
   "cell_type": "code",
   "execution_count": 40,
   "id": "173d1bfe",
   "metadata": {},
   "outputs": [
    {
     "name": "stdout",
     "output_type": "stream",
     "text": [
      "True\n",
      "False\n",
      "False\n",
      "True\n",
      "True\n"
     ]
    }
   ],
   "source": [
    "class A:\n",
    "    a=0\n",
    "    def __init__(self, x, y):\n",
    "        self.b = x\n",
    "        self.c = y\n",
    "    \n",
    "class B(A):\n",
    "    b = 0\n",
    "    def __init__(self, x, y, k):\n",
    "        super().__init__(x, y)\n",
    "        if k % 2 ==0:\n",
    "            self.e = k\n",
    "\n",
    "c = B(2,5,7)\n",
    "c.f = 4\n",
    "print(issubclass(B, A))        \n",
    "print(issubclass(A, B))        \n",
    "print(hasattr(c, 'e'))         \n",
    "print(hasattr(c, 'b'))         \n",
    "print(hasattr(c, 'f'))         "
   ]
  },
  {
   "cell_type": "code",
   "execution_count": 13,
   "id": "cbcedf4f",
   "metadata": {},
   "outputs": [
    {
     "name": "stdout",
     "output_type": "stream",
     "text": [
      "l: 11\n",
      "m: 10\n",
      "2\n",
      "2\n",
      "{'l': 11, '_Lambda__m': 10, '__n': 3}\n"
     ]
    }
   ],
   "source": [
    "class Lambda():\n",
    "    L=2\n",
    "    def __init__(self, x = 10):\n",
    "        self.l = x + 1\n",
    "        self.__m = x\n",
    "    def set(self, y = 2):\n",
    "        self.k = y + 1\n",
    "    \n",
    "class Omega(Lambda):\n",
    "    M=2\n",
    "    def __str__(self):\n",
    "        #super().set(6)\n",
    "        #print(\"k:\",self.k)\n",
    "        \n",
    "        print(\"l:\",self.l)\n",
    "        print(\"m:\", self._Lambda__m)        \n",
    "        print(str(super().L))\n",
    "        return str(super().L)\n",
    "    \n",
    "m = Omega()\n",
    "m.__n=3\n",
    "print(m)\n",
    "hasattr(m,'k') #returns True\n",
    "print(m.__dict__)"
   ]
  },
  {
   "cell_type": "code",
   "execution_count": 16,
   "id": "ef41a95c",
   "metadata": {},
   "outputs": [
    {
     "name": "stdout",
     "output_type": "stream",
     "text": [
      "True\n",
      "False\n",
      "False\n",
      "True\n",
      "False\n",
      "True\n"
     ]
    }
   ],
   "source": [
    "print(bool(3))\n",
    "print(bool(0))\n",
    "print(bool(\"\"))\n",
    "print(bool(\"Hello\"))\n",
    "print(bool([]))\n",
    "print(bool([1, 2, 3]))"
   ]
  },
  {
   "cell_type": "code",
   "execution_count": 20,
   "id": "f53340e5",
   "metadata": {},
   "outputs": [
    {
     "name": "stdout",
     "output_type": "stream",
     "text": [
      "['koala', 'apple', 'Polo', '1234Bz']\n",
      "koala\n"
     ]
    }
   ],
   "source": [
    "my_list = ['apple', 'koala', '1234Bz', 'Polo']\n",
    "my_list.sort(key = lambda x: x[::-1])\n",
    "    \n",
    "print(my_list)        # ['koala', 'apple', 'Polo', '1234Bz']\n",
    "print(my_list[0])     # koala"
   ]
  },
  {
   "cell_type": "code",
   "execution_count": 2,
   "id": "8703751e",
   "metadata": {},
   "outputs": [
    {
     "name": "stdout",
     "output_type": "stream",
     "text": [
      "{97: 'a', 101: 'e', 114: 'r', 100: 'd'}\n",
      "a d e r "
     ]
    }
   ],
   "source": [
    "l={}\n",
    "for i in 'Skywalker':\n",
    "    if i in 'Vader':\n",
    "        l[ord(i)]=i\n",
    "else:\n",
    "    l[ord('d')]='d' \n",
    "\n",
    "print(l)    \n",
    "for j in sorted(l.keys()):  # 🔥 ordena as chaves (97, 100, 101, 114)\n",
    "#for j in l.keys():\n",
    "    print(l[j], end=' ')  "
   ]
  },
  {
   "cell_type": "code",
   "execution_count": 3,
   "id": "cdd4a941",
   "metadata": {},
   "outputs": [
    {
     "name": "stdout",
     "output_type": "stream",
     "text": [
      "KeyError\n"
     ]
    }
   ],
   "source": [
    "dict = {1 : 'France' , 2: 'USA', 3: 'Japan', 4 : 'Canada' }\n",
    "    \n",
    "try:\n",
    "    for i in range(5):\n",
    "        if not(dict[i+1].isalpha()):\n",
    "            raise ValueError\n",
    "    print(\"Done\")\n",
    "except ValueError:\n",
    "    print(\"ValueError\")\n",
    "except IndexError:\n",
    "    print(\"IndexError\")\n",
    "except KeyError:\n",
    "    print(\"KeyError\")        # KeyError"
   ]
  },
  {
   "cell_type": "code",
   "execution_count": 7,
   "id": "167c495e",
   "metadata": {},
   "outputs": [
    {
     "name": "stdout",
     "output_type": "stream",
     "text": [
      "True\n",
      "True\n",
      "2066461065504 2066461065504\n"
     ]
    }
   ],
   "source": [
    "str1='Hello'\n",
    "str2='Hello'\n",
    "print(str1[::1] == str2)\n",
    "print(str1 is str2)\n",
    "print(id(str1) ,id(str2))"
   ]
  },
  {
   "cell_type": "code",
   "execution_count": 19,
   "id": "ffbf3508",
   "metadata": {},
   "outputs": [
    {
     "name": "stdout",
     "output_type": "stream",
     "text": [
      "False\n"
     ]
    }
   ],
   "source": [
    "class A():\n",
    "    def __init__(self, val=1):\n",
    "        self.x = val\n",
    "        self.y = 10\n",
    "\n",
    "a = A(10)\n",
    "b = A(10)\n",
    "\n",
    "print(id(a)==id(b))\n"
   ]
  },
  {
   "cell_type": "code",
   "execution_count": 17,
   "id": "99a32fc8",
   "metadata": {},
   "outputs": [
    {
     "name": "stdout",
     "output_type": "stream",
     "text": [
      "True\n"
     ]
    }
   ],
   "source": [
    "\n",
    "str1='Hello'\n",
    "str2='Hello'\n",
    "print(id(str1) == id(str2))"
   ]
  },
  {
   "cell_type": "code",
   "execution_count": null,
   "id": "4791d2b0",
   "metadata": {},
   "outputs": [],
   "source": [
    "f = open(\"myfile.txt\", \"a+\")\n",
    "for i in range(1,11):\n",
    "    f.write('Line #' + str(i) + '\\n')\n",
    "f.seek(0)\n",
    "print(f.readline(10))\n",
    "#print(f.readlines())\n",
    "#print(f.read())\n",
    "f.close()"
   ]
  },
  {
   "cell_type": "code",
   "execution_count": 33,
   "id": "2f64782e",
   "metadata": {},
   "outputs": [
    {
     "name": "stdout",
     "output_type": "stream",
     "text": [
      "['potato', 'radish', 'carrot', 'cauliflower']\n",
      "['cauliflower', 'carrot', 'radish', 'potato']\n",
      "carrot\n"
     ]
    }
   ],
   "source": [
    "my_list = ['carrot', 'potato', 'cauliflower', 'radish']\n",
    "my_list.sort(key = lambda x: x[-2], reverse= True)\n",
    "print(my_list)     # ['potato', 'radish', 'carrot', 'cauliflower']\n",
    "    \n",
    "my_list.sort(key = lambda x: x[-2], reverse= False)\n",
    "print(my_list)     # ['cauliflower', 'carrot', 'radish', 'potato']\n",
    "\n",
    "my_list = ['carrot', 'potato', 'cauliflower', 'radish']\n",
    "print(my_list[0])"
   ]
  },
  {
   "cell_type": "code",
   "execution_count": 46,
   "id": "6d1fc3d4",
   "metadata": {},
   "outputs": [
    {
     "name": "stdout",
     "output_type": "stream",
     "text": [
      "Error generico\n",
      "\n"
     ]
    }
   ],
   "source": [
    "try:                            # line 2\n",
    "    lista=[1,1,2,3]\n",
    "    assert lista[0]==10\n",
    "    print(lista[2]/0)\n",
    "except (ArithmeticError, LookupError) as e:    \n",
    "    print('Error arthmetic or Lookup')         \n",
    "    print(e)  \n",
    "except Exception as e:\n",
    "    print('Error generico')           # line 5\n",
    "    print(e)  \n",
    "    "
   ]
  },
  {
   "cell_type": "code",
   "execution_count": 61,
   "id": "8af9c41a",
   "metadata": {},
   "outputs": [
    {
     "name": "stdout",
     "output_type": "stream",
     "text": [
      "ABC1\n",
      "\n",
      "ABC2\n",
      "\n"
     ]
    }
   ],
   "source": [
    "L = [\"ABC\\n\" for x in range(10)]\n",
    "f = open(\"myfile.txt\", \"rt\")\n",
    "#f.writelines(L)\n",
    "#f.seek(0)\n",
    "#print(f.read())\n",
    "#f.readlines()\n",
    "#f.seek(0)\n",
    "print(f.readline(10))\n",
    "#f.seek(0)\n",
    "print(f.readline(10))\n",
    "f.close()"
   ]
  },
  {
   "cell_type": "code",
   "execution_count": 63,
   "id": "520f7c64",
   "metadata": {},
   "outputs": [],
   "source": [
    "#from sys import path\n",
    "import sys\n",
    "path.append('C:\\\\Users\\\\luke\\\\Documents\\\\My_modules')"
   ]
  },
  {
   "cell_type": "code",
   "execution_count": 88,
   "id": "27116878",
   "metadata": {},
   "outputs": [
    {
     "name": "stdout",
     "output_type": "stream",
     "text": [
      "True\n",
      "Y\n",
      "{'z': 'z'}\n"
     ]
    }
   ],
   "source": [
    "class Y:\n",
    "    def __init__(self, y):\n",
    "        self.y = y\n",
    "\n",
    "class Z(Y):\n",
    "    X=10\n",
    "    def __init__(self, z):\n",
    "        self.z = z\n",
    "    def batatas(self):\n",
    "        pass\n",
    "    \n",
    "z = Z('z')\n",
    "y = Y('y')\n",
    "#print(hasattr(z,'batatas'))\n",
    "#print(isinstance(z,Z))\n",
    "print(isinstance(z,Y))  \n",
    "print(Z.__bases__[0].__name__)\n",
    "print(z.__dict__)"
   ]
  },
  {
   "cell_type": "code",
   "execution_count": 122,
   "id": "6bc68632",
   "metadata": {},
   "outputs": [
    {
     "name": "stdout",
     "output_type": "stream",
     "text": [
      "Randint: [3, 4, 7, 10, 1, 8, 7, 9, 4, 1]\n",
      "Randrange: [5, 5, 1, 1, 3, 8, 5, 3, 5, 1]\n",
      "Randsample: [1, 3, 10, 5, 4, 9, 8, 2, 7, 6]\n",
      "Random: [3, 4, 8, 6, 1, 1, 4, 8, 0, 0]\n",
      "Randchoice: 9\n"
     ]
    }
   ],
   "source": [
    "import random\n",
    " \n",
    "x=[random.randint(1, 10) for i in range(10)]\n",
    "print(\"Randint:\",x)  # [5, 6, 8, 2, 4, 3, 10, 7, 9, 3]\n",
    " \n",
    "x=[random.randrange(1, 10) for i in range(10)]\n",
    "print(\"Randrange:\",x)  # [7, 4, 7, 8, 2, 1, 8, 3, 9, 7]\n",
    " \n",
    "x=random.sample([i for i in range(1,11)],10)\n",
    "print(\"Randsample:\",x)  # [3, 8, 10, 7, 9, 4, 1, 5, 6, 2]\n",
    "\n",
    "x=[int(random.random()*10) for i in range(10)]\n",
    "print(\"Random:\",x)  # [7, 4, 8, 2, 1, 8, 4, 8, 4, 1]\n",
    "\n",
    "x=random.choice([i for i in range(1,10)])\n",
    "print(\"Randchoice:\",x)\n"
   ]
  },
  {
   "cell_type": "code",
   "execution_count": 129,
   "id": "35cafde3",
   "metadata": {},
   "outputs": [
    {
     "name": "stdout",
     "output_type": "stream",
     "text": [
      "5 10\n"
     ]
    }
   ],
   "source": [
    "class Tau:\n",
    "    T = 0\n",
    "    def __init__(self, t=0):\n",
    "        self.t=t\n",
    "        self.__X=10\n",
    "        Tau.T += t\n",
    "    \n",
    "t1 = Tau()\n",
    "t2 = Tau(2)\n",
    "t3 = Tau(3)\n",
    "print(t1.T, t1._Tau__X)"
   ]
  },
  {
   "cell_type": "code",
   "execution_count": 132,
   "id": "b9e0036c",
   "metadata": {},
   "outputs": [
    {
     "name": "stdout",
     "output_type": "stream",
     "text": [
      "Tatooine Is A Olalawless Place Ruled By Hutt Gangsters.\n",
      "Tatooine is a olalawless place ruled by hutt gangsters.\n"
     ]
    }
   ],
   "source": [
    "x = 'Tatooine is a OLAlawless Place ruled By Hutt gangsters.'\n",
    "print(x.title())\n",
    "print(x.capitalize())"
   ]
  },
  {
   "cell_type": "code",
   "execution_count": 134,
   "id": "543a9202",
   "metadata": {},
   "outputs": [
    {
     "name": "stdout",
     "output_type": "stream",
     "text": [
      "66\n",
      "B\n",
      "97\n",
      "a\n",
      "False\n",
      "97\n"
     ]
    }
   ],
   "source": [
    "x = chr(ord('A') + 1) > chr(ord('b') - 1)\n",
    "    \n",
    "print(ord('A') + 1)         # 66\n",
    "print(chr(ord('A') + 1))    # B\n",
    "print(ord('b') - 1)         # 97\n",
    "print(chr(ord('b') - 1))    # a\n",
    "    \n",
    "print(x)                    # False\n",
    "print(ord('a'))"
   ]
  },
  {
   "cell_type": "code",
   "execution_count": 158,
   "id": "06dff864",
   "metadata": {},
   "outputs": [
    {
     "name": "stdout",
     "output_type": "stream",
     "text": [
      "['jjj']\n",
      "1\n",
      "3\n"
     ]
    }
   ],
   "source": [
    "x = '\\t\\\\'*2 + '\\t'\n",
    "x='jjj'\n",
    "print(x.split('b'))\n",
    "print(len(x.split('b')))\n",
    "print(len(x))"
   ]
  },
  {
   "cell_type": "code",
   "execution_count": null,
   "id": "0070c17c",
   "metadata": {},
   "outputs": [],
   "source": [
    "class Gamma:\n",
    "    def __init__(self, val):\n",
    "        self.g = val\n",
    "    \n",
    "class Kappa(Gamma):\n",
    "    K = 0\n",
    "    pass\n",
    "    \n",
    "k1 = Kappa(1)\n",
    "k2 = Kappa(2)\n",
    "k3 = k1\n",
    "k3.g += 1"
   ]
  },
  {
   "cell_type": "code",
   "execution_count": 159,
   "id": "54e1dfde",
   "metadata": {},
   "outputs": [
    {
     "name": "stdout",
     "output_type": "stream",
     "text": [
      "['PY', 'TH', 'ON']\n",
      "PYTHON\n"
     ]
    }
   ],
   "source": [
    "my_list1 = ['$ABC','56HN','PYKN','&HYJ','THDF','SDE#','ONDE']\n",
    "my_list2 = [ x[0] + x[1] for x in my_list1 if x.isalpha()]\n",
    "print(my_list2)    # ['PY', 'TH', 'ON']\n",
    "print(''.join(my_list2))    # PYTHON"
   ]
  },
  {
   "cell_type": "code",
   "execution_count": null,
   "id": "84241c72",
   "metadata": {},
   "outputs": [
    {
     "name": "stdout",
     "output_type": "stream",
     "text": [
      "(<class '__main__.Alpha'>,)\n",
      "False\n",
      "False\n",
      "True\n"
     ]
    }
   ],
   "source": [
    "class Alpha:\n",
    "    a=5\n",
    "    def __init__(self, x):\n",
    "        self.b = x\n",
    "class Beta(Alpha):\n",
    "    c = 2\n",
    "    def __str__(self):\n",
    "        return \"Beta\"\n",
    "beta = Beta(5)\n",
    "beta.d = 4\n",
    "print(type(Beta.__bases__))\n",
    "print(issubclass(Alpha, Beta))\n",
    "print(isinstance(Beta, Alpha))\n",
    "print(hasattr(beta, 'a'))"
   ]
  },
  {
   "cell_type": "code",
   "execution_count": 165,
   "id": "4bef745c",
   "metadata": {},
   "outputs": [
    {
     "name": "stdout",
     "output_type": "stream",
     "text": [
      "Fra\n",
      "\n",
      "Assert Error\n",
      "Error 3\n"
     ]
    }
   ],
   "source": [
    "x = 'France'\n",
    "    \n",
    "def func(x):\n",
    "    return x[:-3]\n",
    "    \n",
    "try:\n",
    "    for i in range(3):\n",
    "        x = func(x)\n",
    "        print(x)            # Fra -> empty string \n",
    "        assert x, \"Assert Error\"    # Added message to make it clear it is an AssertError\n",
    "    print(x)    \n",
    "except IndexError:\n",
    "    print(\"Error 1\")\n",
    "except LookupError:\n",
    "    print(\"Error 2\")\n",
    "except Exception as e:\n",
    "    print(e)            # Assert Error\n",
    "    print(\"Error 3\")    # Error 3"
   ]
  },
  {
   "cell_type": "code",
   "execution_count": 172,
   "id": "c2156d93",
   "metadata": {},
   "outputs": [
    {
     "name": "stdout",
     "output_type": "stream",
     "text": [
      "'Delta' object has no attribute '__d'\n",
      "Tipo da exceção: <class 'AttributeError'>\n",
      "Done\n"
     ]
    }
   ],
   "source": [
    "class Delta:\n",
    "    D=1\n",
    "    def __init__(self, d):\n",
    "        self.__d = d + 1\n",
    "    \n",
    "try:\n",
    "    d = Delta(1)\n",
    "    print(d.__d)\n",
    "except Exception as e:\n",
    "    print(e)\n",
    "    print(\"Tipo da exceção:\", type(e))\n",
    "    #print(\"Error\")\n",
    "else:\n",
    "    print(\"All good\")\n",
    "finally:\n",
    "    print(\"Done\")"
   ]
  }
 ],
 "metadata": {
  "kernelspec": {
   "display_name": "Python 3",
   "language": "python",
   "name": "python3"
  },
  "language_info": {
   "codemirror_mode": {
    "name": "ipython",
    "version": 3
   },
   "file_extension": ".py",
   "mimetype": "text/x-python",
   "name": "python",
   "nbconvert_exporter": "python",
   "pygments_lexer": "ipython3",
   "version": "3.13.6"
  }
 },
 "nbformat": 4,
 "nbformat_minor": 5
}
