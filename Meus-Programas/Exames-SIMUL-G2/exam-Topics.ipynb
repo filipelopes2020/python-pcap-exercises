{
 "cells": [
  {
   "cell_type": "code",
   "execution_count": 3,
   "id": "280ebb95",
   "metadata": {},
   "outputs": [
    {
     "name": "stdout",
     "output_type": "stream",
     "text": [
      "True upper\n"
     ]
    }
   ],
   "source": [
    "class Upper:\n",
    "    def method(self):\n",
    "        return 'upper'\n",
    "class Lower:\n",
    "    def method(self):\n",
    "        return 'lower'  \n",
    "Object = Upper()  \n",
    "#print(isinstance(Object, Lower), end=' ')\n",
    "print(isinstance(Object, Upper), end=' ')\n",
    "print(Object.method())\n",
    "\n"
   ]
  },
  {
   "cell_type": "code",
   "execution_count": null,
   "id": "8a1eb515",
   "metadata": {},
   "outputs": [],
   "source": [
    "the_list = \"alpha;beta;gamma\".split(\";\")\n",
    "the_string = ''.join(the_list)\n",
    "print(the_string.isalpha())"
   ]
  },
  {
   "cell_type": "code",
   "execution_count": null,
   "id": "5d289e01",
   "metadata": {},
   "outputs": [],
   "source": [
    "import sys\n",
    "import math\n",
    "\n",
    "b1 = type(dir(math)) is list\n",
    "b2 = type(sys.path) is list\n",
    "\n",
    "print(b1 and b2)"
   ]
  },
  {
   "cell_type": "code",
   "execution_count": 1,
   "id": "cdf477ad",
   "metadata": {},
   "outputs": [
    {
     "name": "stdout",
     "output_type": "stream",
     "text": [
      "True True\n"
     ]
    }
   ],
   "source": [
    "class A: pass\n",
    "class B(A): pass\n",
    "class C(A): pass\n",
    "\n",
    "c=C()\n",
    "print(isinstance(c, A), isinstance(c, C))\n"
   ]
  },
  {
   "cell_type": "code",
   "execution_count": null,
   "id": "2df78cbd",
   "metadata": {},
   "outputs": [],
   "source": [
    "myli = range(-2, 2)\n",
    "m = list(filter(lambda x: True if abs(x) < 1 else False, myli))\n",
    "print(len(m))"
   ]
  },
  {
   "cell_type": "code",
   "execution_count": null,
   "id": "d316795f",
   "metadata": {},
   "outputs": [],
   "source": [
    "my_list = [i for i in range(5)]\n",
    "m = [my_list[i] for i in range(4, 0, -1) if my_list[i] % 2 != 0]\n",
    "print(m)"
   ]
  },
  {
   "cell_type": "code",
   "execution_count": null,
   "id": "a63896e8",
   "metadata": {},
   "outputs": [],
   "source": [
    "import random\n",
    "print(random.choice([1,2,3]) >0)\n"
   ]
  },
  {
   "cell_type": "code",
   "execution_count": null,
   "id": "01a3516f",
   "metadata": {},
   "outputs": [],
   "source": [
    "import sys\n",
    "\n",
    "b1 = type(dir(sys)) is str\n",
    "b2 = type(sys.path[-1]) is str\n",
    "\n",
    "print(b1 and b2)"
   ]
  },
  {
   "cell_type": "code",
   "execution_count": 2,
   "id": "9fbbee83",
   "metadata": {},
   "outputs": [
    {
     "name": "stdout",
     "output_type": "stream",
     "text": [
      "Error\n"
     ]
    }
   ],
   "source": [
    "my_list= [1,2,3]    \n",
    "try:\n",
    "    my_list[3] = my_list[2]\n",
    "except BaseException as error:\n",
    "    print(\"Error\")"
   ]
  },
  {
   "cell_type": "code",
   "execution_count": 5,
   "id": "0a801e13",
   "metadata": {},
   "outputs": [
    {
     "name": "stdout",
     "output_type": "stream",
     "text": [
      "antes: [5, 2, 9, 1]\n",
      "depois: [1, 2, 5, 9]\n",
      "\n",
      "Antes: python\n",
      "Depois: ['h', 'n', 'o', 'p', 't', 'y']\n",
      "\n",
      "Antes: {3: 'c', 1: 'a', 2: 'b'}\n",
      "Depois: [1, 2, 3]\n"
     ]
    }
   ],
   "source": [
    "nums = [5, 2, 9, 1]\n",
    "print(\"antes:\", nums)       # [5, 2, 9, 1] (não mudou!)\n",
    "new_nums = sorted(nums)\n",
    "print(\"depois:\", new_nums)   # [1, 2, 5, 9]\n",
    "\n",
    "\n",
    "texto = \"python\"\n",
    "print(\"\\nAntes:\", texto)  # python (não mudou!)\n",
    "print(\"Depois:\", sorted(texto))  # ['h', 'n', 'o', 'p', 't', 'y']\n",
    "\n",
    "d = {3: \"c\", 1: \"a\", 2: \"b\"}\n",
    "print(\"\\nAntes:\", d)  # {3: \"c\", 1: \"a\", 2: \"b\"}\n",
    "print(\"Depois:\",sorted(d))  # [1, 2, 3] → ordena as CHAVES do dicionário\n"
   ]
  },
  {
   "cell_type": "code",
   "execution_count": 8,
   "id": "62d59d27",
   "metadata": {},
   "outputs": [
    {
     "name": "stdout",
     "output_type": "stream",
     "text": [
      "Chaves ordenadas: [1, 2, 3]\n",
      "Valores ordenados: ['a', 'b', 'c']\n",
      "Dicionário ordenado: {1: 'a', 2: 'b', 3: 'c'}\n"
     ]
    }
   ],
   "source": [
    "d = {3: \"c\", 1: \"a\", 2: \"b\"}\n",
    "\n",
    "# Ordena as chaves do dicionário\n",
    "sorted_keys = sorted(d)\n",
    "print(\"Chaves ordenadas:\", sorted_keys)\n",
    "\n",
    "# Ordena os valores do dicionário\n",
    "sorted_values = sorted(d.values())\n",
    "print(\"Valores ordenados:\", sorted_values)\n",
    "\n",
    "# Para obter um novo dicionário ordenado pelas chaves:\n",
    "ordered_dict = {k: d[k] for k in sorted(d)}\n",
    "print(\"Dicionário ordenado:\", ordered_dict)"
   ]
  },
  {
   "cell_type": "code",
   "execution_count": null,
   "id": "c3981aa3",
   "metadata": {},
   "outputs": [],
   "source": [
    "the_string = ',,'.join(('alpha', 'omega'))\n",
    "the_list = the_string.split(',')\n",
    "print(',' in the_list)"
   ]
  }
 ],
 "metadata": {
  "kernelspec": {
   "display_name": "Python 3",
   "language": "python",
   "name": "python3"
  },
  "language_info": {
   "codemirror_mode": {
    "name": "ipython",
    "version": 3
   },
   "file_extension": ".py",
   "mimetype": "text/x-python",
   "name": "python",
   "nbconvert_exporter": "python",
   "pygments_lexer": "ipython3",
   "version": "3.13.6"
  }
 },
 "nbformat": 4,
 "nbformat_minor": 5
}
