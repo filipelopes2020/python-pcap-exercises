{
 "cells": [
  {
   "cell_type": "code",
   "execution_count": null,
   "id": "7b3f3811",
   "metadata": {},
   "outputs": [
    {
     "name": "stdout",
     "output_type": "stream",
     "text": [
      "8\n",
      "30\n"
     ]
    }
   ],
   "source": [
    "class Calculadora:\n",
    "    @staticmethod\n",
    "    def somar(a, b):\n",
    "        return a + b\n",
    "\n",
    "# Chamando o método estático\n",
    "c = Calculadora\n",
    "resultado = Calculadora.somar(5, 3)  # Resultado: 8\n",
    "print(resultado, c.somar(10, 20), sep=\"\\n\")"
   ]
  },
  {
   "cell_type": "code",
   "execution_count": 5,
   "id": "05f951ab",
   "metadata": {},
   "outputs": [
    {
     "name": "stdout",
     "output_type": "stream",
     "text": [
      "{0: 10, 1: 11, 2: 12, 3: 13, 4: 14}\n"
     ]
    }
   ],
   "source": [
    "d = {i: i+10 for i in range(5)}\n",
    "print(d)"
   ]
  },
  {
   "cell_type": "code",
   "execution_count": 20,
   "id": "0e9e3231",
   "metadata": {},
   "outputs": [
    {
     "name": "stdout",
     "output_type": "stream",
     "text": [
      "{'chave_0': 0, 'chave_1': 1, 'chave_2': 4}\n"
     ]
    }
   ],
   "source": [
    "d = {f\"chave_{i}\": i**2 for i in range(3)}\n",
    "print(d)"
   ]
  },
  {
   "cell_type": "code",
   "execution_count": null,
   "id": "8d031833",
   "metadata": {},
   "outputs": [],
   "source": [
    "def test(): \n",
    "    raise Exception(\"Custom error\")\n",
    "\n"
   ]
  },
  {
   "cell_type": "code",
   "execution_count": 22,
   "id": "9a7739d0",
   "metadata": {},
   "outputs": [
    {
     "name": "stdout",
     "output_type": "stream",
     "text": [
      "15\n"
     ]
    }
   ],
   "source": [
    "def recursive_lambda(x):\n",
    "\treturn x if x == 0 else x + recursive_lambda(x-1)\n",
    "\n",
    "result = recursive_lambda(5)\n",
    "print(result)"
   ]
  },
  {
   "cell_type": "code",
   "execution_count": null,
   "id": "21335d4a",
   "metadata": {},
   "outputs": [],
   "source": [
    "def factorial(n): \n",
    "    return 1 if n == 0 else n * factorial(n-1)\n",
    "\n",
    "print(factorial(4))"
   ]
  },
  {
   "cell_type": "code",
   "execution_count": 23,
   "id": "fa18f6cf",
   "metadata": {},
   "outputs": [
    {
     "name": "stdout",
     "output_type": "stream",
     "text": [
      "Número de argumentos: 2\n",
      "Lista de argumentos: ['C:\\\\Users\\\\mario\\\\AppData\\\\Roaming\\\\Python\\\\Python313\\\\site-packages\\\\ipykernel_launcher.py', '--f=c:\\\\Users\\\\mario\\\\AppData\\\\Roaming\\\\jupyter\\\\runtime\\\\kernel-v38a50e0ebc06d7f9aecce13ecb5999166ae4e257b.json']\n",
      "Nome do script: C:\\Users\\mario\\AppData\\Roaming\\Python\\Python313\\site-packages\\ipykernel_launcher.py\n",
      "Primeiro argumento: --f=c:\\Users\\mario\\AppData\\Roaming\\jupyter\\runtime\\kernel-v38a50e0ebc06d7f9aecce13ecb5999166ae4e257b.json\n",
      "Todos os argumentos: ['--f=c:\\\\Users\\\\mario\\\\AppData\\\\Roaming\\\\jupyter\\\\runtime\\\\kernel-v38a50e0ebc06d7f9aecce13ecb5999166ae4e257b.json']\n"
     ]
    }
   ],
   "source": [
    "import sys\n",
    "\n",
    "print(\"Número de argumentos:\", len(sys.argv))\n",
    "print(\"Lista de argumentos:\", sys.argv)\n",
    "print(\"Nome do script:\", sys.argv[0])\n",
    "\n",
    "if len(sys.argv) > 1:\n",
    "    print(\"Primeiro argumento:\", sys.argv[1])\n",
    "    print(\"Todos os argumentos:\", sys.argv[1:])"
   ]
  },
  {
   "cell_type": "code",
   "execution_count": 24,
   "id": "f4b87321",
   "metadata": {},
   "outputs": [
    {
     "name": "stdout",
     "output_type": "stream",
     "text": [
      "Olá, Ana!\n",
      "Olá, Carlos!\n",
      "Olá, Maria!\n"
     ]
    }
   ],
   "source": [
    "def cumprimentar(saudacao, *nomes):\n",
    "    for nome in nomes:\n",
    "        print(f\"{saudacao}, {nome}!\")\n",
    "\n",
    "cumprimentar(\"Olá\", \"Ana\", \"Carlos\", \"Maria\")"
   ]
  },
  {
   "cell_type": "code",
   "execution_count": 25,
   "id": "99796bbf",
   "metadata": {},
   "outputs": [
    {
     "name": "stdout",
     "output_type": "stream",
     "text": [
      "Tipo de kwargs: <class 'dict'>\n",
      "Conteúdo: {'nome': 'Ana', 'idade': 25}\n",
      "--- Detalhes ---\n",
      "nome: Ana\n",
      "idade: 25\n",
      "Tipo de kwargs: <class 'dict'>\n",
      "Conteúdo: {'cidade': 'Lisboa', 'pais': 'Portugal', 'temperatura': 22.5}\n",
      "--- Detalhes ---\n",
      "cidade: Lisboa\n",
      "pais: Portugal\n",
      "temperatura: 22.5\n",
      "Tipo de kwargs: <class 'dict'>\n",
      "Conteúdo: {}\n",
      "--- Detalhes ---\n"
     ]
    }
   ],
   "source": [
    "def mostrar_info(**kwargs):\n",
    "    print(\"Tipo de kwargs:\", type(kwargs))\n",
    "    print(\"Conteúdo:\", kwargs)\n",
    "    print(\"--- Detalhes ---\")\n",
    "    for chave, valor in kwargs.items():\n",
    "        print(f\"{chave}: {valor}\")\n",
    "\n",
    "# Chamadas válidas:\n",
    "mostrar_info(nome=\"Ana\", idade=25)\n",
    "# Output:\n",
    "# Tipo de kwargs: <class 'dict'>\n",
    "# Conteúdo: {'nome': 'Ana', 'idade': 25}\n",
    "# --- Detalhes ---\n",
    "# nome: Ana\n",
    "# idade: 25\n",
    "\n",
    "mostrar_info(cidade=\"Lisboa\", pais=\"Portugal\", temperatura=22.5)\n",
    "# Output:\n",
    "# Conteúdo: {'cidade': 'Lisboa', 'pais': 'Portugal', 'temperatura': 22.5}\n",
    "\n",
    "mostrar_info()  # Funciona! kwargs será um dicionário vazio {}"
   ]
  },
  {
   "cell_type": "code",
   "execution_count": 3,
   "id": "f2f47ccb",
   "metadata": {},
   "outputs": [
    {
     "name": "stdout",
     "output_type": "stream",
     "text": [
      "1\n"
     ]
    }
   ],
   "source": [
    "print (5 & 3 )\n"
   ]
  },
  {
   "cell_type": "code",
   "execution_count": 4,
   "id": "bdbcbbc5",
   "metadata": {},
   "outputs": [
    {
     "name": "stdout",
     "output_type": "stream",
     "text": [
      "0\n",
      "2\n"
     ]
    }
   ],
   "source": [
    "for i in range(3):\n",
    "    if i == 1:\n",
    "        continue\n",
    "    print(i)"
   ]
  },
  {
   "cell_type": "code",
   "execution_count": 1,
   "id": "c748a29c",
   "metadata": {},
   "outputs": [
    {
     "name": "stdout",
     "output_type": "stream",
     "text": [
      "0\n",
      "1\n",
      "2\n",
      "3\n",
      "4\n",
      "5\n"
     ]
    }
   ],
   "source": [
    "def contador_infinito():\n",
    "    n = 0\n",
    "    while True:\n",
    "        yield n\n",
    "        n += 1\n",
    "\n",
    "# Usando em um for loop com break para evitar loop infinito\n",
    "for num in contador_infinito():\n",
    "    if num > 5:\n",
    "        break\n",
    "    print(num)"
   ]
  },
  {
   "cell_type": "code",
   "execution_count": 3,
   "id": "6277227d",
   "metadata": {},
   "outputs": [
    {
     "name": "stdout",
     "output_type": "stream",
     "text": [
      "<class 'int'> 1\n",
      "<class 'int'> 4\n",
      "<class 'int'> 5\n"
     ]
    }
   ],
   "source": [
    "def mixed():\n",
    "    yield 1\n",
    "    yield 4\n",
    "    yield 5\n",
    "\n",
    "for item in mixed():\n",
    "    print(type(item), item)\n"
   ]
  },
  {
   "cell_type": "code",
   "execution_count": 8,
   "id": "ef212761",
   "metadata": {},
   "outputs": [
    {
     "name": "stdout",
     "output_type": "stream",
     "text": [
      "7\n",
      "\n",
      "Soma dois números quaisquer.\n",
      "\n"
     ]
    }
   ],
   "source": [
    "def somar(a, b):\n",
    "    '''\n",
    "    Soma dois números quaisquer.\n",
    "    '''\n",
    "    return a + b\n",
    "\n",
    "\n",
    "print(somar(3, 4))  # Output: 7\n",
    "print(somar.__doc__ )"
   ]
  },
  {
   "cell_type": "code",
   "execution_count": 12,
   "id": "2876367b",
   "metadata": {},
   "outputs": [
    {
     "name": "stdout",
     "output_type": "stream",
     "text": [
      "('João', 30, 1.75)\n",
      "<class 'tuple'>\n"
     ]
    }
   ],
   "source": [
    "pessoa = \"João\", 30, 1.75\n",
    "print(pessoa)\n",
    "print(type(pessoa))"
   ]
  },
  {
   "cell_type": "code",
   "execution_count": 14,
   "id": "0cb7d6a1",
   "metadata": {},
   "outputs": [
    {
     "name": "stdout",
     "output_type": "stream",
     "text": [
      "True\n",
      "['__all__', '__builtins__', '__cached__', '__doc__', '__file__', '__loader__', '__name__', '__package__', '__spec__', 'iskeyword', 'issoftkeyword', 'kwlist', 'softkwlist']\n"
     ]
    }
   ],
   "source": [
    "import keyword\n",
    "print(keyword.iskeyword('try'))\n",
    "\n",
    "print(dir(keyword))"
   ]
  },
  {
   "cell_type": "code",
   "execution_count": null,
   "id": "5edb8977",
   "metadata": {},
   "outputs": [
    {
     "name": "stdout",
     "output_type": "stream",
     "text": [
      "nt\n",
      "d:\\OneDrive\\Documentos\\REPOS\\PYTHON\\Cursos_Python\\Meus-Programas\\Exames-SIMUL-G2\n"
     ]
    }
   ],
   "source": [
    "import os\n",
    "print(os.name)\n",
    "print(os.getcwd())  \n",
    "os.makedirs"
   ]
  },
  {
   "cell_type": "code",
   "execution_count": null,
   "id": "f36fa20c",
   "metadata": {},
   "outputs": [],
   "source": [
    "class A:\n",
    "    pass\n",
    "class B:\n",
    "    pass    \n",
    "class C(A, B):\n",
    "    pass\n",
    "\n"
   ]
  },
  {
   "cell_type": "code",
   "execution_count": 17,
   "id": "b0164888",
   "metadata": {},
   "outputs": [
    {
     "name": "stdout",
     "output_type": "stream",
     "text": [
      "4.0\n"
     ]
    }
   ],
   "source": [
    "print( 10 // 3 +1.0)"
   ]
  },
  {
   "cell_type": "code",
   "execution_count": 18,
   "id": "5c9d6eea",
   "metadata": {},
   "outputs": [
    {
     "name": "stdout",
     "output_type": "stream",
     "text": [
      "{1, 2, 3}\n"
     ]
    }
   ],
   "source": [
    "seti={1, 2, 2,3,2,2,1,1,2,3}\n",
    "print(seti)"
   ]
  },
  {
   "cell_type": "code",
   "execution_count": null,
   "id": "8289a0fc",
   "metadata": {},
   "outputs": [
    {
     "name": "stdout",
     "output_type": "stream",
     "text": [
      "<__main__.MinhaClasse object at 0x000002AE78114440>\n"
     ]
    }
   ],
   "source": [
    "class MinhaClasse:\n",
    "    @classmethod\n",
    "    def metodo_classe(cls):\n",
    "        return \"batatas\"  # Retorna 'batatas' ✓\n",
    "        return 42        # Retorna inteiro ✓\n",
    "        return cls()     # Retorna instância (opcional) ✓\n",
    "    \n",
    "print(MinhaClasse.metodo_classe())"
   ]
  },
  {
   "cell_type": "code",
   "execution_count": 22,
   "id": "d2f2679f",
   "metadata": {},
   "outputs": [
    {
     "name": "stdout",
     "output_type": "stream",
     "text": [
      "('Ana', 'Bruno')\n",
      "(25, 30)\n"
     ]
    }
   ],
   "source": [
    "combinado = [('Ana', 25), ('Bruno', 30)]\n",
    "nomes, idades = zip(*combinado)\n",
    "print(nomes)   # ('Ana', 'Bruno')\n",
    "print(idades)  # (25, 30)\n"
   ]
  },
  {
   "cell_type": "code",
   "execution_count": 37,
   "id": "f8e6f377",
   "metadata": {},
   "outputs": [
    {
     "name": "stdout",
     "output_type": "stream",
     "text": [
      "[('Ana', 25, 'Porto'), ('Bruno', 30, 'Lisboa'), ('Carla', 22, 'Coimbra'), ('Zefa', 17, 'Faro')]\n",
      "('Ana', 'Bruno', 'Carla', 'Zefa')\n",
      "(25, 30, 22, 17)\n",
      "('Porto', 'Lisboa', 'Coimbra', 'Faro')\n"
     ]
    }
   ],
   "source": [
    "nomes = [\"Ana\", \"Bruno\", \"Carla\", \"Zefa\"]\n",
    "idades = [25, 30, 22, 17]\n",
    "cidade = [\"Porto\", \"Lisboa\", \"Coimbra\", \"Faro\"]\n",
    "combinado = zip(nomes, idades, cidade)\n",
    "x = list(combinado)\n",
    "print(x)\n",
    "nomes, idades , cidade = zip(*x)\n",
    "print(nomes)\n",
    "print(idades)\n",
    "print(cidade)   "
   ]
  },
  {
   "cell_type": "code",
   "execution_count": 56,
   "id": "a5ae8be6",
   "metadata": {},
   "outputs": [
    {
     "name": "stdout",
     "output_type": "stream",
     "text": [
      "{'a': 10}\n",
      "{'a': 'joao', 'b': 'porto', 'c': 'brasil'}\n"
     ]
    }
   ],
   "source": [
    "def show_info(**kwargs): \n",
    "    print(kwargs)\n",
    "\n",
    "#show_info(1,2,3) # ---> Dá erro! PorquÊ? \n",
    "show_info(a=10)\n",
    "show_info(a=\"joao\", b=\"porto\", c=\"brasil\")\n"
   ]
  },
  {
   "cell_type": "code",
   "execution_count": 51,
   "id": "396dbc6c",
   "metadata": {},
   "outputs": [
    {
     "name": "stdout",
     "output_type": "stream",
     "text": [
      "(10,)\n",
      "('joao', 'porto', 'brasil')\n"
     ]
    }
   ],
   "source": [
    "def show_info(*args): \n",
    "    print(args)\n",
    "\n",
    "#show_info(1,2,3) # ---> Dá erro! PorquÊ? \n",
    "show_info(10,)\n",
    "show_info(\"joao\", \"porto\", \"brasil\")"
   ]
  },
  {
   "cell_type": "code",
   "execution_count": 59,
   "id": "59b8c74e",
   "metadata": {},
   "outputs": [
    {
     "name": "stdout",
     "output_type": "stream",
     "text": [
      "<class 'list_iterator'>\n",
      "1\n",
      "2\n",
      "3\n"
     ]
    }
   ],
   "source": [
    "minha_lista = [1, 2, 3, 4]\n",
    "iterador = iter(minha_lista)\n",
    "print(type(iterador))  # <class 'list_iterator'>\n",
    "print(next(iterador))  # 1\n",
    "print(next(iterador))  # 2\n",
    "print(next(iterador))  # 2"
   ]
  },
  {
   "cell_type": "code",
   "execution_count": 61,
   "id": "967afac4",
   "metadata": {},
   "outputs": [
    {
     "name": "stdout",
     "output_type": "stream",
     "text": [
      "<class 'generator'>\n"
     ]
    }
   ],
   "source": [
    "def criar_gerador():\n",
    "    yield from [1, 2, 3]  # Isso cria um novo gerador, não converte a lista\n",
    "\n",
    "gerador = criar_gerador()\n",
    "print(type(gerador))  # <class 'generator'>\n",
    "# Não é o mesmo que converter a lista diretamente"
   ]
  },
  {
   "cell_type": "code",
   "execution_count": 66,
   "id": "5767e812",
   "metadata": {},
   "outputs": [
    {
     "name": "stdout",
     "output_type": "stream",
     "text": [
      "1\n"
     ]
    }
   ],
   "source": [
    "print(900**0)"
   ]
  }
 ],
 "metadata": {
  "kernelspec": {
   "display_name": "Python 3",
   "language": "python",
   "name": "python3"
  },
  "language_info": {
   "codemirror_mode": {
    "name": "ipython",
    "version": 3
   },
   "file_extension": ".py",
   "mimetype": "text/x-python",
   "name": "python",
   "nbconvert_exporter": "python",
   "pygments_lexer": "ipython3",
   "version": "3.13.6"
  }
 },
 "nbformat": 4,
 "nbformat_minor": 5
}
