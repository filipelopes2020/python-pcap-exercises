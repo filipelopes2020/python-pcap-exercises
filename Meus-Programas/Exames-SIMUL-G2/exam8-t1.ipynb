{
 "cells": [
  {
   "cell_type": "code",
   "execution_count": 1,
   "id": "7b3f3811",
   "metadata": {},
   "outputs": [],
   "source": [
    "class Calculadora:\n",
    "    @staticmethod\n",
    "    def somar(a, b):\n",
    "        return a + b\n",
    "\n",
    "# Chamando o método estático\n",
    "resultado = Calculadora.somar(5, 3)  # Resultado: 8"
   ]
  }
 ],
 "metadata": {
  "kernelspec": {
   "display_name": "Python 3",
   "language": "python",
   "name": "python3"
  },
  "language_info": {
   "codemirror_mode": {
    "name": "ipython",
    "version": 3
   },
   "file_extension": ".py",
   "mimetype": "text/x-python",
   "name": "python",
   "nbconvert_exporter": "python",
   "pygments_lexer": "ipython3",
   "version": "3.13.6"
  }
 },
 "nbformat": 4,
 "nbformat_minor": 5
}
