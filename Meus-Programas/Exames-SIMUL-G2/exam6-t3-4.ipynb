{
 "cells": [
  {
   "cell_type": "code",
   "execution_count": 12,
   "id": "b77d0266",
   "metadata": {},
   "outputs": [
    {
     "name": "stdout",
     "output_type": "stream",
     "text": [
      "5 6\n"
     ]
    }
   ],
   "source": [
    "class Alpha:\n",
    "    def __init__(self, val):\n",
    "        self.a = val\n",
    "    \n",
    "class Beta(Alpha):\n",
    "    def __init__(self,x,y):\n",
    "        super().__init__(x)\n",
    "        self.b = y + 1\n",
    "\n",
    "b = Beta(5,5)\n",
    "print(b.a, b.b)"
   ]
  },
  {
   "cell_type": "code",
   "execution_count": 22,
   "id": "a4150d34",
   "metadata": {},
   "outputs": [
    {
     "name": "stdout",
     "output_type": "stream",
     "text": [
      "B\n",
      "(<class '__main__.A'>,)\n",
      "__main__\n"
     ]
    }
   ],
   "source": [
    "class A:\n",
    "    # class does not have any constructor\n",
    "    pass\n",
    "    \n",
    "class B(A):\n",
    "    # class does not have any constructor\n",
    "    pass\n",
    "    \n",
    "print(B.__name__)    # B\n",
    "print(B.__bases__)   # (<class '__main__.A'>,)\n",
    "print(B.__module__)  # __main__"
   ]
  },
  {
   "cell_type": "code",
   "execution_count": 23,
   "id": "3ed95b37",
   "metadata": {},
   "outputs": [
    {
     "name": "stdout",
     "output_type": "stream",
     "text": [
      "(<class '__main__.A'>, <class '__main__.B'>)\n",
      "['A', 'B']\n"
     ]
    }
   ],
   "source": [
    "class A: pass\n",
    "class B: pass\n",
    "class C(A, B): pass\n",
    "\n",
    "print(C.__bases__)                 # (<class '__main__.A'>, <class '__main__.B'>)\n",
    "print([base.__name__ for base in C.__bases__])  # [\"A\", \"B\"]"
   ]
  },
  {
   "cell_type": "code",
   "execution_count": null,
   "id": "2a22186b",
   "metadata": {},
   "outputs": [
    {
     "name": "stdout",
     "output_type": "stream",
     "text": [
      "8\n"
     ]
    }
   ],
   "source": [
    "from math import ceil\n",
    "\n",
    "def func(g,x):\n",
    "    return g(x) + 1\n",
    "    \n",
    "print(func(lambda x: ceil(x),3.2))\n"
   ]
  },
  {
   "cell_type": "code",
   "execution_count": 40,
   "id": "0e2c97ec",
   "metadata": {},
   "outputs": [
    {
     "name": "stdout",
     "output_type": "stream",
     "text": [
      "2\n"
     ]
    }
   ],
   "source": [
    "class Alpha:\n",
    "    A=0\n",
    "    def __init__(self, x):\n",
    "        self.k = x\n",
    "    \n",
    "class Kappa(Alpha):\n",
    "    K=1\n",
    "    def __init__(self, x):\n",
    "        self.k = x + 1\n",
    "        super().__init__(x-1)\n",
    "    \n",
    "class Gamma:\n",
    "    G = 2\n",
    "    def __init__(self, x):\n",
    "        self.k = x + 2\n",
    "    \n",
    "class Omega(Kappa,Gamma):\n",
    "    O = 3\n",
    "    \n",
    "o=Omega(3)\n",
    "print(o.k)"
   ]
  },
  {
   "cell_type": "code",
   "execution_count": 48,
   "id": "39bde5c3",
   "metadata": {},
   "outputs": [
    {
     "name": "stdout",
     "output_type": "stream",
     "text": [
      "4\n",
      "7\n"
     ]
    }
   ],
   "source": [
    "class Class1:\n",
    "    def __init__(self):\n",
    "        self.a = 4\n",
    "    \n",
    "    def set(self):\n",
    "        self.a += 1\n",
    "        return self.a\n",
    "    \n",
    "class Class2(Class1):\n",
    "    def set(self):\n",
    "        self.a += 2\n",
    "        super().set()\n",
    "        return self.a\n",
    "    \n",
    "c=Class2()\n",
    "print(c.a)        # 4\n",
    "print(c.set())    # 6"
   ]
  },
  {
   "cell_type": "code",
   "execution_count": 53,
   "id": "291f20a4",
   "metadata": {},
   "outputs": [
    {
     "name": "stdout",
     "output_type": "stream",
     "text": [
      "y\n",
      "13\n",
      "9\n"
     ]
    }
   ],
   "source": [
    "print(max(\"I love Python!\"))\n",
    "print(max([1,2,7,13,1,3]))\n",
    "print(min({90:\"ola\",12:\"ole\",9:\"nada\"}))"
   ]
  },
  {
   "cell_type": "code",
   "execution_count": 54,
   "id": "ead84142",
   "metadata": {},
   "outputs": [
    {
     "ename": "SyntaxError",
     "evalue": "positional argument follows keyword argument (2639741786.py, line 5)",
     "output_type": "error",
     "traceback": [
      "  \u001b[36mCell\u001b[39m\u001b[36m \u001b[39m\u001b[32mIn[54]\u001b[39m\u001b[32m, line 5\u001b[39m\n\u001b[31m    \u001b[39m\u001b[31mprint(func(x=1,4))\u001b[39m\n                    ^\n\u001b[31mSyntaxError\u001b[39m\u001b[31m:\u001b[39m positional argument follows keyword argument\n"
     ]
    }
   ],
   "source": [
    "def func(x,y):\n",
    "    return x/(y-4)\n",
    "    \n",
    "try:\n",
    "    print(func(x=1,4))\n",
    "except ArithmeticError:\n",
    "    print(\"ArithmeticError\")\n",
    "except ZeroDivisionError:\n",
    "    print(\"ZeroDivisionError\")\n",
    "except:\n",
    "    print(\"Misc. Error\")"
   ]
  },
  {
   "cell_type": "code",
   "execution_count": 57,
   "id": "7878efc4",
   "metadata": {},
   "outputs": [
    {
     "name": "stdout",
     "output_type": "stream",
     "text": [
      "T\n"
     ]
    }
   ],
   "source": [
    "x=\"RAT\"\n",
    "print(x[-1])"
   ]
  },
  {
   "cell_type": "code",
   "execution_count": 61,
   "id": "6c0bfea5",
   "metadata": {},
   "outputs": [
    {
     "name": "stdout",
     "output_type": "stream",
     "text": [
      "666 Value is out of range "
     ]
    }
   ],
   "source": [
    "class NotInRangeError(Exception):\n",
    "    def __init__(self, val, message=\"Value is out of range\"):\n",
    "        self.val = val\n",
    "        self.message = message\n",
    "        super().__init__(self.val, self.message)\n",
    "    \n",
    "try:\n",
    "    guess = int(input(\"Enter integer between 0 and 100: \"))\n",
    "    if not 0 <= guess <= 100:\n",
    "        raise NotInRangeError(guess)\n",
    "except Exception as ex:\n",
    "    for arg in ex.args:\n",
    "        print(arg, end=' ')"
   ]
  },
  {
   "cell_type": "code",
   "execution_count": 66,
   "id": "a512c048",
   "metadata": {},
   "outputs": [
    {
     "name": "stdout",
     "output_type": "stream",
     "text": [
      "{'b': 3, 'd': 2}\n",
      "dict_values([3, 2])\n"
     ]
    }
   ],
   "source": [
    "class A:\n",
    "    a=1\n",
    "    def __init__(self, x=0):\n",
    "        self.b = x\n",
    "    \n",
    "class B(A):\n",
    "    c = 0\n",
    "    def __str__(self):\n",
    "        return \"B\"\n",
    "    \n",
    "class C(B):\n",
    "    d = 0\n",
    "    \n",
    "beta = B(3)\n",
    "beta.d = 2\n",
    "\n",
    "print(beta.__dict__)\n",
    "print(beta.__dict__.values())"
   ]
  },
  {
   "cell_type": "code",
   "execution_count": 83,
   "id": "6eeeebc4",
   "metadata": {},
   "outputs": [
    {
     "name": "stdout",
     "output_type": "stream",
     "text": [
      "1\n",
      "{'a': 1, 'b': 2, 'c': 3}\n",
      "{'a': 1, 'b': 2}\n",
      "{'b': 2}\n",
      "{'b': 2, 'c': 3, 'd': 4, 'e': 5, 'f': 6}\n",
      "5\n"
     ]
    }
   ],
   "source": [
    "d = {'a': 1, 'b': 2}\n",
    "\n",
    "# Acessar itens\n",
    "print(d.get('a'))             # 1\n",
    "d.update({'c': 3})\n",
    "print(d)\n",
    "d.popitem()\n",
    "print(d)\n",
    "#d.clear()\n",
    "del d['a']\n",
    "print(d)\n",
    "d.update({'c': 3, 'd': 4, 'e': 5,'f':6})\n",
    "print(d)\n",
    "print(len(d))"
   ]
  },
  {
   "cell_type": "code",
   "execution_count": 88,
   "id": "f2f71d3a",
   "metadata": {},
   "outputs": [
    {
     "name": "stdout",
     "output_type": "stream",
     "text": [
      "3 30 30\n"
     ]
    }
   ],
   "source": [
    "class B:\n",
    "    a=0\n",
    "    def __init__(self, x=0):\n",
    "        self.b = x\n",
    "        B.a +=1\n",
    "    \n",
    "class A(B):\n",
    "    c=0\n",
    "    \n",
    "a = B()\n",
    "b = B(20)\n",
    "c = B(30)\n",
    "    \n",
    "print(A.a,c.b,c.b)"
   ]
  },
  {
   "cell_type": "code",
   "execution_count": 97,
   "id": "e886ed40",
   "metadata": {},
   "outputs": [
    {
     "name": "stdout",
     "output_type": "stream",
     "text": [
      "24\n",
      "p\n",
      "20\n"
     ]
    }
   ],
   "source": [
    "my_text = \"Osaka is a city in Japan\"\n",
    "print(len(my_text))\n",
    "print(my_text[-3])\n",
    "print(my_text.rfind('a', 3, -3)) # 20"
   ]
  },
  {
   "cell_type": "code",
   "execution_count": 101,
   "id": "f8e19dc6",
   "metadata": {},
   "outputs": [
    {
     "name": "stdout",
     "output_type": "stream",
     "text": [
      "2\n"
     ]
    }
   ],
   "source": [
    "my_str = '''\n",
    "#'''\n",
    "    \n",
    "print(len(my_str))"
   ]
  }
 ],
 "metadata": {
  "kernelspec": {
   "display_name": "Python 3",
   "language": "python",
   "name": "python3"
  },
  "language_info": {
   "codemirror_mode": {
    "name": "ipython",
    "version": 3
   },
   "file_extension": ".py",
   "mimetype": "text/x-python",
   "name": "python",
   "nbconvert_exporter": "python",
   "pygments_lexer": "ipython3",
   "version": "3.13.6"
  }
 },
 "nbformat": 4,
 "nbformat_minor": 5
}
