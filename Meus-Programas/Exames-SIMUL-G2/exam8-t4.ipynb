{
 "cells": [
  {
   "cell_type": "code",
   "execution_count": 6,
   "id": "c29a723a",
   "metadata": {},
   "outputs": [
    {
     "name": "stdout",
     "output_type": "stream",
     "text": [
      "kwargs: {'c': 20, 'd': 30, 'e': 40}\n"
     ]
    }
   ],
   "source": [
    "def f(**kwargs):\n",
    "    print(f\"kwargs: {kwargs}\")\n",
    "    \n",
    "f(c=20, d=30, e=40)"
   ]
  },
  {
   "cell_type": "code",
   "execution_count": 8,
   "id": "683c719d",
   "metadata": {},
   "outputs": [
    {
     "name": "stdout",
     "output_type": "stream",
     "text": [
      "a=1, b=2, c=3\n",
      "None\n",
      "Carlos tem 30 anos\n",
      "None\n"
     ]
    }
   ],
   "source": [
    "# Desempacotando listas/tuplas com *\n",
    "def funcao_tres_args(a, b, c):\n",
    "    print(f\"a={a}, b={b}, c={c}\")\n",
    "\n",
    "lista = [1, 2, 3]\n",
    "print(funcao_tres_args(*lista))  # Equivalente a funcao_tres_args(1, 2, 3)\n",
    "\n",
    "# Desempacotando dicionários com **\n",
    "def funcao_kwargs(nome, idade):\n",
    "    print(f\"{nome} tem {idade} anos\")\n",
    "\n",
    "dados = {'nome': 'Carlos', 'idade': 30}\n",
    "print(funcao_kwargs(**dados))  # Equivalente a funcao_kwargs(nome='Carlos', idade=30)"
   ]
  },
  {
   "cell_type": "code",
   "execution_count": null,
   "id": "8ce64205",
   "metadata": {},
   "outputs": [
    {
     "ename": "NameError",
     "evalue": "name 'setter' is not defined",
     "output_type": "error",
     "traceback": [
      "\u001b[31m---------------------------------------------------------------------------\u001b[39m",
      "\u001b[31mNameError\u001b[39m                                 Traceback (most recent call last)",
      "\u001b[36mCell\u001b[39m\u001b[36m \u001b[39m\u001b[32mIn[13]\u001b[39m\u001b[32m, line 1\u001b[39m\n\u001b[32m----> \u001b[39m\u001b[32m1\u001b[39m \u001b[38;5;28;43;01mclass\u001b[39;49;00m\u001b[38;5;250;43m \u001b[39;49m\u001b[34;43;01mPessoa\u001b[39;49;00m\u001b[43m:\u001b[49m\n\u001b[32m      2\u001b[39m \u001b[43m    \u001b[49m\u001b[38;5;28;43;01mdef\u001b[39;49;00m\u001b[38;5;250;43m \u001b[39;49m\u001b[34;43m__init__\u001b[39;49m\u001b[43m(\u001b[49m\u001b[38;5;28;43mself\u001b[39;49m\u001b[43m,\u001b[49m\u001b[43m \u001b[49m\u001b[43mnome\u001b[49m\u001b[43m,\u001b[49m\u001b[43m \u001b[49m\u001b[43midade\u001b[49m\u001b[43m)\u001b[49m\u001b[43m:\u001b[49m\n\u001b[32m      3\u001b[39m \u001b[43m        \u001b[49m\u001b[38;5;28;43mself\u001b[39;49m\u001b[43m.\u001b[49m\u001b[43m__nome\u001b[49m\u001b[43m \u001b[49m\u001b[43m=\u001b[49m\u001b[43m \u001b[49m\u001b[43mnome\u001b[49m\n",
      "\u001b[36mCell\u001b[39m\u001b[36m \u001b[39m\u001b[32mIn[13]\u001b[39m\u001b[32m, line 10\u001b[39m, in \u001b[36mPessoa\u001b[39m\u001b[34m()\u001b[39m\n\u001b[32m      6\u001b[39m \u001b[38;5;129m@property\u001b[39m\n\u001b[32m      7\u001b[39m \u001b[38;5;28;01mdef\u001b[39;00m\u001b[38;5;250m \u001b[39m\u001b[34midade\u001b[39m(\u001b[38;5;28mself\u001b[39m):\n\u001b[32m      8\u001b[39m     \u001b[38;5;28;01mreturn\u001b[39;00m \u001b[38;5;28mself\u001b[39m.__idade\n\u001b[32m---> \u001b[39m\u001b[32m10\u001b[39m \u001b[38;5;129m@setter\u001b[39m\n\u001b[32m     11\u001b[39m \u001b[38;5;28;01mdef\u001b[39;00m\u001b[38;5;250m \u001b[39m\u001b[34midade\u001b[39m(\u001b[38;5;28mself\u001b[39m, valor):\n\u001b[32m     12\u001b[39m     \u001b[38;5;28;01mif\u001b[39;00m \u001b[32m0\u001b[39m <= valor <= \u001b[32m120\u001b[39m:\n\u001b[32m     13\u001b[39m         \u001b[38;5;28mself\u001b[39m.__idade = valor\n",
      "\u001b[31mNameError\u001b[39m: name 'setter' is not defined"
     ]
    }
   ],
   "source": [
    "class Pessoa:\n",
    "    def __init__(self, nome, idade):\n",
    "        self.__nome = nome\n",
    "        self.__idade = idade\n",
    "    \n",
    "    @property\n",
    "    def idade(self):\n",
    "        return self.__idade\n",
    "    \n",
    "    @idade.setter\n",
    "    def idade(self, valor):\n",
    "        if 0 <= valor <= 120:\n",
    "            self.__idade = valor\n",
    "        else:\n",
    "            raise ValueError(\"Idade inválida\")\n",
    "\n",
    "# Uso mais elegante\n",
    "p = Pessoa(\"Maria\", 30)\n",
    "print(p.idade)    # Getter: 30\n",
    "p.idade = 25      # Setter com validação\n",
    "print(p.idade)    # Getter: 25"
   ]
  },
  {
   "cell_type": "code",
   "execution_count": 17,
   "id": "fa5ea898",
   "metadata": {},
   "outputs": [
    {
     "name": "stdout",
     "output_type": "stream",
     "text": [
      "João\n",
      "25\n",
      "30\n"
     ]
    }
   ],
   "source": [
    "class Pessoa:\n",
    "    def __init__(self, nome, idade):\n",
    "        self._nome = nome\n",
    "        self._idade = idade\n",
    "    \n",
    "    @property\n",
    "    def nome(self):\n",
    "        return self._nome.title()  # Retorna com a primeira letra maiúscula\n",
    "    \n",
    "    @property\n",
    "    def idade(self):\n",
    "        return self._idade\n",
    "\n",
    "    @idade.setter\n",
    "    def idade(self, valor):\n",
    "        if valor < 0:\n",
    "            raise ValueError(\"Idade não pode ser negativa\")\n",
    "        self._idade = valor\n",
    "\n",
    "# Uso\n",
    "p = Pessoa(\"joão\", 25)\n",
    "print(p.nome)    # \"João\" - acessa como atributo, não como método\n",
    "print(p.idade)   # 25\n",
    "p.idade = 30  # Atualiza a idade com validação\n",
    "print(p.idade)   # 30"
   ]
  },
  {
   "cell_type": "code",
   "execution_count": 22,
   "id": "2639be98",
   "metadata": {},
   "outputs": [
    {
     "name": "stdout",
     "output_type": "stream",
     "text": [
      "True 1\n"
     ]
    }
   ],
   "source": [
    "print( (3 > 2) , int(3 > 2) )  # True 1"
   ]
  },
  {
   "cell_type": "code",
   "execution_count": 23,
   "id": "c6bc0192",
   "metadata": {},
   "outputs": [
    {
     "name": "stdout",
     "output_type": "stream",
     "text": [
      "3.141592653589793\n"
     ]
    }
   ],
   "source": [
    "import math\n",
    "print(math.pi)"
   ]
  }
 ],
 "metadata": {
  "kernelspec": {
   "display_name": "Python 3",
   "language": "python",
   "name": "python3"
  },
  "language_info": {
   "codemirror_mode": {
    "name": "ipython",
    "version": 3
   },
   "file_extension": ".py",
   "mimetype": "text/x-python",
   "name": "python",
   "nbconvert_exporter": "python",
   "pygments_lexer": "ipython3",
   "version": "3.13.6"
  }
 },
 "nbformat": 4,
 "nbformat_minor": 5
}
