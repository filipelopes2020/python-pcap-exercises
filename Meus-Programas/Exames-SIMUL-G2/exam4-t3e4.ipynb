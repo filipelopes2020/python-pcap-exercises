{
 "cells": [
  {
   "cell_type": "code",
   "execution_count": 14,
   "id": "4a69c6d5",
   "metadata": {},
   "outputs": [
    {
     "name": "stdout",
     "output_type": "stream",
     "text": [
      "7\n",
      "0\n",
      "5\n",
      "3\n",
      "4\n"
     ]
    }
   ],
   "source": [
    "class A():\n",
    "    pass\n",
    "class B(A):\n",
    "    def __init__(self):\n",
    "        super().__init__()\n",
    "        self.x=10\n",
    "b=B()\n",
    "\n",
    "def nada(p=1):\n",
    "    return p**2\n",
    "\n",
    "file = open('animals.txt')\n",
    "print(len(file.readlines()))\n",
    "print(len(file.readlines()))  # 0\n",
    "\n",
    "#print(len(12))\n",
    "print(len(str(\"12345\")))\n",
    "print(len([1,5,6]))\n",
    "print(len(((1,2),(5,6),(6,7),(7,8))))\n",
    "#print(len(nada()))"
   ]
  },
  {
   "cell_type": "code",
   "execution_count": 15,
   "id": "021005b6",
   "metadata": {},
   "outputs": [
    {
     "name": "stdout",
     "output_type": "stream",
     "text": [
      "4\n"
     ]
    }
   ],
   "source": [
    "arquivo = open(\"animals.txt\", \"r\")\n",
    "linha = arquivo.readline()    # Lê a primeira linha do arquivo\n",
    "print(len(linha))  "
   ]
  },
  {
   "cell_type": "code",
   "execution_count": null,
   "id": "80753b50",
   "metadata": {},
   "outputs": [],
   "source": [
    "file = open(\"animals.txt\")\n",
    "#print(file.read(4))\n",
    "for i in file.read():\n",
    "    print(i)\n",
    "#    break"
   ]
  },
  {
   "cell_type": "code",
   "execution_count": 34,
   "id": "dd406c93",
   "metadata": {},
   "outputs": [
    {
     "name": "stdout",
     "output_type": "stream",
     "text": [
      "abcd\n"
     ]
    }
   ],
   "source": [
    "a = \"abcdef\"\n",
    "b = a[:-2]\n",
    "print(b)"
   ]
  },
  {
   "cell_type": "code",
   "execution_count": 35,
   "id": "32a13ad8",
   "metadata": {},
   "outputs": [
    {
     "name": "stdout",
     "output_type": "stream",
     "text": [
      "('A',)\n"
     ]
    }
   ],
   "source": [
    "class MyException(Exception):\n",
    "    pass\n",
    "    \n",
    "try:\n",
    "    raise MyException(\"A\")\n",
    "except MyException as e:\n",
    "    print(e.args)"
   ]
  },
  {
   "cell_type": "code",
   "execution_count": null,
   "id": "1d1094b0",
   "metadata": {},
   "outputs": [],
   "source": [
    "def func(a):\n",
    "    print(a)\n",
    "    \n",
    "func()"
   ]
  },
  {
   "cell_type": "code",
   "execution_count": null,
   "id": "49c67f57",
   "metadata": {},
   "outputs": [
    {
     "name": "stdout",
     "output_type": "stream",
     "text": [
      "Ford\n"
     ]
    }
   ],
   "source": [
    "class Carro:\n",
    "    def __init__(self):\n",
    "        self.marca = \"Ford\"\n",
    "\n",
    "c = Carro()\n",
    "del c.marca\n",
    "print(c.marca)\n",
    "# AttributeError: 'Carro' object has no attribute 'marca'\n"
   ]
  },
  {
   "cell_type": "code",
   "execution_count": null,
   "id": "697b923c",
   "metadata": {},
   "outputs": [
    {
     "ename": "AttributeError",
     "evalue": "'int' object has no attribute 'value' and no __dict__ for setting new attributes",
     "output_type": "error",
     "traceback": [
      "\u001b[31m---------------------------------------------------------------------------\u001b[39m",
      "\u001b[31mAttributeError\u001b[39m                            Traceback (most recent call last)",
      "\u001b[36mCell\u001b[39m\u001b[36m \u001b[39m\u001b[32mIn[46]\u001b[39m\u001b[32m, line 1\u001b[39m\n\u001b[32m----> \u001b[39m\u001b[32m1\u001b[39m \u001b[43ma\u001b[49m\u001b[43m.\u001b[49m\u001b[43mvalue\u001b[49m, b,c = {\u001b[32m1\u001b[39m:(\u001b[32m1\u001b[39m,\u001b[32m2\u001b[39m,\u001b[32m3\u001b[39m,\u001b[32m4\u001b[39m),\u001b[32m2\u001b[39m:(\u001b[32m1\u001b[39m),\u001b[32m3\u001b[39m:(\u001b[32m9\u001b[39m,\u001b[32m7\u001b[39m,\u001b[32m5\u001b[39m,\u001b[32m3\u001b[39m,\u001b[32m1\u001b[39m)}\n\u001b[32m      2\u001b[39m \u001b[38;5;28mprint\u001b[39m(a,b,c)\n",
      "\u001b[31mAttributeError\u001b[39m: 'int' object has no attribute 'value' and no __dict__ for setting new attributes"
     ]
    }
   ],
   "source": [
    "a, b,c = {1:(1,2,3,4),2:(1),3:(9,7,5,3,1)}\n",
    "print(a,b,c)"
   ]
  },
  {
   "cell_type": "code",
   "execution_count": null,
   "id": "030216b3",
   "metadata": {},
   "outputs": [],
   "source": [
    "file = open('animals.txt')\n",
    "print(file.readline())\n",
    "print(file.readline())\n",
    "print(file.readline())\n",
    "print(file.readlines())\n",
    "file.seek(0)\n",
    "print(file.read())"
   ]
  },
  {
   "cell_type": "code",
   "execution_count": 55,
   "id": "b46dcd80",
   "metadata": {},
   "outputs": [
    {
     "name": "stdout",
     "output_type": "stream",
     "text": [
      "I have a \"cat\"\n"
     ]
    }
   ],
   "source": [
    "print(\"I have a \\\"cat\\\"\")"
   ]
  },
  {
   "cell_type": "code",
   "execution_count": null,
   "id": "06b4f97a",
   "metadata": {},
   "outputs": [
    {
     "name": "stdout",
     "output_type": "stream",
     "text": [
      "9\n"
     ]
    }
   ],
   "source": [
    "def A(a):\n",
    "    b = a**2\n",
    "    def B(c):\n",
    "        return b+c+3\n",
    "    return B\n",
    "    \n",
    "x = A(2)\n",
    "print(x(2))\n",
    "print(x(7+c))"
   ]
  },
  {
   "cell_type": "code",
   "execution_count": 72,
   "id": "1a750241",
   "metadata": {},
   "outputs": [
    {
     "name": "stdout",
     "output_type": "stream",
     "text": [
      "3\n",
      "['A', 'B', 'C']\n"
     ]
    }
   ],
   "source": [
    "a = ['a','A','B','C','q','w','p']\n",
    "b = list(filter(lambda x: x.isupper(), a))\n",
    "#print(filter(lambda x: x.isupper(), a))\n",
    "print(len(b))\n",
    "print(b)"
   ]
  },
  {
   "cell_type": "code",
   "execution_count": 87,
   "id": "f973c84d",
   "metadata": {},
   "outputs": [
    {
     "name": "stdout",
     "output_type": "stream",
     "text": [
      "99\n",
      "U+0x63\n",
      "U+0063\n"
     ]
    }
   ],
   "source": [
    "import string\n",
    "print(ord('c'))  # Output: 99\n",
    "print(\"U+\" + hex(ord('c')))\n",
    "print(\"U+\" + hex(ord('c'))[2:].zfill(4))\n"
   ]
  },
  {
   "cell_type": "code",
   "execution_count": 15,
   "id": "cb3fdb1b",
   "metadata": {},
   "outputs": [
    {
     "name": "stdout",
     "output_type": "stream",
     "text": [
      "True\n",
      "False\n",
      "(<class '__main__.A'>,)\n",
      "(<class '__main__.B'>, <class '__main__.A'>)\n",
      "B\n",
      "A\n"
     ]
    }
   ],
   "source": [
    "class T:\n",
    "    pass\n",
    "class A:\n",
    "    pass\n",
    "class B(A):\n",
    "    pass\n",
    "class C(B,A):\n",
    "    pass\n",
    "    \n",
    "c = C()\n",
    "print(isinstance(c, (T,A)))\n",
    "print(isinstance(B, A))\n",
    "print(B.__bases__)  # (<class '__main__.A'>,)\n",
    "print(C.__bases__)  # (<class '__main__.B'>, <class '__main__.A'>)\n",
    "print(C.__bases__[0].__name__)  # B\n",
    "print(C.__bases__[1].__name__)  # A"
   ]
  },
  {
   "cell_type": "code",
   "execution_count": 13,
   "id": "3eb84fcb",
   "metadata": {},
   "outputs": [
    {
     "name": "stdout",
     "output_type": "stream",
     "text": [
      "(<class '__main__.B'>,)\n"
     ]
    }
   ],
   "source": [
    "class A:\n",
    "    pass\n",
    "    \n",
    "class B(A):\n",
    "    pass\n",
    "    \n",
    "class C(B):\n",
    "    pass\n",
    "    \n",
    "print(C.__bases__)"
   ]
  },
  {
   "cell_type": "code",
   "execution_count": null,
   "id": "4f4b4dda",
   "metadata": {},
   "outputs": [],
   "source": [
    "# Codifica uma string para bytes ASCII\n",
    "s = \"Hello\"\n",
    "mb = s.encode('ascii')\n",
    "print(ascii_bytes)  "
   ]
  },
  {
   "cell_type": "code",
   "execution_count": 34,
   "id": "b8124f05",
   "metadata": {},
   "outputs": [
    {
     "name": "stdout",
     "output_type": "stream",
     "text": [
      "b'Ol\\xc3\\xa1 ^Jo\\xc3\\xa3o de Mo\\xc3\\x87ambique \\xf0\\x9f\\xa4\\xaa'\n"
     ]
    }
   ],
   "source": [
    "s = \"Olá ^João de MoÇambique 🤪\"\n",
    "mb = s.encode('utf-8')\n",
    "print(utf8_bytes)  # b'Ol\\xc3\\xa1'"
   ]
  },
  {
   "cell_type": "code",
   "execution_count": 35,
   "id": "050ae651",
   "metadata": {},
   "outputs": [
    {
     "name": "stdout",
     "output_type": "stream",
     "text": [
      "U+004F U+006C U+00E1 U+0020 U+005E U+004A U+006F U+00E3 U+006F U+0020 U+0064 U+0065 U+0020 U+004D U+006F U+00C7 U+0061 U+006D U+0062 U+0069 U+0071 U+0075 U+0065 U+0020 U+1F92A "
     ]
    }
   ],
   "source": [
    "s = \"Olá ^João de MoÇambique 🤪\"\n",
    "for c in s:\n",
    "    print(f\"U+{ord(c):04X}\", end=\" \")"
   ]
  },
  {
   "cell_type": "code",
   "execution_count": 39,
   "id": "c5ce866f",
   "metadata": {},
   "outputs": [
    {
     "name": "stdout",
     "output_type": "stream",
     "text": [
      "0.007874015748031496 SAFE DONE "
     ]
    }
   ],
   "source": [
    "for i in range(1,-1):\n",
    "    try:\n",
    "        print(1/i, end=' ')\n",
    "    except:\n",
    "        print(\"ERROR\", end=' ')\n",
    "    else:\n",
    "        print(\"SAFE\", end=' ')\n",
    "    finally:\n",
    "        print(\"DONE\", end=' ')"
   ]
  },
  {
   "cell_type": "code",
   "execution_count": null,
   "id": "c8851637",
   "metadata": {},
   "outputs": [],
   "source": [
    "for i in range(-5,10):\n",
    "    print(i)"
   ]
  },
  {
   "cell_type": "code",
   "execution_count": 51,
   "id": "3874a7e0",
   "metadata": {},
   "outputs": [
    {
     "name": "stdout",
     "output_type": "stream",
     "text": [
      "True\n",
      "False\n",
      "False\n"
     ]
    }
   ],
   "source": [
    "print(\"²\".isdigit())\n",
    "print(\"²\".isdecimal())\n",
    "print(\"Ⅷ\".isdigit())"
   ]
  },
  {
   "cell_type": "code",
   "execution_count": 64,
   "id": "66c90004",
   "metadata": {},
   "outputs": [
    {
     "name": "stdout",
     "output_type": "stream",
     "text": [
      "batatas 10\n"
     ]
    }
   ],
   "source": [
    "class A:\n",
    "    def func(self):\n",
    "        return \"A\"\n",
    "    \n",
    "class B:\n",
    "    def func(self):\n",
    "        return \"B\"\n",
    "    \n",
    "class C(A, B):\n",
    "    pass\n",
    "\n",
    "class D():\n",
    "    def __init__(self):\n",
    "        self.____p=10\n",
    "    def __str__(self):\n",
    "        return \"batatas\"\n",
    "\n",
    "#c = C().func()\n",
    "d=D()\n",
    "#print(c)\n",
    "#print(C)\n",
    "print(d, d._D____p)"
   ]
  },
  {
   "cell_type": "code",
   "execution_count": 73,
   "id": "fb966026",
   "metadata": {},
   "outputs": [
    {
     "name": "stdout",
     "output_type": "stream",
     "text": [
      "75\n",
      "[1, 6]\n",
      "[3, 6, 9, 12, 15, 18]\n"
     ]
    }
   ],
   "source": [
    "import random as r\n",
    "print(r.choice(range(1,100)))\n",
    "print(r.sample([3,1,5,6,7],2))\n",
    "\n",
    "multiplos_de_3 = list(filter(lambda x: x % 3 == 0, range(1,20)))\n",
    "print(multiplos_de_3)"
   ]
  },
  {
   "cell_type": "code",
   "execution_count": 84,
   "id": "2345289e",
   "metadata": {},
   "outputs": [
    {
     "name": "stdout",
     "output_type": "stream",
     "text": [
      "False\n",
      "True\n",
      "True\n",
      "True\n",
      "False\n"
     ]
    }
   ],
   "source": [
    "class A:\n",
    "    var = 1\n",
    "    def __init__(self):\n",
    "        self.x = 1\n",
    "    \n",
    "class B(A):\n",
    "    def __init__(self):\n",
    "        super().__init__()\n",
    "    \n",
    "b = B()\n",
    "\n",
    "print(hasattr(b, 'b'))\n",
    "print(hasattr(B, '__init__'))\n",
    "print(hasattr(b, 'x'))\n",
    "print(hasattr(b, '__init__'))\n",
    "print(hasattr(B, 'super.__init__'))\n"
   ]
  },
  {
   "cell_type": "code",
   "execution_count": null,
   "id": "8372ddfc",
   "metadata": {},
   "outputs": [
    {
     "name": "stdout",
     "output_type": "stream",
     "text": [
      "['ArrowDtype', 'BooleanDtype', 'Categorical', 'CategoricalDtype', 'CategoricalIndex', 'DataFrame', 'DateOffset', 'DatetimeIndex', 'DatetimeTZDtype', 'ExcelFile', 'ExcelWriter', 'Flags', 'Float32Dtype', 'Float64Dtype', 'Grouper', 'HDFStore', 'Index', 'IndexSlice', 'Int16Dtype', 'Int32Dtype', 'Int64Dtype', 'Int8Dtype', 'Interval', 'IntervalDtype', 'IntervalIndex', 'MultiIndex', 'NA', 'NaT', 'NamedAgg', 'Period', 'PeriodDtype', 'PeriodIndex', 'RangeIndex', 'Series', 'SparseDtype', 'StringDtype', 'Timedelta', 'TimedeltaIndex', 'Timestamp', 'UInt16Dtype', 'UInt32Dtype', 'UInt64Dtype', 'UInt8Dtype', '__all__', '__builtins__', '__cached__', '__doc__', '__docformat__', '__file__', '__git_version__', '__loader__', '__name__', '__package__', '__path__', '__spec__', '__version__', '_built_with_meson', '_config', '_is_numpy_dev', '_libs', '_pandas_datetime_CAPI', '_pandas_parser_CAPI', '_testing', '_typing', '_version_meson', 'annotations', 'api', 'array', 'arrays', 'bdate_range', 'compat', 'concat', 'core', 'crosstab', 'cut', 'date_range', 'describe_option', 'errors', 'eval', 'factorize', 'from_dummies', 'get_dummies', 'get_option', 'infer_freq', 'interval_range', 'io', 'isna', 'isnull', 'json_normalize', 'lreshape', 'melt', 'merge', 'merge_asof', 'merge_ordered', 'notna', 'notnull', 'offsets', 'option_context', 'options', 'pandas', 'period_range', 'pivot', 'pivot_table', 'plotting', 'qcut', 'read_clipboard', 'read_csv', 'read_excel', 'read_feather', 'read_fwf', 'read_gbq', 'read_hdf', 'read_html', 'read_json', 'read_orc', 'read_parquet', 'read_pickle', 'read_sas', 'read_spss', 'read_sql', 'read_sql_query', 'read_sql_table', 'read_stata', 'read_table', 'read_xml', 'reset_option', 'set_eng_float_format', 'set_option', 'show_versions', 'test', 'testing', 'timedelta_range', 'to_datetime', 'to_numeric', 'to_pickle', 'to_timedelta', 'tseries', 'unique', 'util', 'value_counts', 'wide_to_long']\n"
     ]
    }
   ],
   "source": [
    "import pandas\n",
    "print(dir(pandas))"
   ]
  },
  {
   "cell_type": "code",
   "execution_count": 93,
   "id": "ff844676",
   "metadata": {},
   "outputs": [
    {
     "name": "stdout",
     "output_type": "stream",
     "text": [
      "adding>!<>!<>!<>!<>!<>!<\n"
     ]
    }
   ],
   "source": [
    "a = \"adding\"\n",
    "    \n",
    "for i in a:\n",
    "    a += '>!<'\n",
    "\n",
    "#print(a[0]=\"X\")     # vai dar raia\n",
    "print(a)"
   ]
  },
  {
   "cell_type": "code",
   "execution_count": 7,
   "id": "b2724a49",
   "metadata": {},
   "outputs": [
    {
     "name": "stdout",
     "output_type": "stream",
     "text": [
      "102\n",
      "102\n",
      "103\n"
     ]
    }
   ],
   "source": [
    "    class A:\n",
    "        __Var = 100\n",
    "        def __init__(self):\n",
    "            A._A__Var += 1\n",
    "     \n",
    "    a = A()\n",
    "    b = A()\n",
    "    print(a._A__Var)\n",
    "    print(b._A__Var)\n",
    "    print(A()._A__Var)\n",
    "    #print(A()._A__Var)\n",
    "    "
   ]
  },
  {
   "cell_type": "code",
   "execution_count": 6,
   "id": "18d94431",
   "metadata": {},
   "outputs": [
    {
     "name": "stdout",
     "output_type": "stream",
     "text": [
      "b'\\xf0\\x9f\\x98\\x8e'\n",
      "4\n",
      "1f60e\n"
     ]
    }
   ],
   "source": [
    "utf8_str = \"😎\"\n",
    "print(utf8_str.encode('utf-8'))\n",
    "print(len(utf8_str.encode('utf-8')))  \n",
    "\n",
    "\n",
    "print(hex(ord(utf8_str))[2:].zfill(4))  #\n"
   ]
  },
  {
   "cell_type": "code",
   "execution_count": 14,
   "id": "e0136f6d",
   "metadata": {},
   "outputs": [
    {
     "name": "stdout",
     "output_type": "stream",
     "text": [
      "Hello A ('B',)\n"
     ]
    }
   ],
   "source": [
    "class MyException(Exception):\n",
    "    def __init__(self, message):\n",
    "        super().__init__(message)\n",
    "        print(\"Hello\", end=\" \")\n",
    "    \n",
    "    def __str__(self):\n",
    "        return \"A\"\n",
    "    \n",
    "try:\n",
    "    raise MyException(\"B\")\n",
    "except Exception as e:\n",
    "    print(e, e.args)\n",
    "    "
   ]
  },
  {
   "cell_type": "code",
   "execution_count": 31,
   "id": "60924ac7",
   "metadata": {},
   "outputs": [
    {
     "name": "stdout",
     "output_type": "stream",
     "text": [
      "True\n"
     ]
    }
   ],
   "source": [
    "class A:\n",
    "    pass\n",
    "class B:\n",
    "    pass\n",
    "class C(B):\n",
    "    pass\n",
    "    \n",
    "c = C()\n",
    "print(isinstance(c, (A,B)))"
   ]
  },
  {
   "cell_type": "code",
   "execution_count": 39,
   "id": "854bbf85",
   "metadata": {},
   "outputs": [
    {
     "name": "stdout",
     "output_type": "stream",
     "text": [
      "fefefe\n",
      "65\n"
     ]
    }
   ],
   "source": [
    "a = \"abcdef\"\n",
    "b = a[:3:-1]*3\n",
    "print(b)\n",
    "\n",
    "print(ord('A'))"
   ]
  },
  {
   "cell_type": "code",
   "execution_count": 42,
   "id": "1a7d8e0f",
   "metadata": {},
   "outputs": [
    {
     "name": "stdout",
     "output_type": "stream",
     "text": [
      "10\n",
      "100\n"
     ]
    }
   ],
   "source": [
    "class A:\n",
    "    __var = 100\n",
    "    def __init__(self):\n",
    "        self.__var = 10\n",
    "    \n",
    "    def get_var(self):\n",
    "        #return self._A__var\n",
    "        return self._A__var\n",
    "    \n",
    "a = A()\n",
    "print(a.get_var())\n",
    "print(A._A__var)"
   ]
  },
  {
   "cell_type": "code",
   "execution_count": 43,
   "id": "ee2acae5",
   "metadata": {},
   "outputs": [
    {
     "name": "stdout",
     "output_type": "stream",
     "text": [
      "['ab cd', 'ef']\n"
     ]
    }
   ],
   "source": [
    "a = \"ab cd:ef\"\n",
    "print(a.split(':'))"
   ]
  },
  {
   "cell_type": "code",
   "execution_count": 44,
   "id": "c7c5c787",
   "metadata": {},
   "outputs": [
    {
     "name": "stdout",
     "output_type": "stream",
     "text": [
      "{'__module__': '__main__', '__firstlineno__': 1, '__init__': <function A.__init__ at 0x00000224F4E26D40>, '__static_attributes__': ('var',), '__dict__': <attribute '__dict__' of 'A' objects>, '__weakref__': <attribute '__weakref__' of 'A' objects>, '__doc__': None}\n"
     ]
    }
   ],
   "source": [
    "class A:\n",
    "    def __init__(self):\n",
    "        self.var = 10\n",
    "    pass\n",
    "    \n",
    "print(A.__dict__)"
   ]
  }
 ],
 "metadata": {
  "kernelspec": {
   "display_name": "Python 3",
   "language": "python",
   "name": "python3"
  },
  "language_info": {
   "codemirror_mode": {
    "name": "ipython",
    "version": 3
   },
   "file_extension": ".py",
   "mimetype": "text/x-python",
   "name": "python",
   "nbconvert_exporter": "python",
   "pygments_lexer": "ipython3",
   "version": "3.13.6"
  }
 },
 "nbformat": 4,
 "nbformat_minor": 5
}
