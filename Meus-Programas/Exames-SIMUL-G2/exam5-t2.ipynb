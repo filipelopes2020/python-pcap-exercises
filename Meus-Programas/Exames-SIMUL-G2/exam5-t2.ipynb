{
 "cells": [
  {
   "cell_type": "code",
   "execution_count": 9,
   "id": "aeb652d1",
   "metadata": {},
   "outputs": [
    {
     "name": "stdout",
     "output_type": "stream",
     "text": [
      "['__doc__', '__loader__', '__name__', '__package__', '__spec__', 'acos', 'acosh', 'asin', 'asinh', 'atan', 'atan2', 'atanh', 'cbrt', 'ceil', 'comb', 'copysign', 'cos', 'cosh', 'degrees', 'dist', 'e', 'erf', 'erfc', 'exp', 'exp2', 'expm1', 'fabs', 'factorial', 'floor', 'fma', 'fmod', 'frexp', 'fsum', 'gamma', 'gcd', 'hypot', 'inf', 'isclose', 'isfinite', 'isinf', 'isnan', 'isqrt', 'lcm', 'ldexp', 'lgamma', 'log', 'log10', 'log1p', 'log2', 'modf', 'nan', 'nextafter', 'perm', 'pi', 'pow', 'prod', 'radians', 'remainder', 'sin', 'sinh', 'sqrt', 'sumprod', 'tan', 'tanh', 'tau', 'trunc', 'ulp']\n"
     ]
    }
   ],
   "source": [
    "#import math\n",
    "#from math import sqrt\n",
    "from math import sqrt\n",
    "print(dir(math))\n",
    "#print(sqrt(25))"
   ]
  },
  {
   "cell_type": "code",
   "execution_count": 16,
   "id": "f975e3f9",
   "metadata": {},
   "outputs": [
    {
     "name": "stdout",
     "output_type": "stream",
     "text": [
      "Windows\n",
      "Windows-11-10.0.26100-SP0\n",
      "10.0.26100\n",
      "3.13.6\n",
      "AMD64\n",
      "Intel64 Family 6 Model 158 Stepping 10, GenuineIntel\n",
      "MSC v.1944 64 bit (AMD64)\n",
      "CPython\n"
     ]
    }
   ],
   "source": [
    "import platform as p\n",
    "\n",
    "print(p.system())\n",
    "print(p.platform())\n",
    "print(p.version())\n",
    "print(p.python_version())\n",
    "print(p.machine())\n",
    "print(p.processor())\n",
    "print(p.python_compiler())\n",
    "print(p.python_implementation())"
   ]
  },
  {
   "cell_type": "code",
   "execution_count": null,
   "id": "00b66203",
   "metadata": {},
   "outputs": [
    {
     "name": "stdout",
     "output_type": "stream",
     "text": [
      "10.0\n",
      "10000000000.0\n"
     ]
    }
   ],
   "source": [
    "try:\n",
    "    print(float(\"1e1\"))\n",
    "except (NameError,SyntaxError):\n",
    "    print(float(\"1.1\"))\n",
    "else:\n",
    "    print(float(\"1e10\"))"
   ]
  },
  {
   "cell_type": "code",
   "execution_count": 39,
   "id": "e36bbb85",
   "metadata": {},
   "outputs": [
    {
     "name": "stdout",
     "output_type": "stream",
     "text": [
      "Batatas\n"
     ]
    }
   ],
   "source": [
    "def foo(x):\n",
    "    assert x, \"Batatas\"\n",
    "    return 1/x\n",
    "\n",
    "try:\n",
    "    print(foo(0))\n",
    "except ZeroDivisionError:\n",
    "    print(\"zero\")\n",
    "except AssertionError as e:\n",
    "    print(e)\n",
    "else:\n",
    "    print(\"Some\")"
   ]
  },
  {
   "cell_type": "code",
   "execution_count": 29,
   "id": "02f4ea84",
   "metadata": {},
   "outputs": [
    {
     "name": "stdout",
     "output_type": "stream",
     "text": [
      "(<class 'object'>,)\n",
      "(<class '__main__.A'>,)\n",
      "(<class '__main__.B'>, <class '__main__.A'>)\n",
      "B\n"
     ]
    }
   ],
   "source": [
    "class A():\n",
    "    pass\n",
    "class B(A):\n",
    "    pass\n",
    "class C(B,A):\n",
    "    pass\n",
    "\n",
    "c = C()\n",
    "print(A.__bases__)\n",
    "print(B.__bases__)\n",
    "print(C.__bases__)\n",
    "print(C.__bases__[0].__name__)\n"
   ]
  },
  {
   "cell_type": "code",
   "execution_count": 41,
   "id": "084fded5",
   "metadata": {},
   "outputs": [
    {
     "name": "stdout",
     "output_type": "stream",
     "text": [
      "('Batatas',)\n",
      "(('Batatas', 'Couves'),)\n",
      "(123,)\n",
      "({'erro': 'X'},)\n"
     ]
    }
   ],
   "source": [
    "for msg in [\"Batatas\", (\"Batatas\",\"Couves\"), 123, {\"erro\": \"X\"}]:\n",
    "    try:\n",
    "        assert False, msg\n",
    "    except AssertionError as e:\n",
    "        #print(repr(e))\n",
    "        print(e.args)"
   ]
  },
  {
   "cell_type": "code",
   "execution_count": 42,
   "id": "07204c9f",
   "metadata": {},
   "outputs": [
    {
     "name": "stdout",
     "output_type": "stream",
     "text": [
      "Python👉é👉fixe🎉\n"
     ]
    }
   ],
   "source": [
    "print(\"Python\", \"é\", \"fixe\", sep=\"👉\", end=\"🎉\\n\")"
   ]
  },
  {
   "cell_type": "code",
   "execution_count": 46,
   "id": "79b8b275",
   "metadata": {},
   "outputs": [
    {
     "name": "stdout",
     "output_type": "stream",
     "text": [
      "1e+250 : Is a really big number\n"
     ]
    }
   ],
   "source": [
    "x = 1E250\n",
    "print(x, \"Is a really big number\", sep=\" : \")"
   ]
  },
  {
   "cell_type": "code",
   "execution_count": 47,
   "id": "001e0e2f",
   "metadata": {},
   "outputs": [],
   "source": [
    "x=\"frase de testes\"\n",
    "del x"
   ]
  },
  {
   "cell_type": "code",
   "execution_count": 51,
   "id": "8e25e1f3",
   "metadata": {},
   "outputs": [
    {
     "name": "stdout",
     "output_type": "stream",
     "text": [
      "False\n"
     ]
    },
    {
     "ename": "TypeError",
     "evalue": "'>' not supported between instances of 'str' and 'int'",
     "output_type": "error",
     "traceback": [
      "\u001b[31m---------------------------------------------------------------------------\u001b[39m",
      "\u001b[31mTypeError\u001b[39m                                 Traceback (most recent call last)",
      "\u001b[36mCell\u001b[39m\u001b[36m \u001b[39m\u001b[32mIn[51]\u001b[39m\u001b[32m, line 4\u001b[39m\n\u001b[32m      2\u001b[39m y = \u001b[32m3\u001b[39m\n\u001b[32m      3\u001b[39m \u001b[38;5;28mprint\u001b[39m(x==y)\n\u001b[32m----> \u001b[39m\u001b[32m4\u001b[39m \u001b[38;5;28;01mif\u001b[39;00m \u001b[43mx\u001b[49m\u001b[43m \u001b[49m\u001b[43m>\u001b[49m\u001b[43m \u001b[49m\u001b[43my\u001b[49m:\n\u001b[32m      5\u001b[39m     \u001b[38;5;28mprint\u001b[39m(\u001b[33m\"\u001b[39m\u001b[33mOK\u001b[39m\u001b[33m\"\u001b[39m)\n\u001b[32m      6\u001b[39m \u001b[38;5;28;01melse\u001b[39;00m:\n",
      "\u001b[31mTypeError\u001b[39m: '>' not supported between instances of 'str' and 'int'"
     ]
    }
   ],
   "source": [
    "x = \"True\"\n",
    "y = 3\n",
    "print(x==y)\n",
    "if x > y:\n",
    "    print(\"OK\")\n",
    "else:\n",
    "    print(\"NOK\")"
   ]
  },
  {
   "cell_type": "code",
   "execution_count": 55,
   "id": "f691d299",
   "metadata": {},
   "outputs": [
    {
     "name": "stdout",
     "output_type": "stream",
     "text": [
      "[]\n"
     ]
    }
   ],
   "source": [
    "s1='dog cat rat'\n",
    "s2 = s1.split()\n",
    "print(s2[1:2:-1])"
   ]
  },
  {
   "cell_type": "code",
   "execution_count": null,
   "id": "74b64bba",
   "metadata": {},
   "outputs": [
    {
     "name": "stdout",
     "output_type": "stream",
     "text": [
      "['Hello', 'World', '!']\n"
     ]
    }
   ],
   "source": [
    "my_list = ['Hello','World',\"!\"]\n",
    "s = '\\\\'.join(my_list)\n",
    "\n",
    "print(x)"
   ]
  },
  {
   "cell_type": "code",
   "execution_count": 220,
   "id": "3acda782",
   "metadata": {},
   "outputs": [
    {
     "name": "stdout",
     "output_type": "stream",
     "text": [
      "__main__\n",
      "math\n",
      "(<class '__main__.B'>, <class '__main__.A'>)\n"
     ]
    }
   ],
   "source": [
    "class A():\n",
    "    pass\n",
    "class B(A):\n",
    "    pass\n",
    "class C(A):\n",
    "    pass\n",
    "class D(B):\n",
    "    pass\n",
    "class E(B,A):\n",
    "    pass\n",
    "class F(C):\n",
    "    pass\n",
    "\n",
    "import math\n",
    "#print(A.__name__)\n",
    "print(A.__module__)\n",
    "print(math.sqrt.__module__)\n",
    "print(E.__bases__)\n",
    "#print(E.__bases__[1].__name__)\n",
    "#print(A.__dict__)"
   ]
  },
  {
   "cell_type": "code",
   "execution_count": 222,
   "id": "e86f0693",
   "metadata": {},
   "outputs": [],
   "source": [
    "class A():\n",
    "    pass\n",
    "class B(A):\n",
    "    pass\n",
    "class C(B):\n",
    "    pass\n",
    "class D(B):\n",
    "    pass\n",
    "class E(B,A):\n",
    "    pass\n",
    "class F(C):\n",
    "    pass\n",
    "\n"
   ]
  },
  {
   "cell_type": "code",
   "execution_count": 5,
   "id": "ac6a886d",
   "metadata": {},
   "outputs": [],
   "source": [
    "class A: pass\n",
    "class B(A): pass\n",
    "class C(B): pass\n",
    "class D(B,A): pass\n",
    "class E(D,B): pass"
   ]
  },
  {
   "cell_type": "code",
   "execution_count": 44,
   "id": "c010a634",
   "metadata": {},
   "outputs": [
    {
     "name": "stdout",
     "output_type": "stream",
     "text": [
      "__main__\n",
      "(<class 'object'>,)\n",
      "(<class '__main__.Xis'>, <class '__main__.Pessoa'>)\n",
      "Animal\n"
     ]
    }
   ],
   "source": [
    "class Pessoa:\n",
    "    pass\n",
    "class Xis(Pessoa):\n",
    "    pass\n",
    "class Animal(Xis,Pessoa):\n",
    "    pass\n",
    "p = Pessoa()\n",
    "a = Animal()\n",
    "x = Xis()\n",
    "\n",
    "print(p.__class__.__module__)  # __main__\n",
    "print(p.__class__.__bases__)  # __main__\n",
    "print(Animal.__bases__)\n",
    "print(Animal.__name__)"
   ]
  },
  {
   "cell_type": "code",
   "execution_count": 74,
   "id": "2b8bd2a1",
   "metadata": {},
   "outputs": [
    {
     "name": "stdout",
     "output_type": "stream",
     "text": [
      "3\n",
      "-----\n",
      "True\n",
      "True\n",
      "False\n",
      "True\n",
      "True\n",
      "obj: True\n",
      "True\n",
      "False\n"
     ]
    }
   ],
   "source": [
    "class Sample:\n",
    "    gamma =0 \n",
    "    def __init__(self):\n",
    "        self.alpha = 1 \n",
    "        self.__delta=3\n",
    "    def __str__(self):\n",
    "        pass\n",
    "    def test(self):\n",
    "        return \"teste\" \n",
    "obj = Sample()\n",
    "\n",
    "print(obj._Sample__delta)\n",
    "print(\"-----\")\n",
    "print(hasattr(obj, 'test')) # True\n",
    "print(hasattr(Sample, 'test'))  # True\n",
    "print(hasattr(obj,\"__delta\"))   # False\n",
    "print(hasattr(obj,\"_Sample__delta\"))    # True\n",
    "print(hasattr(obj,\"alpha\"))     # True\n",
    "print(\"obj:\",hasattr(obj,\"gamma\"))  # True\n",
    "print(hasattr(Sample,\"gamma\"))  # True\n",
    "print(hasattr(Sample,\"alpha\"))  # False\n"
   ]
  },
  {
   "cell_type": "code",
   "execution_count": 75,
   "id": "4a7741a6",
   "metadata": {},
   "outputs": [
    {
     "name": "stdout",
     "output_type": "stream",
     "text": [
      "True\n"
     ]
    }
   ],
   "source": [
    "print(isinstance(1, int))"
   ]
  },
  {
   "cell_type": "code",
   "execution_count": 97,
   "id": "930ae531",
   "metadata": {},
   "outputs": [
    {
     "name": "stdout",
     "output_type": "stream",
     "text": [
      "False\n"
     ]
    }
   ],
   "source": [
    "class K:\n",
    "    pass\n",
    "class X:\n",
    "    pass\n",
    "class Y(X):\n",
    "    pass\n",
    "class Z(Y):\n",
    "    pass\n",
    "x=X()\n",
    "z=Z()\n",
    "\n",
    "print(isinstance(z,K))\n"
   ]
  },
  {
   "cell_type": "code",
   "execution_count": 107,
   "id": "97df35a3",
   "metadata": {},
   "outputs": [
    {
     "name": "stdout",
     "output_type": "stream",
     "text": [
      "0,1,2,3,"
     ]
    }
   ],
   "source": [
    "def fun(n):\n",
    "    for i in range(n):\n",
    "        yield i\n",
    "        \n",
    "for v in fun(4):\n",
    "    print(v,end=\",\")\n",
    "    "
   ]
  },
  {
   "cell_type": "code",
   "execution_count": 108,
   "id": "ff62a013",
   "metadata": {},
   "outputs": [
    {
     "name": "stdout",
     "output_type": "stream",
     "text": [
      "[11, 22, 33]\n"
     ]
    }
   ],
   "source": [
    "a = [1, 2, 3]\n",
    "b = [10, 20, 30]\n",
    "res = map(lambda x, y: x + y, a, b)\n",
    "print(list(res))  # [11, 22, 33]"
   ]
  },
  {
   "cell_type": "code",
   "execution_count": 129,
   "id": "77f5ae87",
   "metadata": {},
   "outputs": [
    {
     "data": {
      "text/plain": [
       "0"
      ]
     },
     "execution_count": 129,
     "metadata": {},
     "output_type": "execute_result"
    }
   ],
   "source": [
    "import os\n",
    "#print(dir(os))\n",
    "#print(os.getcwd())\n",
    "#os.chdir(\"..\")\n",
    "#print(os.getcwd())\n",
    "#os.chdir(\"Exames-SIMUL-G2\")\n",
    "#print(os.getcwd())\n",
    "#os.listdir(path=\".\")\n",
    "#print(os.environ)\n",
    "#print(os.getenv(\"GIT_PAGER\"))\n",
    "os.system(\"dir\")"
   ]
  },
  {
   "cell_type": "code",
   "execution_count": 137,
   "id": "3ba0442d",
   "metadata": {},
   "outputs": [
    {
     "name": "stdout",
     "output_type": "stream",
     "text": [
      "20510 days, 0:00:00\n"
     ]
    }
   ],
   "source": [
    "from datetime import datetime\n",
    "\n",
    "dt1=datetime(2025,8,28,18,9,0)\n",
    "dt2=datetime(1969,7,3,18,9,0)\n",
    "\n",
    "print (dt1-dt2)"
   ]
  },
  {
   "cell_type": "code",
   "execution_count": 147,
   "id": "7914b6f7",
   "metadata": {},
   "outputs": [
    {
     "name": "stdout",
     "output_type": "stream",
     "text": [
      "  Monday    Tuesday   Wednesday   Thursday    Friday    Saturday    Sunday  \n"
     ]
    }
   ],
   "source": [
    "import calendar\n",
    "print(calendar.weekheader(10))"
   ]
  },
  {
   "cell_type": "code",
   "execution_count": 168,
   "id": "7153f7a8",
   "metadata": {},
   "outputs": [
    {
     "name": "stdout",
     "output_type": "stream",
     "text": [
      "a is 2, b is [10], c is 12 and d is 10\n"
     ]
    }
   ],
   "source": [
    "import random\n",
    "\n",
    "a=random.randrange(2,20,3)\n",
    "d=random.choice([1,5,10])\n",
    "b=random.sample([1,5,10],1)\n",
    "c=random.randint(10,20)\n",
    "\n",
    "print(f\"a is {a}, b is {b}, c is {c} and d is {d}\")"
   ]
  },
  {
   "cell_type": "code",
   "execution_count": 178,
   "id": "73db1076",
   "metadata": {},
   "outputs": [
    {
     "name": "stdout",
     "output_type": "stream",
     "text": [
      "Div by zero\n",
      "three\n"
     ]
    }
   ],
   "source": [
    "def test():\n",
    "    print(1/0)\n",
    "\n",
    "try:\n",
    "   test()\n",
    "except ZeroDivisionError as e:\n",
    "    print(\"Div by zero\")\n",
    "except:\n",
    "    print(\"one\",end=' ')    \n",
    "else:\n",
    "    print(\"two\",end=' ')\n",
    "finally:\n",
    "    print(\"three\")"
   ]
  },
  {
   "cell_type": "code",
   "execution_count": 179,
   "id": "bc1795f4",
   "metadata": {},
   "outputs": [
    {
     "name": "stdout",
     "output_type": "stream",
     "text": [
      "It is either hard or impossible\n"
     ]
    }
   ],
   "source": [
    "s='It is either easy or impossible'\n",
    "s=s.replace(\"hard\",\"easy\").replace(\"easy\",\"hard\")\n",
    "print(s)"
   ]
  },
  {
   "cell_type": "code",
   "execution_count": 183,
   "id": "c77d6d43",
   "metadata": {},
   "outputs": [
    {
     "name": "stdout",
     "output_type": "stream",
     "text": [
      "dados.csv começa com 'rel' ou 'img'\n"
     ]
    }
   ],
   "source": [
    "arquivos = [\"relatorio.pdf\", \"imagem.png\", \"dados.csv\", \"script.py\"]\n",
    "\n",
    "for arq in arquivos:\n",
    "    if arq.startswith((\"dad\", \"img\")):   # verifica se começa com \"rel\" ou \"img\"\n",
    "        print(f\"{arq} começa com 'rel' ou 'img'\")\n"
   ]
  },
  {
   "cell_type": "code",
   "execution_count": null,
   "id": "4d33c1b8",
   "metadata": {},
   "outputs": [
    {
     "name": "stdout",
     "output_type": "stream",
     "text": [
      "Encontrei\n"
     ]
    }
   ],
   "source": [
    "if 'c'.isupper() in 'Cat': # isupper nao é upper\n",
    "    print(\"Encontrei\")"
   ]
  },
  {
   "cell_type": "code",
   "execution_count": 190,
   "id": "20c6954b",
   "metadata": {},
   "outputs": [
    {
     "name": "stdout",
     "output_type": "stream",
     "text": [
      "b-c-d-7\n"
     ]
    }
   ],
   "source": [
    "for ch in 'abc':\n",
    "    print(chr(ord(ch)+1), sep='*', end=\"-\")\n",
    "\n",
    "print(0*'0'+\"7\")"
   ]
  },
  {
   "cell_type": "code",
   "execution_count": 197,
   "id": "7edbc998",
   "metadata": {},
   "outputs": [
    {
     "name": "stdout",
     "output_type": "stream",
     "text": [
      "9 9\n"
     ]
    }
   ],
   "source": [
    "class Class:\n",
    "    var = 7\n",
    "    \n",
    "    def __init__(self):\n",
    "        self.value  = 0\n",
    "        Class.var = Class.var +1\n",
    "        \n",
    "obj_a = Class()\n",
    "#obj_a.var = 5\n",
    "obj_b = Class()\n",
    "#print(obj_a.var, obj_b.var)\n",
    "print(obj_a.var, Class.var)\n"
   ]
  },
  {
   "cell_type": "code",
   "execution_count": 204,
   "id": "7a6bb993",
   "metadata": {},
   "outputs": [
    {
     "name": "stdout",
     "output_type": "stream",
     "text": [
      "{'_first': 1, '_ExampleClass__second': 2}\n",
      "{'__module__': '__main__', '__firstlineno__': 1, 'counter': 1, 'k': 10, '__init__': <function ExampleClass.__init__ at 0x0000023D8586E7A0>, '__static_attributes__': ('__second', '_first'), '__dict__': <attribute '__dict__' of 'ExampleClass' objects>, '__weakref__': <attribute '__weakref__' of 'ExampleClass' objects>, '__doc__': None}\n"
     ]
    }
   ],
   "source": [
    "class ExampleClass:\n",
    "    counter = 0\n",
    "    k=10\n",
    "    def __init__(self, val_one=1, val_two=2):\n",
    "        self._first = val_one\n",
    "        self.__second = val_two\n",
    "        batatas =10\n",
    "        ExampleClass.counter += 1\n",
    "        \n",
    "example_object_1 = ExampleClass()\n",
    "print(example_object_1.__dict__)\n",
    "print(ExampleClass.__dict__)"
   ]
  },
  {
   "cell_type": "code",
   "execution_count": null,
   "id": "f27b1704",
   "metadata": {},
   "outputs": [
    {
     "name": "stdout",
     "output_type": "stream",
     "text": [
      "Classy\n",
      "Classy\n"
     ]
    }
   ],
   "source": [
    "class Classy:\n",
    "    pass\n",
    "\n",
    "obj = Classy()\n",
    "\n",
    "print(Classy.__name__)\n",
    "print(type(obj).__name__)\n"
   ]
  },
  {
   "cell_type": "code",
   "execution_count": 216,
   "id": "95a56c7f",
   "metadata": {},
   "outputs": [
    {
     "name": "stdout",
     "output_type": "stream",
     "text": [
      "test do repr (<class '__main__.Mouse'>,)\n"
     ]
    }
   ],
   "source": [
    "class Mouse:\n",
    "    pass\n",
    "\n",
    "    def __init__(self):\n",
    "        pass\n",
    "    def __sssstr__(self):\n",
    "        return \"test do str\"\n",
    "    def __repr__(self):\n",
    "        return \"test do repr\"\n",
    "class Musaranho(Mouse):\n",
    "    pass\n",
    "\n",
    "m = Mouse()\n",
    "print(m, Musaranho.__bases__)"
   ]
  },
  {
   "cell_type": "code",
   "execution_count": 221,
   "id": "5aee1981",
   "metadata": {},
   "outputs": [
    {
     "name": "stdout",
     "output_type": "stream",
     "text": [
      "nt\n"
     ]
    }
   ],
   "source": [
    "import os\n",
    "print(os.name)"
   ]
  }
 ],
 "metadata": {
  "kernelspec": {
   "display_name": "Python 3",
   "language": "python",
   "name": "python3"
  },
  "language_info": {
   "codemirror_mode": {
    "name": "ipython",
    "version": 3
   },
   "file_extension": ".py",
   "mimetype": "text/x-python",
   "name": "python",
   "nbconvert_exporter": "python",
   "pygments_lexer": "ipython3",
   "version": "3.13.6"
  }
 },
 "nbformat": 4,
 "nbformat_minor": 5
}
