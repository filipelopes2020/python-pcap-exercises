{
 "cells": [
  {
   "cell_type": "code",
   "execution_count": 9,
   "id": "aeb652d1",
   "metadata": {},
   "outputs": [
    {
     "name": "stdout",
     "output_type": "stream",
     "text": [
      "['__doc__', '__loader__', '__name__', '__package__', '__spec__', 'acos', 'acosh', 'asin', 'asinh', 'atan', 'atan2', 'atanh', 'cbrt', 'ceil', 'comb', 'copysign', 'cos', 'cosh', 'degrees', 'dist', 'e', 'erf', 'erfc', 'exp', 'exp2', 'expm1', 'fabs', 'factorial', 'floor', 'fma', 'fmod', 'frexp', 'fsum', 'gamma', 'gcd', 'hypot', 'inf', 'isclose', 'isfinite', 'isinf', 'isnan', 'isqrt', 'lcm', 'ldexp', 'lgamma', 'log', 'log10', 'log1p', 'log2', 'modf', 'nan', 'nextafter', 'perm', 'pi', 'pow', 'prod', 'radians', 'remainder', 'sin', 'sinh', 'sqrt', 'sumprod', 'tan', 'tanh', 'tau', 'trunc', 'ulp']\n"
     ]
    }
   ],
   "source": [
    "#import math\n",
    "#from math import sqrt\n",
    "from math import sqrt\n",
    "print(dir(math))\n",
    "#print(sqrt(25))"
   ]
  },
  {
   "cell_type": "code",
   "execution_count": 16,
   "id": "f975e3f9",
   "metadata": {},
   "outputs": [
    {
     "name": "stdout",
     "output_type": "stream",
     "text": [
      "Windows\n",
      "Windows-11-10.0.26100-SP0\n",
      "10.0.26100\n",
      "3.13.6\n",
      "AMD64\n",
      "Intel64 Family 6 Model 158 Stepping 10, GenuineIntel\n",
      "MSC v.1944 64 bit (AMD64)\n",
      "CPython\n"
     ]
    }
   ],
   "source": [
    "import platform as p\n",
    "\n",
    "print(p.system())\n",
    "print(p.platform())\n",
    "print(p.version())\n",
    "print(p.python_version())\n",
    "print(p.machine())\n",
    "print(p.processor())\n",
    "print(p.python_compiler())\n",
    "print(p.python_implementation())"
   ]
  },
  {
   "cell_type": "code",
   "execution_count": null,
   "id": "00b66203",
   "metadata": {},
   "outputs": [
    {
     "name": "stdout",
     "output_type": "stream",
     "text": [
      "10.0\n",
      "10000000000.0\n"
     ]
    }
   ],
   "source": [
    "try:\n",
    "    print(float(\"1e1\"))\n",
    "except (NameError,SyntaxError):\n",
    "    print(float(\"1.1\"))\n",
    "else:\n",
    "    print(float(\"1e10\"))"
   ]
  },
  {
   "cell_type": "code",
   "execution_count": 39,
   "id": "e36bbb85",
   "metadata": {},
   "outputs": [
    {
     "name": "stdout",
     "output_type": "stream",
     "text": [
      "Batatas\n"
     ]
    }
   ],
   "source": [
    "def foo(x):\n",
    "    assert x, \"Batatas\"\n",
    "    return 1/x\n",
    "\n",
    "try:\n",
    "    print(foo(0))\n",
    "except ZeroDivisionError:\n",
    "    print(\"zero\")\n",
    "except AssertionError as e:\n",
    "    print(e)\n",
    "else:\n",
    "    print(\"Some\")"
   ]
  },
  {
   "cell_type": "code",
   "execution_count": 29,
   "id": "02f4ea84",
   "metadata": {},
   "outputs": [
    {
     "name": "stdout",
     "output_type": "stream",
     "text": [
      "(<class 'object'>,)\n",
      "(<class '__main__.A'>,)\n",
      "(<class '__main__.B'>, <class '__main__.A'>)\n",
      "B\n"
     ]
    }
   ],
   "source": [
    "class A():\n",
    "    pass\n",
    "class B(A):\n",
    "    pass\n",
    "class C(B,A):\n",
    "    pass\n",
    "\n",
    "c = C()\n",
    "print(A.__bases__)\n",
    "print(B.__bases__)\n",
    "print(C.__bases__)\n",
    "print(C.__bases__[0].__name__)\n"
   ]
  },
  {
   "cell_type": "code",
   "execution_count": 41,
   "id": "084fded5",
   "metadata": {},
   "outputs": [
    {
     "name": "stdout",
     "output_type": "stream",
     "text": [
      "('Batatas',)\n",
      "(('Batatas', 'Couves'),)\n",
      "(123,)\n",
      "({'erro': 'X'},)\n"
     ]
    }
   ],
   "source": [
    "for msg in [\"Batatas\", (\"Batatas\",\"Couves\"), 123, {\"erro\": \"X\"}]:\n",
    "    try:\n",
    "        assert False, msg\n",
    "    except AssertionError as e:\n",
    "        #print(repr(e))\n",
    "        print(e.args)"
   ]
  },
  {
   "cell_type": "code",
   "execution_count": 42,
   "id": "07204c9f",
   "metadata": {},
   "outputs": [
    {
     "name": "stdout",
     "output_type": "stream",
     "text": [
      "Python👉é👉fixe🎉\n"
     ]
    }
   ],
   "source": [
    "print(\"Python\", \"é\", \"fixe\", sep=\"👉\", end=\"🎉\\n\")"
   ]
  },
  {
   "cell_type": "code",
   "execution_count": 46,
   "id": "79b8b275",
   "metadata": {},
   "outputs": [
    {
     "name": "stdout",
     "output_type": "stream",
     "text": [
      "1e+250 : Is a really big number\n"
     ]
    }
   ],
   "source": [
    "x = 1E250\n",
    "print(x, \"Is a really big number\", sep=\" : \")"
   ]
  },
  {
   "cell_type": "code",
   "execution_count": 47,
   "id": "001e0e2f",
   "metadata": {},
   "outputs": [],
   "source": [
    "x=\"frase de testes\"\n",
    "del x"
   ]
  },
  {
   "cell_type": "code",
   "execution_count": 51,
   "id": "8e25e1f3",
   "metadata": {},
   "outputs": [
    {
     "name": "stdout",
     "output_type": "stream",
     "text": [
      "False\n"
     ]
    },
    {
     "ename": "TypeError",
     "evalue": "'>' not supported between instances of 'str' and 'int'",
     "output_type": "error",
     "traceback": [
      "\u001b[31m---------------------------------------------------------------------------\u001b[39m",
      "\u001b[31mTypeError\u001b[39m                                 Traceback (most recent call last)",
      "\u001b[36mCell\u001b[39m\u001b[36m \u001b[39m\u001b[32mIn[51]\u001b[39m\u001b[32m, line 4\u001b[39m\n\u001b[32m      2\u001b[39m y = \u001b[32m3\u001b[39m\n\u001b[32m      3\u001b[39m \u001b[38;5;28mprint\u001b[39m(x==y)\n\u001b[32m----> \u001b[39m\u001b[32m4\u001b[39m \u001b[38;5;28;01mif\u001b[39;00m \u001b[43mx\u001b[49m\u001b[43m \u001b[49m\u001b[43m>\u001b[49m\u001b[43m \u001b[49m\u001b[43my\u001b[49m:\n\u001b[32m      5\u001b[39m     \u001b[38;5;28mprint\u001b[39m(\u001b[33m\"\u001b[39m\u001b[33mOK\u001b[39m\u001b[33m\"\u001b[39m)\n\u001b[32m      6\u001b[39m \u001b[38;5;28;01melse\u001b[39;00m:\n",
      "\u001b[31mTypeError\u001b[39m: '>' not supported between instances of 'str' and 'int'"
     ]
    }
   ],
   "source": [
    "x = \"True\"\n",
    "y = 3\n",
    "print(x==y)\n",
    "if x > y:\n",
    "    print(\"OK\")\n",
    "else:\n",
    "    print(\"NOK\")"
   ]
  },
  {
   "cell_type": "code",
   "execution_count": 55,
   "id": "f691d299",
   "metadata": {},
   "outputs": [
    {
     "name": "stdout",
     "output_type": "stream",
     "text": [
      "[]\n"
     ]
    }
   ],
   "source": [
    "s1='dog cat rat'\n",
    "s2 = s1.split()\n",
    "print(s2[1:2:-1])"
   ]
  },
  {
   "cell_type": "code",
   "execution_count": null,
   "id": "74b64bba",
   "metadata": {},
   "outputs": [
    {
     "name": "stdout",
     "output_type": "stream",
     "text": [
      "['Hello', 'World', '!']\n"
     ]
    }
   ],
   "source": [
    "my_list = ['Hello','World',\"!\"]\n",
    "s = '\\\\'.join(my_list)\n",
    "\n",
    "print(x)"
   ]
  },
  {
   "cell_type": "code",
   "execution_count": 96,
   "id": "3acda782",
   "metadata": {},
   "outputs": [],
   "source": [
    "class A():\n",
    "    pass\n",
    "class B(A):\n",
    "    pass\n",
    "class C(A):\n",
    "    pass\n",
    "class D(B):\n",
    "    pass\n",
    "class E(B,A):\n",
    "    pass\n",
    "class F(C):\n",
    "    pass\n",
    "\n",
    "class G(D,E,F):\n",
    "    pass"
   ]
  }
 ],
 "metadata": {
  "kernelspec": {
   "display_name": "Python 3",
   "language": "python",
   "name": "python3"
  },
  "language_info": {
   "codemirror_mode": {
    "name": "ipython",
    "version": 3
   },
   "file_extension": ".py",
   "mimetype": "text/x-python",
   "name": "python",
   "nbconvert_exporter": "python",
   "pygments_lexer": "ipython3",
   "version": "3.13.6"
  }
 },
 "nbformat": 4,
 "nbformat_minor": 5
}
