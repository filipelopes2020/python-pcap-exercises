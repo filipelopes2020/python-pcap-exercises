{
 "cells": [
  {
   "cell_type": "code",
   "execution_count": 11,
   "id": "8daa6341",
   "metadata": {},
   "outputs": [
    {
     "name": "stdout",
     "output_type": "stream",
     "text": [
      "Hello World\n"
     ]
    }
   ],
   "source": [
    "\"spam\"\n",
    "\"ham\"\n",
    "\"eggs\"\n",
    "1\n",
    "[2,3,4]\n",
    "(1,2,3,4,5,6)\n",
    "{1,23,3,4,5,5,2}\n",
    "{1:\"burro\",2:\"cabra\"}\n",
    "range(1, 10)\n",
    "2\n",
    "9.8\n",
    "False\n",
    "print(\"Hello World\")"
   ]
  },
  {
   "cell_type": "code",
   "execution_count": 17,
   "id": "e053d2c5",
   "metadata": {},
   "outputs": [
    {
     "name": "stdout",
     "output_type": "stream",
     "text": [
      "John said: \"I'm fine!\"\n"
     ]
    }
   ],
   "source": [
    "print(\"John said: \\\"I\\'m fine!\\\"\")"
   ]
  },
  {
   "cell_type": "code",
   "execution_count": 35,
   "id": "25275ab4",
   "metadata": {},
   "outputs": [
    {
     "name": "stdout",
     "output_type": "stream",
     "text": [
      "['grapesksa', 'applewp', 'banajxp', 'pearzzz']\n",
      "['grapesksa', 'banajxp', 'applewp', 'pearzzz']\n",
      "[10, 8, 6, 4, 2]\n"
     ]
    }
   ],
   "source": [
    "print(sorted(['banajxp', 'pearzzz', 'grapesksa', 'applewp'], key=lambda x: x[::-1]))\n",
    "print(sorted(['banajxp', 'pearzzz', 'grapesksa', 'applewp'], key=lambda x: x[::-3]))\n",
    "\n",
    "print([1,2,3,4,5,6,7,8,9,10][::-2]) \n"
   ]
  },
  {
   "cell_type": "code",
   "execution_count": null,
   "id": "57e83020",
   "metadata": {},
   "outputs": [
    {
     "name": "stdout",
     "output_type": "stream",
     "text": [
      "one three two zero \n",
      "0 1 2 3 \n"
     ]
    },
    {
     "data": {
      "text/plain": [
       "'aaa'"
      ]
     },
     "execution_count": 73,
     "metadata": {},
     "output_type": "execute_result"
    }
   ],
   "source": [
    "d = { 'zero':0, 'one':1, 'three':3, 'two':2 }\n",
    "for k in sorted(d.keys()):\n",
    "    print(k, end=' ')\n",
    "print()\n",
    "#print(sorted(d.keys()))\n",
    "#print(sorted(d.values()))\n",
    "\n",
    "for k in sorted(d.values()):\n",
    "    print(k, end=' ')\n",
    "print()\n",
    "'a' * 3  \n"
   ]
  },
  {
   "cell_type": "code",
   "execution_count": 82,
   "id": "eae0e8cb",
   "metadata": {},
   "outputs": [
    {
     "name": "stdout",
     "output_type": "stream",
     "text": [
      "True\n"
     ]
    },
    {
     "ename": "ValueError",
     "evalue": "substring not found",
     "output_type": "error",
     "traceback": [
      "\u001b[31m---------------------------------------------------------------------------\u001b[39m",
      "\u001b[31mValueError\u001b[39m                                Traceback (most recent call last)",
      "\u001b[36mCell\u001b[39m\u001b[36m \u001b[39m\u001b[32mIn[82]\u001b[39m\u001b[32m, line 4\u001b[39m\n\u001b[32m      2\u001b[39m \u001b[38;5;28mprint\u001b[39m(t.find(\u001b[33m\"\u001b[39m\u001b[33mHam\u001b[39m\u001b[33m\"\u001b[39m, \u001b[32m0\u001b[39m) == t.index(\u001b[33m\"\u001b[39m\u001b[33mHam\u001b[39m\u001b[33m\"\u001b[39m, \u001b[32m0\u001b[39m))\n\u001b[32m      3\u001b[39m \u001b[38;5;66;03m#print(t.find(\"Eggs\", 0) == t.index(\"Eggs\", 0))\u001b[39;00m\n\u001b[32m----> \u001b[39m\u001b[32m4\u001b[39m \u001b[38;5;28mprint\u001b[39m(t.find(\u001b[33m\"\u001b[39m\u001b[33mHam2\u001b[39m\u001b[33m\"\u001b[39m, \u001b[32m0\u001b[39m) , \u001b[43mt\u001b[49m\u001b[43m.\u001b[49m\u001b[43mindex\u001b[49m\u001b[43m(\u001b[49m\u001b[33;43m\"\u001b[39;49m\u001b[33;43mHam2\u001b[39;49m\u001b[33;43m\"\u001b[39;49m\u001b[43m,\u001b[49m\u001b[43m \u001b[49m\u001b[32;43m0\u001b[39;49m\u001b[43m)\u001b[49m)\n",
      "\u001b[31mValueError\u001b[39m: substring not found"
     ]
    }
   ],
   "source": [
    "t = \"Spam Ham\"\n",
    "print(t.find(\"Ham\", 0) == t.index(\"Ham\", 0))\n",
    "#print(t.find(\"Eggs\", 0) == t.index(\"Eggs\", 0))\n",
    "print(t.find(\"Ham2\", 0) , t.index(\"Ham2\", 0))"
   ]
  },
  {
   "cell_type": "code",
   "execution_count": null,
   "id": "0a29c51b",
   "metadata": {},
   "outputs": [
    {
     "name": "stdout",
     "output_type": "stream",
     "text": [
      "OLA PA => OLA PA\n",
      "(1, 1, 2, 2, 3, 43, 2)--"
     ]
    }
   ],
   "source": [
    "x = \"OLA PA\"\n",
    "y = x[:]\n",
    "print(x,y, sep=\" => \")\n",
    "p= ((1,1,2),(2,3,43,2))\n",
    "print(p, sep=\" => \", end=\"--\")"
   ]
  },
  {
   "cell_type": "code",
   "execution_count": 94,
   "id": "1cbad009",
   "metadata": {},
   "outputs": [
    {
     "name": "stdout",
     "output_type": "stream",
     "text": [
      "3098492277296 3098492277296\n"
     ]
    }
   ],
   "source": [
    "spam = 'FuBar'\n",
    "ham = spam[:]\n",
    "id(spam) == id(ham) \n",
    "print(id(spam), id(ham))"
   ]
  },
  {
   "cell_type": "code",
   "execution_count": 103,
   "id": "8cdea564",
   "metadata": {},
   "outputs": [
    {
     "name": "stdout",
     "output_type": "stream",
     "text": [
      "Month/Day/Year\n",
      "12/25/2021\n"
     ]
    }
   ],
   "source": [
    "print(\"/\".join({\"Month\": \"12\", \"Day\": \"25\", \"Year\":\"2021\"}.keys()))\n",
    "print(\"/\".join({\"Month\": \"12\", \"Day\": \"25\", \"Year\":\"2021\"}.values()))"
   ]
  },
  {
   "cell_type": "code",
   "execution_count": 109,
   "id": "990dbd64",
   "metadata": {},
   "outputs": [
    {
     "name": "stdout",
     "output_type": "stream",
     "text": [
      "Month/Day/Year\n",
      "Month/Day/Year\n",
      "12/25/2021\n",
      "teste-> dict_items([('Month', '12'), ('Day', '25'), ('Year', '2021')])\n"
     ]
    }
   ],
   "source": [
    "dict1 = {\"Month\": \"12\", \"Day\": \"25\", \"Year\":\"2021\"}\n",
    "print(\"/\".join(dict1))          # Month/Day/Year\n",
    "print(\"/\".join(dict1.keys()))   # Month/Day/Year\n",
    "\n",
    "# São diferentes destes:\n",
    "print(\"/\".join(dict1.values())) # 12/25/2021 (valores)\n",
    "#print(\"/\".join(dict1.items()))  # Erro! (items retorna tuplas)\n",
    "print(\"teste->\", dict1.items())  # Erro! (items retorna tuplas)"
   ]
  },
  {
   "cell_type": "code",
   "execution_count": 126,
   "id": "ff7d7721",
   "metadata": {},
   "outputs": [
    {
     "name": "stdout",
     "output_type": "stream",
     "text": [
      "ABCDEFGHIJKLMNOPQRSTUVWXYZ\n",
      "abcdefghijklmnopqrstuvwxyzABCDEFGHIJKLMNOPQRSTUVWXYZ\n",
      "abcdefghijklmnopqrstuvwxyz\n",
      "0123456789\n",
      " \t\n",
      "\u000b\f\n",
      "01234567\n",
      "!\"#$%&'()*+,-./:;<=>?@[\\]^_`{|}~\n",
      "0123456789abcdefABCDEF\n"
     ]
    }
   ],
   "source": [
    "import string\n",
    "\n",
    "print(string.ascii_uppercase)\n",
    "print(string.ascii_letters)\n",
    "print(string.ascii_lowercase)\n",
    "print(string.digits)\n",
    "print(string.whitespace)\n",
    "print(string.octdigits)\n",
    "print(string.punctuation)\n",
    "print(string.hexdigits)"
   ]
  },
  {
   "cell_type": "code",
   "execution_count": 124,
   "id": "d5973a36",
   "metadata": {},
   "outputs": [
    {
     "ename": "AttributeError",
     "evalue": "module 'string' has no attribute 'ascii_punctuation'",
     "output_type": "error",
     "traceback": [
      "\u001b[31m---------------------------------------------------------------------------\u001b[39m",
      "\u001b[31mAttributeError\u001b[39m                            Traceback (most recent call last)",
      "\u001b[36mCell\u001b[39m\u001b[36m \u001b[39m\u001b[32mIn[124]\u001b[39m\u001b[32m, line 3\u001b[39m\n\u001b[32m      1\u001b[39m \u001b[38;5;28;01mimport\u001b[39;00m\u001b[38;5;250m \u001b[39m\u001b[34;01mstring\u001b[39;00m\n\u001b[32m----> \u001b[39m\u001b[32m3\u001b[39m \u001b[38;5;28mprint\u001b[39m(\u001b[43mstring\u001b[49m\u001b[43m.\u001b[49m\u001b[43mascii_punctuation\u001b[49m)\n",
      "\u001b[31mAttributeError\u001b[39m: module 'string' has no attribute 'ascii_punctuation'"
     ]
    }
   ],
   "source": [
    "import string\n",
    "\n",
    "print(string.ascii_punctuation)"
   ]
  },
  {
   "cell_type": "code",
   "execution_count": 2,
   "id": "b0c232b8",
   "metadata": {},
   "outputs": [
    {
     "name": "stdout",
     "output_type": "stream",
     "text": [
      "C:\\Program Files\\Microsoft\\Windows NT\\\n"
     ]
    }
   ],
   "source": [
    "print(\"C:\\\\Program Files\\\\Microsoft\\\\Windows NT\", end=\"\")\n",
    "print(\"\\\\\")"
   ]
  },
  {
   "cell_type": "code",
   "execution_count": 11,
   "id": "82a5cd51",
   "metadata": {},
   "outputs": [
    {
     "name": "stdout",
     "output_type": "stream",
     "text": [
      "1XYZ2XYZ3\n",
      "o-l-a- -p-a- -1-2-3\n"
     ]
    }
   ],
   "source": [
    "print(\"XYZ\".join(\"123\"))\n",
    "print(\"-\".join(\"ola pa 123\"))"
   ]
  },
  {
   "cell_type": "code",
   "execution_count": 20,
   "id": "4e7930fa",
   "metadata": {},
   "outputs": [
    {
     "name": "stdout",
     "output_type": "stream",
     "text": [
      " \n",
      "    \n",
      "\"\"\"\" \n",
      "    \n"
     ]
    }
   ],
   "source": [
    "spam = \"\"\"\"\"\"\n",
    "ham = \"\"\"\n",
    "    \"\"\"\n",
    "print(spam, ham)\n",
    "\n",
    "\n",
    "spam = '\"\"\"\"'\n",
    "#ham = '''\n",
    "    #'''\n",
    "print(spam, ham)"
   ]
  },
  {
   "cell_type": "code",
   "execution_count": 26,
   "id": "5afd6540",
   "metadata": {},
   "outputs": [
    {
     "name": "stdout",
     "output_type": "stream",
     "text": [
      "[18, 8, 8, 7, 3, 2, 1]\n",
      "[1, 2, 3, 7, 8, 8, 18]\n"
     ]
    }
   ],
   "source": [
    "lista=[8,1,2,3,7,8,18]\n",
    "lista.sort(key=None, reverse=True)\n",
    "print(lista)\n",
    "print(sorted(lista, reverse=False))"
   ]
  },
  {
   "cell_type": "code",
   "execution_count": 28,
   "id": "d060fdae",
   "metadata": {},
   "outputs": [
    {
     "data": {
      "text/plain": [
       "(3, 'hamhamham')"
      ]
     },
     "execution_count": 28,
     "metadata": {},
     "output_type": "execute_result"
    }
   ],
   "source": [
    "spam, ham = 1, \"ham\"\n",
    "spam *= 3\n",
    "ham *= 3\n",
    "spam, ham"
   ]
  },
  {
   "cell_type": "code",
   "execution_count": null,
   "id": "f0c0f692",
   "metadata": {},
   "outputs": [
    {
     "name": "stdout",
     "output_type": "stream",
     "text": [
      "Eggs found\n"
     ]
    }
   ],
   "source": [
    "f = open('spam.txt', 'r')\n",
    "if 'eggs' in f.read():\n",
    "#if 'eggs' in f:\n",
    "    print(f'{Eggs} found')\n",
    "else:\n",
    "    print('Egg not found')"
   ]
  },
  {
   "cell_type": "code",
   "execution_count": 54,
   "id": "51a66100",
   "metadata": {},
   "outputs": [
    {
     "name": "stdout",
     "output_type": "stream",
     "text": [
      "Pn\n",
      "nP\n",
      "Pn\n",
      "----\n",
      "yhn\n"
     ]
    }
   ],
   "source": [
    "s = 'Python'\n",
    "print(s[::5])\n",
    "print(s[::-5]) # ->\n",
    "#print(s[::-1][::-5])\n",
    "print(s[0] + s[-1])\n",
    "print(\"----\")\n",
    "print(s[::-2][::-1])"
   ]
  },
  {
   "cell_type": "code",
   "execution_count": 67,
   "id": "63c4ff0a",
   "metadata": {},
   "outputs": [
    {
     "name": "stdout",
     "output_type": "stream",
     "text": [
      "ananab raep separg elppa \n",
      "['apple', 'grapes', 'pear', 'banana']\n",
      "['banana', 'apple', 'pear', 'grapes']\n"
     ]
    }
   ],
   "source": [
    "lista=['banana', 'pear', 'grapes', 'apple']\n",
    "def inverte(word):\n",
    "    return word[::-1]\n",
    "\n",
    "for i in lista:\n",
    "    print(inverte(i),end=' ')\n",
    "print()\n",
    "print(reverse(lista))\n",
    "print(sorted(['banana', 'pear', 'grapes', 'apple'], key=inverte))"
   ]
  },
  {
   "cell_type": "code",
   "execution_count": 74,
   "id": "cae65d3e",
   "metadata": {},
   "outputs": [
    {
     "name": "stdout",
     "output_type": "stream",
     "text": [
      "-1\n",
      "0\n",
      "15\n",
      "False\n",
      "6 2\n",
      "True\n",
      "True\n"
     ]
    }
   ],
   "source": [
    "texto = \"Python é as as Python\"\n",
    "\n",
    "print(texto.find(\"Java\"))      # -1 (não encontrado)\n",
    "\n",
    "print(texto.find(\"Python\"))    # 0 (primeira ocorrência)\n",
    "print(texto.rfind(\"Python\"))    \n",
    "\n",
    "t = \"Spam Ham\"\n",
    "print(t.rfind(\"am\") == t.find(\"am\"))\n",
    "print(t.rfind(\"am\"), t.find(\"am\"))\n",
    "print(t.rfind(\"am\", 3) == t.find(\"am\", 3))\n",
    "print(t.rfind(\"am\", -3) == t.find(\"am\", -3))"
   ]
  },
  {
   "cell_type": "code",
   "execution_count": 86,
   "id": "f4d401ba",
   "metadata": {},
   "outputs": [
    {
     "data": {
      "text/plain": [
       "[False, 0.6, True, 2, 90]"
      ]
     },
     "execution_count": 86,
     "metadata": {},
     "output_type": "execute_result"
    }
   ],
   "source": [
    "sorted([\"5\", \"1\", \"100\", \"34\"])\n",
    "sorted([5, 1, 100, 34])\n",
    "sorted([2,90,True, False, 0.6])"
   ]
  },
  {
   "cell_type": "code",
   "execution_count": 92,
   "id": "d201c365",
   "metadata": {},
   "outputs": [
    {
     "name": "stdout",
     "output_type": "stream",
     "text": [
      "['', 'spam', 'ham', 'eggs', '']\n"
     ]
    }
   ],
   "source": [
    "print(\"/spam/ham/eggs/\".split(\"/\"))"
   ]
  },
  {
   "cell_type": "code",
   "execution_count": 94,
   "id": "aadef2d4",
   "metadata": {},
   "outputs": [
    {
     "name": "stdout",
     "output_type": "stream",
     "text": [
      "True <class 'bool'>\n"
     ]
    }
   ],
   "source": [
    "x = \"0\"\n",
    "y = \"1\"\n",
    "z = \"2\"\n",
    "x = y < z\n",
    "print(x == True, type(x))"
   ]
  },
  {
   "cell_type": "code",
   "execution_count": 106,
   "id": "5dc9a555",
   "metadata": {},
   "outputs": [
    {
     "data": {
      "text/plain": [
       "['grapes', 'pear', 'apple', 'banana']"
      ]
     },
     "execution_count": 106,
     "metadata": {},
     "output_type": "execute_result"
    }
   ],
   "source": [
    "def reverse(word):\n",
    "    return word[::-1]\n",
    "sorted(['banana', 'pear', 'grapes', 'apple'], key=reverse, reverse=True)"
   ]
  },
  {
   "cell_type": "code",
   "execution_count": 6,
   "id": "a1aca1c2",
   "metadata": {},
   "outputs": [
    {
     "data": {
      "text/plain": [
       "'HELLO WORLD'"
      ]
     },
     "execution_count": 6,
     "metadata": {},
     "output_type": "execute_result"
    }
   ],
   "source": [
    "s = 'Hello World'\n",
    "x=''\n",
    "for i in range(len(s)):\n",
    "    x = x+ s[i].upper()\n",
    "s\n",
    "x"
   ]
  },
  {
   "cell_type": "code",
   "execution_count": 12,
   "id": "34b82233",
   "metadata": {},
   "outputs": [
    {
     "name": "stdout",
     "output_type": "stream",
     "text": [
      "True\n"
     ]
    }
   ],
   "source": [
    "print(''  in 'spam')\n"
   ]
  },
  {
   "cell_type": "code",
   "execution_count": null,
   "id": "ce495da2",
   "metadata": {},
   "outputs": [
    {
     "name": "stdout",
     "output_type": "stream",
     "text": [
      "f09f918df09f8fbb\n",
      "b'\\xf0\\x9f\\x91\\x8d\\xf0\\x9f\\x8f\\xbb'\n",
      "👍🏻\n"
     ]
    }
   ],
   "source": [
    "#texto = \"Cafe: 👍🏻\"  # String Unicode\n",
    "texto = \"👍🏻\"  # String Unicode\n",
    "bytes_utf8 = texto.encode('utf-8')  # Codifica para bytes\n",
    "print(bytes_utf8.hex())\n",
    "print(bytes_utf8)  # Saída: b'Caf\\xc3\\xa9'\n",
    "texto_decodificado = bytes_utf8.decode('utf-8')  # Decodifica de volta\n",
    "print(texto_decodificado)  # Saída: Café\n"
   ]
  },
  {
   "cell_type": "code",
   "execution_count": 21,
   "id": "f3f52707",
   "metadata": {},
   "outputs": [
    {
     "name": "stdout",
     "output_type": "stream",
     "text": [
      "['Spam', 'HamEggs']\n"
     ]
    }
   ],
   "source": [
    "foo = [\n",
    "    'Spam',\n",
    "    'Ham' \n",
    "    'Eggs'\n",
    "]\n",
    "print(foo)"
   ]
  }
 ],
 "metadata": {
  "kernelspec": {
   "display_name": "Python 3",
   "language": "python",
   "name": "python3"
  },
  "language_info": {
   "codemirror_mode": {
    "name": "ipython",
    "version": 3
   },
   "file_extension": ".py",
   "mimetype": "text/x-python",
   "name": "python",
   "nbconvert_exporter": "python",
   "pygments_lexer": "ipython3",
   "version": "3.13.6"
  }
 },
 "nbformat": 4,
 "nbformat_minor": 5
}
