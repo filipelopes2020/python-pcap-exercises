{
 "cells": [
  {
   "cell_type": "code",
   "execution_count": null,
   "id": "42ad2333",
   "metadata": {},
   "outputs": [
    {
     "ename": "TypeError",
     "evalue": "ord() expected string of length 1, but int found",
     "output_type": "error",
     "traceback": [
      "\u001b[31m---------------------------------------------------------------------------\u001b[39m",
      "\u001b[31mTypeError\u001b[39m                                 Traceback (most recent call last)",
      "\u001b[36mCell\u001b[39m\u001b[36m \u001b[39m\u001b[32mIn[13]\u001b[39m\u001b[32m, line 3\u001b[39m\n\u001b[32m      1\u001b[39m x=\u001b[33m'\u001b[39m\u001b[33mA\u001b[39m\u001b[33m'\u001b[39m\n\u001b[32m      2\u001b[39m \u001b[38;5;66;03m#print(ord(chr(x)) == x)\u001b[39;00m\n\u001b[32m----> \u001b[39m\u001b[32m3\u001b[39m \u001b[38;5;28mprint\u001b[39m(\u001b[38;5;28;43mord\u001b[39;49m\u001b[43m(\u001b[49m\u001b[38;5;28;43mord\u001b[39;49m\u001b[43m(\u001b[49m\u001b[43mx\u001b[49m\u001b[43m)\u001b[49m\u001b[43m)\u001b[49m == x)\n\u001b[32m      4\u001b[39m \u001b[38;5;28mprint\u001b[39m(\u001b[38;5;28mchr\u001b[39m(\u001b[38;5;28mord\u001b[39m(x)) == x) \n",
      "\u001b[31mTypeError\u001b[39m: ord() expected string of length 1, but int found"
     ]
    }
   ],
   "source": [
    "x='A'\n",
    "#print(ord(chr(x)) == x)\n",
    "print(ord(ord(x)) == x)\n",
    "print(chr(ord(x)) == x) \n",
    "\n"
   ]
  },
  {
   "cell_type": "code",
   "execution_count": null,
   "id": "7b3fa776",
   "metadata": {},
   "outputs": [
    {
     "data": {
      "text/plain": [
       "'A'"
      ]
     },
     "execution_count": 10,
     "metadata": {},
     "output_type": "execute_result"
    }
   ],
   "source": [
    "chr(ord('A'))\n"
   ]
  },
  {
   "cell_type": "code",
   "execution_count": null,
   "id": "f4fee09e",
   "metadata": {},
   "outputs": [
    {
     "name": "stdout",
     "output_type": "stream",
     "text": [
      "7\n"
     ]
    }
   ],
   "source": [
    "def foo(x,y):\n",
    "    return y(x)+(x+1)\n",
    "\n",
    "print(foo(2,lambda x: x*x))  # 7"
   ]
  },
  {
   "cell_type": "code",
   "execution_count": null,
   "id": "b014f863",
   "metadata": {},
   "outputs": [
    {
     "name": "stdout",
     "output_type": "stream",
     "text": [
      "21\n"
     ]
    }
   ],
   "source": [
    "def f(n):\n",
    "    if n==1:\n",
    "        return '1'\n",
    "    return str(n)+f(n-1)\n",
    "\n",
    "print(f(2))  "
   ]
  },
  {
   "cell_type": "code",
   "execution_count": null,
   "id": "691ef634",
   "metadata": {},
   "outputs": [],
   "source": [
    "def f(n):\n",
    "    for i in range(1, n+1):\n",
    "        yield i\n",
    "    \n",
    "for i in f(7):\n",
    "    print(i, end=' ')"
   ]
  },
  {
   "cell_type": "code",
   "execution_count": 1,
   "id": "4a3e2070",
   "metadata": {},
   "outputs": [
    {
     "name": "stdout",
     "output_type": "stream",
     "text": [
      "9\n"
     ]
    }
   ],
   "source": [
    "for ii in range(10):\n",
    "    pass\n",
    "\n",
    "print(ii)  "
   ]
  },
  {
   "cell_type": "code",
   "execution_count": 23,
   "id": "181d0433",
   "metadata": {},
   "outputs": [
    {
     "name": "stdout",
     "output_type": "stream",
     "text": [
      "1\n"
     ]
    }
   ],
   "source": [
    "class Class:\n",
    "    Variable=0\n",
    "    def __init__(self):\n",
    "        self.value=0\n",
    "\n",
    "object_1=Class()\n",
    "#object_1.Variable+=1\n",
    "Class.Variable += 1\n",
    "object_2=Class()\n",
    "\n",
    "print(object_2.Variable + object_1.value)\n",
    "\n"
   ]
  },
  {
   "cell_type": "code",
   "execution_count": null,
   "id": "a64913ea",
   "metadata": {},
   "outputs": [
    {
     "name": "stdout",
     "output_type": "stream",
     "text": [
      "(<class '__main__.Class_4'>, <class '__main__.E'>, <class '__main__.D'>, <class '__main__.B'>, <class '__main__.A'>, <class 'object'>)\n"
     ]
    }
   ],
   "source": [
    "class A:\n",
    "    pass\n",
    "class B(A):\n",
    "    pass\n",
    "class C(A):\n",
    "    pass \n",
    "class D(B):\n",
    "    pass\n",
    "class E(D):\n",
    "    pass\n",
    "\n",
    "class Class_1(C,D): pass\n",
    "class Class_4(E,A): pass   # OK\n",
    "\n",
    "#class Class_3(A,C): pass\n",
    "#class Class_2(B,D): pass\n",
    "\n",
    "class Class_X1(C,B): pass   \n",
    "\n",
    "class Class_3(C, A): pass\n",
    "class Class_2(D,B): pass\n",
    "\n",
    "class Class_5(D, C): pass\n",
    "class Class_6(B, A): pass\n",
    "#class X(B, Class_6): pass\n",
    "#class Y(A, B): pass\n",
    "class Z(Class_5,C): pass\n",
    "\n",
    "#print(Class_1.__mro__)\n",
    "print(Class_4.__mro__)"
   ]
  },
  {
   "cell_type": "code",
   "execution_count": null,
   "id": "968ebc81",
   "metadata": {},
   "outputs": [],
   "source": [
    "class X:  pass\n",
    "class Y(X): pass\n",
    "class Z(X): pass\n",
    "class W(Y): pass\n",
    "# ---\n",
    "#A.\n",
    "class Test1(Z, W): pass\n",
    "\n",
    "#B.\n",
    "class Test2(X, Z): pass\n",
    "\n",
    "#C.\n",
    "class Test3(W, X): pass\n",
    "\n",
    "# D.\n",
    "class Test4(Y, W): pass  "
   ]
  },
  {
   "cell_type": "code",
   "execution_count": null,
   "id": "f320ad39",
   "metadata": {},
   "outputs": [],
   "source": [
    "class A:     pass\n",
    "class B(A):     pass\n",
    "class C(A):     pass\n",
    "class D(C):     pass\n",
    "# A. OK\n",
    "class Test1(D, B): pass\n",
    "# B. NOK\n",
    "class Test2(B, C): pass\n",
    "# C. NOK\n",
    "class Test3(A, D): pass\n",
    "# D. NOK\n",
    "class Test4(C, D): pass"
   ]
  },
  {
   "cell_type": "code",
   "execution_count": null,
   "id": "0c89fe0d",
   "metadata": {},
   "outputs": [
    {
     "ename": "TypeError",
     "evalue": "Cannot create a consistent method resolution order (MRO) for bases A, F",
     "output_type": "error",
     "traceback": [
      "\u001b[31m---------------------------------------------------------------------------\u001b[39m",
      "\u001b[31mTypeError\u001b[39m                                 Traceback (most recent call last)",
      "\u001b[36mCell\u001b[39m\u001b[36m \u001b[39m\u001b[32mIn[28]\u001b[39m\u001b[32m, line 21\u001b[39m\n\u001b[32m---> \u001b[39m\u001b[32m21\u001b[39m \u001b[38;5;28;01mclass\u001b[39;00m\u001b[38;5;250m \u001b[39m\u001b[34;01mClass_X1\u001b[39;00m(A,F): \u001b[38;5;28;01mpass\u001b[39;00m\n",
      "\u001b[31mTypeError\u001b[39m: Cannot create a consistent method resolution order (MRO) for bases A, F"
     ]
    }
   ],
   "source": [
    "class A:    pass\n",
    "class B(A):    pass\n",
    "class C(A):    pass \n",
    "class D(B):    pass\n",
    "class E(D):    pass\n",
    "class F(B,C):    pass\n",
    "\n",
    "class Class_X1(D,C): pass\n",
    "class Class_X1(C,D): pass\n",
    "class Class_X1(F,E): pass\n",
    "class Class_X1(E,F): pass\n",
    "\n",
    "class Class_X1(B,A): pass\n",
    "class Class_X1(E,C): pass\n",
    "\n",
    "class Class_X1(E,A): pass\n",
    "\n",
    "#class Class_X1(B,F): pass\n",
    "#class Class_X1(B,D): pass\n",
    "class Class_X1(F,B): pass\n",
    "#class Class_X1(A,F): pass\n",
    "#class Class_X1(B,E): pass\n",
    "#class Class_X1(D,E): pass\n"
   ]
  },
  {
   "cell_type": "code",
   "execution_count": 62,
   "id": "d0440dc2",
   "metadata": {},
   "outputs": [
    {
     "name": "stdout",
     "output_type": "stream",
     "text": [
      "True\n",
      "2\n",
      "3\n",
      "3\n",
      "True\n",
      "True\n",
      "True\n",
      "(<class '__main__.B'>,)\n",
      "{'prop_c': 3}\n",
      "{'__module__': '__main__', '__firstlineno__': 12, 'VarA': 3, '__init__': <function C.__init__ at 0x00000207E3046FC0>, '__static_attributes__': ('prop_c',), '__doc__': None}\n",
      "True\n"
     ]
    }
   ],
   "source": [
    "class A:\n",
    "    VarA=1\n",
    "    def __init__(self):\n",
    "        self.prop_a=1\n",
    "\n",
    "class B(A):\n",
    "    VarA=2\n",
    "    batatas=9\n",
    "    def __init__(self) -> None:\n",
    "        self.prop_b=2\n",
    "        \n",
    "class C(B):\n",
    "    VarA=3\n",
    "    def __init__(self) -> None:\n",
    "        self.prop_c=3\n",
    "obj_a=A()\n",
    "obj_aa=A()\n",
    "obj_b=B()\n",
    "obj_bb=B()\n",
    "obj_c=C()\n",
    "#obj_cc=C()\n",
    "\n",
    "print(A.VarA==1)\n",
    "print(B.VarA)\n",
    "print(C.VarA)\n",
    "print(obj_c.VarA)\n",
    "print(hasattr(obj_c,'VarA'))\n",
    "print(hasattr(obj_c,'prop_c'))\n",
    "print(hasattr(obj_c,'batatas'))\n",
    "print(C.__bases__   )\n",
    "print(obj_c.__dict__)\n",
    "print(C.__dict__)\n",
    "print(hasattr(C,'VarA'))"
   ]
  },
  {
   "cell_type": "code",
   "execution_count": 58,
   "id": "747c120a",
   "metadata": {},
   "outputs": [
    {
     "name": "stdout",
     "output_type": "stream",
     "text": [
      "YKS\n",
      "S\n"
     ]
    }
   ],
   "source": [
    "string = 'SKY'[::-1]; print(string)\n",
    "string = string[-1]\n",
    "print(string)  "
   ]
  },
  {
   "cell_type": "code",
   "execution_count": 6,
   "id": "c7e17d1e",
   "metadata": {},
   "outputs": [
    {
     "name": "stdout",
     "output_type": "stream",
     "text": [
      "[2, 4]\n"
     ]
    }
   ],
   "source": [
    "def f(n):\n",
    "    for i in range(1, n+1):\n",
    "        yield i*2\n",
    " \n",
    "print(list(f(2)))"
   ]
  },
  {
   "cell_type": "code",
   "execution_count": 14,
   "id": "626ed59e",
   "metadata": {},
   "outputs": [
    {
     "name": "stdout",
     "output_type": "stream",
     "text": [
      "-2\n"
     ]
    }
   ],
   "source": [
    "def a (l,I):\n",
    "    return l[I]\n",
    "\n",
    "print (a ([1,-2,3,3],1))"
   ]
  },
  {
   "cell_type": "code",
   "execution_count": 27,
   "id": "18e92dd3",
   "metadata": {},
   "outputs": [
    {
     "name": "stdout",
     "output_type": "stream",
     "text": [
      "()\n"
     ]
    }
   ],
   "source": [
    "tup=()\n",
    "#tup = (1, 2, 3)\n",
    "#print(tup[0])\n",
    "print(tup[:])\n",
    "#del tup\n",
    "#tup.append(0)"
   ]
  },
  {
   "cell_type": "code",
   "execution_count": 39,
   "id": "3e979c57",
   "metadata": {},
   "outputs": [
    {
     "name": "stdout",
     "output_type": "stream",
     "text": [
      "1\n",
      "2\n",
      "3\n",
      "{1, 2, 3, 4}\n"
     ]
    }
   ],
   "source": [
    "seti = {1, 2, 3}\n",
    "for elemento in seti:\n",
    "    print(elemento)\n",
    "    \n",
    "seti.add(4)\n",
    "seta = seti.copy()\n",
    "print(seta)"
   ]
  },
  {
   "cell_type": "code",
   "execution_count": 43,
   "id": "2f66c2ac",
   "metadata": {},
   "outputs": [
    {
     "name": "stdout",
     "output_type": "stream",
     "text": [
      "I feel fine Leonie\n"
     ]
    },
    {
     "ename": "Exception",
     "evalue": "What a party",
     "output_type": "error",
     "traceback": [
      "\u001b[31m---------------------------------------------------------------------------\u001b[39m",
      "\u001b[31mException\u001b[39m                                 Traceback (most recent call last)",
      "\u001b[36mCell\u001b[39m\u001b[36m \u001b[39m\u001b[32mIn[43]\u001b[39m\u001b[32m, line 8\u001b[39m\n\u001b[32m      6\u001b[39m \u001b[38;5;28;01mtry\u001b[39;00m:\n\u001b[32m      7\u001b[39m     \u001b[38;5;28mprint\u001b[39m(\u001b[33m\"\u001b[39m\u001b[33mI feel fine Leonie\u001b[39m\u001b[33m\"\u001b[39m)\n\u001b[32m----> \u001b[39m\u001b[32m8\u001b[39m     \u001b[38;5;28;01mraise\u001b[39;00m \u001b[38;5;167;01mException\u001b[39;00m(\u001b[33m\"\u001b[39m\u001b[33mWhat a party\u001b[39m\u001b[33m\"\u001b[39m)\n\u001b[32m      9\u001b[39m \u001b[38;5;28;01mexcept\u001b[39;00m E \u001b[38;5;28;01mas\u001b[39;00m e:\n\u001b[32m     10\u001b[39m     \u001b[38;5;28mprint\u001b[39m(e)    \n",
      "\u001b[31mException\u001b[39m: What a party"
     ]
    }
   ],
   "source": [
    "class E(Exception):\n",
    "    def __init__(self, message):\n",
    "        self.message = message\n",
    "    def __str__(self):\n",
    "        return \"It's nice to see you\"\n",
    "try:\n",
    "    print(\"I feel fine Leonie\")\n",
    "    raise Exception(\"What a party\")\n",
    "except E as e:\n",
    "    print(e)    \n",
    "else:\n",
    "    print(\"The show must go on\")\n"
   ]
  },
  {
   "cell_type": "code",
   "execution_count": 45,
   "id": "c0d9a50a",
   "metadata": {},
   "outputs": [
    {
     "name": "stdout",
     "output_type": "stream",
     "text": [
      "[False, False, False, False, False, False, False, False, False]\n",
      "7\n"
     ]
    }
   ],
   "source": [
    "list1 = [False for i in range (1, 10) ] ; print(list1)\n",
    "list2 = list1 [-1:1:-1]\n",
    "print(len(list2))  # Print 7"
   ]
  },
  {
   "cell_type": "code",
   "execution_count": 49,
   "id": "9750a79c",
   "metadata": {},
   "outputs": [
    {
     "name": "stdout",
     "output_type": "stream",
     "text": [
      "-1\n",
      "1\n"
     ]
    }
   ],
   "source": [
    "def foo(x,y,z):\n",
    "    return x(y)-x(z)\n",
    "\n",
    "print(foo(lambda x: x % 2,2,1)) \n",
    "print(1%2)"
   ]
  },
  {
   "cell_type": "code",
   "execution_count": 52,
   "id": "ce93c7fb",
   "metadata": {},
   "outputs": [
    {
     "name": "stdout",
     "output_type": "stream",
     "text": [
      "None\n"
     ]
    }
   ],
   "source": [
    "def coisas(x):\n",
    "    if x == 0:\n",
    "        return 3\n",
    "\n",
    "print(coisas(3))"
   ]
  },
  {
   "cell_type": "code",
   "execution_count": 54,
   "id": "d49565fb",
   "metadata": {},
   "outputs": [
    {
     "name": "stdout",
     "output_type": "stream",
     "text": [
      "0.1\n",
      "No errors occurred\n",
      "This always runs\n"
     ]
    }
   ],
   "source": [
    "try:\n",
    "    print(1/10)\n",
    "except ZeroDivisionError:\n",
    "    print(\"You can't divide by zero!\")\n",
    "except Exception as e:\n",
    "    print(\"Some other error:\", e)\n",
    "except:\n",
    "    print(\"Some other error occurred\")\n",
    "else:\n",
    "    print(\"No errors occurred\")\n",
    "finally:\n",
    "    print(\"This always runs\")\n",
    "\n",
    "\n",
    "    "
   ]
  },
  {
   "cell_type": "code",
   "execution_count": 56,
   "id": "b06c5d54",
   "metadata": {},
   "outputs": [
    {
     "name": "stdout",
     "output_type": "stream",
     "text": [
      "Windows-11-10.0.26100-SP0\n",
      "AMD64\n",
      "10.0.26100\n",
      "uname_result(system='Windows', node='SkySpeed', release='11', version='10.0.26100', machine='AMD64')\n",
      "Intel64 Family 6 Model 158 Stepping 10, GenuineIntel\n"
     ]
    }
   ],
   "source": [
    "import platform\n",
    "\n",
    "print(platform.platform())\n",
    "print(platform.machine())\n",
    "print(platform.version())   \n",
    "print(platform.uname())\n",
    "print(platform.processor())"
   ]
  },
  {
   "cell_type": "code",
   "execution_count": 61,
   "id": "f7f86e98",
   "metadata": {},
   "outputs": [
    {
     "name": "stdout",
     "output_type": "stream",
     "text": [
      "3\n",
      "3\n"
     ]
    }
   ],
   "source": [
    "var =1 \n",
    "\n",
    "def f():\n",
    "    global var\n",
    "    var +=1\n",
    "    def g():\n",
    "        return var\n",
    "    return g\n",
    "\n",
    "a=f()\n",
    "b=f()\n",
    "\n",
    "print(a())\n",
    "print(b())  \n",
    "\n"
   ]
  },
  {
   "cell_type": "code",
   "execution_count": 64,
   "id": "1715d9a8",
   "metadata": {},
   "outputs": [
    {
     "name": "stdout",
     "output_type": "stream",
     "text": [
      "list assignment index out of range\n"
     ]
    }
   ],
   "source": [
    "my_list=[1, 2, 3]   \n",
    "\n",
    "#my_list[3] = my_list[2]\n",
    "try:\n",
    "    my_list[3] = my_list[2]\n",
    "except BaseException as error:\n",
    "    print(error)\n"
   ]
  },
  {
   "cell_type": "code",
   "execution_count": null,
   "id": "afbec839",
   "metadata": {},
   "outputs": [
    {
     "name": "stdout",
     "output_type": "stream",
     "text": [
      "3 145\n"
     ]
    }
   ],
   "source": [
    "x,y= lambda x: 3,145\n",
    "#lambda x, y: (x, y)\n",
    "print(x(1),y)\n"
   ]
  },
  {
   "cell_type": "code",
   "execution_count": 86,
   "id": "f6e822a0",
   "metadata": {},
   "outputs": [
    {
     "name": "stdout",
     "output_type": "stream",
     "text": [
      "(10, 20)\n",
      "(5, 15)\n"
     ]
    }
   ],
   "source": [
    "resultado = (lambda x, y: (x, y))(10, 20)\n",
    "print(resultado)  # Output: (10, 20)\n",
    "\n",
    "minha_lambda = lambda x, y: (x, y)\n",
    "resultado = minha_lambda(5, 15)\n",
    "print(resultado)  # Output: (5, 15)"
   ]
  },
  {
   "cell_type": "code",
   "execution_count": 87,
   "id": "d2a6265e",
   "metadata": {},
   "outputs": [
    {
     "name": "stdout",
     "output_type": "stream",
     "text": [
      "[(1, 4), (2, 5), (3, 6)]\n"
     ]
    }
   ],
   "source": [
    "# Usando com map()\n",
    "lista_x = [1, 2, 3]\n",
    "lista_y = [4, 5, 6]\n",
    "resultados = list(map(lambda x, y: (x, y), lista_x, lista_y))\n",
    "print(resultados)  # Output: [(1, 4), (2, 5), (3, 6)]"
   ]
  },
  {
   "cell_type": "code",
   "execution_count": 90,
   "id": "518e14d4",
   "metadata": {},
   "outputs": [
    {
     "name": "stdout",
     "output_type": "stream",
     "text": [
      "[111, 222, 333]\n"
     ]
    }
   ],
   "source": [
    "a = [1, 2, 3]\n",
    "b = [10, 20, 30]\n",
    "c = [100, 200,300,400,500]\n",
    "\n",
    "resultado = map(lambda x, y, z: x + y + z, a, b, c)\n",
    "\n",
    "print(list(resultado))  # [111, 222, 333]\n"
   ]
  },
  {
   "cell_type": "code",
   "execution_count": 96,
   "id": "d4bbc97b",
   "metadata": {},
   "outputs": [
    {
     "name": "stdout",
     "output_type": "stream",
     "text": [
      "1\n"
     ]
    }
   ],
   "source": [
    "m = 0\n",
    "def foo(n):\n",
    "    global m\n",
    "    assert m != 0\n",
    "    try:\n",
    "        return 1 / n\n",
    "    except ArithmeticError:\n",
    "        raise ValueError\n",
    "try:\n",
    "    foo(0)  \n",
    "except ArithmeticError:\n",
    "    m+=2\n",
    "except:\n",
    "    m+=1\n",
    "    \n",
    "print(m)"
   ]
  },
  {
   "cell_type": "code",
   "execution_count": 97,
   "id": "56e3c961",
   "metadata": {},
   "outputs": [
    {
     "name": "stdout",
     "output_type": "stream",
     "text": [
      "100\n"
     ]
    }
   ],
   "source": [
    "i = 200\n",
    "    \n",
    "while len(str(i)) > 72: \n",
    "    i *= 2 \n",
    "else: \n",
    "    i //= 2 \n",
    "    \n",
    "print(i)"
   ]
  },
  {
   "cell_type": "code",
   "execution_count": 102,
   "id": "208eb8a8",
   "metadata": {},
   "outputs": [
    {
     "name": "stdout",
     "output_type": "stream",
     "text": [
      "{'pi': 3.145}\n"
     ]
    }
   ],
   "source": [
    "dict = {\"pi\":3.14}\n",
    "dict[\"pi\"] = 3.145\n",
    "\n",
    "print(dict)"
   ]
  },
  {
   "cell_type": "code",
   "execution_count": 104,
   "id": "cb58b3d9",
   "metadata": {},
   "outputs": [
    {
     "name": "stdout",
     "output_type": "stream",
     "text": [
      "<_io.TextIOWrapper name='animals.txt' mode='r' encoding='cp1252'>\n"
     ]
    }
   ],
   "source": [
    "file = open('animals.txt', 'r')\n",
    "content = file.read()\n",
    "file.close()\n",
    "\n",
    "print(file)"
   ]
  },
  {
   "cell_type": "code",
   "execution_count": 111,
   "id": "ab97eaf0",
   "metadata": {},
   "outputs": [
    {
     "name": "stdout",
     "output_type": "stream",
     "text": [
      "122 90 48 32\n",
      "!\n"
     ]
    }
   ],
   "source": [
    "print(ord(\"z\"),ord(\"Z\") ,ord(\"0\"),ord(\"z\")-ord(\"Z\") )\n",
    "print(chr(33))\n"
   ]
  },
  {
   "cell_type": "code",
   "execution_count": 113,
   "id": "2bdae2de",
   "metadata": {},
   "outputs": [
    {
     "name": "stdout",
     "output_type": "stream",
     "text": [
      "0: \u0000 1: \u0001 2: \u0002 3: \u0003 4: \u0004 5: \u0005 6: \u0006 7: \u0007 8: 9: \t 10: \n",
      " 14: \u000e 15: \u000f 16: \u0010 17: \u0011 18: \u0012 19: \u0013 20: \u0014 21: \u0015 22: \u0016 23: \u0017 24: \u0018 25: \u0019 26: \u001a 27: \u001b 28: \u001c 29: \u001d 30: \u001e 31: \u001f 32:   33: ! 34: \" 35: # 36: $ 37: % 38: & 39: ' 40: ( 41: ) 42: * 43: + 44: , 45: - 46: . 47: / 48: 0 49: 1 50: 2 51: 3 52: 4 53: 5 54: 6 55: 7 56: 8 57: 9 58: : 59: ; 60: < 61: = 62: > 63: ? 64: @ 65: A 66: B 67: C 68: D 69: E 70: F 71: G 72: H 73: I 74: J 75: K 76: L 77: M 78: N 79: O 80: P 81: Q 82: R 83: S 84: T 85: U 86: V 87: W 88: X 89: Y 90: Z 91: [ 92: \\ 93: ] 94: ^ 95: _ 96: ` 97: a 98: b 99: c 100: d 101: e 102: f 103: g 104: h 105: i 106: j 107: k 108: l 109: m 110: n 111: o 112: p 113: q 114: r 115: s 116: t 117: u 118: v 119: w 120: x 121: y 122: z 123: { 124: | 125: } 126: ~ 127:  "
     ]
    }
   ],
   "source": [
    "# Mostra os 128 primeiros caracteres ASCII e seus códigos\n",
    "for i in range(128):\n",
    "    print(f\"{i}: {chr(i)}\", end=' ')"
   ]
  },
  {
   "cell_type": "code",
   "execution_count": 114,
   "id": "def18d1f",
   "metadata": {},
   "outputs": [
    {
     "name": "stdout",
     "output_type": "stream",
     "text": [
      "A:  False\n",
      "<__main__.ClassB object at 0x0000020E9FC996A0>\n",
      "B:  True\n",
      "__main__\n",
      "C:  False\n",
      "__main__\n",
      "D:  True\n",
      "1\n"
     ]
    }
   ],
   "source": [
    "class ClassA:\n",
    "    var = 1\n",
    "    def __init__(self, prop):\n",
    "        prop1 = prop2 = prop\n",
    "    \n",
    "class ClassB(ClassA):\n",
    "    def __init__(self, prop):\n",
    "        prop3 = prop ** 2\n",
    "        super().__init__(prop)\n",
    "    \n",
    "Object = ClassB(2)\n",
    "    \n",
    "# A\n",
    "print('A: ', str(Object) == 'Object')\n",
    "print(str(Object))\n",
    "    \n",
    "# B\n",
    "print('B: ', __name__ == '__main__')\n",
    "print(str(__name__))\n",
    "    \n",
    "# C\n",
    "print('C: ', ClassA.__module__ == 'ClassA')\n",
    "print(str(ClassA.__module__))\n",
    "    \n",
    "# D\n",
    "print('D: ', len(ClassB.__bases__) == 1)\n",
    "print(str(len(ClassB.__bases__)))"
   ]
  },
  {
   "cell_type": "code",
   "execution_count": 125,
   "id": "e508c153",
   "metadata": {},
   "outputs": [
    {
     "name": "stdout",
     "output_type": "stream",
     "text": [
      "dict_keys(['name', 'weight', 'age'])\n",
      "dict_values(['Lambert', 150, 48])\n",
      "True\n",
      "True\n",
      "True\n"
     ]
    }
   ],
   "source": [
    "# Example Dictionary\n",
    "dict={'name': 'Lambert', 'weight': 150, 'age': 48}\n",
    "    \n",
    "print(dict.keys())\n",
    "print(dict.values())\n",
    "    \n",
    "print ('name' in dict.keys() )\n",
    "print ('age' in dict )\n",
    "print (150 in dict.values() )"
   ]
  },
  {
   "cell_type": "code",
   "execution_count": 128,
   "id": "2f5ad38f",
   "metadata": {},
   "outputs": [
    {
     "name": "stdout",
     "output_type": "stream",
     "text": [
      "The,Catcher,in,the,Rye,"
     ]
    }
   ],
   "source": [
    "s = \"The Catcher in the Rye\"\n",
    "#l = s.split(\" \")  # or \n",
    "l=s.split()\n",
    "for w in l:\n",
    "    print(w, end=',')  # outputs: The,Catcher,in,the,Rye,"
   ]
  },
  {
   "cell_type": "code",
   "execution_count": 129,
   "id": "2017fa01",
   "metadata": {},
   "outputs": [
    {
     "name": "stdout",
     "output_type": "stream",
     "text": [
      "***\n"
     ]
    }
   ],
   "source": [
    "for i in range(1,3):\n",
    "    print(\"*\", end=\"\")\n",
    "else:\n",
    "    print(\"*\")"
   ]
  },
  {
   "cell_type": "code",
   "execution_count": 132,
   "id": "a26a657f",
   "metadata": {},
   "outputs": [
    {
     "name": "stdout",
     "output_type": "stream",
     "text": [
      "[0, 11, 12, 32, 32]\n"
     ]
    }
   ],
   "source": [
    "class MyClass:\n",
    "    def __init__(self, initial):\n",
    "        self.store = initial\n",
    "    \n",
    "    def put(self, new):\n",
    "        self.store.append(new)  \n",
    "    \n",
    "    def get(self):\n",
    "        return self.store\n",
    "    \n",
    "    def dup(self):\n",
    "        # Insert the line of code here\n",
    "        self.put(self.get()[-1])\n",
    "    \n",
    "Object = MyClass([0])\n",
    "Object.put(11)\n",
    "Object.put(12)\n",
    "Object.put(32)\n",
    "Object.dup()\n",
    "print(Object.get())\n"
   ]
  },
  {
   "cell_type": "code",
   "execution_count": 133,
   "id": "0471cdbd",
   "metadata": {},
   "outputs": [
    {
     "name": "stdout",
     "output_type": "stream",
     "text": [
      "1\n",
      "None\n"
     ]
    },
    {
     "ename": "TypeError",
     "evalue": "unsupported operand type(s) for +: 'int' and 'NoneType'",
     "output_type": "error",
     "traceback": [
      "\u001b[31m---------------------------------------------------------------------------\u001b[39m",
      "\u001b[31mTypeError\u001b[39m                                 Traceback (most recent call last)",
      "\u001b[36mCell\u001b[39m\u001b[36m \u001b[39m\u001b[32mIn[133]\u001b[39m\u001b[32m, line 21\u001b[39m\n\u001b[32m     18\u001b[39m \u001b[38;5;28mprint\u001b[39m(a.doit())   \u001b[38;5;66;03m# 1\u001b[39;00m\n\u001b[32m     19\u001b[39m \u001b[38;5;28mprint\u001b[39m(b.doit())   \u001b[38;5;66;03m# None\u001b[39;00m\n\u001b[32m---> \u001b[39m\u001b[32m21\u001b[39m \u001b[38;5;28mprint\u001b[39m(\u001b[43ma\u001b[49m\u001b[43m.\u001b[49m\u001b[43mdoit\u001b[49m\u001b[43m(\u001b[49m\u001b[43m)\u001b[49m\u001b[43m \u001b[49m\u001b[43m+\u001b[49m\u001b[43m \u001b[49m\u001b[43mb\u001b[49m\u001b[43m.\u001b[49m\u001b[43mdoit\u001b[49m\u001b[43m(\u001b[49m\u001b[43m)\u001b[49m)  \u001b[38;5;66;03m#TypeError: unsupported operand type(s) for +: 'int' and 'NoneType'\u001b[39;00m\n",
      "\u001b[31mTypeError\u001b[39m: unsupported operand type(s) for +: 'int' and 'NoneType'"
     ]
    }
   ],
   "source": [
    "class Super:\n",
    "    def make(self):\n",
    "        pass\n",
    "    \n",
    "    def doit(self):\n",
    "        return self.make()\n",
    "    \n",
    "class Sub_A(Super):\n",
    "    def make(self):\n",
    "        return 1\n",
    "    \n",
    "class Sub_B(Super):\n",
    "    pass\n",
    "    \n",
    "a = Sub_A()\n",
    "b = Sub_B()\n",
    "    \n",
    "print(a.doit())   # 1\n",
    "print(b.doit())   # None\n",
    "    \n",
    "print(a.doit() + b.doit())  #TypeError: unsupported operand type(s) for +: 'int' and 'NoneType'"
   ]
  }
 ],
 "metadata": {
  "kernelspec": {
   "display_name": "Python 3",
   "language": "python",
   "name": "python3"
  },
  "language_info": {
   "codemirror_mode": {
    "name": "ipython",
    "version": 3
   },
   "file_extension": ".py",
   "mimetype": "text/x-python",
   "name": "python",
   "nbconvert_exporter": "python",
   "pygments_lexer": "ipython3",
   "version": "3.13.6"
  }
 },
 "nbformat": 4,
 "nbformat_minor": 5
}
