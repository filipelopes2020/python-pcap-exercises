{
 "cells": [
  {
   "cell_type": "code",
   "execution_count": 5,
   "id": "022c2ada",
   "metadata": {},
   "outputs": [
    {
     "name": "stdout",
     "output_type": "stream",
     "text": [
      "AMD64\n",
      "Intel64 Family 6 Model 158 Stepping 10, GenuineIntel\n"
     ]
    }
   ],
   "source": [
    "import platform\n",
    "print(platform.machine())\n",
    "\n",
    "print(platform.processor())"
   ]
  },
  {
   "cell_type": "code",
   "execution_count": 7,
   "id": "c217ba6c",
   "metadata": {},
   "outputs": [
    {
     "ename": "RuntimeError",
     "evalue": "",
     "output_type": "error",
     "traceback": [
      "\u001b[31m---------------------------------------------------------------------------\u001b[39m",
      "\u001b[31mRuntimeError\u001b[39m                              Traceback (most recent call last)",
      "\u001b[36mCell\u001b[39m\u001b[36m \u001b[39m\u001b[32mIn[7]\u001b[39m\u001b[32m, line 4\u001b[39m\n\u001b[32m      2\u001b[39m     \u001b[38;5;28;01mraise\u001b[39;00m \u001b[38;5;167;01mIOError\u001b[39;00m \n\u001b[32m      3\u001b[39m \u001b[38;5;28;01mexcept\u001b[39;00m \u001b[38;5;167;01mIOError\u001b[39;00m:\n\u001b[32m----> \u001b[39m\u001b[32m4\u001b[39m     \u001b[38;5;28;01mraise\u001b[39;00m \u001b[38;5;167;01mRuntimeError\u001b[39;00m \u001b[38;5;28;01mfrom\u001b[39;00m\u001b[38;5;250m \u001b[39m\u001b[38;5;28;01mNone\u001b[39;00m\n",
      "\u001b[31mRuntimeError\u001b[39m: "
     ]
    }
   ],
   "source": [
    "try:\n",
    "    raise IOError \n",
    "except IOError:\n",
    "    raise RuntimeError from None"
   ]
  },
  {
   "cell_type": "code",
   "execution_count": 25,
   "id": "dd444014",
   "metadata": {},
   "outputs": [
    {
     "name": "stdout",
     "output_type": "stream",
     "text": [
      "[ www.pyth\n",
      ".python.com\n"
     ]
    }
   ],
   "source": [
    "print(\"[ www.python.com\".rstrip(\"n.com\"))\n",
    "print(\" www.python.com\".strip().lstrip(\"www\"))\n"
   ]
  },
  {
   "cell_type": "code",
   "execution_count": 33,
   "id": "11c18f89",
   "metadata": {},
   "outputs": [
    {
     "name": "stdout",
     "output_type": "stream",
     "text": [
      "['spam'] 3 ['ham'] 20 30\n"
     ]
    }
   ],
   "source": [
    "class MyList:\n",
    "    l=1\n",
    "    def __init__(self): \n",
    "        self.lst=[]\n",
    "    def add(self, p):\n",
    "        self.lst.append(p)\n",
    "        \n",
    "d,e=MyList(),MyList()\n",
    "d.add('spam')\n",
    "e.add('ham')\n",
    "e.l=20 # sombreia a variavel de classe\n",
    "e.ll=30\n",
    "MyList.l=3\n",
    "print(d.lst, d.l, e.lst, e.l,e.ll)\n",
    "    "
   ]
  },
  {
   "cell_type": "code",
   "execution_count": 53,
   "id": "e29c5aee",
   "metadata": {},
   "outputs": [
    {
     "name": "stdout",
     "output_type": "stream",
     "text": [
      "1 2\n"
     ]
    }
   ],
   "source": [
    "class Shape:\n",
    "    def __init__(self, vx=1):\n",
    "       self.v1=1\n",
    "    \n",
    "class Square(Shape):\n",
    "    def __init__(self, vx=10):\n",
    "       super().__init__(vx)    \n",
    "       #Shape.__init__(self)\n",
    "       self.v2=2\n",
    "s=Square(2)\n",
    "print(s.v1,s.v2)"
   ]
  },
  {
   "cell_type": "code",
   "execution_count": 58,
   "id": "dea00c67",
   "metadata": {},
   "outputs": [
    {
     "name": "stdout",
     "output_type": "stream",
     "text": [
      "__main__\n",
      "__main__\n",
      "__main__\n",
      "__main__\n",
      "4.0\n"
     ]
    }
   ],
   "source": [
    "class Spam:\n",
    "    __ham,ham = '__ham','ham'\n",
    "    def __eggs(self):\n",
    "        pass\n",
    "    eggs = __eggs\n",
    "s=Spam()\n",
    "\n",
    "print(s.eggs.__module__)\n",
    "print(s.__module__)\n",
    "print(Spam.__module__)\n",
    "print(s._Spam__eggs.__module__)\n",
    "\n",
    "print(16**0.5)"
   ]
  },
  {
   "cell_type": "code",
   "execution_count": 61,
   "id": "45a06c6b",
   "metadata": {},
   "outputs": [
    {
     "name": "stdout",
     "output_type": "stream",
     "text": [
      "[0, 1, 4, 9, 16]\n",
      "<class 'list'>\n",
      "[0, 1, 4, 9, 16]\n",
      "<generator object <genexpr> at 0x000001B7ECB6B100>\n",
      "<class 'generator'>\n",
      "[0, 1, 4, 9, 16]\n"
     ]
    }
   ],
   "source": [
    "# List comprehension (usa colchetes)\n",
    "lista = [x**2 for x in range(5)]\n",
    "print(lista)\n",
    "print(type(lista))  # <class 'list'>\n",
    "print(lista)  # [0, 1, 4, 9, 16]\n",
    "\n",
    "# Generator expression (usa parênteses)\n",
    "gerador = (x**2 for x in range(5))\n",
    "print(gerador)  # <generator object <genexpr> at 0x...>\n",
    "print(type(gerador))  # <class 'generator'>\n",
    "print(list(gerador))  # [0, 1, 4, 9, 16]"
   ]
  },
  {
   "cell_type": "code",
   "execution_count": null,
   "id": "10dba312",
   "metadata": {},
   "outputs": [
    {
     "name": "stdout",
     "output_type": "stream",
     "text": [
      "<class 'generator'>\n",
      "[0, 1, 4]\n"
     ]
    },
    {
     "ename": "TypeError",
     "evalue": "'generator' object is not callable",
     "output_type": "error",
     "traceback": [
      "\u001b[31m---------------------------------------------------------------------------\u001b[39m",
      "\u001b[31mTypeError\u001b[39m                                 Traceback (most recent call last)",
      "\u001b[36mCell\u001b[39m\u001b[36m \u001b[39m\u001b[32mIn[67]\u001b[39m\u001b[32m, line 6\u001b[39m\n\u001b[32m      4\u001b[39m \u001b[38;5;28mprint\u001b[39m(\u001b[38;5;28mtype\u001b[39m(gen))  \u001b[38;5;66;03m# <class 'generator'>\u001b[39;00m\n\u001b[32m      5\u001b[39m \u001b[38;5;28mprint\u001b[39m(\u001b[38;5;28mlist\u001b[39m(gen))  \u001b[38;5;66;03m# [0, 1, 4]\u001b[39;00m\n\u001b[32m----> \u001b[39m\u001b[32m6\u001b[39m \u001b[38;5;28mprint\u001b[39m(\u001b[43mgen\u001b[49m\u001b[43m(\u001b[49m\u001b[32;43m4\u001b[39;49m\u001b[43m)\u001b[49m)\n\u001b[32m      7\u001b[39m \u001b[38;5;28mprint\u001b[39m(\u001b[38;5;28mtype\u001b[39m(f))    \u001b[38;5;66;03m# <class 'function'>\u001b[39;00m\n\u001b[32m      8\u001b[39m \u001b[38;5;28mprint\u001b[39m(f(\u001b[32m10\u001b[39m))       \u001b[38;5;66;03m# [0, 1, 2]\u001b[39;00m\n",
      "\u001b[31mTypeError\u001b[39m: 'generator' object is not callable"
     ]
    }
   ],
   "source": [
    "gen = (x**2 for x in range(3))      # generator expression (iterador)\n",
    "f = lambda n: [x**2 for x in range(n)]  # lambda que retorna uma lista\n",
    "\n",
    "print(type(gen))  # <class 'generator'>\n",
    "print(list(gen))  # [0, 1, 4]\n",
    "\n",
    "print(type(f))    # <class 'function'>\n",
    "print(f(10))       # [0, 1, 2]\n"
   ]
  },
  {
   "cell_type": "code",
   "execution_count": 72,
   "id": "77602594",
   "metadata": {},
   "outputs": [
    {
     "name": "stdout",
     "output_type": "stream",
     "text": [
      "0\n",
      "1\n",
      "2\n"
     ]
    }
   ],
   "source": [
    "gen = (x for x in range(3))\n",
    "\n",
    "iterator = iter(gen)       # chama __iter__()\n",
    "while True:\n",
    "    try:\n",
    "        item = next(iterator)  # chama __next__()\n",
    "    except StopIteration:\n",
    "        break\n",
    "    print(item)\n",
    "\n"
   ]
  },
  {
   "cell_type": "code",
   "execution_count": 73,
   "id": "f8840d20",
   "metadata": {},
   "outputs": [],
   "source": [
    "file=open('animals.txt', 'r+')\n",
    "file.close()\n",
    "file.close()\n",
    "file.close()    "
   ]
  },
  {
   "cell_type": "code",
   "execution_count": 81,
   "id": "3d185c45",
   "metadata": {},
   "outputs": [
    {
     "name": "stdout",
     "output_type": "stream",
     "text": [
      "uname_result(system='Windows', node='SkySpeed', release='11', version='10.0.26100', machine='AMD64')\n"
     ]
    }
   ],
   "source": [
    "import platform\n",
    "\n",
    "print(platform.uname())\n"
   ]
  },
  {
   "cell_type": "code",
   "execution_count": 82,
   "id": "a9d5ade5",
   "metadata": {},
   "outputs": [
    {
     "name": "stdout",
     "output_type": "stream",
     "text": [
      "batatas\n"
     ]
    }
   ],
   "source": [
    "print(\"www.batatas\".lstrip(\"w.\"))"
   ]
  },
  {
   "cell_type": "code",
   "execution_count": 83,
   "id": "8386d4d4",
   "metadata": {},
   "outputs": [
    {
     "name": "stdout",
     "output_type": "stream",
     "text": [
      "4.0\n"
     ]
    }
   ],
   "source": [
    "from math import sqrt\n",
    "print(sqrt(16))"
   ]
  },
  {
   "cell_type": "code",
   "execution_count": 86,
   "id": "8866c143",
   "metadata": {},
   "outputs": [
    {
     "name": "stdout",
     "output_type": "stream",
     "text": [
      "olapabatatas\n"
     ]
    }
   ],
   "source": [
    "try:\n",
    "    raise Exception ( \"olapabatatas\")\n",
    "except Exception as e:\n",
    "    print(e)    "
   ]
  },
  {
   "cell_type": "code",
   "execution_count": 88,
   "id": "1dc39274",
   "metadata": {},
   "outputs": [
    {
     "name": "stdout",
     "output_type": "stream",
     "text": [
      "[]\n"
     ]
    }
   ],
   "source": [
    "l=list()\n",
    "print(l)\n"
   ]
  },
  {
   "cell_type": "code",
   "execution_count": 90,
   "id": "60a9e9ec",
   "metadata": {},
   "outputs": [
    {
     "name": "stdout",
     "output_type": "stream",
     "text": [
      "type error\n"
     ]
    }
   ],
   "source": [
    "try:\n",
    "    i=input(\"Enter a number: \")\n",
    "    l= list()\n",
    "    n=(1/i+l[2])\n",
    "except ZeroDivisionError:\n",
    "    print(\"division by zero\")\n",
    "except IndexError:\n",
    "    print(\"index error\")\n",
    "except TypeError:\n",
    "    print(\"type error\")\n",
    "    "
   ]
  },
  {
   "cell_type": "code",
   "execution_count": 95,
   "id": "f92e70ca",
   "metadata": {},
   "outputs": [
    {
     "name": "stdout",
     "output_type": "stream",
     "text": [
      "a\n",
      "True\n"
     ]
    }
   ],
   "source": [
    "print(chr(97))\n",
    "print(\"1\".isalnum())"
   ]
  },
  {
   "cell_type": "code",
   "execution_count": 128,
   "id": "40cacdb3",
   "metadata": {},
   "outputs": [],
   "source": [
    "for x in range(1):\n",
    "    try:\n",
    "        print(x/x)\n",
    "    finally:\n",
    "        break\n",
    "    "
   ]
  },
  {
   "cell_type": "code",
   "execution_count": 98,
   "id": "33c04b7e",
   "metadata": {},
   "outputs": [
    {
     "name": "stdout",
     "output_type": "stream",
     "text": [
      "Finally executado\n"
     ]
    },
    {
     "ename": "ZeroDivisionError",
     "evalue": "division by zero",
     "output_type": "error",
     "traceback": [
      "\u001b[31m---------------------------------------------------------------------------\u001b[39m",
      "\u001b[31mZeroDivisionError\u001b[39m                         Traceback (most recent call last)",
      "\u001b[36mCell\u001b[39m\u001b[36m \u001b[39m\u001b[32mIn[98]\u001b[39m\u001b[32m, line 2\u001b[39m\n\u001b[32m      1\u001b[39m \u001b[38;5;28;01mtry\u001b[39;00m:\n\u001b[32m----> \u001b[39m\u001b[32m2\u001b[39m     \u001b[38;5;28mprint\u001b[39m(\u001b[32;43m0\u001b[39;49m\u001b[43m/\u001b[49m\u001b[32;43m0\u001b[39;49m)  \u001b[38;5;66;03m# Isso causaria ZeroDivisionError\u001b[39;00m\n\u001b[32m      3\u001b[39m \u001b[38;5;28;01mfinally\u001b[39;00m:\n\u001b[32m      4\u001b[39m     \u001b[38;5;28mprint\u001b[39m(\u001b[33m\"\u001b[39m\u001b[33mFinally executado\u001b[39m\u001b[33m\"\u001b[39m)\n",
      "\u001b[31mZeroDivisionError\u001b[39m: division by zero"
     ]
    }
   ],
   "source": [
    "try:\n",
    "    print(0/0)  # Isso causaria ZeroDivisionError\n",
    "finally:\n",
    "    print(\"Finally executado\")\n",
    "    # break  # Isso suprimiria a exceção se estivesse em um loop"
   ]
  },
  {
   "cell_type": "code",
   "execution_count": 100,
   "id": "6e8bceb4",
   "metadata": {},
   "outputs": [
    {
     "name": "stdout",
     "output_type": "stream",
     "text": [
      "My exam cloud\n"
     ]
    }
   ],
   "source": [
    "str='my exam cloud'\n",
    "str=str.capitalize()\n",
    "print(str)\n"
   ]
  },
  {
   "cell_type": "code",
   "execution_count": null,
   "id": "00899f1a",
   "metadata": {},
   "outputs": [
    {
     "name": "stdout",
     "output_type": "stream",
     "text": [
      "__eggs\n",
      "__eggs\n"
     ]
    }
   ],
   "source": [
    "class Spam:\n",
    "    v=10\n",
    "    _ham,ham = '__ham','ham'\n",
    "    def __eggs(self): pass\n",
    "    def batatas(self): pass\n",
    "    def __init__(self):\n",
    "        self.k = \"10\"\n",
    "    eggs = __eggs\n",
    "    \n",
    "s=Spam()\n",
    "\n",
    "#print(s.__name__) # AttributeError: 'Spam' object has no attribute '__name__'\n",
    "#print(s.eggs.__name__)  # ok\n",
    "#print(s.ham.__name__)   # AttributeError: 'str' object has no attribute '__name__'\n",
    "#print(s._Spam__eggs.__name__)  # ok\n",
    "#print(s._Spam__ham.__name__) # AttributeError: 'str' object has no attribute '__name__'\n",
    "#print(s.batatas.__name__)  # ok\n",
    "#print(s.k.__name__)  # AttributeError: 'str' object has no attribute '__name__'\n",
    "print(Spam.eggs.__name__)  # ok\n",
    "print(Spam._Spam__eggs.__name__)  # ok\n"
   ]
  },
  {
   "cell_type": "code",
   "execution_count": 127,
   "id": "156f6b73",
   "metadata": {},
   "outputs": [],
   "source": [
    "b = bytearray(range(10))\n",
    "b = bytearray(b'm fine')\n",
    "b = bytearray()\n",
    "b = bytearray([10, 20, 30])\n",
    "b = bytearray(\"Olá\", \"utf-8\")\n",
    "#b = bytearray('I am fine')"
   ]
  },
  {
   "cell_type": "code",
   "execution_count": 131,
   "id": "bf8dddcd",
   "metadata": {},
   "outputs": [
    {
     "name": "stdout",
     "output_type": "stream",
     "text": [
      "4.0\n",
      "False\n",
      "10.0.26100\n"
     ]
    }
   ],
   "source": [
    "import math\n",
    "print(math.sqrt(16))\n",
    "\n",
    "print(''.isalpha())\n",
    "\n",
    "import platform\n",
    "print(platform.version())"
   ]
  },
  {
   "cell_type": "code",
   "execution_count": 161,
   "id": "185037b0",
   "metadata": {},
   "outputs": [
    {
     "name": "stdout",
     "output_type": "stream",
     "text": [
      "    January 2025\n",
      "Mo Tu We Th Fr Sa Su\n",
      "       1  2  3  4  5\n",
      " 6  7  8  9 10 11 12\n",
      "13 14 15 16 17 18 19\n",
      "20 21 22 23 24 25 26\n",
      "27 28 29 30 31\n",
      "\n"
     ]
    }
   ],
   "source": [
    "import calendar\n",
    "#print(calendar.calendar(2025))\n",
    "print(calendar.month(2025, 1))"
   ]
  },
  {
   "cell_type": "code",
   "execution_count": null,
   "id": "a3f851ad",
   "metadata": {},
   "outputs": [
    {
     "name": "stdout",
     "output_type": "stream",
     "text": [
      "Oi\n"
     ]
    }
   ],
   "source": [
    "# DUVIDAS\n",
    "# \n",
    "s = 'Ola boa noite'  # einabaO -> Oi\n",
    "print(s[::-2][::-5])\n",
    "\n",
    "\n"
   ]
  },
  {
   "cell_type": "code",
   "execution_count": 145,
   "id": "918943a9",
   "metadata": {},
   "outputs": [
    {
     "name": "stdout",
     "output_type": "stream",
     "text": [
      "['__abs__', '__add__', '__and__', '__bool__', '__ceil__', '__class__', '__delattr__', '__dir__', '__divmod__', '__doc__', '__eq__', '__float__', '__floor__', '__floordiv__', '__format__', '__ge__', '__getattribute__', '__getnewargs__', '__getstate__', '__gt__', '__hash__', '__index__', '__init__', '__init_subclass__', '__int__', '__invert__', '__le__', '__lshift__', '__lt__', '__mod__', '__mul__', '__ne__', '__neg__', '__new__', '__or__', '__pos__', '__pow__', '__radd__', '__rand__', '__rdivmod__', '__reduce__', '__reduce_ex__', '__repr__', '__rfloordiv__', '__rlshift__', '__rmod__', '__rmul__', '__ror__', '__round__', '__rpow__', '__rrshift__', '__rshift__', '__rsub__', '__rtruediv__', '__rxor__', '__setattr__', '__sizeof__', '__str__', '__sub__', '__subclasshook__', '__truediv__', '__trunc__', '__xor__', 'as_integer_ratio', 'bit_count', 'bit_length', 'conjugate', 'denominator', 'from_bytes', 'imag', 'is_integer', 'numerator', 'real', 'to_bytes']\n"
     ]
    }
   ],
   "source": [
    "print(dir(0))"
   ]
  },
  {
   "cell_type": "code",
   "execution_count": 156,
   "id": "29f63909",
   "metadata": {},
   "outputs": [
    {
     "name": "stdout",
     "output_type": "stream",
     "text": [
      "Métodos e atributos disponíveis:\n",
      "  acos   acosh   asin   asinh   atan   atan2   atanh   cbrt   ceil   comb   copysign   cos   cosh   degrees   dist   e   erf   erfc   exp   exp2   expm1   fabs   factorial   floor   fma   fmod   frexp   fsum   gamma   gcd   hypot   inf   isclose   isfinite   isinf   isnan   isqrt   lcm   ldexp   lgamma   log   log10   log1p   log2   modf   nan   nextafter   perm   pi   pow   prod   radians   remainder   sin   sinh   sqrt   sumprod   tan   tanh   tau   trunc   ulp "
     ]
    }
   ],
   "source": [
    "def explorar_objeto(obj):\n",
    "    print(\"Métodos e atributos disponíveis:\")\n",
    "    for item in dir(obj):\n",
    "        if not item.startswith('__'):  # Filtra métodos mágicos\n",
    "            print(f\"  {item}\", end=' ')\n",
    "\n",
    "explorar_objeto(math)\n",
    "#explorar_objeto(\"texto\")\n",
    "#explorar_objeto([1, 2, 3])\n",
    "#explorar_objeto({\"chave\": \"valor\"})"
   ]
  },
  {
   "cell_type": "code",
   "execution_count": 159,
   "id": "3216ee91",
   "metadata": {},
   "outputs": [
    {
     "name": "stdout",
     "output_type": "stream",
     "text": [
      "Help on built-in function round in module builtins:\n",
      "\n",
      "round(number, ndigits=None)\n",
      "    Round a number to a given precision in decimal digits.\n",
      "\n",
      "    The return value is an integer if ndigits is omitted or None.  Otherwise\n",
      "    the return value has the same type as the number.  ndigits may be negative.\n",
      "\n"
     ]
    }
   ],
   "source": [
    "import math\n",
    "#print(math.sin.__doc__)\n",
    "help(round)"
   ]
  },
  {
   "cell_type": "code",
   "execution_count": 165,
   "id": "01bc35f3",
   "metadata": {},
   "outputs": [
    {
     "name": "stdout",
     "output_type": "stream",
     "text": [
      "1320"
     ]
    }
   ],
   "source": [
    "lista={'zero':0,'one':1, 'two':2, 'three':3}\n",
    "for k in sorted(lista.keys()):\n",
    "    print(lista[k], end='')"
   ]
  },
  {
   "cell_type": "code",
   "execution_count": 170,
   "id": "343defb9",
   "metadata": {},
   "outputs": [
    {
     "name": "stdout",
     "output_type": "stream",
     "text": [
      "Windows-11-10.0.26100-SP0\n",
      "('64bit', 'WindowsPE')\n"
     ]
    }
   ],
   "source": [
    "import platform\n",
    "print(platform.platform())\n",
    "print(platform.architecture())"
   ]
  },
  {
   "cell_type": "code",
   "execution_count": 172,
   "id": "33a69030",
   "metadata": {},
   "outputs": [
    {
     "name": "stdout",
     "output_type": "stream",
     "text": [
      "None\n",
      "nt\n"
     ]
    }
   ],
   "source": [
    "def ex_test():\n",
    "    try:\n",
    "        n=1/0\n",
    "    finally:\n",
    "        return None\n",
    "\n",
    "print(ex_test())\n",
    "\n",
    "import os\n",
    "print(os.name)"
   ]
  },
  {
   "cell_type": "code",
   "execution_count": 176,
   "id": "e89e480f",
   "metadata": {},
   "outputs": [
    {
     "name": "stdout",
     "output_type": "stream",
     "text": [
      "4.0\n",
      "5.0\n"
     ]
    }
   ],
   "source": [
    "from math import sqrt\n",
    "\n",
    "print(sqrt(16))\n",
    "\n",
    "def sqrt(x):\n",
    "    \"\"\"Retorna a raiz quadrada de x.\"\"\"\n",
    "    return x**0.5+1\n",
    "\n",
    "print(sqrt(16))\n"
   ]
  },
  {
   "cell_type": "code",
   "execution_count": 177,
   "id": "d96b3b94",
   "metadata": {},
   "outputs": [
    {
     "name": "stdout",
     "output_type": "stream",
     "text": [
      "<__main__.A object at 0x000001B7EC257CB0>\n"
     ]
    }
   ],
   "source": [
    "class A:\n",
    "    def __init__(self, vx=1):\n",
    "        self.v1=1\n",
    "        self.v2=2   \n",
    "a=A(10)\n",
    "print(a)"
   ]
  },
  {
   "cell_type": "code",
   "execution_count": 182,
   "id": "529df2be",
   "metadata": {},
   "outputs": [
    {
     "name": "stdout",
     "output_type": "stream",
     "text": [
      "Batatas True\n",
      "Batata\n",
      "satataB\n"
     ]
    }
   ],
   "source": [
    "name=\"Batatas\"\n",
    "name2 = name[:]\n",
    "\n",
    "print(name2, name==name2)\n",
    "print(name2[:-1])\n",
    "print(name2[::-1])"
   ]
  },
  {
   "cell_type": "code",
   "execution_count": 183,
   "id": "fc60a5e3",
   "metadata": {},
   "outputs": [
    {
     "ename": "TypeError",
     "evalue": "duplicate base class X",
     "output_type": "error",
     "traceback": [
      "\u001b[31m---------------------------------------------------------------------------\u001b[39m",
      "\u001b[31mTypeError\u001b[39m                                 Traceback (most recent call last)",
      "\u001b[36mCell\u001b[39m\u001b[36m \u001b[39m\u001b[32mIn[183]\u001b[39m\u001b[32m, line 2\u001b[39m\n\u001b[32m----> \u001b[39m\u001b[32m2\u001b[39m \u001b[38;5;28;01mclass\u001b[39;00m\u001b[38;5;250m \u001b[39m\u001b[34;01mY\u001b[39;00m(X, X): \u001b[38;5;28;01mpass\u001b[39;00m\n",
      "\u001b[31mTypeError\u001b[39m: duplicate base class X"
     ]
    }
   ],
   "source": [
    "class X(object): pass\n",
    "class Y(X, X): pass"
   ]
  },
  {
   "cell_type": "code",
   "execution_count": 187,
   "id": "353abf31",
   "metadata": {},
   "outputs": [
    {
     "name": "stdout",
     "output_type": "stream",
     "text": [
      "Ham.__init__() "
     ]
    },
    {
     "ename": "TypeError",
     "evalue": "Ham.update() missing 1 required positional argument: 'param'",
     "output_type": "error",
     "traceback": [
      "\u001b[31m---------------------------------------------------------------------------\u001b[39m",
      "\u001b[31mTypeError\u001b[39m                                 Traceback (most recent call last)",
      "\u001b[36mCell\u001b[39m\u001b[36m \u001b[39m\u001b[32mIn[187]\u001b[39m\u001b[32m, line 11\u001b[39m\n\u001b[32m      8\u001b[39m     \u001b[38;5;28;01mdef\u001b[39;00m\u001b[38;5;250m \u001b[39m\u001b[34mupdate\u001b[39m(\u001b[38;5;28mself\u001b[39m,param):\n\u001b[32m      9\u001b[39m         \u001b[38;5;28mprint\u001b[39m(\u001b[38;5;28mtype\u001b[39m(\u001b[38;5;28mself\u001b[39m).\u001b[34m__name__\u001b[39m+ \u001b[33m'\u001b[39m\u001b[33m.update(param)\u001b[39m\u001b[33m'\u001b[39m, end=\u001b[33m'\u001b[39m\u001b[33m'\u001b[39m)\n\u001b[32m---> \u001b[39m\u001b[32m11\u001b[39m h=\u001b[43mHam\u001b[49m\u001b[43m(\u001b[49m\u001b[43m)\u001b[49m\n",
      "\u001b[36mCell\u001b[39m\u001b[36m \u001b[39m\u001b[32mIn[187]\u001b[39m\u001b[32m, line 4\u001b[39m, in \u001b[36mHam.__init__\u001b[39m\u001b[34m(self)\u001b[39m\n\u001b[32m      2\u001b[39m \u001b[38;5;28;01mdef\u001b[39;00m\u001b[38;5;250m \u001b[39m\u001b[34m__init__\u001b[39m(\u001b[38;5;28mself\u001b[39m):\n\u001b[32m      3\u001b[39m     \u001b[38;5;28mprint\u001b[39m(\u001b[38;5;28mtype\u001b[39m(\u001b[38;5;28mself\u001b[39m).\u001b[34m__name__\u001b[39m+ \u001b[33m'\u001b[39m\u001b[33m.__init__()\u001b[39m\u001b[33m'\u001b[39m, end=\u001b[33m'\u001b[39m\u001b[33m \u001b[39m\u001b[33m'\u001b[39m)\n\u001b[32m----> \u001b[39m\u001b[32m4\u001b[39m     \u001b[38;5;28;43mself\u001b[39;49m\u001b[43m.\u001b[49m\u001b[43mupdate\u001b[49m\u001b[43m(\u001b[49m\u001b[43m)\u001b[49m\n",
      "\u001b[31mTypeError\u001b[39m: Ham.update() missing 1 required positional argument: 'param'"
     ]
    }
   ],
   "source": [
    "class Ham:\n",
    "    def __init__(self):\n",
    "        print(type(self).__name__+ '.__init__()', end=' ')\n",
    "        self.update()\n",
    "    def update(self):\n",
    "        print(type(self).__name__+ '.update()', end=' ')\n",
    "    \n",
    "    def update(self,param):\n",
    "        print(type(self).__name__+ '.update(param)', end='')\n",
    "\n",
    "h=Ham()\n",
    "\n"
   ]
  },
  {
   "cell_type": "code",
   "execution_count": 191,
   "id": "5235a1b9",
   "metadata": {},
   "outputs": [
    {
     "ename": "AttributeError",
     "evalue": "module 'calendar' has no attribute 'year'",
     "output_type": "error",
     "traceback": [
      "\u001b[31m---------------------------------------------------------------------------\u001b[39m",
      "\u001b[31mAttributeError\u001b[39m                            Traceback (most recent call last)",
      "\u001b[36mCell\u001b[39m\u001b[36m \u001b[39m\u001b[32mIn[191]\u001b[39m\u001b[32m, line 3\u001b[39m\n\u001b[32m      1\u001b[39m \u001b[38;5;28;01mimport\u001b[39;00m\u001b[38;5;250m \u001b[39m\u001b[34;01mcalendar\u001b[39;00m\n\u001b[32m      2\u001b[39m \u001b[38;5;66;03m#print(calendar.calendar(2025))\u001b[39;00m\n\u001b[32m----> \u001b[39m\u001b[32m3\u001b[39m \u001b[38;5;28mprint\u001b[39m(\u001b[43mcalendar\u001b[49m\u001b[43m.\u001b[49m\u001b[43myear\u001b[49m())\n",
      "\u001b[36mFile \u001b[39m\u001b[32mc:\\Users\\mario\\AppData\\Local\\Programs\\Python\\Python313\\Lib\\calendar.py:56\u001b[39m, in \u001b[36m__getattr__\u001b[39m\u001b[34m(name)\u001b[39m\n\u001b[32m     53\u001b[39m     \u001b[38;5;28;01melse\u001b[39;00m:\n\u001b[32m     54\u001b[39m         \u001b[38;5;28;01mreturn\u001b[39;00m \u001b[32m2\u001b[39m\n\u001b[32m---> \u001b[39m\u001b[32m56\u001b[39m \u001b[38;5;28;01mraise\u001b[39;00m \u001b[38;5;167;01mAttributeError\u001b[39;00m(\u001b[33mf\u001b[39m\u001b[33m\"\u001b[39m\u001b[33mmodule \u001b[39m\u001b[33m'\u001b[39m\u001b[38;5;132;01m{\u001b[39;00m\u001b[34m__name__\u001b[39m\u001b[38;5;132;01m}\u001b[39;00m\u001b[33m'\u001b[39m\u001b[33m has no attribute \u001b[39m\u001b[33m'\u001b[39m\u001b[38;5;132;01m{\u001b[39;00mname\u001b[38;5;132;01m}\u001b[39;00m\u001b[33m'\u001b[39m\u001b[33m\"\u001b[39m)\n",
      "\u001b[31mAttributeError\u001b[39m: module 'calendar' has no attribute 'year'"
     ]
    }
   ],
   "source": [
    "import calendar\n",
    "#print(calendar.calendar(2025))\n",
    "print(calendar.year())"
   ]
  },
  {
   "cell_type": "code",
   "execution_count": 195,
   "id": "8d73859f",
   "metadata": {},
   "outputs": [
    {
     "name": "stdout",
     "output_type": "stream",
     "text": [
      "3 [[], [0], [0, 1]]\n"
     ]
    }
   ],
   "source": [
    "lista = [[c for c in range(r)] for r in range(3)]\n",
    "l = len(lista)\n",
    "\n",
    "print(l, lista)\n"
   ]
  },
  {
   "cell_type": "code",
   "execution_count": 201,
   "id": "7b2b46bd",
   "metadata": {},
   "outputs": [
    {
     "name": "stdout",
     "output_type": "stream",
     "text": [
      "[0, 1, 2, 3, 4]\n",
      "[1, 2, 3, 4]\n",
      "<class 'map'> <map object at 0x000001B7EC488190>\n"
     ]
    }
   ],
   "source": [
    "list_1 = [x for x in range(5)]\n",
    "#list_2=list(map(lambda x: x*2, list_1))\n",
    "list_2=list(filter(lambda x: x*2, list_1))\n",
    "h = (map(lambda x: x*2, list_1))\n",
    "print(list_1)\n",
    "print(list_2)   \n",
    "print(type(h), h)"
   ]
  },
  {
   "cell_type": "code",
   "execution_count": null,
   "id": "3581b1c8",
   "metadata": {},
   "outputs": [
    {
     "name": "stdout",
     "output_type": "stream",
     "text": [
      "Timestamp: 1757813863.8475246\n"
     ]
    },
    {
     "ename": "AttributeError",
     "evalue": "type object 'datetime.date' has no attribute 'datefromtimestamp'",
     "output_type": "error",
     "traceback": [
      "\u001b[31m---------------------------------------------------------------------------\u001b[39m",
      "\u001b[31mAttributeError\u001b[39m                            Traceback (most recent call last)",
      "\u001b[36mCell\u001b[39m\u001b[36m \u001b[39m\u001b[32mIn[203]\u001b[39m\u001b[32m, line 6\u001b[39m\n\u001b[32m      4\u001b[39m \u001b[38;5;28mprint\u001b[39m(\u001b[33m\"\u001b[39m\u001b[33mTimestamp:\u001b[39m\u001b[33m\"\u001b[39m, timestamp)\n\u001b[32m      5\u001b[39m \u001b[38;5;66;03m#d = date.fromtimestamp(timestamp)\u001b[39;00m\n\u001b[32m----> \u001b[39m\u001b[32m6\u001b[39m d = \u001b[43mdate\u001b[49m\u001b[43m.\u001b[49m\u001b[43mdatefromtimestamp\u001b[49m(timestamp)\n\u001b[32m      7\u001b[39m \u001b[38;5;28mprint\u001b[39m(\u001b[33m\"\u001b[39m\u001b[33mDate:\u001b[39m\u001b[33m\"\u001b[39m,d)\n",
      "\u001b[31mAttributeError\u001b[39m: type object 'datetime.date' has no attribute 'datefromtimestamp'"
     ]
    }
   ],
   "source": [
    "import time\n",
    "from datetime import date \n",
    "timestamp = time.time()\n",
    "print(\"Timestamp:\", timestamp)\n",
    "d = date.fromtimestamp(timestamp)\n",
    "print(\"Date:\",d)"
   ]
  },
  {
   "cell_type": "code",
   "execution_count": 205,
   "id": "c5fb035b",
   "metadata": {},
   "outputs": [
    {
     "name": "stdout",
     "output_type": "stream",
     "text": [
      "Data: 2025-09-14\n",
      "weekday() -> dia da semana (0=Segunda, 6=Domingo): 6\n",
      "isoweekday() -> dia da semana (1=Segunda, 7=Domingo): 7\n",
      "Data em formato ISO: 2025-09-14\n",
      "\n",
      "Nova data a partir de string ISO: 2025-12-25\n",
      "weekday(): 3\n",
      "isoweekday(): 4\n",
      "isoformat(): 2025-12-25\n"
     ]
    }
   ],
   "source": [
    "from datetime import date\n",
    "\n",
    "# --- Criar um objeto date manualmente ---\n",
    "#d1 = date(2025, 9, 14)  # 14 de setembro de 2025\n",
    "data_atual = d1= date.today()\n",
    "# Mostrar informações usando weekday() e isoweekday()\n",
    "print(\"Data:\", d1)\n",
    "print(\"weekday() -> dia da semana (0=Segunda, 6=Domingo):\", d1.weekday())\n",
    "print(\"isoweekday() -> dia da semana (1=Segunda, 7=Domingo):\", d1.isoweekday())\n",
    "\n",
    "# Mostrar data em formato ISO\n",
    "iso_str = d1.isoformat()\n",
    "print(\"Data em formato ISO:\", iso_str)\n",
    "\n",
    "# --- Criar um objeto date a partir de uma string ISO ---\n",
    "d2 = date.fromisoformat(\"2025-12-25\")  # 25 de dezembro de 2025\n",
    "print(\"\\nNova data a partir de string ISO:\", d2)\n",
    "print(\"weekday():\", d2.weekday())\n",
    "print(\"isoweekday():\", d2.isoweekday())\n",
    "print(\"isoformat():\", d2.isoformat())\n"
   ]
  },
  {
   "cell_type": "code",
   "execution_count": 207,
   "id": "60716d68",
   "metadata": {},
   "outputs": [
    {
     "name": "stdout",
     "output_type": "stream",
     "text": [
      "['a', 'b', 'c']\n",
      "['a', 'b', 'c']\n",
      "[('a', 1), ('b', 2), ('c', 3)]\n"
     ]
    }
   ],
   "source": [
    "d = {\"c\": 3, \"a\": 1, \"b\": 2}\n",
    "print(sorted(d))             # ['a', 'b', 'c']\n",
    "print(sorted(d.keys()))      # ['a', 'b', 'c']\n",
    "print(sorted(d.items())) "
   ]
  },
  {
   "cell_type": "code",
   "execution_count": null,
   "id": "a0d64365",
   "metadata": {},
   "outputs": [],
   "source": [
    "try:\n",
    "    int(\"abc\")\n",
    "except ValueError as e:\n",
    "    raise RuntimeError(\"Erro ao converter número\") from e\n"
   ]
  },
  {
   "cell_type": "code",
   "execution_count": 220,
   "id": "f2554fc6",
   "metadata": {},
   "outputs": [
    {
     "name": "stdout",
     "output_type": "stream",
     "text": [
      "[1, 3, 9]\n"
     ]
    }
   ],
   "source": [
    "def powers_of_3(n):\n",
    "    power = 1\n",
    "    for x in range(n):\n",
    "        yield power\n",
    "        power *= 3\n",
    "        \n",
    "#t = list(powers_of_3(3))\n",
    "\n",
    "print(list(powers_of_3(3)))"
   ]
  },
  {
   "cell_type": "code",
   "execution_count": 221,
   "id": "291a90f3",
   "metadata": {},
   "outputs": [
    {
     "name": "stdout",
     "output_type": "stream",
     "text": [
      "nt\n"
     ]
    }
   ],
   "source": [
    "import os\n",
    "print(os.name)"
   ]
  },
  {
   "cell_type": "code",
   "execution_count": 224,
   "id": "f55b8f52",
   "metadata": {},
   "outputs": [
    {
     "name": "stdout",
     "output_type": "stream",
     "text": [
      "67\n"
     ]
    }
   ],
   "source": [
    "lfunc=lambda x,f: 2 + f(x)\n",
    "print(lfunc(2,lambda x:x*x),end='')\n",
    "print(lfunc(2,lambda x:x+3))\n"
   ]
  },
  {
   "cell_type": "code",
   "execution_count": 227,
   "id": "79b67ca5",
   "metadata": {},
   "outputs": [
    {
     "name": "stdout",
     "output_type": "stream",
     "text": [
      "[0, 1, 4, 9, 16, 25]\n"
     ]
    }
   ],
   "source": [
    "ml=[x*x for x in range(6)]\n",
    "print(ml)"
   ]
  }
 ],
 "metadata": {
  "kernelspec": {
   "display_name": "Python 3",
   "language": "python",
   "name": "python3"
  },
  "language_info": {
   "codemirror_mode": {
    "name": "ipython",
    "version": 3
   },
   "file_extension": ".py",
   "mimetype": "text/x-python",
   "name": "python",
   "nbconvert_exporter": "python",
   "pygments_lexer": "ipython3",
   "version": "3.13.6"
  }
 },
 "nbformat": 4,
 "nbformat_minor": 5
}
