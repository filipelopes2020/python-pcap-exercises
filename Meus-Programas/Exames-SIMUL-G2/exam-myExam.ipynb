{
 "cells": [
  {
   "cell_type": "code",
   "execution_count": 5,
   "id": "022c2ada",
   "metadata": {},
   "outputs": [
    {
     "name": "stdout",
     "output_type": "stream",
     "text": [
      "AMD64\n",
      "Intel64 Family 6 Model 158 Stepping 10, GenuineIntel\n"
     ]
    }
   ],
   "source": [
    "import platform\n",
    "print(platform.machine())\n",
    "\n",
    "print(platform.processor())"
   ]
  },
  {
   "cell_type": "code",
   "execution_count": 7,
   "id": "c217ba6c",
   "metadata": {},
   "outputs": [
    {
     "ename": "RuntimeError",
     "evalue": "",
     "output_type": "error",
     "traceback": [
      "\u001b[31m---------------------------------------------------------------------------\u001b[39m",
      "\u001b[31mRuntimeError\u001b[39m                              Traceback (most recent call last)",
      "\u001b[36mCell\u001b[39m\u001b[36m \u001b[39m\u001b[32mIn[7]\u001b[39m\u001b[32m, line 4\u001b[39m\n\u001b[32m      2\u001b[39m     \u001b[38;5;28;01mraise\u001b[39;00m \u001b[38;5;167;01mIOError\u001b[39;00m \n\u001b[32m      3\u001b[39m \u001b[38;5;28;01mexcept\u001b[39;00m \u001b[38;5;167;01mIOError\u001b[39;00m:\n\u001b[32m----> \u001b[39m\u001b[32m4\u001b[39m     \u001b[38;5;28;01mraise\u001b[39;00m \u001b[38;5;167;01mRuntimeError\u001b[39;00m \u001b[38;5;28;01mfrom\u001b[39;00m\u001b[38;5;250m \u001b[39m\u001b[38;5;28;01mNone\u001b[39;00m\n",
      "\u001b[31mRuntimeError\u001b[39m: "
     ]
    }
   ],
   "source": [
    "try:\n",
    "    raise IOError \n",
    "except IOError:\n",
    "    raise RuntimeError from None"
   ]
  },
  {
   "cell_type": "code",
   "execution_count": 25,
   "id": "dd444014",
   "metadata": {},
   "outputs": [
    {
     "name": "stdout",
     "output_type": "stream",
     "text": [
      "[ www.pyth\n",
      ".python.com\n"
     ]
    }
   ],
   "source": [
    "print(\"[ www.python.com\".rstrip(\"n.com\"))\n",
    "print(\" www.python.com\".strip().lstrip(\"www\"))\n"
   ]
  },
  {
   "cell_type": "code",
   "execution_count": 33,
   "id": "11c18f89",
   "metadata": {},
   "outputs": [
    {
     "name": "stdout",
     "output_type": "stream",
     "text": [
      "['spam'] 3 ['ham'] 20 30\n"
     ]
    }
   ],
   "source": [
    "class MyList:\n",
    "    l=1\n",
    "    def __init__(self): \n",
    "        self.lst=[]\n",
    "    def add(self, p):\n",
    "        self.lst.append(p)\n",
    "        \n",
    "d,e=MyList(),MyList()\n",
    "d.add('spam')\n",
    "e.add('ham')\n",
    "e.l=20 # sombreia a variavel de classe\n",
    "e.ll=30\n",
    "MyList.l=3\n",
    "print(d.lst, d.l, e.lst, e.l,e.ll)\n",
    "    "
   ]
  },
  {
   "cell_type": "code",
   "execution_count": 40,
   "id": "e29c5aee",
   "metadata": {},
   "outputs": [
    {
     "name": "stdout",
     "output_type": "stream",
     "text": [
      "1 2\n"
     ]
    }
   ],
   "source": [
    "class Shape:\n",
    "    def __init__(self):\n",
    "       self.v1=1\n",
    "    \n",
    "class Square(Shape):\n",
    "    def __init__(self):\n",
    "       # super().__init__()\n",
    "       Shape.__init__(self)\n",
    "       self.v2=2\n",
    "s=Square()\n",
    "print(s.v1,s.v2)"
   ]
  }
 ],
 "metadata": {
  "kernelspec": {
   "display_name": "Python 3",
   "language": "python",
   "name": "python3"
  },
  "language_info": {
   "codemirror_mode": {
    "name": "ipython",
    "version": 3
   },
   "file_extension": ".py",
   "mimetype": "text/x-python",
   "name": "python",
   "nbconvert_exporter": "python",
   "pygments_lexer": "ipython3",
   "version": "3.13.6"
  }
 },
 "nbformat": 4,
 "nbformat_minor": 5
}
