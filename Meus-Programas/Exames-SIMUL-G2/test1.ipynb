{
 "cells": [
  {
   "cell_type": "code",
   "execution_count": null,
   "id": "62757ddf",
   "metadata": {},
   "outputs": [
    {
     "name": "stdout",
     "output_type": "stream",
     "text": [
      "10 100\n"
     ]
    }
   ],
   "source": [
    "class A:\n",
    "    def __init__(self, var):\n",
    "        self.var = var\n",
    "        \n",
    "class B(A):\n",
    "    def __init__(self, var):\n",
    "        super().__init__(var=11)\n",
    "        self.var = var\n",
    "        \n",
    "    \n",
    "    \n",
    "a = A(10)\n",
    "b = B(100)\n",
    "print(a.var, b.var)"
   ]
  },
  {
   "cell_type": "code",
   "execution_count": 13,
   "id": "0ff1aa41",
   "metadata": {},
   "outputs": [],
   "source": [
    "file = open('xyz.txt', 'w')\n",
    "a = [1,2,3,4,5]\n",
    "for i in a:\n",
    "    file.write(str(i))"
   ]
  },
  {
   "cell_type": "code",
   "execution_count": null,
   "id": "7e62e72e",
   "metadata": {},
   "outputs": [
    {
     "name": "stdout",
     "output_type": "stream",
     "text": [
      "A\n",
      "('teste',)\n"
     ]
    }
   ],
   "source": [
    "class MyException(Exception):\n",
    "    def __init__(self, message):\n",
    "        #super().__init__(message)\n",
    "        #print(\"Hello\", end=\" \")\n",
    "        pass\n",
    "    \n",
    "    def __str__(self):\n",
    "        return \"A\"\n",
    "    \n",
    "try:\n",
    "    raise MyException (\"teste\")\n",
    "except Exception as e:\n",
    "    print(e)\n",
    "    print(e.args)"
   ]
  },
  {
   "cell_type": "code",
   "execution_count": 31,
   "id": "6f875581",
   "metadata": {},
   "outputs": [
    {
     "name": "stdout",
     "output_type": "stream",
     "text": [
      "Área total: 114.5\n"
     ]
    }
   ],
   "source": [
    "class Circulo:\n",
    "    def __init__(self, raio):\n",
    "        self.raio = raio\n",
    "    \n",
    "    def area(self):\n",
    "        return 3.14 * self.raio ** 2\n",
    "\n",
    "class Retangulo:\n",
    "    def __init__(self, largura, altura):\n",
    "        self.largura = largura\n",
    "        self.altura = altura\n",
    "    \n",
    "    def area(self):\n",
    "        return self.largura * self.altura\n",
    "\n",
    "class Triangulo:\n",
    "    def __init__(self, base, altura):\n",
    "        self.base = base\n",
    "        self.altura = altura\n",
    "    \n",
    "    def area(self):\n",
    "        return (self.base * self.altura) / 2\n",
    "\n",
    "# Função polimórfica\n",
    "def calcular_area_total(formas):\n",
    "    return sum(forma.area() for forma in formas)\n",
    "\n",
    "# Uso\n",
    "formas = [Circulo(5), Retangulo(4, 6), Triangulo(3, 8)]\n",
    "area_total = calcular_area_total(formas)\n",
    "print(f\"Área total: {area_total}\")"
   ]
  },
  {
   "cell_type": "code",
   "execution_count": null,
   "id": "faac4ae6",
   "metadata": {},
   "outputs": [
    {
     "name": "stdout",
     "output_type": "stream",
     "text": [
      "fed\n"
     ]
    }
   ],
   "source": [
    "a = \"abcdef\"\n",
    "b = a[-1:-4:-1]\n",
    "print(b)"
   ]
  },
  {
   "cell_type": "code",
   "execution_count": null,
   "id": "c31ca6cf",
   "metadata": {},
   "outputs": [
    {
     "name": "stdout",
     "output_type": "stream",
     "text": [
      "12\n"
     ]
    }
   ],
   "source": [
    "a = \"pato que come larvas\"\n",
    "print(a.rfind('e',0,-3))"
   ]
  },
  {
   "cell_type": "code",
   "execution_count": 43,
   "id": "73fdbe45",
   "metadata": {},
   "outputs": [
    {
     "name": "stdout",
     "output_type": "stream",
     "text": [
      "[2, 3]\n"
     ]
    }
   ],
   "source": [
    "import random as r\n",
    "print(r.sample([2,3], 2))"
   ]
  },
  {
   "cell_type": "code",
   "execution_count": 47,
   "id": "fb11ef52",
   "metadata": {},
   "outputs": [
    {
     "ename": "TypeError",
     "evalue": "A.func() takes 0 positional arguments but 1 was given",
     "output_type": "error",
     "traceback": [
      "\u001b[31m---------------------------------------------------------------------------\u001b[39m",
      "\u001b[31mTypeError\u001b[39m                                 Traceback (most recent call last)",
      "\u001b[36mCell\u001b[39m\u001b[36m \u001b[39m\u001b[32mIn[47]\u001b[39m\u001b[32m, line 6\u001b[39m\n\u001b[32m      3\u001b[39m         \u001b[38;5;28mprint\u001b[39m(\u001b[33m\"\u001b[39m\u001b[33mHello!\u001b[39m\u001b[33m\"\u001b[39m)\n\u001b[32m      5\u001b[39m a = A()\n\u001b[32m----> \u001b[39m\u001b[32m6\u001b[39m \u001b[43ma\u001b[49m\u001b[43m.\u001b[49m\u001b[43mfunc\u001b[49m\u001b[43m(\u001b[49m\u001b[43m)\u001b[49m\n",
      "\u001b[31mTypeError\u001b[39m: A.func() takes 0 positional arguments but 1 was given"
     ]
    }
   ],
   "source": [
    "class A:\n",
    "    def func():\n",
    "        print(\"Hello!\")\n",
    "    \n",
    "a = A()\n",
    "a.func()"
   ]
  },
  {
   "cell_type": "code",
   "execution_count": 56,
   "id": "7d7c8c53",
   "metadata": {},
   "outputs": [
    {
     "name": "stdout",
     "output_type": "stream",
     "text": [
      "15\n",
      "100\n",
      "{'_A__var': 15, '__var': 100}\n",
      "15\n"
     ]
    }
   ],
   "source": [
    "class A:\n",
    "    def __init__(self, t=10):\n",
    "        self.__var = t     # Esta vira self._A__var (privada)\n",
    "     \n",
    "    def get_var(self):\n",
    "        return self.__var   # Retorna self._A__var\n",
    "     \n",
    "a = A(15)\n",
    "a.__var = 100              # Esta cria um NOVO atributo público chamado __var\n",
    "\n",
    "print(a.get_var())         # Output: 10 (acessa a variável privada _A__var)\n",
    "print(a.__var)             # Output: 100 (acessa a nova variável pública __var)\n",
    "print(a.__dict__)\n",
    "print(a._A__var)"
   ]
  },
  {
   "cell_type": "code",
   "execution_count": 64,
   "id": "b43a0035",
   "metadata": {},
   "outputs": [
    {
     "ename": "TypeError",
     "evalue": "Cannot create a consistent method resolution order (MRO) for bases A, B",
     "output_type": "error",
     "traceback": [
      "\u001b[31m---------------------------------------------------------------------------\u001b[39m",
      "\u001b[31mTypeError\u001b[39m                                 Traceback (most recent call last)",
      "\u001b[36mCell\u001b[39m\u001b[36m \u001b[39m\u001b[32mIn[64]\u001b[39m\u001b[32m, line 12\u001b[39m\n\u001b[32m      8\u001b[39m     \u001b[38;5;28;01mpass\u001b[39;00m\n\u001b[32m      9\u001b[39m \u001b[38;5;66;03m#class a4(B, C):\u001b[39;00m\n\u001b[32m     10\u001b[39m \u001b[38;5;66;03m#    pass\u001b[39;00m\n\u001b[32m---> \u001b[39m\u001b[32m12\u001b[39m \u001b[38;5;28;43;01mclass\u001b[39;49;00m\u001b[38;5;250;43m \u001b[39;49m\u001b[34;43;01ma3\u001b[39;49;00m\u001b[43m(\u001b[49m\u001b[43mA\u001b[49m\u001b[43m,\u001b[49m\u001b[43mB\u001b[49m\u001b[43m)\u001b[49m\u001b[43m:\u001b[49m\n\u001b[32m     13\u001b[39m \u001b[43m    \u001b[49m\u001b[38;5;28;43;01mpass\u001b[39;49;00m\n",
      "\u001b[31mTypeError\u001b[39m: Cannot create a consistent method resolution order (MRO) for bases A, B"
     ]
    }
   ],
   "source": [
    "class A:\n",
    "    pass\n",
    "class B(A):\n",
    "    pass\n",
    "class C(B):\n",
    "    pass\n",
    "class D(A):\n",
    "    pass\n",
    "#class a4(B, C):\n",
    "#    pass\n",
    "\n",
    "class a3(A,B):\n",
    "    pass"
   ]
  },
  {
   "cell_type": "code",
   "execution_count": 66,
   "id": "b98dbae0",
   "metadata": {},
   "outputs": [
    {
     "name": "stdout",
     "output_type": "stream",
     "text": [
      "29\n"
     ]
    }
   ],
   "source": [
    "    def A(a):\n",
    "        b = a**3\n",
    "        def B():\n",
    "            return b+2\n",
    "        return B\n",
    "     \n",
    "    x = A(3)\n",
    "    print(x())"
   ]
  },
  {
   "cell_type": "code",
   "execution_count": 67,
   "id": "79faf90b",
   "metadata": {},
   "outputs": [
    {
     "name": "stdout",
     "output_type": "stream",
     "text": [
      "0.8444218515250481\n",
      "0.7579544029403025\n",
      "0.420571580830845\n"
     ]
    }
   ],
   "source": [
    "import random as r\n",
    "r.seed(0)\n",
    "for i in range(3):\n",
    "    print(r.random())"
   ]
  },
  {
   "cell_type": "code",
   "execution_count": 70,
   "id": "1c96e910",
   "metadata": {},
   "outputs": [
    {
     "name": "stdout",
     "output_type": "stream",
     "text": [
      "0.8444218515250481\n",
      "0.7579544029403025\n",
      "F\n"
     ]
    }
   ],
   "source": [
    "import random as r\n",
    "r.seed(0)\n",
    "print(r.random())\n",
    "print(r.random())\n",
    "\n",
    "print(chr(70))"
   ]
  },
  {
   "cell_type": "code",
   "execution_count": 95,
   "id": "3fa05946",
   "metadata": {},
   "outputs": [
    {
     "name": "stdout",
     "output_type": "stream",
     "text": [
      "True\n",
      "{'__module__': '__main__', '__firstlineno__': 1, '__static_attributes__': (), '__dict__': <attribute '__dict__' of 'Z' objects>, '__weakref__': <attribute '__weakref__' of 'Z' objects>, '__doc__': None}\n",
      "{'k': 10}\n"
     ]
    }
   ],
   "source": [
    "class Z:\n",
    "    pass\n",
    "class A:\n",
    "    pass\n",
    "class B(Z):\n",
    "    pass\n",
    "class C(B):\n",
    "    def __init__(self):\n",
    "        self.k=10\n",
    "        super().__init__()\n",
    "        \n",
    "    \n",
    "    \n",
    "c = C()\n",
    "print(isinstance(c, (Z,A)))\n",
    "print(Z.__dict__)\n",
    "print(c.__dict__)"
   ]
  },
  {
   "cell_type": "code",
   "execution_count": 88,
   "id": "c853133d",
   "metadata": {},
   "outputs": [
    {
     "name": "stdout",
     "output_type": "stream",
     "text": [
      "['GHI']\n",
      "['Abc', 'Ghi']\n"
     ]
    }
   ],
   "source": [
    "a = ['aBc', 'def', 'GHI']\n",
    "print(list(filter(lambda y: y[2].isupper(), a)))\n",
    "b = list(map(lambda x: x.capitalize(), filter(lambda y: y[1].isupper(), a)))\n",
    "print(b)"
   ]
  },
  {
   "cell_type": "code",
   "execution_count": 109,
   "id": "9a0aca96",
   "metadata": {},
   "outputs": [
    {
     "name": "stdout",
     "output_type": "stream",
     "text": [
      "Windows-11-10.0.26100-SP0\n",
      "Windows\n",
      "AMD64\n",
      "SkySpeed\n",
      "11\n",
      "Intel64 Family 6 Model 158 Stepping 10, GenuineIntel\n",
      "10.0.26100\n",
      "['AndroidVer', 'IOSVersionInfo', '_Processor', '_WIN32_CLIENT_RELEASES', '_WIN32_SERVER_RELEASES', '__builtins__', '__cached__', '__copyright__', '__doc__', '__file__', '__loader__', '__name__', '__package__', '__spec__', '__version__', '_comparable_version', '_default_architecture', '_follow_symlinks', '_get_machine_win32', '_java_getprop', '_mac_ver_xml', '_node', '_norm_version', '_os_release_cache', '_os_release_candidates', '_parse_os_release', '_platform', '_platform_cache', '_sys_version', '_sys_version_cache', '_syscmd_file', '_syscmd_ver', '_uname_cache', '_unknown_as_blank', '_ver_stages', '_win32_ver', '_wmi', '_wmi_query', 'android_ver', 'architecture', 'collections', 'freedesktop_os_release', 'functools', 'ios_ver', 'itertools', 'java_ver', 'libc_ver', 'mac_ver', 'machine', 'node', 'os', 'platform', 'processor', 'python_branch', 'python_build', 'python_compiler', 'python_implementation', 'python_revision', 'python_version', 'python_version_tuple', 're', 'release', 'sys', 'system', 'system_alias', 'uname', 'uname_result', 'version', 'win32_edition', 'win32_is_iot', 'win32_ver']\n"
     ]
    }
   ],
   "source": [
    "import platform as p\n",
    "import os\n",
    "\n",
    "print(p.platform())\n",
    "print(p.system())\n",
    "print(p.machine())\n",
    "print(p.node())\n",
    "print(p.release())\n",
    "print(p.processor())\n",
    "print(p.version())\n",
    "print(dir(p))\n"
   ]
  },
  {
   "cell_type": "code",
   "execution_count": 116,
   "id": "19e243fa",
   "metadata": {},
   "outputs": [
    {
     "name": "stdout",
     "output_type": "stream",
     "text": [
      "[[0], [0, 1], [0, 1, 2], [0, 1, 2, 3]]\n",
      "3\n"
     ]
    }
   ],
   "source": [
    "a = [1,2,3,4]\n",
    "b = [[j for j in range(i)] for i in a]\n",
    "print(b)\n",
    "print(b[3][3])"
   ]
  },
  {
   "cell_type": "code",
   "execution_count": 118,
   "id": "448d742c",
   "metadata": {},
   "outputs": [
    {
     "name": "stdout",
     "output_type": "stream",
     "text": [
      "My secret number is 100\n"
     ]
    }
   ],
   "source": [
    "class A:\n",
    "    def __init__(self):\n",
    "        self.a = 1\n",
    "    def __str__(self):\n",
    "        return f\"My secret number is {self.a}\"\n",
    "    \n",
    "class B(A):\n",
    "    def __init__(self):\n",
    "        self.a = 10\n",
    "    \n",
    "class C(B):\n",
    "    def __init__(self):        \n",
    "        self.a = 100\n",
    "        #super().__init__()\n",
    "    \n",
    "c = C()\n",
    "print(c)"
   ]
  },
  {
   "cell_type": "code",
   "execution_count": 124,
   "id": "134349d5",
   "metadata": {},
   "outputs": [
    {
     "name": "stdout",
     "output_type": "stream",
     "text": [
      "100 100 10 100\n",
      "{'x': 10}\n",
      "{'x': 100}\n"
     ]
    }
   ],
   "source": [
    "class A:\n",
    "    def __init__(self, var):        \n",
    "        A.var = var\n",
    "        self.x = var\n",
    "    \n",
    "a = A(10)\n",
    "b = A(100)\n",
    "print(a.var, b.var,a.x,b.x)\n",
    "print(a.__dict__)\n",
    "print(b.__dict__)"
   ]
  },
  {
   "cell_type": "code",
   "execution_count": 125,
   "id": "02048678",
   "metadata": {},
   "outputs": [
    {
     "name": "stdout",
     "output_type": "stream",
     "text": [
      "True False\n",
      "True False\n",
      "1827896208080 1827896209712\n",
      "1827898248432 1827898250672\n"
     ]
    }
   ],
   "source": [
    "a = 10000; b = 10000\n",
    "\t\n",
    "c = \"Python is not a snake\"\n",
    "d = \"Python is not a snake\"\n",
    "\t\n",
    "print(a == b, a is b)\n",
    "print(c == d, c is d)\n",
    " \n",
    "print(id(a),id(b))\n",
    "print(id(c),id(d))"
   ]
  },
  {
   "cell_type": "code",
   "execution_count": 140,
   "id": "7e28be62",
   "metadata": {},
   "outputs": [
    {
     "name": "stdout",
     "output_type": "stream",
     "text": [
      "Hello father ('A', 'B', 'C')\n",
      "Bye\n"
     ]
    }
   ],
   "source": [
    "class MyException(Exception):\n",
    "    pass\n",
    "    \n",
    "try:\n",
    "    raise MyException(\"A\", \"B\",\"C\")\n",
    "except Exception as e:\n",
    "    print(\"Hello father\", end=\" \")\n",
    "    print(e.args)\n",
    "except MyException as e:\n",
    "    print(\"Hello son\", end=\" \")\n",
    "    print(e.args)\n",
    "finally:\n",
    "    print(\"Bye\")"
   ]
  },
  {
   "cell_type": "code",
   "execution_count": 158,
   "id": "cc61c4ec",
   "metadata": {},
   "outputs": [
    {
     "name": "stdout",
     "output_type": "stream",
     "text": [
      "True\n",
      "True\n",
      "False\n",
      "True\n",
      "True\n",
      "True\n",
      "False\n"
     ]
    }
   ],
   "source": [
    "class A:\n",
    "    var = 1\n",
    "    def __init__(self):\n",
    "        self.x = 1\n",
    "    def get_var():\n",
    "        return A.var\n",
    "    \n",
    "class B(A):\n",
    "    new_var = 1\n",
    "    def __init__(self):\n",
    "        super().__init__()\n",
    "    \n",
    "b = B()\n",
    "\n",
    "print(hasattr(b, 'get_var'))\n",
    "print(hasattr(b, 'var'))\n",
    "print(hasattr(A, 'new_var'))\n",
    "print(hasattr(B, 'new_var'))\n",
    "print(hasattr(A, '__init__'))\n",
    "print(hasattr(B, '__init__'))\n",
    "print(hasattr(B, 'b'))"
   ]
  },
  {
   "cell_type": "code",
   "execution_count": 189,
   "id": "a6ce63a4",
   "metadata": {},
   "outputs": [
    {
     "name": "stdout",
     "output_type": "stream",
     "text": [
      "1\n",
      "19\n",
      "21\n",
      "20\n",
      "inst a:  {'x': 5, '_A__y': 21}\n",
      "inst b:  {'x': 5, '_A__y': 20}\n",
      "{'__module__': '__main__', '__firstlineno__': 1, '_A__Var': 1, '_A__y': 19, '__init__': <function A.__init__ at 0x000001A9974116C0>, 'get_var': <function A.get_var at 0x000001A997410040>, '__static_attributes__': ('__y', 'x'), '__dict__': <attribute '__dict__' of 'A' objects>, '__weakref__': <attribute '__weakref__' of 'A' objects>, '__doc__': None}\n"
     ]
    }
   ],
   "source": [
    "class A:\n",
    "    __Var = 100\n",
    "    __y=19\n",
    "    def __init__(self):\n",
    "        self.x=5\n",
    "        self.__y=20\n",
    "    def get_var(self):\n",
    "        return A.__Var\n",
    "    \n",
    "a = A()\n",
    "A._A__Var = 1\n",
    "a._A__y=21\n",
    "\n",
    "b = A()\n",
    "print(b.get_var())\n",
    "print(getattr(A, '_A__y', \"não encontrado\")) \n",
    "print(getattr(a, '_A__y', \"não encontrado\")) \n",
    "print(getattr(b, '_A__y', \"não encontrado\")) \n",
    "#print(a._A__Var,b._A__Var,a.x,b.x, a._A__y)\n",
    "#print(a._A__y)\n",
    "print(\"inst a: \", a.__dict__)\n",
    "print(\"inst b: \", b.__dict__)\n",
    "print(A.__dict__)"
   ]
  },
  {
   "cell_type": "code",
   "execution_count": 192,
   "id": "4fe3cb4b",
   "metadata": {},
   "outputs": [
    {
     "name": "stdout",
     "output_type": "stream",
     "text": [
      "C bye\n"
     ]
    }
   ],
   "source": [
    "my_dict = {'a':1, 'b':2}\n",
    "try:\n",
    "    my_dict['c']\n",
    "except IndexError:\n",
    "    print('A', end=' ')\n",
    "except KeyError:\n",
    "    print(\"C\", end=' ')    \n",
    "except Exception:\n",
    "    print(\"B\", end=' ')\n",
    "finally:\n",
    "    print(\"bye\")"
   ]
  },
  {
   "cell_type": "code",
   "execution_count": 198,
   "id": "a757bdae",
   "metadata": {},
   "outputs": [
    {
     "name": "stdout",
     "output_type": "stream",
     "text": [
      "7.38905609893065\n",
      "1.3617278360175928\n"
     ]
    }
   ],
   "source": [
    "import math\n",
    "print(math.exp(2))\n",
    "print(math.log10(23))"
   ]
  },
  {
   "cell_type": "code",
   "execution_count": 202,
   "id": "d337c061",
   "metadata": {},
   "outputs": [
    {
     "name": "stdout",
     "output_type": "stream",
     "text": [
      "10\n"
     ]
    }
   ],
   "source": [
    "a = lambda x,y: x+y\n",
    "b = lambda x: x*2\n",
    "\n",
    "def func(a,b,c):\n",
    "    return a(b(c[0]),b(c[1]))\n",
    "\n",
    "print(func(a,b,[2,3]))\n"
   ]
  },
  {
   "cell_type": "code",
   "execution_count": 203,
   "id": "ad4afe43",
   "metadata": {},
   "outputs": [
    {
     "name": "stdout",
     "output_type": "stream",
     "text": [
      "True True False\n"
     ]
    }
   ],
   "source": [
    "class A:\n",
    "    pass\n",
    "class B(A):\n",
    "    pass\n",
    "    \n",
    "b1 = B()\n",
    "b2 = B()\n",
    "a1 = A()\n",
    "a2 = a1\n",
    "print(b2 is not b1, a2 is a1, a1 is b1, sep=' ')"
   ]
  },
  {
   "cell_type": "code",
   "execution_count": 5,
   "id": "1fc4c935",
   "metadata": {},
   "outputs": [
    {
     "name": "stdout",
     "output_type": "stream",
     "text": [
      "['D:\\\\OneDrive\\\\Documentos\\\\REPOS\\\\PYTHON\\\\Cursos_Python\\\\Meus-Programas\\\\packages\\\\PackP', 'd:\\\\OneDrive\\\\Documentos\\\\REPOS\\\\PYTHON\\\\Cursos_Python\\\\Meus-Programas\\\\Novos-Exames\\\\%PYTHONPATH%', 'c:\\\\Users\\\\mario\\\\AppData\\\\Local\\\\Programs\\\\Python\\\\Python313\\\\python313.zip', 'c:\\\\Users\\\\mario\\\\AppData\\\\Local\\\\Programs\\\\Python\\\\Python313\\\\DLLs', 'c:\\\\Users\\\\mario\\\\AppData\\\\Local\\\\Programs\\\\Python\\\\Python313\\\\Lib', 'c:\\\\Users\\\\mario\\\\AppData\\\\Local\\\\Programs\\\\Python\\\\Python313', '', 'C:\\\\Users\\\\mario\\\\AppData\\\\Roaming\\\\Python\\\\Python313\\\\site-packages', 'C:\\\\Users\\\\mario\\\\AppData\\\\Roaming\\\\Python\\\\Python313\\\\site-packages\\\\win32', 'C:\\\\Users\\\\mario\\\\AppData\\\\Roaming\\\\Python\\\\Python313\\\\site-packages\\\\win32\\\\lib', 'C:\\\\Users\\\\mario\\\\AppData\\\\Roaming\\\\Python\\\\Python313\\\\site-packages\\\\Pythonwin', 'c:\\\\Users\\\\mario\\\\AppData\\\\Local\\\\Programs\\\\Python\\\\Python313\\\\Lib\\\\site-packages', 'D:\\\\OneDrive\\\\Documentos\\\\REPOS\\\\PYTHON\\\\Cursos_Python\\\\Meus-Programas\\\\packages']\n"
     ]
    }
   ],
   "source": [
    "import site, sys\n",
    "\n",
    "#print(site.getsitepackages())  # Diretórios globais da instalação Python\n",
    "#print(site.getusersitepackages())  # Diretório do usuário\n",
    "\n",
    "print(sys.path)\n",
    "#print(\"D:\\OneDrive\\Documentos\\REPOS\\PYTHON\\Cursos_Python\\Meus-Programas\\packages\" in sys.path)"
   ]
  },
  {
   "cell_type": "code",
   "execution_count": 4,
   "id": "a2cf8b61",
   "metadata": {},
   "outputs": [
    {
     "name": "stdout",
     "output_type": "stream",
     "text": [
      "(<class '__main__.B'>, <class '__main__.A'>)\n",
      "B A "
     ]
    }
   ],
   "source": [
    "class A:\n",
    "    pass\n",
    " \n",
    "class B(A):\n",
    "    pass\n",
    " \n",
    "class C(B, A):\n",
    "    def __init__(self):\n",
    "        pass\n",
    "    def get_bases(self):\n",
    "        for c in C.__bases__:\n",
    "            print(c.__name__, end=\" \")\n",
    "\n",
    "print(C.__bases__)\n",
    "C().get_bases()\n",
    "\n",
    "#print(C.__name__)"
   ]
  },
  {
   "cell_type": "code",
   "execution_count": 15,
   "id": "9b040440",
   "metadata": {},
   "outputs": [
    {
     "name": "stdout",
     "output_type": "stream",
     "text": [
      "From __Test\n",
      "<__main__.A object at 0x000002DA581D5D30> 1\n"
     ]
    }
   ],
   "source": [
    "class A:\n",
    "    def __init__(self):\n",
    "        self.x = 1\n",
    "    #def __str__(self):\n",
    "    #    return \"from str\"\n",
    "    def __Test(self):\n",
    "        print(\"From __Test\")\n",
    "    \n",
    "a=A()\n",
    "a._A__Test()\n",
    "print(a,a.x)"
   ]
  }
 ],
 "metadata": {
  "kernelspec": {
   "display_name": "Python 3",
   "language": "python",
   "name": "python3"
  },
  "language_info": {
   "codemirror_mode": {
    "name": "ipython",
    "version": 3
   },
   "file_extension": ".py",
   "mimetype": "text/x-python",
   "name": "python",
   "nbconvert_exporter": "python",
   "pygments_lexer": "ipython3",
   "version": "3.13.6"
  }
 },
 "nbformat": 4,
 "nbformat_minor": 5
}
