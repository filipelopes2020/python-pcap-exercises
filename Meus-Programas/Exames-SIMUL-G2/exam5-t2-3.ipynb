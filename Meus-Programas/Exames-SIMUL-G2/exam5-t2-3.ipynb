{
 "cells": [
  {
   "cell_type": "code",
   "execution_count": 25,
   "id": "32ec69f2",
   "metadata": {},
   "outputs": [
    {
     "name": "stdout",
     "output_type": "stream",
     "text": [
      "eh:  x cannot be zero\n",
      "args:  ('x cannot be zero',)\n"
     ]
    }
   ],
   "source": [
    "def foo(x):\n",
    "    assert x != 0, \"x cannot be zero\"\n",
    "    return 1/x\n",
    "    \n",
    "try:\n",
    "    print(foo(0))\n",
    "except ZeroDivisionError:\n",
    "    print(\"zero\")\n",
    "except AssertionError as e:\n",
    "    print(\"eh: \",e)\n",
    "    print(\"args: \", e.args) \n",
    "except:\n",
    "    print(\"some\")\n",
    "    \n",
    "    "
   ]
  },
  {
   "cell_type": "code",
   "execution_count": 27,
   "id": "004d34b8",
   "metadata": {},
   "outputs": [
    {
     "name": "stdout",
     "output_type": "stream",
     "text": [
      "3\n"
     ]
    }
   ],
   "source": [
    "st=\"\"\"\\\\\n",
    "\\\\\"\"\"\n",
    "\n",
    "print(len(st))"
   ]
  },
  {
   "cell_type": "code",
   "execution_count": 31,
   "id": "4348d666",
   "metadata": {},
   "outputs": [
    {
     "name": "stdout",
     "output_type": "stream",
     "text": [
      "la ed oãçamargorp ed megaugnil amu\n"
     ]
    }
   ],
   "source": [
    "st=\"O Python é uma linguagem de programação de alto nível.\"\n",
    "#del st[0]  # Isso causará um erro, pois strings são imutáveis\n",
    "print(st[-10:10:-1])\n"
   ]
  },
  {
   "cell_type": "code",
   "execution_count": 41,
   "id": "d06d306c",
   "metadata": {},
   "outputs": [
    {
     "name": "stdout",
     "output_type": "stream",
     "text": [
      "True\n"
     ]
    }
   ],
   "source": [
    "x = 1\n",
    "y = not 0\n",
    "print(x==y)\n"
   ]
  },
  {
   "cell_type": "code",
   "execution_count": 47,
   "id": "5f8c8f09",
   "metadata": {},
   "outputs": [
    {
     "name": "stdout",
     "output_type": "stream",
     "text": [
      "Ma\n",
      "['dog', 'cat', 'rat']\n",
      "['dog']\n"
     ]
    }
   ],
   "source": [
    "st = 'Mario'\n",
    "print(st[-10:2])\n",
    "\n",
    "s1 = \"dog cat rat\"\n",
    "s2 = s1.split()\n",
    "print(s2)\n",
    "print(s2[-4:1])\n"
   ]
  },
  {
   "cell_type": "code",
   "execution_count": null,
   "id": "aca7de4d",
   "metadata": {},
   "outputs": [],
   "source": [
    "class Python:\n",
    "    population = 1 \n",
    "    victims = 0\n",
    "    def __init__(self):\n",
    "        self.length_ft = 3\n",
    "        self.__venomous = False\n"
   ]
  },
  {
   "cell_type": "code",
   "execution_count": 58,
   "id": "c68c3cf8",
   "metadata": {},
   "outputs": [
    {
     "name": "stdout",
     "output_type": "stream",
     "text": [
      "{12: 'a', 15: 'b', 8: 'c', 6: 'd', 14: 'e'}\n",
      "0,1,2,3\n",
      "0\n",
      "1\n",
      "2\n",
      "3\n"
     ]
    }
   ],
   "source": [
    "def fun(n):\n",
    "    for i in range(n):\n",
    "        yield i\n",
    "p= {12: \"a\", 15: \"b\", 8: \"c\", 6: \"d\", 14: \"e\"}\n",
    "\n",
    "print(p, sep=\",\")\n",
    "#print(fun(4))\n",
    "print(*list(fun(4)), sep=\",\")\n",
    "\n",
    "for v in fun(4):\n",
    "    print(v, sep=\",\")"
   ]
  },
  {
   "cell_type": "code",
   "execution_count": 60,
   "id": "3a30f5c1",
   "metadata": {},
   "outputs": [
    {
     "name": "stdout",
     "output_type": "stream",
     "text": [
      "1\n",
      "1\n",
      "1 day, 0:00:01\n"
     ]
    }
   ],
   "source": [
    "from datetime import datetime\n",
    "\n",
    "dt1=datetime(2020,5,17,11,33,0)\n",
    "dt2=datetime(2020,5,18,11,33,1)\n",
    "\n",
    "print((dt2-dt1).seconds)\n",
    "print((dt2-dt1).days)   \n",
    "print(dt2-dt1)\n",
    "\n",
    "      "
   ]
  },
  {
   "cell_type": "code",
   "execution_count": 5,
   "id": "599adbff",
   "metadata": {},
   "outputs": [
    {
     "name": "stdout",
     "output_type": "stream",
     "text": [
      "Bytearray vazio: bytearray(b'')\n",
      "Bytearray com 5 zeros: bytearray(b'\\x00\\x00\\x00\\x00\\x00')\n",
      "De string UTF-8: bytearray(b'Ol\\xc3\\xa1 Mundo\\xf0\\x9f\\x98\\x8d')\n",
      "De lista: bytearray(b'ABCD')\n"
     ]
    }
   ],
   "source": [
    "# Criar bytearray vazio\n",
    "ba1 = bytearray()\n",
    "print(f\"Bytearray vazio: {ba1}\")\n",
    "\n",
    "# Criar bytearray com tamanho específico (preenchido com zeros)\n",
    "ba2 = bytearray(5)\n",
    "print(f\"Bytearray com 5 zeros: {ba2}\")\n",
    "\n",
    "# Criar a partir de string com encoding\n",
    "ba3 = bytearray(\"Olá Mundo😍\", 'utf-8')\n",
    "print(f\"De string UTF-8: {ba3}\")\n",
    "\n",
    "# Criar a partir de lista de inteiros\n",
    "ba4 = bytearray([65, 66, 67, 68])  # A, B, C, D em ASCII\n",
    "print(f\"De lista: {ba4}\")"
   ]
  },
  {
   "cell_type": "code",
   "execution_count": 1,
   "id": "3f8185c7",
   "metadata": {},
   "outputs": [
    {
     "name": "stdout",
     "output_type": "stream",
     "text": [
      "CPython\n"
     ]
    }
   ],
   "source": [
    "import platform\n",
    "print(platform.python_implementation())"
   ]
  },
  {
   "cell_type": "code",
   "execution_count": 4,
   "id": "d1d72394",
   "metadata": {},
   "outputs": [
    {
     "name": "stdout",
     "output_type": "stream",
     "text": [
      "Start\n",
      "From Err block ('An error occurred',)\n"
     ]
    }
   ],
   "source": [
    "class Err(Exception):\n",
    "    def __init__(self, msg):\n",
    "        self.message = msg\n",
    "    def __str__(self):\n",
    "        return \"From Err block\"\n",
    "\n",
    "try:\n",
    "    print(\"Start\")\n",
    "    raise Err(\"An error occurred\")\n",
    "    #raise Exception(\"Error raised\")\n",
    "except Err as e:\n",
    "    print(e, e.args)\n",
    "else:\n",
    "    print(\"From else block\")\n",
    "\n"
   ]
  },
  {
   "cell_type": "code",
   "execution_count": 14,
   "id": "177b8ae3",
   "metadata": {},
   "outputs": [
    {
     "name": "stdout",
     "output_type": "stream",
     "text": [
      "two three\n"
     ]
    }
   ],
   "source": [
    "try:\n",
    "    assert 0 < 1\n",
    "except:\n",
    "    print(\"one\",end=' ')\n",
    "else:\n",
    "    print(\"two\",end=' ')\n",
    "finally:\n",
    "    print(\"three\")\n",
    "    "
   ]
  },
  {
   "cell_type": "code",
   "execution_count": 18,
   "id": "8634ce1d",
   "metadata": {},
   "outputs": [
    {
     "name": "stdout",
     "output_type": "stream",
     "text": [
      "0\n"
     ]
    }
   ],
   "source": [
    "# Exemplo 1: Busca simples\n",
    "texto = \"Python é divertido e Python é poderoso\"\n",
    "indice = texto.rfind(\"Python2\")\n",
    "indice = texto.index(\"Python\")\n",
    "print(indice)  # Output: 20 (última ocorrência)\n"
   ]
  },
  {
   "cell_type": "code",
   "execution_count": null,
   "id": "7d775d00",
   "metadata": {},
   "outputs": [
    {
     "name": "stdout",
     "output_type": "stream",
     "text": [
      "Retorno do construtor: None\n"
     ]
    }
   ],
   "source": [
    "class Pessoa:\n",
    "    def __init__(self, nome):\n",
    "        self.nome = nome\n",
    "    def apresentar(self):\n",
    "        return f\"Olá, me chamo {self.nome}.\"\n",
    "\n",
    "# Testando o construtor\n",
    "pessoa1 = Pessoa(\"João\")\n",
    "\n",
    "# Verificando que o construtor retorna None\n",
    "resultado_construtor = pessoa1.__init__(\"Maria\")\n",
    "print(f\"Retorno do construtor: {resultado_construtor}\")"
   ]
  },
  {
   "cell_type": "code",
   "execution_count": 6,
   "id": "1ace2776",
   "metadata": {},
   "outputs": [
    {
     "name": "stdout",
     "output_type": "stream",
     "text": [
      "{'value1': 1, '_Test__value2': 2}\n"
     ]
    }
   ],
   "source": [
    "class Test:\n",
    "    def __init__(self):\n",
    "        self.value1=1\n",
    "        self.__value2=2\n",
    "        \n",
    "t= Test()\n",
    "\n",
    "print(t.__dict__)\n"
   ]
  },
  {
   "cell_type": "code",
   "execution_count": 20,
   "id": "ea073bc5",
   "metadata": {},
   "outputs": [
    {
     "name": "stdout",
     "output_type": "stream",
     "text": [
      "(<class '__main__.Classy'>, <class '__main__.Root'>)\n",
      "(<class '__main__.Testy'>, <class '__main__.Classy'>, <class '__main__.Root'>, <class 'object'>)\n"
     ]
    }
   ],
   "source": [
    "class Root:\n",
    "    pass\n",
    "class Classy(Root):\n",
    "    pass\n",
    "class Testy(Classy, Root):\n",
    "    pass\n",
    "    \n",
    "obj = Classy()\n",
    "\n",
    "#print(Classy.__name__)\n",
    "#print(type(obj).__name__)\n",
    "#print(type(obj))\n",
    "print(Testy.__bases__)\n",
    "#print(Testy.__bases__[0].__name__)\n",
    "print(Testy.__mro__)"
   ]
  },
  {
   "cell_type": "code",
   "execution_count": 21,
   "id": "817e16bf",
   "metadata": {},
   "outputs": [
    {
     "name": "stdout",
     "output_type": "stream",
     "text": [
      "Pessoa: João\n",
      "Pessoa(nome='João')\n"
     ]
    }
   ],
   "source": [
    "class Pessoa:\n",
    "    def __init__(self, nome):\n",
    "        self.nome = nome\n",
    "    def __str__(self):\n",
    "        return f\"Pessoa: {self.nome}\"\n",
    "    def __repr__(self):\n",
    "        return f\"Pessoa(nome='{self.nome}')\"\n",
    "\n",
    "p = Pessoa(\"João\")\n",
    "print(p)         # Pessoa: João   (usa __str__)\n",
    "print(repr(p))   # Pessoa(nome='João')  (usa __repr__)"
   ]
  },
  {
   "cell_type": "code",
   "execution_count": 3,
   "id": "40936aa0",
   "metadata": {},
   "outputs": [
    {
     "name": "stdout",
     "output_type": "stream",
     "text": [
      "Pessoa(nome='Ana', idade=25)\n",
      "Pessoa(nome='Ana', idade=25)\n"
     ]
    }
   ],
   "source": [
    "class Pessoa:\n",
    "    def __init__(self, nome, idade):\n",
    "        self.nome = nome\n",
    "        self.idade = idade\n",
    "    \n",
    "#    def __str__(self):\n",
    "#        return f\"{self.nome}, {self.idade} anos\"\n",
    "    \n",
    "    def __repr__(self):\n",
    "        return f\"Pessoa(nome='{self.nome}', idade={self.idade})\"\n",
    "\n",
    "p = Pessoa(\"Ana\", 25)\n",
    "\n",
    "print(p)        # Ana, 25 anos   (usa __str__)\n",
    "#print(str(p))   # Ana, 25 anos\n",
    "print(repr(p))  # Pessoa(nome='Ana', idade=25)\n"
   ]
  },
  {
   "cell_type": "code",
   "execution_count": 4,
   "id": "af9e6fec",
   "metadata": {},
   "outputs": [
    {
     "name": "stdout",
     "output_type": "stream",
     "text": [
      "Data(25, 12, 2023)\n",
      "Data(25, 12, 2023)\n",
      "Data(25, 12, 2023)\n"
     ]
    }
   ],
   "source": [
    "class Data:\n",
    "    def __init__(self, dia, mes, ano):\n",
    "        self.dia = dia\n",
    "        self.mes = mes\n",
    "        self.ano = ano\n",
    "    \n",
    "    def __repr__(self):\n",
    "        return f\"Data({self.dia}, {self.mes}, {self.ano})\"\n",
    "    \n",
    "    def __str__(self):\n",
    "        return f\"Data({self.dia}, {self.mes}, {self.ano})\"\n",
    "\n",
    "# Uso\n",
    "data = Data(25, 12, 2023)\n",
    "print(repr(data))  # Data(25, 12, 2023) - para desenvolvedores\n",
    "print(str(data))   # Data(25, 12, 2023) - para usuários\n",
    "print(data)        # Data(25, 12, 2023) (chama __str__ automaticamente)"
   ]
  },
  {
   "cell_type": "code",
   "execution_count": 7,
   "id": "c5ae2ae9",
   "metadata": {},
   "outputs": [
    {
     "name": "stdout",
     "output_type": "stream",
     "text": [
      "1\n"
     ]
    }
   ],
   "source": [
    "class A: pass\n",
    "class B(A): \n",
    "    var=1\n",
    "class C(A): \n",
    "    var=2\n",
    "class D(B, C): pass\n",
    "\n",
    "d=D()\n",
    "print(d.var)"
   ]
  },
  {
   "cell_type": "code",
   "execution_count": null,
   "id": "0513d3b2",
   "metadata": {},
   "outputs": [
    {
     "name": "stdout",
     "output_type": "stream",
     "text": [
      "<_io.TextIOWrapper name='myfile.txt' mode='rt' encoding='cp1252'>\n"
     ]
    },
    {
     "ename": "TypeError",
     "evalue": "object of type '_io.TextIOWrapper' has no len()",
     "output_type": "error",
     "traceback": [
      "\u001b[31m---------------------------------------------------------------------------\u001b[39m",
      "\u001b[31mTypeError\u001b[39m                                 Traceback (most recent call last)",
      "\u001b[36mCell\u001b[39m\u001b[36m \u001b[39m\u001b[32mIn[14]\u001b[39m\u001b[32m, line 5\u001b[39m\n\u001b[32m      3\u001b[39m     d = f.readline()\n\u001b[32m      4\u001b[39m     \u001b[38;5;28mprint\u001b[39m(f)\n\u001b[32m----> \u001b[39m\u001b[32m5\u001b[39m     \u001b[38;5;28mprint\u001b[39m(\u001b[38;5;28;43mlen\u001b[39;49m\u001b[43m(\u001b[49m\u001b[43mf\u001b[49m\u001b[43m)\u001b[49m)\n\u001b[32m      6\u001b[39m     f.close()\n\u001b[32m      7\u001b[39m \u001b[38;5;28;01mexcept\u001b[39;00m \u001b[38;5;167;01mIOError\u001b[39;00m:\n",
      "\u001b[31mTypeError\u001b[39m: object of type '_io.TextIOWrapper' has no len()"
     ]
    }
   ],
   "source": [
    "try:\n",
    "    f = open(\"myfile.txt\", \"rt\")\n",
    "    d = f.readline()\n",
    "    print(f)\n",
    "    print(len(d))\n",
    "    f.close()\n",
    "except IOError:\n",
    "    print(-1)\n",
    "    "
   ]
  },
  {
   "cell_type": "code",
   "execution_count": 15,
   "id": "99498842",
   "metadata": {},
   "outputs": [
    {
     "name": "stdout",
     "output_type": "stream",
     "text": [
      "1\n"
     ]
    }
   ],
   "source": [
    "print(1%2)"
   ]
  },
  {
   "cell_type": "code",
   "execution_count": 20,
   "id": "084deaaa",
   "metadata": {},
   "outputs": [
    {
     "name": "stdout",
     "output_type": "stream",
     "text": [
      "[1, 3]\n",
      "[1, 3]\n"
     ]
    }
   ],
   "source": [
    "any_list=[1,2,3,4]\n",
    "p=[x for x in any_list if x % 2]\n",
    "print(p)\n",
    "\n",
    "q= list(filter(lambda x: x == 1 or x == 3, any_list))\n",
    "print(q)"
   ]
  }
 ],
 "metadata": {
  "kernelspec": {
   "display_name": "Python 3",
   "language": "python",
   "name": "python3"
  },
  "language_info": {
   "codemirror_mode": {
    "name": "ipython",
    "version": 3
   },
   "file_extension": ".py",
   "mimetype": "text/x-python",
   "name": "python",
   "nbconvert_exporter": "python",
   "pygments_lexer": "ipython3",
   "version": "3.13.6"
  }
 },
 "nbformat": 4,
 "nbformat_minor": 5
}
