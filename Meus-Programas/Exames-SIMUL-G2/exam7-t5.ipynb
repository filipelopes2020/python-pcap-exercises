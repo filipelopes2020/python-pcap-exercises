{
 "cells": [
  {
   "cell_type": "code",
   "execution_count": 195,
   "id": "35820e16",
   "metadata": {},
   "outputs": [
    {
     "name": "stdout",
     "output_type": "stream",
     "text": [
      "0\n"
     ]
    }
   ],
   "source": [
    "print([i for i in range(1)][-1] )"
   ]
  },
  {
   "cell_type": "code",
   "execution_count": 196,
   "id": "8996f1bf",
   "metadata": {},
   "outputs": [
    {
     "name": "stdout",
     "output_type": "stream",
     "text": [
      "0\n",
      "<class 'int'>\n",
      "[0]\n",
      "<class 'list'>\n"
     ]
    }
   ],
   "source": [
    "# Código original:\n",
    "resultado = [i for i in range(1)][-1]\n",
    "print(resultado)  # Output: 0\n",
    "print(type(resultado))  # Output: <class 'int'>\n",
    "\n",
    "# O que NÃO acontece:\n",
    "resultado_errado = [i for i in range(1)]  # Isso sim seria [0]\n",
    "print(resultado_errado)  # Output: [0]\n",
    "print(type(resultado_errado))  # Output: <class 'list'>"
   ]
  },
  {
   "cell_type": "code",
   "execution_count": 197,
   "id": "cb2ebe01",
   "metadata": {},
   "outputs": [
    {
     "data": {
      "text/plain": [
       "1"
      ]
     },
     "execution_count": 197,
     "metadata": {},
     "output_type": "execute_result"
    }
   ],
   "source": [
    "[i for i in range(3)][-2]"
   ]
  },
  {
   "cell_type": "code",
   "execution_count": 198,
   "id": "7a2e3476",
   "metadata": {},
   "outputs": [
    {
     "name": "stdout",
     "output_type": "stream",
     "text": [
      "[]\n",
      "[]\n",
      "[]\n",
      "[-5, -4, -3, -2]\n",
      "[0, -1, -2, -3, -4]\n"
     ]
    }
   ],
   "source": [
    "print([i for i in range(11, 5)])\n",
    "print([i for i in range(-1, -5)])\n",
    "print([i for i in range(0, -5)])\n",
    "print([i for i in range(-5, -1)])\n",
    "\n",
    "print([i for i in range(0,-5,-1)])"
   ]
  },
  {
   "cell_type": "code",
   "execution_count": 199,
   "id": "19b74096",
   "metadata": {},
   "outputs": [
    {
     "name": "stdout",
     "output_type": "stream",
     "text": [
      "dog\n",
      "c\n"
     ]
    }
   ],
   "source": [
    "with open('animals.txt', 'r') as f:\n",
    "    print(f.read(5))\n",
    "    \n"
   ]
  },
  {
   "cell_type": "code",
   "execution_count": 200,
   "id": "9068aa12",
   "metadata": {},
   "outputs": [
    {
     "name": "stdout",
     "output_type": "stream",
     "text": [
      "5\n",
      "16\n"
     ]
    },
    {
     "ename": "AssertionError",
     "evalue": "ERRITO",
     "output_type": "error",
     "traceback": [
      "\u001b[31m---------------------------------------------------------------------------\u001b[39m",
      "\u001b[31mAssertionError\u001b[39m                            Traceback (most recent call last)",
      "\u001b[36mCell\u001b[39m\u001b[36m \u001b[39m\u001b[32mIn[200]\u001b[39m\u001b[32m, line 10\u001b[39m\n\u001b[32m      7\u001b[39m \u001b[38;5;28;01mdef\u001b[39;00m\u001b[38;5;250m \u001b[39m\u001b[34mcheck\u001b[39m(x):\n\u001b[32m      8\u001b[39m     \u001b[38;5;28;01massert\u001b[39;00m x != \u001b[32m2\u001b[39m , \u001b[33m\"\u001b[39m\u001b[33mERRITO\u001b[39m\u001b[33m\"\u001b[39m\n\u001b[32m---> \u001b[39m\u001b[32m10\u001b[39m \u001b[43mcheck\u001b[49m\u001b[43m(\u001b[49m\u001b[32;43m2\u001b[39;49m\u001b[43m)\u001b[49m\n",
      "\u001b[36mCell\u001b[39m\u001b[36m \u001b[39m\u001b[32mIn[200]\u001b[39m\u001b[32m, line 8\u001b[39m, in \u001b[36mcheck\u001b[39m\u001b[34m(x)\u001b[39m\n\u001b[32m      7\u001b[39m \u001b[38;5;28;01mdef\u001b[39;00m\u001b[38;5;250m \u001b[39m\u001b[34mcheck\u001b[39m(x):\n\u001b[32m----> \u001b[39m\u001b[32m8\u001b[39m     \u001b[38;5;28;01massert\u001b[39;00m x != \u001b[32m2\u001b[39m , \u001b[33m\"\u001b[39m\u001b[33mERRITO\u001b[39m\u001b[33m\"\u001b[39m\n",
      "\u001b[31mAssertionError\u001b[39m: ERRITO"
     ]
    }
   ],
   "source": [
    "soma_lambda = lambda a, b: a + b\n",
    "\n",
    "print(soma_lambda(2, 3)) \n",
    "\n",
    "quadrado_lambda = lambda p: p**2\n",
    "print(quadrado_lambda(4))   \n",
    "def check(x):\n",
    "    assert x != 2 , \"ERRITO\"\n",
    "    \n",
    "check(2)"
   ]
  },
  {
   "cell_type": "code",
   "execution_count": null,
   "id": "553d6871",
   "metadata": {},
   "outputs": [
    {
     "name": "stdout",
     "output_type": "stream",
     "text": [
      "[9] <function <lambda> at 0x00000191EBA6C4A0>\n"
     ]
    }
   ],
   "source": [
    "x = [_ for _ in range(10)] \n",
    "del x[0:-1] \n",
    "print(x, )"
   ]
  },
  {
   "cell_type": "code",
   "execution_count": null,
   "id": "c434040c",
   "metadata": {},
   "outputs": [
    {
     "name": "stdout",
     "output_type": "stream",
     "text": [
      "10\n"
     ]
    }
   ],
   "source": [
    "# ...existing code...\n",
    "def outer():\n",
    "    x = 10\n",
    "    def inner():\n",
    "        #nonlocal x\n",
    "        x = 20\n",
    "    inner()\n",
    "    print(x)  # Imprime o valor de x fora da função inner\n",
    "outer()       # Saída: 20\n",
    "#"
   ]
  },
  {
   "cell_type": "code",
   "execution_count": null,
   "id": "e09daf2b",
   "metadata": {},
   "outputs": [
    {
     "name": "stdout",
     "output_type": "stream",
     "text": [
      "<class '_io.TextIOWrapper'>\n"
     ]
    }
   ],
   "source": [
    "print(type(open(\"spam.txt\", \"rt\")))"
   ]
  },
  {
   "cell_type": "code",
   "execution_count": null,
   "id": "9f807ba0",
   "metadata": {},
   "outputs": [
    {
     "data": {
      "text/plain": [
       "[1, 3, 5, 7, 9]"
      ]
     },
     "execution_count": 75,
     "metadata": {},
     "output_type": "execute_result"
    }
   ],
   "source": [
    "list(filter(lambda x: x%2, [1, 2, 3, 4, 5, 6, 7, 8, 9]))"
   ]
  },
  {
   "cell_type": "code",
   "execution_count": null,
   "id": "6d117d9f",
   "metadata": {},
   "outputs": [
    {
     "name": "stdout",
     "output_type": "stream",
     "text": [
      "5\n"
     ]
    }
   ],
   "source": [
    "f = lambda x, y : (x + y)\n",
    "print(f(2, 3))"
   ]
  },
  {
   "cell_type": "code",
   "execution_count": null,
   "id": "fb6edf69",
   "metadata": {},
   "outputs": [
    {
     "data": {
      "text/plain": [
       "31"
      ]
     },
     "execution_count": 88,
     "metadata": {},
     "output_type": "execute_result"
    }
   ],
   "source": [
    "a, b = 11, 20\n",
    "#(lambda: b, lambda: a)[a < b]()\n",
    "(lambda: b, lambda: a, lambda: a + b)[2]()\n"
   ]
  },
  {
   "cell_type": "code",
   "execution_count": null,
   "id": "4f217a18",
   "metadata": {},
   "outputs": [
    {
     "name": "stdout",
     "output_type": "stream",
     "text": [
      "2\n",
      "['E2BIG', 'EACCES', 'EADDRINUSE', 'EADDRNOTAVAIL', 'EAFNOSUPPORT', 'EAGAIN', 'EALREADY', 'EBADF', 'EBADMSG', 'EBUSY', 'ECANCELED', 'ECHILD', 'ECONNABORTED', 'ECONNREFUSED', 'ECONNRESET', 'EDEADLK', 'EDEADLOCK', 'EDESTADDRREQ', 'EDOM', 'EDQUOT', 'EEXIST', 'EFAULT', 'EFBIG', 'EHOSTDOWN', 'EHOSTUNREACH', 'EIDRM', 'EILSEQ', 'EINPROGRESS', 'EINTR', 'EINVAL', 'EIO', 'EISCONN', 'EISDIR', 'ELOOP', 'EMFILE', 'EMLINK', 'EMSGSIZE', 'ENAMETOOLONG', 'ENETDOWN', 'ENETRESET', 'ENETUNREACH', 'ENFILE', 'ENOBUFS', 'ENODATA', 'ENODEV', 'ENOENT', 'ENOEXEC', 'ENOLCK', 'ENOLINK', 'ENOMEM', 'ENOMSG', 'ENOPROTOOPT', 'ENOSPC', 'ENOSR', 'ENOSTR', 'ENOSYS', 'ENOTCONN', 'ENOTDIR', 'ENOTEMPTY', 'ENOTRECOVERABLE', 'ENOTSOCK', 'ENOTSUP', 'ENOTTY', 'ENXIO', 'EOPNOTSUPP', 'EOVERFLOW', 'EOWNERDEAD', 'EPERM', 'EPFNOSUPPORT', 'EPIPE', 'EPROTO', 'EPROTONOSUPPORT', 'EPROTOTYPE', 'ERANGE', 'EREMOTE', 'EROFS', 'ESHUTDOWN', 'ESOCKTNOSUPPORT', 'ESPIPE', 'ESRCH', 'ESTALE', 'ETIME', 'ETIMEDOUT', 'ETOOMANYREFS', 'ETXTBSY', 'EUSERS', 'EWOULDBLOCK', 'EXDEV', 'WSABASEERR', 'WSAEACCES', 'WSAEADDRINUSE', 'WSAEADDRNOTAVAIL', 'WSAEAFNOSUPPORT', 'WSAEALREADY', 'WSAEBADF', 'WSAECONNABORTED', 'WSAECONNREFUSED', 'WSAECONNRESET', 'WSAEDESTADDRREQ', 'WSAEDISCON', 'WSAEDQUOT', 'WSAEFAULT', 'WSAEHOSTDOWN', 'WSAEHOSTUNREACH', 'WSAEINPROGRESS', 'WSAEINTR', 'WSAEINVAL', 'WSAEISCONN', 'WSAELOOP', 'WSAEMFILE', 'WSAEMSGSIZE', 'WSAENAMETOOLONG', 'WSAENETDOWN', 'WSAENETRESET', 'WSAENETUNREACH', 'WSAENOBUFS', 'WSAENOPROTOOPT', 'WSAENOTCONN', 'WSAENOTEMPTY', 'WSAENOTSOCK', 'WSAEOPNOTSUPP', 'WSAEPFNOSUPPORT', 'WSAEPROCLIM', 'WSAEPROTONOSUPPORT', 'WSAEPROTOTYPE', 'WSAEREMOTE', 'WSAESHUTDOWN', 'WSAESOCKTNOSUPPORT', 'WSAESTALE', 'WSAETIMEDOUT', 'WSAETOOMANYREFS', 'WSAEUSERS', 'WSAEWOULDBLOCK', 'WSANOTINITIALISED', 'WSASYSNOTREADY', 'WSAVERNOTSUPPORTED', '__doc__', '__loader__', '__name__', '__package__', '__spec__', 'errorcode']\n"
     ]
    }
   ],
   "source": [
    "import sys, errno\n",
    "try:\n",
    "    open(\"spamX.txt\", \"r\")\n",
    "except:\n",
    "    print(sys.exc_info()[1].errno)\n",
    "    print(dir(errno))\n",
    "\n",
    "    #if sys.exc_info()[1].errno == errno.ENOENT:\n",
    "    #    print(errno.errorcode[sys.exc_info()[1].errno])"
   ]
  },
  {
   "cell_type": "code",
   "execution_count": null,
   "id": "7d4fb4d4",
   "metadata": {},
   "outputs": [
    {
     "data": {
      "text/plain": [
       "[[0], [0, 1]]"
      ]
     },
     "execution_count": 99,
     "metadata": {},
     "output_type": "execute_result"
    }
   ],
   "source": [
    "[[c for c in range(r)] for r in range(3) if r != 0]"
   ]
  },
  {
   "cell_type": "code",
   "execution_count": null,
   "id": "18766e88",
   "metadata": {},
   "outputs": [
    {
     "name": "stdout",
     "output_type": "stream",
     "text": [
      "[[0], [0, 1]]\n"
     ]
    }
   ],
   "source": [
    "resultado = []\n",
    "for r in range(3):          # Para r = 0, 1, 2\n",
    "    if r != 0:              # Se r não for 0\n",
    "        lista_interna = []\n",
    "        for c in range(r):  # Para c de 0 até r-1\n",
    "            lista_interna.append(c)\n",
    "        resultado.append(lista_interna)\n",
    "print(resultado)  # Output: [[0], [0, 1]]"
   ]
  },
  {
   "cell_type": "code",
   "execution_count": null,
   "id": "4f1e12f5",
   "metadata": {},
   "outputs": [
    {
     "data": {
      "text/plain": [
       "[[], [0, 1], [0, 1, 2, 3], [0, 1, 2, 3, 4, 5], [0, 1, 2, 3, 4, 5, 6, 7]]"
      ]
     },
     "execution_count": 103,
     "metadata": {},
     "output_type": "execute_result"
    }
   ],
   "source": [
    "[[c for c in range(r)] for r in range(10) if r % 2==0]"
   ]
  },
  {
   "cell_type": "code",
   "execution_count": null,
   "id": "b42c1c96",
   "metadata": {},
   "outputs": [
    {
     "name": "stdout",
     "output_type": "stream",
     "text": [
      "=== DEMONSTRAÇÃO DE ESCRITA EM FICHEIROS ===\n",
      "\n",
      "1. Usando write():\n",
      "Ficheiro 'exemplo_write.txt' criado com sucesso!\n",
      "Conteúdo:\n",
      "Hello World\n",
      "Esta é a segunda linha\n",
      "Terceira linha com write()\n",
      "\n",
      "--------------------------------------------------\n",
      "2. Usando writelines():\n",
      "Ficheiro 'exemplo_writelines.txt' criado com sucesso!\n",
      "Conteúdo:\n",
      "Primeira linha com writelines()\n",
      "Segunda linha\n",
      "Terceira linha\n",
      "\n",
      "--------------------------------------------------\n",
      "3. Comparação prática:\n",
      "Ficheiro 'comparacao.txt' criado para comparação!\n",
      "Conteúdo:\n",
      "Linha 1 com write\n",
      "Linha 2 com write\n",
      "Linha 3 com writelines\n",
      "Linha 4 com writelines\n",
      "\n",
      "\n",
      "=== FIM DA DEMONSTRAÇÃO ===\n"
     ]
    }
   ],
   "source": [
    "# Programa demonstrativo de escrita em ficheiros\n",
    "print(\"=== DEMONSTRAÇÃO DE ESCRITA EM FICHEIROS ===\\n\")\n",
    "\n",
    "# Método 1: usando write()\n",
    "print(\"1. Usando write():\")\n",
    "with open(\"exemplo_write.txt\", \"w\") as f:\n",
    "    f.write(\"Hello World\\n\")  # Escreve uma linha\n",
    "    f.write(\"Esta é a segunda linha\\n\")\n",
    "    f.write(\"Terceira linha com write()\\n\")\n",
    "\n",
    "print(\"Ficheiro 'exemplo_write.txt' criado com sucesso!\")\n",
    "print(\"Conteúdo:\")\n",
    "with open(\"exemplo_write.txt\", \"r\") as f:\n",
    "    print(f.read())\n",
    "\n",
    "print(\"-\" * 50)\n",
    "\n",
    "# Método 2: usando writelines()\n",
    "print(\"2. Usando writelines():\")\n",
    "linhas = [\"Primeira linha com writelines()\\n\", \n",
    "          \"Segunda linha\\n\", \n",
    "          \"Terceira linha\\n\"]\n",
    "\n",
    "with open(\"exemplo_writelines.txt\", \"w\") as f:\n",
    "    f.writelines(linhas)  # Escreve múltiplas linhas\n",
    "\n",
    "print(\"Ficheiro 'exemplo_writelines.txt' criado com sucesso!\")\n",
    "print(\"Conteúdo:\")\n",
    "with open(\"exemplo_writelines.txt\", \"r\") as f:\n",
    "    print(f.read())\n",
    "\n",
    "print(\"-\" * 50)\n",
    "\n",
    "# Método 3: comparação prática\n",
    "print(\"3. Comparação prática:\")\n",
    "with open(\"comparacao.txt\", \"w\") as f:\n",
    "    # write() para strings individuais\n",
    "    f.write(\"Linha 1 com write\\n\")\n",
    "    f.write(\"Linha 2 com write\\n\")\n",
    "    \n",
    "    # writelines() para lista de strings\n",
    "    f.writelines([\"Linha 3 com writelines\\n\", \"Linha 4 com writelines\\n\"])\n",
    "\n",
    "print(\"Ficheiro 'comparacao.txt' criado para comparação!\")\n",
    "print(\"Conteúdo:\")\n",
    "with open(\"comparacao.txt\", \"r\") as f:\n",
    "    print(f.read())\n",
    "\n",
    "print(\"\\n=== FIM DA DEMONSTRAÇÃO ===\")"
   ]
  },
  {
   "cell_type": "code",
   "execution_count": null,
   "id": "99283d52",
   "metadata": {},
   "outputs": [],
   "source": [
    "file = open('spam.txt', 'r+')\n",
    "file.close()\n",
    "file.close()\n",
    "file.close()"
   ]
  },
  {
   "cell_type": "code",
   "execution_count": null,
   "id": "c714b702",
   "metadata": {},
   "outputs": [
    {
     "name": "stdout",
     "output_type": "stream",
     "text": [
      "x y z\n"
     ]
    }
   ],
   "source": [
    "x = 'x'\n",
    "def main():\n",
    "    y = 'y'\n",
    "    def spam():\n",
    "        print(x, y, z1)\n",
    "        return\n",
    "    spam()\n",
    "z1 = 'z'\n",
    "if __name__ == \"__main__\":\n",
    "    main()\n"
   ]
  },
  {
   "cell_type": "code",
   "execution_count": null,
   "id": "de4b05d5",
   "metadata": {},
   "outputs": [
    {
     "data": {
      "text/plain": [
       "5"
      ]
     },
     "execution_count": 120,
     "metadata": {},
     "output_type": "execute_result"
    }
   ],
   "source": [
    "f=open('spam.txt', 'r+')\n",
    "line = f.read()\n",
    "f.write(line)"
   ]
  },
  {
   "cell_type": "code",
   "execution_count": null,
   "id": "2760ec2b",
   "metadata": {},
   "outputs": [
    {
     "name": "stdout",
     "output_type": "stream",
     "text": [
      "Bytes: b'Python'\n",
      "Tipo: <class 'bytes'>\n",
      "Bytearray: bytearray(b'Python')\n",
      "Tipo: <class 'bytearray'>\n"
     ]
    }
   ],
   "source": [
    "# Bytes original\n",
    "bytes_obj = b'Python'\n",
    "print(f\"Bytes: {bytes_obj}\")  # b'Python'\n",
    "print(f\"Tipo: {type(bytes_obj)}\")  # <class 'bytes'>\n",
    "\n",
    "# Conversão para bytearray\n",
    "barray = bytearray(bytes_obj)\n",
    "print(f\"Bytearray: {barray}\")  # bytearray(b'Python')\n",
    "print(f\"Tipo: {type(barray)}\")  # <class 'bytearray'>"
   ]
  },
  {
   "cell_type": "code",
   "execution_count": null,
   "id": "2eb4f987",
   "metadata": {},
   "outputs": [
    {
     "name": "stdout",
     "output_type": "stream",
     "text": [
      "Lista: [80, 67, 65, 80, 49, 50]\n",
      "Bytearray: bytearray(b'PCAP12')\n",
      "Como string: PCAP12\n"
     ]
    }
   ],
   "source": [
    "# Lista de inteiros (valores entre 0-255)\n",
    "int_list = [80, 67, 65, 80, 49, 50]  # ASCII: P, C, A, P, 1, 2\n",
    "print(f\"Lista: {int_list}\")  # [80, 67, 65, 80, 49, 50]\n",
    "\n",
    "# Conversão para bytearray\n",
    "barray = bytearray(int_list)\n",
    "print(f\"Bytearray: {barray}\")  # bytearray(b'PCAP12')\n",
    "print(f\"Como string: {barray.decode('ascii')}\")  # PCAP12"
   ]
  },
  {
   "cell_type": "code",
   "execution_count": null,
   "id": "c289e715",
   "metadata": {},
   "outputs": [
    {
     "name": "stdout",
     "output_type": "stream",
     "text": [
      "bytearray(b'Hello')\n",
      "Hello\n",
      "['Formatter', 'Template', '_ChainMap', '__all__', '__builtins__', '__cached__', '__doc__', '__file__', '__loader__', '__name__', '__package__', '__spec__', '_re', '_sentinel_dict', '_string', 'ascii_letters', 'ascii_lowercase', 'ascii_uppercase', 'capwords', 'digits', 'hexdigits', 'octdigits', 'printable', 'punctuation', 'whitespace']\n"
     ]
    }
   ],
   "source": [
    "import string\n",
    "\n",
    "ba5=bytearray(5)\n",
    "ba5[0]=50\n",
    "\n",
    "ba=bytearray(b'Hello')\n",
    "print(ba)\n",
    "st1 = ba.decode('utf-8')  # 'Hello'\n",
    "print(st1)\n",
    "\n",
    "print(dir(string))"
   ]
  },
  {
   "cell_type": "code",
   "execution_count": null,
   "id": "46fdbadd",
   "metadata": {},
   "outputs": [
    {
     "data": {
      "text/plain": [
       "[False, False, False]"
      ]
     },
     "execution_count": 128,
     "metadata": {},
     "output_type": "execute_result"
    }
   ],
   "source": [
    "[False for i in range(3)]"
   ]
  },
  {
   "cell_type": "code",
   "execution_count": null,
   "id": "6b2ee1ce",
   "metadata": {},
   "outputs": [
    {
     "data": {
      "text/plain": [
       "0"
      ]
     },
     "execution_count": 129,
     "metadata": {},
     "output_type": "execute_result"
    }
   ],
   "source": [
    "import io\n",
    "spam = io.BytesIO()\n",
    "spam.write(\"Hello, world!\".encode('ascii'))\n",
    "ham = spam.getbuffer()\n",
    "spam.seek(0)"
   ]
  },
  {
   "cell_type": "code",
   "execution_count": null,
   "id": "367f0d95",
   "metadata": {},
   "outputs": [
    {
     "name": "stdout",
     "output_type": "stream",
     "text": [
      "b'test data'\n",
      "b'test data'\n",
      "9\n",
      "9\n"
     ]
    }
   ],
   "source": [
    "import io\n",
    "stream = io.BytesIO(b\"test data\")\n",
    "buffer = stream.getbuffer()\n",
    "stream.seek(0)\n",
    "\n",
    "# Teste todas as funções válidas\n",
    "print(stream.read())\n",
    "stream.seek(0)\n",
    "print(stream.read1())\n",
    "stream.seek(0)\n",
    "print(stream.readinto(buffer))\n",
    "stream.seek(0)\n",
    "print(stream.readinto1(buffer))"
   ]
  },
  {
   "cell_type": "code",
   "execution_count": null,
   "id": "d988fcd8",
   "metadata": {},
   "outputs": [
    {
     "name": "stdout",
     "output_type": "stream",
     "text": [
      "<memory at 0x00000191EB2BBC40>\n",
      "b'hello world'\n",
      "11\n"
     ]
    }
   ],
   "source": [
    "import io\n",
    "\n",
    "stream = io.BytesIO(b\"hello world\")\n",
    "buffer = stream.getbuffer()\n",
    "\n",
    "print(buffer)         # <memory at 0x...>\n",
    "print(bytes(buffer))  # b'hello world'\n",
    "print(len(buffer))    # 11\n"
   ]
  },
  {
   "cell_type": "code",
   "execution_count": null,
   "id": "369da5dd",
   "metadata": {},
   "outputs": [
    {
     "name": "stdout",
     "output_type": "stream",
     "text": [
      "b'test data'\n",
      "b'test'\n",
      "b'BEST data'\n"
     ]
    }
   ],
   "source": [
    "import io\n",
    "\n",
    "# Criar o buffer\n",
    "stream = io.BytesIO(b\"test data\")\n",
    "\n",
    "# Ler todo o conteúdo\n",
    "print(stream.read())  # b'test data'\n",
    "\n",
    "# Voltar ao início (rewind)\n",
    "stream.seek(0)\n",
    "\n",
    "# Ler apenas 4 bytes\n",
    "print(stream.read(4))  # b'test'\n",
    "\n",
    "# Escrever por cima (a partir da posição atual)\n",
    "stream.seek(0)\n",
    "stream.write(b\"BEST\")\n",
    "stream.seek(0)\n",
    "print(stream.read())  # b'BEST data'\n"
   ]
  },
  {
   "cell_type": "code",
   "execution_count": null,
   "id": "719c7396",
   "metadata": {},
   "outputs": [
    {
     "name": "stdout",
     "output_type": "stream",
     "text": [
      "b'hello'\n",
      "bytearray(b'hello world')\n",
      "b'hello world this is a test'\n"
     ]
    }
   ],
   "source": [
    "import io\n",
    "stream = io.BytesIO(b\"hello world this is a test\")\n",
    "\n",
    "print(stream.read(5))  # b'hello'\n",
    "by=bytearray(11)\n",
    "stream.seek(0)\n",
    "stream.readinto(by)\n",
    "print(by)  # bytearray(b'hello')\n",
    "print(stream.getvalue()) "
   ]
  },
  {
   "cell_type": "code",
   "execution_count": null,
   "id": "5b1a2df8",
   "metadata": {},
   "outputs": [
    {
     "name": "stdout",
     "output_type": "stream",
     "text": [
      "HE11o\n"
     ]
    }
   ],
   "source": [
    "texto = \"hello\"\n",
    "tabela = str.maketrans(\"hel\", \"HE1\")\n",
    "resultado = texto.translate(tabela)\n",
    "print(resultado)\n"
   ]
  },
  {
   "cell_type": "code",
   "execution_count": null,
   "id": "d3c2f7aa",
   "metadata": {},
   "outputs": [
    {
     "name": "stdout",
     "output_type": "stream",
     "text": [
      "{'nome': 'MF', 'idade': 31, 'cidade': 'Maputo', 'profissao': 'Engenheiro', 'cor': 'Azul'}\n"
     ]
    }
   ],
   "source": [
    "tabela = {\"nome\": \"MF\", \"idade\": 30, \"cidade\": \"Chimoio\"}\n",
    "nova = {\"idade\": 31, \"profissao\": \"Engenheiro\", \"cidade\": \"Maputo\", \"cor\": \"Azul\"}\n",
    "#tabela_atualizada = {**tabela, **nova}\n",
    "tabela_atualizada = tabela | nova\n",
    "#tabela.update(nova)\n",
    "#print(tabela)\n",
    "print(tabela_atualizada)"
   ]
  },
  {
   "cell_type": "code",
   "execution_count": null,
   "id": "dc1d3a6c",
   "metadata": {},
   "outputs": [
    {
     "name": "stdout",
     "output_type": "stream",
     "text": [
      "Olá m5nd4 T5d4 b2m\n"
     ]
    }
   ],
   "source": [
    "tabela3 = str.maketrans('aeiou', '12345', ',!?')\n",
    "texto = \"Olá, mundo! Tudo bem?\"\n",
    "texto_traduzido = texto.translate(tabela3)\n",
    "print(texto_traduzido)\n"
   ]
  },
  {
   "cell_type": "code",
   "execution_count": null,
   "id": "c4e3cdeb",
   "metadata": {},
   "outputs": [
    {
     "name": "stdout",
     "output_type": "stream",
     "text": [
      "th qck brwn fx\n"
     ]
    }
   ],
   "source": [
    "texto = 'the quick brown fox'\n",
    "resultado = ''.join(char for char in texto if char not in 'aeiou')\n",
    "print(resultado)  # 'th qck brwn fx'"
   ]
  },
  {
   "cell_type": "code",
   "execution_count": null,
   "id": "8b40a5bb",
   "metadata": {},
   "outputs": [
    {
     "name": "stdout",
     "output_type": "stream",
     "text": [
      "256\n",
      "[0, 1, 4, 9, 16, 25, 36, 49, 64, 81, 100, 121, 144, 169, 196, 225, 256, 289, 324, 361]\n",
      "[0, 1, 4, 9, 25, 36, 49, 64, 81, 100, 121, 144, 169, 196, 225, 256, 289, 324, 361]\n"
     ]
    }
   ],
   "source": [
    "spam = [x * x for x in range(20)]\n",
    "print(spam[spam[spam[2]]])\n",
    "print(spam)\n",
    "del spam[spam[2]]\n",
    "print(spam)"
   ]
  },
  {
   "cell_type": "code",
   "execution_count": null,
   "id": "7ab46ba1",
   "metadata": {},
   "outputs": [
    {
     "name": "stdout",
     "output_type": "stream",
     "text": [
      "[0, 2, 4, 6, 8]\n",
      "[1, 3, 5, 7, 9]\n"
     ]
    }
   ],
   "source": [
    "print([x for x in range(10) if not x%2])\n",
    "print([y for y in range(10) if y%2])"
   ]
  },
  {
   "cell_type": "code",
   "execution_count": null,
   "id": "b2a20b7d",
   "metadata": {},
   "outputs": [
    {
     "name": "stdout",
     "output_type": "stream",
     "text": [
      "[[0, 1, 2, 3], [0, 1, 2, 3], [0, 1, 2, 3], [0, 1, 2, 3]]\n",
      "[[5, 6, 7, 8], [5, 6, 7, 8], [5, 6, 7, 8], [5, 6, 7, 8]]\n"
     ]
    }
   ],
   "source": [
    "spam = [[x for x in range(4)] for y in range(4)]\n",
    "print(spam)\n",
    "for r in range(4):\n",
    "    for c in range(4):\n",
    "        spam[r][c] += 5\n",
    "print(spam)"
   ]
  },
  {
   "cell_type": "code",
   "execution_count": null,
   "id": "9ddf0347",
   "metadata": {},
   "outputs": [
    {
     "ename": "TypeError",
     "evalue": "'int' object is not subscriptable",
     "output_type": "error",
     "traceback": [
      "\u001b[31m---------------------------------------------------------------------------\u001b[39m",
      "\u001b[31mTypeError\u001b[39m                                 Traceback (most recent call last)",
      "\u001b[36mCell\u001b[39m\u001b[36m \u001b[39m\u001b[32mIn[194]\u001b[39m\u001b[32m, line 4\u001b[39m\n\u001b[32m      2\u001b[39m l = [\u001b[32m1\u001b[39m,\u001b[32m2\u001b[39m,\u001b[32m3\u001b[39m,\u001b[32m4\u001b[39m]\n\u001b[32m      3\u001b[39m \u001b[38;5;28;01mfor\u001b[39;00m i \u001b[38;5;129;01min\u001b[39;00m \u001b[38;5;28mrange\u001b[39m(\u001b[32m1\u001b[39m,\u001b[32m4\u001b[39m):\n\u001b[32m----> \u001b[39m\u001b[32m4\u001b[39m     \u001b[38;5;28;01mif\u001b[39;00m \u001b[43ml\u001b[49m\u001b[43m[\u001b[49m\u001b[32;43m1\u001b[39;49m\u001b[43m]\u001b[49m\u001b[43m[\u001b[49m\u001b[43mi\u001b[49m\u001b[43m]\u001b[49m % l[\u001b[32m2\u001b[39m][i] == \u001b[32m0\u001b[39m:\n\u001b[32m      5\u001b[39m         \u001b[38;5;28mprint\u001b[39m(\u001b[33m'\u001b[39m\u001b[33m*\u001b[39m\u001b[33m'\u001b[39m)\n",
      "\u001b[31mTypeError\u001b[39m: 'int' object is not subscriptable"
     ]
    }
   ],
   "source": [
    "#l = [[i for i in range(2)] for i in range(2)]\n",
    "l = [1,2,3,4]\n",
    "for i in range(1,4):\n",
    "    if l[1][i] % l[2][i] == 0:\n",
    "        print('*')"
   ]
  },
  {
   "cell_type": "code",
   "execution_count": null,
   "id": "fa29f569",
   "metadata": {},
   "outputs": [],
   "source": [
    "import sys\n",
    "\n",
    "# Salvar a saída padrão original\n",
    "original_stdout = sys.stdout\n",
    "\n",
    "# Redirecionar para um arquivo\n",
    "with open('saida.txt', 'w') as f:\n",
    "    sys.stdout = f\n",
    "    print(\"Isso vai para o arquivo\")\n",
    "    print(\"Outra linha no arquivo\")\n",
    "\n",
    "# Restaurar a saída padrão\n",
    "sys.stdout = original_stdout\n",
    "print(\"Isso volta para o terminal\")"
   ]
  },
  {
   "cell_type": "code",
   "execution_count": 202,
   "id": "797675fc",
   "metadata": {},
   "outputs": [
    {
     "name": "stdout",
     "output_type": "stream",
     "text": [
      "Good Bye\n"
     ]
    }
   ],
   "source": [
    "    import sys\n",
    "    temp = sys.stdout\n",
    "    sys.stdout = open('spam.txt', 'w')\n",
    "    print(\"Hello World\")\n",
    "    sys.stdout.close()\n",
    "    sys.stdout = temp\n",
    "    print(\"Good Bye\")"
   ]
  }
 ],
 "metadata": {
  "kernelspec": {
   "display_name": "Python 3",
   "language": "python",
   "name": "python3"
  },
  "language_info": {
   "codemirror_mode": {
    "name": "ipython",
    "version": 3
   },
   "file_extension": ".py",
   "mimetype": "text/x-python",
   "name": "python",
   "nbconvert_exporter": "python",
   "pygments_lexer": "ipython3",
   "version": "3.13.6"
  }
 },
 "nbformat": 4,
 "nbformat_minor": 5
}
