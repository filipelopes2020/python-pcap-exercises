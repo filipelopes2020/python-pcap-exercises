{
 "cells": [
  {
   "cell_type": "code",
   "execution_count": 5,
   "id": "5117949b",
   "metadata": {},
   "outputs": [
    {
     "name": "stdout",
     "output_type": "stream",
     "text": [
      "False\n",
      "True\n",
      "True\n",
      "False\n",
      "0.5 0.75\n",
      "<function f.<locals>.g at 0x00000209BC4FF880> <function f.<locals>.g at 0x00000209BC4FE980>\n"
     ]
    }
   ],
   "source": [
    "def f(x,y):\n",
    "    nom, denom = x , y\n",
    "    def g():\n",
    "        return nom / denom\n",
    "    return g\n",
    "    \n",
    "a = f(1,2)\n",
    "b = f(3,4)\n",
    "    \n",
    "print(b() == 4)       # False\n",
    "print(a != b)         # True\n",
    "print(a is not None)  # True\n",
    "print(a() == 4)       # False\n",
    "\n",
    "print(a(), b(), sep=' ')\n",
    "print(a,b, sep=' ')"
   ]
  },
  {
   "cell_type": "code",
   "execution_count": 9,
   "id": "99bff9ec",
   "metadata": {},
   "outputs": [
    {
     "name": "stdout",
     "output_type": "stream",
     "text": [
      "True True False\n",
      "A\n"
     ]
    }
   ],
   "source": [
    "class A:\n",
    "    pass\n",
    "class MyClass(A):\n",
    "    Var1 = 0\n",
    "    def __init__(self):\n",
    "        self.prop1 = \"value\"\n",
    "    \n",
    "obj = MyClass()\n",
    "    \n",
    "print(hasattr(obj, 'Var1'), end=\" \")  # Output: True\n",
    "print(hasattr(MyClass, 'Var1'), end=\" \")  # Output: True\n",
    "print(hasattr(MyClass, 'prop1'))      # Output: True\n",
    "print(MyClass.__bases__[0].__name__)"
   ]
  },
  {
   "cell_type": "code",
   "execution_count": 10,
   "id": "ce39ede9",
   "metadata": {},
   "outputs": [
    {
     "ename": "TypeError",
     "evalue": "isinstance() arg 2 must be a type, a tuple of types, or a union",
     "output_type": "error",
     "traceback": [
      "\u001b[31m---------------------------------------------------------------------------\u001b[39m",
      "\u001b[31mTypeError\u001b[39m                                 Traceback (most recent call last)",
      "\u001b[36mCell\u001b[39m\u001b[36m \u001b[39m\u001b[32mIn[10]\u001b[39m\u001b[32m, line 12\u001b[39m\n\u001b[32m     10\u001b[39m x = Z()\n\u001b[32m     11\u001b[39m z = Z()\n\u001b[32m---> \u001b[39m\u001b[32m12\u001b[39m \u001b[38;5;28mprint\u001b[39m(\u001b[38;5;28;43misinstance\u001b[39;49m\u001b[43m \u001b[49m\u001b[43m(\u001b[49m\u001b[43mx\u001b[49m\u001b[43m,\u001b[49m\u001b[43m \u001b[49m\u001b[43mz\u001b[49m\u001b[43m)\u001b[49m)   \n",
      "\u001b[31mTypeError\u001b[39m: isinstance() arg 2 must be a type, a tuple of types, or a union"
     ]
    }
   ],
   "source": [
    "class X:\n",
    "    pass\n",
    "    \n",
    "class Y(X):\n",
    "    pass\n",
    "    \n",
    "class Z(Y):\n",
    "    pass\n",
    "    \n",
    "x = Z()\n",
    "z = Z()\n",
    "print(isinstance (x, z))   "
   ]
  },
  {
   "cell_type": "code",
   "execution_count": 11,
   "id": "a79b79ad",
   "metadata": {},
   "outputs": [
    {
     "ename": "SyntaxError",
     "evalue": "cannot assign to expression here. Maybe you meant '==' instead of '='? (3141013670.py, line 4)",
     "output_type": "error",
     "traceback": [
      "  \u001b[36mCell\u001b[39m\u001b[36m \u001b[39m\u001b[32mIn[11]\u001b[39m\u001b[32m, line 4\u001b[39m\n\u001b[31m    \u001b[39m\u001b[31mif i % 2 = 0:   # SyntaxError: cannot assign to expression here. Maybe you meant '==' instead of '='?\u001b[39m\n       ^\n\u001b[31mSyntaxError\u001b[39m\u001b[31m:\u001b[39m cannot assign to expression here. Maybe you meant '==' instead of '='?\n"
     ]
    }
   ],
   "source": [
    "i = 5\n",
    "while i > 0:\n",
    "    i = i // 2\n",
    "    if i % 2 = 0:   # SyntaxError: cannot assign to expression here. Maybe you meant '==' instead of '='?\n",
    "        break\n",
    "else:\n",
    "    i += 1\n",
    "    \n",
    "print(i)   # would have print out 2 if the code does not have a syntax error."
   ]
  },
  {
   "cell_type": "code",
   "execution_count": 12,
   "id": "5804bfb7",
   "metadata": {},
   "outputs": [
    {
     "name": "stdout",
     "output_type": "stream",
     "text": [
      "3\n"
     ]
    }
   ],
   "source": [
    "print(7//2)  # 3"
   ]
  },
  {
   "cell_type": "code",
   "execution_count": 15,
   "id": "e1f2961b",
   "metadata": {},
   "outputs": [
    {
     "name": "stdout",
     "output_type": "stream",
     "text": [
      "[0, 1, 2, 3, 4]\n",
      "[0, 1]\n"
     ]
    }
   ],
   "source": [
    "l1 = [x for x in range(5)]\n",
    "print(l1)                     # [0, 1, 2, 3, 4]\n",
    "l2 = list(filter (lambda y: y//2 == 0, l1))\n",
    "print(l2)  # [0, 1]"
   ]
  },
  {
   "cell_type": "code",
   "execution_count": null,
   "id": "667fc9d3",
   "metadata": {},
   "outputs": [
    {
     "name": "stdout",
     "output_type": "stream",
     "text": [
      "[(0, 0), (0, 1), (0, 2), (1, 0), (1, 1), (1, 2), (2, 0), (2, 1), (2, 2)]\n"
     ]
    }
   ],
   "source": [
    "result = [(x, y) for x in range(2) for y in range(3)]\n",
    "print(result)"
   ]
  },
  {
   "cell_type": "code",
   "execution_count": 4,
   "id": "2b03fdff",
   "metadata": {},
   "outputs": [
    {
     "name": "stdout",
     "output_type": "stream",
     "text": [
      "2 (1, 5) {'x': 4, 'y': 3}\n"
     ]
    }
   ],
   "source": [
    "def func(a, *args, **kwargs):\n",
    "    print(a, args, kwargs)\n",
    "    \n",
    "func(2, 1, 5, x=4, y=3)   # print 2 (1, 5) {'x': 4, 'y': 3}"
   ]
  },
  {
   "cell_type": "code",
   "execution_count": 5,
   "id": "0956853c",
   "metadata": {},
   "outputs": [
    {
     "name": "stdout",
     "output_type": "stream",
     "text": [
      "(self, mensagem: str, vezes: int = 1) -> None\n"
     ]
    }
   ],
   "source": [
    "import inspect\n",
    "\n",
    "class Pessoa:\n",
    "    def falar(self, mensagem: str, vezes: int = 1) -> None:\n",
    "        for _ in range(vezes):\n",
    "            print(mensagem)\n",
    "\n",
    "# Obter a assinatura do método 'falar'\n",
    "sig = inspect.signature(Pessoa.falar)\n",
    "print(sig)\n"
   ]
  },
  {
   "cell_type": "code",
   "execution_count": 10,
   "id": "a988bfa8",
   "metadata": {},
   "outputs": [
    {
     "name": "stdout",
     "output_type": "stream",
     "text": [
      "[5, 5, 5]\n"
     ]
    }
   ],
   "source": [
    "list1 = [2, 3, 4]\n",
    "list2 = [ x + 1 for x in list1 * 3 if x > 3 ]\n",
    "print(list2)   # print [5, 5, 5]"
   ]
  },
  {
   "cell_type": "code",
   "execution_count": 19,
   "id": "17d082e9",
   "metadata": {},
   "outputs": [
    {
     "name": "stdout",
     "output_type": "stream",
     "text": [
      "[1, 2, 3, 4, 4, 6, 7, 8, 9, 10]\n"
     ]
    }
   ],
   "source": [
    "x = [1,2,3,4,4,6,7,8,9]\n",
    "x.append(10)\n",
    "\n",
    "print(x)\n",
    "  \n"
   ]
  },
  {
   "cell_type": "code",
   "execution_count": 23,
   "id": "6ef3e0a7",
   "metadata": {},
   "outputs": [
    {
     "name": "stdout",
     "output_type": "stream",
     "text": [
      "55\n"
     ]
    }
   ],
   "source": [
    "class MyClass:\n",
    "    def __init__(self, value):\n",
    "        self.value = value\n",
    "    \n",
    "    def show(self, value):\n",
    "        self.value += 1\n",
    "        print(self.value*value)\n",
    "    \n",
    "obj = MyClass(10)\n",
    "obj.show(5)   # print 10"
   ]
  },
  {
   "cell_type": "code",
   "execution_count": 25,
   "id": "3f2eb81d",
   "metadata": {},
   "outputs": [
    {
     "name": "stdout",
     "output_type": "stream",
     "text": [
      "b 2\n",
      "a 1\n",
      "{'b': 2, 'a': 1}\n"
     ]
    }
   ],
   "source": [
    "def func(**kwargs):\n",
    "    for key, value in kwargs.items():\n",
    "        print(key, value)\n",
    "    print(kwargs)\n",
    "\n",
    "func(b=2, a=1)"
   ]
  },
  {
   "cell_type": "code",
   "execution_count": 31,
   "id": "a87342da",
   "metadata": {},
   "outputs": [
    {
     "name": "stdout",
     "output_type": "stream",
     "text": [
      "0 1 2 "
     ]
    }
   ],
   "source": [
    "for i in range(6):\n",
    "    if i == 3:\n",
    "        break\n",
    "    print(i, end=\" \")\n",
    "else:\n",
    "    print(\"Completed without break\")"
   ]
  },
  {
   "cell_type": "code",
   "execution_count": 36,
   "id": "b3714c91",
   "metadata": {},
   "outputs": [
    {
     "name": "stdout",
     "output_type": "stream",
     "text": [
      "True\n",
      "1.0\n"
     ]
    }
   ],
   "source": [
    "print(str(1//1) in '0123456789')\n",
    "print(str(1/1))"
   ]
  },
  {
   "cell_type": "code",
   "execution_count": 39,
   "id": "bb0cf7e5",
   "metadata": {},
   "outputs": [
    {
     "name": "stdout",
     "output_type": "stream",
     "text": [
      "4.0\n"
     ]
    }
   ],
   "source": [
    "from math import sqrt\n",
    "print(sqrt(16))"
   ]
  }
 ],
 "metadata": {
  "kernelspec": {
   "display_name": "Python 3",
   "language": "python",
   "name": "python3"
  },
  "language_info": {
   "codemirror_mode": {
    "name": "ipython",
    "version": 3
   },
   "file_extension": ".py",
   "mimetype": "text/x-python",
   "name": "python",
   "nbconvert_exporter": "python",
   "pygments_lexer": "ipython3",
   "version": "3.13.6"
  }
 },
 "nbformat": 4,
 "nbformat_minor": 5
}
