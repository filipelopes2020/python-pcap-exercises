{
 "cells": [
  {
   "cell_type": "code",
   "execution_count": 2,
   "id": "3567de09",
   "metadata": {},
   "outputs": [
    {
     "name": "stdout",
     "output_type": "stream",
     "text": [
      "None\n"
     ]
    }
   ],
   "source": [
    "class A:\n",
    "    def __init__(self):\n",
    "        pass\n",
    "    def spam(self):\n",
    "        pass\n",
    "    def ham(self):\n",
    "        return self.spam()\n",
    "a = A()\n",
    "print(a.ham())"
   ]
  },
  {
   "cell_type": "code",
   "execution_count": 8,
   "id": "afa83e16",
   "metadata": {},
   "outputs": [
    {
     "name": "stdout",
     "output_type": "stream",
     "text": [
      "vermelho\n"
     ]
    }
   ],
   "source": [
    "class Carro:\n",
    "    rodas = 4  # atributo de classe\n",
    "\n",
    "    def __init__(self, cor):\n",
    "        self.cor = cor  # atributo de instância\n",
    "\n",
    "    @classmethod\n",
    "    def info_rodas(cls):\n",
    "        # cls é a própria classe Carro\n",
    "        return f\"Um carro normalmente tem {cls.rodas} rodas.\"\n",
    "\n",
    "    @classmethod\n",
    "    def criar_vermelho(cls):\n",
    "        # Podemos criar uma nova instância usando cls()\n",
    "        return cls(\"vermelho\")\n",
    "\n",
    "#print(Carro.info_rodas())  \n",
    "# Saída: Um carro normalmente tem 4 rodas.\n",
    "meu_carro = Carro('branco')\n",
    "meu_carro = Carro.criar_vermelho()\n",
    "print(meu_carro.cor)  \n",
    "# Saída: vermelho\n"
   ]
  },
  {
   "cell_type": "code",
   "execution_count": 9,
   "id": "caa16519",
   "metadata": {},
   "outputs": [
    {
     "data": {
      "text/plain": [
       "5"
      ]
     },
     "execution_count": 9,
     "metadata": {},
     "output_type": "execute_result"
    }
   ],
   "source": [
    "def soma():\n",
    "    return 3+2\n",
    "soma()"
   ]
  },
  {
   "cell_type": "code",
   "execution_count": 10,
   "id": "c953bd40",
   "metadata": {},
   "outputs": [
    {
     "name": "stdout",
     "output_type": "stream",
     "text": [
      "Hello World\n"
     ]
    }
   ],
   "source": [
    "def spam():\n",
    "    class Ham:\n",
    "        def eggs(self):\n",
    "            print('Hello World')\n",
    "    return Ham()\n",
    "    \n",
    "spam().eggs()"
   ]
  },
  {
   "cell_type": "code",
   "execution_count": 11,
   "id": "003a2acf",
   "metadata": {},
   "outputs": [
    {
     "name": "stdout",
     "output_type": "stream",
     "text": [
      "Hello World\n"
     ]
    }
   ],
   "source": [
    "class Ham:\n",
    "    def eggs(self):\n",
    "        print('Hello World')\n",
    "\n",
    "obj = Ham()  # Criamos uma instância\n",
    "obj.eggs()   # Chamamos o método - imprime \"Hello World\""
   ]
  },
  {
   "cell_type": "code",
   "execution_count": 14,
   "id": "2ff56e5a",
   "metadata": {},
   "outputs": [
    {
     "name": "stdout",
     "output_type": "stream",
     "text": [
      "200 111 500\n"
     ]
    }
   ],
   "source": [
    "class Spam:\n",
    "    ham = 11\n",
    "    def __init__(self):\n",
    "        ham = 100\n",
    "    \n",
    "s, t = Spam(), Spam()\n",
    "s.ham, t.ham = 200, 300\n",
    "t.ham=111\n",
    "Spam.ham = 500\n",
    "print(s.ham, t.ham,Spam.ham)"
   ]
  },
  {
   "cell_type": "code",
   "execution_count": 15,
   "id": "133235ac",
   "metadata": {},
   "outputs": [],
   "source": [
    "class Spam:\n",
    "    ''' This is class Spam '''\n",
    "    pass"
   ]
  },
  {
   "cell_type": "code",
   "execution_count": null,
   "id": "c158debc",
   "metadata": {},
   "outputs": [
    {
     "name": "stdout",
     "output_type": "stream",
     "text": [
      "\n",
      "Esta função soma dois números.\n",
      "\n",
      "Parâmetros:\n",
      "a (int ou float): Primeiro número\n",
      "b (int ou float): Segundo número\n",
      "\n",
      "Retorna:\n",
      "int ou float: A soma de a e b.\n",
      "\n",
      "Help on function soma in module __main__:\n",
      "\n",
      "soma(a, b)\n",
      "    Esta função soma dois números.\n",
      "\n",
      "    Parâmetros:\n",
      "    a (int ou float): Primeiro número\n",
      "    b (int ou float): Segundo número\n",
      "\n",
      "    Retorna:\n",
      "    int ou float: A soma de a e b.\n",
      "\n",
      "None\n"
     ]
    }
   ],
   "source": [
    "def soma(a, b):\n",
    "    \"\"\"\n",
    "    Esta função soma dois números.\n",
    "    \n",
    "    Parâmetros:\n",
    "    a (int ou float): Primeiro número\n",
    "    b (int ou float): Segundo número\n",
    "    \n",
    "    Retorna:\n",
    "    int ou float: A soma de a e b.\n",
    "    \"\"\"\n",
    "    return a + b\n",
    "\n",
    "print(soma.__doc__)\n",
    "#print(help(soma))"
   ]
  },
  {
   "cell_type": "code",
   "execution_count": 22,
   "id": "1f9a63b5",
   "metadata": {},
   "outputs": [
    {
     "name": "stdout",
     "output_type": "stream",
     "text": [
      "Iterador com dados: 12, [1, 2, 3, 4, 6, 7, 7, 432, 23, 23, 23, 2] \n"
     ]
    }
   ],
   "source": [
    "class MeuIterador:\n",
    "    def __init__(self, dados):\n",
    "        self.dados = dados\n",
    "        self.index = 0\n",
    "\n",
    "    def __iter__(self):\n",
    "        return self\n",
    "\n",
    "    def __str__(self):\n",
    "        return f\"Iterador com dados: {len(self.dados)}, {self.dados} \"\n",
    "\n",
    "m=MeuIterador([1,2,3,4,6,7,7,432,23,23,23,2])\n",
    "print(m)"
   ]
  },
  {
   "cell_type": "code",
   "execution_count": 24,
   "id": "c77a2a9d",
   "metadata": {},
   "outputs": [
    {
     "name": "stdout",
     "output_type": "stream",
     "text": [
      "10\n",
      "20\n",
      "333\n"
     ]
    }
   ],
   "source": [
    "def gerador_simples():\n",
    "    yield 10\n",
    "    yield 20\n",
    "    yield 333\n",
    "\n",
    "for valor in gerador_simples():\n",
    "    print(valor)"
   ]
  },
  {
   "cell_type": "code",
   "execution_count": 25,
   "id": "8ccc9782",
   "metadata": {},
   "outputs": [
    {
     "name": "stdout",
     "output_type": "stream",
     "text": [
      "100\n",
      "200\n",
      "300\n"
     ]
    }
   ],
   "source": [
    "class MeuIterador:\n",
    "    def __init__(self, dados):\n",
    "        self.dados = dados\n",
    "        self.index = 0\n",
    "\n",
    "    def __iter__(self):\n",
    "        return self  # Retorna ele mesmo (é um iterador)\n",
    "\n",
    "    def __next__(self):\n",
    "        if self.index >= len(self.dados):\n",
    "            raise StopIteration  # Sinaliza que não há mais valores\n",
    "        valor = self.dados[self.index]\n",
    "        self.index += 1\n",
    "        return valor\n",
    "\n",
    "meu_iterador = MeuIterador([100, 200, 300])\n",
    "\n",
    "# Usando next()\n",
    "print(next(meu_iterador))  # Saída: 100\n",
    "print(next(meu_iterador))  # Saída: 200\n",
    "print(next(meu_iterador))  # Saída: 300\n",
    "# print(next(meu_iterador))  # Levantaria StopIteration\n"
   ]
  },
  {
   "cell_type": "code",
   "execution_count": 28,
   "id": "16effc7e",
   "metadata": {},
   "outputs": [
    {
     "name": "stdout",
     "output_type": "stream",
     "text": [
      "[1, 2, 3]\n"
     ]
    }
   ],
   "source": [
    "print(list(iter([1, 2, 3])))"
   ]
  },
  {
   "cell_type": "code",
   "execution_count": null,
   "id": "abc82235",
   "metadata": {},
   "outputs": [],
   "source": [
    "class Spam: \n",
    "    ham=0\n",
    "hasattr(Spam(), 'ham')"
   ]
  },
  {
   "cell_type": "code",
   "execution_count": null,
   "id": "b03e2004",
   "metadata": {},
   "outputs": [],
   "source": [
    "class A(object): pass\n",
    "class C(A): pass"
   ]
  },
  {
   "cell_type": "code",
   "execution_count": null,
   "id": "d5509024",
   "metadata": {},
   "outputs": [],
   "source": [
    "class A():\n",
    "    v = 1\n",
    "class B(A):\n",
    "    v=2\n",
    "\n",
    "a= A()    \n",
    "b=B()\n",
    "\n",
    "print(b.v, a.v)\n"
   ]
  },
  {
   "cell_type": "code",
   "execution_count": 37,
   "id": "418aad71",
   "metadata": {},
   "outputs": [
    {
     "name": "stdout",
     "output_type": "stream",
     "text": [
      "Ham.__init__() Ham.update() Spam.__init__() Spam.update() "
     ]
    },
    {
     "data": {
      "text/plain": [
       "<__main__.Spam at 0x2de381b4590>"
      ]
     },
     "execution_count": 37,
     "metadata": {},
     "output_type": "execute_result"
    }
   ],
   "source": [
    "class Ham:\n",
    "    def __init__(self):\n",
    "        print(type(self).__name__ + '.__init__()', end=' ')\n",
    "        self.__update()\n",
    "    def update(self):\n",
    "        print(type(self).__name__ + '.update()', end=' ')\n",
    "    __update = update\n",
    "    \n",
    "class Spam(Ham):\n",
    "    def update(self, param):\n",
    "        print(type(self).__name__ + '.update(param)', end=' ')\n",
    "\n",
    "Ham()\n",
    "Spam()"
   ]
  },
  {
   "cell_type": "code",
   "execution_count": 44,
   "id": "83173777",
   "metadata": {},
   "outputs": [],
   "source": [
    "O = object\n",
    "class F(O): pass\n",
    "class E(O): pass\n",
    "class D(O): pass\n",
    "class C(D,F): pass\n",
    "class B(D,E): pass\n",
    "class A(B,C): pass\n",
    "#class Foo(E, B, C): pass    # NOK\n",
    "#class Foo(C, B): pass       # ok\n",
    "#class Foo(C, A): pass       # ok\n",
    "#class Foo(A, B): pass       # ok\n",
    "#class Foo(B, C): pass       # ok\n",
    "#class Foo(A, C): pass       # ok\n",
    "#class Foo(B, A): pass        # NOK\n",
    "class Foo(C, B, E): pass    # ok"
   ]
  },
  {
   "cell_type": "code",
   "execution_count": 61,
   "id": "0cffbc42",
   "metadata": {},
   "outputs": [
    {
     "name": "stdout",
     "output_type": "stream",
     "text": [
      "1 2 1\n",
      "{'v1': 1} {'v2': 2, 'v1': 1}\n"
     ]
    }
   ],
   "source": [
    "class Ham:\n",
    "    def __init__(self):\n",
    "        self.v1 = 1\n",
    "class Spam(Ham):\n",
    "    x = 11\n",
    "    def __init__(self):        \n",
    "        self.v2 = 2\n",
    "        super().__init__()\n",
    "s = Spam()\n",
    "h = Ham()\n",
    "print(s.v1,s.v2,h.v1)\n",
    "print(h.__dict__, s.__dict__)\n",
    "#print(hasattr(s,'x1'), hasattr(s,'v1'), hasattr(s,'v2'))"
   ]
  },
  {
   "cell_type": "code",
   "execution_count": null,
   "id": "beb6ff47",
   "metadata": {},
   "outputs": [
    {
     "name": "stdout",
     "output_type": "stream",
     "text": [
      "__main__\n",
      "__main__\n",
      "__main__\n",
      "__main__\n"
     ]
    }
   ],
   "source": [
    "class Spam:\n",
    "    __ham, ham = '__ham', 'ham'\n",
    "    def __eggs(self):\n",
    "        pass\n",
    "    eggs = __eggs\n",
    " \n",
    "s = Spam()\n",
    "\n",
    "print(Spam.__module__)\n",
    "#print(s.ham.__module__) #AttributeError: 'str' object has no attribute '__module__'\n",
    "print(s.__module__)\n",
    "#print(__module__)  # NameError: name '__module__' is not defined\n",
    "print(s._Spam__eggs.__module__)\n",
    "print(s.eggs.__module__) "
   ]
  },
  {
   "cell_type": "code",
   "execution_count": null,
   "id": "f6c72f44",
   "metadata": {},
   "outputs": [
    {
     "ename": "AttributeError",
     "evalue": "type object 'Spam' has no attribute '__ham'",
     "output_type": "error",
     "traceback": [
      "\u001b[31m---------------------------------------------------------------------------\u001b[39m",
      "\u001b[31mAttributeError\u001b[39m                            Traceback (most recent call last)",
      "\u001b[36mCell\u001b[39m\u001b[36m \u001b[39m\u001b[32mIn[75]\u001b[39m\u001b[32m, line 8\u001b[39m\n\u001b[32m      4\u001b[39m         \u001b[38;5;28mself\u001b[39m.__ham = \u001b[32m100\u001b[39m\n\u001b[32m      7\u001b[39m s = Spam()\n\u001b[32m----> \u001b[39m\u001b[32m8\u001b[39m \u001b[38;5;28mprint\u001b[39m(s._Spam__ham, \u001b[43mSpam\u001b[49m\u001b[43m.\u001b[49m\u001b[43m__ham\u001b[49m)\n",
      "\u001b[31mAttributeError\u001b[39m: type object 'Spam' has no attribute '__ham'"
     ]
    }
   ],
   "source": [
    "class Spam:\n",
    "    __ham = 0\n",
    "    def __init__(self):\n",
    "        self.__ham = 100\n",
    "s = Spam()\n",
    "print(s._Spam__ham)\n"
   ]
  },
  {
   "cell_type": "code",
   "execution_count": 3,
   "id": "0d236e92",
   "metadata": {},
   "outputs": [
    {
     "ename": "TypeError",
     "evalue": "repr() takes exactly one argument (0 given)",
     "output_type": "error",
     "traceback": [
      "\u001b[31m---------------------------------------------------------------------------\u001b[39m",
      "\u001b[31mTypeError\u001b[39m                                 Traceback (most recent call last)",
      "\u001b[36mCell\u001b[39m\u001b[36m \u001b[39m\u001b[32mIn[3]\u001b[39m\u001b[32m, line 8\u001b[39m\n\u001b[32m      4\u001b[39m s = Spam()\n\u001b[32m      7\u001b[39m \u001b[38;5;66;03m#print(s.__repr__())\u001b[39;00m\n\u001b[32m----> \u001b[39m\u001b[32m8\u001b[39m \u001b[38;5;28mprint\u001b[39m(\u001b[38;5;28;43mrepr\u001b[39;49m\u001b[43m(\u001b[49m\u001b[43m)\u001b[49m)\n",
      "\u001b[31mTypeError\u001b[39m: repr() takes exactly one argument (0 given)"
     ]
    }
   ],
   "source": [
    "class Spam:\n",
    "    def __str__(self): return \"Spam\"\n",
    "    def __repr__(self): return \"repr\"\n",
    "s = Spam()\n",
    "\n",
    "\n",
    "#print(s.__repr__())\n",
    "print(repr())"
   ]
  },
  {
   "cell_type": "code",
   "execution_count": 6,
   "id": "693631d7",
   "metadata": {},
   "outputs": [
    {
     "name": "stdout",
     "output_type": "stream",
     "text": [
      "spam eggs eggs\n",
      "Food\n"
     ]
    }
   ],
   "source": [
    "F=type('Food',(),{'remember2buy':'spam'})\n",
    "E=type('Eggs',(F,),{'remember2buy':'eggs'})\n",
    "G=type('GoodFood',(E,F),{})\n",
    "print(F.remember2buy, E.remember2buy, G.remember2buy)\n",
    "print(F.__name__) "
   ]
  },
  {
   "cell_type": "code",
   "execution_count": 5,
   "id": "b6464a53",
   "metadata": {},
   "outputs": [
    {
     "name": "stdout",
     "output_type": "stream",
     "text": [
      "{'__module__': '__main__', '__firstlineno__': 1, '__init__': <function Person.__init__ at 0x000001EF91765120>, 'name': 'John', 'age': 36, 'country': 'USA', '__static_attributes__': ('k',), '__dict__': <attribute '__dict__' of 'Person' objects>, '__weakref__': <attribute '__weakref__' of 'Person' objects>, '__doc__': None}\n",
      "{'k': 10}\n",
      "{'k': 10}\n"
     ]
    }
   ],
   "source": [
    "class Person:\n",
    "    def __init__(self):\n",
    "        self.k=10\n",
    "        \n",
    "    name = \"John\"\n",
    "    age = 36\n",
    "    country = \"USA\"\n",
    "p = Person()\n",
    "\n",
    "print(vars(Person))\n",
    "print(vars(p))\n",
    "print(p.__dict__)"
   ]
  },
  {
   "cell_type": "code",
   "execution_count": 7,
   "id": "475bc978",
   "metadata": {},
   "outputs": [
    {
     "name": "stdout",
     "output_type": "stream",
     "text": [
      "Ham.__init__() Ham.update()\n"
     ]
    },
    {
     "data": {
      "text/plain": [
       "<__main__.Ham at 0x1ef91755940>"
      ]
     },
     "execution_count": 7,
     "metadata": {},
     "output_type": "execute_result"
    }
   ],
   "source": [
    "class Ham:\n",
    "    def __init__(self):\n",
    "        print(type(self).__name__ + '.__init__()', end=' ')\n",
    "        self.__update()\n",
    "    def update(self):\n",
    "        print(type(self).__name__ + '.update()')\n",
    "    __update = update\n",
    "    \n",
    "Ham()"
   ]
  },
  {
   "cell_type": "code",
   "execution_count": 37,
   "id": "fbf7e240",
   "metadata": {},
   "outputs": [
    {
     "name": "stdout",
     "output_type": "stream",
     "text": [
      "__main__\n",
      "__main__\n",
      "um Spam\n",
      "um <class '__main__.Spam'>\n",
      "dois Spam\n",
      "['__class__', '__delattr__', '__dict__', '__dir__', '__doc__', '__eq__', '__firstlineno__', '__format__', '__ge__', '__getattribute__', '__getstate__', '__gt__', '__hash__', '__init__', '__init_subclass__', '__le__', '__lt__', '__module__', '__ne__', '__new__', '__reduce__', '__reduce_ex__', '__repr__', '__setattr__', '__sizeof__', '__static_attributes__', '__str__', '__subclasshook__', '__weakref__', 'v', 'v0']\n"
     ]
    }
   ],
   "source": [
    "class Spam:\n",
    "    def __init__(self):\n",
    "        self.v = 10\n",
    "    def v0(self):\n",
    "        print(__name__)\n",
    "print(__name__)\n",
    "s = Spam()\n",
    "s.v0()\n",
    "print(\"um\",s.__class__.__name__)\n",
    "print(\"um\",s.__class__)\n",
    "print(\"dois\",Spam.__name__)\n",
    "#print(s.__name__)\n",
    "print(dir(s))"
   ]
  },
  {
   "cell_type": "code",
   "execution_count": 28,
   "id": "c8da50d6",
   "metadata": {},
   "outputs": [
    {
     "name": "stdout",
     "output_type": "stream",
     "text": [
      "Spam\n",
      "repr\n"
     ]
    }
   ],
   "source": [
    "class Spam:\n",
    "    def v0(self):\n",
    "        print(__name__)\n",
    "    def __str__(self):\n",
    "        return \"Spam\"\n",
    "    def __repr__(self):\n",
    "        return \"repr\"   \n",
    "    def __init__(self):\n",
    "        self.k=10\n",
    "s=Spam()\n",
    "#print(dir(Spam()))\n",
    "print(s)\n",
    "\n",
    "print(s.__repr__())\n",
    "\n"
   ]
  },
  {
   "cell_type": "code",
   "execution_count": 42,
   "id": "427bfa5c",
   "metadata": {},
   "outputs": [
    {
     "data": {
      "text/plain": [
       "False"
      ]
     },
     "execution_count": 42,
     "metadata": {},
     "output_type": "execute_result"
    }
   ],
   "source": [
    "class A(object): pass\n",
    "class B(object): pass\n",
    "class C(object): pass\n",
    "class D(object): pass\n",
    "class E(object): pass\n",
    "class K1(A,B,C): pass\n",
    "class K2(D,B,E): pass\n",
    "class K3(D,A): pass\n",
    "k = K3()\n",
    "\t\n",
    "#isinstance(k, (list, A, B, C, D, E))\n",
    "#isinstance(k, D)\n",
    "isinstance(k, (list, K1, K2))\n",
    "#isinstance(k, (list, K2, K3))\n",
    "\n",
    "#isinstance(k, K3) \t"
   ]
  },
  {
   "cell_type": "code",
   "execution_count": 52,
   "id": "dfecafdc",
   "metadata": {},
   "outputs": [],
   "source": [
    "O = object\n",
    "class X(O): pass\n",
    "class Y(O): pass\n",
    "class A(X, Y): pass\n",
    "class B(X, Y): pass  # Changed inheritance order to match A\n",
    "\n",
    "#class Foo(Y, B): pass # NOK\n",
    "#class Foo(B, Y): pass\n",
    "#class Foo(X, A): pass\n",
    "#class Foo(A, X): pass\n",
    "\n",
    "#class Foo(B, A): pass\n",
    "class Foo(A, B): pass\n",
    "\n",
    "#print(B.__mro__)"
   ]
  },
  {
   "cell_type": "code",
   "execution_count": 104,
   "id": "73beec95",
   "metadata": {},
   "outputs": [
    {
     "name": "stdout",
     "output_type": "stream",
     "text": [
      "10 of Joao(funcao str definida fora da classe)\n",
      "{'name': 'Joao', 'quantity': 10}\n",
      "Food\n",
      "<class '__main__.Food'>\n"
     ]
    }
   ],
   "source": [
    "def init(self, name, quantity):\n",
    "    self.name = name\n",
    "    self.quantity = quantity\n",
    "\n",
    "def str(self):\n",
    "    return f\"{self.quantity} of {self.name}(funcao str definida fora da classe)\"\n",
    "\n",
    "F=type('Food',(),{'remember2buy':'spam', '__init__':init, '__str__': str})\n",
    "E=type('Eggs',(F,),{'remember2buy':'eggs'})\n",
    "G=type('GoodFood',(E,F),{})\n",
    "#print(F.__methods__, E.__name__, G.__name__)\n",
    "#print(dir(F))\n",
    "f = F(\"Joao\", 10)\n",
    "print(f)\n",
    "print(f.__dict__)\n",
    "print(F.__name__)\n",
    "print(type(f))\n",
    "\n"
   ]
  },
  {
   "cell_type": "code",
   "execution_count": 119,
   "id": "41bf9b0b",
   "metadata": {},
   "outputs": [
    {
     "name": "stdout",
     "output_type": "stream",
     "text": [
      "Ham2\n"
     ]
    }
   ],
   "source": [
    "class Ham:\n",
    "    def __str__(self): return \"Ham2\"\n",
    "    \n",
    "class Spam(Ham): pass\n",
    "p=Spam()\n",
    "#print(Spam())\n",
    "print(p)"
   ]
  },
  {
   "cell_type": "code",
   "execution_count": 121,
   "id": "0af3577f",
   "metadata": {},
   "outputs": [
    {
     "name": "stdout",
     "output_type": "stream",
     "text": [
      "100 101\n"
     ]
    }
   ],
   "source": [
    "class Spam:\n",
    "    def __init__(self, v):\n",
    "        self.ham = v\n",
    "        self.__ham = self.ham + 1\n",
    "s = Spam(100)\n",
    "print(s.ham ,s._Spam__ham)"
   ]
  },
  {
   "cell_type": "code",
   "execution_count": 130,
   "id": "94835c2c",
   "metadata": {},
   "outputs": [
    {
     "name": "stdout",
     "output_type": "stream",
     "text": [
      "True\n"
     ]
    }
   ],
   "source": [
    "class X:\n",
    "    pass\n",
    "class Y:\n",
    "    pass\n",
    "class Z(X, Y):\n",
    "    pass\n",
    "print(issubclass(Z, (Y,X)))"
   ]
  },
  {
   "cell_type": "code",
   "execution_count": null,
   "id": "ee6ccbe1",
   "metadata": {},
   "outputs": [
    {
     "name": "stdout",
     "output_type": "stream",
     "text": [
      "1 2 3 4 5 "
     ]
    }
   ],
   "source": [
    "class MyRange:\n",
    "    def __init__(self, start, end):\n",
    "        self.current = start\n",
    "        self.end = end\n",
    "\n",
    "    def __iter__(self):\n",
    "        return self  # retorna o próprio objeto iterador\n",
    "\n",
    "    def __next__(self):\n",
    "        if self.current > self.end:\n",
    "            raise StopIteration  # fim do iterador\n",
    "        value = self.current\n",
    "        self.current += 1\n",
    "        return value\n",
    "\n",
    "for num in MyRange(1, 5):\n",
    "    print(num, end=' ')"
   ]
  },
  {
   "cell_type": "code",
   "execution_count": null,
   "id": "41d7acef",
   "metadata": {},
   "outputs": [],
   "source": [
    "it = iter([1, 2])\n",
    "next(it)  # 1\n",
    "next(it)  # 2\n",
    "next(it)  # -> aqui é levantado StopIteration"
   ]
  },
  {
   "cell_type": "code",
   "execution_count": 139,
   "id": "5349da2e",
   "metadata": {},
   "outputs": [
    {
     "name": "stdout",
     "output_type": "stream",
     "text": [
      "Hello World\n"
     ]
    }
   ],
   "source": [
    "def spam():\n",
    "    class Ham:\n",
    "        def eggs(self):\n",
    "            print('Hello World')    \n",
    "    h = Ham()\n",
    "    h.eggs()\n",
    "\n",
    "    return\n",
    "    \n",
    "spam()"
   ]
  },
  {
   "cell_type": "code",
   "execution_count": 142,
   "id": "38117266",
   "metadata": {},
   "outputs": [
    {
     "name": "stdout",
     "output_type": "stream",
     "text": [
      "['spam'] 301 ['ham'] 200 300\n"
     ]
    }
   ],
   "source": [
    "class MyClass:\n",
    "    FOO = 100\n",
    "    def __init__(self):\n",
    "        self.bar = [] \n",
    "    def add(self, p):\n",
    "        self.bar.append(p)\n",
    "        \n",
    "d, e = MyClass(), MyClass()\n",
    "d.add('spam')\n",
    "e.add('ham')\n",
    "e.FOO = 200\n",
    "d.FOO = 301\n",
    "MyClass.FOO = 300\n",
    "print(d.bar, d.FOO, e.bar, e.FOO, MyClass.FOO)\n"
   ]
  },
  {
   "cell_type": "code",
   "execution_count": 145,
   "id": "6270790a",
   "metadata": {},
   "outputs": [
    {
     "name": "stdout",
     "output_type": "stream",
     "text": [
      "eggs ham eggs\n"
     ]
    }
   ],
   "source": [
    "class Foo:\n",
    "    bar = 'spam'\n",
    "    \n",
    "f1 = Foo()\n",
    "f2 = Foo()\n",
    "f2.bar = 'ham'\n",
    "Foo.bar = 'eggs'\n",
    "#f1.bar='batatas'\n",
    "print(f1.bar, f2.bar, Foo.bar)"
   ]
  },
  {
   "cell_type": "code",
   "execution_count": 153,
   "id": "2dbe55e5",
   "metadata": {},
   "outputs": [
    {
     "ename": "TypeError",
     "evalue": "isinstance() arg 2 must be a type, a tuple of types, or a union",
     "output_type": "error",
     "traceback": [
      "\u001b[31m---------------------------------------------------------------------------\u001b[39m",
      "\u001b[31mTypeError\u001b[39m                                 Traceback (most recent call last)",
      "\u001b[36mCell\u001b[39m\u001b[36m \u001b[39m\u001b[32mIn[153]\u001b[39m\u001b[32m, line 7\u001b[39m\n\u001b[32m      4\u001b[39m x, y, z = X(), Y(), Z()\n\u001b[32m      6\u001b[39m \u001b[38;5;66;03m#isinstance(z, (Z,X, Y))\u001b[39;00m\n\u001b[32m----> \u001b[39m\u001b[32m7\u001b[39m \u001b[38;5;28;43misinstance\u001b[39;49m\u001b[43m(\u001b[49m\u001b[43m(\u001b[49m\u001b[38;5;28;43mlist\u001b[39;49m\u001b[43m,\u001b[49m\u001b[43m \u001b[49m\u001b[43mX\u001b[49m\u001b[43m,\u001b[49m\u001b[43m \u001b[49m\u001b[43mY\u001b[49m\u001b[43m)\u001b[49m\u001b[43m,\u001b[49m\u001b[43m \u001b[49m\u001b[43mz\u001b[49m\u001b[43m)\u001b[49m\n",
      "\u001b[31mTypeError\u001b[39m: isinstance() arg 2 must be a type, a tuple of types, or a union"
     ]
    }
   ],
   "source": [
    "class X: pass\n",
    "class Y: pass\n",
    "class Z(X, Y): pass\n",
    "x, y, z = X(), Y(), Z()\n",
    "\n",
    "#isinstance(z, (Z,X, Y))\n",
    "isinstance((list, X, Y), z)"
   ]
  },
  {
   "cell_type": "code",
   "execution_count": 159,
   "id": "1da5ee2f",
   "metadata": {},
   "outputs": [
    {
     "name": "stdout",
     "output_type": "stream",
     "text": [
      "Ham.__init__() Ham.update(param) 12\n"
     ]
    },
    {
     "data": {
      "text/plain": [
       "<__main__.Ham at 0x1ef9205de80>"
      ]
     },
     "execution_count": 159,
     "metadata": {},
     "output_type": "execute_result"
    }
   ],
   "source": [
    "class Ham:\n",
    "    def __init__(self):\n",
    "        print(type(self).__name__ + '.__init__()', end=' ')\n",
    "        self.update(12)\n",
    "    def update(self):\n",
    "        print(type(self).__name__ + '.update()', end=' ')\n",
    "    def update(self, param):\n",
    "    #def update(self):\n",
    "        print(type(self).__name__ + '.update(param)', end=' ')\n",
    "        print(param)\n",
    "Ham()"
   ]
  },
  {
   "cell_type": "code",
   "execution_count": 165,
   "id": "3462adcb",
   "metadata": {},
   "outputs": [
    {
     "name": "stdout",
     "output_type": "stream",
     "text": [
      "<class '__main__.A'>\n"
     ]
    }
   ],
   "source": [
    "class A:\n",
    "    def __init__(self):\n",
    "        pass\n",
    "    def spam(self):\n",
    "        return \"spam\"\n",
    "    def ham(self):\n",
    "        return self.spam()\n",
    "\n",
    "a = A()\n",
    "a.ham()\n",
    "print(type(a))"
   ]
  },
  {
   "cell_type": "code",
   "execution_count": null,
   "id": "b0355030",
   "metadata": {},
   "outputs": [
    {
     "name": "stdout",
     "output_type": "stream",
     "text": [
      "(<class 'object'>,)\n"
     ]
    }
   ],
   "source": [
    "class Spam:\n",
    "    __ham, ham = '__ham', 'ham'\n",
    "    def __eggs(self):\n",
    "        pass\n",
    "    eggs = __eggs\n",
    " \n",
    "s = Spam()\n",
    "\n",
    "#print(s._Spam__eggs.__bases__)  --> NOK\n",
    "#print(type(s))\n",
    "#print(type(s).__bases__)\n",
    "#print(type(s.eggs))\n",
    "#print(type(s.eggs).__bases__)\n",
    "#print(Spam.__bases__)\n",
    "print(s.ham.__bases__)"
   ]
  },
  {
   "cell_type": "code",
   "execution_count": 176,
   "id": "13953752",
   "metadata": {},
   "outputs": [
    {
     "name": "stdout",
     "output_type": "stream",
     "text": [
      "True\n",
      "True\n"
     ]
    }
   ],
   "source": [
    "class Spam:\n",
    "    ham = 36\n",
    "spam = Spam()\n",
    "\n",
    "print(hasattr(Spam, 'ham'))\n",
    "print(hasattr(spam, 'ham'))"
   ]
  },
  {
   "cell_type": "code",
   "execution_count": 180,
   "id": "0be45e93",
   "metadata": {},
   "outputs": [
    {
     "name": "stdout",
     "output_type": "stream",
     "text": [
      "Hello Batatas\n"
     ]
    }
   ],
   "source": [
    "def foo(self, p):\n",
    "     print('Hello',p)\n",
    "class Spam:\n",
    "     bar = foo  \n",
    "     \n",
    "s = Spam()\n",
    "s.bar('Batatas')\n"
   ]
  }
 ],
 "metadata": {
  "kernelspec": {
   "display_name": "Python 3",
   "language": "python",
   "name": "python3"
  },
  "language_info": {
   "codemirror_mode": {
    "name": "ipython",
    "version": 3
   },
   "file_extension": ".py",
   "mimetype": "text/x-python",
   "name": "python",
   "nbconvert_exporter": "python",
   "pygments_lexer": "ipython3",
   "version": "3.13.6"
  }
 },
 "nbformat": 4,
 "nbformat_minor": 5
}
