{
 "cells": [
  {
   "cell_type": "code",
   "execution_count": 1,
   "id": "68b66cae",
   "metadata": {},
   "outputs": [
    {
     "name": "stdout",
     "output_type": "stream",
     "text": [
      "['DEBUG_COLLECTABLE', 'DEBUG_LEAK', 'DEBUG_SAVEALL', 'DEBUG_STATS', 'DEBUG_UNCOLLECTABLE', '__doc__', '__loader__', '__name__', '__package__', '__spec__', 'callbacks', 'collect', 'disable', 'enable', 'freeze', 'garbage', 'get_count', 'get_debug', 'get_freeze_count', 'get_objects', 'get_referents', 'get_referrers', 'get_stats', 'get_threshold', 'is_finalized', 'is_tracked', 'isenabled', 'set_debug', 'set_threshold', 'unfreeze']\n"
     ]
    }
   ],
   "source": [
    "import gc\n",
    "print(dir(gc))"
   ]
  },
  {
   "cell_type": "code",
   "execution_count": 3,
   "id": "ca7b49cb",
   "metadata": {},
   "outputs": [
    {
     "name": "stdout",
     "output_type": "stream",
     "text": [
      "2\n"
     ]
    }
   ],
   "source": [
    "print(True + True)"
   ]
  },
  {
   "cell_type": "code",
   "execution_count": 4,
   "id": "8b933317",
   "metadata": {},
   "outputs": [
    {
     "ename": "ZeroDivisionError",
     "evalue": "message",
     "output_type": "error",
     "traceback": [
      "\u001b[31m---------------------------------------------------------------------------\u001b[39m",
      "\u001b[31mZeroDivisionError\u001b[39m                         Traceback (most recent call last)",
      "\u001b[36mCell\u001b[39m\u001b[36m \u001b[39m\u001b[32mIn[4]\u001b[39m\u001b[32m, line 1\u001b[39m\n\u001b[32m----> \u001b[39m\u001b[32m1\u001b[39m \u001b[38;5;28;01mraise\u001b[39;00m \u001b[38;5;167;01mZeroDivisionError\u001b[39;00m(\u001b[33m\"\u001b[39m\u001b[33mmessage\u001b[39m\u001b[33m\"\u001b[39m)\n",
      "\u001b[31mZeroDivisionError\u001b[39m: message"
     ]
    }
   ],
   "source": [
    " raise ZeroDivisionError(\"message\")"
   ]
  },
  {
   "cell_type": "code",
   "execution_count": null,
   "id": "11e4829d",
   "metadata": {},
   "outputs": [
    {
     "name": "stdout",
     "output_type": "stream",
     "text": [
      "['False', 'None', 'True', 'and', 'as', 'assert', 'async', 'await', 'break', 'class', 'continue', 'def', 'del', 'elif', 'else', 'except', 'finally', 'for', 'from', 'global', 'if', 'import', 'in', 'is', 'lambda', 'nonlocal', 'not', 'or', 'pass', 'raise', 'return', 'try', 'while', 'with', 'yield']\n"
     ]
    }
   ],
   "source": [
    "import keyword; print(keyword.kwlist)\n",
    "\n"
   ]
  },
  {
   "cell_type": "code",
   "execution_count": 9,
   "id": "468899e9",
   "metadata": {},
   "outputs": [
    {
     "data": {
      "text/plain": [
       "True"
      ]
     },
     "execution_count": 9,
     "metadata": {},
     "output_type": "execute_result"
    }
   ],
   "source": [
    "5 == 5.00\n"
   ]
  },
  {
   "cell_type": "code",
   "execution_count": 17,
   "id": "91fa8809",
   "metadata": {},
   "outputs": [
    {
     "name": "stdout",
     "output_type": "stream",
     "text": [
      "(1, 2) {'a': 3, 'b': 4}\n"
     ]
    }
   ],
   "source": [
    "def combine(*args, **kwargs): \n",
    "    print(args, kwargs)\n",
    "    \n",
    "combine(1, 2, a=3, b=4)"
   ]
  },
  {
   "cell_type": "code",
   "execution_count": 16,
   "id": "68ae1e39",
   "metadata": {},
   "outputs": [
    {
     "name": "stdout",
     "output_type": "stream",
     "text": [
      "Nome: Ana\n",
      "Args (tupla): (1, 2, 3)\n",
      "Kwargs (dicionário): {'idade': 25, 'cidade': 'Rio'}\n"
     ]
    }
   ],
   "source": [
    "# Exemplo combinado\n",
    "def exemplo_completo(nome, *args, **kwargs):\n",
    "    print(f\"Nome: {nome}\")\n",
    "    print(f\"Args (tupla): {args}\")\n",
    "    print(f\"Kwargs (dicionário): {kwargs}\")\n",
    "\n",
    "exemplo_completo(\"Ana\", 1, 2, 3, idade=25, cidade=\"Rio\")\n",
    "# Nome: Ana\n",
    "# Args (tupla): (1, 2, 3)\n",
    "# Kwargs (dicionário): {'idade': 25, 'cidade': 'Rio'}"
   ]
  }
 ],
 "metadata": {
  "kernelspec": {
   "display_name": "Python 3",
   "language": "python",
   "name": "python3"
  },
  "language_info": {
   "codemirror_mode": {
    "name": "ipython",
    "version": 3
   },
   "file_extension": ".py",
   "mimetype": "text/x-python",
   "name": "python",
   "nbconvert_exporter": "python",
   "pygments_lexer": "ipython3",
   "version": "3.13.6"
  }
 },
 "nbformat": 4,
 "nbformat_minor": 5
}
