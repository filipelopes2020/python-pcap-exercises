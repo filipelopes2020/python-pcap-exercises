{
 "cells": [
  {
   "cell_type": "code",
   "execution_count": 66,
   "id": "7e6702fe",
   "metadata": {},
   "outputs": [
    {
     "data": {
      "text/plain": [
       "1"
      ]
     },
     "execution_count": 66,
     "metadata": {},
     "output_type": "execute_result"
    }
   ],
   "source": [
    "def f():\n",
    "    try:\n",
    "        return 0\n",
    "    finally:\n",
    "        return 1\n",
    "\n",
    "f()"
   ]
  },
  {
   "cell_type": "code",
   "execution_count": 3,
   "id": "66ba26a5",
   "metadata": {},
   "outputs": [
    {
     "name": "stdout",
     "output_type": "stream",
     "text": [
      "No bloco try\n",
      "No bloco finally\n",
      "retorno do try\n"
     ]
    }
   ],
   "source": [
    "def exemplo():\n",
    "    try:\n",
    "        print(\"No bloco try\")\n",
    "        return \"retorno do try\"\n",
    "    finally:\n",
    "        print(\"No bloco finally\")\n",
    "        #return \"retorno do finally\"\n",
    "\n",
    "resultado = exemplo()\n",
    "print(resultado)  # Output: \"retorno do finally\""
   ]
  },
  {
   "cell_type": "code",
   "execution_count": 9,
   "id": "bf1c2267",
   "metadata": {},
   "outputs": [
    {
     "name": "stdout",
     "output_type": "stream",
     "text": [
      "=== Teste 1: Divisão normal ===\n",
      "Erro: Divisão por zero não é permitida!\n",
      "Finalizando operação de divisão\n"
     ]
    }
   ],
   "source": [
    "def dividir_numeros(a, b):\n",
    "    try:\n",
    "        resultado = a / b\n",
    "        print(f\"Divisão realizada: {resultado}\")\n",
    "        #return resultado\n",
    "        \n",
    "    except ZeroDivisionError:\n",
    "        print(\"Erro: Divisão por zero não é permitida!\")\n",
    "        \n",
    "    except TypeError as e:\n",
    "        print(f\"Erro de tipo: {e}\")\n",
    "        \n",
    "    else:\n",
    "        print(\"Divisão executada sem erros!\")\n",
    "        return resultado\n",
    "        \n",
    "    finally:\n",
    "        print(\"Finalizando operação de divisão\")\n",
    "        #return \"batatas\"\n",
    "\n",
    "# Testando\n",
    "print(\"=== Teste 1: Divisão normal ===\")\n",
    "dividir_numeros(10, 0)"
   ]
  },
  {
   "cell_type": "code",
   "execution_count": 15,
   "id": "5c7e7b08",
   "metadata": {},
   "outputs": [
    {
     "name": "stdout",
     "output_type": "stream",
     "text": [
      "Exception\n",
      "batatas\n"
     ]
    }
   ],
   "source": [
    "for x in range(1):\n",
    "    try:\n",
    "        #assert(x != 0, \"x não pode ser zero\")\n",
    "        print(x/x)\n",
    "    except Exception as e:\n",
    "        print(\"Exception\")\n",
    "    finally:\n",
    "        #break\n",
    "        print(\"batatas\")"
   ]
  },
  {
   "cell_type": "code",
   "execution_count": 29,
   "id": "a9a6c297",
   "metadata": {},
   "outputs": [
    {
     "name": "stdout",
     "output_type": "stream",
     "text": [
      "passou!\n"
     ]
    }
   ],
   "source": [
    "try:\n",
    "    aasdsdfsdfsdf\n",
    "    #assert(False)\n",
    "except AssertionError as e:\n",
    "    print(\"batatas\")   \n",
    "except:\n",
    "    pass\n",
    "    print(\"passou!\")\n",
    " \n"
   ]
  },
  {
   "cell_type": "code",
   "execution_count": 30,
   "id": "a3eec3e1",
   "metadata": {},
   "outputs": [
    {
     "ename": "Exception",
     "evalue": "",
     "output_type": "error",
     "traceback": [
      "\u001b[31m---------------------------------------------------------------------------\u001b[39m",
      "\u001b[31mException\u001b[39m                                 Traceback (most recent call last)",
      "\u001b[36mCell\u001b[39m\u001b[36m \u001b[39m\u001b[32mIn[30]\u001b[39m\u001b[32m, line 8\u001b[39m\n\u001b[32m      5\u001b[39m         \u001b[38;5;28;01mreturn\u001b[39;00m \u001b[33m\"\u001b[39m\u001b[33mSurprise\u001b[39m\u001b[33m\"\u001b[39m\n\u001b[32m      7\u001b[39m \u001b[38;5;28;01mtry\u001b[39;00m:\n\u001b[32m----> \u001b[39m\u001b[32m8\u001b[39m     \u001b[38;5;28;01mraise\u001b[39;00m \u001b[38;5;167;01mException\u001b[39;00m\n\u001b[32m      9\u001b[39m \u001b[38;5;28;01mexcept\u001b[39;00m E \u001b[38;5;28;01mas\u001b[39;00m e:\n\u001b[32m     10\u001b[39m     \u001b[38;5;28mprint\u001b[39m(e)\n",
      "\u001b[31mException\u001b[39m: "
     ]
    }
   ],
   "source": [
    "class E(Exception):\n",
    "    def __init__(self, message=\"Stop\"):\n",
    "        self.message = message\n",
    "    def __str__(self):\n",
    "        return \"Surprise\"\n",
    "    \n",
    "try:\n",
    "    raise Exception\n",
    "except E as e:\n",
    "    print(e)\n",
    "else:\n",
    "    print(\"Goodbye\")"
   ]
  },
  {
   "cell_type": "code",
   "execution_count": 5,
   "id": "9ccdefd9",
   "metadata": {},
   "outputs": [
    {
     "name": "stdout",
     "output_type": "stream",
     "text": [
      "3\n",
      "('Error occurred', 12, [1])\n"
     ]
    }
   ],
   "source": [
    "try:\n",
    "    raise Exception(\"Error occurred\", 12,[1])\n",
    "except Exception as e:\n",
    "    print(len(e.args))\n",
    "    print(e.args)"
   ]
  },
  {
   "cell_type": "code",
   "execution_count": null,
   "id": "004061ed",
   "metadata": {},
   "outputs": [],
   "source": [
    "def f():\n",
    "    try:\n",
    "        print(\"test\")\n",
    "        raise ArithmeticError\n",
    "        \n",
    "    except:\n",
    "        print(\"test AssertionError\")\n",
    "        raise AssertionError\n",
    "        \n",
    "    finally:\n",
    "        print(\"test AttributeError finnaly\")\n",
    "        #raise AttributeError\n",
    "        \n",
    "    return\n",
    "f()"
   ]
  },
  {
   "cell_type": "code",
   "execution_count": null,
   "id": "eb5684c4",
   "metadata": {},
   "outputs": [
    {
     "name": "stdout",
     "output_type": "stream",
     "text": [
      "Spam\n"
     ]
    }
   ],
   "source": [
    "class SpamException(Exception):\n",
    "    def __init__(self, message):\n",
    "        #super(SpamException, self).__init__(message)\n",
    "        super().__init__(message)\n",
    "        self.message = message\n",
    "\n",
    "raise SpamException(\"Spam\")\n"
   ]
  },
  {
   "cell_type": "code",
   "execution_count": 44,
   "id": "77f1b4f8",
   "metadata": {},
   "outputs": [
    {
     "name": "stdout",
     "output_type": "stream",
     "text": [
      "('spam', 'eggs')\n",
      "('spam', 'eggs')\n",
      "2\n"
     ]
    }
   ],
   "source": [
    "try:\n",
    "    raise Exception('spam', 'eggs')\n",
    "except Exception as exception:\n",
    "    print(exception.args)\n",
    "    print(exception)\n",
    "    print(len(exception.args))"
   ]
  },
  {
   "cell_type": "code",
   "execution_count": null,
   "id": "cf8383db",
   "metadata": {},
   "outputs": [],
   "source": [
    "import sys\n",
    "try:\n",
    "    f = open('spam.txt')\n",
    "    s = f.readline()\n",
    "except Exception:\n",
    "    raise (\"File not found!!!!!!!\")\n",
    "except:\n",
    "    print(\"batatas\")"
   ]
  },
  {
   "cell_type": "code",
   "execution_count": null,
   "id": "6e4e91ab",
   "metadata": {},
   "outputs": [],
   "source": [
    "try:\n",
    "    raise IOError\n",
    "except IOError as e:\n",
    "    raise RuntimeError from e"
   ]
  },
  {
   "cell_type": "code",
   "execution_count": null,
   "id": "5d1c5a82",
   "metadata": {},
   "outputs": [
    {
     "name": "stdout",
     "output_type": "stream",
     "text": [
      "Nada de errado\n"
     ]
    }
   ],
   "source": [
    "try:\n",
    "    x = 1 / 0\n",
    "except ValueError:\n",
    "    print(\"Valor errado\")\n",
    "except ArithmeticError:\n",
    "    print(\"Div by zero\")\n",
    "    \n",
    "else:\n",
    "    print(\"Nada de errado\")  # ❌ não será executado"
   ]
  },
  {
   "cell_type": "code",
   "execution_count": null,
   "id": "996b9a18",
   "metadata": {},
   "outputs": [
    {
     "ename": "ZeroDivisionError",
     "evalue": "",
     "output_type": "error",
     "traceback": [
      "\u001b[31m---------------------------------------------------------------------------\u001b[39m",
      "\u001b[31mOSError\u001b[39m                                   Traceback (most recent call last)",
      "\u001b[36mCell\u001b[39m\u001b[36m \u001b[39m\u001b[32mIn[74]\u001b[39m\u001b[32m, line 10\u001b[39m\n\u001b[32m      9\u001b[39m \u001b[38;5;28;01mtry\u001b[39;00m:\n\u001b[32m---> \u001b[39m\u001b[32m10\u001b[39m \t\u001b[38;5;28;01mraise\u001b[39;00m \u001b[38;5;167;01mOSError\u001b[39;00m\n\u001b[32m     11\u001b[39m \u001b[38;5;28;01mfinally\u001b[39;00m:\n\u001b[32m     12\u001b[39m \t\u001b[38;5;66;03m#pass\u001b[39;00m\n",
      "\u001b[31mOSError\u001b[39m: ",
      "\nDuring handling of the above exception, another exception occurred:\n",
      "\u001b[31mZeroDivisionError\u001b[39m                         Traceback (most recent call last)",
      "\u001b[36mCell\u001b[39m\u001b[36m \u001b[39m\u001b[32mIn[74]\u001b[39m\u001b[32m, line 13\u001b[39m\n\u001b[32m     10\u001b[39m \t\u001b[38;5;28;01mraise\u001b[39;00m \u001b[38;5;167;01mOSError\u001b[39;00m\n\u001b[32m     11\u001b[39m \u001b[38;5;28;01mfinally\u001b[39;00m:\n\u001b[32m     12\u001b[39m \t\u001b[38;5;66;03m#pass\u001b[39;00m\n\u001b[32m---> \u001b[39m\u001b[32m13\u001b[39m     \u001b[38;5;28;01mraise\u001b[39;00m \u001b[38;5;167;01mZeroDivisionError\u001b[39;00m\n",
      "\u001b[31mZeroDivisionError\u001b[39m: "
     ]
    }
   ],
   "source": [
    "def f():\n",
    "    try:\n",
    "        return 0\n",
    "    finally:\n",
    "        return 1\n",
    "\n",
    "#f()\n",
    "\n",
    "try:\n",
    "\traise OSError\n",
    "finally:\n",
    "\tpass\n",
    "    #raise ZeroDivisionError"
   ]
  },
  {
   "cell_type": "code",
   "execution_count": 87,
   "id": "b599f679",
   "metadata": {},
   "outputs": [
    {
     "ename": "TypeError",
     "evalue": "catching classes that do not inherit from BaseException is not allowed",
     "output_type": "error",
     "traceback": [
      "\u001b[31m---------------------------------------------------------------------------\u001b[39m",
      "\u001b[31mZeroDivisionError\u001b[39m                         Traceback (most recent call last)",
      "\u001b[36mCell\u001b[39m\u001b[36m \u001b[39m\u001b[32mIn[87]\u001b[39m\u001b[32m, line 3\u001b[39m\n\u001b[32m      2\u001b[39m \u001b[38;5;28;01mtry\u001b[39;00m:\n\u001b[32m----> \u001b[39m\u001b[32m3\u001b[39m     \u001b[38;5;28mprint\u001b[39m(\u001b[43mx\u001b[49m\u001b[43m/\u001b[49m\u001b[43mx\u001b[49m)\n\u001b[32m      4\u001b[39m \u001b[38;5;28;01mexcept\u001b[39;00m (\u001b[38;5;167;01mZeroDivisionError\u001b[39;00m,\u001b[33m\"\u001b[39m\u001b[33mola\u001b[39m\u001b[33m\"\u001b[39m) \u001b[38;5;28;01mas\u001b[39;00m e:\n",
      "\u001b[31mZeroDivisionError\u001b[39m: division by zero",
      "\nDuring handling of the above exception, another exception occurred:\n",
      "\u001b[31mTypeError\u001b[39m                                 Traceback (most recent call last)",
      "\u001b[36mCell\u001b[39m\u001b[36m \u001b[39m\u001b[32mIn[87]\u001b[39m\u001b[32m, line 4\u001b[39m\n\u001b[32m      2\u001b[39m \u001b[38;5;28;01mtry\u001b[39;00m:\n\u001b[32m      3\u001b[39m     \u001b[38;5;28mprint\u001b[39m(x/x)\n\u001b[32m----> \u001b[39m\u001b[32m4\u001b[39m \u001b[38;5;28;01mexcept\u001b[39;00m (\u001b[38;5;167;01mZeroDivisionError\u001b[39;00m,\u001b[33m\"\u001b[39m\u001b[33mola\u001b[39m\u001b[33m\"\u001b[39m) \u001b[38;5;28;01mas\u001b[39;00m e:\n\u001b[32m      5\u001b[39m     \u001b[38;5;28mprint\u001b[39m(\u001b[33m\"\u001b[39m\u001b[33mZero1\u001b[39m\u001b[33m\"\u001b[39m)\n",
      "\u001b[31mTypeError\u001b[39m: catching classes that do not inherit from BaseException is not allowed"
     ]
    }
   ],
   "source": [
    "x=0\n",
    "try:\n",
    "    print(x/x)\n",
    "except (ZeroDivisionError,\"ola\") as e:\n",
    "    print(\"Zero1\")"
   ]
  },
  {
   "cell_type": "code",
   "execution_count": 98,
   "id": "5b389b49",
   "metadata": {},
   "outputs": [
    {
     "name": "stdout",
     "output_type": "stream",
     "text": [
      "Spam Spam "
     ]
    }
   ],
   "source": [
    "class Spam(Exception):\n",
    "    pass\n",
    "class Ham(Spam):\n",
    "    pass\n",
    "for cls in [Spam, Ham]:\n",
    "    try:\n",
    "        raise cls()\n",
    "    except Spam:\n",
    "        print(\"Spam\", end=\" \")\n",
    "    except Ham:\n",
    "        print(\"Ham\", end=\" \")\n"
   ]
  },
  {
   "cell_type": "code",
   "execution_count": 117,
   "id": "ae42684f",
   "metadata": {},
   "outputs": [
    {
     "name": "stdout",
     "output_type": "stream",
     "text": [
      "Value 16 is invalid\n",
      "16\n"
     ]
    }
   ],
   "source": [
    "class SpamException(Exception):\n",
    "    def __init__(self, message):\n",
    "        #super(SpamException, self).__init__(message)\n",
    "        super().__init__(message)\n",
    "        self.message = message\n",
    "\n",
    "#raise SpamException(\"Spam\")\n",
    "\n",
    "\n",
    "class AgeException(Exception):\n",
    "    def __init__(self, age):\n",
    "        #super(AgeException, self).__init__(\"AgeException\")\n",
    "        super(AgeException,self).__init__(f\"Value {age} is invalid\")\n",
    "        #super().__init__(f\"Idade inválida: {age}\")\n",
    "        self.age = age  # Store the age value\n",
    "try:\n",
    "    raise AgeException(16)\n",
    "except AgeException as e:\n",
    "    print(e)\n",
    "    print(e.age)"
   ]
  },
  {
   "cell_type": "code",
   "execution_count": 111,
   "id": "08b735cb",
   "metadata": {},
   "outputs": [
    {
     "name": "stdout",
     "output_type": "stream",
     "text": [
      "Value 10 is invalid\n"
     ]
    }
   ],
   "source": [
    "class MyException(Exception):\n",
    "    def __init__(self, value):\n",
    "        super(MyException, self).__init__(f\"Value {value} is invalid\")\n",
    "\n",
    "try:\n",
    "    raise MyException(10)\n",
    "except MyException as e:\n",
    "    print(e)  # Output: Value 10 is invalid"
   ]
  },
  {
   "cell_type": "code",
   "execution_count": null,
   "id": "1b68d2ac",
   "metadata": {},
   "outputs": [
    {
     "name": "stdout",
     "output_type": "stream",
     "text": [
      "batatas\n"
     ]
    }
   ],
   "source": [
    "try:\n",
    "    raise ValueError\n",
    "except (TypeError, ValueError):\n",
    "    raise \n",
    "    #print(\"batatas\")"
   ]
  },
  {
   "cell_type": "code",
   "execution_count": 144,
   "id": "613d97ca",
   "metadata": {},
   "outputs": [
    {
     "ename": "ValueError",
     "evalue": "",
     "output_type": "error",
     "traceback": [
      "\u001b[31m---------------------------------------------------------------------------\u001b[39m",
      "\u001b[31mValueError\u001b[39m                                Traceback (most recent call last)",
      "\u001b[36mCell\u001b[39m\u001b[36m \u001b[39m\u001b[32mIn[144]\u001b[39m\u001b[32m, line 2\u001b[39m\n\u001b[32m      1\u001b[39m \u001b[38;5;28;01mtry\u001b[39;00m:\n\u001b[32m----> \u001b[39m\u001b[32m2\u001b[39m     \u001b[38;5;28;01mraise\u001b[39;00m \u001b[38;5;167;01mValueError\u001b[39;00m\n\u001b[32m      3\u001b[39m \u001b[38;5;28;01mexcept\u001b[39;00m (\u001b[38;5;167;01mValueError\u001b[39;00m,\u001b[38;5;167;01mTypeError\u001b[39;00m):\n\u001b[32m      4\u001b[39m     \u001b[38;5;28;01mraise\u001b[39;00m\n",
      "\u001b[31mValueError\u001b[39m: "
     ]
    }
   ],
   "source": [
    "try:\n",
    "    raise ValueError\n",
    "except (ValueError,TypeError):\n",
    "    raise"
   ]
  },
  {
   "cell_type": "code",
   "execution_count": null,
   "id": "fbb4aafe",
   "metadata": {},
   "outputs": [
    {
     "data": {
      "text/plain": [
       "'eggs'"
      ]
     },
     "execution_count": 160,
     "metadata": {},
     "output_type": "execute_result"
    }
   ],
   "source": [
    "try:\n",
    "    raise Exception('spam', 'eggs')\n",
    "except Exception as inst:\n",
    "    x, y = inst.args\n",
    " \n",
    "x,y   \n",
    "#print(x,y)"
   ]
  },
  {
   "cell_type": "code",
   "execution_count": 163,
   "id": "1f784533",
   "metadata": {},
   "outputs": [
    {
     "ename": "RuntimeError",
     "evalue": "",
     "output_type": "error",
     "traceback": [
      "\u001b[31m---------------------------------------------------------------------------\u001b[39m",
      "\u001b[31mRuntimeError\u001b[39m                              Traceback (most recent call last)",
      "\u001b[36mCell\u001b[39m\u001b[36m \u001b[39m\u001b[32mIn[163]\u001b[39m\u001b[32m, line 4\u001b[39m\n\u001b[32m      2\u001b[39m     \u001b[38;5;28;01mraise\u001b[39;00m \u001b[38;5;167;01mIOError\u001b[39;00m\n\u001b[32m      3\u001b[39m \u001b[38;5;28;01mexcept\u001b[39;00m \u001b[38;5;167;01mIOError\u001b[39;00m:\n\u001b[32m----> \u001b[39m\u001b[32m4\u001b[39m     \u001b[38;5;28;01mraise\u001b[39;00m \u001b[38;5;167;01mRuntimeError\u001b[39;00m \u001b[38;5;28;01mfrom\u001b[39;00m\u001b[38;5;250m \u001b[39m\u001b[38;5;28;01mNone\u001b[39;00m\n",
      "\u001b[31mRuntimeError\u001b[39m: "
     ]
    }
   ],
   "source": [
    "try:\n",
    "    raise IOError\n",
    "except IOError:\n",
    "    raise RuntimeError from None"
   ]
  },
  {
   "cell_type": "code",
   "execution_count": 165,
   "id": "6468a804",
   "metadata": {},
   "outputs": [
    {
     "name": "stdout",
     "output_type": "stream",
     "text": [
      "An exception occurred\n"
     ]
    }
   ],
   "source": [
    "try:\n",
    "    print(ssx)\n",
    "except:\n",
    "    print(\"An exception occurred\")"
   ]
  },
  {
   "cell_type": "code",
   "execution_count": 167,
   "id": "01e1d0ee",
   "metadata": {},
   "outputs": [
    {
     "name": "stdout",
     "output_type": "stream",
     "text": [
      "ELSE\n"
     ]
    }
   ],
   "source": [
    "try:\n",
    "    pass\n",
    "except ZeroDivisionError:\n",
    "    print('ZeroDivisionError')\n",
    "except TypeError:\n",
    "    print('TypeError')\n",
    "else:\n",
    "    print('ELSE')"
   ]
  },
  {
   "cell_type": "code",
   "execution_count": 24,
   "id": "1dd95108",
   "metadata": {},
   "outputs": [
    {
     "ename": "AssertionError",
     "evalue": "Trigger Assertion",
     "output_type": "error",
     "traceback": [
      "\u001b[31m---------------------------------------------------------------------------\u001b[39m",
      "\u001b[31mAssertionError\u001b[39m                            Traceback (most recent call last)",
      "\u001b[36mCell\u001b[39m\u001b[36m \u001b[39m\u001b[32mIn[24]\u001b[39m\u001b[32m, line 3\u001b[39m\n\u001b[32m      1\u001b[39m \u001b[38;5;66;03m#assert(False, 'Trigger Assertion')\u001b[39;00m\n\u001b[32m      2\u001b[39m \u001b[38;5;66;03m#assert(False,\"batatas\")\u001b[39;00m\n\u001b[32m----> \u001b[39m\u001b[32m3\u001b[39m \u001b[38;5;28;01massert\u001b[39;00m \u001b[38;5;28;01mFalse\u001b[39;00m, \u001b[33m'\u001b[39m\u001b[33mTrigger Assertion\u001b[39m\u001b[33m'\u001b[39m\n",
      "\u001b[31mAssertionError\u001b[39m: Trigger Assertion"
     ]
    }
   ],
   "source": [
    "#assert(False, 'Trigger Assertion')\n",
    "#assert(False,\"batatas\")\n",
    "assert False, 'Trigger Assertion'\n"
   ]
  },
  {
   "cell_type": "code",
   "execution_count": 14,
   "id": "2a57c35f",
   "metadata": {},
   "outputs": [],
   "source": [
    "def validar_idade(idade):\n",
    "    assert 1 , \"Idade deve ser um número inteiro\"\n",
    "\n",
    "try:\n",
    "    validar_idade(2) \n",
    "except AssertionError as e:\n",
    "    print(f\"Erro: {e}\")"
   ]
  },
  {
   "cell_type": "code",
   "execution_count": 34,
   "id": "f1c19b42",
   "metadata": {},
   "outputs": [
    {
     "name": "stdout",
     "output_type": "stream",
     "text": [
      "try except finally\n"
     ]
    }
   ],
   "source": [
    "def fn():\n",
    "    try:\n",
    "        print('try ', end='')\n",
    "        raise ArithmeticError\n",
    "    except:\n",
    "        print('except ', end='')\n",
    "        raise AssertionError\n",
    "        return\n",
    "    finally:\n",
    "        print('finally')  \n",
    "        return\n",
    "fn()"
   ]
  },
  {
   "cell_type": "code",
   "execution_count": 37,
   "id": "52e2f540",
   "metadata": {},
   "outputs": [
    {
     "name": "stdout",
     "output_type": "stream",
     "text": [
      "UndefinedException\n"
     ]
    }
   ],
   "source": [
    "class UndefinedException(BaseException):\n",
    "    pass\n",
    "\n",
    "try:\n",
    "    raise UndefinedException\n",
    "except NameError:\n",
    "    print('NameError')\n",
    "except UndefinedException:\n",
    "    print('UndefinedException')\n",
    "except:\n",
    "    pass"
   ]
  }
 ],
 "metadata": {
  "kernelspec": {
   "display_name": "Python 3",
   "language": "python",
   "name": "python3"
  },
  "language_info": {
   "codemirror_mode": {
    "name": "ipython",
    "version": 3
   },
   "file_extension": ".py",
   "mimetype": "text/x-python",
   "name": "python",
   "nbconvert_exporter": "python",
   "pygments_lexer": "ipython3",
   "version": "3.13.6"
  }
 },
 "nbformat": 4,
 "nbformat_minor": 5
}
