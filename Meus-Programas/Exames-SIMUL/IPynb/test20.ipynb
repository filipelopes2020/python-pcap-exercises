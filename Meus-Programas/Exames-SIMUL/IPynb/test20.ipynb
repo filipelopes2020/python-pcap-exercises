{
 "cells": [
  {
   "cell_type": "code",
   "execution_count": 12,
   "id": "92cf0fca",
   "metadata": {},
   "outputs": [
    {
     "name": "stdout",
     "output_type": "stream",
     "text": [
      "20 202 10 15\n"
     ]
    }
   ],
   "source": [
    "class A:   \n",
    "    p = 10\n",
    "    def __init__(self, n = 1):\n",
    "        if n > 0:\n",
    "            self.x = n * 2   # agora é atributo de instância\n",
    "\n",
    "class B(A):\n",
    "    def __init__(self, n=2):\n",
    "        super().__init__()  # inicializa como a classe mãe\n",
    "        self.x = n + 10     # muda só neste objeto\n",
    "\n",
    "obj1 = A(10)   # obj1.x = 20\n",
    "obj2 = A(101)  # obj2.x = 202\n",
    "obj3 = B(5)    # obj3.x = 15\n",
    "\n",
    "print(obj1.x, obj2.x, obj1.p, obj3.x)\n"
   ]
  },
  {
   "cell_type": "code",
   "execution_count": 45,
   "id": "da5bd213",
   "metadata": {},
   "outputs": [
    {
     "name": "stdout",
     "output_type": "stream",
     "text": [
      "[10, 9, 2, 1, -1]\n",
      "['ana', 'evora', 'portugal']\n",
      "['cidade', 'nome', 'pais']\n",
      "resultado ordenado: ['vez', 'uma', 'o', 'homem', 'era']\n"
     ]
    }
   ],
   "source": [
    "txt = \"era uma vez o homem\"\n",
    "txt=txt.split(\" \")\n",
    "\n",
    "resultado = sorted(txt, reverse=True)\n",
    "p = sorted({1,10,-1,9,2}, reverse=True); print(p)\n",
    "\n",
    "d = {\"nome\":\"ana\", \"pais\":\"portugal\", \"cidade\":\"evora\"}\n",
    "q = sorted(d.values())\n",
    "r = sorted(d.keys())\n",
    "print(q)\n",
    "print(r)\n",
    "print(\"resultado ordenado:\",resultado)  "
   ]
  },
  {
   "cell_type": "code",
   "execution_count": 43,
   "id": "8e924331",
   "metadata": {},
   "outputs": [
    {
     "name": "stdout",
     "output_type": "stream",
     "text": [
      "numeros: [1, 2, 5, 7, 9]\n",
      "opa tá dificil entender o Python!\n",
      "['opa', 'tá', 'dificil', 'entender', 'o', 'Python!']\n",
      "['Python!', 'dificil', 'entender', 'o', 'opa', 'tá']\n"
     ]
    }
   ],
   "source": [
    "numeros = [5, 2, 9, 1, 7]\n",
    "numeros.sort()\n",
    "print(\"numeros:\",numeros)\n",
    "\n",
    "stt=\"opa tá dificil entender o Python!\"; print(stt)\n",
    "stt=stt.split(); print(stt)\n",
    "stt.sort(); \n",
    "\n",
    "print(stt)\n"
   ]
  },
  {
   "cell_type": "code",
   "execution_count": 47,
   "id": "ca6a8b85",
   "metadata": {},
   "outputs": [
    {
     "ename": "MyError",
     "evalue": "error B",
     "output_type": "error",
     "traceback": [
      "\u001b[31m---------------------------------------------------------------------------\u001b[39m",
      "\u001b[31mMyError\u001b[39m                                   Traceback (most recent call last)",
      "\u001b[36mCell\u001b[39m\u001b[36m \u001b[39m\u001b[32mIn[47]\u001b[39m\u001b[32m, line 6\u001b[39m\n\u001b[32m      3\u001b[39m         \u001b[38;5;167;01mException\u001b[39;00m.\u001b[34m__init__\u001b[39m(\u001b[38;5;28mself\u001b[39m, msg)\n\u001b[32m      5\u001b[39m \u001b[38;5;66;03m#raise MyError\u001b[39;00m\n\u001b[32m----> \u001b[39m\u001b[32m6\u001b[39m \u001b[38;5;28;01mraise\u001b[39;00m MyError(\u001b[33m\"\u001b[39m\u001b[33merror B\u001b[39m\u001b[33m\"\u001b[39m)\n",
      "\u001b[31mMyError\u001b[39m: error B"
     ]
    }
   ],
   "source": [
    "\n",
    "class MyError(Exception):\n",
    "    def __init__(self, msg='error A'):\n",
    "        Exception.__init__(self, msg)\n",
    "    \n",
    "#raise MyError\n",
    "raise MyError(\"error B\")"
   ]
  },
  {
   "cell_type": "code",
   "execution_count": 72,
   "id": "ec3424a9",
   "metadata": {},
   "outputs": [
    {
     "name": "stdout",
     "output_type": "stream",
     "text": [
      "6\n",
      "-3\n",
      "19\n",
      "40\n",
      "0\n",
      "2\n",
      "Find Python:  9\n",
      "Find Java:  -1\n",
      "True\n",
      "(1, 'texto', 3.5, True, 1, 5, 7, 'A', 'A', 'A')\n"
     ]
    }
   ],
   "source": [
    "import string\n",
    "\n",
    "t1 = (1, \"texto\", 3.5, True); t2 =(1, 5, 7); t3 = (\"A\")\n",
    "#t = (5, 2, 8, 2, 10)\n",
    "t = [10,6,1,-3,19,7]\n",
    "print(len(t))     # 5  (número de elementos)\n",
    "print(min(t))     # 2\n",
    "print(max(t))     # 10\n",
    "print(sum(t))     # 27\n",
    "print(t.count(2)) # 2 (quantas vezes aparece o 2)\n",
    "print(t.index(1)) # 2 (posição do valor 8)\n",
    "texto = \"Aprender Python é divertido\"\n",
    "print(\"Find Python: \", texto.find(\"Python\"))   # 9\n",
    "print(\"Find Java: \", texto.find(\"Java\"))     # -1\n",
    "print(\"é di\" in texto)\n",
    "\n",
    "t4=tuple(t3*3)\n",
    "y = t1 + t2 + t4\n",
    "print(y)"
   ]
  },
  {
   "cell_type": "code",
   "execution_count": 81,
   "id": "ac5e155a",
   "metadata": {},
   "outputs": [
    {
     "name": "stdout",
     "output_type": "stream",
     "text": [
      "(1, 'nome', False, 1, 'nome', False, 1, 'nome', False)\n"
     ]
    }
   ],
   "source": [
    "x = tuple((1,\"nome\",False))\n",
    "x = 3 * x\n",
    "print(x)"
   ]
  },
  {
   "cell_type": "code",
   "execution_count": 86,
   "id": "d654f9a5",
   "metadata": {},
   "outputs": [
    {
     "name": "stdout",
     "output_type": "stream",
     "text": [
      "B\n",
      "<class '__main__.B'>\n"
     ]
    }
   ],
   "source": [
    "class A:\n",
    "    def method(self):\n",
    "        print('A')\n",
    "    \n",
    "class B:\n",
    "    def method(self):\n",
    "        print('B')\n",
    "    \n",
    "class C(A, B):\n",
    "    def method(self):\n",
    "        print('C')\n",
    "    \n",
    "obj = C.__bases__[1]()\n",
    "obj.method()\n",
    "\n",
    "print(C.__bases__[1])\n"
   ]
  },
  {
   "cell_type": "code",
   "execution_count": 1,
   "id": "91d2cd3e",
   "metadata": {},
   "outputs": [
    {
     "ename": "ModuleNotFoundError",
     "evalue": "No module named 'my_module'",
     "output_type": "error",
     "traceback": [
      "\u001b[31m---------------------------------------------------------------------------\u001b[39m",
      "\u001b[31mModuleNotFoundError\u001b[39m                       Traceback (most recent call last)",
      "\u001b[36mCell\u001b[39m\u001b[36m \u001b[39m\u001b[32mIn[1]\u001b[39m\u001b[32m, line 1\u001b[39m\n\u001b[32m----> \u001b[39m\u001b[32m1\u001b[39m \u001b[38;5;28;01mimport\u001b[39;00m\u001b[38;5;250m \u001b[39m\u001b[34;01mmy_module\u001b[39;00m\u001b[38;5;250m \u001b[39m\u001b[38;5;28;01mas\u001b[39;00m\u001b[38;5;250m \u001b[39m\u001b[34;01mmm\u001b[39;00m\n\u001b[32m      2\u001b[39m mm.batatas()\n",
      "\u001b[31mModuleNotFoundError\u001b[39m: No module named 'my_module'"
     ]
    }
   ],
   "source": [
    "import my_module as mm\n",
    "mm.batatas()\n"
   ]
  },
  {
   "cell_type": "code",
   "execution_count": 16,
   "id": "2bda0154",
   "metadata": {},
   "outputs": [
    {
     "name": "stdout",
     "output_type": "stream",
     "text": [
      "Wrong input !\n"
     ]
    }
   ],
   "source": [
    "from math import sqrt as root\n",
    "\n",
    "def my_root(x):\n",
    "\ttry:\n",
    "\t\tprint(\"passa no try\")\n",
    "\t\treturn root(x)\n",
    "\texcept Exception:\n",
    "\t\tprint('Function Error !')\n",
    "\t\traise\n",
    "\n",
    "x = -2\n",
    "try:\n",
    "\tassert x + 2, \"Wrong input !\"\n",
    "\tprint(\"nao chega aqui\")\n",
    "\tprint(my_root(x))\n",
    "except Exception as e:\n",
    "\tprint(e)\n",
    "else:\n",
    "\tprint('All good !')\n",
    "\n"
   ]
  },
  {
   "cell_type": "code",
   "execution_count": 29,
   "id": "d72470d8",
   "metadata": {},
   "outputs": [
    {
     "name": "stdout",
     "output_type": "stream",
     "text": [
      "[19, 5]\n"
     ]
    }
   ],
   "source": [
    "import random\n",
    "lista=[1,2,3,54,5,19]\n",
    "list2= random.sample(lista,2)\n",
    "print(list2)"
   ]
  },
  {
   "cell_type": "code",
   "execution_count": 41,
   "id": "f5c88359",
   "metadata": {},
   "outputs": [
    {
     "name": "stdout",
     "output_type": "stream",
     "text": [
      "My name's \"Mario\"\n",
      "abc /'def/'\n",
      "abc /'def/'\n",
      " 'abc' \"def\" \n",
      " 'abc' \"def\" \n"
     ]
    }
   ],
   "source": [
    "print(\"My name's \\\"Mario\\\"\")\n",
    "\n",
    "\n",
    "#print('\\\\\\')\n",
    "\n",
    "print(\"abc /'def/'\")\n",
    "print('abc /\\'def/\\'')\n",
    "\n",
    "print(\"\"\" 'abc' \"def\" \"\"\") \n",
    "print(''' 'abc' \"def\" ''') "
   ]
  },
  {
   "cell_type": "code",
   "execution_count": 44,
   "id": "775d2f0d",
   "metadata": {},
   "outputs": [
    {
     "name": "stdout",
     "output_type": "stream",
     "text": [
      "PPP\n",
      "\n"
     ]
    }
   ],
   "source": [
    "x = 1\n",
    " \n",
    "for i in range(-1, -3, -1):    \n",
    "    x = '*' * i\n",
    " \n",
    "print(3 * \"P\")\n",
    "print(x)"
   ]
  }
 ],
 "metadata": {
  "kernelspec": {
   "display_name": "Python 3",
   "language": "python",
   "name": "python3"
  },
  "language_info": {
   "codemirror_mode": {
    "name": "ipython",
    "version": 3
   },
   "file_extension": ".py",
   "mimetype": "text/x-python",
   "name": "python",
   "nbconvert_exporter": "python",
   "pygments_lexer": "ipython3",
   "version": "3.13.6"
  }
 },
 "nbformat": 4,
 "nbformat_minor": 5
}
