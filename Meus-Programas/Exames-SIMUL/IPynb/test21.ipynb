{
 "cells": [
  {
   "cell_type": "code",
   "execution_count": 11,
   "id": "24561636",
   "metadata": {},
   "outputs": [
    {
     "ename": "Exception",
     "evalue": "message C",
     "output_type": "error",
     "traceback": [
      "\u001b[31m---------------------------------------------------------------------------\u001b[39m",
      "\u001b[31mException\u001b[39m                                 Traceback (most recent call last)",
      "\u001b[36mCell\u001b[39m\u001b[36m \u001b[39m\u001b[32mIn[11]\u001b[39m\u001b[32m, line 13\u001b[39m\n\u001b[32m      7\u001b[39m         \u001b[38;5;28;01mreturn\u001b[39;00m \u001b[33m'\u001b[39m\u001b[33mmessage B\u001b[39m\u001b[33m'\u001b[39m\n\u001b[32m      9\u001b[39m \u001b[38;5;28;01mtry\u001b[39;00m:    \n\u001b[32m     10\u001b[39m     \u001b[38;5;66;03m#o = MyExcept(\"batatas\")\u001b[39;00m\n\u001b[32m     11\u001b[39m     \u001b[38;5;66;03m#print(o.message)\u001b[39;00m\n\u001b[32m     12\u001b[39m     \u001b[38;5;66;03m#raise Exception('message C')\u001b[39;00m\n\u001b[32m---> \u001b[39m\u001b[32m13\u001b[39m     \u001b[38;5;28;01mraise\u001b[39;00m \u001b[38;5;167;01mException\u001b[39;00m(\u001b[33m'\u001b[39m\u001b[33mmessage C\u001b[39m\u001b[33m'\u001b[39m)\n\u001b[32m     15\u001b[39m \u001b[38;5;28;01mexcept\u001b[39;00m MyExcept \u001b[38;5;28;01mas\u001b[39;00m err:\n\u001b[32m     16\u001b[39m     \u001b[38;5;28mprint\u001b[39m(err)   \n",
      "\u001b[31mException\u001b[39m: message C"
     ]
    }
   ],
   "source": [
    "class MyExcept(Exception):\n",
    "    \n",
    "    def __init__(self, description = 'message A'):\n",
    "        self.message = description\n",
    "        \n",
    "    def __str__(self):\n",
    "        return 'message B'\n",
    "    \n",
    "try:    \n",
    "    #o = MyExcept(\"batatas\")\n",
    "    #print(o.message)\n",
    "    #raise Exception('message C')\n",
    "    raise Exception('message C')\n",
    "    \n",
    "except MyExcept as err:\n",
    "    print(err)   \n",
    "#except Exception:\n",
    "#    print('message E')\n",
    "else:\n",
    "    print('message D')"
   ]
  },
  {
   "cell_type": "code",
   "execution_count": 2,
   "id": "ec3d2080",
   "metadata": {},
   "outputs": [
    {
     "name": "stdout",
     "output_type": "stream",
     "text": [
      "nohtyP\n"
     ]
    }
   ],
   "source": [
    "string = \"Python\"\n",
    "    \n",
    "def fun(s):    \n",
    "    s2 = \"\"\n",
    "    \n",
    "    for c in s:\n",
    "        s2 = c+ s2\n",
    "        \n",
    "    return s2\n",
    "    \n",
    "print(fun(string))"
   ]
  },
  {
   "cell_type": "code",
   "execution_count": null,
   "id": "7d98953c",
   "metadata": {},
   "outputs": [
    {
     "name": "stdout",
     "output_type": "stream",
     "text": [
      "2\n"
     ]
    }
   ],
   "source": [
    "a = 2\n",
    "    \n",
    "x = 1 if a > 1 else 1/0  # a > 1 é True, então x = 1 (1/0 não é avaliado)\n",
    "#y = 1 if a == 2 else y = 0   # y=0 ESTA ERRADO! Syntaxe error; só pode ter 1 atribuicao\n",
    "y = 1 if a == 2 else 0   # a == 2 é True, então y = 1\n",
    "\n",
    "print(x + y)  # 1 + 1 = 2\n",
    "    \n"
   ]
  },
  {
   "cell_type": "code",
   "execution_count": 7,
   "id": "dab7c4d6",
   "metadata": {},
   "outputs": [
    {
     "name": "stdout",
     "output_type": "stream",
     "text": [
      "F\n"
     ]
    }
   ],
   "source": [
    "nota = 12\n",
    "classificacao = \"A\" if nota >= 90 else \"B\" if nota >= 80 else \"C\" if nota >= 70 else \"F\"\n",
    "print(classificacao)  # Output: \"B\""
   ]
  },
  {
   "cell_type": "code",
   "execution_count": 8,
   "id": "51fbf36e",
   "metadata": {},
   "outputs": [
    {
     "name": "stdout",
     "output_type": "stream",
     "text": [
      "['It Was', 'a Dark', 'and', 'Stormy Night']\n",
      "['It', 'Wasa', 'DarkandStormy', 'Night']\n",
      "DarkandStormy\n"
     ]
    }
   ],
   "source": [
    "l1 = [\"It Was\", \"a Dark\", \"and\", \"Stormy Night\"]\n",
    "print(l1)\n",
    "l2 = \"\".join(l1).split()\n",
    "print(l2)\n",
    "print(l2[2])"
   ]
  },
  {
   "cell_type": "code",
   "execution_count": 10,
   "id": "3b4750b0",
   "metadata": {},
   "outputs": [
    {
     "name": "stdout",
     "output_type": "stream",
     "text": [
      "['Dark', 'It', 'Night', 'Stormy', 'Was', 'a', 'and']\n",
      "Dark\n"
     ]
    }
   ],
   "source": [
    "s = \"It Was a Dark and Stormy Night\"\n",
    "l = sorted(s.split())\n",
    "print(l)\n",
    "print(l[0])"
   ]
  },
  {
   "cell_type": "code",
   "execution_count": 11,
   "id": "cd3f54c5",
   "metadata": {},
   "outputs": [
    {
     "name": "stdout",
     "output_type": "stream",
     "text": [
      "[11, 22]\n"
     ]
    }
   ],
   "source": [
    "a = [1, 2]        # lista com 2 elementos\n",
    "b = [10, 20, 30]  # lista com 3 elementos\n",
    "\n",
    "resultado = map(lambda x, y: x + y, a, b)\n",
    "print(list(resultado))\n",
    "\n",
    "\t"
   ]
  },
  {
   "cell_type": "code",
   "execution_count": 36,
   "id": "286fd88f",
   "metadata": {},
   "outputs": [
    {
     "name": "stdout",
     "output_type": "stream",
     "text": [
      "1 100 1\n",
      "102\n"
     ]
    }
   ],
   "source": [
    "class A:\n",
    "    pass\n",
    "\n",
    "obj1 = A()\n",
    "obj2 = A()\n",
    "#obj2=obj1\n",
    " \n",
    "A.x = 1\n",
    "obj1.x = 100\n",
    "#obj2.x = 200\n",
    "#print(obj1._A__k)\n",
    "print(A.x, obj1.x,obj2.x)\n",
    "\n",
    "#print(obj1.p, obj2.p, id(obj1),id(obj2))\n",
    "y =  A.x + obj1.x + obj2.x\n",
    " \n",
    "print(y)"
   ]
  },
  {
   "cell_type": "code",
   "execution_count": null,
   "id": "12334a00",
   "metadata": {},
   "outputs": [
    {
     "name": "stdout",
     "output_type": "stream",
     "text": [
      "Brainy\n",
      "Object\n",
      "Of\n",
      "Knowledge\n",
      "B\n",
      "O\n",
      "O\n",
      "K\n"
     ]
    }
   ],
   "source": [
    "strm = open('book.txt', 'r')\n",
    "    \n",
    "for i in strm:\n",
    "    print(i, end='')\n",
    "    \n",
    "#print()\n",
    "#strm.seek(0)\n",
    "    \n",
    "for i in strm:    \n",
    "    print(i[0], end='\\n')"
   ]
  },
  {
   "cell_type": "code",
   "execution_count": 46,
   "id": "10af5762",
   "metadata": {},
   "outputs": [
    {
     "name": "stdout",
     "output_type": "stream",
     "text": [
      "A\n",
      "<class '__main__.A'>\n",
      "A\n",
      "<class '__main__.A'>\n"
     ]
    }
   ],
   "source": [
    "class A:\n",
    "    pass\n",
    "    \n",
    "obj = A()\n",
    "\n",
    "print(type(obj).__name__)\n",
    "print(type(obj))\n",
    "print(obj.__class__.__name__)\n",
    "print(obj.__class__)"
   ]
  },
  {
   "cell_type": "code",
   "execution_count": 51,
   "id": "0db3c937",
   "metadata": {},
   "outputs": [
    {
     "name": "stdout",
     "output_type": "stream",
     "text": [
      "Filtro: <class 'filter'>\n",
      "Map: <class 'map'>\n",
      "lista filtrada:  [False, False, True, True, True]\n",
      "<class 'list'>\n",
      "<class 'map'>\n",
      "<class 'list'>\n",
      "lista mapeada:  [2, 4, 6, 8, 10]\n"
     ]
    }
   ],
   "source": [
    "# Convertendo para lista\n",
    "numeros = [1, 2, 3, 4, 5]\n",
    "\n",
    "# filter retorna iterator, não lista\n",
    "filtrado = filter(lambda x: x > 2, numeros)\n",
    "print(\"Filtro:\", type(filtrado))  # <class 'filter'>\n",
    "\n",
    "filtrado = map(lambda x: x > 2, numeros)\n",
    "print(\"Map:\",type(filtrado))  # <class 'filter'>\n",
    "\n",
    "# Convertendo para lista\n",
    "lista_filtrada = list(filtrado)\n",
    "print(\"lista filtrada: \",lista_filtrada)\n",
    "print(type(lista_filtrada))  # <class 'list'>\n",
    "\n",
    "# O mesmo vale para map\n",
    "mapeado = map(lambda x: x * 2, numeros)\n",
    "print(type(mapeado))  # <class 'map'>\n",
    "\n",
    "lista_mapeada = list(mapeado)\n",
    "print(type(lista_mapeada))  # <class 'list'>\n",
    "print(\"lista mapeada: \",lista_mapeada)"
   ]
  },
  {
   "cell_type": "code",
   "execution_count": 62,
   "id": "5787f4c0",
   "metadata": {},
   "outputs": [
    {
     "name": "stdout",
     "output_type": "stream",
     "text": [
      "d:\\OneDrive\\Documentos\\REPOS\\PYTHON\\Cursos_Python\\Meus-Programas\\Exames-SIMUL\\IPynb\\Python\n",
      "['Java']\n"
     ]
    }
   ],
   "source": [
    "import os\n",
    "#print(os.listdir())    \n",
    "#os.makedirs(\"Python/Java/C++\")\n",
    "#os.mkdir(\"Python\")\n",
    "#os.chdir(\"Python\")\n",
    "    \n",
    "print(os.getcwd())\n",
    "print(os.listdir())\n"
   ]
  },
  {
   "cell_type": "code",
   "execution_count": 92,
   "id": "2e648b1a",
   "metadata": {},
   "outputs": [
    {
     "name": "stdout",
     "output_type": "stream",
     "text": [
      "a a\n",
      "90\n",
      "20\n"
     ]
    }
   ],
   "source": [
    "x = None or \"a\"\n",
    "y = [None] and \"a\"\n",
    "    \n",
    "print(x, y)\n",
    "print(0 or 90)\n",
    "\n",
    "print(10 and 20)"
   ]
  },
  {
   "cell_type": "code",
   "execution_count": 97,
   "id": "ac150ecd",
   "metadata": {},
   "outputs": [
    {
     "name": "stdout",
     "output_type": "stream",
     "text": [
      "1\n",
      "\n",
      "[]\n"
     ]
    }
   ],
   "source": [
    "x = 1\n",
    "\n",
    "for i in range(-3):    \n",
    "    x = '*' * i\n",
    "    break\n",
    " \n",
    "print(x)\n",
    "print(-3 * 'a')\n",
    "\n",
    "print(list(range(-3))) # → []."
   ]
  },
  {
   "cell_type": "code",
   "execution_count": 100,
   "id": "e3dcfee5",
   "metadata": {},
   "outputs": [
    {
     "name": "stdout",
     "output_type": "stream",
     "text": [
      "<__main__.A object at 0x00000292AB2016A0>\n",
      "Viper\n",
      "RattlesnakeRattlesnakeRattlesnake\n"
     ]
    }
   ],
   "source": [
    "class A():\n",
    "    def __init__(self, snake):\n",
    "        self.snake = snake\n",
    "    \n",
    "class B(A):    \n",
    "    def __str__(self):\n",
    "        return self.snake\n",
    "    \n",
    "class C(B):\n",
    "    def __str__(self):\n",
    "        return self.snake*3\n",
    "    \n",
    "obj1 = A(\"Python\")\n",
    "obj2 = B(\"Viper\")\n",
    "obj3 = C(\"Rattlesnake\")\n",
    "    \n",
    "print(obj1)\n",
    "print(obj2)\n",
    "print(obj3)"
   ]
  },
  {
   "cell_type": "code",
   "execution_count": 108,
   "id": "22b19d12",
   "metadata": {},
   "outputs": [
    {
     "name": "stdout",
     "output_type": "stream",
     "text": [
      "<__main__.A object at 0x00000292AB203380>\n",
      "100.0\n",
      "<class 'tuple'>\n",
      "False\n"
     ]
    }
   ],
   "source": [
    "class A:\n",
    "    pass\n",
    "    \n",
    "a = A()\n",
    "b = 1e1\n",
    "c = 3 * 'a'\n",
    "d = (1)\n",
    "e = (1,)\n",
    "print(a)\n",
    "print(1e2)\n",
    "\n",
    "print(type(e))\n",
    "print(isinstance(e, (int, float, A)))"
   ]
  },
  {
   "cell_type": "code",
   "execution_count": 110,
   "id": "bd2ded1f",
   "metadata": {},
   "outputs": [
    {
     "name": "stdout",
     "output_type": "stream",
     "text": [
      "True False\n",
      "True False\n",
      "2828967684080 2828967685264\n",
      "2828968419056 2828968768624\n"
     ]
    }
   ],
   "source": [
    "a = 10000\n",
    "b = 10000\n",
    "    \n",
    "c = \"Python is not a snake\"\n",
    "d = \"Python is not a snake\"\n",
    "    \n",
    "print(a == b, a is b)\n",
    "print(c == d, c is d)\n",
    "\n",
    "print(id(a),id(b))\n",
    "print(id(c),id(d))"
   ]
  },
  {
   "cell_type": "code",
   "execution_count": 111,
   "id": "fb314d22",
   "metadata": {},
   "outputs": [
    {
     "name": "stdout",
     "output_type": "stream",
     "text": [
      "['Python', 'Viper']\n"
     ]
    }
   ],
   "source": [
    "import os\n",
    "    \n",
    "os.makedirs(\"Snake/Python\")      # line 3\n",
    "os.makedirs(\"Snake/Viper/Cobra\") # line 4\n",
    "    \n",
    "print(os.listdir(\"Snake\"))"
   ]
  },
  {
   "cell_type": "code",
   "execution_count": 113,
   "id": "f0e0fa5a",
   "metadata": {},
   "outputs": [
    {
     "name": "stdout",
     "output_type": "stream",
     "text": [
      "4\n"
     ]
    }
   ],
   "source": [
    "import math as mm\n",
    "print(mm.ceil(3.8))"
   ]
  },
  {
   "cell_type": "code",
   "execution_count": 123,
   "id": "efb8088b",
   "metadata": {},
   "outputs": [
    {
     "name": "stdout",
     "output_type": "stream",
     "text": [
      "<function <lambda> at 0x00000292ABA25DA0>\n",
      "10\n",
      "<class 'function'>\n"
     ]
    }
   ],
   "source": [
    "a = lambda x: x*2\n",
    "print(a)\n",
    "print(a(5))  \n",
    "print(type(a))\n"
   ]
  },
  {
   "cell_type": "code",
   "execution_count": 124,
   "id": "c8335160",
   "metadata": {},
   "outputs": [
    {
     "name": "stdout",
     "output_type": "stream",
     "text": [
      "Maria\n",
      "Homo sapiens\n"
     ]
    }
   ],
   "source": [
    "class Pessoa:\n",
    "    pass\n",
    "\n",
    "p = Pessoa()\n",
    "setattr(p, 'nome', 'Maria')      # Define atributo de instância\n",
    "setattr(Pessoa, 'especie', 'Homo sapiens')  # Define atributo de classe\n",
    "\n",
    "print(p.nome)        # Maria\n",
    "print(p.especie)     # Homo sapiens"
   ]
  },
  {
   "cell_type": "code",
   "execution_count": 133,
   "id": "77b77aee",
   "metadata": {},
   "outputs": [
    {
     "name": "stdout",
     "output_type": "stream",
     "text": [
      "Python\n",
      "<__main__.A object at 0x00000292AB2038C0>\n",
      "10\n"
     ]
    }
   ],
   "source": [
    "class A:\n",
    "    def __init__(self):\n",
    "        print(\"Python\")\n",
    "        self.m=10\n",
    "        \n",
    "    #def m(self):\n",
    "    #    print(\"Viper\")      \n",
    "#    def __str__(self):\n",
    "#        return \"ola\"\n",
    "        \n",
    "obj = A()\n",
    "print(obj)\n",
    "print(obj.m)"
   ]
  },
  {
   "cell_type": "code",
   "execution_count": 135,
   "id": "5f9e8f91",
   "metadata": {},
   "outputs": [
    {
     "name": "stdout",
     "output_type": "stream",
     "text": [
      "<class 'str'>\n",
      "<class 'int'>\n",
      "1\n"
     ]
    },
    {
     "ename": "TypeError",
     "evalue": "object of type 'int' has no len()",
     "output_type": "error",
     "traceback": [
      "\u001b[31m---------------------------------------------------------------------------\u001b[39m",
      "\u001b[31mTypeError\u001b[39m                                 Traceback (most recent call last)",
      "\u001b[36mCell\u001b[39m\u001b[36m \u001b[39m\u001b[32mIn[135]\u001b[39m\u001b[32m, line 6\u001b[39m\n\u001b[32m      4\u001b[39m \u001b[38;5;28mprint\u001b[39m(\u001b[38;5;28mlen\u001b[39m(\u001b[38;5;28mchr\u001b[39m(\u001b[32m122\u001b[39m)))\n\u001b[32m      5\u001b[39m \u001b[38;5;66;03m#print(len(ord('x')))\u001b[39;00m\n\u001b[32m----> \u001b[39m\u001b[32m6\u001b[39m \u001b[38;5;28mprint\u001b[39m(\u001b[38;5;28;43mlen\u001b[39;49m\u001b[43m(\u001b[49m\u001b[32;43m10\u001b[39;49m\u001b[43m)\u001b[49m)\n",
      "\u001b[31mTypeError\u001b[39m: object of type 'int' has no len()"
     ]
    }
   ],
   "source": [
    "print(type(chr(122)))\n",
    "print(type(ord('x')))\n",
    "    \n",
    "print(len(chr(122)))\n",
    "#print(len(ord('x')))\n",
    "print(len(10))"
   ]
  }
 ],
 "metadata": {
  "kernelspec": {
   "display_name": "Python 3",
   "language": "python",
   "name": "python3"
  },
  "language_info": {
   "codemirror_mode": {
    "name": "ipython",
    "version": 3
   },
   "file_extension": ".py",
   "mimetype": "text/x-python",
   "name": "python",
   "nbconvert_exporter": "python",
   "pygments_lexer": "ipython3",
   "version": "3.13.6"
  }
 },
 "nbformat": 4,
 "nbformat_minor": 5
}
