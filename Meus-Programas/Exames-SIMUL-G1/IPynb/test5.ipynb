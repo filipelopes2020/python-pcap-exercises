{
 "cells": [
  {
   "cell_type": "code",
   "execution_count": 6,
   "id": "52e150fa",
   "metadata": {},
   "outputs": [
    {
     "name": "stdout",
     "output_type": "stream",
     "text": [
      "False\n",
      "True\n",
      "<class 'tuple'>\n",
      "B\n"
     ]
    }
   ],
   "source": [
    "class Alpha:\n",
    "    a=5\n",
    "    def __init__(self, x):\n",
    "        self.b = x\n",
    "    \n",
    "class Beta(Alpha):\n",
    "    c = 2\n",
    "    def __str__(self):\n",
    "        return \"Beta\"\n",
    "    \n",
    "beta = Beta(5)\n",
    "beta.d = 4\n",
    "\n",
    "print(isinstance(Beta,Alpha))  # saída: True\n",
    "print(hasattr(beta, 'a'))\n",
    "print(type(Beta.__bases__))\n",
    "\n",
    "res = ord('A')\n",
    "print(chr(66))  # saída: A"
   ]
  },
  {
   "cell_type": "code",
   "execution_count": 22,
   "id": "ff4898a7",
   "metadata": {},
   "outputs": [
    {
     "name": "stdout",
     "output_type": "stream",
     "text": [
      "KeyError\n"
     ]
    }
   ],
   "source": [
    "dict = {1 : 'France' , 2: 'USA', 3: 'Japan', 4 : 'Canada' }\n",
    "#dict=[\"mario\", \"luigi\", \"peach\", \"toad\",\"Alpha\",\"Beta\"]\n",
    "try:\n",
    "    for i in range(4):\n",
    "        print(dict[i])\n",
    "        if not(dict[i+1].isalpha()):\n",
    "            raise ValueError\n",
    "    print(\"Done\")\n",
    "except ValueError:\n",
    "    print(\"ValueError\")\n",
    "except IndexError:\n",
    "    print(\"IndexError\")\n",
    "except KeyError:\n",
    "    print(\"KeyError\")\n",
    "\n",
    "\n"
   ]
  },
  {
   "cell_type": "code",
   "execution_count": 25,
   "id": "534fcf7d",
   "metadata": {},
   "outputs": [
    {
     "name": "stdout",
     "output_type": "stream",
     "text": [
      "Tatooine Is A Lawless Place Ruled By Hutt Gangsters.\n",
      "tatooine is a lawless place ruled by hutt gangsters.\n",
      "TATOOINE IS A LAWLESS PLACE RULED BY HUTT GANGSTERS.\n",
      "Tatooine is a lawless place ruled by hutt gangsters.\n"
     ]
    }
   ],
   "source": [
    "x = 'Tatooine is a lawless place ruled by Hutt gangsters.'\n",
    "print(x.title())\n",
    "print(x.lower())\n",
    "print(x.upper())    \n",
    "print(x.capitalize())"
   ]
  },
  {
   "cell_type": "code",
   "execution_count": 34,
   "id": "5df08541",
   "metadata": {},
   "outputs": [
    {
     "name": "stdout",
     "output_type": "stream",
     "text": [
      "fdbfdb\n"
     ]
    }
   ],
   "source": [
    "x = 'abcdef'\n",
    "print(x[::-2]*2)"
   ]
  },
  {
   "cell_type": "code",
   "execution_count": 40,
   "id": "3a8d5168",
   "metadata": {},
   "outputs": [
    {
     "name": "stdout",
     "output_type": "stream",
     "text": [
      "potato\n",
      "['potato', 'radish', 'cauliflower', 'caaa']\n"
     ]
    }
   ],
   "source": [
    "my_list = ['caaa', 'potato', 'cauliflower', 'radish']\n",
    "v=2\n",
    "my_list2 = ['carrot', 'potato', 'cauliflower', 'radish']\n",
    "my_list.sort(key = lambda x: x[-v], reverse= True)\n",
    "print(my_list2[-3])\n",
    "print(my_list) \n"
   ]
  },
  {
   "cell_type": "code",
   "execution_count": 50,
   "id": "b502992c",
   "metadata": {},
   "outputs": [
    {
     "name": "stdout",
     "output_type": "stream",
     "text": [
      "Fre\n",
      "Fre\n",
      "FreixodeEspadaACi\n"
     ]
    }
   ],
   "source": [
    "x = 'FreixodeEspadaACinta'\n",
    "print(x[0:3:1])\n",
    "print(x[:3])\n",
    "print(x[:-3])"
   ]
  },
  {
   "cell_type": "code",
   "execution_count": 59,
   "id": "2889cf0d",
   "metadata": {},
   "outputs": [
    {
     "name": "stdout",
     "output_type": "stream",
     "text": [
      "Error 3\n"
     ]
    }
   ],
   "source": [
    "x = 'France'\n",
    "    \n",
    "def func(x):\n",
    "    return x[:-3]\n",
    "    \n",
    "try:\n",
    "    for i in range(3):\n",
    "        x = func(x)\n",
    "        assert x\n",
    "    print(x)    \n",
    "except IndexError:\n",
    "    print(\"Error 1\")\n",
    "except LookupError:\n",
    "    print(\"Error 2\")\n",
    "except:\n",
    "    print(\"Error 3\")"
   ]
  },
  {
   "cell_type": "code",
   "execution_count": 60,
   "id": "200c1a73",
   "metadata": {},
   "outputs": [
    {
     "name": "stdout",
     "output_type": "stream",
     "text": [
      "4\n"
     ]
    }
   ],
   "source": [
    "class Alpha:\n",
    "    def __init__(self, a=2):\n",
    "        self.a = a\n",
    "    def set(self, a):\n",
    "        self.a = a\n",
    "        return a\n",
    "    \n",
    "a = Alpha()\n",
    "print(a.set(a.a  + 2))"
   ]
  },
  {
   "cell_type": "code",
   "execution_count": 112,
   "id": "a3d613eb",
   "metadata": {},
   "outputs": [
    {
     "name": "stdout",
     "output_type": "stream",
     "text": [
      "[9, 2, 6, 3, 7, 5, 9, 5, 7, 1] [7, 4, 7, 8, 4, 4, 9, 2, 6, 5]\n"
     ]
    }
   ],
   "source": [
    "import random\n",
    "#x=random.sample([i for i in range(1,11)],10)\n",
    "#x=[random.randrange(1, 10) for i in range(10)]\n",
    "#x=[random.randint(1, 10) for i in range(10)]\n",
    "#x=random.choice([1, 2, 3,10,100,78, 45, 67, 89, 23])\n",
    "#x=random.choices([1,2,3,8,10,9,-1], k=3)\n",
    "xa=[random.randrange(1, 10) for i in range(10)]\n",
    "xi=[random.randint(1, 10) for i in range(10)]\n",
    "\n",
    "print(xa,xi)\n",
    "\n"
   ]
  },
  {
   "cell_type": "code",
   "execution_count": 127,
   "id": "7e9b8b72",
   "metadata": {},
   "outputs": [
    {
     "name": "stdout",
     "output_type": "stream",
     "text": [
      "Error in my_fun\n",
      "Finally block executed\n"
     ]
    }
   ],
   "source": [
    "def my_fun(x,y):                    # line 1\n",
    "    try:                            # line 2\n",
    "        assert x==y\n",
    "        x=x//y\n",
    "    except (ArithmeticError, LookupError):\n",
    "        print(\"Error in my_fun\")\n",
    "        # my code for except branch # line 5\n",
    "    except Exception:              # line 4\n",
    "        print(\"General Error\")  \n",
    "    finally:\n",
    "        print(\"Finally block executed\")\n",
    "\n",
    "x=my_fun(0, 0)\n"
   ]
  },
  {
   "cell_type": "code",
   "execution_count": 171,
   "id": "45c0ce32",
   "metadata": {},
   "outputs": [
    {
     "name": "stdout",
     "output_type": "stream",
     "text": [
      "(<class '__main__.C'>, <class '__main__.A'>, <class 'object'>)\n",
      "(<class '__main__.B'>, <class '__main__.C'>)\n",
      "D\n"
     ]
    }
   ],
   "source": [
    "class A:\n",
    "    def who_am_i(self):\n",
    "        print(\"Sou a classe A\")\n",
    "\n",
    "class B(A):\n",
    "    def who_am_i(self):\n",
    "        print(\"Sou a classe B\")\n",
    "\n",
    "class C(A):\n",
    "    def who_am_i(self):\n",
    "        print(\"Sou a classe C\")\n",
    "\n",
    "class D(B, C):\n",
    "    pass\n",
    "\n",
    "class E(D):\n",
    "    def who_am_i(self):\n",
    "        print(\"Sou a classe E\")\n",
    "\n",
    "print(C.__mro__)\n",
    "print(D.__bases__)\n",
    "print(E.__bases__[0].__name__)"
   ]
  },
  {
   "cell_type": "code",
   "execution_count": 178,
   "id": "97e360bd",
   "metadata": {},
   "outputs": [
    {
     "name": "stdout",
     "output_type": "stream",
     "text": [
      "['mfilipelopes@gmail.com', 'mario@gmail.com', 'test@test.org']\n"
     ]
    }
   ],
   "source": [
    "import csv\n",
    "def get_emails(filename):\n",
    "    emails = []\n",
    "    with open(filename, 'r',newline='') as csvfile:\n",
    "        reader = csv.DictReader(csvfile)\n",
    "        for row in reader:\n",
    "            if len(row) > 0 and '@' in row['email']:\n",
    "                emails.append(row['email'])\n",
    "    return emails   \n",
    "\n",
    "x = get_emails('emails.csv')    \n",
    "print(x)\n",
    "\n"
   ]
  },
  {
   "cell_type": "code",
   "execution_count": 189,
   "id": "8ed92f47",
   "metadata": {},
   "outputs": [
    {
     "name": "stdout",
     "output_type": "stream",
     "text": [
      "B\n",
      "[<class '__main__.D'>, <class '__main__.B'>, <class '__main__.C'>, <class '__main__.A'>, <class 'object'>]\n",
      "(<class '__main__.B'>, <class '__main__.C'>)\n"
     ]
    }
   ],
   "source": [
    "class A:\n",
    "    def speak(self):\n",
    "        print(\"A\")\n",
    "\n",
    "class B(A):\n",
    "    def speak(self):\n",
    "        print(\"B\")\n",
    "\n",
    "class C(A):\n",
    "    def speak(self):\n",
    "        print(\"C\")\n",
    "\n",
    "class D(B, C):  # herança múltipla\n",
    "    pass\n",
    "\n",
    "d = D()\n",
    "d.speak()\n",
    "print(D.mro())\n",
    "print(D.__bases__)\n",
    "\n"
   ]
  },
  {
   "cell_type": "code",
   "execution_count": null,
   "id": "048f7da5",
   "metadata": {},
   "outputs": [
    {
     "name": "stdout",
     "output_type": "stream",
     "text": [
      "20\n"
     ]
    }
   ],
   "source": [
    "def make_multiply_closure(x):\n",
    "    def multiply(y):\n",
    "        return x * y\n",
    "    return multiply\n",
    "\n",
    "m=make_multiply_closure(5)\n",
    "print(m(4))  \n",
    "\n"
   ]
  },
  {
   "cell_type": "code",
   "execution_count": 198,
   "id": "1303cd58",
   "metadata": {},
   "outputs": [
    {
     "name": "stdout",
     "output_type": "stream",
     "text": [
      "MyExamClou\n"
     ]
    }
   ],
   "source": [
    "f = open(\"myfile.txt\", \"a+\")\n",
    "for i in range(1,11):\n",
    "    f.write('Line #' + str(i) + '\\n')\n",
    "f.seek(0)\n",
    "print(f.readline(10))\n",
    "f.close()"
   ]
  },
  {
   "cell_type": "code",
   "execution_count": null,
   "id": "974df285",
   "metadata": {},
   "outputs": [
    {
     "name": "stdout",
     "output_type": "stream",
     "text": [
      "{'a': 5, 'c': 8, 'g': 9}\n",
      "True\n",
      "True\n",
      "False\n"
     ]
    }
   ],
   "source": [
    "class A:\n",
    "    def __init__(self):\n",
    "        self.a=5\n",
    "        \n",
    "class B(A):\n",
    "    def __init__(self):\n",
    "        self.a=6\n",
    "        self.b=7\n",
    "        self.c=4\n",
    "\n",
    "class C(A):\n",
    "    def __init__(self):\n",
    "        super().__init__()\n",
    "        self.c=8\n",
    "    def speak(self):\n",
    "        print(\"C\")\n",
    "\n",
    "class D(C):  # herança múltipla\n",
    "    pass\n",
    "\n",
    "a = A()\n",
    "d = D()\n",
    "d.g = 9\n",
    "d2 = D()\n",
    "print(d.__dict__)\n",
    "print(hasattr(d, 'g'))\n",
    "print(hasattr(d2, 'c'))\n",
    "print(isinstance(a, C))"
   ]
  },
  {
   "cell_type": "code",
   "execution_count": 5,
   "id": "f890efec",
   "metadata": {},
   "outputs": [
    {
     "name": "stdout",
     "output_type": "stream",
     "text": [
      "3.13.6 (tags/v3.13.6:4e66535, Aug  6 2025, 14:36:00) [MSC v.1944 64 bit (AMD64)]\n"
     ]
    }
   ],
   "source": [
    "import sys,os,math\n",
    "\n",
    "#print(sys.version)\n",
    "#print(os.environ)\n",
    "print(sys.version)\n",
    "\n",
    "#for i in dir(os):\n",
    "#    print(i,end='\\n')\n",
    "#print(\"-----------------------\\n\")\n",
    "#for i in dir(sys):\n",
    "#    print(i,end='\\n')\n",
    "\n",
    "\n"
   ]
  },
  {
   "cell_type": "code",
   "execution_count": 2,
   "id": "448c80c9",
   "metadata": {},
   "outputs": [
    {
     "name": "stdout",
     "output_type": "stream",
     "text": [
      "Programa iniciado\n"
     ]
    },
    {
     "ename": "SystemExit",
     "evalue": "Encerrando o programa...",
     "output_type": "error",
     "traceback": [
      "An exception has occurred, use %tb to see the full traceback.\n",
      "\u001b[31mSystemExit\u001b[39m\u001b[31m:\u001b[39m Encerrando o programa...\n"
     ]
    },
    {
     "name": "stderr",
     "output_type": "stream",
     "text": [
      "C:\\Users\\mario\\AppData\\Roaming\\Python\\Python313\\site-packages\\IPython\\core\\interactiveshell.py:3707: UserWarning: To exit: use 'exit', 'quit', or Ctrl-D.\n",
      "  warn(\"To exit: use 'exit', 'quit', or Ctrl-D.\", stacklevel=1)\n"
     ]
    }
   ],
   "source": [
    "import sys\n",
    "\n",
    "def main():\n",
    "    print(\"Programa iniciado\")\n",
    "    resposta = input(\"Deseja continuar? (s/n): \")\n",
    "    if resposta.lower() != 's':\n",
    "        sys.exit(\"Encerrando o programa...\")  # Pode passar uma mensagem\n",
    "    print(\"Continuando a execução...\")\n",
    "\n",
    "if __name__ == \"__main__\":\n",
    "    main()"
   ]
  },
  {
   "cell_type": "code",
   "execution_count": 16,
   "id": "8459923c",
   "metadata": {},
   "outputs": [
    {
     "name": "stdout",
     "output_type": "stream",
     "text": [
      "4\n",
      "\t\\\t\\\t\n"
     ]
    }
   ],
   "source": [
    "x = '\\t\\\\'*2 + '\\t'\n",
    "print(len(x.split('\\t')))\n",
    "print(x)"
   ]
  },
  {
   "cell_type": "code",
   "execution_count": 18,
   "id": "2b04022b",
   "metadata": {},
   "outputs": [
    {
     "name": "stdout",
     "output_type": "stream",
     "text": [
      "ArithmeticError\n"
     ]
    }
   ],
   "source": [
    "def my_func(x,y):\n",
    "    return x / y\n",
    "    \n",
    "try:\n",
    "    my_func(5,0)\n",
    "except ValueError:\n",
    "    print(\"ValueError\")\n",
    "except ArithmeticError:\n",
    "    print(\"ArithmeticError\")\n",
    "except:\n",
    "    print(\"General issue\")"
   ]
  },
  {
   "cell_type": "code",
   "execution_count": null,
   "id": "4b505882",
   "metadata": {},
   "outputs": [
    {
     "name": "stdout",
     "output_type": "stream",
     "text": [
      "2\n",
      "All good\n",
      "Done\n"
     ]
    }
   ],
   "source": [
    "class Delta:\n",
    "    D=1\n",
    "    def __init__(self, d):\n",
    "        self.__d = d + 1\n",
    "    \n",
    "try:\n",
    "    d = Delta(1)\n",
    "    print(d.__d)\n",
    "    #print(d._Delta__d)\n",
    "#except AttributeError:\n",
    "#    print(\"AttributeError\")\n",
    "except:\n",
    "    print(\"Error\")    \n",
    "else:\n",
    "    print(\"All good\")\n",
    "finally:\n",
    "    print(\"Done\") \n",
    "    "
   ]
  },
  {
   "cell_type": "code",
   "execution_count": 25,
   "id": "f40b2d66",
   "metadata": {},
   "outputs": [],
   "source": [
    "class Pessoa: \n",
    "    def __init__(self, nome, idade): \n",
    "        self.nome = nome \n",
    "        self.idade = idade \n",
    "    def falar(self): \n",
    "        print(f\"Oi, meu nome é {self.nome}\")\n",
    "        "
   ]
  },
  {
   "cell_type": "code",
   "execution_count": 26,
   "id": "a06e9db2",
   "metadata": {},
   "outputs": [
    {
     "name": "stdout",
     "output_type": "stream",
     "text": [
      "[0, 10]\n"
     ]
    }
   ],
   "source": [
    "my_list = [ x for x in range(20) if x % 2 == 0 if x % 5 == 0]\n",
    "print(my_list)"
   ]
  },
  {
   "cell_type": "code",
   "execution_count": 38,
   "id": "6025a9d6",
   "metadata": {},
   "outputs": [
    {
     "name": "stdout",
     "output_type": "stream",
     "text": [
      "True\n",
      "True\n"
     ]
    }
   ],
   "source": [
    "class Z:\n",
    "    def __init__(self, z):\n",
    "        self.z = z\n",
    "    \n",
    "z = Z(3)\n",
    "print(hasattr(z,'z'))\n",
    "print(isinstance(z,Z))"
   ]
  },
  {
   "cell_type": "code",
   "execution_count": null,
   "id": "93c57cad",
   "metadata": {},
   "outputs": [],
   "source": [
    "L = [\"ABC\\n\" for x in range(10)]\n",
    "f = open(\"myfile.txt\", \"w+\")\n",
    "f.writelines(L)\n",
    "f.seek(0)\n",
    "print(f.read())\n",
    "f.close()"
   ]
  },
  {
   "cell_type": "code",
   "execution_count": null,
   "id": "ae0abf4a",
   "metadata": {},
   "outputs": [
    {
     "name": "stdout",
     "output_type": "stream",
     "text": [
      "Hlyid\n",
      "---\n",
      "2141576453296\n",
      "2141572004528\n"
     ]
    }
   ],
   "source": [
    "str1='Hellomyfriend'\n",
    "\n",
    "str2='Hello'\n",
    "\n",
    "print(str1[::3])\n",
    "\n",
    "print(\"---\")\n",
    "if str1 == str2:\n",
    "    print(\"Strings são iguais\")\n",
    "\n",
    "print(id(str1))\n",
    "print(id(str2))"
   ]
  },
  {
   "cell_type": "code",
   "execution_count": 52,
   "id": "1aeb11f1",
   "metadata": {},
   "outputs": [
    {
     "name": "stdout",
     "output_type": "stream",
     "text": [
      "Hlyid\n"
     ]
    }
   ],
   "source": [
    "str1='Hellomyfriend'\n",
    "print(str1[::3])"
   ]
  },
  {
   "cell_type": "code",
   "execution_count": 53,
   "id": "f5eef622",
   "metadata": {},
   "outputs": [
    {
     "name": "stdout",
     "output_type": "stream",
     "text": [
      "lmrn\n"
     ]
    }
   ],
   "source": [
    "str1 = 'Hellomyfriend'\n",
    "resultado = ''.join([letra for i, letra in enumerate(str1, 1) if i % 3 == 0])\n",
    "print(resultado)  # Saída: 'lme' (3ª, 6ª e 9ª letras)"
   ]
  },
  {
   "cell_type": "code",
   "execution_count": null,
   "id": "77fada0a",
   "metadata": {},
   "outputs": [
    {
     "name": "stdout",
     "output_type": "stream",
     "text": [
      "[True, False, False, False, True]\n"
     ]
    }
   ],
   "source": [
    "list_1 = ['France','USA$','Canada!','Italy2','Mexico']   # line 1\n",
    "list_2 = list(map(lambda x: x.isalpha(), list_1))\n",
    "print(list_2)                                            # line 3\n"
   ]
  },
  {
   "cell_type": "code",
   "execution_count": 77,
   "id": "02869367",
   "metadata": {},
   "outputs": [
    {
     "name": "stdout",
     "output_type": "stream",
     "text": [
      "8 é maior que 10\n"
     ]
    }
   ],
   "source": [
    "if str(10) > str(8):\n",
    "    print(\"10 é maior que 8\")\n",
    "else:\n",
    "    print(\"8 é maior que 10\")   \n"
   ]
  },
  {
   "cell_type": "code",
   "execution_count": 2,
   "id": "118cebfe",
   "metadata": {},
   "outputs": [
    {
     "name": "stdout",
     "output_type": "stream",
     "text": [
      "['', 'OneDrive', 'Documentos', 'REPOS', 'PYTHON', 'Curso_Python-5H', 'Meus-Programas', 'Exames-SIMUL']\n"
     ]
    },
    {
     "name": "stderr",
     "output_type": "stream",
     "text": [
      "<>:1: SyntaxWarning: invalid escape sequence '\\O'\n",
      "<>:1: SyntaxWarning: invalid escape sequence '\\O'\n",
      "C:\\Users\\mario\\AppData\\Local\\Temp\\ipykernel_24268\\1590479340.py:1: SyntaxWarning: invalid escape sequence '\\O'\n",
      "  L1=\"\\OneDrive\\Documentos\\REPOS\\PYTHON\\Curso_Python-5H\\Meus-Programas\\Exames-SIMUL\"\n"
     ]
    }
   ],
   "source": [
    "L1=\"\\OneDrive\\Documentos\\REPOS\\PYTHON\\Curso_Python-5H\\Meus-Programas\\Exames-SIMUL\"\n",
    "lista1=L1.split('\\\\')\n",
    "print(lista1)"
   ]
  },
  {
   "cell_type": "code",
   "execution_count": 3,
   "id": "5a3653d2",
   "metadata": {},
   "outputs": [
    {
     "name": "stdout",
     "output_type": "stream",
     "text": [
      "Mario\n",
      "Filipe\n",
      "Lopes \n",
      "Candeias\n",
      "\n"
     ]
    }
   ],
   "source": [
    "f = open('myfile.txt', 'r')\n",
    "data = f.read()\n",
    "for x in data:\n",
    "    print(x, end='')\n",
    "f.close()"
   ]
  },
  {
   "cell_type": "code",
   "execution_count": 7,
   "id": "4e3c5e35",
   "metadata": {},
   "outputs": [
    {
     "name": "stdout",
     "output_type": "stream",
     "text": [
      "1\n"
     ]
    }
   ],
   "source": [
    "from math import factorial\n",
    " \n",
    "try:\n",
    "    print(factorial(0))\n",
    "except ValueError:\n",
    "    print(\"Error #2\")\n",
    "except:\n",
    "    print(\"Error #1\")"
   ]
  },
  {
   "cell_type": "code",
   "execution_count": 12,
   "id": "f3f81ec6",
   "metadata": {},
   "outputs": [
    {
     "name": "stdout",
     "output_type": "stream",
     "text": [
      "6\n"
     ]
    }
   ],
   "source": [
    "def fat(n):\n",
    "    if n < 0:\n",
    "        raise ValueError(\"Não existe fatorial de número negativo!\")\n",
    "        return None\n",
    "    elif n <= 1:  # Caso base: fatorial de 0 ou 1 é 1\n",
    "        return 1\n",
    "    else:  # Chamada recursiva\n",
    "        return n * fat(n - 1)\n",
    "    \n",
    "print(fat(3))  # Saída: 120"
   ]
  },
  {
   "cell_type": "code",
   "execution_count": null,
   "id": "521ec31e",
   "metadata": {},
   "outputs": [
    {
     "name": "stdout",
     "output_type": "stream",
     "text": [
      "Length of hypotenuse is:  5.0\n"
     ]
    }
   ],
   "source": [
    "from math import hypot\n",
    "\n",
    "x=float(input(\"Enter first length: \"))\n",
    "y=float(input(\"Enter second length: \"))\n",
    "print(\"Length of hypotenuse is: \", hypot(x,y))"
   ]
  },
  {
   "cell_type": "code",
   "execution_count": 15,
   "id": "18af0264",
   "metadata": {},
   "outputs": [
    {
     "name": "stdout",
     "output_type": "stream",
     "text": [
      "1\n",
      "7\n"
     ]
    }
   ],
   "source": [
    "\n",
    "class A:\n",
    "    a=0\n",
    "    def __init__(self, val):\n",
    "        self.__b = val\n",
    "        A.a += 1\n",
    "    def __str__(self):\n",
    "        return \"ABC\"\n",
    "\n",
    "a=A(7)\n",
    "print(a.a)  # Saída: 1\n",
    "print(a._A__b)  # Saída: 7  "
   ]
  },
  {
   "cell_type": "code",
   "execution_count": 19,
   "id": "0a869e71",
   "metadata": {},
   "outputs": [
    {
     "name": "stdout",
     "output_type": "stream",
     "text": [
      "6\n",
      "1\n"
     ]
    }
   ],
   "source": [
    "x='mariocandeias'; y=x.rfind('a',0,8); print(y)\n",
    "x='mariocandeias'; y=x.find('a',0,8); print(y)"
   ]
  },
  {
   "cell_type": "code",
   "execution_count": null,
   "id": "79670e01",
   "metadata": {},
   "outputs": [],
   "source": [
    "frase = \"Python é poderoso\"\n",
    "for i in range(len(frase)):\n",
    "        print(i, frase[i], end='\\n ')\n"
   ]
  },
  {
   "cell_type": "code",
   "execution_count": 28,
   "id": "614b4c76",
   "metadata": {},
   "outputs": [
    {
     "name": "stdout",
     "output_type": "stream",
     "text": [
      "65\n",
      "A 65\n",
      "bee\n"
     ]
    }
   ],
   "source": [
    "print(str(ord('A')))\n",
    "print(chr(65), ord('A'))  # Saída: A 65\n",
    "print(chr(98) + 2*chr(101))"
   ]
  },
  {
   "cell_type": "code",
   "execution_count": 32,
   "id": "79551221",
   "metadata": {},
   "outputs": [
    {
     "name": "stdout",
     "output_type": "stream",
     "text": [
      "{'__module__': '__main__', '__firstlineno__': 1, '__init__': <function Pessoa.__init__ at 0x00000225C212F560>, 'falar': <function Pessoa.falar at 0x00000225C212E660>, '__static_attributes__': ('__idade', 'nome'), '__dict__': <attribute '__dict__' of 'Pessoa' objects>, '__weakref__': <attribute '__weakref__' of 'Pessoa' objects>, '__doc__': None}\n"
     ]
    }
   ],
   "source": [
    "class Pessoa:\n",
    "    def __init__(self, nome, idade):\n",
    "        self.nome = nome\n",
    "        self.__idade = idade  # \"privado\"\n",
    "    def falar(self):\n",
    "        print(f\"Oi, meu nome é {self.nome} e tenho {self.__idade} anos\")\n",
    "\n",
    "p = Pessoa(\"Ana\", 25)\n",
    "#print(p.__dict__)\n",
    "print(Pessoa.__dict__)\n"
   ]
  },
  {
   "cell_type": "code",
   "execution_count": 36,
   "id": "b9f797c0",
   "metadata": {},
   "outputs": [
    {
     "name": "stdout",
     "output_type": "stream",
     "text": [
      "3.13.6\n",
      "('3', '13', '6')\n",
      "CPython\n",
      "Windows-11-10.0.26100-SP0\n"
     ]
    }
   ],
   "source": [
    "    import platform\n",
    "    print(platform.python_version())\n",
    "    print(platform.python_version_tuple())\n",
    "    print(platform.python_implementation())\n",
    "    print(platform.platform())\n",
    "\n",
    "    "
   ]
  },
  {
   "cell_type": "code",
   "execution_count": 84,
   "id": "74e18db9",
   "metadata": {},
   "outputs": [
    {
     "name": "stdout",
     "output_type": "stream",
     "text": [
      "Selected numbers are:  5\n",
      "Selected numbers are:  [0, 9, 8, 5, 6]\n",
      "Selected numbers are:  [6, 4, 1, 0, 9]\n",
      "Selected numbers are:  [8, 8, 0, 3, 7]\n"
     ]
    }
   ],
   "source": [
    "import random\n",
    "print(\"Selected numbers are: \", random.randrange(0,10,5))\n",
    "\n",
    "print(\"Selected numbers are: \", random.sample(range(10),k=5))\n",
    "\n",
    "print(\"Selected numbers are: \", [random.randint(0,10) for x in range(5)])\n",
    "\n",
    "print(\"Selected numbers are: \", random.choices(range(10),k=5))"
   ]
  },
  {
   "cell_type": "code",
   "execution_count": 87,
   "id": "e458ef31",
   "metadata": {},
   "outputs": [
    {
     "name": "stdout",
     "output_type": "stream",
     "text": [
      "y= [5, 2] x= []\n"
     ]
    }
   ],
   "source": [
    "y,x = [5,2],[]    \n",
    "print(\"y=\", y,\"x=\", x)"
   ]
  },
  {
   "cell_type": "code",
   "execution_count": 90,
   "id": "e9bcb597",
   "metadata": {},
   "outputs": [
    {
     "name": "stdout",
     "output_type": "stream",
     "text": [
      "ZeroDivisionError\n"
     ]
    }
   ],
   "source": [
    "def func(x,y):\n",
    "    return x/(y-4)\n",
    "    \n",
    "try:\n",
    "    print(func(1,4))\n",
    "except ZeroDivisionError:\n",
    "    print(\"ZeroDivisionError\")    \n",
    "except ArithmeticError:\n",
    "    print(\"ArithmeticError\")\n",
    "except:\n",
    "    print(\"Misc. Error\")"
   ]
  },
  {
   "cell_type": "code",
   "execution_count": null,
   "id": "dd07014f",
   "metadata": {},
   "outputs": [
    {
     "name": "stdout",
     "output_type": "stream",
     "text": [
      "10\n"
     ]
    }
   ],
   "source": [
    "def f(x):\n",
    "    def g(y):\n",
    "        return 2*x + y\n",
    "    return g\n",
    "    \n",
    "k = f(3)\n",
    " print(k(4))"
   ]
  },
  {
   "cell_type": "code",
   "execution_count": 106,
   "id": "c31efdc0",
   "metadata": {},
   "outputs": [
    {
     "name": "stdout",
     "output_type": "stream",
     "text": [
      "!\n",
      "y\n"
     ]
    }
   ],
   "source": [
    "from math import ceil\n",
    "import string\n",
    "    \n",
    "def func(g,x):\n",
    "    return g(x) + 1\n",
    "    \n",
    "#print(func(lambda x: ceil(x),3.2))\n",
    "#print(ord('1'))\n",
    "print(min(\"IlovePython!\"))\n",
    "print(max(\"IlovePython!\"))"
   ]
  },
  {
   "cell_type": "code",
   "execution_count": 117,
   "id": "8eb19fe4",
   "metadata": {},
   "outputs": [
    {
     "name": "stdout",
     "output_type": "stream",
     "text": [
      "Class1 with a=6\n"
     ]
    }
   ],
   "source": [
    "class Class1:\n",
    "    def __init__(self):\n",
    "        self.a = 4\n",
    "    \n",
    "    def set(self):\n",
    "        self.a += 1\n",
    "        return self.a\n",
    "    \n",
    "    def __str__(self):\n",
    "        return f\"Class1 with a={self.a}\"\n",
    "    \n",
    "class Class2(Class1):\n",
    "    def set(self):\n",
    "        self.a += 2\n",
    "        return self.a\n",
    "    def __str__(self):\n",
    "        return f\"Class1 with a={self.a}\"    \n",
    "    \n",
    "c=Class2()\n",
    "c.set()\n",
    "print(c)"
   ]
  },
  {
   "cell_type": "code",
   "execution_count": 126,
   "id": "bde73b63",
   "metadata": {},
   "outputs": [
    {
     "name": "stdout",
     "output_type": "stream",
     "text": [
      "[6, 0, 4]\n"
     ]
    }
   ],
   "source": [
    "list1 = [6, 9,0,4, 7,5]\n",
    "list2 = list(filter(lambda x : x%2==0, list1))\n",
    "\n",
    "print(list2)  # Saída: [78, 42]"
   ]
  },
  {
   "cell_type": "code",
   "execution_count": 128,
   "id": "e599aa1b",
   "metadata": {},
   "outputs": [
    {
     "name": "stdout",
     "output_type": "stream",
     "text": [
      "0 1 2 3 "
     ]
    }
   ],
   "source": [
    "for i in range(4):\n",
    "    print(i, end=' ')"
   ]
  },
  {
   "cell_type": "code",
   "execution_count": null,
   "id": "06b38df7",
   "metadata": {},
   "outputs": [
    {
     "name": "stdout",
     "output_type": "stream",
     "text": [
      "True\n",
      "False\n",
      "True\n",
      "True\n",
      "{'b': 3, 'd': 2}\n",
      "{'b': 0}\n"
     ]
    }
   ],
   "source": [
    "class A:\n",
    "    a=1\n",
    "    def __init__(self, x=0):\n",
    "        self.b = x\n",
    "    \n",
    "class B(A):\n",
    "    c = 0\n",
    "    def __str__(self):\n",
    "        return \"B\"\n",
    "    \n",
    "class C(B):\n",
    "    d = 0\n",
    "    \n",
    "beta = B(3)\n",
    "beta.d = 2\n",
    "cc= C()\n",
    "\n",
    "print(hasattr(B, 'a' ))\n",
    "print(hasattr(B, 'b' ))\n",
    "print(hasattr(B, 'c' ))\n",
    "\n",
    "print(hasattr(C, 'd' ))\n",
    "print(beta.__dict__)\n",
    "#print(cc.__dict__)  "
   ]
  },
  {
   "cell_type": "code",
   "execution_count": 145,
   "id": "77b776fc",
   "metadata": {},
   "outputs": [
    {
     "name": "stdout",
     "output_type": "stream",
     "text": [
      "MinhaClasse\n",
      "(<class '__main__.CasasClass'>,)\n",
      "object\n"
     ]
    }
   ],
   "source": [
    "class CasasClass:\n",
    "    pass\n",
    "\n",
    "class MinhaClasse(CasasClass):\n",
    "    pass\n",
    "\n",
    "print(MinhaClasse.__name__)  \n",
    "print(MinhaClasse.__bases__)  \n",
    "print(CasasClass.__bases__[0].__name__) "
   ]
  },
  {
   "cell_type": "code",
   "execution_count": 149,
   "id": "24f28bf0",
   "metadata": {},
   "outputs": [
    {
     "name": "stdout",
     "output_type": "stream",
     "text": [
      "Value is out of range 500 \n",
      "End of program\n"
     ]
    }
   ],
   "source": [
    "class NotInRangeError(Exception):\n",
    "    def __init__(self, val, message=\"Value is out of range\"):\n",
    "        self.val = val\n",
    "        self.message = message\n",
    "        super().__init__(self.message, self.val)\n",
    "    \n",
    "try:\n",
    "    guess = int(input(\"Enter integer between 0 and 100: \"))\n",
    "    if not 0 <= guess <= 100:\n",
    "        raise NotInRangeError(guess)\n",
    "except Exception as ex:\n",
    "    for arg in ex.args:\n",
    "        print(arg, end=' ')\n",
    "else:\n",
    "    print(\"You entered a valid number:\", guess) \n",
    "finally:\n",
    "    print(\"\\nEnd of program\")"
   ]
  },
  {
   "cell_type": "code",
   "execution_count": 151,
   "id": "58257ba6",
   "metadata": {},
   "outputs": [
    {
     "name": "stdout",
     "output_type": "stream",
     "text": [
      "ex.args: ('Valor inválido', 12)\n",
      "Imprimindo separadamente:\n",
      "Valor inválido\n",
      "12\n"
     ]
    }
   ],
   "source": [
    "# Definição de exceção personalizada\n",
    "class MinhaErro(Exception):\n",
    "    def __init__(self, valor, mensagem=\"Valor inválido\"):\n",
    "        self.valor = valor\n",
    "        self.mensagem = mensagem\n",
    "        super().__init__(self.mensagem, self.valor)\n",
    "\n",
    "# Função principal\n",
    "def main():\n",
    "    try:\n",
    "        # Simula entrada de usuário\n",
    "        numero = int(input(\"Digite um número entre 0 e 10: \"))\n",
    "        if not 0 <= numero <= 10:\n",
    "            raise MinhaErro(numero)  # Lança a exceção personalizada\n",
    "    except Exception as ex:\n",
    "        print(\"ex.args:\", ex.args)  # Mostra os argumentos da exceção\n",
    "        print(\"Imprimindo separadamente:\")\n",
    "        for arg in ex.args:\n",
    "            print(arg)\n",
    "\n",
    "# Executa\n",
    "if __name__ == \"__main__\":\n",
    "    main()\n"
   ]
  },
  {
   "cell_type": "code",
   "execution_count": 158,
   "id": "9f89baa6",
   "metadata": {},
   "outputs": [
    {
     "name": "stdout",
     "output_type": "stream",
     "text": [
      "RAA\n"
     ]
    }
   ],
   "source": [
    "pwd=input(\"Enter a password:\")\n",
    "    \n",
    "if pwd.isalpha():\n",
    "    pwd=pwd[:-1]+\"A\"\n",
    "    print(pwd)\n",
    "    \n",
    "elif pwd.isalnum():\n",
    "    pwd[-1]=\"N\"\n",
    "    print(pwd)\n",
    "else:\n",
    "    print(\"Password must be alphanumeric.\")"
   ]
  },
  {
   "cell_type": "code",
   "execution_count": 160,
   "id": "3fa4e21e",
   "metadata": {},
   "outputs": [
    {
     "name": "stdout",
     "output_type": "stream",
     "text": [
      "S1\n"
     ]
    }
   ],
   "source": [
    "pwd=\"TESTS\"\n",
    "pwd=pwd[-1]+\"1\" \n",
    "print(pwd)  # Saída: S1\n"
   ]
  },
  {
   "cell_type": "code",
   "execution_count": 168,
   "id": "34b600fa",
   "metadata": {},
   "outputs": [
    {
     "name": "stdout",
     "output_type": "stream",
     "text": [
      "2.0\n",
      "2\n",
      "4.0\n"
     ]
    }
   ],
   "source": [
    "    x = 5//2.0\n",
    "    y = 5 % 3\n",
    "    z = x + y\n",
    "    print(x)\n",
    "    print(y)\n",
    "    print(z)"
   ]
  },
  {
   "cell_type": "code",
   "execution_count": 200,
   "id": "52331508",
   "metadata": {},
   "outputs": [
    {
     "name": "stdout",
     "output_type": "stream",
     "text": [
      "Dicionario:  {0: ('Luke',), 1: ('Han',), 2: ('Leia',)}\n",
      "dict_keys([0, 1, 2])\n",
      "dict_values([('Luke',), ('Han',), ('Leia',)])\n",
      "dict_items([(0, ('Luke',)), (1, ('Han',)), (2, ('Leia',))])\n",
      "True\n",
      "dict_items([(0, ('Luke',)), (1, ('Han',)), (2, ('Ben',))])\n",
      "-----\n",
      "Tudo: dict_values([('Luke',), ('Han',), ('Ben',)])\n",
      "Valor da chave: ('Luke',)\n",
      "Tudo: dict_values([('Luke',), ('Han',), ('Ben',)])\n",
      "Valor da chave: ('Han',)\n",
      "Tudo: dict_values([('Luke',), ('Han',), ('Ben',)])\n",
      "Valor da chave: ('Ben',)\n",
      "('Luke',) <class 'tuple'>\n",
      "('Han',) <class 'tuple'>\n",
      "('Ben',) <class 'tuple'>\n"
     ]
    }
   ],
   "source": [
    "my_dict = {}\n",
    "my_list = ['Luke', 'Han', 'Leia', 'Ben']\n",
    "\n",
    "for i in range(len(my_list)-1):\n",
    "    my_dict[i] = (my_list[i], )\n",
    "\n",
    "print(\"Dicionario: \", my_dict)\n",
    "print(my_dict.keys())\n",
    "print(my_dict.values())\n",
    "print(my_dict.items())\n",
    "print(1 in my_dict) \n",
    "#valor = my_dict.pop(2)\n",
    "my_dict.update({2: ('Ben',)})\n",
    "print(my_dict.items())\n",
    "print(\"-----\")\n",
    "for i in sorted(my_dict.keys()):\n",
    "    j = my_dict[i]\n",
    "    print(\"Tudo:\",my_dict.values())\n",
    "    print(\"Valor da chave:\",my_dict.get(i))  \n",
    "    #print(j[i])   # Luke -> exception : IndexError: tuple index out of range\n",
    "    #print(j)      # ('Luke',) -> ('Han',) -> ('Leia',)\n",
    "    #print(j['0']) # exception : TypeError: tuple indices must be integers or     \n",
    "for v in my_dict.values():\n",
    "    print(v, type(v))"
   ]
  },
  {
   "cell_type": "code",
   "execution_count": 205,
   "id": "3276f4a5",
   "metadata": {},
   "outputs": [
    {
     "name": "stdout",
     "output_type": "stream",
     "text": [
      "345\n",
      ",543\n"
     ]
    }
   ],
   "source": [
    "a = 3\n",
    "b = 4\n",
    "c = 5\n",
    "#print(a,b,c,',',c,b,a)\n",
    "#print(a,b,c,',',c,b,a,sep='')\n",
    "print(a,b,c, sep='', end=None)\n",
    "print(',',c,b,a, sep='')"
   ]
  },
  {
   "cell_type": "code",
   "execution_count": 207,
   "id": "fe95d946",
   "metadata": {},
   "outputs": [
    {
     "name": "stdout",
     "output_type": "stream",
     "text": [
      "1 2 3\n"
     ]
    }
   ],
   "source": [
    "X = (5, 3, 5, 1, 8)\n",
    "#print(X.count(5))\n",
    "\n",
    "tupla = (1, 2, 3)\n",
    "a, b, c = tupla\n",
    "print(a, b, c)  # 1 2 3"
   ]
  },
  {
   "cell_type": "code",
   "execution_count": 208,
   "id": "979417b8",
   "metadata": {},
   "outputs": [
    {
     "name": "stdout",
     "output_type": "stream",
     "text": [
      "53\n"
     ]
    }
   ],
   "source": [
    "x = input()\n",
    "y = input()\n",
    "print (x + y)"
   ]
  },
  {
   "cell_type": "code",
   "execution_count": 212,
   "id": "357fa446",
   "metadata": {},
   "outputs": [
    {
     "name": "stdout",
     "output_type": "stream",
     "text": [
      "0\n",
      "1\n",
      "1\n",
      "1\n",
      "0.0\n",
      "0\n",
      "1\n"
     ]
    }
   ],
   "source": [
    "x=1\n",
    "y=0\n",
    "    \n",
    "z = x & y\n",
    "print(z)    # 0\n",
    "    \n",
    "z = x | y\n",
    "print(z)    # 1\n",
    "    \n",
    "z = x ^ y\n",
    "print(z)    # 1\n",
    "    \n",
    "z = x << y\n",
    "print(z)    # 0\n",
    "\n",
    "print(1//2.0)  # Saída: 0\n",
    "\n",
    "print(int(False))  # Saída: 0\n",
    "print(int(True))   # Saída: 1\n"
   ]
  },
  {
   "cell_type": "code",
   "execution_count": 214,
   "id": "b867c8ac",
   "metadata": {},
   "outputs": [
    {
     "name": "stdout",
     "output_type": "stream",
     "text": [
      "1\n"
     ]
    }
   ],
   "source": [
    "def sub(a, b=1):\n",
    "    if a>b:\n",
    "        return a-b\n",
    "    else:\n",
    "        return b-a\n",
    "    \n",
    "print(sub(3,4)) "
   ]
  },
  {
   "cell_type": "code",
   "execution_count": 215,
   "id": "4fd6d7b8",
   "metadata": {},
   "outputs": [
    {
     "name": "stdout",
     "output_type": "stream",
     "text": [
      "['France', 'USA', 'Italy']\n"
     ]
    }
   ],
   "source": [
    "countries1 = ['France', 'USA', 'Italy']\n",
    "countries2 = countries1\n",
    "countries3 = countries1[:]\n",
    "\n",
    "print(countries3)\n"
   ]
  },
  {
   "cell_type": "code",
   "execution_count": 216,
   "id": "49499c36",
   "metadata": {},
   "outputs": [
    {
     "name": "stdout",
     "output_type": "stream",
     "text": [
      "['England', 'USA', 'Italy'] ['England', 'USA', 'Italy'] ['France', 'Canada', 'Italy']\n",
      "England\n",
      "USA\n",
      "England\n",
      "USA\n",
      "France\n",
      "Canada\n",
      "4\n"
     ]
    }
   ],
   "source": [
    "countries1 = ['France', 'USA', 'Italy']\n",
    "countries2 = countries1\n",
    "countries3 = countries1[:]\n",
    "    \n",
    "countries2[0] = 'England'\n",
    "countries3[1] = 'Canada'\n",
    "    \n",
    "res = 0\n",
    "    \n",
    "print(countries1, countries2, countries3) \n",
    "# ['England', 'USA', 'Italy'] ['England', 'USA', 'Italy'] ['France', 'Canada', 'Italy']\n",
    "    \n",
    "for i in (countries1, countries2, countries3):\n",
    "    print(i[0])    # England -> England -> France\n",
    "    if i[0] == 'England':\n",
    "        res += 1\n",
    "    print(i[1])    # USA -> USA -> Canada\n",
    "    if i[1] == 'Canada':\n",
    "        res += 2\n",
    "    \n",
    "print(res)         # 4"
   ]
  }
 ],
 "metadata": {
  "kernelspec": {
   "display_name": "Python 3",
   "language": "python",
   "name": "python3"
  },
  "language_info": {
   "codemirror_mode": {
    "name": "ipython",
    "version": 3
   },
   "file_extension": ".py",
   "mimetype": "text/x-python",
   "name": "python",
   "nbconvert_exporter": "python",
   "pygments_lexer": "ipython3",
   "version": "3.13.6"
  }
 },
 "nbformat": 4,
 "nbformat_minor": 5
}
