{
 "cells": [
  {
   "cell_type": "code",
   "execution_count": 11,
   "id": "f54066fa",
   "metadata": {},
   "outputs": [
    {
     "name": "stdout",
     "output_type": "stream",
     "text": [
      "False\n",
      "False\n",
      "{'k': 9}\n",
      "True\n",
      "True\n",
      "False\n"
     ]
    }
   ],
   "source": [
    "class A:\n",
    "    y= 20\n",
    "    __x = 10\n",
    "    def __init__(self,k):\n",
    "        self.k = k\n",
    "    \n",
    "obj = A(9)\n",
    "\n",
    "print(hasattr(obj, '__x'))\n",
    "print(hasattr(A, '__x'))\n",
    "\n",
    "print(obj.__dict__)\n",
    "print(hasattr(obj, 'y'))\n",
    "print(hasattr(A, 'y'))\n",
    "print(hasattr(A, 'obj.k'))"
   ]
  },
  {
   "cell_type": "code",
   "execution_count": null,
   "id": "d8f08c12",
   "metadata": {},
   "outputs": [
    {
     "name": "stdout",
     "output_type": "stream",
     "text": [
      "['abc@gmail.com', 'xyz@yahoo.com', 'jkl@gmail.com']\n",
      "8\n"
     ]
    }
   ],
   "source": [
    "emails1 = ['abc_at_gmail.com', 'xyz_at_yahoo.com', 'jkl_gmail.com']\n",
    "emails2 = map(lambda x: x.replace('_at_', '@').replace('_', '@'), emails1)\n",
    "print(list(emails2))\n",
    "x=2; x **= 3\n",
    "print(x)"
   ]
  },
  {
   "cell_type": "code",
   "execution_count": null,
   "id": "59f68c56",
   "metadata": {},
   "outputs": [
    {
     "name": "stdout",
     "output_type": "stream",
     "text": [
      "line 1\n",
      "line 2\n",
      "line 3\n",
      "line 4"
     ]
    }
   ],
   "source": [
    "strm = open('file.txt','rt')\n",
    "    \n",
    "#x = strm.readlines()\n",
    "for i in strm:\n",
    "    #x = strm.readline(i)\n",
    "    read(n)\n",
    "    print(i, end=\"\")\n",
    "    \n",
    "strm.close()"
   ]
  },
  {
   "cell_type": "code",
   "execution_count": 34,
   "id": "78f3b522",
   "metadata": {},
   "outputs": [
    {
     "name": "stdout",
     "output_type": "stream",
     "text": [
      "Conteúdo do arquivo:\n",
      "----------------------------------------\n",
      "line 1\n",
      "line 2\n",
      "line 3\n",
      "line 4\n",
      "----------------------------------------\n",
      "Total de linhas: 4\n",
      "Total de caracteres: 27\n",
      "\n",
      "Função que lê um arquivo com tratamento robusto de erros\n",
      "\n",
      "Help on function ler_arquivo_seguro in module __main__:\n",
      "\n",
      "ler_arquivo_seguro()\n",
      "    Função que lê um arquivo com tratamento robusto de erros\n",
      "\n"
     ]
    }
   ],
   "source": [
    "def ler_arquivo_seguro():\n",
    "    \"\"\"\n",
    "    Função que lê um arquivo com tratamento robusto de erros\n",
    "    \"\"\"\n",
    "    nome_arquivo = 'file.txt'\n",
    "    \n",
    "    try:\n",
    "        # Abre o arquivo com encoding UTF-8 (recomendado)\n",
    "        with open(nome_arquivo, 'r', encoding='utf-8') as f:\n",
    "            conteudo = f.read()\n",
    "            \n",
    "            # Verifica se o arquivo está vazio\n",
    "            if not conteudo.strip():\n",
    "                print(\"O arquivo está vazio!\")\n",
    "                return None\n",
    "                \n",
    "            print(\"Conteúdo do arquivo:\")\n",
    "            print(\"-\" * 40)\n",
    "            print(conteudo)\n",
    "            print(\"-\" * 40)\n",
    "            \n",
    "            # Informações adicionais\n",
    "            linhas = conteudo.split('\\n')\n",
    "            print(f\"Total de linhas: {len(linhas)}\")\n",
    "            print(f\"Total de caracteres: {len(conteudo)}\")\n",
    "            \n",
    "            return conteudo\n",
    "            \n",
    "    except FileNotFoundError:\n",
    "        print(f\"Erro: O arquivo '{nome_arquivo}' não foi encontrado!\")\n",
    "        print(\"Certifique-se de que o arquivo existe no diretório atual.\")\n",
    "        return None\n",
    "        \n",
    "    except PermissionError:\n",
    "        print(f\"Erro: Permissão negada para ler o arquivo '{nome_arquivo}'!\")\n",
    "        return None\n",
    "        \n",
    "    except UnicodeDecodeError:\n",
    "        print(\"Erro: Problema com a codificação do arquivo.\")\n",
    "        print(\"Tentando ler com encoding diferente...\")\n",
    "        \n",
    "        # Tenta ler com encoding alternativo\n",
    "        try:\n",
    "            with open(nome_arquivo, 'r', encoding='latin-1') as f:\n",
    "                conteudo = f.read()\n",
    "                print(\"Conteúdo (latin-1):\")\n",
    "                print(conteudo)\n",
    "                return conteudo\n",
    "        except:\n",
    "            print(\"Não foi possível ler o arquivo com encoding alternativo.\")\n",
    "            return None\n",
    "            \n",
    "    except Exception as e:\n",
    "        print(f\"Erro inesperado: {e}\")\n",
    "        return None\n",
    "\n",
    "# Executa a função\n",
    "if __name__ == \"__main__\":\n",
    "    ler_arquivo_seguro()\n",
    "    \n",
    "print(ler_arquivo_seguro.__doc__)\n",
    "help(ler_arquivo_seguro)"
   ]
  },
  {
   "cell_type": "code",
   "execution_count": 37,
   "id": "da53627a",
   "metadata": {},
   "outputs": [
    {
     "name": "stdout",
     "output_type": "stream",
     "text": [
      "0.3333333333333333\n",
      "3\n"
     ]
    }
   ],
   "source": [
    "s = str(1/3)\n",
    "print(s)\n",
    "print(s[-1])"
   ]
  },
  {
   "cell_type": "code",
   "execution_count": 39,
   "id": "e632c57c",
   "metadata": {},
   "outputs": [
    {
     "name": "stdout",
     "output_type": "stream",
     "text": [
      "False True True False\n",
      "0 0\n"
     ]
    }
   ],
   "source": [
    "l1 = [1, 2, 3, 4, 5]\n",
    "l2 = l1\n",
    "    \n",
    "del l1[1:4]\n",
    "l2[0] = 0\n",
    "    \n",
    "print(id(l1) != id(l2), end = \" \")\n",
    "print(len(l1) == len(l2), end = \" \")\n",
    "print(l1[1] == l2[1], end = \" \")\n",
    "print(l1[0] != l2[-2])\n",
    "\n",
    "print(l1[0], l2[-2])"
   ]
  },
  {
   "cell_type": "code",
   "execution_count": 40,
   "id": "bf662ea0",
   "metadata": {},
   "outputs": [
    {
     "name": "stdout",
     "output_type": "stream",
     "text": [
      "Python-PCAP-31-03\n"
     ]
    }
   ],
   "source": [
    "d = {\"language\": \"Python\", \"exam\": \"PCAP\", \"ver\": \"31-03\"}\n",
    "s = \"-\".join(map(str, d.values()))  # Une os VALORES convertidos para string\n",
    "print(s)  # Output: Python-PCAP-31-03"
   ]
  },
  {
   "cell_type": "code",
   "execution_count": 57,
   "id": "c54dd0d5",
   "metadata": {},
   "outputs": [
    {
     "name": "stdout",
     "output_type": "stream",
     "text": [
      "[1, 4, 9, 16, 25]\n"
     ]
    }
   ],
   "source": [
    "import math\n",
    "d = [1,2,3,4,5]\n",
    "#s = list(map(math.sqrt, d))  \n",
    "\n",
    "s = list(map(lambda x: x**2, d))  # Correto: map com lambda\n",
    "#resultado = list(map(math.sqrt, d))\n",
    "print(s)"
   ]
  },
  {
   "cell_type": "code",
   "execution_count": 67,
   "id": "deabf30e",
   "metadata": {},
   "outputs": [
    {
     "name": "stdout",
     "output_type": "stream",
     "text": [
      "2.0\n"
     ]
    }
   ],
   "source": [
    "import math as mm\n",
    "print((lambda a,b,c: (-b+mm.sqrt(b**2-4*a*c))/(2*a)) (1,0,-4))"
   ]
  },
  {
   "cell_type": "code",
   "execution_count": 68,
   "id": "0a94bd21",
   "metadata": {},
   "outputs": [
    {
     "name": "stdout",
     "output_type": "stream",
     "text": [
      "(2.0, -2.0)\n"
     ]
    }
   ],
   "source": [
    "import math as mm\n",
    "\n",
    "# Retorna ambas as soluções diretamente\n",
    "print((lambda a, b, c: (\n",
    "    (-b + mm.sqrt(b**2 - 4*a*c)) / (2*a),\n",
    "    (-b - mm.sqrt(b**2 - 4*a*c)) / (2*a)\n",
    "))(1, 0, -4))"
   ]
  },
  {
   "cell_type": "code",
   "execution_count": 70,
   "id": "ab3c2923",
   "metadata": {},
   "outputs": [
    {
     "name": "stdout",
     "output_type": "stream",
     "text": [
      "(2.0, -2.0)\n",
      "Não há soluções reais\n",
      "-2.0\n"
     ]
    }
   ],
   "source": [
    "import math as mm\n",
    "\n",
    "def resolver_quadratica(a, b, c):\n",
    "    discriminante = b**2 - 4*a*c\n",
    "    if discriminante < 0:\n",
    "        return \"Não há soluções reais\"\n",
    "    elif discriminante == 0:\n",
    "        return -b / (2*a)  # Uma única solução\n",
    "    else:\n",
    "        return (\n",
    "            (-b + mm.sqrt(discriminante)) / (2*a),\n",
    "            (-b - mm.sqrt(discriminante)) / (2*a)\n",
    "        )\n",
    "\n",
    "# Testando\n",
    "print(resolver_quadratica(1, 0, -4))  # (2.0, -2.0)\n",
    "print(resolver_quadratica(1, 0, 4))   # Não há soluções reais\n",
    "print(resolver_quadratica(1, 4, 4))   # -2.0 (solução única)"
   ]
  },
  {
   "cell_type": "code",
   "execution_count": 79,
   "id": "039a2c1d",
   "metadata": {},
   "outputs": [
    {
     "name": "stdout",
     "output_type": "stream",
     "text": [
      "Descrição: Erro na base de dados\n",
      "Código: 404\n"
     ]
    }
   ],
   "source": [
    "class myErr(LookupError):\n",
    "    def __init__(self, msg, code):\n",
    "        super().__init__(msg)\n",
    "        self.code = code\n",
    "\n",
    "try:\n",
    "    raise myErr(\"Erro na base de dados\", 404)\n",
    "except myErr as e:\n",
    "    print(\"Descrição:\", e)\n",
    "    print(\"Código:\", e.code)"
   ]
  },
  {
   "cell_type": "code",
   "execution_count": 85,
   "id": "7714fc16",
   "metadata": {},
   "outputs": [
    {
     "name": "stdout",
     "output_type": "stream",
     "text": [
      "B-a-B\n",
      "<class '__main__.myErr'>\n"
     ]
    }
   ],
   "source": [
    "class myErr(LookupError):\n",
    "    def __init__(self, msg):\n",
    "        self.batatas = msg\n",
    "        \n",
    "try:\n",
    "    raise myErr(\"B-a-B\")\n",
    "    \n",
    "except RuntimeError:\n",
    "    print(\"B\")\n",
    "#except myErr:\n",
    "#    print(\"D\")    \n",
    "except myErr as e:\n",
    "    print(e.batatas)   # aqui imprime \"A\" \n",
    "    print(type(e))   \n",
    "except LookupError:\n",
    "    print(\"C\")\n",
    "    \n",
    "  "
   ]
  },
  {
   "cell_type": "code",
   "execution_count": 86,
   "id": "7b006cc2",
   "metadata": {},
   "outputs": [
    {
     "name": "stdout",
     "output_type": "stream",
     "text": [
      "PythonnohtyP\n"
     ]
    }
   ],
   "source": [
    "s = \"Python\"\n",
    "    \n",
    "for i in s[::-1]:\n",
    "    s += i\n",
    "    \n",
    "print(s)"
   ]
  },
  {
   "cell_type": "code",
   "execution_count": 109,
   "id": "7f3421d7",
   "metadata": {},
   "outputs": [
    {
     "name": "stdout",
     "output_type": "stream",
     "text": [
      "1836855235232\n",
      "<class 'set'>\n",
      "<class 'dict'>\n",
      "{'nome': 'lucy', 'cidade': 'lisboa', 'lisboa': 'porto', 'boa': 'viagem'}\n",
      "{'nome': 'lucy', 'cidade': 'lisboa', 'boa': 'viagem', 'pais': 'portugal'}\n",
      "Último item removido: ('pais', 'portugal')\n",
      "Dicionário final: {'nome': 'lucy', 'cidade': 'lisboa', 'boa': 'viagem'}\n",
      "\n",
      "------- 2 METODOS DE ORDENAR (POR CHAVE):\n",
      "Ordenado por chave (lista de tuplas): [('boa', 'viagem'), ('cidade', 'lisboa'), ('nome', 'lucy')]\n",
      "Dicionário ordenado por chave: {'boa': 'viagem', 'cidade': 'lisboa', 'nome': 'lucy'}\n",
      "\n",
      "------- 2 METODOS DE ORDENAR (POR VALOR):\n",
      "Ordenado por valor (lista de tuplas): [('cidade', 'lisboa'), ('nome', 'lucy'), ('boa', 'viagem')]\n",
      "Dicionário ordenado por valor: {'cidade': 'lisboa', 'nome': 'lucy', 'boa': 'viagem'}\n"
     ]
    }
   ],
   "source": [
    "s7= {(1,2,3),(5,6,1)}\n",
    "print(id(s7))\n",
    "#s7[0]=(1,1,1)\n",
    "print(type(s7))\n",
    "di = {\"nome\":\"judy\", \"cidade\":\"lisboa\"}\n",
    "print(type(di))\n",
    "di[\"nome\"] = \"lucy\"\n",
    "di[\"lisboa\"] = \"porto\"\n",
    "di[\"boa\"] = \"viagem\"\n",
    "print(di)\n",
    "di.update({\"lisboa\": \"pais\"})\n",
    "di.pop(\"lisboa\")\n",
    "di[\"pais\"] = \"portugal\"\n",
    "print(di)  # Output: {'name': 'carlos', 'cidade': 'coimbra'}\n",
    "ultimo_item = di.popitem()\n",
    "print(f\"Último item removido: {ultimo_item}\")\n",
    "print(\"Dicionário final:\", di)\n",
    "print(\"\\n------- 2 METODOS DE ORDENAR (POR CHAVE):\")\n",
    "ordenado_por_chave = sorted(di.items())\n",
    "print(\"Ordenado por chave (lista de tuplas):\", ordenado_por_chave)\n",
    "di_ordenado_chave = dict(sorted(di.items()))\n",
    "print(\"Dicionário ordenado por chave:\", di_ordenado_chave)\n",
    "print(\"\\n------- 2 METODOS DE ORDENAR (POR VALOR):\")\n",
    "\n",
    "# Método 1: Usando sorted() com lambda para ordenar por valor\n",
    "ordenado_por_valor = sorted(di.items(), key=lambda x: x[1])\n",
    "print(\"Ordenado por valor (lista de tuplas):\", ordenado_por_valor)\n",
    "# Método 2: Criar novo dicionário ordenado por valor\n",
    "di_ordenado_valor = dict(sorted(di.items(), key=lambda x: x[1]))\n",
    "print(\"Dicionário ordenado por valor:\", di_ordenado_valor)"
   ]
  },
  {
   "cell_type": "code",
   "execution_count": 18,
   "id": "1fc76bee",
   "metadata": {},
   "outputs": [
    {
     "name": "stdout",
     "output_type": "stream",
     "text": [
      "('error A',) error A error A\n",
      "('error B',) error C error C\n"
     ]
    }
   ],
   "source": [
    "class myErr2(Exception):    \n",
    "    def __str__(self):\n",
    "        return 'error C'\n",
    "        \n",
    "try:\n",
    "    raise myErr1('error A')\n",
    "except myErr1 as e:\n",
    "    print(e.args, end = \" \")\n",
    "    print(e.__str__(), end = \" \")\n",
    "    print(e)\n",
    " \n",
    "try:\n",
    "    raise myErr2('error B')\n",
    "except myErr2 as e:\n",
    "    print(e.args, end = \" \")\n",
    "    print(e.__str__(), end = \" \")\n",
    "    print(e)"
   ]
  },
  {
   "cell_type": "code",
   "execution_count": null,
   "id": "07fee783",
   "metadata": {},
   "outputs": [
    {
     "name": "stdout",
     "output_type": "stream",
     "text": [
      "('Bolas!',) Gand'Azar!\n",
      "Gand'Azar!\n"
     ]
    },
    {
     "ename": "TypeError",
     "evalue": "__str__ returned non-string (type NoneType)",
     "output_type": "error",
     "traceback": [
      "\u001b[31m---------------------------------------------------------------------------\u001b[39m",
      "\u001b[31mMeuErro\u001b[39m                                   Traceback (most recent call last)",
      "\u001b[36mCell\u001b[39m\u001b[36m \u001b[39m\u001b[32mIn[28]\u001b[39m\u001b[32m, line 6\u001b[39m\n\u001b[32m      5\u001b[39m \u001b[38;5;28;01mtry\u001b[39;00m:\n\u001b[32m----> \u001b[39m\u001b[32m6\u001b[39m \t\u001b[38;5;28;01mraise\u001b[39;00m MeuErro(\u001b[33m\"\u001b[39m\u001b[33mBolas!\u001b[39m\u001b[33m\"\u001b[39m)\n\u001b[32m      8\u001b[39m \u001b[38;5;28;01mexcept\u001b[39;00m \u001b[38;5;167;01mValueError\u001b[39;00m \u001b[38;5;28;01mas\u001b[39;00m v:\n",
      "\u001b[31m<class 'str'>\u001b[39m: (<class 'TypeError'>, TypeError('__str__ returned non-string (type NoneType)'))",
      "\nDuring handling of the above exception, another exception occurred:\n",
      "\u001b[31mTypeError\u001b[39m                                 Traceback (most recent call last)",
      "\u001b[36mCell\u001b[39m\u001b[36m \u001b[39m\u001b[32mIn[28]\u001b[39m\u001b[32m, line 10\u001b[39m\n\u001b[32m      8\u001b[39m \u001b[38;5;28;01mexcept\u001b[39;00m \u001b[38;5;167;01mValueError\u001b[39;00m \u001b[38;5;28;01mas\u001b[39;00m v:\n\u001b[32m      9\u001b[39m \t\u001b[38;5;28mprint\u001b[39m(v.args, end = \u001b[33m\"\u001b[39m\u001b[33m \u001b[39m\u001b[33m\"\u001b[39m)\n\u001b[32m---> \u001b[39m\u001b[32m10\u001b[39m \t\u001b[38;5;28;43mprint\u001b[39;49m\u001b[43m(\u001b[49m\u001b[43mv\u001b[49m\u001b[43m)\u001b[49m\n\u001b[32m     11\u001b[39m \t\u001b[38;5;28mprint\u001b[39m(\u001b[33m\"\u001b[39m\u001b[33mApanhou ValueError\u001b[39m\u001b[33m\"\u001b[39m)\n\u001b[32m     13\u001b[39m \u001b[38;5;28;01mexcept\u001b[39;00m \u001b[38;5;167;01mException\u001b[39;00m \u001b[38;5;28;01mas\u001b[39;00m e:\n",
      "\u001b[31mTypeError\u001b[39m: __str__ returned non-string (type NoneType)"
     ]
    },
    {
     "name": "stdout",
     "output_type": "stream",
     "text": [
      "Gand'Azar!\n"
     ]
    }
   ],
   "source": [
    "\n"
   ]
  }
 ],
 "metadata": {
  "kernelspec": {
   "display_name": "Python 3",
   "language": "python",
   "name": "python3"
  },
  "language_info": {
   "codemirror_mode": {
    "name": "ipython",
    "version": 3
   },
   "file_extension": ".py",
   "mimetype": "text/x-python",
   "name": "python",
   "nbconvert_exporter": "python",
   "pygments_lexer": "ipython3",
   "version": "3.13.6"
  }
 },
 "nbformat": 4,
 "nbformat_minor": 5
}
