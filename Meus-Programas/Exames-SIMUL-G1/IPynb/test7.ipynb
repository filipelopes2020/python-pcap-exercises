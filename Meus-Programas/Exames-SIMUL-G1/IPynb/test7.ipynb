{
 "cells": [
  {
   "cell_type": "code",
   "execution_count": 1,
   "id": "74325582",
   "metadata": {},
   "outputs": [
    {
     "name": "stdout",
     "output_type": "stream",
     "text": [
      "[6, 7, 8, 9, 10, 11, 12, 13, 14, 15, 16, 17, 18, 19, 20, 21, 22, 23, 24, 25, 26, 27, 28, 29, 30, 31, 32, 33, 34, 35, 36, 37, 38, 39, 40, 41, 42, 43, 44, 45, 46, 47, 48, 49, 50, 51, 52, 53, 54, 55, 56, 57, 58, 59, 60, 61, 62, 63, 64, 65, 66, 67, 68, 69, 70, 71, 72, 73, 74, 75, 76, 77, 78, 79, 80, 81, 82, 83, 84, 85, 86, 87, 88, 89, 90, 91, 92, 93, 94, 95, 96, 97, 98, 99, 100, 101, 102, 103, 104, 105, 106]\n"
     ]
    }
   ],
   "source": [
    "def func(x):\n",
    "    for i in range(x+1):\n",
    "        yield i + 6\n",
    "list1 = list(func(100))\n",
    "print(list1)"
   ]
  },
  {
   "cell_type": "code",
   "execution_count": 6,
   "id": "4906fb94",
   "metadata": {},
   "outputs": [
    {
     "name": "stdout",
     "output_type": "stream",
     "text": [
      "[0, 6, 12, 18, 24, 30, 36, 42, 48, 54, 60, 66, 72, 78, 84, 90, 96]\n"
     ]
    }
   ],
   "source": [
    "def func(x):\n",
    "    for i in range(x+1):\n",
    "        if i%6 == 0:\n",
    "            yield i\n",
    "list1 = [x for x in func(100)]\n",
    "print(list1)"
   ]
  },
  {
   "cell_type": "code",
   "execution_count": 7,
   "id": "39de7221",
   "metadata": {},
   "outputs": [
    {
     "ename": "SyntaxError",
     "evalue": "invalid syntax (1076347730.py, line 7)",
     "output_type": "error",
     "traceback": [
      "  \u001b[36mCell\u001b[39m\u001b[36m \u001b[39m\u001b[32mIn[7]\u001b[39m\u001b[32m, line 7\u001b[39m\n\u001b[31m    \u001b[39m\u001b[31mfinally:\u001b[39m\n    ^\n\u001b[31mSyntaxError\u001b[39m\u001b[31m:\u001b[39m invalid syntax\n"
     ]
    }
   ],
   "source": [
    "x = 1\n",
    "while x < 5:\n",
    "    print('*')\n",
    "    x = x << 1\n",
    "else:\n",
    "    print(2*'*')\n",
    "finally:\n",
    "    print(3*'*')"
   ]
  },
  {
   "cell_type": "code",
   "execution_count": 18,
   "id": "8b0d6d6f",
   "metadata": {},
   "outputs": [
    {
     "name": "stdout",
     "output_type": "stream",
     "text": [
      "1\n",
      "1\n",
      "----Chaves-\n",
      "(1, 2)\n",
      "(2, 3)\n",
      "----Values-\n",
      "1\n",
      "2\n",
      "---TUDO:---\n",
      "(1, 2) 1\n",
      "(2, 3) 2\n"
     ]
    }
   ],
   "source": [
    "x = {(1, 2): 1, (2, 3): 2}\n",
    "print(x[1, 2])        # 1\n",
    "print(x[(1, 2)])      # 1\n",
    "\n",
    "print(\"----Chaves-\")\n",
    "chaves = x.keys()       \n",
    "for k in x:\n",
    "    print(k)\n",
    "\n",
    "print(\"----Values-\")\n",
    "valores = x.values()    \n",
    "for k in x.values():\n",
    "    print(k)\n",
    "    \n",
    "print(\"---TUDO:---\")\n",
    "pares = x.items()       # dict_items([((1, 2), 1), ((2, 3), 2)])\n",
    "for k, v in x.items():\n",
    "    print(k, v)"
   ]
  },
  {
   "cell_type": "code",
   "execution_count": 2,
   "id": "b293efc8",
   "metadata": {},
   "outputs": [
    {
     "name": "stdout",
     "output_type": "stream",
     "text": [
      "10 11\n"
     ]
    }
   ],
   "source": [
    "class A:\n",
    "    var_a = 10\n",
    "    def fun(self):\n",
    "        return 11\n",
    "        \n",
    "class B:\n",
    "    var_b = 20\n",
    "    def fun(self):\n",
    "        return 21\n",
    "    \n",
    "class Sub(A, B):\n",
    "    pass\n",
    "    \n",
    "obj = Sub()\n",
    "    \n",
    "print(obj.var_a, obj.fun())"
   ]
  },
  {
   "cell_type": "code",
   "execution_count": 15,
   "id": "a2dea68c",
   "metadata": {},
   "outputs": [
    {
     "name": "stdout",
     "output_type": "stream",
     "text": [
      "hellohellohellohello\n",
      "*****\n"
     ]
    }
   ],
   "source": [
    "\n",
    "# Example of using *= and * operators with strings in Python\n",
    "text = \"hello\"\n",
    "multiplier = 3\n",
    "    \n",
    "# Use *= operator to repeat the string\n",
    "text *= 4\n",
    "print(text)  # Output: hellohellohello\n",
    "    \n",
    "# Use * operator to create a new string with repeated characters\n",
    "new_text = \"*\" * 5\n",
    "print(new_text)  # Output: *****"
   ]
  },
  {
   "cell_type": "code",
   "execution_count": 19,
   "id": "37a9c9c4",
   "metadata": {},
   "outputs": [
    {
     "name": "stdout",
     "output_type": "stream",
     "text": [
      "True\n",
      "True\n",
      "56 49\n",
      "True\n"
     ]
    }
   ],
   "source": [
    "print(\"a\" > \"\")\n",
    "print(\"8\" > \"10\")\n",
    "print(ord(\"8\"),ord(\"1\"))\n",
    "print(\"Mark\">\"MARK\")"
   ]
  },
  {
   "cell_type": "code",
   "execution_count": 15,
   "id": "6f3c41d0",
   "metadata": {},
   "outputs": [
    {
     "name": "stdout",
     "output_type": "stream",
     "text": [
      "['r', 'o', 'o', 'n', 'i', 'g', 'd', 'P', 'C']\n",
      "['C', 'java', 'Python', 'rust']\n"
     ]
    }
   ],
   "source": [
    "s = \"ProCoding\"\n",
    "print(sorted(s, reverse=True))\n",
    "\n",
    "palavras = [\"Python\", \"java\", \"C\", \"rust\"]\n",
    "palavras.sort(key=str.lower)\n",
    "print(palavras)"
   ]
  },
  {
   "cell_type": "code",
   "execution_count": null,
   "id": "70d5fd89",
   "metadata": {},
   "outputs": [
    {
     "name": "stdout",
     "output_type": "stream",
     "text": [
      "alguma excepcao...\n",
      "finito\n"
     ]
    }
   ],
   "source": [
    "try:\n",
    "    print(42/\"0\")\n",
    "\n",
    "except (ValueError):\n",
    "    print(\"value error\")\n",
    "except (ZeroDivisionError):\n",
    "    print(\"zero division error\")\n",
    "except (Exception):\n",
    "    print(\"alguma excepcao...\")\n",
    "except:\n",
    "    print(\"something went wrong...\")\n",
    "else:\n",
    "    print(\"else\")   \n",
    "finally:\n",
    "    print(\"finito\")"
   ]
  },
  {
   "cell_type": "code",
   "execution_count": 41,
   "id": "f16f69b9",
   "metadata": {},
   "outputs": [
    {
     "name": "stdout",
     "output_type": "stream",
     "text": [
      "Com seed 123 (execução 1): 7\n",
      "Com seed 123 (execução 2): 35\n",
      "Com seed 123 (execução 3): 12\n",
      "\n",
      "Mesma seed 123 (nova execução 1): 34\n",
      "Mesma seed 123 (nova execução 2): 38\n",
      "Mesma seed 123 (nova execução 3): 88\n"
     ]
    }
   ],
   "source": [
    "import random\n",
    "\n",
    "# Com seed - resultados reproduzíveis\n",
    "random.seed(123)  # Define a semente\n",
    "print(\"Com seed 123 (execução 1):\", random.randint(1, 100))\n",
    "print(\"Com seed 123 (execução 2):\", random.randint(1, 100))\n",
    "print(\"Com seed 123 (execução 3):\", random.randint(1, 100))\n",
    "\n",
    "# Reinicia a sequência com mesma semente\n",
    "random.seed(13)  # Mesma semente novamente\n",
    "print(\"\\nMesma seed 123 (nova execução 1):\", random.randint(1, 100))\n",
    "print(\"Mesma seed 123 (nova execução 2):\", random.randint(1, 100))\n",
    "print(\"Mesma seed 123 (nova execução 3):\", random.randint(1, 100))"
   ]
  },
  {
   "cell_type": "code",
   "execution_count": 43,
   "id": "eaa57b24",
   "metadata": {},
   "outputs": [
    {
     "name": "stdout",
     "output_type": "stream",
     "text": [
      "[1, 2, 5, 7, 9]\n",
      "[5, 2, 9, 1, 7]\n",
      "[1, 3, 4]\n",
      "['h', 'n', 'o', 'p', 't', 'y']\n",
      "[-1, 3, 4, -5]\n"
     ]
    }
   ],
   "source": [
    "nums = [5, 2, 9, 1, 7]\n",
    "ordenado = sorted(nums)\n",
    "print(ordenado)  # [1, 2, 5, 7, 9]\n",
    "print(nums)      # [5, 2, 9, 1, 7]  (lista original intacta)\n",
    "\n",
    "tupla = (3, 1, 4)\n",
    "print(sorted(tupla))  # [1, 3, 4]  (nova lista, não tupla)\n",
    "\n",
    "texto = \"python\"\n",
    "print(sorted(texto))  # ['h', 'n', 'o', 'p', 't', 'y']\n",
    "\n",
    "numbers = [-5, 3, -1, 4]\n",
    "print(sorted(numbers, key=abs))  # [ -1, 3, 4, -5 ]"
   ]
  },
  {
   "cell_type": "code",
   "execution_count": null,
   "id": "7efc4283",
   "metadata": {},
   "outputs": [
    {
     "ename": "TypeError",
     "evalue": "'list' object is not callable",
     "output_type": "error",
     "traceback": [
      "\u001b[31m---------------------------------------------------------------------------\u001b[39m",
      "\u001b[31mTypeError\u001b[39m                                 Traceback (most recent call last)",
      "\u001b[36mCell\u001b[39m\u001b[36m \u001b[39m\u001b[32mIn[49]\u001b[39m\u001b[32m, line 4\u001b[39m\n\u001b[32m      1\u001b[39m a = [\u001b[32m1\u001b[39m, \u001b[32m2\u001b[39m, \u001b[32m3\u001b[39m]\n\u001b[32m      2\u001b[39m b = [\u001b[32m10\u001b[39m, \u001b[32m20\u001b[39m, \u001b[32m30\u001b[39m]\n\u001b[32m----> \u001b[39m\u001b[32m4\u001b[39m resultado = \u001b[38;5;28;43mlist\u001b[39;49m\u001b[43m(\u001b[49m\u001b[38;5;28;43mmap\u001b[39;49m\u001b[43m(\u001b[49m\u001b[38;5;28;43;01mlambda\u001b[39;49;00m\u001b[43m \u001b[49m\u001b[43mx\u001b[49m\u001b[43m,\u001b[49m\u001b[43m \u001b[49m\u001b[43my\u001b[49m\u001b[43m:\u001b[49m\u001b[43m \u001b[49m\u001b[43mx\u001b[49m\u001b[43m \u001b[49m\u001b[43m+\u001b[49m\u001b[43m \u001b[49m\u001b[43my\u001b[49m\u001b[43m,\u001b[49m\u001b[43m \u001b[49m\u001b[43ma\u001b[49m\u001b[43m,\u001b[49m\u001b[43m \u001b[49m\u001b[43mb\u001b[49m\u001b[43m)\u001b[49m\u001b[43m)\u001b[49m\n\u001b[32m      5\u001b[39m \u001b[38;5;28mprint\u001b[39m(resultado)  \u001b[38;5;66;03m# [11, 22, 33]\u001b[39;00m\n",
      "\u001b[31mTypeError\u001b[39m: 'list' object is not callable"
     ]
    }
   ],
   "source": []
  }
 ],
 "metadata": {
  "kernelspec": {
   "display_name": "Python 3",
   "language": "python",
   "name": "python3"
  },
  "language_info": {
   "codemirror_mode": {
    "name": "ipython",
    "version": 3
   },
   "file_extension": ".py",
   "mimetype": "text/x-python",
   "name": "python",
   "nbconvert_exporter": "python",
   "pygments_lexer": "ipython3",
   "version": "3.13.6"
  }
 },
 "nbformat": 4,
 "nbformat_minor": 5
}
