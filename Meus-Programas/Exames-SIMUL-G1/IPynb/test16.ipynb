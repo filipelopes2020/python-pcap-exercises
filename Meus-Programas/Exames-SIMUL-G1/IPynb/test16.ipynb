{
 "cells": [
  {
   "cell_type": "code",
   "execution_count": 1,
   "id": "8f8896db",
   "metadata": {},
   "outputs": [
    {
     "name": "stdout",
     "output_type": "stream",
     "text": [
      "[[1, 2, 3], [1, 2, 3], [1, 2, 3]]\n"
     ]
    }
   ],
   "source": [
    "\n",
    "lst = [[1, 2, 3] for i in range(3)]\n",
    "    \n",
    "print(lst)"
   ]
  },
  {
   "cell_type": "code",
   "execution_count": 4,
   "id": "1df17d8c",
   "metadata": {},
   "outputs": [
    {
     "name": "stdout",
     "output_type": "stream",
     "text": [
      "range(0, 3)\n",
      "10\n"
     ]
    }
   ],
   "source": [
    "print(range(3))\n",
    "\n",
    "print(len(range(10)))"
   ]
  },
  {
   "cell_type": "code",
   "execution_count": null,
   "id": "8b9e91d0",
   "metadata": {},
   "outputs": [
    {
     "name": "stdout",
     "output_type": "stream",
     "text": [
      "['AndroidVer', 'IOSVersionInfo', 'In', 'Out', 'android_ver', 'architecture', 'collections', 'exit', 'freedesktop_os_release', 'functools', 'get_ipython', 'i', 'ios_ver', 'itertools', 'java_ver', 'libc_ver', 'lista', 'lst', 'mac_ver', 'machine', 'node', 'open', 'os', 'platform', 'processor', 'python_branch', 'python_build', 'python_compiler', 'python_implementation', 'python_revision', 'python_version', 'python_version_tuple', 'quit', 're', 'release', 'st', 'string', 'sx', 'sys', 'system', 'system_alias', 'uname', 'uname_result', 'version', 'win32_edition', 'win32_is_iot', 'win32_ver']\n",
      "------------------------------\n"
     ]
    }
   ],
   "source": [
    "import string\n",
    "from platform import * \n",
    "st=\"\"\n",
    "lista=[]\n",
    "#for i in dir(platform):\n",
    "for i in dir():\n",
    "   if not i.startswith(\"_\"):\n",
    "       #print (i,end=\" \")\n",
    "       st = st + i + \",\"\n",
    "       lista.append(i)\n",
    "\n",
    "print(lista)\n",
    "print(\"-\"*30)\n",
    "\n",
    "\n",
    "#sx=list(st)\n",
    "#print(st)\n"
   ]
  },
  {
   "cell_type": "code",
   "execution_count": 83,
   "id": "c545ac2d",
   "metadata": {},
   "outputs": [
    {
     "name": "stdout",
     "output_type": "stream",
     "text": [
      "True True True False\n",
      "True\n",
      "True\n",
      "na A: 10\n",
      "na B: 10\n",
      "na A: 20\n",
      "{'x': 10}\n",
      "{'x': 10}\n"
     ]
    }
   ],
   "source": [
    "class A:\n",
    "    '''teste'''\n",
    "    a = 0\n",
    "    def __init__(self):\n",
    "        self.x = 10 \n",
    "    def batatas(self):\n",
    "        A.a += 10\n",
    "        return f\"na A: {A.a}\"\n",
    "        \n",
    "\n",
    "class B(A):    \n",
    "    def __init__(self):\n",
    "        super().__init__()\n",
    "        pass\n",
    "    def batatas(self):\n",
    "        print(f\"na B: {B.a}\")\n",
    "        return super().batatas()\n",
    "        \n",
    "obj = B()\n",
    "a = A()\n",
    "a2 = A()\n",
    "b2 = B()\n",
    "\n",
    "print(hasattr(obj, 'a'), end = \" \")\n",
    "#print(obj.__dict__)\n",
    "print(hasattr(B, 'a'), end = \" \")\n",
    "#print(A.__dict__)\n",
    "print(hasattr(obj, 'x'), end = \" \")\n",
    "#print(B.__dict__)\n",
    "print(hasattr(B, 'x'))\n",
    "\n",
    "print(hasattr(a,'batatas'))\n",
    "print(hasattr(obj,'batatas'))\n",
    "print(a2.batatas())\n",
    "print(obj.batatas())\n",
    "\n",
    "print(a2.__dict__)\n",
    "print(b2.__dict__)\n"
   ]
  },
  {
   "cell_type": "code",
   "execution_count": 102,
   "id": "a9e90a8f",
   "metadata": {},
   "outputs": [
    {
     "name": "stdout",
     "output_type": "stream",
     "text": [
      "10 PythonViperPython\n",
      "10 PythonViperPython\n",
      "20 PythonViperPython\n"
     ]
    }
   ],
   "source": [
    "class A:\n",
    "    x = \"\"\n",
    "    \n",
    "    def __init__(self, s):\n",
    "        A.x += s \n",
    "        self.x = 10\n",
    "class B(A):\n",
    "    def __init__(self, s):\n",
    "        super().__init__(s)\n",
    "        self.x = 20\n",
    "        \n",
    "a1 = A('Python')\n",
    "a2 = A('Viper')\n",
    "b1 = B(\"Python\")\n",
    "    \n",
    "print(a1.x, A.x)\n",
    "print(a2.x, A.x)\n",
    "print(b1.x,B.x)"
   ]
  },
  {
   "cell_type": "code",
   "execution_count": null,
   "id": "5a322eab",
   "metadata": {},
   "outputs": [
    {
     "name": "stdout",
     "output_type": "stream",
     "text": [
      "20\n"
     ]
    }
   ],
   "source": [
    "lst = [[i * 2 for i in range(3)] for j in range(3)]\n",
    "x = 0\n",
    "    \n",
    "for k in range(len(lst)):\n",
    "    x += lst[k][k] ** 2\n",
    "\n",
    "print(x)"
   ]
  },
  {
   "cell_type": "code",
   "execution_count": 163,
   "id": "8802ac07",
   "metadata": {},
   "outputs": [
    {
     "name": "stdout",
     "output_type": "stream",
     "text": [
      "9\n",
      "100\n"
     ]
    }
   ],
   "source": [
    "#print('a' and 4)\n",
    "#print(False and True)\n",
    "#print([8] and [5] and True and 0)\n",
    "\n",
    "#print(0 and 123)\n",
    "#print(42 and [])\n",
    "#print('a' or 'batatas' or 0)\n",
    "#print('' and 'fallback')\n",
    "print(9 or 0 and (1/1))\n",
    "print(1 and (100 or 0))\n"
   ]
  },
  {
   "cell_type": "code",
   "execution_count": null,
   "id": "cb6da6a8",
   "metadata": {},
   "outputs": [],
   "source": []
  },
  {
   "cell_type": "code",
   "execution_count": 169,
   "id": "593d19a0",
   "metadata": {},
   "outputs": [
    {
     "name": "stdout",
     "output_type": "stream",
     "text": [
      "True\n",
      "True\n",
      "False\n"
     ]
    }
   ],
   "source": [
    "import builtins\n",
    "#print(dir(builtins))   # lista de todos os nomes built-in\n",
    "#for i in dir(builtins):\n",
    "#    print(\"Valor: \", i, end=\"\\n\")\n",
    "print(hasattr(builtins, \"str\"))   # True\n",
    "print(hasattr(builtins, \"list\"))   # True\n",
    "print(hasattr(builtins, \"banana\")) # False"
   ]
  },
  {
   "cell_type": "code",
   "execution_count": 175,
   "id": "b5a5fa6b",
   "metadata": {},
   "outputs": [
    {
     "name": "stdout",
     "output_type": "stream",
     "text": [
      "rgnrtv\n",
      "eeeaie"
     ]
    }
   ],
   "source": [
    "s = 'regenerative'\n",
    "print(s[::2]) \n",
    "\n",
    "for i in s:\n",
    "    if i not in s[::2]:\n",
    "        print(i, end=\"\")"
   ]
  },
  {
   "cell_type": "code",
   "execution_count": 178,
   "id": "821ebba3",
   "metadata": {},
   "outputs": [
    {
     "name": "stdout",
     "output_type": "stream",
     "text": [
      "c:\\Users\\mario\\AppData\\Local\\Programs\\Python\\Python313\\python313.zip\n",
      "['c:\\\\Users\\\\mario\\\\AppData\\\\Local\\\\Programs\\\\Python\\\\Python313\\\\python313.zip', 'c:\\\\Users\\\\mario\\\\AppData\\\\Local\\\\Programs\\\\Python\\\\Python313\\\\DLLs', 'c:\\\\Users\\\\mario\\\\AppData\\\\Local\\\\Programs\\\\Python\\\\Python313\\\\Lib', 'c:\\\\Users\\\\mario\\\\AppData\\\\Local\\\\Programs\\\\Python\\\\Python313', '', 'C:\\\\Users\\\\mario\\\\AppData\\\\Roaming\\\\Python\\\\Python313\\\\site-packages', 'C:\\\\Users\\\\mario\\\\AppData\\\\Roaming\\\\Python\\\\Python313\\\\site-packages\\\\win32', 'C:\\\\Users\\\\mario\\\\AppData\\\\Roaming\\\\Python\\\\Python313\\\\site-packages\\\\win32\\\\lib', 'C:\\\\Users\\\\mario\\\\AppData\\\\Roaming\\\\Python\\\\Python313\\\\site-packages\\\\Pythonwin', 'c:\\\\Users\\\\mario\\\\AppData\\\\Local\\\\Programs\\\\Python\\\\Python313\\\\Lib\\\\site-packages']\n"
     ]
    }
   ],
   "source": [
    "import sys\n",
    "    \n",
    "print(sys.path[0])\n",
    "print(sys.path)"
   ]
  },
  {
   "cell_type": "code",
   "execution_count": 188,
   "id": "d18d33ab",
   "metadata": {},
   "outputs": [
    {
     "name": "stdout",
     "output_type": "stream",
     "text": [
      "14 27\n"
     ]
    }
   ],
   "source": [
    "class A:\n",
    "    x = 2\n",
    "    def __init__(self, n):\n",
    "        A.x+=10\n",
    "        self.__a = n // 2 + A.x\n",
    "    \n",
    "obj = A(5)\n",
    "a2 = A(10)\n",
    "    \n",
    "print(obj._A__a, a2._A__a)"
   ]
  },
  {
   "cell_type": "code",
   "execution_count": 189,
   "id": "16c7e769",
   "metadata": {},
   "outputs": [
    {
     "name": "stdout",
     "output_type": "stream",
     "text": [
      "Snake\n"
     ]
    }
   ],
   "source": [
    "class A:    \n",
    "    def __m(self):\n",
    "        print(\"Snake\")\n",
    "    \n",
    "obj = A()\n",
    "    \n",
    "obj._A__m()\n",
    "\n"
   ]
  },
  {
   "cell_type": "code",
   "execution_count": 191,
   "id": "81e2130a",
   "metadata": {},
   "outputs": [
    {
     "name": "stdout",
     "output_type": "stream",
     "text": [
      "P\n",
      "<class 'str'>\n",
      "<class 'str'>\n"
     ]
    }
   ],
   "source": [
    "texto = \"Python\"\n",
    "print(texto[0])   # 'P'\n",
    "print(type(texto[0]))  # <class 'str'>\n",
    "print(type(texto))  # <class 'str'>"
   ]
  },
  {
   "cell_type": "code",
   "execution_count": 204,
   "id": "40a637e4",
   "metadata": {},
   "outputs": [
    {
     "name": "stdout",
     "output_type": "stream",
     "text": [
      "A\n",
      "B\n"
     ]
    }
   ],
   "source": [
    "def fun(x, y):\n",
    "    try:\n",
    "        return x/y\n",
    "    except:\n",
    "        print('A')  # Captura, mas não relança\n",
    "        # raise removido\n",
    "        raise \n",
    "try:\n",
    "    fun(2, 0)\n",
    "except ZeroDivisionError:\n",
    "    print('B')"
   ]
  },
  {
   "cell_type": "code",
   "execution_count": null,
   "id": "e6394bb4",
   "metadata": {},
   "outputs": [],
   "source": [
    "def dividir(a, b):\n",
    "    if b == 0:\n",
    "        raise ZeroDivisionError(\"Divisor não pode ser zero\")\n",
    "    return a / b\n",
    "\n",
    "try:\n",
    "    resultado = dividir(10, 0)\n",
    "\n",
    "except ZeroDivisionError as e:\n",
    "    print(f\"Erro na divisão: {e}\")"
   ]
  },
  {
   "cell_type": "code",
   "execution_count": 14,
   "id": "435b23eb",
   "metadata": {},
   "outputs": [
    {
     "name": "stdout",
     "output_type": "stream",
     "text": [
      "True\n"
     ]
    }
   ],
   "source": [
    "print('ht' in 'Python'[::-1])"
   ]
  },
  {
   "cell_type": "code",
   "execution_count": 154,
   "id": "ec0da1ee",
   "metadata": {},
   "outputs": [
    {
     "ename": "SyntaxError",
     "evalue": "unterminated string literal (detected at line 11) (240734641.py, line 11)",
     "output_type": "error",
     "traceback": [
      "  \u001b[36mCell\u001b[39m\u001b[36m \u001b[39m\u001b[32mIn[154]\u001b[39m\u001b[32m, line 11\u001b[39m\n\u001b[31m    \u001b[39m\u001b[31m\")\u001b[39m\n    ^\n\u001b[31mSyntaxError\u001b[39m\u001b[31m:\u001b[39m unterminated string literal (detected at line 11)\n"
     ]
    }
   ],
   "source": [
    "class A:\n",
    "    pass\n",
    "    \n",
    "class B(A):\n",
    "    pass\n",
    "    \n",
    "class C(B,A):\n",
    "    p=0    \n",
    "    def test(self):\n",
    "        print(\"ola\")\n",
    "\")\n",
    "        \n",
    "obj = C()\n",
    "\n",
    "print(\"----\")\n",
    "obj.test()\n",
    "obj.ola()\n",
    "print(\"----\")\n",
    "print(C.__bases__)\n",
    "print(hasattr(obj, 'p'))\n",
    "\n",
    "print(isinstance(obj,(A,B,C)))\n",
    "print(issubclass(C,A))\n",
    "print(C.__base__)\n",
    "print(C.__bases__)"
   ]
  },
  {
   "cell_type": "code",
   "execution_count": 64,
   "id": "9bb47218",
   "metadata": {},
   "outputs": [
    {
     "name": "stdout",
     "output_type": "stream",
     "text": [
      "1 2 \n",
      " 2 2 2\n"
     ]
    }
   ],
   "source": [
    "class A:\n",
    "    x = 0\n",
    "    def __init__(self):\n",
    "        A.x += 1\n",
    "        print(A.x,end=\" \")\n",
    "    \n",
    "obj1 = A()\n",
    "obj2 = obj1\n",
    "obj3 = A()\n",
    "    \n",
    "print(\"\\n\",obj1.x, obj2.x, obj3.x)"
   ]
  },
  {
   "cell_type": "code",
   "execution_count": null,
   "id": "76b3478f",
   "metadata": {},
   "outputs": [
    {
     "name": "stdout",
     "output_type": "stream",
     "text": [
      "0.13436424411240122\n",
      "0.8474337369372327\n"
     ]
    }
   ],
   "source": [
    "import random as r\n",
    " \n",
    "r.seed(1)\n",
    "x = r.random()\n",
    "print(x)\n",
    " \n",
    "r.seed(1)\n",
    "y = r.random()\n",
    "\n",
    "print(y)\n",
    " "
   ]
  },
  {
   "cell_type": "code",
   "execution_count": 84,
   "id": "0b78513c",
   "metadata": {},
   "outputs": [
    {
     "name": "stdout",
     "output_type": "stream",
     "text": [
      "Original: Mario Candeias\n",
      "Encoded: b'Mario Candeias'\n",
      "line 1\n",
      "line 2\n",
      "line 3\n",
      "line 4\n"
     ]
    }
   ],
   "source": [
    "X = \"Mario Candeias\"\n",
    "encoded_X = X.encode('utf-8')  # Correção 2: Atribuir resultado a uma variável\n",
    "print(f\"Original: {X}\")\n",
    "print(f\"Encoded: {encoded_X}\")\n",
    "\n",
    "\n",
    "try:\n",
    "    with open('file.txt', 'r', encoding='utf-8') as f:\n",
    "        x = f.read()  # Correção 5: Método read() do objeto arquivo\n",
    "        print(x)\n",
    "except FileNotFoundError:\n",
    "    print(\"Arquivo 'erros.txt' não encontrado\")\n",
    "except Exception as e:\n",
    "    print(f\"Erro ao ler arquivo: {e}\")"
   ]
  },
  {
   "cell_type": "code",
   "execution_count": 86,
   "id": "95de8579",
   "metadata": {},
   "outputs": [
    {
     "name": "stdout",
     "output_type": "stream",
     "text": [
      "Mario Candeias\n",
      "Encoded: b'Mario Candeias'\n",
      "line 1\n",
      "line 2\n",
      "line 3\n",
      "line 4\n"
     ]
    }
   ],
   "source": [
    "X = \"Mario Candeias\"\n",
    "print(X)\n",
    "\n",
    "# Encoding para bytes\n",
    "encoded = X.encode('utf-8')\n",
    "print(f\"Encoded: {encoded}\")\n",
    "\n",
    "# Leitura de arquivo com UTF-8\n",
    "with open('file.txt', 'r', encoding='utf-8') as f:\n",
    "    content = f.read()\n",
    "    print(content)"
   ]
  },
  {
   "cell_type": "code",
   "execution_count": 87,
   "id": "37a90bda",
   "metadata": {},
   "outputs": [
    {
     "name": "stdout",
     "output_type": "stream",
     "text": [
      "Comparação entre UTF-8 e UTF-16:\n",
      "============================================================\n",
      "Caractere: A (Unicode: U+0041)\n",
      "UTF-8:  b'A' (1 bytes)\n",
      "UTF-16: b'\\xff\\xfeA\\x00' (4 bytes)\n",
      "----------------------------------------\n",
      "Caractere: ñ (Unicode: U+00F1)\n",
      "UTF-8:  b'\\xc3\\xb1' (2 bytes)\n",
      "UTF-16: b'\\xff\\xfe\\xf1\\x00' (4 bytes)\n",
      "----------------------------------------\n",
      "Caractere: 中 (Unicode: U+4E2D)\n",
      "UTF-8:  b'\\xe4\\xb8\\xad' (3 bytes)\n",
      "UTF-16: b'\\xff\\xfe-N' (4 bytes)\n",
      "----------------------------------------\n",
      "Caractere: 😊 (Unicode: U+1F60A)\n",
      "UTF-8:  b'\\xf0\\x9f\\x98\\x8a' (4 bytes)\n",
      "UTF-16: b'\\xff\\xfe=\\xd8\\n\\xde' (6 bytes)\n",
      "----------------------------------------\n"
     ]
    },
    {
     "ename": "UnicodeEncodeError",
     "evalue": "'utf-8' codec can't encode characters in position 0-1: surrogates not allowed",
     "output_type": "error",
     "traceback": [
      "\u001b[31m---------------------------------------------------------------------------\u001b[39m",
      "\u001b[31mUnicodeEncodeError\u001b[39m                        Traceback (most recent call last)",
      "\u001b[36mCell\u001b[39m\u001b[36m \u001b[39m\u001b[32mIn[87]\u001b[39m\u001b[32m, line 15\u001b[39m\n\u001b[32m     11\u001b[39m \u001b[38;5;28mprint\u001b[39m(\u001b[33m\"\u001b[39m\u001b[33m=\u001b[39m\u001b[33m\"\u001b[39m * \u001b[32m60\u001b[39m)\n\u001b[32m     13\u001b[39m \u001b[38;5;28;01mfor\u001b[39;00m char \u001b[38;5;129;01min\u001b[39;00m characters:\n\u001b[32m     14\u001b[39m     \u001b[38;5;66;03m# Codificações\u001b[39;00m\n\u001b[32m---> \u001b[39m\u001b[32m15\u001b[39m     utf8_encoded = \u001b[43mchar\u001b[49m\u001b[43m.\u001b[49m\u001b[43mencode\u001b[49m\u001b[43m(\u001b[49m\u001b[33;43m'\u001b[39;49m\u001b[33;43mutf-8\u001b[39;49m\u001b[33;43m'\u001b[39;49m\u001b[43m)\u001b[49m\n\u001b[32m     16\u001b[39m     utf16_encoded = char.encode(\u001b[33m'\u001b[39m\u001b[33mutf-16\u001b[39m\u001b[33m'\u001b[39m)\n\u001b[32m     18\u001b[39m     \u001b[38;5;66;03m# Informações\u001b[39;00m\n",
      "\u001b[31mUnicodeEncodeError\u001b[39m: 'utf-8' codec can't encode characters in position 0-1: surrogates not allowed"
     ]
    }
   ],
   "source": [
    "# Caracteres para testar\n",
    "characters = [\n",
    "    'A',           # ASCII básico (1 byte em UTF-8)\n",
    "    'ñ',           # Caractere latino (2 bytes em UTF-8)\n",
    "    '中',          # Caractere chinês (3 bytes em UTF-8)  \n",
    "    '😊',          # Emoji (4 bytes em UTF-8)\n",
    "    '\\uD83D\\uDE00' # 😄 como surrogate pair\n",
    "]\n",
    "\n",
    "print(\"Comparação entre UTF-8 e UTF-16:\")\n",
    "print(\"=\" * 60)\n",
    "\n",
    "for char in characters:\n",
    "    # Codificações\n",
    "    utf8_encoded = char.encode('utf-8')\n",
    "    utf16_encoded = char.encode('utf-16')\n",
    "    \n",
    "    # Informações\n",
    "    print(f\"Caractere: {char} (Unicode: U+{ord(char):04X})\")\n",
    "    print(f\"UTF-8:  {utf8_encoded} ({len(utf8_encoded)} bytes)\")\n",
    "    print(f\"UTF-16: {utf16_encoded} ({len(utf16_encoded)} bytes)\")\n",
    "    print(\"-\" * 40)"
   ]
  },
  {
   "cell_type": "code",
   "execution_count": null,
   "id": "b1813bc6",
   "metadata": {},
   "outputs": [
    {
     "name": "stdout",
     "output_type": "stream",
     "text": [
      "False\n",
      "True\n",
      "2\n",
      "16.771258268002704\n",
      "1\n"
     ]
    }
   ],
   "source": [
    "batatas=\"123\"\n",
    "print(str(batatas)==True)\n",
    "print(225 != '225')\n",
    "\n",
    "import random as r\n",
    "print(r.randint(1, 10))  # Pode gerar de 1 até 10\n",
    "r.seed(19)\n",
    "print(r.uniform(10,20))\n",
    "print(r.choice(range(-3, 3)))\n",
    "\n"
   ]
  },
  {
   "cell_type": "code",
   "execution_count": 160,
   "id": "3d4f3321",
   "metadata": {},
   "outputs": [
    {
     "name": "stdout",
     "output_type": "stream",
     "text": [
      "A\n"
     ]
    }
   ],
   "source": [
    "    class myErr(Exception):\n",
    "        def __str__(self):\n",
    "            return \"A\"\n",
    "    try:\n",
    "        raise myErr(\"B\")\n",
    "\n",
    "    except Exception as e:\n",
    "        print(e)   \n",
    "\n",
    " \n",
    "    else:\n",
    "        print(\"D\")"
   ]
  }
 ],
 "metadata": {
  "kernelspec": {
   "display_name": "Python 3",
   "language": "python",
   "name": "python3"
  },
  "language_info": {
   "codemirror_mode": {
    "name": "ipython",
    "version": 3
   },
   "file_extension": ".py",
   "mimetype": "text/x-python",
   "name": "python",
   "nbconvert_exporter": "python",
   "pygments_lexer": "ipython3",
   "version": "3.13.6"
  }
 },
 "nbformat": 4,
 "nbformat_minor": 5
}
