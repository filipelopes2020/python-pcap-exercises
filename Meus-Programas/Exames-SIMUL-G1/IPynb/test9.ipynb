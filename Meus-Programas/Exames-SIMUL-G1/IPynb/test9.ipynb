{
 "cells": [
  {
   "cell_type": "code",
   "execution_count": 7,
   "id": "5d9196bd",
   "metadata": {},
   "outputs": [
    {
     "name": "stdout",
     "output_type": "stream",
     "text": [
      "erro\n"
     ]
    }
   ],
   "source": [
    "class MyException(Exception):\n",
    "    def __init__(self, msg):\n",
    "        self.msg = msg\n",
    "    \n",
    "#raise MyException(\"This is a custom exception\")\n",
    "try:\n",
    "    raise BaseException(\"This is a custom exception\")\n",
    "except:\n",
    "    print(\"erro\")"
   ]
  },
  {
   "cell_type": "code",
   "execution_count": 13,
   "id": "04517543",
   "metadata": {},
   "outputs": [
    {
     "name": "stdout",
     "output_type": "stream",
     "text": [
      "0,1,2\n"
     ]
    }
   ],
   "source": [
    "for i in range(3):\n",
    "    if i==2:\n",
    "        print(i)\n",
    "    else:\n",
    "        print(i,end=\",\")"
   ]
  },
  {
   "cell_type": "code",
   "execution_count": 53,
   "id": "d86d882f",
   "metadata": {},
   "outputs": [
    {
     "name": "stdout",
     "output_type": "stream",
     "text": [
      "<class '__main__.MyClass'>\n",
      "<class '__main__.Test'>\n",
      "Test class with val=1\n",
      "Test class with val=10\n"
     ]
    }
   ],
   "source": [
    "class Test:\n",
    "    def __init__(self,val):\n",
    "        self.val = val\n",
    "        \n",
    "    def __str__(self):\n",
    "           return f\"Test class with val={self.val}\"\n",
    "    \n",
    "    def mt():\n",
    "        pass\n",
    "        \n",
    "class MyClass(Test):\n",
    "    pass\n",
    "    \n",
    "obj = MyClass(1)\n",
    "mytest = Test(10)\n",
    "#print(MyClass.__bases__)  # (<class 'object'>,)\n",
    "#print(hasattr(obj, '__bases__'))\n",
    "#print(hasattr(mytest, '__bases__'))\n",
    "#print(hasattr(MyClass, '__name__'))\n",
    "#print(hasattr(Test, '__name__'))\n",
    "#print(MyClass.__name__)  # \"MyClass\"\n",
    "\n",
    "#print(hasattr(obj, '__name__'))\n",
    "#print(hasattr(mytest, '__name__'))\n",
    "print(MyClass)\n",
    "print(Test)\n",
    "print(obj)\n",
    "print(mytest)\n",
    "\n",
    "#print(obj,'__name__')\n",
    "#print(\"---\")\n",
    "#print(obj.__module__)\n",
    "#print(Test.__module__)\n",
    "#print(hasattr(obj, '__module__'))\n",
    "#print(hasattr(mytest, '__module__'))\n",
    "#print(\"---\")\n",
    "#print(hasattr(obj, '__bases__'))\n",
    "#print(hasattr(mytest, '__bases__'))\n",
    "#print(\"---\")\n",
    "#print(hasattr(MyClass, '__name__'))\n",
    "#print(hasattr(mytest, '__name__'))\n",
    "#print(\"-----\")\n",
    "#print(hasattr(mytest.mt,'__name__'))\n",
    "#print(hasattr(mytest.__str__,'__name__'))\n"
   ]
  },
  {
   "cell_type": "code",
   "execution_count": 64,
   "id": "599d3505",
   "metadata": {},
   "outputs": [
    {
     "name": "stdout",
     "output_type": "stream",
     "text": [
      "[[4, 8, 12], [5, 10, 15], [6, 12, 18]]\n"
     ]
    }
   ],
   "source": [
    "nums1 = [1, 2, 3]\n",
    "nums2 = [4, 5, 6]\n",
    "resultado = []\n",
    "for num2 in nums2:\n",
    "    linha = []\n",
    "    for num1 in nums1:\n",
    "        linha.append(num1 * num2)\n",
    "    resultado.append(linha)\n",
    "    \n",
    "print(result)"
   ]
  },
  {
   "cell_type": "code",
   "execution_count": 66,
   "id": "96409ffc",
   "metadata": {},
   "outputs": [
    {
     "name": "stdout",
     "output_type": "stream",
     "text": [
      "C\n"
     ]
    }
   ],
   "source": [
    "s = \"Abc123!\"\n",
    "if s.isalnum() and s.islower():\n",
    "    print(\"A\")\n",
    "elif sorted(s) == list(s):\n",
    "    print(\"B\")\n",
    "elif s.rfind(\"!\") > s.find(\"1\"):\n",
    "    print(\"C\")\n",
    "else:\n",
    "    print(\"D\")"
   ]
  },
  {
   "cell_type": "code",
   "execution_count": 69,
   "id": "96ce628f",
   "metadata": {},
   "outputs": [
    {
     "name": "stdout",
     "output_type": "stream",
     "text": [
      "8\n"
     ]
    }
   ],
   "source": [
    "def outer_function(x):\n",
    "    def inner_function(y):\n",
    "        return x + y\n",
    "    return inner_function\n",
    "    \n",
    "#result = outer_function(5)(3)\n",
    "\n",
    "f = outer_function(5)  # passo 1 → retorna inner_function com x=5\n",
    "result = f(3)          # passo 2 → chama inner_function(y=3)\n",
    "\n",
    "print(result)"
   ]
  },
  {
   "cell_type": "code",
   "execution_count": null,
   "id": "5cdd888a",
   "metadata": {},
   "outputs": [],
   "source": [
    "def custom_func(x, y, operation):\n",
    "    return operation(x, y)\n",
    "    \n",
    "result = custom_func(3, 4, lambda x, y: x * y)\n",
    "    \n",
    "print(result)"
   ]
  },
  {
   "cell_type": "code",
   "execution_count": 75,
   "id": "ede18a0a",
   "metadata": {},
   "outputs": [
    {
     "name": "stdout",
     "output_type": "stream",
     "text": [
      "Python e incrivel e java tambem\n"
     ]
    }
   ],
   "source": [
    "frase = \"PYTHON E INCRIVEL e Java tambem\"\n",
    "print(frase.capitalize())  # Saída: \"Python É Incrível\""
   ]
  },
  {
   "cell_type": "code",
   "execution_count": 99,
   "id": "da89d324",
   "metadata": {},
   "outputs": [
    {
     "name": "stdout",
     "output_type": "stream",
     "text": [
      "red\n",
      "cor: red e val: 10\n",
      "---\n",
      "True\n",
      "False\n",
      "(<class 'object'>,)\n",
      "Animal\n",
      "1\n",
      "(<class '__main__.Cat'>, <class '__main__.Animal'>, <class 'object'>)\n"
     ]
    }
   ],
   "source": [
    "class Animal:\n",
    "    def __init__(self, val):\n",
    "        self.val = val\n",
    "    \n",
    "class Cat(Animal):\n",
    "    def __init__(self, cor):\n",
    "        super().__init__(cor)\n",
    "        self.__cor = cor\n",
    "    \n",
    "    def __str__(self):\n",
    "        return f\"cor: {self._Cat__cor} e val: {self.val}\"\n",
    "    \n",
    "#an = Animal(10)\n",
    "obj = Cat(\"red\")\n",
    "obj.val = 10\n",
    "print(obj._Cat__cor)\n",
    "print(obj)\n",
    "print(\"---\")\n",
    "print(isinstance(obj, Animal))\n",
    "print(issubclass(Animal,Cat))\n",
    "print(Animal.__bases__)          # (<class '__main__.B'>, <class '__main__.A'>)\n",
    "print(Cat.__bases__[0].__name__)  # B\n",
    "print(len(Cat.__bases__))      \n",
    "#print(dir(Cat))\n",
    "\n",
    "print(Cat.__mro__)"
   ]
  },
  {
   "cell_type": "code",
   "execution_count": 102,
   "id": "727aba66",
   "metadata": {},
   "outputs": [
    {
     "name": "stdout",
     "output_type": "stream",
     "text": [
      "1\n",
      "2.718281828459045\n",
      "['__doc__', '__loader__', '__name__', '__package__', '__spec__', 'acos', 'acosh', 'asin', 'asinh', 'atan', 'atan2', 'atanh', 'cbrt', 'ceil', 'comb', 'copysign', 'cos', 'cosh', 'degrees', 'dist', 'e', 'erf', 'erfc', 'exp', 'exp2', 'expm1', 'fabs', 'factorial', 'floor', 'fma', 'fmod', 'frexp', 'fsum', 'gamma', 'gcd', 'hypot', 'inf', 'isclose', 'isfinite', 'isinf', 'isnan', 'isqrt', 'lcm', 'ldexp', 'lgamma', 'log', 'log10', 'log1p', 'log2', 'modf', 'nan', 'nextafter', 'perm', 'pi', 'pow', 'prod', 'radians', 'remainder', 'sin', 'sinh', 'sqrt', 'sumprod', 'tan', 'tanh', 'tau', 'trunc', 'ulp']\n"
     ]
    }
   ],
   "source": [
    "import math\n",
    "    \n",
    "x = math.e != math.pow(1,5)\n",
    "print(int(x))\n",
    "print(math.e)\n",
    "print(dir(math))"
   ]
  },
  {
   "cell_type": "code",
   "execution_count": 138,
   "id": "b06a3ca1",
   "metadata": {},
   "outputs": [
    {
     "name": "stdout",
     "output_type": "stream",
     "text": [
      "{'__module__': '__main__', '__firstlineno__': 12, '__init__': <function Danubio.__init__ at 0x000001EB5C4253A0>, '__str__': <function Danubio.__str__ at 0x000001EB5C425260>, '__static_attributes__': ('idade', 'nome'), '__doc__': None}\n",
      "{'nome': 'joao', 'idade': 20}\n",
      "Teste: joao tem 20 anos\n"
     ]
    }
   ],
   "source": [
    "class A:\n",
    "    def method(self):\n",
    "        return \"A\"\n",
    "    \n",
    "class B(A):\n",
    "    pass\n",
    "    \n",
    "class C(A):\n",
    "    def method(self):\n",
    "        return \"C\"\n",
    "    \n",
    "class Danubio(B, C):\n",
    "    def __init__(self, nome, idade):\n",
    "        self.nome = nome\n",
    "        self.idade = idade\n",
    "    def __str__(self):\n",
    "        return f\"Teste: {self.nome} tem {self.idade} anos\"\n",
    "\n",
    "    \n",
    "obj = Danubio(\"joao\",20)\n",
    "#print(obj.method())\n",
    "#print(D.__mro__)\n",
    "#print(B.__mro__)\n",
    "#print(B.__name__)\n",
    "print(Danubio.__dict__)\n",
    "print(obj.__dict__)\n",
    "print(obj)"
   ]
  },
  {
   "cell_type": "code",
   "execution_count": 118,
   "id": "caac0145",
   "metadata": {},
   "outputs": [
    {
     "name": "stdout",
     "output_type": "stream",
     "text": [
      "Python is a Snake\n",
      "Snake can be a Python\n"
     ]
    }
   ],
   "source": [
    "class Snake:\n",
    "    pass\n",
    "    \n",
    "class Python(Snake):\n",
    "    pass\n",
    "    \n",
    "print(Python.__name__, 'is a', Snake.__name__)\n",
    "print(Python.__bases__[0].__name__, 'can be a', Python.__name__)"
   ]
  },
  {
   "cell_type": "code",
   "execution_count": 112,
   "id": "6b53e045",
   "metadata": {},
   "outputs": [
    {
     "name": "stdout",
     "output_type": "stream",
     "text": [
      "3\n",
      "__main__\n"
     ]
    }
   ],
   "source": [
    "my_string=\"batatas\"\n",
    "print(my_string.count(\"a\"))\n",
    "print(__name__)"
   ]
  },
  {
   "cell_type": "code",
   "execution_count": 121,
   "id": "4aed3d5c",
   "metadata": {},
   "outputs": [
    {
     "name": "stdout",
     "output_type": "stream",
     "text": [
      "An error occurred.\n"
     ]
    }
   ],
   "source": [
    "try:\n",
    "    f = open(\"example.txt\")\n",
    "    f.write(\"Hello, world!\")\n",
    "    f.close()\n",
    "except:\n",
    "    print(\"An error occurred.\")\n"
   ]
  },
  {
   "cell_type": "code",
   "execution_count": 111,
   "id": "8c34d9cb",
   "metadata": {},
   "outputs": [
    {
     "name": "stdout",
     "output_type": "stream",
     "text": [
      "This is a custom exception\n"
     ]
    }
   ],
   "source": [
    "class MyException(Exception):\n",
    "    def __init__(self, msg):\n",
    "        self.msg = msg\n",
    "    \n",
    "    #def __str__(self):\n",
    "    #    return f\"Exception: {self.msg}\"\n",
    "\n",
    "try:\n",
    "    raise MyException(\"This is a custom exception\")\n",
    "except Exception as e:\n",
    "    print(e)"
   ]
  },
  {
   "cell_type": "code",
   "execution_count": 123,
   "id": "4b32f53c",
   "metadata": {},
   "outputs": [
    {
     "name": "stdout",
     "output_type": "stream",
     "text": [
      "An error occurred.\n"
     ]
    }
   ],
   "source": [
    "try:\n",
    "    num1 = int(input(\"Enter a number: \"))\n",
    "    num2 = int(input(\"Enter another number: \"))\n",
    "    result = num1 / num2\n",
    "except:\n",
    "    print(\"An error occurred.\")"
   ]
  },
  {
   "cell_type": "code",
   "execution_count": 124,
   "id": "638e82ac",
   "metadata": {},
   "outputs": [
    {
     "name": "stdout",
     "output_type": "stream",
     "text": [
      "[1, 4, 9, 16]\n"
     ]
    }
   ],
   "source": [
    "matrix = [[1, 2], [3, 4]]\n",
    "result = [num**2 for row in matrix for num in row]\n",
    "print(result)"
   ]
  },
  {
   "cell_type": "code",
   "execution_count": 140,
   "id": "c070fff8",
   "metadata": {},
   "outputs": [
    {
     "name": "stdout",
     "output_type": "stream",
     "text": [
      "Toyota\n",
      "{'marca': 'Toyota', 'modelo': 'Corolla'}\n"
     ]
    }
   ],
   "source": [
    "class Carro:\n",
    "    #__slots__ = ['marca', 'modelo']\n",
    "    def __init__(self, marca, modelo):\n",
    "        self.marca = marca\n",
    "        self.modelo = modelo\n",
    "\n",
    "c = Carro(\"Toyota\", \"Corolla\")\n",
    "print(c.marca)       # Funciona\n",
    "print(c.__dict__)    # AttributeError"
   ]
  },
  {
   "cell_type": "code",
   "execution_count": 159,
   "id": "695bf9fd",
   "metadata": {},
   "outputs": [
    {
     "name": "stdout",
     "output_type": "stream",
     "text": [
      "<class '__main__.MyClass'>\n",
      "{'my_var': 5}\n"
     ]
    }
   ],
   "source": [
    "class MyClass:\n",
    "    def __init__(self):\n",
    "        self.my_var = 5\n",
    "        \n",
    "class Batatas:\n",
    "    pass    \n",
    "\n",
    "obj = MyClass()\n",
    "b=Batatas()\n",
    "print(type(obj))\n",
    "print(obj.__dict__)\n",
    "#print(obj.__dict__)\n",
    "#print(hasattr(Batatas, '__init__'))\n",
    "#print(hasattr(obj, '__init__'))\n",
    "#print(hasattr(MyClass, '__init__'))\n",
    "#print(hasattr(obj, '__call__'))\n",
    "#print(dir(obj))\n",
    "#print(obj.__init__)"
   ]
  },
  {
   "cell_type": "code",
   "execution_count": 163,
   "id": "377f0398",
   "metadata": {},
   "outputs": [
    {
     "name": "stdout",
     "output_type": "stream",
     "text": [
      "('Processando valor 10', 'Segredo com 10')\n",
      "Processando valor 10\n",
      "Segredo com 10\n"
     ]
    }
   ],
   "source": [
    "class MinhaClasse:\n",
    "    def __init__(self, valor):\n",
    "        self.valor = valor\n",
    "\n",
    "    # Função \"privada\" (convenção com underscore)\n",
    "    def _funcao_interna(self):\n",
    "        return f\"Processando valor {self.valor}\"\n",
    "\n",
    "    # Função \"privada\" com name mangling\n",
    "    def __funcao_secreta(self):\n",
    "        return f\"Segredo com {self.valor}\"\n",
    "\n",
    "    # Função pública que chama privadas\n",
    "    def executar(self):\n",
    "        resultado1 = self._funcao_interna()\n",
    "        resultado2 = self.__funcao_secreta()\n",
    "        return resultado1, resultado2\n",
    "\n",
    "\n",
    "# Uso\n",
    "obj = MinhaClasse(10)\n",
    "\n",
    "# Chamando de forma correta (via método público)\n",
    "print(obj.executar())\n",
    "\n",
    "# Acessando diretamente a \"privada\" (não recomendado, mas possível)\n",
    "print(obj._funcao_interna())  # funciona\n",
    "\n",
    "# Acessando a com name mangling (Python altera o nome internamente)\n",
    "print(obj._MinhaClasse__funcao_secreta())  # funciona, mas \"quebra a regra\"\n",
    "#print(obj.__funcao_secreta())  # funciona"
   ]
  },
  {
   "cell_type": "code",
   "execution_count": 173,
   "id": "32b943c2",
   "metadata": {},
   "outputs": [
    {
     "name": "stdout",
     "output_type": "stream",
     "text": [
      "<re.Match object; span=(0, 11), match='912-345-678'>\n",
      "['joao@gmail.com', 'maria@yahoo.com']\n"
     ]
    }
   ],
   "source": [
    "import re\n",
    "telefone = \"912-345-678\"\n",
    "padrao = r'\\d{3}-\\d{3}-\\d{3}'\n",
    "print(re.match(padrao, telefone))  # <re.Match object>\n",
    "\n",
    "texto = \"Contate-nos: joao@gmail.com ou maria@yahoo.com\"\n",
    "emails = re.findall(r'\\w+@\\w+\\.\\w+', texto)\n",
    "print(emails)  # ['joao@gmail.com', 'maria@yahoo.com']"
   ]
  },
  {
   "cell_type": "code",
   "execution_count": 176,
   "id": "bef56ca4",
   "metadata": {},
   "outputs": [
    {
     "name": "stdout",
     "output_type": "stream",
     "text": [
      "Execution complete\n"
     ]
    },
    {
     "ename": "AssertionError",
     "evalue": "Number must be positive",
     "output_type": "error",
     "traceback": [
      "\u001b[31m---------------------------------------------------------------------------\u001b[39m",
      "\u001b[31mAssertionError\u001b[39m                            Traceback (most recent call last)",
      "\u001b[36mCell\u001b[39m\u001b[36m \u001b[39m\u001b[32mIn[176]\u001b[39m\u001b[32m, line 3\u001b[39m\n\u001b[32m      1\u001b[39m \u001b[38;5;28;01mtry\u001b[39;00m:\n\u001b[32m      2\u001b[39m     num = \u001b[38;5;28mint\u001b[39m(\u001b[38;5;28minput\u001b[39m(\u001b[33m\"\u001b[39m\u001b[33mEnter a number: \u001b[39m\u001b[33m\"\u001b[39m))\n\u001b[32m----> \u001b[39m\u001b[32m3\u001b[39m     \u001b[38;5;28;01massert\u001b[39;00m num > \u001b[32m0\u001b[39m, \u001b[33m\"\u001b[39m\u001b[33mNumber must be positive\u001b[39m\u001b[33m\"\u001b[39m\n\u001b[32m      4\u001b[39m \u001b[38;5;28;01mexcept\u001b[39;00m \u001b[38;5;167;01mValueError\u001b[39;00m:\n\u001b[32m      5\u001b[39m     \u001b[38;5;28mprint\u001b[39m(\u001b[33m\"\u001b[39m\u001b[33mInvalid input.\u001b[39m\u001b[33m\"\u001b[39m)\n",
      "\u001b[31mAssertionError\u001b[39m: Number must be positive"
     ]
    }
   ],
   "source": [
    "try:\n",
    "    num = int(input(\"Enter a number: \"))\n",
    "    assert num > 0, \"Number must be positive\"\n",
    "except ValueError:\n",
    "    print(\"Invalid input.\")\n",
    "else:\n",
    "    print(\"Number is positive\")\n",
    "finally:\n",
    "    print(\"Execution complete\")"
   ]
  },
  {
   "cell_type": "code",
   "execution_count": 183,
   "id": "e84963d2",
   "metadata": {},
   "outputs": [
    {
     "name": "stdout",
     "output_type": "stream",
     "text": [
      "*********123\n"
     ]
    }
   ],
   "source": [
    "    s = \"abctrretr123\"\n",
    "    for c in s:\n",
    "        if c in \"123\":\n",
    "            continue\n",
    "        else:\n",
    "            s = s.replace(c, \"*\")\n",
    "    print(s)"
   ]
  },
  {
   "cell_type": "code",
   "execution_count": null,
   "id": "95392764",
   "metadata": {},
   "outputs": [
    {
     "name": "stdout",
     "output_type": "stream",
     "text": [
      "['Python', 'is', '!great!']\n",
      "['!great!']\n"
     ]
    },
    {
     "ename": "SystemExit",
     "evalue": "",
     "output_type": "error",
     "traceback": [
      "An exception has occurred, use %tb to see the full traceback.\n",
      "\u001b[31mSystemExit\u001b[39m\n"
     ]
    }
   ],
   "source": [
    "import sys\n",
    "my_string = \"Python is !great!\" \n",
    "print(my_string.split())\n",
    "print(my_string.split()[:0:-1])\n",
    "sys.exit()\n",
    "print(my_string.split()[::-1][0])\n",
    "print(my_string.split()[::-1][0].rstrip(\"!\").lstrip(\"!\"))"
   ]
  },
  {
   "cell_type": "code",
   "execution_count": 198,
   "id": "08d81790",
   "metadata": {},
   "outputs": [
    {
     "name": "stdout",
     "output_type": "stream",
     "text": [
      "['d', 'c', 'b']\n"
     ]
    }
   ],
   "source": [
    "lst = ['a','b','c','d','e']\n",
    "print(lst[-2:-5:-1])"
   ]
  },
  {
   "cell_type": "code",
   "execution_count": 201,
   "id": "b10bd027",
   "metadata": {},
   "outputs": [
    {
     "name": "stdout",
     "output_type": "stream",
     "text": [
      "correct exception\n"
     ]
    }
   ],
   "source": [
    "try:\n",
    "    assert 2 + 2 == 5, \"This is an assertion error\"\n",
    "except AssertionError:\n",
    "    print(\"correct exception\")\n",
    "except Exception:\n",
    "    print(\"Caught an Exception\")\n"
   ]
  },
  {
   "cell_type": "code",
   "execution_count": 206,
   "id": "07fc8279",
   "metadata": {},
   "outputs": [
    {
     "name": "stdout",
     "output_type": "stream",
     "text": [
      "platform Windows-11-10.0.26100-SP0\n",
      "machine: AMD64\n",
      "processor: Intel64 Family 6 Model 158 Stepping 10, GenuineIntel\n",
      "System: Windows\n"
     ]
    }
   ],
   "source": [
    "import platform\n",
    "print(\"platform\",platform.platform())\n",
    "print(\"machine:\",platform.machine())\n",
    "print(\"processor:\",platform.processor())\n",
    "print(\"System:\",platform.system())"
   ]
  },
  {
   "cell_type": "code",
   "execution_count": 217,
   "id": "4a9be83f",
   "metadata": {},
   "outputs": [
    {
     "name": "stdout",
     "output_type": "stream",
     "text": [
      "<class '__main__.Pessoa'>\n",
      "['__class__', '__delattr__', '__dict__', '__dir__', '__doc__', '__eq__', '__firstlineno__', '__format__', '__ge__', '__getattribute__', '__getstate__', '__gt__', '__hash__', '__init__', '__init_subclass__', '__le__', '__lt__', '__module__', '__ne__', '__new__', '__reduce__', '__reduce_ex__', '__repr__', '__setattr__', '__sizeof__', '__static_attributes__', '__str__', '__subclasshook__', '__weakref__', 'especie', 'idade', 'nome', 'saudacao']\n",
      "True\n",
      "False\n",
      "Alice\n",
      "3900\n",
      "31\n"
     ]
    }
   ],
   "source": [
    "class Pessoa:\n",
    "    especie = \"Humano\"  # variável de classe\n",
    "    \n",
    "    def __init__(self, nome, idade):\n",
    "        self.nome = nome\n",
    "        self.idade = idade\n",
    "        \n",
    "    def saudacao(self):\n",
    "        return f\"Olá, meu nome é {self.nome}\"\n",
    "\n",
    "p = Pessoa(\"Alice\", 30)\n",
    "\n",
    "# Descobrir tipo do objeto\n",
    "print(type(p))  # <class '__main__.Pessoa'>\n",
    "\n",
    "# Listar atributos e métodos\n",
    "print(dir(p))   \n",
    "# ['__class__', '__delattr__', ..., 'idade', 'nome', 'saudacao', 'especie']\n",
    "\n",
    "# Verificar se possui um atributo\n",
    "print(hasattr(p, 'nome'))  # True\n",
    "print(hasattr(p, 'peso'))  # False\n",
    "\n",
    "# Obter valor de atributo dinamicamente\n",
    "print(getattr(p, 'nome'))  # Alice\n",
    "\n",
    "\n",
    "# Modificar atributo dinamicamente\n",
    "setattr(p, 'idade', 31)\n",
    "setattr(p, 'nada', 3900)\n",
    "print(getattr(p, 'nada'))  # Alice\n",
    "print(p.idade)  # 31"
   ]
  },
  {
   "cell_type": "code",
   "execution_count": null,
   "id": "adcd45f8",
   "metadata": {},
   "outputs": [
    {
     "name": "stdout",
     "output_type": "stream",
     "text": [
      "['hello', 'world']\n",
      "HELLOWORLD\n"
     ]
    }
   ],
   "source": [
    "s1 = \"hello world\"\n",
    "s11 = s1.split()\n",
    "s2 = s1.split()[::1]\n",
    "print(s11)\n",
    "s3 = \"\".join(s2)\n",
    "if s3.isalpha() == True:\n",
    "    print(s3.upper())\n",
    "else:\n",
    "    print(\"Not alphabetic\")"
   ]
  },
  {
   "cell_type": "code",
   "execution_count": 232,
   "id": "e0a396d5",
   "metadata": {},
   "outputs": [
    {
     "name": "stdout",
     "output_type": "stream",
     "text": [
      "Alice earns 100000 per year. and his employees, are: ['Bob', 'Carol']\n"
     ]
    }
   ],
   "source": [
    "class Employee:\n",
    "    def __init__(self, name, salary):\n",
    "        self.name = name\n",
    "        self.salary = salary\n",
    "    \n",
    "    def __str__(self):\n",
    "        return f\"{self.name} earns {self.salary} per year.\"\n",
    "    \n",
    "    \n",
    "class Manager(Employee):\n",
    "    def __init__(self, name, salary, employees):\n",
    "        super().__init__(name, salary)\n",
    "        self.employees = employees\n",
    "        \n",
    "    def __str__(self):  \n",
    "        #employees_str = \", \".join(self.employees)\n",
    "        return f\"{super().__str__()} and his employees, are: {self.employees}\"\n",
    "\n",
    "\n",
    "manager = Manager(\"Alice\", 100000, [\"Bob\", \"Carol\"])\n",
    "print(manager)"
   ]
  }
 ],
 "metadata": {
  "kernelspec": {
   "display_name": "Python 3",
   "language": "python",
   "name": "python3"
  },
  "language_info": {
   "codemirror_mode": {
    "name": "ipython",
    "version": 3
   },
   "file_extension": ".py",
   "mimetype": "text/x-python",
   "name": "python",
   "nbconvert_exporter": "python",
   "pygments_lexer": "ipython3",
   "version": "3.13.6"
  }
 },
 "nbformat": 4,
 "nbformat_minor": 5
}
