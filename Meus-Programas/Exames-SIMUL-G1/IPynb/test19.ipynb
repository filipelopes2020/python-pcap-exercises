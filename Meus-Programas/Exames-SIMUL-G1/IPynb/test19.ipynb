{
 "cells": [
  {
   "cell_type": "code",
   "execution_count": 1,
   "id": "cf11eaf9",
   "metadata": {},
   "outputs": [
    {
     "name": "stdout",
     "output_type": "stream",
     "text": [
      "['pop', 'ab\\nba', 'xy yx', 'level']\n"
     ]
    }
   ],
   "source": [
    "words = ['pop', 'ab\\nba', 'xy yx', 'level', 'alba']\n",
    "    \n",
    "def fun(word):\n",
    "    reverse_word = word[::-1]\n",
    "    return reverse_word == word\n",
    "    \n",
    "l = filter(fun, words)\n",
    "    \n",
    "print(list(l))"
   ]
  },
  {
   "cell_type": "code",
   "execution_count": 14,
   "id": "9de05082",
   "metadata": {},
   "outputs": [
    {
     "name": "stdout",
     "output_type": "stream",
     "text": [
      "<generator object fun at 0x000002409AF20EE0>\n",
      "1 1 4 \n",
      "(1, 1, 4)\n",
      "[1, 1, 4]\n"
     ]
    }
   ],
   "source": [
    "def fun(n):\n",
    "    for i in range(n):\n",
    "        yield i ** i\n",
    "    \n",
    "gen = fun(3)\n",
    "print(gen,end=\"\\n\")\n",
    "for val in fun(3):\n",
    "    print(val, end=' ')\n",
    "print()\n",
    "print(tuple(fun(3)), end = '\\n')\n",
    "print(list(fun(3)), end = '\\n')\n",
    "\n"
   ]
  },
  {
   "cell_type": "code",
   "execution_count": 3,
   "id": "ed7e097b",
   "metadata": {},
   "outputs": [
    {
     "name": "stdout",
     "output_type": "stream",
     "text": [
      "3\n",
      "9\n",
      "27\n"
     ]
    }
   ],
   "source": [
    "def contador(inicio):\n",
    "    # Função externa: cria um ambiente com a variável 'n'\n",
    "    n = inicio\n",
    "    \n",
    "    def gerador():\n",
    "        nonlocal n  # permite modificar 'n' da função externa\n",
    "        while True:\n",
    "            yield n   # produz o valor atual\n",
    "            n =n * 3 #\n",
    "    \n",
    "    return gerador  # retorna a função geradora (closure)\n",
    "\n",
    "# Usando a closure\n",
    "cont = contador(3)   # cont é a função geradora\n",
    "gen = cont()          # gen é o gerador real\n",
    "\n",
    "print(next(gen))  # 10\n",
    "print(next(gen))  # 11\n",
    "print(next(gen))  # 12"
   ]
  },
  {
   "cell_type": "code",
   "execution_count": 20,
   "id": "0b7f4202",
   "metadata": {},
   "outputs": [
    {
     "ename": "TypeError",
     "evalue": "__init__() should return None, not 'str'",
     "output_type": "error",
     "traceback": [
      "\u001b[31m---------------------------------------------------------------------------\u001b[39m",
      "\u001b[31mTypeError\u001b[39m                                 Traceback (most recent call last)",
      "\u001b[36mCell\u001b[39m\u001b[36m \u001b[39m\u001b[32mIn[20]\u001b[39m\u001b[32m, line 6\u001b[39m\n\u001b[32m      2\u001b[39m     \u001b[38;5;28;01mdef\u001b[39;00m\u001b[38;5;250m \u001b[39m\u001b[34m__init__\u001b[39m(\u001b[38;5;28mself\u001b[39m):\n\u001b[32m      3\u001b[39m         \u001b[38;5;66;03m#return None\u001b[39;00m\n\u001b[32m      4\u001b[39m         \u001b[38;5;28;01mreturn\u001b[39;00m \u001b[33m\"\u001b[39m\u001b[33mPython\u001b[39m\u001b[33m\"\u001b[39m\n\u001b[32m----> \u001b[39m\u001b[32m6\u001b[39m \u001b[38;5;28mprint\u001b[39m(\u001b[43mA\u001b[49m\u001b[43m(\u001b[49m\u001b[43m)\u001b[49m)\n",
      "\u001b[31mTypeError\u001b[39m: __init__() should return None, not 'str'"
     ]
    }
   ],
   "source": [
    "class A:\n",
    "    def __init__(self):\n",
    "        #return None\n",
    "        return \"Python\"\n",
    "                \n",
    "print(A())"
   ]
  },
  {
   "cell_type": "code",
   "execution_count": null,
   "id": "7ea4ea52",
   "metadata": {},
   "outputs": [
    {
     "name": "stdout",
     "output_type": "stream",
     "text": [
      "[1, 2, 4, 5, 9]\n"
     ]
    }
   ],
   "source": [
    "class A:\n",
    "    def __init__(self, l):\n",
    "        self.lst = l\n",
    "    \n",
    "    def get_list(self):\n",
    "        return self.lst\n",
    "    \n",
    "    def get_element(self, elem):\n",
    "        return self.lst[elem]\n",
    "    \n",
    "    def add_element(self, elem):\n",
    "        self.lst.append(elem)\n",
    "\n",
    "    def delete_element(self):\n",
    "        self.lst.remove(self.get_element(2))       \n",
    "    \n",
    "obj = A([1, 2, 3, 4, 5])\n",
    "obj.delete_element()\n",
    "obj.add_element(9)\n",
    "print(obj.get_list())"
   ]
  },
  {
   "cell_type": "code",
   "execution_count": 24,
   "id": "43b9d3cd",
   "metadata": {},
   "outputs": [
    {
     "name": "stdout",
     "output_type": "stream",
     "text": [
      "thon\n",
      "Pt\n",
      "nhy\n"
     ]
    }
   ],
   "source": [
    "txt = \"Python\"\n",
    "    \n",
    "print(txt[-4:])   \n",
    "print(txt[:-2:2])\n",
    "print(txt[::-2]) "
   ]
  },
  {
   "cell_type": "code",
   "execution_count": 46,
   "id": "589814cb",
   "metadata": {},
   "outputs": [
    {
     "name": "stdout",
     "output_type": "stream",
     "text": [
      "<class 'list'>\n",
      "['c:\\\\Users\\\\mario\\\\AppData\\\\Local\\\\Programs\\\\Python\\\\Python313\\\\python313.zip', 'c:\\\\Users\\\\mario\\\\AppData\\\\Local\\\\Programs\\\\Python\\\\Python313\\\\DLLs', 'c:\\\\Users\\\\mario\\\\AppData\\\\Local\\\\Programs\\\\Python\\\\Python313\\\\Lib', 'c:\\\\Users\\\\mario\\\\AppData\\\\Local\\\\Programs\\\\Python\\\\Python313', '', 'C:\\\\Users\\\\mario\\\\AppData\\\\Roaming\\\\Python\\\\Python313\\\\site-packages', 'C:\\\\Users\\\\mario\\\\AppData\\\\Roaming\\\\Python\\\\Python313\\\\site-packages\\\\win32', 'C:\\\\Users\\\\mario\\\\AppData\\\\Roaming\\\\Python\\\\Python313\\\\site-packages\\\\win32\\\\lib', 'C:\\\\Users\\\\mario\\\\AppData\\\\Roaming\\\\Python\\\\Python313\\\\site-packages\\\\Pythonwin', 'c:\\\\Users\\\\mario\\\\AppData\\\\Local\\\\Programs\\\\Python\\\\Python313\\\\Lib\\\\site-packages']\n"
     ]
    },
    {
     "ename": "ValueError",
     "evalue": "list.remove(x): x not in list",
     "output_type": "error",
     "traceback": [
      "\u001b[31m---------------------------------------------------------------------------\u001b[39m",
      "\u001b[31mValueError\u001b[39m                                Traceback (most recent call last)",
      "\u001b[36mCell\u001b[39m\u001b[36m \u001b[39m\u001b[32mIn[46]\u001b[39m\u001b[32m, line 7\u001b[39m\n\u001b[32m      5\u001b[39m \u001b[38;5;66;03m#sys.path.append(\"c:\\\\batatas\")\u001b[39;00m\n\u001b[32m      6\u001b[39m \u001b[38;5;28mprint\u001b[39m(sys.path)\n\u001b[32m----> \u001b[39m\u001b[32m7\u001b[39m \u001b[43msys\u001b[49m\u001b[43m.\u001b[49m\u001b[43mpath\u001b[49m\u001b[43m.\u001b[49m\u001b[43mremove\u001b[49m\u001b[43m(\u001b[49m\u001b[33;43m\"\u001b[39;49m\u001b[33;43mc:\u001b[39;49m\u001b[38;5;130;43;01m\\\\\u001b[39;49;00m\u001b[33;43musers\u001b[39;49m\u001b[33;43m\"\u001b[39;49m\u001b[43m)\u001b[49m\n",
      "\u001b[31mValueError\u001b[39m: list.remove(x): x not in list"
     ]
    }
   ],
   "source": [
    "import os,sys\n",
    "\n",
    "print(type(sys.path))\n",
    "\n",
    "#sys.path.append(\"c:\\\\batatas\")\n",
    "print(sys.path)\n",
    "sys.path.remove(\"c:\\\\users\")\n"
   ]
  },
  {
   "cell_type": "code",
   "execution_count": 55,
   "id": "9551f30b",
   "metadata": {},
   "outputs": [
    {
     "name": "stdout",
     "output_type": "stream",
     "text": [
      "[900, 1, 2, 3]\n"
     ]
    }
   ],
   "source": [
    "lista = [1, 2, 3]\n",
    "lista.insert(0,900)\n",
    "print(lista)"
   ]
  },
  {
   "cell_type": "code",
   "execution_count": 65,
   "id": "57021c17",
   "metadata": {},
   "outputs": [
    {
     "name": "stdout",
     "output_type": "stream",
     "text": [
      "Mario Candeias Filipe\n"
     ]
    }
   ],
   "source": [
    "#x, y, z = 'que'\n",
    "#x, y, z = 'acb'\n",
    "x,y,z=[\"Mario\",\"Filipe\",\"Candeias\"]\n",
    "x, y, z = y, z, x\n",
    "\n",
    "\n",
    "print(z, y, x)"
   ]
  },
  {
   "cell_type": "code",
   "execution_count": 6,
   "id": "7f8e0e08",
   "metadata": {},
   "outputs": [
    {
     "name": "stdout",
     "output_type": "stream",
     "text": [
      "0 1 2 3\n"
     ]
    }
   ],
   "source": [
    "[a, b, c,d] = range(4)\n",
    "\n",
    "print(a, b, c,d)\n",
    "\n"
   ]
  },
  {
   "cell_type": "code",
   "execution_count": null,
   "id": "1c888230",
   "metadata": {},
   "outputs": [
    {
     "name": "stdout",
     "output_type": "stream",
     "text": [
      "31\n"
     ]
    }
   ],
   "source": [
    "a = 1000\n",
    "    \n",
    "x = lambda b: 3 * b\n",
    "\n",
    "print(x(10) + 1)\n"
   ]
  },
  {
   "cell_type": "code",
   "execution_count": null,
   "id": "3c732628",
   "metadata": {},
   "outputs": [],
   "source": [
    "\n",
    "# Exemplo 1: Dobro de um número\n",
    "x = lambda n: n * 2\n",
    "print(x(5))  # Saída: 10\n",
    "\n",
    "# Exemplo 2: Soma de dois números\n",
    "soma = lambda a, b: a + b\n",
    "print(soma(3, 7))  # Saída: 10"
   ]
  },
  {
   "cell_type": "code",
   "execution_count": 24,
   "id": "0829a61f",
   "metadata": {},
   "outputs": [
    {
     "name": "stdout",
     "output_type": "stream",
     "text": [
      "d:\\OneDrive\\Documentos\\REPOS\\PYTHON\\Curso_Python-5H\\Meus-Programas\\Exames-SIMUL\\IPynb\\Snake\n"
     ]
    }
   ],
   "source": [
    "import os\n",
    "    \n",
    "os.makedirs(\"Snake/Python/Viper\")\n",
    "os.chdir(\"Snake/Python/Viper\")\n",
    "os.chdir(\"../..\")\n",
    "    \n",
    "print(os.getcwd())"
   ]
  }
 ],
 "metadata": {
  "kernelspec": {
   "display_name": "Python 3",
   "language": "python",
   "name": "python3"
  },
  "language_info": {
   "codemirror_mode": {
    "name": "ipython",
    "version": 3
   },
   "file_extension": ".py",
   "mimetype": "text/x-python",
   "name": "python",
   "nbconvert_exporter": "python",
   "pygments_lexer": "ipython3",
   "version": "3.13.6"
  }
 },
 "nbformat": 4,
 "nbformat_minor": 5
}
