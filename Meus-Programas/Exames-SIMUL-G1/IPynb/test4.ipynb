{
 "cells": [
  {
   "cell_type": "code",
   "execution_count": 1,
   "id": "c53696c4",
   "metadata": {},
   "outputs": [
    {
     "name": "stdout",
     "output_type": "stream",
     "text": [
      "Error\n",
      "Done\n"
     ]
    }
   ],
   "source": [
    "list_1 = list('Chewie')\n",
    "list_2 = list('Han')\n",
    "list_3 = list('Luke')\n",
    "    \n",
    "try:\n",
    "    list_1=list_2\n",
    "    list_2.insert(0,list_3[0])\n",
    "    assert list_1[0] == 'H'\n",
    "except:\n",
    "    print('Error')\n",
    "else:\n",
    "    print('OK')\n",
    "finally:\n",
    "    print('Done')"
   ]
  },
  {
   "cell_type": "code",
   "execution_count": null,
   "id": "39534487",
   "metadata": {},
   "outputs": [
    {
     "name": "stdout",
     "output_type": "stream",
     "text": [
      "[5, 4]\n"
     ]
    }
   ],
   "source": [
    "lista = [1, 2, 3, 4, 5]\n",
    "xx = lista[:2:-1]  # Inverte a lista e pega os dois primeiros elementos\n",
    "print(xx)  #\n",
    "Saída: [5, 4, 3, 2, 1]\n"
   ]
  },
  {
   "cell_type": "code",
   "execution_count": 19,
   "id": "9e6b2ee1",
   "metadata": {},
   "outputs": [
    {
     "name": "stdout",
     "output_type": "stream",
     "text": [
      "3\n"
     ]
    }
   ],
   "source": [
    "x = 'Yoda7'\n",
    "if x.isalpha():\n",
    "    print(1)\n",
    "elif x.isdigit():\n",
    "    print(2)\n",
    "elif x.isalnum():\n",
    "    print(3)\n",
    "else:\n",
    "    print(4)"
   ]
  },
  {
   "cell_type": "code",
   "execution_count": 27,
   "id": "87c5650e",
   "metadata": {},
   "outputs": [
    {
     "name": "stdout",
     "output_type": "stream",
     "text": [
      "TypeError\n",
      "Done\n"
     ]
    }
   ],
   "source": [
    "\n",
    "def my_func(x,y):\n",
    "    return x//y\n",
    "    \n",
    "try:\n",
    "    print(my_func('C3PO',2))\n",
    "except TypeError:\n",
    "    print('TypeError')\n",
    "except ValueError:\n",
    "    print('ValueError')\n",
    "except:\n",
    "    print('Error')\n",
    "else:\n",
    "    print('OK')\n",
    "finally:\n",
    "    print('Done') "
   ]
  },
  {
   "cell_type": "code",
   "execution_count": 22,
   "id": "968470fe",
   "metadata": {},
   "outputs": [
    {
     "name": "stdout",
     "output_type": "stream",
     "text": [
      "aaa-aaa-aaa-\n"
     ]
    }
   ],
   "source": [
    "x=\"aaa\"\n",
    "print(3*(x+'-'))  # saída: aaaaaaa\n"
   ]
  },
  {
   "cell_type": "code",
   "execution_count": 29,
   "id": "0f8df71b",
   "metadata": {},
   "outputs": [
    {
     "name": "stdout",
     "output_type": "stream",
     "text": [
      "<class 'tuple'>\n",
      "()\n",
      "0\n"
     ]
    }
   ],
   "source": [
    "try:\n",
    "    raise Exception\n",
    "except Exception as e:\n",
    "    print(type(e.args)), print(e.args), print(len(e.args))"
   ]
  },
  {
   "cell_type": "code",
   "execution_count": null,
   "id": "0289d4b8",
   "metadata": {},
   "outputs": [
    {
     "name": "stdout",
     "output_type": "stream",
     "text": [
      "[1, 2, 4, 8, 16]\n"
     ]
    }
   ],
   "source": []
  }
 ],
 "metadata": {
  "kernelspec": {
   "display_name": "Python 3",
   "language": "python",
   "name": "python3"
  },
  "language_info": {
   "codemirror_mode": {
    "name": "ipython",
    "version": 3
   },
   "file_extension": ".py",
   "mimetype": "text/x-python",
   "name": "python",
   "nbconvert_exporter": "python",
   "pygments_lexer": "ipython3",
   "version": "3.13.6"
  }
 },
 "nbformat": 4,
 "nbformat_minor": 5
}
