{
 "cells": [
  {
   "cell_type": "code",
   "execution_count": 4,
   "id": "85c8dcdf",
   "metadata": {},
   "outputs": [
    {
     "ename": "TypeError",
     "evalue": "unsupported operand type(s) for ** or pow(): 'str' and 'str'",
     "output_type": "error",
     "traceback": [
      "\u001b[31m---------------------------------------------------------------------------\u001b[39m",
      "\u001b[31mTypeError\u001b[39m                                 Traceback (most recent call last)",
      "\u001b[36mCell\u001b[39m\u001b[36m \u001b[39m\u001b[32mIn[4]\u001b[39m\u001b[32m, line 8\u001b[39m\n\u001b[32m      4\u001b[39m c = \u001b[38;5;28minput\u001b[39m(\u001b[33m\"\u001b[39m\u001b[33mEnter c:\u001b[39m\u001b[33m\"\u001b[39m)   \u001b[38;5;66;03m# 2\u001b[39;00m\n\u001b[32m      6\u001b[39m \u001b[38;5;66;03m#print(type(a),type(b),type(c))  # <class 'str'> <class 'str'> <class 'str'>\u001b[39;00m\n\u001b[32m      7\u001b[39m \u001b[38;5;66;03m#print(int(a)**int(b)**int(c))   # 512\u001b[39;00m\n\u001b[32m----> \u001b[39m\u001b[32m8\u001b[39m \u001b[38;5;28mprint\u001b[39m(a**\u001b[43mb\u001b[49m\u001b[43m*\u001b[49m\u001b[43m*\u001b[49m\u001b[43mc\u001b[49m)  \n",
      "\u001b[31mTypeError\u001b[39m: unsupported operand type(s) for ** or pow(): 'str' and 'str'"
     ]
    }
   ],
   "source": [
    "a=0;b=0;c=0\n",
    "a = input(\"Enter a:\")   # 2\n",
    "b = input(\"Enter b:\")   # 3\n",
    "c = input(\"Enter c:\")   # 2\n",
    " \n",
    "#print(type(a),type(b),type(c))  # <class 'str'> <class 'str'> <class 'str'>\n",
    "#print(int(a)**int(b)**int(c))   # 512\n",
    "print(a**b**c)  "
   ]
  },
  {
   "cell_type": "code",
   "execution_count": 23,
   "id": "24341871",
   "metadata": {},
   "outputs": [
    {
     "name": "stdout",
     "output_type": "stream",
     "text": [
      "5.0\n",
      "All good !\n"
     ]
    }
   ],
   "source": [
    "from math import sqrt as root\n",
    "    \n",
    "def my_root(x):\n",
    "    try:\n",
    "        return root(x)\n",
    "    except:\n",
    "        print('Function Error !')\n",
    "        raise\n",
    "    \n",
    "x=25\n",
    "try:\n",
    "    assert x+2, \"Wrong input !\"\n",
    "    print(my_root(x))\n",
    "#except AssertionError  as e:\n",
    "#    print(e)\n",
    "except Exception as batatas:\n",
    "    print(batatas, 10)\n",
    "else:\n",
    "    print('All good !')"
   ]
  },
  {
   "cell_type": "code",
   "execution_count": 26,
   "id": "2ddb1d34",
   "metadata": {},
   "outputs": [
    {
     "name": "stdout",
     "output_type": "stream",
     "text": [
      "Error\n",
      "Completed\n",
      "Ganda erro\n"
     ]
    }
   ],
   "source": [
    "def myfunc(x):\n",
    "    try:\n",
    "        y = 1 / x\n",
    "    except ZeroDivisionError:\n",
    "        print(\"Failure\")\n",
    "    except:\n",
    "        print(\"Error\")\n",
    "        return \"Ganda erro\"\n",
    "    else:\n",
    "        print(\"Everything OK\")\n",
    "        return y\n",
    "    finally:\n",
    "        print(\"Completed\")\n",
    "    \n",
    "    \n",
    "print(myfunc('0'))"
   ]
  },
  {
   "cell_type": "code",
   "execution_count": null,
   "id": "5b5ffe8d",
   "metadata": {},
   "outputs": [
    {
     "name": "stdout",
     "output_type": "stream",
     "text": [
      "Testing Robot class - Hello I am a Droid and my name is R2D2\n"
     ]
    }
   ],
   "source": [
    "class Robot:\n",
    "    def __init__(self, name):\n",
    "        self.name = name\n",
    "    def __str__(self):\n",
    "        return \"My name is \" + self.name\n",
    "    def test(self):\n",
    "        return \"Testing Robot class\"\n",
    "     \n",
    "class Droid(Robot):\n",
    "    def __str__(self):        \n",
    "        return super().test() + \" - Hello I am a Droid and my name is \" + self.name\n",
    "        \n",
    "        \n",
    "     \n",
    "R2D2 = Droid(\"R2D2\")\n",
    "print(R2D2)\n"
   ]
  },
  {
   "cell_type": "code",
   "execution_count": 37,
   "id": "105f2eb0",
   "metadata": {},
   "outputs": [
    {
     "name": "stdout",
     "output_type": "stream",
     "text": [
      "<__main__.Jedi object at 0x00000251074A34D0>\n"
     ]
    }
   ],
   "source": [
    "class Jedi:\n",
    "    def __init__(self, name):\n",
    "        self.name = name\n",
    "    def Print(self):\n",
    "        return self.name\n",
    "    \n",
    "    \n",
    "Luke = Jedi('Luke')\n",
    "print(Luke)"
   ]
  },
  {
   "cell_type": "code",
   "execution_count": 38,
   "id": "71d731ee",
   "metadata": {},
   "outputs": [
    {
     "name": "stdout",
     "output_type": "stream",
     "text": [
      "Jedi('Luke')\n"
     ]
    },
    {
     "data": {
      "text/plain": [
       "\"Jedi('Luke')\""
      ]
     },
     "execution_count": 38,
     "metadata": {},
     "output_type": "execute_result"
    }
   ],
   "source": [
    "class Jedi:\n",
    "    def __init__(self, name):\n",
    "        self.name = name\n",
    "    def __repr__(self):\n",
    "        return f\"Jedi('{self.name}')\"\n",
    "\n",
    "Luke = Jedi('Luke')\n",
    "\n",
    "print(Luke)        # saída: Jedi('Luke')\n",
    "repr(Luke)         # saída: \"Jedi('Luke')\""
   ]
  },
  {
   "cell_type": "code",
   "execution_count": 42,
   "id": "a4ec74ad",
   "metadata": {},
   "outputs": [
    {
     "name": "stdout",
     "output_type": "stream",
     "text": [
      "3\n",
      "4\n"
     ]
    }
   ],
   "source": [
    "for i in range(3,5,1):\n",
    "    print(i)  # saída: 3, 4\n",
    "    \n"
   ]
  },
  {
   "cell_type": "code",
   "execution_count": null,
   "id": "49642419",
   "metadata": {},
   "outputs": [
    {
     "name": "stdout",
     "output_type": "stream",
     "text": [
      "2\n"
     ]
    }
   ],
   "source": [
    "class A:\n",
    "    def __init__(self, x=5):\n",
    "        self.x = x\n",
    "    \n",
    "class B(A):\n",
    "    def __init__(self, y=2):\n",
    "        super().__init__(y) \n",
    "    def set(self, y):\n",
    "        self.x = y + 3\n",
    "        return self.x\n",
    "    \n",
    "b = B()\n",
    "#print(b.set(b.x + 2))\n",
    "print(b.x)  # saída: 10"
   ]
  },
  {
   "cell_type": "code",
   "execution_count": 72,
   "id": "47abbe67",
   "metadata": {},
   "outputs": [
    {
     "name": "stdout",
     "output_type": "stream",
     "text": [
      "False\n"
     ]
    }
   ],
   "source": [
    "try:\n",
    "    y=0\n",
    "    #print(x%y)\n",
    "    assert bool(y) == False\n",
    "except Exception as e:  \n",
    "    print(e, 10)\n",
    "\n",
    "print(bool(0))  # saída: NameError: name 'boo' is not defined"
   ]
  },
  {
   "cell_type": "code",
   "execution_count": 73,
   "id": "c3cd54a8",
   "metadata": {},
   "outputs": [
    {
     "name": "stdout",
     "output_type": "stream",
     "text": [
      "I am Jedi Baby Yoda\n"
     ]
    }
   ],
   "source": [
    "class Jedi:\n",
    "    def __init__(self,name):\n",
    "        self.name = name\n",
    "    def __str__(self):\n",
    "        return \"I am Jedi \" + self.name\n",
    "    \n",
    "class Sith:\n",
    "    def __init__(self,name):\n",
    "        self.name = name\n",
    "    def __str__(self):\n",
    "        return \"I am Sith \" + self.name\n",
    "    \n",
    "class Padawan(Jedi,Sith):\n",
    "    def __init__(self,name):\n",
    "        self.name = name\n",
    "    \n",
    "Baby_Yoda = Padawan('Baby Yoda')\n",
    "print(Baby_Yoda)"
   ]
  },
  {
   "cell_type": "code",
   "execution_count": null,
   "id": "f021f530",
   "metadata": {},
   "outputs": [
    {
     "name": "stdout",
     "output_type": "stream",
     "text": [
      "3\n"
     ]
    }
   ],
   "source": [
    "x = 5//2\n",
    "func = lambda x:+3\n",
    "print(func(x))"
   ]
  },
  {
   "cell_type": "code",
   "execution_count": 76,
   "id": "87071970",
   "metadata": {},
   "outputs": [
    {
     "name": "stdout",
     "output_type": "stream",
     "text": [
      "X= 2 Y= 1\n"
     ]
    }
   ],
   "source": [
    "x=1;y=2\n",
    "x,y=y,x\n",
    "print(\"X=\",x, \"Y=\",y)  # saída: 2 1   "
   ]
  },
  {
   "cell_type": "code",
   "execution_count": 82,
   "id": "7f4951d5",
   "metadata": {},
   "outputs": [
    {
     "name": "stdout",
     "output_type": "stream",
     "text": [
      "['S', 'k', 'y', 'w', 'l', 'k']\n",
      "[4, 5]\n"
     ]
    }
   ],
   "source": [
    "my_list1=list('Skywalker')\n",
    "my_list2=list('Vader')\n",
    "my_list3=list(filter(lambda x: x not in my_list2, my_list1))\n",
    "print(my_list3)\n",
    "l=(filter(lambda x: x not in [1,2,3], [1,2,3,4,5]))\n",
    "print(list(l))  # saída: []"
   ]
  },
  {
   "cell_type": "code",
   "execution_count": 88,
   "id": "29124b96",
   "metadata": {},
   "outputs": [
    {
     "name": "stdout",
     "output_type": "stream",
     "text": [
      "24.0\n"
     ]
    }
   ],
   "source": [
    "from math import sqrt as s\n",
    "sqrt=(576,7,112)\n",
    "result = s(sqrt[0])\n",
    "print(result)            # 24.0"
   ]
  },
  {
   "cell_type": "code",
   "execution_count": 89,
   "id": "0d7a771c",
   "metadata": {},
   "outputs": [
    {
     "name": "stdout",
     "output_type": "stream",
     "text": [
      "2025-08-17 22:51:47.903574\n"
     ]
    }
   ],
   "source": [
    "from datetime import datetime\n",
    "\n",
    "x = datetime.now()\n",
    "print(x)"
   ]
  },
  {
   "cell_type": "code",
   "execution_count": 90,
   "id": "8e54ea34",
   "metadata": {},
   "outputs": [],
   "source": [
    "class A:\n",
    "    a=0\n",
    "    def __init__(self, x, y):\n",
    "        self.b = x\n",
    "        self.c = y\n",
    "    \n",
    "class B(A):\n",
    "    b = 0\n",
    "    def __init__(self, x, y, k):\n",
    "        super().__init__(x, y)\n",
    "        if k % 2 == 0:\n",
    "            self.e = k\n",
    "    \n",
    "    \n",
    "c = B(2,5,7)\n",
    "c.f = 4"
   ]
  },
  {
   "cell_type": "code",
   "execution_count": 96,
   "id": "acc695c3",
   "metadata": {},
   "outputs": [
    {
     "name": "stdout",
     "output_type": "stream",
     "text": [
      "Leia Han Darth "
     ]
    }
   ],
   "source": [
    "    my_tuple = ('Luke', 'Leia', 'Han', 'Darth')\n",
    "    my_v = [my_tuple[i] for i in range(1,4)]\n",
    "    for x in my_v:\n",
    "        print(x, end=' ')"
   ]
  },
  {
   "cell_type": "code",
   "execution_count": 98,
   "id": "6848bd55",
   "metadata": {},
   "outputs": [
    {
     "name": "stdout",
     "output_type": "stream",
     "text": [
      "I am omega from Gamma\n"
     ]
    }
   ],
   "source": [
    "class Gamma:\n",
    "    def __init__(self, val):\n",
    "        self.name = val\n",
    "    def __str__(self):\n",
    "        return \"I am \" + self.name + \" from Gamma\"\n",
    "    \n",
    "class Delta:\n",
    "    def __init__(self, val):\n",
    "        self.name = val\n",
    "    def __str__(self):\n",
    "        return \"I am \" + self.name + \" from Delta\"\n",
    "    \n",
    "class Beta(Gamma, Delta):\n",
    "    def __str__(self):\n",
    "        return super().__str__()\n",
    "    \n",
    "class Omega(Beta):\n",
    "    omega = 3\n",
    "    pass\n",
    "    \n",
    "o = Omega(\"omega\")\n",
    "print(o)"
   ]
  },
  {
   "cell_type": "code",
   "execution_count": 113,
   "id": "44bde386",
   "metadata": {},
   "outputs": [
    {
     "name": "stdout",
     "output_type": "stream",
     "text": [
      "I am Gama from Beta\n"
     ]
    }
   ],
   "source": [
    "class Beta:\n",
    "    def __init__(self, val):\n",
    "        self.name = val\n",
    "    def __str__(self):\n",
    "        return \"I am \" + self.name + \" from Beta\"   \n",
    "    \n",
    "    \n",
    "class Gamma(Beta):\n",
    "    def __str__(self):\n",
    "        return super().__str__()\n",
    "    \n",
    "\n",
    "g= Gamma(\"Gama\")\n",
    "print(g)"
   ]
  },
  {
   "cell_type": "code",
   "execution_count": 117,
   "id": "4787c27b",
   "metadata": {},
   "outputs": [
    {
     "name": "stdout",
     "output_type": "stream",
     "text": [
      "Error 2\n"
     ]
    }
   ],
   "source": [
    "def func(x,y):\n",
    "    return x/y\n",
    "    \n",
    "try:\n",
    "    func(3,0)\n",
    "except ZeroDivisionError:\n",
    "    print(\"Error 2\")\n",
    "except BaseException:\n",
    "    print(\"Error 3\")\n",
    "except:\n",
    "    print(\"Error 1\")    \n"
   ]
  },
  {
   "cell_type": "code",
   "execution_count": 119,
   "id": "0d21d047",
   "metadata": {},
   "outputs": [
    {
     "name": "stdout",
     "output_type": "stream",
     "text": [
      "6\n",
      "2\n",
      "0.6666666666666666\n",
      "0.6666666666666666\n",
      "6\n",
      "6\n"
     ]
    }
   ],
   "source": [
    "class Omega:\n",
    "    def __init__(self):\n",
    "        self.set(3)\n",
    "    def set(self, x):\n",
    "        self.x = x//2\n",
    "    \n",
    "class Lambda(Omega):\n",
    "    L = 4\n",
    "    def __init__(self):\n",
    "        super().__init__()\n",
    "    def __str__(self):\n",
    "        return str(self.x/3)[-1]\n",
    "    def set(self, x):\n",
    "        self.x = x//2 + 1\n",
    "    \n",
    "L = Lambda()\n",
    "print(L)\n",
    "\n",
    "print(L.x)          # 2\n",
    "print(L.x/3)        # 0.6666666666666666 (a float)\n",
    "print(str(L.x/3))   # 0.6666666666666666  (a string)\n",
    "print(str(L.x/3)[-1]) # 6 (last character in string '0.6666666666666666'\n",
    "print(L)            # 6"
   ]
  },
  {
   "cell_type": "code",
   "execution_count": 121,
   "id": "162db191",
   "metadata": {},
   "outputs": [
    {
     "name": "stdout",
     "output_type": "stream",
     "text": [
      "97\n",
      "a\n",
      "{100: 'd'}\n"
     ]
    }
   ],
   "source": [
    "print(ord('a'))  # 97\n",
    "print(chr(97))  # 'a'\n",
    "l={}\n",
    "l[ord('d')]='d' \n",
    "print(l)  # {100: 'd'}"
   ]
  },
  {
   "cell_type": "code",
   "execution_count": 127,
   "id": "290604bd",
   "metadata": {},
   "outputs": [
    {
     "name": "stdout",
     "output_type": "stream",
     "text": [
      "S\n",
      "k\n",
      "y\n",
      "w\n",
      "a\n",
      "l\n",
      "k\n",
      "e\n",
      "r\n",
      "{97: 'a', 101: 'e', 114: 'r', 100: 'd'}\n",
      "a e r d "
     ]
    }
   ],
   "source": [
    "l={}\n",
    "for i in 'Skywalker':\n",
    "    print(i)            # S -> k -> y -> w -> a -> l -> k -> e -> r\n",
    "    if i in 'Vader':\n",
    "        l[ord(i)]=i\n",
    "else:\n",
    "    l[ord('d')]='d' \n",
    "    \n",
    "print(l)                # {97: 'a', 101: 'e', 114: 'r', 100: 'd'}\n",
    "    \n",
    "for j in l.keys():\n",
    "    print(l[j], end=' ') # a e r d "
   ]
  },
  {
   "cell_type": "code",
   "execution_count": 128,
   "id": "27718d7c",
   "metadata": {},
   "outputs": [
    {
     "name": "stdout",
     "output_type": "stream",
     "text": [
      "[98, 99, 100, 97]\n"
     ]
    }
   ],
   "source": [
    "my_list = {'a': ord('a'), 'b': ord('b'), 'c': ord('c'), 'd': ord('d') }\n",
    "list=[]\n",
    "for i in sorted(my_list.keys()):\n",
    "    list.insert(-1,my_list[i])\n",
    "    \n",
    "print(list)"
   ]
  },
  {
   "cell_type": "code",
   "execution_count": 132,
   "id": "56768359",
   "metadata": {},
   "outputs": [
    {
     "name": "stdout",
     "output_type": "stream",
     "text": [
      "4\n",
      "5\n"
     ]
    },
    {
     "ename": "AttributeError",
     "evalue": "'Game' object has no attribute '_g'",
     "output_type": "error",
     "traceback": [
      "\u001b[31m---------------------------------------------------------------------------\u001b[39m",
      "\u001b[31mAttributeError\u001b[39m                            Traceback (most recent call last)",
      "\u001b[36mCell\u001b[39m\u001b[36m \u001b[39m\u001b[32mIn[132]\u001b[39m\u001b[32m, line 10\u001b[39m\n\u001b[32m      8\u001b[39m \u001b[38;5;28mprint\u001b[39m(g._Game__g)\n\u001b[32m      9\u001b[39m \u001b[38;5;28mprint\u001b[39m(g.G)  \u001b[38;5;66;03m# saída: 5\u001b[39;00m\n\u001b[32m---> \u001b[39m\u001b[32m10\u001b[39m \u001b[38;5;28mprint\u001b[39m(\u001b[43mg\u001b[49m\u001b[43m.\u001b[49m\u001b[43m_g\u001b[49m)\n",
      "\u001b[31mAttributeError\u001b[39m: 'Game' object has no attribute '_g'"
     ]
    }
   ],
   "source": [
    "class Game:\n",
    "    def __init__(self, val):\n",
    "        if val %2 ==0 :\n",
    "            self.__g = val\n",
    "        self.G = val + 1\n",
    "    \n",
    "g= Game(4)\n",
    "print(g._Game__g)\n",
    "print(g.G)  # saída: 5\n",
    "print(g._g)"
   ]
  },
  {
   "cell_type": "code",
   "execution_count": 149,
   "id": "f6291b41",
   "metadata": {},
   "outputs": [
    {
     "name": "stdout",
     "output_type": "stream",
     "text": [
      "(<class '__main__.Feline'>, <class '__main__.Mammal'>)\n",
      "Feline\n",
      "2\n"
     ]
    }
   ],
   "source": [
    "    class Mammal:\n",
    "        def __init__(self,val):\n",
    "            self.__name = val\n",
    "     \n",
    "    class Feline(Mammal):\n",
    "        pass\n",
    "     \n",
    "    class Cat(Feline,Mammal):\n",
    "        __bases=[2,3]\n",
    "        def __str__(self):\n",
    "            return self.name\n",
    "     \n",
    "    mycat = Cat('Garfield')\n",
    "     \n",
    "    print(Cat.__bases__)\n",
    "    print(Cat.__bases__[0].__name__)  # saída: Feline\n",
    "    \n",
    "\n",
    "    print(len(Cat.__bases__))"
   ]
  },
  {
   "cell_type": "code",
   "execution_count": 151,
   "id": "a2211685",
   "metadata": {},
   "outputs": [
    {
     "name": "stdout",
     "output_type": "stream",
     "text": [
      "['Leo', 'and', 'Chloe', 'love', 'apple', 'pie']\n",
      "['Chloe', 'Leo', 'and', 'apple', 'love', 'pie']\n",
      "Leo\n"
     ]
    }
   ],
   "source": [
    "x = \"Leo and Chloe love apple pie\"\n",
    "y = x.split()\n",
    "print(y)  # saída: ['Leo', 'and', 'Chloe', 'love', 'apple', 'pie']\n",
    "\n",
    "z = sorted(y)\n",
    "print(z)  # saída: ['Chloe', 'Leo', 'and', 'apple', 'love', 'pie']\n",
    "print(z[1])"
   ]
  }
 ],
 "metadata": {
  "kernelspec": {
   "display_name": "Python 3",
   "language": "python",
   "name": "python3"
  },
  "language_info": {
   "codemirror_mode": {
    "name": "ipython",
    "version": 3
   },
   "file_extension": ".py",
   "mimetype": "text/x-python",
   "name": "python",
   "nbconvert_exporter": "python",
   "pygments_lexer": "ipython3",
   "version": "3.13.6"
  }
 },
 "nbformat": 4,
 "nbformat_minor": 5
}
