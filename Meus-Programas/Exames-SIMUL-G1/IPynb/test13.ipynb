{
 "cells": [
  {
   "cell_type": "code",
   "execution_count": 1,
   "id": "83435d7f",
   "metadata": {},
   "outputs": [
    {
     "name": "stdout",
     "output_type": "stream",
     "text": [
      "abcdef\n"
     ]
    }
   ],
   "source": [
    "s = \"abcdef\"\n",
    "print(s[-10:10])"
   ]
  },
  {
   "cell_type": "code",
   "execution_count": null,
   "id": "c99dbbeb",
   "metadata": {},
   "outputs": [
    {
     "name": "stdout",
     "output_type": "stream",
     "text": [
      "MontyPython 123\n"
     ]
    }
   ],
   "source": [
    "x = \"Monty\" \"Python\"\n",
    "y = \"123\"\n",
    "print(x, y)"
   ]
  },
  {
   "cell_type": "code",
   "execution_count": 6,
   "id": "fa21a57e",
   "metadata": {},
   "outputs": [
    {
     "ename": "SyntaxError",
     "evalue": "default 'except:' must be last (2389769138.py, line 5)",
     "output_type": "error",
     "traceback": [
      "  \u001b[36mCell\u001b[39m\u001b[36m \u001b[39m\u001b[32mIn[6]\u001b[39m\u001b[32m, line 5\u001b[39m\n\u001b[31m    \u001b[39m\u001b[31mexcept:\u001b[39m\n    ^\n\u001b[31mSyntaxError\u001b[39m\u001b[31m:\u001b[39m default 'except:' must be last\n"
     ]
    }
   ],
   "source": [
    "x = 0\n",
    "    \n",
    "try:\n",
    "    print(1 / x)\n",
    "except:\n",
    "    print('An error occurred')\n",
    "except ZeroDivisionError:\n",
    "    print('Division by zero is not allowed')\n",
    "except ValueError:\n",
    "    print('The value entered is incorrect')"
   ]
  },
  {
   "cell_type": "code",
   "execution_count": 11,
   "id": "c921f1ab",
   "metadata": {},
   "outputs": [
    {
     "name": "stdout",
     "output_type": "stream",
     "text": [
      "2\n"
     ]
    }
   ],
   "source": [
    "def minimo(a,b):\n",
    "    #return a if a < b else b\n",
    "    return -1 if a == b else (a if a < b else b)\n",
    "\n",
    "print(minimo(28,2))\n"
   ]
  },
  {
   "cell_type": "code",
   "execution_count": 21,
   "id": "34ffcfde",
   "metadata": {},
   "outputs": [],
   "source": [
    "class A:\n",
    "    ...\n",
    "\n",
    "class B(A):\n",
    "    pass\n",
    "\n",
    "# Docstring também funciona:\n",
    "class ClasseB:\n",
    "    \"\"\"Esta classe faz algo\"\"\""
   ]
  },
  {
   "cell_type": "code",
   "execution_count": 26,
   "id": "e6df5187",
   "metadata": {},
   "outputs": [
    {
     "name": "stdout",
     "output_type": "stream",
     "text": [
      "Help on function soma in module __main__:\n",
      "\n",
      "soma(a, b)\n",
      "    Retorna a soma de dois números.\n",
      "\n",
      "Retorna a soma de dois números.\n"
     ]
    }
   ],
   "source": [
    "def soma(a, b):\n",
    "    \"\"\"Retorna a soma de dois números.\"\"\"\n",
    "    return a + b\n",
    "\n",
    "help(soma)\n",
    "print(soma.__doc__)  "
   ]
  },
  {
   "cell_type": "code",
   "execution_count": 27,
   "id": "cbc09ef8",
   "metadata": {},
   "outputs": [
    {
     "name": "stdout",
     "output_type": "stream",
     "text": [
      "Python\n",
      "\n",
      "yth\n",
      "Po\n",
      "12\n"
     ]
    }
   ],
   "source": [
    "txt = \"Python\"\n",
    " \n",
    "sl1 = txt[:]\n",
    "print(sl1)\n",
    "sl2 = txt[4:2]\n",
    "print(sl2)\n",
    "sl3 = txt[1:4]\n",
    "print(sl3)\n",
    "sl4 = txt[::4]\n",
    "print(sl4)\n",
    " \n",
    "x = len(sl1) - len(sl2) + len(sl3) * len(sl4)\n",
    "print(x)"
   ]
  },
  {
   "cell_type": "code",
   "execution_count": 5,
   "id": "4e9bc1fc",
   "metadata": {},
   "outputs": [
    {
     "name": "stdout",
     "output_type": "stream",
     "text": [
      "****\n",
      "***\n",
      "**\n",
      "*\n",
      " valor 1  valor 2  valor 3 "
     ]
    }
   ],
   "source": [
    "for i in range(4, 1, -1):\n",
    "    print('*' * i)\n",
    "else:\n",
    "    print('*')\n",
    "    \n",
    "for i in range(1,4):\n",
    "    print(f\" valor {i}\", end=\" \")"
   ]
  },
  {
   "cell_type": "code",
   "execution_count": 9,
   "id": "037a46d1",
   "metadata": {},
   "outputs": [
    {
     "name": "stdout",
     "output_type": "stream",
     "text": [
      "12\n"
     ]
    }
   ],
   "source": [
    "class A:\n",
    "    x = 2\n",
    "    def __init__(self):\n",
    "        A.x += 1\n",
    "    \n",
    "y = A().x * A().x\n",
    "    \n",
    "print(y)"
   ]
  },
  {
   "cell_type": "code",
   "execution_count": 10,
   "id": "ed41e60e",
   "metadata": {},
   "outputs": [
    {
     "name": "stdout",
     "output_type": "stream",
     "text": [
      "['o', 'p', 'i', 'u']\n"
     ]
    }
   ],
   "source": [
    "txt = \"Python\"\n",
    "    \n",
    "l = [chr(ord(x) + 1) for x in txt]\n",
    "    \n",
    "print(l[-1:1:-1])"
   ]
  },
  {
   "cell_type": "code",
   "execution_count": 12,
   "id": "3ad05646",
   "metadata": {},
   "outputs": [
    {
     "name": "stdout",
     "output_type": "stream",
     "text": [
      "Hello, world!\n",
      "6\n"
     ]
    }
   ],
   "source": [
    "greet = lambda: \"Hello, world!\"\n",
    "print(greet())  # Output: Hello, world!\n",
    "\n",
    "add = lambda x, y, z: x + y + z\n",
    "print(add(1, 2, 3))  # Output: 6\n",
    "\n"
   ]
  },
  {
   "cell_type": "code",
   "execution_count": 29,
   "id": "ddfe835b",
   "metadata": {},
   "outputs": [
    {
     "name": "stdout",
     "output_type": "stream",
     "text": [
      "batatas\n"
     ]
    }
   ],
   "source": [
    "    try:\n",
    "        #raise Exception\n",
    "        print(1/\"0\")\n",
    "    except ZeroDivisionError: \n",
    "        print('C')        \n",
    "    except Exception:\n",
    "        print(\"batatas\")        \n",
    "\n",
    "    except ArithmeticError:\n",
    "        print('B')\n",
    "    except BaseException:\n",
    "        print('A')                \n",
    "    except:\n",
    "        print('D')       \n",
    "\n",
    "  \n",
    "\n",
    "        "
   ]
  },
  {
   "cell_type": "code",
   "execution_count": 33,
   "id": "477c7b71",
   "metadata": {},
   "outputs": [
    {
     "name": "stdout",
     "output_type": "stream",
     "text": [
      "---\n",
      "---\n"
     ]
    },
    {
     "data": {
      "text/plain": [
       "'Windows-11-10.0.26100-SP0'"
      ]
     },
     "execution_count": 33,
     "metadata": {},
     "output_type": "execute_result"
    }
   ],
   "source": [
    "import platform\n",
    "\n",
    "platform.machine()\n",
    "print(\"---\")\n",
    "#platform.name()\n",
    "platform.system()\n",
    "print(\"---\")\n",
    "#platform.os()\n",
    "platform.platform() "
   ]
  },
  {
   "cell_type": "code",
   "execution_count": 35,
   "id": "65c7e98b",
   "metadata": {},
   "outputs": [
    {
     "name": "stdout",
     "output_type": "stream",
     "text": [
      "120\n"
     ]
    }
   ],
   "source": [
    "from math import factorial as fact\n",
    "x = fact(5)\n",
    "print(x)\n"
   ]
  },
  {
   "cell_type": "code",
   "execution_count": 41,
   "id": "012345f6",
   "metadata": {},
   "outputs": [
    {
     "name": "stdout",
     "output_type": "stream",
     "text": [
      "(1, [2, 10, 7, [1, 1, 1]], 'abc')\n"
     ]
    }
   ],
   "source": [
    "t = (1, [2,10,7,1], 'abc')\n",
    "#del t[1]\n",
    "#del t\n",
    "t[1][3] = [1,1,1]\n",
    "print(t)"
   ]
  },
  {
   "cell_type": "code",
   "execution_count": 44,
   "id": "33224331",
   "metadata": {},
   "outputs": [
    {
     "name": "stdout",
     "output_type": "stream",
     "text": [
      "3\n"
     ]
    }
   ],
   "source": [
    "m = 0\n",
    "def foo(n):\n",
    "    global m\n",
    "    assert m == 0\n",
    "    try:\n",
    "        return 1/n\n",
    "    except ArithmeticError:\n",
    "        m += 1\n",
    "        raise\n",
    "    \n",
    "try:\n",
    "    foo(0)\n",
    "except ArithmeticError:\n",
    "    m += 2\n",
    "except:\n",
    "    m += 1\n",
    "\n",
    "print(m)"
   ]
  },
  {
   "cell_type": "code",
   "execution_count": 45,
   "id": "00693481",
   "metadata": {},
   "outputs": [
    {
     "ename": "TypeError",
     "evalue": "unsupported operand type(s) for +: 'int' and 'NoneType'",
     "output_type": "error",
     "traceback": [
      "\u001b[31m---------------------------------------------------------------------------\u001b[39m",
      "\u001b[31mTypeError\u001b[39m                                 Traceback (most recent call last)",
      "\u001b[36mCell\u001b[39m\u001b[36m \u001b[39m\u001b[32mIn[45]\u001b[39m\u001b[32m, line 17\u001b[39m\n\u001b[32m     14\u001b[39m a = Sub_A()\n\u001b[32m     15\u001b[39m b = Sub_B()\n\u001b[32m---> \u001b[39m\u001b[32m17\u001b[39m \u001b[38;5;28mprint\u001b[39m(\u001b[43ma\u001b[49m\u001b[43m.\u001b[49m\u001b[43mdoit\u001b[49m\u001b[43m(\u001b[49m\u001b[43m)\u001b[49m\u001b[43m \u001b[49m\u001b[43m+\u001b[49m\u001b[43m \u001b[49m\u001b[43mb\u001b[49m\u001b[43m.\u001b[49m\u001b[43mdoit\u001b[49m\u001b[43m(\u001b[49m\u001b[43m)\u001b[49m)\n",
      "\u001b[31mTypeError\u001b[39m: unsupported operand type(s) for +: 'int' and 'NoneType'"
     ]
    }
   ],
   "source": [
    "class Super:\n",
    "    def make(self):\n",
    "        pass\n",
    "    def doit(self):\n",
    "        return self.make()\n",
    "\n",
    "class Sub_A(Super):\n",
    "    def make(self):\n",
    "        return 1\n",
    "    \n",
    "class Sub_B(Super):\n",
    "    pass\n",
    "\n",
    "a = Sub_A()\n",
    "b = Sub_B()\n",
    "\n",
    "print(a.doit() + b.doit())"
   ]
  },
  {
   "cell_type": "code",
   "execution_count": 51,
   "id": "fa9b532f",
   "metadata": {},
   "outputs": [
    {
     "name": "stdout",
     "output_type": "stream",
     "text": [
      "tho\n",
      "tho\n",
      "o\n"
     ]
    }
   ],
   "source": [
    "s = 'Python'\n",
    "print(s[2:5])\n",
    "s = s[-4: -1]\n",
    "print(s)\n",
    "\n",
    "s = s[-1]\n",
    "print(s)"
   ]
  },
  {
   "cell_type": "code",
   "execution_count": 57,
   "id": "30d49d05",
   "metadata": {},
   "outputs": [
    {
     "name": "stdout",
     "output_type": "stream",
     "text": [
      "0\n",
      "1\n",
      "2\n",
      "0\n",
      "1\n",
      "[0, 1, 4, 9, 16]\n",
      "[1, 4, 16]\n",
      "---\n",
      "1 0.5\n"
     ]
    }
   ],
   "source": [
    "def resto(x):\n",
    "    return x % 3\n",
    "for i in range(5):\n",
    "    print(resto(i))\n",
    "\n",
    "l1 = [x*x for x in range(5)]\n",
    "print(l1)    \n",
    "l2 = list(filter(lambda x: x % 3, l1))\n",
    "\n",
    "print(l2)\n",
    "print(\"---\")\n",
    "print(1 % 2,1/2)"
   ]
  },
  {
   "cell_type": "code",
   "execution_count": 60,
   "id": "765fa296",
   "metadata": {},
   "outputs": [
    {
     "name": "stdout",
     "output_type": "stream",
     "text": [
      "1 1 1 1 1 1 1 1 1 1 1 1 1 1 1 1 1 1 1 1 1 1 1 1 1 1 1 1 "
     ]
    }
   ],
   "source": [
    "for i in range(2,30):\n",
    "    print(1 % i, end=\" \")"
   ]
  },
  {
   "cell_type": "code",
   "execution_count": 68,
   "id": "5a0f1047",
   "metadata": {},
   "outputs": [
    {
     "name": "stdout",
     "output_type": "stream",
     "text": [
      "Monty Python's Flying Circus\n",
      "Monty Python's Flying Circus\n",
      "Monty Python\"s Flying Circus\n"
     ]
    }
   ],
   "source": [
    "#print('Monty Python\\\\'s Flying Circus')\n",
    "print(\"Monty Python's Flying Circus\")\n",
    "#print('Monty Python's Flying Circus')\n",
    "print('Monty Python\\'s Flying Circus')\n",
    "print('Monty Python\"s Flying Circus')\n",
    "#print(\"Monty Python\"s Flying Circus\")"
   ]
  },
  {
   "cell_type": "code",
   "execution_count": 73,
   "id": "9df58c4e",
   "metadata": {},
   "outputs": [
    {
     "name": "stdout",
     "output_type": "stream",
     "text": [
      "True\n",
      "True\n",
      "True\n"
     ]
    }
   ],
   "source": [
    "print(str(3 * 2) not in '0123456789'[:6])\n",
    "print('not in' in 'not' + ' in')\n",
    "print('a\\'b' in \"a'b\")"
   ]
  },
  {
   "cell_type": "code",
   "execution_count": 75,
   "id": "905b88bc",
   "metadata": {},
   "outputs": [
    {
     "name": "stdout",
     "output_type": "stream",
     "text": [
      "Monty Python\n"
     ]
    }
   ],
   "source": [
    "s = \"Monty python\"\n",
    "s = s[:6] + \"P\" + s[7:]\n",
    "print(s)"
   ]
  },
  {
   "cell_type": "code",
   "execution_count": null,
   "id": "9d927b5d",
   "metadata": {},
   "outputs": [
    {
     "name": "stdout",
     "output_type": "stream",
     "text": [
      "Windows-10-10.0.26100-SP0\n",
      "10.0.26100\n",
      "Windows\n",
      "10\n",
      "Windows 11 (detectado pelo build number)\n"
     ]
    }
   ],
   "source": [
    "import platform\n",
    "print(platform.platform())\n",
    "print(platform.version())\n",
    "#for i in dir(platform):\n",
    "#    print(i, end=\"\\n\")\n",
    "print(platform.system())\n",
    "print(platform.release())\n",
    "\n",
    "\n",
    "import sys\n",
    "\n",
    "if platform.system() == \"Windows\":\n",
    "    version = platform.version()\n",
    "    build_number = int(version.split('.')[-1]) if version else 0\n",
    "    if build_number >= 22000:  # Builds do Windows 11\n",
    "        print(\"Windows 11 (detectado pelo build number)\")\n",
    "    else:\n",
    "        print(\"Windows 10 ou anterior\")"
   ]
  }
 ],
 "metadata": {
  "kernelspec": {
   "display_name": "Python 3",
   "language": "python",
   "name": "python3"
  },
  "language_info": {
   "codemirror_mode": {
    "name": "ipython",
    "version": 3
   },
   "file_extension": ".py",
   "mimetype": "text/x-python",
   "name": "python",
   "nbconvert_exporter": "python",
   "pygments_lexer": "ipython3",
   "version": "3.13.6"
  }
 },
 "nbformat": 4,
 "nbformat_minor": 5
}
