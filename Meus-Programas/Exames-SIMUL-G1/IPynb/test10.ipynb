{
 "cells": [
  {
   "cell_type": "code",
   "execution_count": 2,
   "id": "fc94d9fd",
   "metadata": {},
   "outputs": [
    {
     "name": "stdout",
     "output_type": "stream",
     "text": [
      "1116\n"
     ]
    }
   ],
   "source": [
    "import datetime\n",
    "date1 = datetime.date(2022, 8, 1)\n",
    "date2 = datetime.date(2025, 8, 21)\n",
    "difference = date2 - date1\n",
    "print(difference.days)"
   ]
  },
  {
   "cell_type": "code",
   "execution_count": null,
   "id": "38f85d97",
   "metadata": {},
   "outputs": [],
   "source": []
  },
  {
   "cell_type": "code",
   "execution_count": 6,
   "id": "bb252ad9",
   "metadata": {},
   "outputs": [
    {
     "name": "stdout",
     "output_type": "stream",
     "text": [
      "Arquivo 'listinha.json' criado com sucesso!\n"
     ]
    }
   ],
   "source": [
    "import json\n",
    "\n",
    "# Lista original\n",
    "listinha = [1, 2, 3, 4, 5, 6]\n",
    "\n",
    "# Abrir um ficheiro para escrita\n",
    "with open(\"listinha.json\", \"w\") as f:\n",
    "    json.dump(listinha, f)  # Escreve a lista no ficheiro em formato JSON\n",
    "\n",
    "print(\"Arquivo 'listinha.json' criado com sucesso!\")"
   ]
  },
  {
   "cell_type": "code",
   "execution_count": 11,
   "id": "06a388bf",
   "metadata": {},
   "outputs": [
    {
     "name": "stdout",
     "output_type": "stream",
     "text": [
      "{'nome': 'Maria', 'idade': 30}\n",
      "A\n"
     ]
    }
   ],
   "source": [
    "pessoas = [{\"nome\": \"João\", \"idade\": 25}, {\"nome\": \"Maria\", \"idade\": 30}]\n",
    "mais_jovem = max(pessoas, key=lambda x: x[\"nome\"])\n",
    "horta=\"batatasfritasA\"\n",
    "print(mais_jovem)    # Output: {'nome': 'João', 'idade': 25}\n",
    "print(min(horta))"
   ]
  },
  {
   "cell_type": "code",
   "execution_count": 12,
   "id": "b310b913",
   "metadata": {},
   "outputs": [
    {
     "name": "stdout",
     "output_type": "stream",
     "text": [
      "oh no\n"
     ]
    }
   ],
   "source": [
    "def f(x):\n",
    "    assert x\n",
    "    return 1/x\n",
    "    \n",
    "try:\n",
    "    print(f(0))\n",
    "except ZeroDivisionError:\n",
    "    print(\"zero\")\n",
    "except:\n",
    "    print(\"oh no\")"
   ]
  },
  {
   "cell_type": "code",
   "execution_count": 19,
   "id": "1afaebd4",
   "metadata": {},
   "outputs": [
    {
     "name": "stdout",
     "output_type": "stream",
     "text": [
      "__new__\n",
      "__repr__\n",
      "__str__\n",
      "__getattribute__\n",
      "__init__\n",
      "__reduce__\n",
      "__setstate__\n",
      "with_traceback\n",
      "add_note\n",
      "__suppress_context__\n",
      "__dict__\n",
      "args\n",
      "__traceback__\n",
      "__context__\n",
      "__cause__\n",
      "__doc__\n"
     ]
    }
   ],
   "source": [
    "for i in BaseException.__dict__:\n",
    "    print(i)"
   ]
  },
  {
   "cell_type": "code",
   "execution_count": 21,
   "id": "63ffbb01",
   "metadata": {},
   "outputs": [
    {
     "name": "stdout",
     "output_type": "stream",
     "text": [
      "vai disparar assert\n",
      "Capturada pelo try externo\n"
     ]
    }
   ],
   "source": [
    "def func_a():\n",
    "    func_b()\n",
    "    print(\"Func A terminou\")\n",
    "\n",
    "def func_b():\n",
    "    func_c()\n",
    "    print(\"Func B terminou\")\n",
    "\n",
    "def func_c():\n",
    "    print(\"vai disparar assert\")\n",
    "    assert False  # dispara AssertionError\n",
    "    print(\"Func C terminou\")\n",
    "\n",
    "try:\n",
    "    func_a()\n",
    "except AssertionError:\n",
    "    print(\"Capturada pelo try externo\")\n"
   ]
  },
  {
   "cell_type": "code",
   "execution_count": 29,
   "id": "8673a9d1",
   "metadata": {},
   "outputs": [
    {
     "name": "stdout",
     "output_type": "stream",
     "text": [
      "['programming', 'for', 'language', 'great', 'a', 'is', 'Python']\n",
      "programming for language great a is Python\n",
      "----\n",
      "<class 'tuple'>\n",
      "(.(.1.,. .2.,. .3.).,. .(.4.,. .5.,. .6.).)\n"
     ]
    }
   ],
   "source": [
    "s = \"Python is a great language for programming\"\n",
    "print(s.split()[::-1])\n",
    "print(\" \".join(s.split()[::-1]))\n",
    "print(\"----\")\n",
    "tup=((1,2,3),(4,5,6))\n",
    "print(type(tup))\n",
    "#tup_str = [\".\".join(map(str, t)) for t in tup]\n",
    "tup_str = [\".\".join(str(tup))]\n",
    "print(\".\".join(tup_str))  # junta as tuplas convertidas"
   ]
  },
  {
   "cell_type": "code",
   "execution_count": 39,
   "id": "0abfc3ab",
   "metadata": {},
   "outputs": [
    {
     "name": "stdout",
     "output_type": "stream",
     "text": [
      "['Hello, ', 'World!']\n",
      "['World!', 'Hello, ']\n",
      "World!Hello, \n",
      "World!Hello \n",
      "---\n",
      "A\n"
     ]
    }
   ],
   "source": [
    "s = \"Hello, \\nWorld!\"\n",
    "s = s.split(\"\\n\")\n",
    "print(s)\n",
    "s.sort(reverse=True)\n",
    "print(s)\n",
    "s = \"\".join(s)\n",
    "print(s)\n",
    "s.replace(\",\",\"\")\n",
    "s = s.replace(\",\", \"\")\n",
    "print(s)\n",
    "print(\"---\")\n",
    "if \"\\n\" in s:\n",
    "    s = s.split(\"\\n\")\n",
    "    s.sort(reverse=True)\n",
    "    s = \"\".join(s)\n",
    "if \"!\" in s and \"W\" in s:\n",
    "    print(\"A\")\n",
    "elif \"H\" in s and \"d\" in s:\n",
    "    print(\"B\")\n",
    "elif \"o\" in s and \"l\" not in s:\n",
    "    print(\"C\")\n",
    "else:\n",
    "    print(\"D\")"
   ]
  },
  {
   "cell_type": "code",
   "execution_count": 40,
   "id": "34c1dccd",
   "metadata": {},
   "outputs": [
    {
     "name": "stdout",
     "output_type": "stream",
     "text": [
      "hello\n"
     ]
    }
   ],
   "source": [
    "data = bytearray(b'hello world')\n",
    "buffer = bytearray(5)\n",
    "buffer.extend(data)\n",
    "    \n",
    "with open('output.txt', 'wb') as f:\n",
    "    f.write(buffer)\n",
    "    \n",
    "with open('output.txt', 'rb') as f:\n",
    "    f.seek(5)\n",
    "    result = bytearray(f.read(5))\n",
    "    \n",
    "print(result.decode())"
   ]
  },
  {
   "cell_type": "code",
   "execution_count": 52,
   "id": "e72ec44a",
   "metadata": {},
   "outputs": [
    {
     "name": "stdout",
     "output_type": "stream",
     "text": [
      "99 3\n"
     ]
    }
   ],
   "source": [
    "class A:\n",
    "    def __init__(self):\n",
    "        self.a = 4\n",
    "class X:\n",
    "    def __init__(self):\n",
    "        self.a = 99\n",
    "        \n",
    "class B(X,A):\n",
    "    def __init__(self):\n",
    "        #A.__init__(self)\n",
    "        super().__init__()\n",
    "        self.b = 3\n",
    "        \n",
    "b=B()\n",
    "print(b.a,b.b)\n"
   ]
  },
  {
   "cell_type": "code",
   "execution_count": 53,
   "id": "16f4b08d",
   "metadata": {},
   "outputs": [
    {
     "name": "stdout",
     "output_type": "stream",
     "text": [
      "bytearray(b'\\xff\\x00\\x80')\n"
     ]
    }
   ],
   "source": [
    "b = bytearray([255, 0, 128])\n",
    "print(b)"
   ]
  },
  {
   "cell_type": "code",
   "execution_count": 69,
   "id": "73ef2d61",
   "metadata": {},
   "outputs": [
    {
     "ename": "SyntaxError",
     "evalue": "invalid syntax (3778586726.py, line 6)",
     "output_type": "error",
     "traceback": [
      "  \u001b[36mCell\u001b[39m\u001b[36m \u001b[39m\u001b[32mIn[69]\u001b[39m\u001b[32m, line 6\u001b[39m\n\u001b[31m    \u001b[39m\u001b[31mprint(n,end=(if n!=len(st)))\u001b[39m\n                 ^\n\u001b[31mSyntaxError\u001b[39m\u001b[31m:\u001b[39m invalid syntax\n"
     ]
    }
   ],
   "source": [
    "import sys\n",
    "    \n",
    "numbers = [1, 2, 3, 4, 5]\n",
    "st =\"olapa123\"\n",
    "for n in st:\n",
    "    print(n,end=(if n!=len(st)))"
   ]
  },
  {
   "cell_type": "code",
   "execution_count": 59,
   "id": "c60b64eb",
   "metadata": {},
   "outputs": [
    {
     "name": "stdout",
     "output_type": "stream",
     "text": [
      "O conteúdo capturado do stderr foi:\n",
      "Erro 1\n",
      "Erro 2\n",
      "\n"
     ]
    }
   ],
   "source": [
    "import sys\n",
    "import io\n",
    "\n",
    "# Criar um buffer para capturar o stderr\n",
    "buffer = io.StringIO()\n",
    "sys.stderr = buffer  # redireciona stderr para o buffer\n",
    "\n",
    "# Código que escreve no stderr\n",
    "print(\"Erro 1\", file=sys.stderr)\n",
    "print(\"Erro 2\", file=sys.stderr)\n",
    "\n",
    "# Ler o conteúdo do buffer\n",
    "conteudo = buffer.getvalue()\n",
    "print(\"O conteúdo capturado do stderr foi:\")\n",
    "print(conteudo)"
   ]
  },
  {
   "cell_type": "code",
   "execution_count": 70,
   "id": "1bbc1a6a",
   "metadata": {},
   "outputs": [
    {
     "name": "stdout",
     "output_type": "stream",
     "text": [
      "False\n"
     ]
    }
   ],
   "source": [
    "class A:\n",
    "    val = \"None\"\n",
    "    \n",
    "    def __init__(self, this):\n",
    "        self.name = this + \" than \" + A.val\n",
    "x = A(\"A\")\n",
    "y = A(\"B\")\n",
    "print(x.val == y.name)"
   ]
  },
  {
   "cell_type": "code",
   "execution_count": 72,
   "id": "17cddc2e",
   "metadata": {},
   "outputs": [
    {
     "name": "stdout",
     "output_type": "stream",
     "text": [
      "X Y None X\n"
     ]
    }
   ],
   "source": [
    "class A:\n",
    "    val = \"None\"\n",
    "    def __init__(self, text):\n",
    "        self.val = text  # agora altera o atributo da instância\n",
    "\n",
    "x = A(\"X\")\n",
    "y = A(\"Y\")\n",
    "print(x.val, y.val, A.val,x.val)"
   ]
  },
  {
   "cell_type": "code",
   "execution_count": 80,
   "id": "6b1cd535",
   "metadata": {},
   "outputs": [
    {
     "name": "stdout",
     "output_type": "stream",
     "text": [
      "[1, 1, 2, 3, 4, 5, 6, 9]\n",
      "---\n",
      "[1, 1, 2, 3, 4, 5, 6, 9]\n",
      "[3, 1, 4, 1, 5, 9, 2, 6]\n",
      "['y', 't', 'p', 'o', 'n', 'h']\n"
     ]
    }
   ],
   "source": [
    "numeros = [3, 1, 4, 1, 5, 9, 2, 6]\n",
    "numeros.sort()\n",
    "print(numeros)  # [1, 1, 2, 3, 4, 5, 6, 9]\n",
    "print(\"---\")\n",
    "\n",
    "numeros = [3, 1, 4, 1, 5, 9, 2, 6]\n",
    "ordenados = sorted(numeros)\n",
    "print(ordenados)  # [1, 1, 2, 3, 4, 5, 6, 9]\n",
    "print(numeros)    # [3, 1, 4, 1, 5, 9, 2, 6] (original intacto)\n",
    "\n",
    "texto = \"python\"\n",
    "ordenado = sorted(texto,reverse=True)\n",
    "print(ordenado)  # ['h', 'n', 'o', 'p', 't', 'y']"
   ]
  },
  {
   "cell_type": "code",
   "execution_count": 81,
   "id": "26127c7f",
   "metadata": {},
   "outputs": [
    {
     "name": "stdout",
     "output_type": "stream",
     "text": [
      "[('João', 20), ('Pedro', 22), ('Ana', 25), ('Maria', 30)]\n",
      "[('Ana', 25), ('João', 20), ('Maria', 30), ('Pedro', 22)]\n"
     ]
    }
   ],
   "source": [
    "pessoas = (('Ana', 25), ('João', 20), ('Maria', 30), ('Pedro', 22))\n",
    "\n",
    "# Ordenar por idade (segundo elemento da tupla)\n",
    "ordenado_por_idade = sorted(pessoas, key=lambda x: x[1])\n",
    "print(ordenado_por_idade)\n",
    "# [('João', 20), ('Pedro', 22), ('Ana', 25), ('Maria', 30)]\n",
    "\n",
    "# Ordenar por nome (primeiro elemento da tupla)\n",
    "ordenado_por_nome = sorted(pessoas, key=lambda x: x[0])\n",
    "print(ordenado_por_nome)\n",
    "# [('Ana', 25), ('João', 20), ('Maria', 30), ('Pedro', 22)]"
   ]
  },
  {
   "cell_type": "code",
   "execution_count": 88,
   "id": "874c680d",
   "metadata": {},
   "outputs": [
    {
     "name": "stdout",
     "output_type": "stream",
     "text": [
      "[{'nome': 'João', 'idade': 20}, {'nome': 'Ana', 'idade': 25}, {'nome': 'Maria', 'idade': 30}]\n",
      "[{'nome': 'Ana', 'idade': 25}, {'nome': 'João', 'idade': 20}, {'nome': 'Maria', 'idade': 30}]\n",
      "<class 'list'>\n"
     ]
    }
   ],
   "source": [
    "pessoas = [\n",
    "    {'nome': 'Ana', 'idade': 25},\n",
    "    {'nome': 'João', 'idade': 20},\n",
    "    {'nome': 'Maria', 'idade': 30}\n",
    "]\n",
    "\n",
    "# Ordenar por idade\n",
    "por_idade = sorted(pessoas, key=lambda x: x['idade'])\n",
    "print(por_idade)\n",
    "# [{'nome': 'João', 'idade': 20}, {'nome': 'Ana', 'idade': 25}, {'nome': 'Maria', 'idade': 30}]\n",
    "\n",
    "# Ordenar por nome\n",
    "por_nome = sorted(pessoas, key=lambda x: x['nome'])\n",
    "print(por_nome)\n",
    "# [{'nome': 'Ana', 'idade': 25}, {'nome': 'João', 'idade': 20}, {'nome': 'Maria', 'idade': 30}]\n",
    "print(type(pessoas))"
   ]
  },
  {
   "cell_type": "code",
   "execution_count": 89,
   "id": "a7507067",
   "metadata": {},
   "outputs": [
    {
     "name": "stdout",
     "output_type": "stream",
     "text": [
      "(1, 2, 3, 4)\n",
      "<class 'tuple'>\n"
     ]
    }
   ],
   "source": [
    "tupla = (3, 1, 4, 2)\n",
    "resultado = tuple(sorted(tupla))\n",
    "print(resultado)  # (1, 2, 3, 4)\n",
    "print(type(resultado))  # <class 'tuple'>"
   ]
  },
  {
   "cell_type": "code",
   "execution_count": 90,
   "id": "6ec4bf2e",
   "metadata": {},
   "outputs": [
    {
     "name": "stdout",
     "output_type": "stream",
     "text": [
      "8 12 12\n"
     ]
    }
   ],
   "source": [
    "def make_multiplier(x):\n",
    "    def multiplier(n):\n",
    "        return x * n\n",
    "    return multiplier\n",
    "    \n",
    "double = make_multiplier(2)\n",
    "triple = make_multiplier(3)\n",
    "result1 = double(4)\n",
    "result2 = triple(4)\n",
    "result3 = double(triple(2))\n",
    "print(result1, result2, result3)"
   ]
  },
  {
   "cell_type": "code",
   "execution_count": null,
   "id": "3e10787a",
   "metadata": {},
   "outputs": [
    {
     "name": "stdout",
     "output_type": "stream",
     "text": [
      "<function cena.<locals>.quad at 0x000002DAFB4DA5C0>\n",
      "10\n",
      "18\n",
      "Final: 36\n"
     ]
    }
   ],
   "source": [
    "def cena(x):\n",
    "    def quad(n):\n",
    "        return n + 2*x\n",
    "    return quad\n",
    "\n",
    "p1 = cena(4) # n + 8\n",
    "r1 = cena(5) # n + 10\n",
    "s1 = cena(8) # n + 16\n",
    "\n",
    "q1 = p1(2)  # 10\n",
    "print(p1)\n",
    "print(q1)\n",
    "\n",
    "q2=p1(10) # 18\n",
    "print(q2)\n",
    "\n",
    "g1=p1(r1(s1(2)))    #18 -> 28 -> 36\n",
    "\n",
    "print(\"Final:\", g1)\n"
   ]
  }
 ],
 "metadata": {
  "kernelspec": {
   "display_name": "Python 3",
   "language": "python",
   "name": "python3"
  },
  "language_info": {
   "codemirror_mode": {
    "name": "ipython",
    "version": 3
   },
   "file_extension": ".py",
   "mimetype": "text/x-python",
   "name": "python",
   "nbconvert_exporter": "python",
   "pygments_lexer": "ipython3",
   "version": "3.13.6"
  }
 },
 "nbformat": 4,
 "nbformat_minor": 5
}
