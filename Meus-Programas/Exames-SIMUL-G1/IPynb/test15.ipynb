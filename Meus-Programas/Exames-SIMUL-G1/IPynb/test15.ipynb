{
 "cells": [
  {
   "cell_type": "code",
   "execution_count": 21,
   "id": "21102e0f",
   "metadata": {},
   "outputs": [
    {
     "name": "stdout",
     "output_type": "stream",
     "text": [
      "Bolas!\n",
      "Gand'Azar,ValueError!\n",
      "Apanhou Exception ValueError\n"
     ]
    }
   ],
   "source": [
    "class MeuErro(ValueError):\n",
    "\tdef __str__(self):\n",
    "\t\treturn(\"Gand'Azar,MeuErro!\")\n",
    "class ValueError(Exception):\n",
    "\tdef __str__(self):\n",
    "\t\treturn(\"Gand'Azar,ValueError!\")\n",
    "try:\n",
    "\traise ValueError(\"Bolas!\")\n",
    "    \n",
    "except MeuErro as m:\n",
    "    print(str(m))       # Gand'Azar!\n",
    "    print(m.args[0])    # Bolas!\n",
    "    print(\"Apanhou MeuErro\")\n",
    "except ValueError as v:\n",
    "    print(v.args[0])\n",
    "    print(str(v))\n",
    "    print(\"Apanhou Exception ValueError\")\n",
    "except Exception as e:\n",
    "    print(e.args[0])\n",
    "    print(str(e))\n",
    "    print(\"Apanhou Exception genérica\")\n",
    "except: \n",
    "\tprint(\"default\")"
   ]
  },
  {
   "cell_type": "code",
   "execution_count": 22,
   "id": "5205d762",
   "metadata": {},
   "outputs": [
    {
     "name": "stdout",
     "output_type": "stream",
     "text": [
      "['b']\n"
     ]
    }
   ],
   "source": [
    "lst = ['a', 'b', 'c', 'd']\n",
    "    \n",
    "def fun(x, y, f):    \n",
    "    return f(x, y)\n",
    "    \n",
    "print(fun(1, 2, lambda j, k: lst[j:k] if j < k else lst[k:j]))"
   ]
  },
  {
   "cell_type": "code",
   "execution_count": 25,
   "id": "8cdc5c1a",
   "metadata": {},
   "outputs": [
    {
     "name": "stdout",
     "output_type": "stream",
     "text": [
      "0\n"
     ]
    }
   ],
   "source": [
    "def f(a, b = 1):\n",
    "    return 0 if a // b != 0 else 1\n",
    "    \n",
    "print(f(f(1, 6)))"
   ]
  },
  {
   "cell_type": "code",
   "execution_count": 119,
   "id": "e0931d00",
   "metadata": {},
   "outputs": [
    {
     "name": "stdout",
     "output_type": "stream",
     "text": [
      "Teste123\n",
      "Teste123\n",
      "Viper\n"
     ]
    }
   ],
   "source": [
    "class A:\n",
    "    def __init__(self):\n",
    "        print(\"Teste123\")\n",
    "    \n",
    "class B(A):\n",
    "    def __init__(self):\n",
    "        A.__init__(self)\n",
    "        super().__init__()\n",
    "        print(\"Viper\")\n",
    "        \n",
    "    \n",
    "obj = B()"
   ]
  },
  {
   "cell_type": "code",
   "execution_count": 58,
   "id": "711870c9",
   "metadata": {},
   "outputs": [
    {
     "name": "stdout",
     "output_type": "stream",
     "text": [
      "Hickory Dickory Dock,\n",
      "The mouse ran up the clock.\n",
      "The clock struck one;\n",
      "The mouse did run.\n",
      "Hickory Dickory Dock. \n"
     ]
    }
   ],
   "source": [
    "for x in open('limerick.txt'):\n",
    "    print(x, end=\"\")\n",
    "    #break"
   ]
  },
  {
   "cell_type": "code",
   "execution_count": 70,
   "id": "cb72d53a",
   "metadata": {},
   "outputs": [
    {
     "name": "stdout",
     "output_type": "stream",
     "text": [
      "['a', 'b', 'c']\n",
      "abc\n",
      "Original: OLAPA123\n",
      "Ordenado: 123AALOP\n"
     ]
    }
   ],
   "source": [
    "import string\n",
    "l = list('acb')\n",
    "l.sort()\n",
    "print(l)\n",
    "print(''.join(l))\n",
    "\n",
    "lista = [5, 2, 8, 1]\n",
    "lista.sort()\n",
    "texto = \"OLAPA123\"\n",
    "\n",
    "# Converter para lista, ordenar e juntar novamente\n",
    "lista_caracteres = list(texto)\n",
    "lista_caracteres.sort()\n",
    "texto_ordenado = ''.join(lista_caracteres)\n",
    "print(\"Original:\", texto)           # OLAPA123\n",
    "print(\"Ordenado:\", texto_ordenado)  # 123AALOP"
   ]
  },
  {
   "cell_type": "code",
   "execution_count": 72,
   "id": "484e7d59",
   "metadata": {},
   "outputs": [
    {
     "name": "stdout",
     "output_type": "stream",
     "text": [
      "hnopty\n"
     ]
    }
   ],
   "source": [
    "texto = \"python\"\n",
    "resultado = sorted(texto)\n",
    "resultado=\"\".join(resultado)\n",
    "print(resultado)"
   ]
  },
  {
   "cell_type": "code",
   "execution_count": 75,
   "id": "bf29a96b",
   "metadata": {},
   "outputs": [
    {
     "name": "stdout",
     "output_type": "stream",
     "text": [
      "abc\n"
     ]
    },
    {
     "ename": "TypeError",
     "evalue": "'str' object does not support item assignment",
     "output_type": "error",
     "traceback": [
      "\u001b[31m---------------------------------------------------------------------------\u001b[39m",
      "\u001b[31mTypeError\u001b[39m                                 Traceback (most recent call last)",
      "\u001b[36mCell\u001b[39m\u001b[36m \u001b[39m\u001b[32mIn[75]\u001b[39m\u001b[32m, line 5\u001b[39m\n\u001b[32m      3\u001b[39m l=\u001b[33m'\u001b[39m\u001b[33m'\u001b[39m.join(l)\n\u001b[32m      4\u001b[39m \u001b[38;5;28mprint\u001b[39m(l)\n\u001b[32m----> \u001b[39m\u001b[32m5\u001b[39m \u001b[43ml\u001b[49m\u001b[43m[\u001b[49m\u001b[32;43m0\u001b[39;49m\u001b[43m]\u001b[49m=\u001b[32m10\u001b[39m\n",
      "\u001b[31mTypeError\u001b[39m: 'str' object does not support item assignment"
     ]
    }
   ],
   "source": [
    "l = list('acb')\n",
    "l.sort()\n",
    "l=''.join(l)\n",
    "print(l)\n",
    "l[0]=10"
   ]
  },
  {
   "cell_type": "code",
   "execution_count": null,
   "id": "755fea36",
   "metadata": {},
   "outputs": [],
   "source": [
    "import random as r\n",
    "    \n",
    "x = r.random()\n",
    "y = r.random()\n",
    "\n",
    "seed(1)\n",
    "print(x)\n",
    "print(y)"
   ]
  },
  {
   "cell_type": "code",
   "execution_count": 109,
   "id": "07279e18",
   "metadata": {},
   "outputs": [
    {
     "name": "stdout",
     "output_type": "stream",
     "text": [
      "5\n",
      "2\n",
      "3\n"
     ]
    },
    {
     "ename": "TypeError",
     "evalue": "A.__init__() takes from 1 to 2 positional arguments but 3 were given",
     "output_type": "error",
     "traceback": [
      "\u001b[31m---------------------------------------------------------------------------\u001b[39m",
      "\u001b[31mTypeError\u001b[39m                                 Traceback (most recent call last)",
      "\u001b[36mCell\u001b[39m\u001b[36m \u001b[39m\u001b[32mIn[109]\u001b[39m\u001b[32m, line 8\u001b[39m\n\u001b[32m      6\u001b[39m obj = A(\u001b[32m3\u001b[39m)\n\u001b[32m      7\u001b[39m obj = A\n\u001b[32m----> \u001b[39m\u001b[32m8\u001b[39m obj = \u001b[43mA\u001b[49m\u001b[43m(\u001b[49m\u001b[32;43m2\u001b[39;49m\u001b[43m,\u001b[49m\u001b[43m \u001b[49m\u001b[32;43m3\u001b[39;49m\u001b[43m)\u001b[49m\n",
      "\u001b[31mTypeError\u001b[39m: A.__init__() takes from 1 to 2 positional arguments but 3 were given"
     ]
    }
   ],
   "source": [
    "class A:\n",
    "    def __init__(self, x = 2):\n",
    "        print(x)\n",
    "obj = A(x=5)\n",
    "obj = A()\n",
    "obj = A(3)\n",
    "obj = A\n",
    "obj = A(2, 3)\n"
   ]
  },
  {
   "cell_type": "code",
   "execution_count": 180,
   "id": "4828e734",
   "metadata": {},
   "outputs": [
    {
     "name": "stdout",
     "output_type": "stream",
     "text": [
      "kouves\n",
      "STR: 10\n",
      "x é : 10  e  4\n",
      "{'x': 10}\n"
     ]
    }
   ],
   "source": [
    "class A:\n",
    "    Batatas = 1\n",
    "    def __init__(self,n):\n",
    "        self.x =n \n",
    "        A.Batatas += 3\n",
    "        print(\"kouves\")\n",
    "        \n",
    "    def __str__(self):\n",
    "        super().__init__()\n",
    "        #A.__init__(self,n=11)\n",
    "        return f\"STR: {self.x}\"\n",
    "        \n",
    "    \n",
    "obj = A(10)\n",
    "\n",
    "    \n",
    "print(obj)\n",
    "print(\"x é :\", obj.x, \" e \", obj.Batatas)\n",
    "print(obj.__dict__)\n"
   ]
  },
  {
   "cell_type": "code",
   "execution_count": 166,
   "id": "826cb635",
   "metadata": {},
   "outputs": [
    {
     "name": "stdout",
     "output_type": "stream",
     "text": [
      "Na A\n",
      "Na A\n",
      "Na B\n",
      "(<class '__main__.A'>,)\n"
     ]
    }
   ],
   "source": [
    "class A: \n",
    "\tdef __init__(self): \n",
    "\t\tprint(\"Na A\")\n",
    "\n",
    "class B(A): \n",
    "\tdef __init__(self): \t\t\n",
    "\t\tsuper().__init__() \t# <--- a mais usada \n",
    "\t\tA.__init__(self) \t# <--- tambem funciona, mas tem de levar o self\n",
    "\t\tprint(\"Na B\")\n",
    "\n",
    "obj = B()\n",
    "print(B.__bases__)"
   ]
  },
  {
   "cell_type": "code",
   "execution_count": 187,
   "id": "18093379",
   "metadata": {},
   "outputs": [
    {
     "name": "stdout",
     "output_type": "stream",
     "text": [
      "Python\n"
     ]
    }
   ],
   "source": [
    "s1 = \"Python\"\n",
    "s2 = ''\n",
    "    \n",
    "for i in range(len(s1)):\n",
    "    s2 = s2 + s1[i]\n",
    "    \n",
    "print(s2)"
   ]
  },
  {
   "cell_type": "code",
   "execution_count": 188,
   "id": "768a89aa",
   "metadata": {},
   "outputs": [
    {
     "ename": "TypeError",
     "evalue": "A.__init__() takes 2 positional arguments but 3 were given",
     "output_type": "error",
     "traceback": [
      "\u001b[31m---------------------------------------------------------------------------\u001b[39m",
      "\u001b[31mTypeError\u001b[39m                                 Traceback (most recent call last)",
      "\u001b[36mCell\u001b[39m\u001b[36m \u001b[39m\u001b[32mIn[188]\u001b[39m\u001b[32m, line 5\u001b[39m\n\u001b[32m      2\u001b[39m     \u001b[38;5;28;01mdef\u001b[39;00m\u001b[38;5;250m \u001b[39m\u001b[34m__init__\u001b[39m(\u001b[38;5;28mself\u001b[39m, n):\n\u001b[32m      3\u001b[39m         \u001b[38;5;28mself\u001b[39m.x = n\n\u001b[32m----> \u001b[39m\u001b[32m5\u001b[39m obj = \u001b[43mA\u001b[49m\u001b[43m(\u001b[49m\u001b[32;43m0\u001b[39;49m\u001b[43m,\u001b[49m\u001b[43m \u001b[49m\u001b[32;43m1\u001b[39;49m\u001b[43m)\u001b[49m\n\u001b[32m      7\u001b[39m \u001b[38;5;28mprint\u001b[39m(\u001b[38;5;28mhasattr\u001b[39m(obj, \u001b[33m'\u001b[39m\u001b[33mx\u001b[39m\u001b[33m'\u001b[39m))\n",
      "\u001b[31mTypeError\u001b[39m: A.__init__() takes 2 positional arguments but 3 were given"
     ]
    }
   ],
   "source": [
    "class A:    \n",
    "    def __init__(self, n):\n",
    "        self.x = n\n",
    "    \n",
    "obj = A(0, 1)\n",
    "    \n",
    "print(hasattr(obj, 'x'))"
   ]
  },
  {
   "cell_type": "code",
   "execution_count": 193,
   "id": "d51369a8",
   "metadata": {},
   "outputs": [],
   "source": [
    "class Snake:\n",
    "    pass\n",
    "    \n",
    "class Python(Snake):\n",
    "    pass\n",
    "    \n",
    "class Viper(Snake):\n",
    "    pass\n",
    "\n",
    "class Rattlesnake(Python, Snake):\n",
    "    pass"
   ]
  }
 ],
 "metadata": {
  "kernelspec": {
   "display_name": "Python 3",
   "language": "python",
   "name": "python3"
  },
  "language_info": {
   "codemirror_mode": {
    "name": "ipython",
    "version": 3
   },
   "file_extension": ".py",
   "mimetype": "text/x-python",
   "name": "python",
   "nbconvert_exporter": "python",
   "pygments_lexer": "ipython3",
   "version": "3.13.6"
  }
 },
 "nbformat": 4,
 "nbformat_minor": 5
}
