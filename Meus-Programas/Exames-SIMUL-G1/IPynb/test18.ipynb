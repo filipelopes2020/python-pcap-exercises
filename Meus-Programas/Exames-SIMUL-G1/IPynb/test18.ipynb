{
 "cells": [
  {
   "cell_type": "code",
   "execution_count": 10,
   "id": "6de4e28d",
   "metadata": {},
   "outputs": [
    {
     "name": "stdout",
     "output_type": "stream",
     "text": [
      "1\n",
      "1\n",
      "10\n"
     ]
    }
   ],
   "source": [
    "class A:\n",
    "    def __init__(self):\n",
    "        self.x = 1\n",
    "        \n",
    "    def m(self):\n",
    "        self.x = 10       \n",
    "        return self.x\n",
    " \n",
    "class B(A):\n",
    "    #def __init__(self):\n",
    "    #    self.x = 11\n",
    "    def m(self):\n",
    "        #self.x = 100\n",
    "        #super().m()\n",
    "        return self.x \n",
    "        \n",
    " \n",
    "obj_a = A()\n",
    "obj_b = B()\n",
    " \n",
    "print(obj_b.m())\n",
    "print(obj_a.x)\n",
    "print(obj_a.m())"
   ]
  },
  {
   "cell_type": "code",
   "execution_count": null,
   "id": "af24f4f6",
   "metadata": {},
   "outputs": [
    {
     "name": "stdout",
     "output_type": "stream",
     "text": [
      "False\n",
      "140708171509776\n",
      "140708171509728\n",
      "True\n"
     ]
    }
   ],
   "source": [
    "s1 = 'abc'\n",
    "#s2 = s1[:]\n",
    "s2=s1\n",
    "print(id(s1) != id(s2))\n",
    "print(id(s1))\n",
    "print(id(s2))\n",
    "print(s1[2:4] == s2[-1])"
   ]
  },
  {
   "cell_type": "code",
   "execution_count": null,
   "id": "608f3f6e",
   "metadata": {},
   "outputs": [
    {
     "name": "stdout",
     "output_type": "stream",
     "text": [
      "1\n"
     ]
    }
   ],
   "source": [
    "def fun(x, y):\n",
    "    return x(y)\n",
    " \n",
    "print(fun(lambda n: n % 2, 2))"
   ]
  },
  {
   "cell_type": "code",
   "execution_count": 57,
   "id": "5333e69c",
   "metadata": {},
   "outputs": [
    {
     "name": "stdout",
     "output_type": "stream",
     "text": [
      "[3]\n",
      "[2, 5]\n",
      "[9, 5, 6]\n",
      "[3, 4, 2, 1]\n"
     ]
    }
   ],
   "source": [
    "import random\n",
    "\n",
    "def contador():\n",
    "    n = 1\n",
    "    while True:\n",
    "        yield random.sample(range(10),n)\n",
    "        n += 1\n",
    "\n",
    "gen = contador()\n",
    "print(next(gen))  # 1\n",
    "print(next(gen))  # 2\n",
    "print(next(gen))  # 3\n",
    "print(next(gen))  # 3\n"
   ]
  },
  {
   "cell_type": "code",
   "execution_count": 61,
   "id": "ef7f6a17",
   "metadata": {},
   "outputs": [
    {
     "name": "stdout",
     "output_type": "stream",
     "text": [
      "6\n"
     ]
    }
   ],
   "source": [
    "def f(x):\n",
    "    def g():\n",
    "        return x + 4\n",
    "    return g\n",
    " \n",
    "var = f(2)\n",
    " \n",
    "print(var())"
   ]
  },
  {
   "cell_type": "code",
   "execution_count": 67,
   "id": "8fc0ec78",
   "metadata": {},
   "outputs": [
    {
     "name": "stdout",
     "output_type": "stream",
     "text": [
      "6\n",
      "8\n"
     ]
    }
   ],
   "source": [
    "def multiplicador(n):\n",
    "    def calcula(x):\n",
    "        return x * n    # n é \"lembrado\"\n",
    "    return calcula      # Retorna função\n",
    "\n",
    "dobro = multiplicador(2)\n",
    "print(dobro(3))         # Output: 10\n",
    "print(dobro(4)) "
   ]
  },
  {
   "cell_type": "code",
   "execution_count": 80,
   "id": "2f45ca06",
   "metadata": {},
   "outputs": [
    {
     "name": "stdout",
     "output_type": "stream",
     "text": [
      "('3', '13', '6')\n",
      "3.13.6\n",
      "['AndroidVer', 'IOSVersionInfo', 'android_ver', 'architecture', 'collections', 'freedesktop_os_release', 'functools', 'ios_ver', 'itertools', 'java_ver', 'libc_ver', 'mac_ver', 'machine', 'node', 'os', 'platform', 'processor', 'python_branch', 'python_build', 'python_compiler', 'python_implementation', 'python_revision', 'python_version', 'python_version_tuple', 're', 'release', 'sys', 'system', 'system_alias', 'uname', 'uname_result', 'version', 'win32_edition', 'win32_is_iot', 'win32_ver']\n",
      "35\n",
      "<class 'list'>\n"
     ]
    }
   ],
   "source": [
    "import platform, string\n",
    "print(platform.python_version_tuple())\n",
    "print(platform.python_version()) \n",
    "x=[]\n",
    "for i in dir(platform):\n",
    "    if not i.startswith(\"_\"):\n",
    "        x.append(i)\n",
    "        #print(i, end=\" \")\n",
    "        #print(f\"platform.{i}\")\n",
    "x = list(x)\n",
    "print(x)\n",
    "print(len(x))\n",
    "print(type(x))"
   ]
  },
  {
   "cell_type": "code",
   "execution_count": 3,
   "id": "56834dbe",
   "metadata": {},
   "outputs": [
    {
     "name": "stdout",
     "output_type": "stream",
     "text": [
      "True\n",
      "True\n",
      "2385679877184 2385679877184\n",
      "2385677876624 2385677876944\n"
     ]
    }
   ],
   "source": [
    "class A:\n",
    "    pass\n",
    "    \n",
    "obj1 = obj2 = A()\n",
    "obj3, obj4 = A(), A()\n",
    "    \n",
    "print(obj1 is obj2)\n",
    "print(obj3 is not obj4)\n",
    "print(id(obj1), id(obj2))\n",
    "print(id(obj3), id(obj4))"
   ]
  },
  {
   "cell_type": "code",
   "execution_count": 5,
   "id": "fca291be",
   "metadata": {},
   "outputs": [
    {
     "name": "stdout",
     "output_type": "stream",
     "text": [
      "['1.315', '0.2', '5']\n",
      "51.315\n"
     ]
    }
   ],
   "source": [
    "l = \"1.315 0.2 5\".split()\n",
    "print(l)\n",
    "s = l[-1] + l[0]\n",
    "print(float(s))"
   ]
  },
  {
   "cell_type": "code",
   "execution_count": null,
   "id": "f6153ac2",
   "metadata": {},
   "outputs": [
    {
     "name": "stdout",
     "output_type": "stream",
     "text": [
      "[0, 2, 4, 6, 8]\n",
      "0\n",
      "2\n",
      "4\n",
      "6\n",
      "8\n",
      "20\n",
      "0\n"
     ]
    }
   ],
   "source": [
    "x = [i * 2 for i in range(5)]\n",
    "y = (i * 2  for i in range(5))\n",
    "    \n",
    "print(x)\n",
    "#print(y)\n",
    "print(next(y))  # Output: 0\n",
    "print(next(y))  # Output: 2\n",
    "print(next(y))  # Output: 4\n",
    "print(next(y))  # Output: 4\n",
    "print(next(y))  # Output: 4\n",
    "    \n",
    "print(sum(x))\n",
    "#print(sum(y))"
   ]
  },
  {
   "cell_type": "code",
   "execution_count": 22,
   "id": "86a57ef3",
   "metadata": {},
   "outputs": [
    {
     "name": "stdout",
     "output_type": "stream",
     "text": [
      "o A tem x como atributo? True\n",
      "o A tem y como atributo? False\n",
      "o obj tem x como atributo? True\n",
      "o obj tem y como atributo? True\n",
      "{'y': 20}\n",
      "{'__module__': '__main__', '__firstlineno__': 1, 'x': 10, '__init__': <function A.__init__ at 0x0000022B759D2340>, '__static_attributes__': ('y',), '__dict__': <attribute '__dict__' of 'A' objects>, '__weakref__': <attribute '__weakref__' of 'A' objects>, '__doc__': None}\n"
     ]
    }
   ],
   "source": [
    "class A:\n",
    "    x = 10\n",
    "    def __init__(self):\n",
    "        self.y = 20\n",
    "    \n",
    "obj = A()\n",
    "    \n",
    "print(\"o A tem x como atributo?\", hasattr(A, 'x'), end = \"\\n\")\n",
    "print(\"o A tem y como atributo?\", hasattr(A, 'y'), end = \"\\n\")\n",
    "print(\"o obj tem x como atributo?\",hasattr(obj, 'x'), end = \"\\n\")\n",
    "print(\"o obj tem y como atributo?\",hasattr(obj, 'y'), end = \"\\n\")\n",
    "\n",
    "\n",
    "print(obj.__dict__)\n",
    "print(A.__dict__)"
   ]
  },
  {
   "cell_type": "code",
   "execution_count": 29,
   "id": "6ef2b02d",
   "metadata": {},
   "outputs": [
    {
     "name": "stdout",
     "output_type": "stream",
     "text": [
      "False\n",
      "True\n",
      "{}\n"
     ]
    }
   ],
   "source": [
    "class A:\n",
    "    x = 0\n",
    "    def __init__(self):\n",
    "        pass\n",
    "    \n",
    "obj = A()\n",
    "    \n",
    "print('x' in obj.__dict__)\n",
    "print(hasattr(obj, 'x'))\n",
    "\n",
    "print(obj.__dict__)\n"
   ]
  },
  {
   "cell_type": "code",
   "execution_count": 30,
   "id": "fe626f49",
   "metadata": {},
   "outputs": [
    {
     "name": "stdout",
     "output_type": "stream",
     "text": [
      "['a', 'b', 'c']\n",
      "acb\n",
      "abc\n"
     ]
    }
   ],
   "source": [
    "s = 'abc'\n",
    " \n",
    "print(sorted(s))\n",
    " \n",
    "# print(s.sorted())           # AttributeError\n",
    " \n",
    "l = list('acb')\n",
    "sorted(l)\n",
    "print(''.join(l))\n",
    " \n",
    "new_s = ''.join(sorted(s))\n",
    "print(new_s)\n",
    " "
   ]
  },
  {
   "cell_type": "code",
   "execution_count": 37,
   "id": "621ed408",
   "metadata": {},
   "outputs": [
    {
     "name": "stdout",
     "output_type": "stream",
     "text": [
      "Antes: ['A', 'C', 'B']\n",
      "Depois do sort: ['A', 'B', 'C']\n",
      "ABC\n"
     ]
    }
   ],
   "source": [
    "import string\n",
    "\n",
    "s = 'acb'\n",
    "lst = list(s)      # converte string em lista de caracteres\n",
    "lst = list(map(str.upper, lst))\n",
    "#print(\"p=\", p)\n",
    "print(\"Antes:\", lst)\n",
    "lst.sort()         # ordena a lista no lugar\n",
    "print(\"Depois do sort:\", lst)\n",
    "new_s = ''.join(lst)  # junta de volta numa string\n",
    "print(new_s)"
   ]
  },
  {
   "cell_type": "code",
   "execution_count": 54,
   "id": "719efec2",
   "metadata": {},
   "outputs": [
    {
     "name": "stdout",
     "output_type": "stream",
     "text": [
      "['ola', 'pa', '123'] <map object at 0x0000022B75BC6440>\n"
     ]
    }
   ],
   "source": [
    "s = \" ola pa 123 \"\n",
    "st = s.split()\n",
    "st2=\"\".join(st).upper()\n",
    "#p = list(map(st2, st))\n",
    "print(st, p)"
   ]
  },
  {
   "cell_type": "code",
   "execution_count": 65,
   "id": "b8b77695",
   "metadata": {},
   "outputs": [],
   "source": [
    "class A:\n",
    "    pass\n",
    "    \n",
    "class B(A):\n",
    "    pass\n",
    "    \n",
    "class C(B):\n",
    "    pass\n",
    "    \n",
    "class D(A):\n",
    "    pass\n",
    "\n",
    "class E(C,B,A):\n",
    "    pass\n",
    "\n",
    "class E2(E, B, A):\n",
    "    pass"
   ]
  },
  {
   "cell_type": "code",
   "execution_count": 70,
   "id": "301cf176",
   "metadata": {},
   "outputs": [
    {
     "name": "stdout",
     "output_type": "stream",
     "text": [
      "The value of x is: 3\n"
     ]
    }
   ],
   "source": [
    "class A:\n",
    "    def __init__(self):\n",
    "        self.x = 1\n",
    " \n",
    "    def __str__(self):\n",
    "        return \"The value of x is: \" + str(self.x)\n",
    " \n",
    "class B(A):\n",
    "    def __init__(self):        \n",
    "        super().__init__()\n",
    "        self.x += 2\n",
    " \n",
    "obj = B()\n",
    "print(obj)\n",
    " "
   ]
  },
  {
   "cell_type": "code",
   "execution_count": 75,
   "id": "059d2288",
   "metadata": {},
   "outputs": [
    {
     "name": "stdout",
     "output_type": "stream",
     "text": [
      "720\n",
      "1\n",
      "['ArithmeticError', 'AssertionError', 'AttributeError', 'BaseException', 'BaseExceptionGroup', 'BlockingIOError', 'BrokenPipeError', 'BufferError', 'BytesWarning', 'ChildProcessError', 'ConnectionAbortedError', 'ConnectionError', 'ConnectionRefusedError', 'ConnectionResetError', 'DeprecationWarning', 'EOFError', 'Ellipsis', 'EncodingWarning', 'EnvironmentError', 'Exception', 'ExceptionGroup', 'False', 'FileExistsError', 'FileNotFoundError', 'FloatingPointError', 'FutureWarning', 'GeneratorExit', 'IOError', 'ImportError', 'ImportWarning', 'IndentationError', 'IndexError', 'InterruptedError', 'IsADirectoryError', 'KeyError', 'KeyboardInterrupt', 'LookupError', 'MemoryError', 'ModuleNotFoundError', 'NameError', 'None', 'NotADirectoryError', 'NotImplemented', 'NotImplementedError', 'OSError', 'OverflowError', 'PendingDeprecationWarning', 'PermissionError', 'ProcessLookupError', 'PythonFinalizationError', 'RecursionError', 'ReferenceError', 'ResourceWarning', 'RuntimeError', 'RuntimeWarning', 'StopAsyncIteration', 'StopIteration', 'SyntaxError', 'SyntaxWarning', 'SystemError', 'SystemExit', 'TabError', 'TimeoutError', 'True', 'TypeError', 'UnboundLocalError', 'UnicodeDecodeError', 'UnicodeEncodeError', 'UnicodeError', 'UnicodeTranslateError', 'UnicodeWarning', 'UserWarning', 'ValueError', 'Warning', 'WindowsError', 'ZeroDivisionError', '_IncompleteInputError', '__IPYTHON__', '__build_class__', '__debug__', '__doc__', '__import__', '__loader__', '__name__', '__package__', '__spec__', 'abs', 'aiter', 'all', 'anext', 'any', 'ascii', 'bin', 'bool', 'breakpoint', 'bytearray', 'bytes', 'callable', 'chr', 'classmethod', 'compile', 'complex', 'copyright', 'credits', 'delattr', 'dict', 'dir', 'display', 'divmod', 'enumerate', 'eval', 'exec', 'execfile', 'filter', 'float', 'format', 'frozenset', 'get_ipython', 'getattr', 'globals', 'hasattr', 'hash', 'help', 'hex', 'id', 'input', 'int', 'isinstance', 'issubclass', 'iter', 'len', 'license', 'list', 'locals', 'map', 'max', 'memoryview', 'min', 'next', 'object', 'oct', 'open', 'ord', 'pow', 'print', 'property', 'range', 'repr', 'reversed', 'round', 'runfile', 'set', 'setattr', 'slice', 'sorted', 'staticmethod', 'str', 'sum', 'super', 'tuple', 'type', 'vars', 'zip']\n"
     ]
    }
   ],
   "source": [
    "import math\n",
    "print(math.factorial(6))\n",
    "print(abs(-1))\n",
    "\n",
    "print(dir(__builtins__))"
   ]
  },
  {
   "cell_type": "code",
   "execution_count": null,
   "id": "90d78810",
   "metadata": {},
   "outputs": [],
   "source": [
    "class A:\n",
    "    \n",
    "    def __init__(self, n):        \n",
    "        if n > 0:\n",
    "            self.x = 1           \n",
    "        else:\n",
    "            self.y = -1            \n",
    " \n",
    "obj1 = A(1)\n",
    "#print(obj1.y)\n",
    "print(hasattr(obj1, 'y'), end = ' ')\n",
    " \n",
    "obj2 = A(0)\n",
    "#print(obj2.x)\n",
    "print(hasattr(obj2, 'y'))"
   ]
  },
  {
   "cell_type": "code",
   "execution_count": 80,
   "id": "b3aadaff",
   "metadata": {},
   "outputs": [
    {
     "name": "stdout",
     "output_type": "stream",
     "text": [
      "Pyt\n"
     ]
    }
   ],
   "source": [
    "s = 'Python'\n",
    "s2 = s[-10:3]\n",
    "print(s2)"
   ]
  },
  {
   "cell_type": "code",
   "execution_count": 85,
   "id": "c7c78269",
   "metadata": {},
   "outputs": [
    {
     "name": "stdout",
     "output_type": "stream",
     "text": [
      "True True\n"
     ]
    }
   ],
   "source": [
    "import random as r\n",
    "    \n",
    "r.seed(1)\n",
    "    \n",
    "x1 = r.choice([1, 2, 3])\n",
    "y1 = r.sample('Python', 2)\n",
    "    \n",
    "r.seed(1)\n",
    "    \n",
    "x2 = r.choice([1, 2, 3])\n",
    "y2 = r.sample('Python', 2)\n",
    "    \n",
    "print(x1 == x2, y1 == y2)"
   ]
  },
  {
   "cell_type": "code",
   "execution_count": 87,
   "id": "bb2c53f3",
   "metadata": {},
   "outputs": [
    {
     "name": "stdout",
     "output_type": "stream",
     "text": [
      "100 100\n"
     ]
    }
   ],
   "source": [
    "class A:\n",
    "    x = 0\n",
    "    def __init__(self):        \n",
    "        pass      \n",
    "    \n",
    "obj1 = A()\n",
    "obj2 = A()\n",
    "    \n",
    "#obj1.x = 100\n",
    "A.x = 100\n",
    "    \n",
    "print(obj1.x, end = \" \")\n",
    "print(obj2.x)"
   ]
  },
  {
   "cell_type": "code",
   "execution_count": 88,
   "id": "2eccbdf5",
   "metadata": {},
   "outputs": [
    {
     "name": "stdout",
     "output_type": "stream",
     "text": [
      "Valores iniciais:\n",
      "obj1.x = 0, obj1.y = 0\n",
      "obj2.x = 0, obj2.y = 0\n",
      "\n",
      "Após modificações:\n",
      "obj1.x = 100, obj1.y = 200\n",
      "obj2.x = 999, obj2.y = 0\n"
     ]
    }
   ],
   "source": [
    "class A:\n",
    "    x = 0  # Variável de classe (compartilhada)\n",
    "    \n",
    "    def __init__(self):\n",
    "        self.y = 0  # Variável de instância (específica de cada objeto)\n",
    "\n",
    "# Criando objetos\n",
    "obj1 = A()\n",
    "obj2 = A()\n",
    "\n",
    "print(\"Valores iniciais:\")\n",
    "print(f\"obj1.x = {obj1.x}, obj1.y = {obj1.y}\")\n",
    "print(f\"obj2.x = {obj2.x}, obj2.y = {obj2.y}\")\n",
    "\n",
    "# Modificando variáveis\n",
    "obj1.x = 100  # Cria variável de instância x em obj1 (NÃO modifica a variável de classe)\n",
    "obj1.y = 200  # Modifica variável de instância y em obj1\n",
    "\n",
    "A.x = 999     # Isso SIM modifica a variável de classe (afeta todos os objetos)\n",
    "\n",
    "print(\"\\nApós modificações:\")\n",
    "print(f\"obj1.x = {obj1.x}, obj1.y = {obj1.y}\")  # 100 (instância), 200 (instância)\n",
    "print(f\"obj2.x = {obj2.x}, obj2.y = {obj2.y}\")  # 999 (classe), 0 (instância)\n"
   ]
  },
  {
   "cell_type": "code",
   "execution_count": null,
   "id": "e3327df3",
   "metadata": {},
   "outputs": [
    {
     "name": "stdout",
     "output_type": "stream",
     "text": [
      "40\n",
      "No error occurred\n",
      "The end\n"
     ]
    }
   ],
   "source": [
    "\n",
    "def fun(x):\n",
    "    try:    \n",
    "        n = int(x)\n",
    "        print(n * 2)\n",
    "    except:\n",
    "        print('Fatal error')\n",
    "    else:\n",
    "        print('No error occurred')\n",
    "    finally:\n",
    "        print('The end')\n",
    "    \n",
    "fun('2_0')\n",
    "#fun('2.5')"
   ]
  },
  {
   "cell_type": "code",
   "execution_count": 99,
   "id": "688d00c4",
   "metadata": {},
   "outputs": [
    {
     "name": "stdout",
     "output_type": "stream",
     "text": [
      "20\n",
      "2.5\n"
     ]
    }
   ],
   "source": [
    "x = '2_0'\n",
    "n = int(x)\n",
    "print(n)\n",
    "\n",
    "x='2.5'\n",
    "n = float(x)\n",
    "print(n)\n"
   ]
  },
  {
   "cell_type": "code",
   "execution_count": 113,
   "id": "3ed41ce7",
   "metadata": {},
   "outputs": [
    {
     "name": "stdout",
     "output_type": "stream",
     "text": [
      "1 1\n"
     ]
    }
   ],
   "source": [
    "x = 0\n",
    "y = 0\n",
    "    \n",
    "def fun1():\n",
    "    global x\n",
    "    x += 1\n",
    "    return x\n",
    "    \n",
    "def fun2():\n",
    "    global y\n",
    "    y += 1\n",
    "    return y\n",
    "    \n",
    "z = fun1() and fun2()\n",
    "    \n",
    "print(x, y)"
   ]
  },
  {
   "cell_type": "code",
   "execution_count": 132,
   "id": "ebc49736",
   "metadata": {},
   "outputs": [
    {
     "name": "stdout",
     "output_type": "stream",
     "text": [
      "  6 5\n"
     ]
    }
   ],
   "source": [
    "x = \" \" or '01' or False or '0'\n",
    "y = 6 or 0 or [] or False\n",
    "z = '' or 5 or True\n",
    "    \n",
    "print(x, y, z)"
   ]
  },
  {
   "cell_type": "code",
   "execution_count": 147,
   "id": "c5c54e7b",
   "metadata": {},
   "outputs": [
    {
     "name": "stdout",
     "output_type": "stream",
     "text": [
      "15 15 15 0\n"
     ]
    }
   ],
   "source": [
    "class A:\n",
    "    x = 1\n",
    "    y=0\n",
    "    def m(self):\n",
    "        global y\n",
    "        y +=A.x * 2\n",
    "        return y\n",
    "    \n",
    "obj1 = A()\n",
    "\n",
    "A.x = 10\n",
    "obj2 = A()\n",
    "A.x=15\n",
    "#obj2.x = 50    \n",
    "\n",
    "obj2.m()\n",
    "\n",
    "obj3 = A()\n",
    "obj3.m()\n",
    "    \n",
    "print(obj1.x, obj2.x,A.x,obj3.y)"
   ]
  },
  {
   "cell_type": "code",
   "execution_count": 152,
   "id": "1c1aae40",
   "metadata": {},
   "outputs": [
    {
     "name": "stdout",
     "output_type": "stream",
     "text": [
      "3\n",
      "2\n",
      "1\n"
     ]
    }
   ],
   "source": [
    "a = 2\n",
    "b = 1\n",
    "    \n",
    "a = a | b; print(a)\n",
    "a = a ^ b; print(a)\n",
    "a = a >> b; print(a)\n",
    "    \n",
    "#print(a)"
   ]
  },
  {
   "cell_type": "code",
   "execution_count": 157,
   "id": "29846cfb",
   "metadata": {},
   "outputs": [
    {
     "name": "stdout",
     "output_type": "stream",
     "text": [
      "p: 20 10 10\n",
      "q: 200\n"
     ]
    }
   ],
   "source": [
    "class A:\n",
    "    x = 0\n",
    "    def __init__(self):\n",
    "        A.x += 5\n",
    "    \n",
    "    def m(self, n = 2):\n",
    "        self.y = A.x * n\n",
    "        return self.y\n",
    "    \n",
    "obj1 = A()\n",
    "obj2 = A()\n",
    "p = obj1.m()\n",
    "print(\"p:\",p, obj1.x, obj2.x)\n",
    "q= obj2.m(p)\n",
    "print(\"q:\", q)"
   ]
  },
  {
   "cell_type": "code",
   "execution_count": 175,
   "id": "8b2601e7",
   "metadata": {},
   "outputs": [
    {
     "name": "stdout",
     "output_type": "stream",
     "text": [
      "<class 'tuple'>\n",
      "('erro', 404, 'não encontrado')\n",
      "('erro', 404, 'não encontrado')\n",
      "<class 'tuple'>\n",
      "<class 'str'>\n"
     ]
    }
   ],
   "source": [
    "try:\n",
    "    raise ValueError('erro', 404, 'não encontrado')\n",
    "except ValueError as e:\n",
    "    print(type(e.args))  # <class 'tuple'>\n",
    "    print(e.args)        # ('erro', 404, 'não encontrado')\n",
    "    print(str(e))\n",
    "    print(type(e.args))\n",
    "    print(type(str(e)))"
   ]
  },
  {
   "cell_type": "code",
   "execution_count": 172,
   "id": "880da226",
   "metadata": {},
   "outputs": [
    {
     "name": "stdout",
     "output_type": "stream",
     "text": [
      "e.args: ('a', 'b', 'c')\n",
      "str(e): ('a', 'b', 'c')\n",
      "type(e.args): <class 'tuple'>\n",
      "type(str(e)): <class 'str'>\n"
     ]
    }
   ],
   "source": [
    "try:\n",
    "    raise Exception('a', 'b', 'c')\n",
    "except Exception as e:\n",
    "    print(\"e.args:\", e.args)    # Tupla com os argumentos brutos\n",
    "    print(\"str(e):\", str(e))    # String formatada da exceção\n",
    "    print(\"type(e.args):\", type(e.args))  # <class 'tuple'>\n",
    "    print(\"type(str(e)):\", type(str(e)))  # <class 'str'>"
   ]
  },
  {
   "cell_type": "code",
   "execution_count": 180,
   "id": "79be9488",
   "metadata": {},
   "outputs": [
    {
     "name": "stdout",
     "output_type": "stream",
     "text": [
      "1\n",
      "[0, 1, 2, 3]\n"
     ]
    }
   ],
   "source": [
    "\n",
    "lst = [0, 1, 2, 3]\n",
    "    \n",
    "try:\n",
    "    x = lst[3]\n",
    "    y = lst[2]\n",
    "    \n",
    "    print(lst[x % y])\n",
    "    print(lst)\n",
    "except ZeroDivisionError:\n",
    "    print('div 0 error')\n",
    "except IndexError:\n",
    "    print('index error')\n",
    "except:\n",
    "    print('error')"
   ]
  },
  {
   "cell_type": "code",
   "execution_count": 184,
   "id": "c3afc9b2",
   "metadata": {},
   "outputs": [
    {
     "name": "stdout",
     "output_type": "stream",
     "text": [
      "[0, 6, 4]\n"
     ]
    }
   ],
   "source": [
    "lst1 = [-1, 0, -6, 4, 7]\n",
    "\n",
    "lst2 = [n if n >= 0 else -n   for n in lst1   if n % 2 == 0]\n",
    "\n",
    "print(lst2)"
   ]
  },
  {
   "cell_type": "code",
   "execution_count": 190,
   "id": "3f95d9ab",
   "metadata": {},
   "outputs": [
    {
     "ename": "TypeError",
     "evalue": "'tuple' object does not support item assignment",
     "output_type": "error",
     "traceback": [
      "\u001b[31m---------------------------------------------------------------------------\u001b[39m",
      "\u001b[31mTypeError\u001b[39m                                 Traceback (most recent call last)",
      "\u001b[36mCell\u001b[39m\u001b[36m \u001b[39m\u001b[32mIn[190]\u001b[39m\u001b[32m, line 6\u001b[39m\n\u001b[32m      3\u001b[39m lst= [\u001b[32m1\u001b[39m,\u001b[32m2\u001b[39m,\u001b[32m3\u001b[39m]\n\u001b[32m      4\u001b[39m \u001b[38;5;66;03m#tpl.append(5)\u001b[39;00m\n\u001b[32m      5\u001b[39m \u001b[38;5;66;03m#tpl = tpl + (4,)\u001b[39;00m\n\u001b[32m----> \u001b[39m\u001b[32m6\u001b[39m \u001b[43mtpl\u001b[49m\u001b[43m[\u001b[49m\u001b[32;43m2\u001b[39;49m\u001b[43m]\u001b[49m=\u001b[32m9\u001b[39m\n\u001b[32m      8\u001b[39m \u001b[38;5;66;03m#list[1] = 9\u001b[39;00m\n\u001b[32m      9\u001b[39m \u001b[38;5;28mprint\u001b[39m(tpl)\n",
      "\u001b[31mTypeError\u001b[39m: 'tuple' object does not support item assignment"
     ]
    }
   ],
   "source": [
    "tpl = (1, 2, 3)\n",
    "\n",
    "lst= [1,2,3]\n",
    "#tpl.append(5)\n",
    "#tpl = tpl + (4,)\n",
    "tpl[2]=9\n",
    "\n",
    "#list[1] = 9\n",
    "print(tpl)"
   ]
  },
  {
   "cell_type": "code",
   "execution_count": 211,
   "id": "8853a353",
   "metadata": {},
   "outputs": [
    {
     "name": "stdout",
     "output_type": "stream",
     "text": [
      "tiger\n",
      "dog\n",
      "cat\n",
      "lion\n",
      "fox\n"
     ]
    }
   ],
   "source": [
    "arquivo = open(\"animals.txt\", \"r\")\n",
    "#linhas = arquivo.readlines()  # Retorna uma lista de strings\n",
    "#linhas = arquivo.readline(2)  # Retorna uma lista de strings\n",
    "linhas = arquivo.read(1112)  # Retorna uma lista de strings\n",
    "print(linhas)\n",
    "\n",
    "arquivo.close()\n"
   ]
  },
  {
   "cell_type": "code",
   "execution_count": null,
   "id": "ee68a2b6",
   "metadata": {},
   "outputs": [
    {
     "name": "stdout",
     "output_type": "stream",
     "text": [
      "Sistema Operacional: Windows 11\n",
      "Versão: 10.0.26100\n",
      "Arquitetura: AMD64\n",
      "Processador: Intel64 Family 6 Model 158 Stepping 10, GenuineIntel\n",
      "Python: 3.13.6 (CPython)\n",
      "Plataforma completa: Windows-11-10.0.26100-SP0\n",
      "---- SYS-----\n",
      "Sys Platform win32\n",
      "Sys Version 3.13.6 (tags/v3.13.6:4e66535, Aug  6 2025, 14:36:00) [MSC v.1944 64 bit (AMD64)]\n",
      "['__breakpointhook__', '__displayhook__', '__doc__', '__excepthook__', '__interactivehook__', '__loader__', '__name__', '__package__', '__spec__', '__stderr__', '__stdin__', '__stdout__', '__unraisablehook__', '_base_executable', '_baserepl', '_clear_internal_caches', '_clear_type_cache', '_current_exceptions', '_current_frames', '_debugmallocstats', '_enablelegacywindowsfsencoding', '_framework', '_get_cpu_count_config', '_getframe', '_getframemodulename', '_git', '_home', '_is_gil_enabled', '_is_interned', '_setprofileallthreads', '_settraceallthreads', '_stdlib_dir', '_vpath', '_xoptions', 'activate_stack_trampoline', 'addaudithook', 'api_version', 'argv', 'audit', 'base_exec_prefix', 'base_prefix', 'breakpointhook', 'builtin_module_names', 'byteorder', 'call_tracing', 'copyright', 'deactivate_stack_trampoline', 'displayhook', 'dllhandle', 'dont_write_bytecode', 'exc_info', 'excepthook', 'exception', 'exec_prefix', 'executable', 'exit', 'flags', 'float_info', 'float_repr_style', 'get_asyncgen_hooks', 'get_coroutine_origin_tracking_depth', 'get_int_max_str_digits', 'getallocatedblocks', 'getdefaultencoding', 'getfilesystemencodeerrors', 'getfilesystemencoding', 'getprofile', 'getrecursionlimit', 'getrefcount', 'getsizeof', 'getswitchinterval', 'gettrace', 'getunicodeinternedsize', 'getwindowsversion', 'hash_info', 'hexversion', 'implementation', 'int_info', 'intern', 'is_finalizing', 'is_stack_trampoline_active', 'last_exc', 'last_traceback', 'last_type', 'last_value', 'maxsize', 'maxunicode', 'meta_path', 'modules', 'monitoring', 'orig_argv', 'path', 'path_hooks', 'path_importer_cache', 'platform', 'platlibdir', 'prefix', 'ps1', 'ps2', 'ps3', 'pycache_prefix', 'set_asyncgen_hooks', 'set_coroutine_origin_tracking_depth', 'set_int_max_str_digits', 'setprofile', 'setrecursionlimit', 'setswitchinterval', 'settrace', 'stderr', 'stdin', 'stdlib_module_names', 'stdout', 'thread_info', 'unraisablehook', 'version', 'version_info', 'warnoptions', 'winver']\n",
      "11\n"
     ]
    }
   ],
   "source": [
    "import platform, os\n",
    "import sys\n",
    "\n",
    "def system_info():\n",
    "    print(f\"Sistema Operacional: {platform.system()} {platform.release()}\")\n",
    "    print(f\"Versão: {platform.version()}\")\n",
    "    print(f\"Arquitetura: {platform.machine()}\")\n",
    "    print(f\"Processador: {platform.processor()}\")\n",
    "    print(f\"Python: {platform.python_version()} ({platform.python_implementation()})\")\n",
    "    print(f\"Plataforma completa: {platform.platform()}\")\n",
    "    print(\"---- SYS-----\")\n",
    "    print(f\"Sys Platform {sys.platform}\")\n",
    "    print(f\"Sys Version {sys.version}\")\n",
    "\n",
    "system_info()\n",
    "\n",
    "print(dir(sys))\n"
   ]
  },
  {
   "cell_type": "code",
   "execution_count": 19,
   "id": "1ab15f6f",
   "metadata": {},
   "outputs": [
    {
     "name": "stdout",
     "output_type": "stream",
     "text": [
      "['d', 'c', ' ', 'b', 'a']\n"
     ]
    }
   ],
   "source": [
    "txt=\"ab cd\"\n",
    "print(list(reversed(txt)))"
   ]
  },
  {
   "cell_type": "code",
   "execution_count": 21,
   "id": "8e065881",
   "metadata": {},
   "outputs": [
    {
     "name": "stdout",
     "output_type": "stream",
     "text": [
      "Que grande treta estas perguntas de pcap\n",
      "Que Grande Treta Estas Perguntas De Pcap\n"
     ]
    }
   ],
   "source": [
    "str = \"Que grande treta estas perguntas de PCAP\"\n",
    "\n",
    "print(str.capitalize())\n",
    "print(str.title())\n"
   ]
  },
  {
   "cell_type": "code",
   "execution_count": 36,
   "id": "70b50ae2",
   "metadata": {},
   "outputs": [
    {
     "name": "stdout",
     "output_type": "stream",
     "text": [
      "True\n"
     ]
    }
   ],
   "source": [
    "#print(\"\".isspace())\n",
    "#print(\"PYThon\".isupper())\n",
    "#print(\"MONTY PYTHON\".isupper())\n",
    "#print(\"a-b- -c\".islower())\n",
    "#print(\"-g\".islower())\n",
    "print(\"\\n \\t      \".isspace())"
   ]
  }
 ],
 "metadata": {
  "kernelspec": {
   "display_name": "Python 3",
   "language": "python",
   "name": "python3"
  },
  "language_info": {
   "codemirror_mode": {
    "name": "ipython",
    "version": 3
   },
   "file_extension": ".py",
   "mimetype": "text/x-python",
   "name": "python",
   "nbconvert_exporter": "python",
   "pygments_lexer": "ipython3",
   "version": "3.13.6"
  }
 },
 "nbformat": 4,
 "nbformat_minor": 5
}
