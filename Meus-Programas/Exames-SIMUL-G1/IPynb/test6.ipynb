{
 "cells": [
  {
   "cell_type": "code",
   "execution_count": 6,
   "id": "29516764",
   "metadata": {},
   "outputs": [
    {
     "name": "stdout",
     "output_type": "stream",
     "text": [
      "*\n"
     ]
    }
   ],
   "source": [
    "i=0\n",
    "while i in range(1,11,2):\n",
    "    print(i, end='')\n",
    "else:\n",
    "    print('*')"
   ]
  },
  {
   "cell_type": "code",
   "execution_count": 17,
   "id": "2ee60e35",
   "metadata": {},
   "outputs": [
    {
     "ename": "ValueError",
     "evalue": "invalid literal for int() with base 10: '2/2'",
     "output_type": "error",
     "traceback": [
      "\u001b[31m---------------------------------------------------------------------------\u001b[39m",
      "\u001b[31mValueError\u001b[39m                                Traceback (most recent call last)",
      "\u001b[36mCell\u001b[39m\u001b[36m \u001b[39m\u001b[32mIn[17]\u001b[39m\u001b[32m, line 4\u001b[39m\n\u001b[32m      1\u001b[39m x = \u001b[38;5;28minput\u001b[39m(\u001b[33m\"\u001b[39m\u001b[33mEnter number : ? \u001b[39m\u001b[33m\"\u001b[39m)\n\u001b[32m      2\u001b[39m \u001b[38;5;66;03m# if user enter a non-integer value, it will raise an exception!!\u001b[39;00m\n\u001b[32m      3\u001b[39m \u001b[38;5;66;03m# example: x=3.14 or 10/2\u001b[39;00m\n\u001b[32m----> \u001b[39m\u001b[32m4\u001b[39m \u001b[38;5;28mprint\u001b[39m(\u001b[38;5;28;43mint\u001b[39;49m\u001b[43m(\u001b[49m\u001b[43mx\u001b[49m\u001b[43m)\u001b[49m)\n",
      "\u001b[31mValueError\u001b[39m: invalid literal for int() with base 10: '2/2'"
     ]
    }
   ],
   "source": [
    "x = input(\"Enter number : ? \")\n",
    "# if user enter a non-integer value, it will raise an exception!!\n",
    "# example: x=3.14 or 10/2\n",
    "print(int(x))"
   ]
  },
  {
   "cell_type": "code",
   "execution_count": null,
   "id": "c79e8ba3",
   "metadata": {},
   "outputs": [
    {
     "name": "stdout",
     "output_type": "stream",
     "text": [
      "[1, 5, 10, 19, 20]\n",
      "[5, 10, 19]\n",
      "[1, 10, 20]\n",
      "[19, 20]\n",
      "[10, 19, 20]\n",
      "[1, 5, 10, 19]\n",
      "----\n",
      "2\n"
     ]
    }
   ],
   "source": [
    "#my_list = (1, 5, 10, 19, 20)\n",
    "my_list = [1, 5, 10, 19, 20]\n",
    "print(my_list[:])      # (1, 5, 10, 19, 20) - cópia completa\n",
    "print(my_list[1:4])    # (5, 10, 19) - do índice 1 ao 3\n",
    "print(my_list[::2])    # (1, 10, 20) - elementos pares\n",
    "print(my_list[-2:])    # (19, 20) - últimos 2 elementos\n",
    "print(my_list[2:])     # (10, 19, 20) - do índice 2 ao final\n",
    "print(my_list[:-1])    # (1, 5, 10, 19) - do início ao penúltimo\n",
    "# ----\n",
    "print(\"----\")\n",
    "my_dict= {'a': 1, 'b': 2, 'c': 3, 'd': 4, 'e': 5}\n",
    "print(my_dict['b'])    \n",
    "#print(my_dict[1,2])"
   ]
  },
  {
   "cell_type": "code",
   "execution_count": 51,
   "id": "2551b1e2",
   "metadata": {},
   "outputs": [
    {
     "name": "stdout",
     "output_type": "stream",
     "text": [
      "[5, 6, 7, 8, 9]\n",
      "[0, 1, 2, 3, 4]\n",
      "[0, 1, 2, 3, 4, 5, 6, 7, 8]\n",
      "[1, 2, 3, 4, 5, 6, 7, 8, 9, 10]\n",
      "<class 'range'>\n",
      "<class 'dict'>\n"
     ]
    }
   ],
   "source": [
    "print(list(range(10)[5:]))\n",
    "print(list(range(10)[:5]))\n",
    "print(list(range(10)[:-1]))\n",
    "print(list(range(11)[1:]))\n",
    "\n",
    "print(type(range(10)))\n",
    "set1={1:\"ArithmeticError\",2:\"AssertionError\",5:\"BaseException\",6:\"BufferError\"}\n",
    "print(type(set1))"
   ]
  },
  {
   "cell_type": "code",
   "execution_count": 69,
   "id": "061c6cc7",
   "metadata": {},
   "outputs": [
    {
     "name": "stdout",
     "output_type": "stream",
     "text": [
      "dict_keys(['nome', 'idade'])\n",
      "dict_values(['Mario', 56])\n",
      "dict_items([('nome', 'Mario'), ('idade', 56)])\n",
      "dict_items([('nome', 'Mario'), ('idade', 56)])\n",
      "dict_items([('nome', 'Mario'), ('idade', 56), ('morada', 'Torres Vedras'), ('clube', 'SLB')])\n",
      "{'nome': 'Mario', 'idade': 56, 'morada': 'Torres Vedras', 'clube': 'SLB'}\n",
      "tipo: <class 'dict'>\n"
     ]
    }
   ],
   "source": [
    "# Dicionários\n",
    "pessoa = {\"nome\": \"Mario\", \"idade\": 56}\n",
    "\n",
    "print(pessoa.keys())    # dict_keys(['nome', 'idade'])\n",
    "print(pessoa.values())  # dict_values(['MF', 30])\n",
    "print(pessoa.items())   # dict_items([('nome', 'MF'), ('idade', 30)])\n",
    "#pessoa.clear()\n",
    "#print(pessoa.items())   # dict_items([('nome', 'MF'), ('idade', 30)])\n",
    "#pessoa.pop(\"nome\")\n",
    "print(pessoa.items())   # dict_items([('nome', 'MF'), ('idade', 30)])\n",
    "pessoa.update({\"morada\":\"Freixo\"})\n",
    "pessoa.update({\"clube\":\"SLB\"})\n",
    "pessoa.update([(\"morada\", \"Freixo\")])\n",
    "pessoa.update({\"morada\":\"Torres Vedras\"})\n",
    "print(pessoa.items()) \n",
    "#pessoa.pop(\"morada\")\n",
    "#pessoa = {\"nome\": \"MF\", \"idade\": 30}\n",
    "#pessoa.update({\"morada\": \"Freixo\"})  \n",
    "print(pessoa)\n",
    "print(\"tipo:\", type(pessoa))\n"
   ]
  },
  {
   "cell_type": "code",
   "execution_count": null,
   "id": "32b09961",
   "metadata": {},
   "outputs": [
    {
     "name": "stdout",
     "output_type": "stream",
     "text": [
      "<class 'tuple'>\n",
      "<class 'set'>\n",
      "<class 'dict'>\n",
      "---\n",
      "<class 'range'>\n",
      "<class 'str'>\n"
     ]
    }
   ],
   "source": [
    "# Tuplas --> permite Slicing\n",
    "pessoa = (\"nome\", \"Mario\", \"idade\", 56)\n",
    "print(type(pessoa))\n",
    "\n",
    "# Sets --> Nao permite Slicing\n",
    "conjunto={1,\"Mario\",\"Lisboa\",True,3.26}\n",
    "print(type(conjunto))\n",
    "\n",
    "# Dicionário --> Nao permite Slicing\n",
    "dic1={\"Cor\":\"azul\", \"Carro\": \"renault\", \"idade\":90}\n",
    "print(type(dic1))\n",
    "#for chave in dic1:\n",
    "for chave in dic1.values():\n",
    "    print(chave)\n",
    "    \n",
    "print(\"---\")\n",
    "\n",
    "# Range --> permite Slicing\n",
    "x=range(10)\n",
    "print(type(x))\n",
    "\n",
    "# String --> permite Slicing\n",
    "st=\"Torres Vedras\"\n",
    "print(type(st))"
   ]
  },
  {
   "cell_type": "code",
   "execution_count": 101,
   "id": "c399929b",
   "metadata": {},
   "outputs": [
    {
     "name": "stdout",
     "output_type": "stream",
     "text": [
      "2-1-3-2-1-9-3-0-0-2-1-9-9-3-0-2-1-0-9-3-2-1-3-2-9-8-7-8-9-2-1-7-3-2-1-"
     ]
    }
   ],
   "source": [
    "my_string=\"sdfsdfklçsdkfçl2132193'0021993'021093j213298789217321\"\n",
    "for x in my_string:\n",
    "    if x.isdigit():\n",
    "        print(x,end=\"-\")"
   ]
  },
  {
   "cell_type": "code",
   "execution_count": 102,
   "id": "a600fd38",
   "metadata": {},
   "outputs": [
    {
     "name": "stdout",
     "output_type": "stream",
     "text": [
      "6\n",
      "4\n",
      "*\n",
      "4\n",
      "2\n",
      "*\n"
     ]
    }
   ],
   "source": [
    "i = 6\n",
    "while i > 0:\n",
    "    print(i)    # 6 at first iteration, 4 at 2nd iteration\n",
    "    i -= 2\n",
    "    print(i)    # 4 at first iteration, 2 at 2nd iteration\n",
    "    print('*')  # gets executed at first and 2nd iteration\n",
    "    if i == 2:  # True at 2nd iteration\n",
    "        break   #  while-else loop is exited\n",
    "    else:\n",
    "        continue \n",
    "    print('*')  # this line never gets executed because of continue\n",
    "else:\n",
    "    print('*')"
   ]
  },
  {
   "cell_type": "code",
   "execution_count": 108,
   "id": "0d985e19",
   "metadata": {},
   "outputs": [
    {
     "name": "stdout",
     "output_type": "stream",
     "text": [
      "256\n"
     ]
    }
   ],
   "source": [
    "x = 2\n",
    "y = 2\n",
    "z = 3\n",
    "    \n",
    "def my_func(x,y,z=1):\n",
    "    return(x**y**z)\n",
    "    \n",
    "print(my_func(x,y,z))"
   ]
  },
  {
   "cell_type": "code",
   "execution_count": 110,
   "id": "6bb39ea8",
   "metadata": {},
   "outputs": [
    {
     "name": "stdout",
     "output_type": "stream",
     "text": [
      "1\n"
     ]
    }
   ],
   "source": [
    "def myfun(n):\n",
    "    if n%2 == 0:\n",
    "        return 0\n",
    "    else:\n",
    "        return 1 + myfun(n+1)\n",
    "    \n",
    "    \n",
    "print(myfun(5))"
   ]
  },
  {
   "cell_type": "code",
   "execution_count": 114,
   "id": "9c6ebfd5",
   "metadata": {},
   "outputs": [
    {
     "name": "stdout",
     "output_type": "stream",
     "text": [
      "[0, -1, -2, -3, -4, -5, -6, -7, -8, -9]\n",
      "ranges iguis\n",
      "[]\n",
      "range(0, 10)\n"
     ]
    }
   ],
   "source": [
    "# 1\n",
    "print(list(range(0, -10, -1)))\n",
    "\n",
    "# 2\n",
    "if range(0, 3, 2) == range(0,4,2):\n",
    "    print(\"ranges iguis\")\n",
    "    \n",
    "print(list(range(0)))\n",
    "print(range(10))"
   ]
  },
  {
   "cell_type": "code",
   "execution_count": 127,
   "id": "044fc2ae",
   "metadata": {},
   "outputs": [
    {
     "name": "stdout",
     "output_type": "stream",
     "text": [
      "<class 'tuple'>\n",
      "(2,)\n",
      "[2]\n",
      "seti e' um: <class 'set'> ou mais simplesmente:  set\n"
     ]
    }
   ],
   "source": [
    "seti={1,2,3}\n",
    "List = (1, 2, 4, 8)\n",
    "print(type(List))\n",
    "print(List[1:-2])\n",
    "x=List[1:-2]\n",
    "listinha=list(x)\n",
    "print(listinha)\n",
    "\n",
    "print(\"seti e' um:\",type(seti),\"ou mais simplesmente: \",type(seti).__name__)"
   ]
  },
  {
   "cell_type": "code",
   "execution_count": 137,
   "id": "d6e9b285",
   "metadata": {},
   "outputs": [
    {
     "name": "stdout",
     "output_type": "stream",
     "text": [
      "618\n"
     ]
    }
   ],
   "source": [
    "x = range(3, 12, 3)\n",
    "for n in x:\n",
    "    if (n%2 == 0):\n",
    "        print(n, end='')\n",
    "    else:\n",
    "        pass\n",
    "else:\n",
    "    #print(\"\\tsoma:\",sum(x))\n",
    "    print(sum(x))"
   ]
  },
  {
   "cell_type": "code",
   "execution_count": 7,
   "id": "3e6f8776",
   "metadata": {},
   "outputs": [
    {
     "name": "stdout",
     "output_type": "stream",
     "text": [
      "Versão geral: sys.version_info(major=3, minor=13, micro=6, releaselevel='final', serial=0)\n",
      "----\n",
      "Versão compacta: 3.13.6\n"
     ]
    }
   ],
   "source": [
    "import sys, platform\n",
    "\n",
    "#print(platform.python_version())\n",
    "#print(f\"Versão: {sys.version}\")\n",
    "print(f\"Versão geral:\", sys.version_info)\n",
    "print(\"----\")\n",
    "print(f\"Versão compacta: {sys.version_info.major}.{sys.version_info.minor}.{sys.version_info.micro}\")"
   ]
  },
  {
   "cell_type": "code",
   "execution_count": 8,
   "id": "7733a030",
   "metadata": {},
   "outputs": [
    {
     "name": "stdout",
     "output_type": "stream",
     "text": [
      "<class '__main__.Dog'>\n"
     ]
    }
   ],
   "source": [
    "class Animal:\n",
    "    def __init__(self, species):\n",
    "        self.species = species\n",
    "    \n",
    "    def make_sound(self):\n",
    "        pass\n",
    "    \n",
    "    \n",
    "class Dog(Animal):\n",
    "    def __init__(self, breed):\n",
    "        self.breed = breed\n",
    "    \n",
    "    def make_sound(self):\n",
    "        print(\"Woof!\")\n",
    "    \n",
    "    \n",
    "class Cat(Animal):\n",
    "    def __init__(self, color):\n",
    "        self.color = color\n",
    "    \n",
    "    def make_sound(self):\n",
    "        print(\"Meow!\")\n",
    "    \n",
    "    \n",
    "fido = Dog(\"Golden Retriever\")\n",
    "whiskers = Cat(\"Gray\")\n",
    "print(type(fido))"
   ]
  },
  {
   "cell_type": "code",
   "execution_count": 9,
   "id": "8e5852a7",
   "metadata": {},
   "outputs": [
    {
     "name": "stdout",
     "output_type": "stream",
     "text": [
      "Número 1: 14\n",
      "Número 2: 19\n",
      "Número 3: 11\n",
      "Número 4: 17\n",
      "Número 5: 13\n"
     ]
    }
   ],
   "source": [
    "import random\n",
    "\n",
    "# Gera 5 números aleatórios entre 10 e 20\n",
    "for i in range(5):\n",
    "    numero = random.randint(10, 20)\n",
    "    print(f\"Número {i+1}: {numero}\")"
   ]
  },
  {
   "cell_type": "code",
   "execution_count": 21,
   "id": "0d43ded0",
   "metadata": {},
   "outputs": [
    {
     "name": "stdout",
     "output_type": "stream",
     "text": [
      "43"
     ]
    }
   ],
   "source": [
    "from random import randint\n",
    "    \n",
    "for i in range(2):\n",
    "    print(randint(3,4), end='')"
   ]
  },
  {
   "cell_type": "code",
   "execution_count": null,
   "id": "cdb77e11",
   "metadata": {},
   "outputs": [],
   "source": [
    "    s = \"ProCoding\"\n",
    "    print(sorted(s, reverse=True))"
   ]
  }
 ],
 "metadata": {
  "kernelspec": {
   "display_name": "Python 3",
   "language": "python",
   "name": "python3"
  },
  "language_info": {
   "codemirror_mode": {
    "name": "ipython",
    "version": 3
   },
   "file_extension": ".py",
   "mimetype": "text/x-python",
   "name": "python",
   "nbconvert_exporter": "python",
   "pygments_lexer": "ipython3",
   "version": "3.13.6"
  }
 },
 "nbformat": 4,
 "nbformat_minor": 5
}
