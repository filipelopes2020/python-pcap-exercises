{
 "cells": [
  {
   "cell_type": "code",
   "execution_count": 10,
   "id": "89eed012",
   "metadata": {},
   "outputs": [
    {
     "name": "stdout",
     "output_type": "stream",
     "text": [
      "[0, 0, 1, 0, 1, 2]\n",
      "[0, 0, 1, 0, 1, 2]\n"
     ]
    }
   ],
   "source": [
    "def fun(n):\n",
    "    for i in range(n):\n",
    "        for j in range(i):\n",
    "            yield j\n",
    "\n",
    "n=4\n",
    "print(list(fun(n)))  # OK\n",
    "\n",
    "\n",
    "gen = (j for i in range(n) for j in range(i))\n",
    "print(list(gen))     # NameError se \"n\" não existir no global"
   ]
  },
  {
   "cell_type": "code",
   "execution_count": 24,
   "id": "da4c12b2",
   "metadata": {},
   "outputs": [
    {
     "name": "stdout",
     "output_type": "stream",
     "text": [
      "4\n",
      "['line 1\\n', 'line 2\\n', 'line 3\\n', 'line 4']\n"
     ]
    }
   ],
   "source": [
    "with open(\"file.txt\", \"w\") as f:\n",
    "    f.write(\"line 1\\nline 2\\nline 3\")\n",
    "    \n",
    "with open(\"file.txt\", \"r\") as f:\n",
    "    lines = f.readlines()\n",
    "    \n",
    "with open(\"file.txt\", \"a+\") as f:\n",
    "    f.write(\"\\nline 4\")\n",
    "    f.seek(0)\n",
    "    lines = f.readlines()\n",
    "\n",
    "    \n",
    "print(len(lines))\n",
    "print(lines)"
   ]
  },
  {
   "cell_type": "code",
   "execution_count": 34,
   "id": "af7e0383",
   "metadata": {},
   "outputs": [
    {
     "name": "stdout",
     "output_type": "stream",
     "text": [
      "A\n",
      "[<class '__main__.D'>, <class '__main__.B'>, <class '__main__.A'>, <class 'object'>]\n",
      "[<class '__main__.D'>, <class '__main__.B'>, <class '__main__.A'>, <class 'object'>]\n",
      "['__class__', '__delattr__', '__dict__', '__dir__', '__doc__', '__eq__', '__format__', '__ge__', '__getattribute__', '__getstate__', '__gt__', '__hash__', '__init__', '__init_subclass__', '__le__', '__lt__', '__module__', '__ne__', '__new__', '__reduce__', '__reduce_ex__', '__repr__', '__setattr__', '__sizeof__', '__str__', '__subclasshook__', '__weakref__', 'foo']\n",
      "None\n"
     ]
    }
   ],
   "source": [
    "class A:\n",
    "\tdef foo(self):\n",
    "\t\tprint(\"A\")\n",
    " \n",
    "class B(A):\n",
    "\tpass\n",
    " \n",
    "class C(A):\n",
    "\tdef foo(self):\n",
    "\t\tprint(\"C\")\n",
    " \n",
    "class D(B):\n",
    "\tpass\n",
    " \n",
    "obj = D()\n",
    "obj.foo()\n",
    "\n",
    "print(obj.__class__.mro())\n",
    "print(D.mro())\n",
    "print(print(dir(obj.__class__)))"
   ]
  },
  {
   "cell_type": "code",
   "execution_count": 35,
   "id": "c91b4b27",
   "metadata": {},
   "outputs": [
    {
     "name": "stdout",
     "output_type": "stream",
     "text": [
      "Erro crítico (Código: 500)\n"
     ]
    }
   ],
   "source": [
    "class MinhaExcecao(Exception):\n",
    "    def __init__(self, mensagem, codigo_erro=None):\n",
    "        super().__init__(mensagem)\n",
    "        self.codigo_erro = codigo_erro\n",
    "        # Você pode adicionar atributos adicionais\n",
    "\n",
    "# Uso\n",
    "try:\n",
    "    raise MinhaExcecao(\"Erro crítico\", 500)\n",
    "except MinhaExcecao as e:\n",
    "    print(f\"{e} (Código: {e.codigo_erro})\")"
   ]
  },
  {
   "cell_type": "code",
   "execution_count": 51,
   "id": "a76a5452",
   "metadata": {},
   "outputs": [
    {
     "name": "stdout",
     "output_type": "stream",
     "text": [
      "30\n",
      "{'y': 30}\n"
     ]
    }
   ],
   "source": [
    "class MyClass:\n",
    "    x = 10\n",
    "    \n",
    "    def __init__(self, y):\n",
    "        self.y = y\n",
    "        z=y\n",
    "        \n",
    "    def test(self):\n",
    "        self.y += 10\n",
    "        \n",
    "obj = MyClass(20)\n",
    "obj.test()\n",
    "print(obj.y)\n",
    "print(obj.__dict__)"
   ]
  },
  {
   "cell_type": "code",
   "execution_count": 63,
   "id": "326e2b6f",
   "metadata": {},
   "outputs": [
    {
     "name": "stdout",
     "output_type": "stream",
     "text": [
      "Mind?\n"
     ]
    }
   ],
   "source": [
    "s1 = 'Where Is My Mind?'\n",
    "s2 = s1.split()\n",
    "print(s2[-1])"
   ]
  },
  {
   "cell_type": "code",
   "execution_count": 78,
   "id": "8f518fe9",
   "metadata": {},
   "outputs": [
    {
     "name": "stdout",
     "output_type": "stream",
     "text": [
      "mario\n"
     ]
    }
   ],
   "source": [
    "x=\"Mario\"\n",
    "print(x.lower())"
   ]
  },
  {
   "cell_type": "code",
   "execution_count": 93,
   "id": "e435fb74",
   "metadata": {},
   "outputs": [
    {
     "name": "stdout",
     "output_type": "stream",
     "text": [
      "False\n",
      "True\n",
      "False\n",
      "{'x': 10}\n"
     ]
    }
   ],
   "source": [
    "class A:\n",
    "    value = \"Jedan\"\n",
    "    \n",
    "    def say(self):\n",
    "        return self.value.lower()\n",
    "    \n",
    "class B(A):\n",
    "    value = \"Dva\"\n",
    "    \n",
    "class C(A):\n",
    "    def __init__(self):\n",
    "        super().__init__()\n",
    "        self.x = 10\n",
    "        p = A.value\n",
    "        \n",
    "    def say(self):\n",
    "        return self.value.upper()\n",
    "    \n",
    "class D(C, B):\n",
    "    pass\n",
    "    \n",
    "d = D()\n",
    "b = B()\n",
    "c = C()\n",
    "    \n",
    "print(b.say == \"Jedan\")\n",
    "print(d.value == \"Dva\")\n",
    "print(isinstance(b, D))\n",
    "\n",
    "print(c.__dict__)\n"
   ]
  },
  {
   "cell_type": "code",
   "execution_count": 94,
   "id": "2019cc9f",
   "metadata": {},
   "outputs": [
    {
     "name": "stdout",
     "output_type": "stream",
     "text": [
      "{'nome': 'Ana', 'idade': 30}\n"
     ]
    }
   ],
   "source": [
    "class Pessoa:\n",
    "    def __init__(self, nome, idade):\n",
    "        self.nome = nome\n",
    "        self.idade = idade\n",
    "\n",
    "p = Pessoa(\"Ana\", 30)\n",
    "\n",
    "# Acessando __dict__\n",
    "print(p.__dict__)"
   ]
  },
  {
   "cell_type": "code",
   "execution_count": 98,
   "id": "f5e15668",
   "metadata": {},
   "outputs": [
    {
     "name": "stdout",
     "output_type": "stream",
     "text": [
      "('Unsupported operand type(s) for /: ', <class 'int'>, ' and ', <class 'str'>)\n"
     ]
    }
   ],
   "source": [
    "def divide(a, b):\n",
    "    try:\n",
    "        result = a / b\n",
    "    except TypeError:\n",
    "        return(f\"Unsupported operand type(s) for /: \", type(a), \" and \", type(b))\n",
    "        \n",
    "    except ZeroDivisionError:\n",
    "        print(\"Division by zero is not allowed.\")\n",
    "    else:\n",
    "        return result\n",
    "print(divide(10, '2'))\n"
   ]
  },
  {
   "cell_type": "code",
   "execution_count": 110,
   "id": "9af79a01",
   "metadata": {},
   "outputs": [
    {
     "name": "stdout",
     "output_type": "stream",
     "text": [
      "joao 10\n",
      "21\n",
      "32\n",
      "43\n"
     ]
    }
   ],
   "source": [
    "class Pessoa:\n",
    "    X = 10\n",
    "    def __init__(self, nome):\n",
    "        # Variáveis de instância\n",
    "        self.nome = nome      # Variável de instância\n",
    "    def mudaX (self):\n",
    "        Pessoa.X += 1\n",
    "        self.__class__.X += 10\n",
    "        \n",
    "p = Pessoa(\"joao\")\n",
    "p2 = Pessoa(\"Mariana\")\n",
    "\n",
    "print(p.nome, p.X)\n",
    "p.mudaX()\n",
    "print(p2.X)\n",
    "p.mudaX()\n",
    "print(p2.X)\n",
    "p.mudaX()\n",
    "print(p2.X)"
   ]
  },
  {
   "cell_type": "code",
   "execution_count": null,
   "id": "91569dc8",
   "metadata": {},
   "outputs": [],
   "source": [
    "class Animal:\n",
    "    pass\n",
    "    \n",
    "class Cat(Animal):\n",
    "    pass\n",
    "\n",
    "# Garfield herda de Cat e Animal\n",
    "class Garfield(Cat, Animal):\n",
    "    pass\n",
    "\n",
    "print(Cat.__name__, 'is a', Animal.__name__)\n",
    "print(Cat.__bases__[0].__name__, 'can be a', Animal.__name__)\n",
    "\n",
    "# Mostrando todas as superclasses de Garfield\n",
    "print(\"Garfield inherits from:\")\n",
    "for base in Garfield.__bases__:\n",
    "    print(\"-\", base.__name__)\n",
    "    \n",
    "for i in range(len(Garfield.__bases__)):\n",
    "    print(\"Classe: \", Garfield.__bases__[i].__name__)\n",
    "    \n",
    "print(Garfield.__bases__)\n",
    "print(dir(Garfield))"
   ]
  },
  {
   "cell_type": "code",
   "execution_count": 123,
   "id": "2c996e40",
   "metadata": {},
   "outputs": [
    {
     "name": "stdout",
     "output_type": "stream",
     "text": [
      "hello hello hello "
     ]
    }
   ],
   "source": [
    "def repeat(s):\n",
    "    while True:\n",
    "        yield s\n",
    "    \n",
    "r = repeat(\"hello\")\n",
    "for i in range(3):\n",
    "    print(next(r), end=\" \")"
   ]
  },
  {
   "cell_type": "code",
   "execution_count": 2,
   "id": "5b4cc63e",
   "metadata": {},
   "outputs": [
    {
     "name": "stdout",
     "output_type": "stream",
     "text": [
      "bcdefgh\n"
     ]
    }
   ],
   "source": [
    "s = \"abcdefg\"\n",
    "for i in range(len(s)):\n",
    "    s = s[:i] + chr(ord(s[i]) + 1) + s[i+1:]\n",
    "print(s)"
   ]
  },
  {
   "cell_type": "code",
   "execution_count": 11,
   "id": "e66dac7c",
   "metadata": {},
   "outputs": [
    {
     "name": "stdout",
     "output_type": "stream",
     "text": [
      "True\n"
     ]
    }
   ],
   "source": [
    "class A:\n",
    "    pass\n",
    "    \n",
    "class B(A):\n",
    "    pass\n",
    "    \n",
    "class C(B):\n",
    "    pass\n",
    "    \n",
    "obj = C()\n",
    "print(isinstance(obj, A))"
   ]
  },
  {
   "cell_type": "code",
   "execution_count": 13,
   "id": "be7f8257",
   "metadata": {},
   "outputs": [
    {
     "name": "stdout",
     "output_type": "stream",
     "text": [
      "True\n",
      "True\n"
     ]
    },
    {
     "ename": "SystemExit",
     "evalue": "",
     "output_type": "error",
     "traceback": [
      "An exception has occurred, use %tb to see the full traceback.\n",
      "\u001b[31mSystemExit\u001b[39m\n"
     ]
    },
    {
     "name": "stderr",
     "output_type": "stream",
     "text": [
      "C:\\Users\\mario\\AppData\\Local\\Packages\\PythonSoftwareFoundation.Python.3.11_qbz5n2kfra8p0\\LocalCache\\local-packages\\Python311\\site-packages\\IPython\\core\\interactiveshell.py:3707: UserWarning: To exit: use 'exit', 'quit', or Ctrl-D.\n",
      "  warn(\"To exit: use 'exit', 'quit', or Ctrl-D.\", stacklevel=1)\n"
     ]
    }
   ],
   "source": [
    "import inspect,sys\n",
    "\n",
    "class MinhaClasse:\n",
    "    pass\n",
    "\n",
    "class MinhaClasse2(MinhaClasse):\n",
    "    pass\n",
    "\n",
    "obj = MinhaClasse()\n",
    "\n",
    "# Verificando se é uma classe\n",
    "print(inspect.isclass(MinhaClasse))  # True\n",
    "print(inspect.isclass(MinhaClasse2))  # True\n",
    "sys.exit()\n",
    "print(inspect.isclass(obj))          # False\n",
    "print(inspect.isclass(str))          # True\n",
    "print(inspect.isclass(int))          # True\n",
    "print(inspect.isclass(\"hello\"))      # False\n"
   ]
  },
  {
   "cell_type": "code",
   "execution_count": 30,
   "id": "7bdd7ea4",
   "metadata": {},
   "outputs": [
    {
     "name": "stdout",
     "output_type": "stream",
     "text": [
      "[2, 13, 12, 4, 5]\n"
     ]
    }
   ],
   "source": [
    "import random\n",
    "my_list = random.sample(range(1, 14), 5)\n",
    "print(my_list)"
   ]
  },
  {
   "cell_type": "code",
   "execution_count": 36,
   "id": "c6037611",
   "metadata": {},
   "outputs": [
    {
     "name": "stdout",
     "output_type": "stream",
     "text": [
      "4\n"
     ]
    }
   ],
   "source": [
    "import random\n",
    "my_list = random.randint(0, 13)\n",
    "print(my_list)"
   ]
  },
  {
   "cell_type": "code",
   "execution_count": 46,
   "id": "93ae4084",
   "metadata": {},
   "outputs": [
    {
     "name": "stdout",
     "output_type": "stream",
     "text": [
      "Windows-10-10.0.26100-SP0\n",
      "10.0.26100\n",
      "Windows\n",
      "10\n",
      "Windows 11 (detectado pelo build number)\n"
     ]
    }
   ],
   "source": [
    "import platform\n",
    "print(platform.platform())\n",
    "print(platform.version())\n",
    "#for i in dir(platform):\n",
    "#    print(i, end=\"\\n\")\n",
    "print(platform.system())\n",
    "print(platform.release())\n",
    "\n",
    "\n",
    "import sys\n",
    "\n",
    "if platform.system() == \"Windows\":\n",
    "    version = platform.version()\n",
    "    build_number = int(version.split('.')[-1]) if version else 0\n",
    "    if build_number >= 22000:  # Builds do Windows 11\n",
    "        print(\"Windows 11 (detectado pelo build number)\")\n",
    "    else:\n",
    "        print(\"Windows 10 ou anterior\")"
   ]
  },
  {
   "cell_type": "code",
   "execution_count": 52,
   "id": "108e2953",
   "metadata": {},
   "outputs": [
    {
     "name": "stdout",
     "output_type": "stream",
     "text": [
      "Title: 1984\n",
      "Author: George Orwell\n",
      "Genre: Dystopian Fiction\n"
     ]
    }
   ],
   "source": [
    "class Book:\n",
    "    def __init__(self, title, author):\n",
    "        self.title = title\n",
    "        self.author = author\n",
    "    \n",
    "    def print_info(self):\n",
    "        print(f\"Title: {self.title}\")\n",
    "        print(f\"Author: {self.author}\")\n",
    "    \n",
    "    \n",
    "class Novel(Book):\n",
    "    def __init__(self, title, author, genre):\n",
    "        super().__init__(title, author)  # chama o construtor da classe base\n",
    "        self.genre = genre\n",
    "            \n",
    "    def print_info(self):\n",
    "        super().print_info()  # imprime title e author\n",
    "        print(f\"Genre: {self.genre}\")  # imprime o gênero        \n",
    "    \n",
    "n = Novel(\"1984\", \"George Orwell\", \"Dystopian Fiction\")\n",
    "n.print_info()"
   ]
  },
  {
   "cell_type": "code",
   "execution_count": 57,
   "id": "8672898c",
   "metadata": {},
   "outputs": [
    {
     "name": "stdout",
     "output_type": "stream",
     "text": [
      "22\n"
     ]
    }
   ],
   "source": [
    "class A:\n",
    "    def __init__(self, n):\n",
    "        self.x = n    \n",
    " \n",
    "    def m1(self):\n",
    "        return self.x + 1\n",
    "    \n",
    "    def m2(self):\n",
    "        return self.m1() * 2\n",
    "        #return m1(self) * 2      # NameError\n",
    "        #return self.m1(self) * 2 # TypeError\n",
    "        #return m1() * 2          # NameError\n",
    "    \n",
    "obj = A(10)\n",
    " \n",
    "print(obj.m2())\n",
    " "
   ]
  },
  {
   "cell_type": "code",
   "execution_count": null,
   "id": "710c2fc4",
   "metadata": {},
   "outputs": [
    {
     "name": "stdout",
     "output_type": "stream",
     "text": [
      "True\n"
     ]
    },
    {
     "ename": "NameError",
     "evalue": "name '__init__' is not defined",
     "output_type": "error",
     "traceback": [
      "\u001b[31m---------------------------------------------------------------------------\u001b[39m",
      "\u001b[31mNameError\u001b[39m                                 Traceback (most recent call last)",
      "\u001b[36mCell\u001b[39m\u001b[36m \u001b[39m\u001b[32mIn[65]\u001b[39m\u001b[32m, line 8\u001b[39m\n\u001b[32m      5\u001b[39m obj = A()\n\u001b[32m      7\u001b[39m \u001b[38;5;28mprint\u001b[39m(\u001b[38;5;28mhasattr\u001b[39m(obj, \u001b[33m'\u001b[39m\u001b[33ma\u001b[39m\u001b[33m'\u001b[39m))\n\u001b[32m----> \u001b[39m\u001b[32m8\u001b[39m \u001b[38;5;28mprint\u001b[39m(\u001b[38;5;28mhasattr\u001b[39m(obj,\u001b[34;43m__init__\u001b[39;49m ))\n\u001b[32m      9\u001b[39m \u001b[38;5;28mprint\u001b[39m(\u001b[38;5;28mdir\u001b[39m(obj))\n",
      "\u001b[31mNameError\u001b[39m: name '__init__' is not defined"
     ]
    }
   ],
   "source": [
    "\n",
    "class A:    \n",
    "    def __init__(self):\n",
    "        self.a = 0\n",
    "    \n",
    "obj = A()\n",
    "    \n",
    "print(hasattr(obj, 'a'))\n",
    "print(dir(obj))\n",
    "    \n"
   ]
  },
  {
   "cell_type": "code",
   "execution_count": null,
   "id": "15bd0436",
   "metadata": {},
   "outputs": [
    {
     "name": "stdout",
     "output_type": "stream",
     "text": [
      "Python\n",
      "Viper\n",
      "None\n"
     ]
    }
   ],
   "source": [
    "class A:\n",
    "    def m1(self):\n",
    "        return \"Python\"\n",
    "        \n",
    "    def m2(self):\n",
    "        print(\"Viper\")\n",
    "        \n",
    "obj = A()\n",
    "    \n",
    "print(obj.m1())\n",
    "print(obj.m2())"
   ]
  },
  {
   "cell_type": "code",
   "execution_count": 69,
   "id": "e04f628b",
   "metadata": {},
   "outputs": [
    {
     "name": "stdout",
     "output_type": "stream",
     "text": [
      "['Hickory Dickory Dock,\\n', 'The mouse ran up the clock.\\n', 'The clock struck one;\\n', 'The mouse did run.\\n', 'Hickory Dickory Dock. \\n']\n"
     ]
    }
   ],
   "source": [
    "strm = open('limerick.txt')\n",
    "text = strm.readlines()  # devolve lista com cada linha\n",
    "#text = strm.read()        \n",
    "strm.close()\n",
    "    \n",
    "print(text)"
   ]
  },
  {
   "cell_type": "code",
   "execution_count": null,
   "id": "af6b9595",
   "metadata": {},
   "outputs": [],
   "source": [
    "n = 0\n",
    "    \n",
    "for i in \"Viper\" * 2:\n",
    "    if i in \"Snake\":\n",
    "        n += 1\n",
    "    \n",
    "print(n)"
   ]
  },
  {
   "cell_type": "code",
   "execution_count": 74,
   "id": "2a613290",
   "metadata": {},
   "outputs": [
    {
     "name": "stdout",
     "output_type": "stream",
     "text": [
      "*\n",
      "**\n"
     ]
    }
   ],
   "source": [
    "def fun(n):\n",
    "    c = '*'\n",
    "    for i in range(1, n):\n",
    "        str = c * i\n",
    "        yield str\n",
    "    \n",
    "for x in fun(3):\n",
    "    print(x)  "
   ]
  },
  {
   "cell_type": "code",
   "execution_count": 75,
   "id": "3fdbf802",
   "metadata": {},
   "outputs": [
    {
     "name": "stdout",
     "output_type": "stream",
     "text": [
      "Mensagem normal\n"
     ]
    },
    {
     "name": "stderr",
     "output_type": "stream",
     "text": [
      "Mensagem de erro\n"
     ]
    }
   ],
   "source": [
    "import sys\n",
    "\n",
    "print(\"Mensagem normal\")               # vai para stdout (default)\n",
    "print(\"Mensagem de erro\", file=sys.stderr)  # vai para stderr"
   ]
  },
  {
   "cell_type": "code",
   "execution_count": 78,
   "id": "449bbcb3",
   "metadata": {},
   "outputs": [
    {
     "name": "stdout",
     "output_type": "stream",
     "text": [
      "['I', 'd love to join your team, but I', 'm afraid I can', 't.']\n",
      "4\n"
     ]
    }
   ],
   "source": [
    "list1 = \"I'd love to join your team, but I'm afraid I can't.\".split(\"'\")\n",
    "print(list1)\n",
    "print(len(list1))"
   ]
  },
  {
   "cell_type": "code",
   "execution_count": 96,
   "id": "1317a7f1",
   "metadata": {},
   "outputs": [
    {
     "ename": "TypeError",
     "evalue": "C.__init__() got an unexpected keyword argument 'y'",
     "output_type": "error",
     "traceback": [
      "\u001b[31m---------------------------------------------------------------------------\u001b[39m",
      "\u001b[31mTypeError\u001b[39m                                 Traceback (most recent call last)",
      "\u001b[36mCell\u001b[39m\u001b[36m \u001b[39m\u001b[32mIn[96]\u001b[39m\u001b[32m, line 17\u001b[39m\n\u001b[32m     15\u001b[39m         \u001b[38;5;28mself\u001b[39m.x=val\n\u001b[32m     16\u001b[39m         \u001b[38;5;66;03m#self.y=10\u001b[39;00m\n\u001b[32m---> \u001b[39m\u001b[32m17\u001b[39m x=\u001b[43mD\u001b[49m\u001b[43m(\u001b[49m\u001b[43m)\u001b[49m\n\u001b[32m     18\u001b[39m \u001b[38;5;28mprint\u001b[39m(\u001b[38;5;28missubclass\u001b[39m(D, C), end = \u001b[33m\"\u001b[39m\u001b[33m \u001b[39m\u001b[33m\"\u001b[39m)\n\u001b[32m     19\u001b[39m \u001b[38;5;28mprint\u001b[39m(\u001b[38;5;28missubclass\u001b[39m(D, A), end = \u001b[33m\"\u001b[39m\u001b[33m \u001b[39m\u001b[33m\"\u001b[39m)\n",
      "\u001b[36mCell\u001b[39m\u001b[36m \u001b[39m\u001b[32mIn[96]\u001b[39m\u001b[32m, line 14\u001b[39m, in \u001b[36mD.__init__\u001b[39m\u001b[34m(self, val)\u001b[39m\n\u001b[32m     13\u001b[39m \u001b[38;5;28;01mdef\u001b[39;00m\u001b[38;5;250m \u001b[39m\u001b[34m__init__\u001b[39m(\u001b[38;5;28mself\u001b[39m,val=\u001b[32m11\u001b[39m):\n\u001b[32m---> \u001b[39m\u001b[32m14\u001b[39m     \u001b[38;5;28;43msuper\u001b[39;49m\u001b[43m(\u001b[49m\u001b[43m)\u001b[49m\u001b[43m.\u001b[49m\u001b[34;43m__init__\u001b[39;49m\u001b[43m(\u001b[49m\u001b[43my\u001b[49m\u001b[43m=\u001b[49m\u001b[43mval\u001b[49m\u001b[43m)\u001b[49m  \u001b[38;5;66;03m# passa o argumento correto para C\u001b[39;00m\n\u001b[32m     15\u001b[39m     \u001b[38;5;28mself\u001b[39m.x=val\n",
      "\u001b[31mTypeError\u001b[39m: C.__init__() got an unexpected keyword argument 'y'"
     ]
    }
   ],
   "source": [
    "class A:\n",
    "    pass\n",
    "    \n",
    "class B:\n",
    "    pass\n",
    "    \n",
    "class C(A):\n",
    "    def __init__(self, a=1,b=2):\n",
    "        self.x = a \n",
    "        self.y = b\n",
    "    \n",
    "class D(C):\n",
    "    def __init__(self,val=11):\n",
    "        super().__init__(y=val)  # passa o argumento correto para C\n",
    "        self.x=val\n",
    "        #self.y=10\n",
    "x=D()\n",
    "print(issubclass(D, C), end = \" \")\n",
    "print(issubclass(D, A), end = \" \")\n",
    "print(issubclass(A, A), end = \" \")\n",
    "print(issubclass(D, B), end = \" \")\n",
    "print(issubclass(D, (A, B,C)))\n",
    "\n",
    "print(\"---\")\n",
    "print(hasattr(x, \"x\"))\n",
    "print(hasattr(x, \"y\"))\n",
    "print(x.x, x.y)"
   ]
  },
  {
   "cell_type": "code",
   "execution_count": 98,
   "id": "af23153d",
   "metadata": {},
   "outputs": [
    {
     "name": "stdout",
     "output_type": "stream",
     "text": [
      "1\n"
     ]
    }
   ],
   "source": [
    "print(0**0)"
   ]
  },
  {
   "cell_type": "code",
   "execution_count": 105,
   "id": "f52c125b",
   "metadata": {},
   "outputs": [
    {
     "name": "stdout",
     "output_type": "stream",
     "text": [
      "2\n"
     ]
    }
   ],
   "source": [
    "f = lambda x, y: None\n",
    "g = lambda x, y: x**3-2*y\n",
    "print(g(2,3))"
   ]
  },
  {
   "cell_type": "code",
   "execution_count": 106,
   "id": "2e01a018",
   "metadata": {},
   "outputs": [
    {
     "name": "stdout",
     "output_type": "stream",
     "text": [
      "True\n"
     ]
    }
   ],
   "source": [
    "print(\"olapa\">\"ola\")"
   ]
  },
  {
   "cell_type": "code",
   "execution_count": 115,
   "id": "0ce76f4d",
   "metadata": {},
   "outputs": [
    {
     "name": "stdout",
     "output_type": "stream",
     "text": [
      "B\n",
      "(<class '__main__.C'>, <class '__main__.B'>, <class '__main__.A'>, <class 'object'>)\n"
     ]
    }
   ],
   "source": [
    "class A:\n",
    "    def m(self):\n",
    "        print(\"A\", end = \"\")\n",
    "    \n",
    "class B(A):\n",
    "    def m(self):\n",
    "        print(\"B\")\n",
    "    \n",
    "class C(B,A):\n",
    "    pass\n",
    "    \n",
    "obj = C()\n",
    "obj.m()\n",
    "print(C.__mro__)"
   ]
  },
  {
   "cell_type": "code",
   "execution_count": 131,
   "id": "242cf4a2",
   "metadata": {},
   "outputs": [
    {
     "name": "stdout",
     "output_type": "stream",
     "text": [
      "100\n",
      "11\n",
      "11\n",
      "11\n"
     ]
    }
   ],
   "source": [
    "class A:\n",
    "    x = 11    \n",
    "    def __init__(self):\n",
    "        x = 10\n",
    "        self.x = 100\n",
    "                \n",
    "        \n",
    "az = A()\n",
    "print(az.x)\n",
    "print(az.__class__.x)  # Output: 1\n",
    "print(type(az).x)  # Output: 1\n",
    "print(A.x)\n"
   ]
  },
  {
   "cell_type": "code",
   "execution_count": 120,
   "id": "6f3df673",
   "metadata": {},
   "outputs": [
    {
     "name": "stdout",
     "output_type": "stream",
     "text": [
      "42\n"
     ]
    }
   ],
   "source": [
    "class MinhaClasse:\n",
    "    def __init__(self):\n",
    "        self.__privada = 42\n",
    "        self._protegida = 99\n",
    "\n",
    "obj = MinhaClasse()\n",
    "\n",
    "print(obj._MinhaClasse__privada)  # 42"
   ]
  },
  {
   "cell_type": "code",
   "execution_count": 132,
   "id": "c4a7a879",
   "metadata": {},
   "outputs": [
    {
     "name": "stdout",
     "output_type": "stream",
     "text": [
      "100\n",
      "1\n",
      "1\n",
      "1\n"
     ]
    }
   ],
   "source": [
    "class A:\n",
    "\tx = 1  # Variável de classe\n",
    "\t\n",
    "\tdef __init__(self):\n",
    "\t\tx = 10  # Variável local (não acessível fora deste método)\n",
    "\t\tself.x = 100  # Variável de instância\n",
    "\n",
    "obj = A()\n",
    "print(obj.x)          # 100 (variável de instância)\n",
    "#\n",
    "print(A.x)            # 1 (variável de classe)\n",
    "print(obj.__class__.x) # 1 (variável de classe)\n",
    "print(type(obj).x)    # 1 (variável de classe)\n"
   ]
  },
  {
   "cell_type": "code",
   "execution_count": 136,
   "id": "f6f3c7b8",
   "metadata": {},
   "outputs": [
    {
     "name": "stdout",
     "output_type": "stream",
     "text": [
      "10\n"
     ]
    }
   ],
   "source": [
    "class A:\n",
    "    def __init__(batatas):\n",
    "        batatas.x = 10\n",
    "        \n",
    "aa = A()\n",
    "    \n",
    "print(aa.x)"
   ]
  },
  {
   "cell_type": "code",
   "execution_count": 153,
   "id": "8e0f2e15",
   "metadata": {},
   "outputs": [
    {
     "name": "stdout",
     "output_type": "stream",
     "text": [
      "Meu nome é Miguel\n",
      "Meu nome é Joe\n",
      "{'nome': 'Joe'}\n"
     ]
    }
   ],
   "source": [
    "# Funciona, mas NÃO RECOMENDADO:\n",
    "class Pessoa:\n",
    "    def __init__(eu, nome):\n",
    "        eu.nome = nome\n",
    "    \n",
    "    def apresentar(eu):\n",
    "        return(f\"Meu nome é {eu.nome}\")\n",
    "\n",
    "# RECOMENDADO (convenção padrão):\n",
    "class Pessoa2:\n",
    "    k = 10\n",
    "    def __init__(self, nome):\n",
    "        p = 10\n",
    "        self.nome = nome\n",
    "    \n",
    "    def apresentar(self):\n",
    "        return (f\"Meu nome é {self.nome}\")\n",
    "        \n",
    "p1=Pessoa(\"Miguel\")\n",
    "print(p1.apresentar())\n",
    "\n",
    "p2=Pessoa(\"Joe\")\n",
    "print(p2.apresentar())\n",
    "print(p2.__dict__)"
   ]
  },
  {
   "cell_type": "code",
   "execution_count": 146,
   "id": "28a7b974",
   "metadata": {},
   "outputs": [
    {
     "name": "stdout",
     "output_type": "stream",
     "text": [
      "['__doc__', '__loader__', '__name__', '__package__', '__spec__', 'acos', 'acosh', 'asin', 'asinh', 'atan', 'atan2', 'atanh', 'cbrt', 'ceil', 'comb', 'copysign', 'cos', 'cosh', 'degrees', 'dist', 'e', 'erf', 'erfc', 'exp', 'exp2', 'expm1', 'fabs', 'factorial', 'floor', 'fmod', 'frexp', 'fsum', 'gamma', 'gcd', 'hypot', 'inf', 'isclose', 'isfinite', 'isinf', 'isnan', 'isqrt', 'lcm', 'ldexp', 'lgamma', 'log', 'log10', 'log1p', 'log2', 'modf', 'nan', 'nextafter', 'perm', 'pi', 'pow', 'prod', 'radians', 'remainder', 'sin', 'sinh', 'sqrt', 'tan', 'tanh', 'tau', 'trunc', 'ulp']\n"
     ]
    }
   ],
   "source": [
    "#from math import *\n",
    "import math\n",
    "    \n",
    "print(dir(math))"
   ]
  },
  {
   "cell_type": "code",
   "execution_count": null,
   "id": "0f02da90",
   "metadata": {},
   "outputs": [
    {
     "name": "stdout",
     "output_type": "stream",
     "text": [
      "['acos', 'acosh', 'asin', 'asinh', 'atan', 'atan2', 'atanh', 'cbrt', 'ceil', 'comb', 'copysign', 'cos', 'cosh', 'degrees', 'dist', 'e', 'erf', 'erfc', 'exp', 'exp2', 'expm1', 'fabs', 'factorial', 'floor', 'fmod', 'frexp', 'fsum', 'gamma', 'gcd', 'hypot', 'inf', 'isclose', 'isfinite', 'isinf', 'isnan', 'isqrt', 'lcm', 'ldexp', 'lgamma', 'log', 'log10', 'log1p', 'log2', 'modf', 'nan', 'nextafter', 'perm', 'pi', 'pow', 'prod', 'radians', 'remainder', 'sin', 'sinh', 'sqrt', 'tan', 'tanh', 'tau', 'trunc', 'ulp']\n"
     ]
    },
    {
     "ename": "",
     "evalue": "",
     "output_type": "error",
     "traceback": [
      "\u001b[1;31mThe Kernel crashed while executing code in the current cell or a previous cell. \n",
      "\u001b[1;31mPlease review the code in the cell(s) to identify a possible cause of the failure. \n",
      "\u001b[1;31mClick <a href='https://aka.ms/vscodeJupyterKernelCrash'>here</a> for more info. \n",
      "\u001b[1;31mView Jupyter <a href='command:jupyter.viewOutput'>log</a> for further details."
     ]
    }
   ],
   "source": [
    "import math\n",
    "\n",
    "# Filtrando apenas os nomes que não começam com '__'\n",
    "funcoes_publicas = [nome for nome in dir(math) if not nome.startswith('__')]\n",
    "print(funcoes_publicas)"
   ]
  }
 ],
 "metadata": {
  "kernelspec": {
   "display_name": "Python 3",
   "language": "python",
   "name": "python3"
  },
  "language_info": {
   "codemirror_mode": {
    "name": "ipython",
    "version": 3
   },
   "file_extension": ".py",
   "mimetype": "text/x-python",
   "name": "python",
   "nbconvert_exporter": "python",
   "pygments_lexer": "ipython3",
   "version": "3.11.9"
  }
 },
 "nbformat": 4,
 "nbformat_minor": 5
}
