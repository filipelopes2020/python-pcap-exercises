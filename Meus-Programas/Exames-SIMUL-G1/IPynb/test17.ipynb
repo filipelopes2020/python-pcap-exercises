{
 "cells": [
  {
   "cell_type": "code",
   "execution_count": 2,
   "id": "93e62ad6",
   "metadata": {},
   "outputs": [
    {
     "name": "stdout",
     "output_type": "stream",
     "text": [
      "14\n"
     ]
    }
   ],
   "source": [
    "class A:\n",
    "    def __init__(self, n1, n2):\n",
    "        self.x = n1\n",
    "        self.y = n2\n",
    "    def a(self):\n",
    "        return self.x * self.y \n",
    "    def b(self):\n",
    "        return self.x ** self.y\n",
    "    \n",
    "obj = A(2, 3)\n",
    "y = obj.a() + obj.b()\n",
    " \n",
    "print(y)\n",
    " \n"
   ]
  },
  {
   "cell_type": "code",
   "execution_count": 20,
   "id": "5866b4b0",
   "metadata": {},
   "outputs": [
    {
     "name": "stdout",
     "output_type": "stream",
     "text": [
      "{'a': 1000}\n"
     ]
    }
   ],
   "source": [
    "class A:\n",
    "    p = 120\n",
    "    #def __init__(self):\n",
    "    #    self.k = 210\n",
    "    def m(self):\n",
    "        self.a = 1000\n",
    "    \n",
    "obj = A()\n",
    "obj.m()\n",
    "print(obj.__dict__)\n",
    "\n",
    "\n"
   ]
  },
  {
   "cell_type": "code",
   "execution_count": 23,
   "id": "016ea2f2",
   "metadata": {},
   "outputs": [
    {
     "name": "stdout",
     "output_type": "stream",
     "text": [
      "{'a': 1000, 'm': <bound method A.m of <__main__.A object at 0x0000027D45802A50>>}\n",
      "método m 9)\n"
     ]
    }
   ],
   "source": [
    "class A:\n",
    "    def __init__(self):\n",
    "        self.a = 1000\n",
    "        self.m = self.m  # 🔑 Atribui o método à instância\n",
    "    \n",
    "    def m(self):\n",
    "        self.m=9\n",
    "        return f\"método m {self.m})\"\n",
    "\n",
    "obj = A()\n",
    "print(obj.__dict__)\n",
    "print(obj.m())\n",
    "# Output: {'a': 1000, 'm': <function A.m at 0x7f990a154d30>}"
   ]
  },
  {
   "cell_type": "code",
   "execution_count": 36,
   "id": "0661a827",
   "metadata": {},
   "outputs": [
    {
     "name": "stdout",
     "output_type": "stream",
     "text": [
      "Python é incrível, Python é poderoso -1\n"
     ]
    }
   ],
   "source": [
    "import string\n",
    "\n",
    "x = \"Python é incrível, Python é poderoso\"\n",
    "p=x.rfind(\"Python\",0,-40)\n",
    "print(x, p)"
   ]
  },
  {
   "cell_type": "code",
   "execution_count": null,
   "id": "668615ee",
   "metadata": {},
   "outputs": [],
   "source": [
    "txt = \"Hello World\"\n",
    "    \n",
    "x = txt.rfind('l') * txt.rfind('l', 0, -3) - txt.rfind('l', 4, -2)\n",
    "    \n",
    "print(x)"
   ]
  },
  {
   "cell_type": "code",
   "execution_count": 37,
   "id": "afcbe942",
   "metadata": {},
   "outputs": [
    {
     "name": "stdout",
     "output_type": "stream",
     "text": [
      "'z' não encontrado com index()\n",
      "Resultado do find(): -1\n"
     ]
    }
   ],
   "source": [
    "texto = \"Python programming\"\n",
    "\n",
    "# index() - lança exceção se não encontrar\n",
    "try:\n",
    "    posicao = texto.index('z')\n",
    "    print(f\"Posição: {posicao}\")\n",
    "except ValueError:\n",
    "    print(\"'z' não encontrado com index()\")\n",
    "\n",
    "# find() - retorna -1 se não encontrar (apenas para strings)\n",
    "posicao = texto.find('z')\n",
    "print(f\"Resultado do find(): {posicao}\")  # Output: -1"
   ]
  },
  {
   "cell_type": "code",
   "execution_count": 38,
   "id": "7d0efd08",
   "metadata": {},
   "outputs": [
    {
     "name": "stdout",
     "output_type": "stream",
     "text": [
      "Palindrome function test passed!\n"
     ]
    }
   ],
   "source": [
    "def palindrome(s):    \n",
    "    return s == s[::-1]\n",
    "    \n",
    "def test_palindrome():\n",
    "    assert palindrome(''), 'Empty string test failed'\n",
    "    assert palindrome('alba') == False, 'Non-palindrome word test failed'\n",
    "    assert palindrome('racecar'), 'Basic test failed'\n",
    "    assert palindrome('x\\tx'), 'Escape sequence test failed'    \n",
    "    \n",
    "try:\n",
    "    test_palindrome()\n",
    "except AssertionError as err:\n",
    "    print(err)\n",
    "else:\n",
    "    print('Palindrome function test passed!')"
   ]
  },
  {
   "cell_type": "code",
   "execution_count": 46,
   "id": "dc31b6b8",
   "metadata": {},
   "outputs": [
    {
     "name": "stdout",
     "output_type": "stream",
     "text": [
      "racecar\n"
     ]
    },
    {
     "data": {
      "text/plain": [
       "True"
      ]
     },
     "execution_count": 46,
     "metadata": {},
     "output_type": "execute_result"
    }
   ],
   "source": [
    "def palindrome(s):\n",
    "    print (s)\n",
    "    return s == s[::-1]\n",
    "\n",
    "palindrome('racecar')"
   ]
  },
  {
   "cell_type": "code",
   "execution_count": 49,
   "id": "d674357c",
   "metadata": {},
   "outputs": [
    {
     "name": "stdout",
     "output_type": "stream",
     "text": [
      "AMD64\n",
      "Windows-11-10.0.26100-SP0\n",
      "Windows\n",
      "('64bit', 'WindowsPE')\n",
      "Intel64 Family 6 Model 158 Stepping 10, GenuineIntel\n"
     ]
    }
   ],
   "source": [
    "import platform as p \n",
    "print(p.machine())\n",
    "print(p.platform())\n",
    "print(p.system())\n",
    "print(p.architecture())\n",
    "print(p.processor())"
   ]
  },
  {
   "cell_type": "code",
   "execution_count": 58,
   "id": "c305a8e3",
   "metadata": {},
   "outputs": [
    {
     "name": "stdout",
     "output_type": "stream",
     "text": [
      "True\n",
      "True\n"
     ]
    }
   ],
   "source": [
    "class Z:\n",
    "    pass\n",
    "\n",
    "class A:\n",
    "    pass\n",
    "    \n",
    "class B:\n",
    "    pass\n",
    "    \n",
    "class C(A, B):    \n",
    "    pass\n",
    "    \n",
    "class D(C):\n",
    "    pass\n",
    "    \n",
    "d = D()\n",
    "\n",
    "print(isinstance(d, B))\n",
    "###print(isinstance(d, A, C))\n",
    "print(isinstance(d, (A, B,Z)))\n",
    "#print(isinstance(D, C))\n",
    "#print(isinstance(d, [A, B]))"
   ]
  },
  {
   "cell_type": "code",
   "execution_count": 82,
   "id": "8960c038",
   "metadata": {},
   "outputs": [
    {
     "name": "stdout",
     "output_type": "stream",
     "text": [
      "Mh \n",
      "------\n",
      "y to\n",
      "ny\n"
     ]
    }
   ],
   "source": [
    "s = \"Monty Python\"\n",
    "s = s[0] + s[-3]\n",
    "print(s,\"\\n------\")\n",
    "\n",
    "print('Monty Python'[-5::-2]) # y to\n",
    "print('Monty Python'[-10:6:2])\n",
    "#print('Monty Python'[3::3])\n",
    "#print('Monty Python'[-9::2])\n",
    "#print('Monty Python'[2::-1])\n",
    "#print('Monty Python'[1:5:1])\n",
    "#print('Monty Python'[-4::-3]) # t n\n",
    "\n",
    "\n",
    "#print(s[0] + s[-3] == 'tt')\n",
    "\n",
    "\n"
   ]
  },
  {
   "cell_type": "code",
   "execution_count": 83,
   "id": "b70bf1ab",
   "metadata": {},
   "outputs": [
    {
     "name": "stdout",
     "output_type": "stream",
     "text": [
      "(1, 1, 4)\n",
      "(0, 1, 2)\n"
     ]
    }
   ],
   "source": [
    "lst = [0, 1, 2]\n",
    " \n",
    "t = tuple(map(lambda x: x**x, lst))\n",
    "print(t)                               # (1, 1, 4)\n",
    " \n",
    "t = tuple(filter(lambda x: x**x, lst))\n",
    "print(t)                               # (0, 1, 2)\n",
    " \n",
    "# t = tuple(lambda x: x**x, lst)       # TypeError\n",
    "# print(t)\n",
    " \n",
    "# t = (lambda x: x**x)(lst)            # TypeError\n",
    "# print(tuple(t))\n",
    " "
   ]
  },
  {
   "cell_type": "code",
   "execution_count": 91,
   "id": "ee6e9a64",
   "metadata": {},
   "outputs": [
    {
     "name": "stdout",
     "output_type": "stream",
     "text": [
      "False\n",
      "True\n",
      "False\n",
      "True\n",
      "False\n",
      "True\n"
     ]
    }
   ],
   "source": [
    "print(\"Python 3\".isalnum())      # False\n",
    "print(\"123\".isalnum())           # True\n",
    "print(\"Monty-Python\".isalpha())  # False\n",
    "print(\"PythoN\".isalpha())        # True\n",
    "print(\"-4.0\".isdigit())          # False\n",
    "print(\"00912839021749001\".isdigit())          # True"
   ]
  },
  {
   "cell_type": "code",
   "execution_count": 96,
   "id": "15c09661",
   "metadata": {},
   "outputs": [
    {
     "ename": "NameError",
     "evalue": "name 'sqrt' is not defined",
     "output_type": "error",
     "traceback": [
      "\u001b[31m---------------------------------------------------------------------------\u001b[39m",
      "\u001b[31mNameError\u001b[39m                                 Traceback (most recent call last)",
      "\u001b[36mCell\u001b[39m\u001b[36m \u001b[39m\u001b[32mIn[96]\u001b[39m\u001b[32m, line 3\u001b[39m\n\u001b[32m      1\u001b[39m \u001b[38;5;28;01mimport\u001b[39;00m\u001b[38;5;250m \u001b[39m\u001b[34;01mmath\u001b[39;00m \n\u001b[32m      2\u001b[39m \u001b[38;5;28;01mtry\u001b[39;00m:\n\u001b[32m----> \u001b[39m\u001b[32m3\u001b[39m     \u001b[38;5;28mprint\u001b[39m(\u001b[43msqrt\u001b[49m(-\u001b[32m8\u001b[39m))\n\u001b[32m      4\u001b[39m \u001b[38;5;28;01mexcept\u001b[39;00m \u001b[38;5;167;01mValueError\u001b[39;00m:\n\u001b[32m      5\u001b[39m     \u001b[38;5;28mprint\u001b[39m(\u001b[33m'\u001b[39m\u001b[33mValue error\u001b[39m\u001b[33m'\u001b[39m)\n",
      "\u001b[31mNameError\u001b[39m: name 'sqrt' is not defined"
     ]
    }
   ],
   "source": [
    "import math \n",
    "try:\n",
    "    print(sqrt(-8))\n",
    "except ValueError:\n",
    "    print('Value error')"
   ]
  },
  {
   "cell_type": "code",
   "execution_count": null,
   "id": "16bc45ee",
   "metadata": {},
   "outputs": [
    {
     "name": "stdout",
     "output_type": "stream",
     "text": [
      "Mh \n",
      "------\n",
      "y to\n",
      "ny\n"
     ]
    }
   ],
   "source": [
    "s = \"Monty Python\"\n",
    "s = s[0] + s[-3]\n",
    "print(s,\"\\n------\")\n",
    "\n",
    "print('Monty Python'[-5::-2]) # y to\n",
    "print('Monty Python'[-10:6:2])\n",
    "#print('Monty Python'[3::3])\n",
    "#print('Monty Python'[-9::2])\n",
    "#print('Monty Python'[2::-1])\n",
    "#print('Monty Python'[1:5:1])\n",
    "#print('Monty Python'[-4::-3]) # t n\n",
    "\n",
    "\n",
    "#print(s[0] + s[-3] == 'tt')\n",
    "\n",
    "\n"
   ]
  },
  {
   "cell_type": "code",
   "execution_count": 101,
   "id": "395cdee2",
   "metadata": {},
   "outputs": [
    {
     "name": "stdout",
     "output_type": "stream",
     "text": [
      "4\n",
      "<function f.<locals>.g at 0x0000027D461BDE40>\n"
     ]
    }
   ],
   "source": [
    "def f(x):   \n",
    "    y = 2 \n",
    "    def g():\n",
    "        return x * y\n",
    "    return g\n",
    "    \n",
    "var = f(2)\n",
    "ver =f(3)\n",
    "    \n",
    "print(var())\n",
    "print(ver)"
   ]
  },
  {
   "cell_type": "code",
   "execution_count": 102,
   "id": "0e87d41b",
   "metadata": {},
   "outputs": [
    {
     "name": "stdout",
     "output_type": "stream",
     "text": [
      "<_io.TextIOWrapper name='my_masterpiece.txt' mode='r' encoding='cp1252'>\n"
     ]
    }
   ],
   "source": [
    " \n",
    "stream = open(\"my_masterpiece.txt\")\n",
    " \n",
    "print(stream)"
   ]
  },
  {
   "cell_type": "code",
   "execution_count": 116,
   "id": "463226d2",
   "metadata": {},
   "outputs": [
    {
     "name": "stdout",
     "output_type": "stream",
     "text": [
      "['c:\\\\Users\\\\mario\\\\AppData\\\\Local\\\\Programs\\\\Python\\\\Python313\\\\python313.zip', 'c:\\\\Users\\\\mario\\\\AppData\\\\Local\\\\Programs\\\\Python\\\\Python313\\\\DLLs', 'c:\\\\Users\\\\mario\\\\AppData\\\\Local\\\\Programs\\\\Python\\\\Python313\\\\Lib', 'c:\\\\Users\\\\mario\\\\AppData\\\\Local\\\\Programs\\\\Python\\\\Python313', '', 'C:\\\\Users\\\\mario\\\\AppData\\\\Roaming\\\\Python\\\\Python313\\\\site-packages', 'C:\\\\Users\\\\mario\\\\AppData\\\\Roaming\\\\Python\\\\Python313\\\\site-packages\\\\win32', 'C:\\\\Users\\\\mario\\\\AppData\\\\Roaming\\\\Python\\\\Python313\\\\site-packages\\\\win32\\\\lib', 'C:\\\\Users\\\\mario\\\\AppData\\\\Roaming\\\\Python\\\\Python313\\\\site-packages\\\\Pythonwin', 'c:\\\\Users\\\\mario\\\\AppData\\\\Local\\\\Programs\\\\Python\\\\Python313\\\\Lib\\\\site-packages']\n",
      "c:\\Users\\mario\\AppData\\Local\\Programs\\Python\\Python313\\python313.zip\n",
      "['__doc__', '__loader__', '__name__', '__package__', '__spec__', 'acos', 'acosh', 'asin', 'asinh', 'atan', 'atan2', 'atanh', 'cbrt', 'ceil', 'comb', 'copysign', 'cos', 'cosh', 'degrees', 'dist', 'e', 'erf', 'erfc', 'exp', 'exp2', 'expm1', 'fabs', 'factorial', 'floor', 'fma', 'fmod', 'frexp', 'fsum', 'gamma', 'gcd', 'hypot', 'inf', 'isclose', 'isfinite', 'isinf', 'isnan', 'isqrt', 'lcm', 'ldexp', 'lgamma', 'log', 'log10', 'log1p', 'log2', 'modf', 'nan', 'nextafter', 'perm', 'pi', 'pow', 'prod', 'radians', 'remainder', 'sin', 'sinh', 'sqrt', 'sumprod', 'tan', 'tanh', 'tau', 'trunc', 'ulp']\n",
      "__doc__\n",
      "True\n",
      "True\n",
      "<class 'str'>\n",
      "<class 'str'>\n"
     ]
    }
   ],
   "source": [
    "import math, sys\n",
    "\n",
    "print(sys.path)\n",
    "print(sys.path[0])\n",
    "print(dir(math))\n",
    "print(dir(math)[0])\n",
    "print(type(dir(math)) == type(sys.path))\n",
    "print(type(dir(math)[0]) == type(sys.path[0]))\n",
    "print(type(dir(math)[0]))\n",
    "print(type(sys.path[0]))"
   ]
  },
  {
   "cell_type": "code",
   "execution_count": 120,
   "id": "19c894b2",
   "metadata": {},
   "outputs": [
    {
     "name": "stdout",
     "output_type": "stream",
     "text": [
      "P*y*t*h*o*n*\n"
     ]
    }
   ],
   "source": [
    "def fun(s):    \n",
    "    x = \"\"\n",
    "    for i in range(len(s)):\n",
    "        x += s[i] + '*'        \n",
    "    return x\n",
    "    \n",
    "s = 'Python'\n",
    "    \n",
    "print(fun(s))"
   ]
  },
  {
   "cell_type": "code",
   "execution_count": null,
   "id": "525bc915",
   "metadata": {},
   "outputs": [
    {
     "name": "stdout",
     "output_type": "stream",
     "text": [
      "3.0\n",
      "3.0 <class 'float'>\n"
     ]
    }
   ],
   "source": [
    "# Com import X\n",
    "#import math\n",
    "#resultado = math.sqrt(16)\n",
    "\n",
    "# Com from X import *\n",
    "from math import *\n",
    "print(math.sqrt(9))  \n",
    "\n",
    "print(resultado,type(resultado))"
   ]
  },
  {
   "cell_type": "code",
   "execution_count": 136,
   "id": "003e7284",
   "metadata": {},
   "outputs": [
    {
     "name": "stdout",
     "output_type": "stream",
     "text": [
      "3.141592653589793\n"
     ]
    }
   ],
   "source": [
    "from math import *\n",
    "print(math.pi)"
   ]
  },
  {
   "cell_type": "code",
   "execution_count": 138,
   "id": "2b7a4f2f",
   "metadata": {},
   "outputs": [
    {
     "name": "stdout",
     "output_type": "stream",
     "text": [
      "Função sqrt(9) não existe no módulo\n"
     ]
    }
   ],
   "source": [
    "# O usuário escolhe qual módulo usar\n",
    "modulo_escolhido = input(\"Digite o nome do módulo: \")\n",
    "funcao_escolhida = input(\"Digite o nome da função: \")\n",
    "\n",
    "# Importação dinâmica\n",
    "try:\n",
    "    modulo = __import__(modulo_escolhido)\n",
    "    funcao = getattr(modulo, funcao_escolhida)\n",
    "    resultado = funcao()\n",
    "    print(f\"Resultado: {resultado}\")\n",
    "except ImportError:\n",
    "    print(f\"Módulo {modulo_escolhido} não encontrado\")\n",
    "except AttributeError:\n",
    "    print(f\"Função {funcao_escolhida} não existe no módulo\")"
   ]
  },
  {
   "cell_type": "code",
   "execution_count": 150,
   "id": "b4c59d00",
   "metadata": {},
   "outputs": [
    {
     "name": "stdout",
     "output_type": "stream",
     "text": [
      "<module 'math' (built-in)>\n",
      "<built-in function sqrt>\n",
      "Resultado: funcao()\n"
     ]
    }
   ],
   "source": [
    "modulo = __import__('math')\n",
    "print(modulo)\n",
    "funcao = getattr(modulo, 'sqrt')\n",
    "print(funcao)\n",
    "resultado = \"funcao()\"\n",
    "print(f\"Resultado: {resultado}\")"
   ]
  },
  {
   "cell_type": "code",
   "execution_count": 153,
   "id": "bae4366a",
   "metadata": {},
   "outputs": [
    {
     "name": "stdout",
     "output_type": "stream",
     "text": [
      "4.0\n",
      "5\n"
     ]
    }
   ],
   "source": [
    "import importlib\n",
    "\n",
    "# Importação básica\n",
    "modulo = importlib.import_module('math')\n",
    "raiz_quadrada = getattr(modulo, 'sqrt')\n",
    "print(raiz_quadrada(16))  # 4.0\n",
    "print(math.ceil(4.5))"
   ]
  },
  {
   "cell_type": "code",
   "execution_count": 154,
   "id": "7210ce43",
   "metadata": {},
   "outputs": [
    {
     "name": "stdout",
     "output_type": "stream",
     "text": [
      "2\n",
      "B\n"
     ]
    }
   ],
   "source": [
    "class A():\n",
    "    pass\n",
    " \n",
    "class B():\n",
    "    pass\n",
    " \n",
    "class C(B, A):\n",
    "    pass\n",
    " \n",
    "instance = C()\n",
    " \n",
    "print(len(C.__bases__))        # 2\n",
    "print(C.__bases__[0].__name__) # B"
   ]
  }
 ],
 "metadata": {
  "kernelspec": {
   "display_name": "Python 3",
   "language": "python",
   "name": "python3"
  },
  "language_info": {
   "codemirror_mode": {
    "name": "ipython",
    "version": 3
   },
   "file_extension": ".py",
   "mimetype": "text/x-python",
   "name": "python",
   "nbconvert_exporter": "python",
   "pygments_lexer": "ipython3",
   "version": "3.13.6"
  }
 },
 "nbformat": 4,
 "nbformat_minor": 5
}
