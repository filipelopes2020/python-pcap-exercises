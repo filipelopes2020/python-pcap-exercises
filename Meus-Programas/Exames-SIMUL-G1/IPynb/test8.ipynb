{
 "cells": [
  {
   "cell_type": "code",
   "execution_count": 13,
   "id": "01182859",
   "metadata": {},
   "outputs": [
    {
     "name": "stdout",
     "output_type": "stream",
     "text": [
      "[11, 10, 18, 6, 12]\n"
     ]
    }
   ],
   "source": [
    "import random\n",
    "\n",
    "nova_lista = random.sample(range(1, 20), 5)  # pega 5 números únicos entre 1 e 19\n",
    "print(nova_lista)\n"
   ]
  },
  {
   "cell_type": "code",
   "execution_count": 20,
   "id": "6493873e",
   "metadata": {},
   "outputs": [],
   "source": [
    "data = bytearray(b\"Hello, world!\")\n",
    "with open(\"file.txt\", \"wb\") as f:\n",
    "    f.write(data)"
   ]
  },
  {
   "cell_type": "code",
   "execution_count": 21,
   "id": "05a357ad",
   "metadata": {},
   "outputs": [
    {
     "name": "stdout",
     "output_type": "stream",
     "text": [
      "b'Hello world!'\n"
     ]
    }
   ],
   "source": [
    "with open('file.txt', 'w') as f:\n",
    "    f.write('Hello world!')\n",
    "    \n",
    "with open('file.txt', 'r') as f:\n",
    "    data = f.read()\n",
    "    \n",
    "with open('file.txt', 'wb') as f:\n",
    "    f.write(data.encode())\n",
    "    \n",
    "with open('file.txt', 'rb') as f:\n",
    "    data = f.read()\n",
    "    \n",
    "print(data)"
   ]
  },
  {
   "cell_type": "code",
   "execution_count": 12,
   "id": "ce7cad14",
   "metadata": {},
   "outputs": [
    {
     "name": "stdout",
     "output_type": "stream",
     "text": [
      "({1: 'joao', 2: 'ze', 3: 'luis'}, {1: 'joao', 2: 'ze', 3: 'luis'})\n"
     ]
    }
   ],
   "source": [
    "try:\n",
    "    raise Exception({1:\"joao\",2:\"ze\",3:\"luis\"},{1:\"joao\",2:\"ze\",3:\"luis\"})\n",
    "except Exception as e:\n",
    "    print(e)\n",
    "except:\n",
    "    print(\"test\")    "
   ]
  },
  {
   "cell_type": "code",
   "execution_count": 14,
   "id": "3f58b30f",
   "metadata": {},
   "outputs": [
    {
     "name": "stdout",
     "output_type": "stream",
     "text": [
      "13\n",
      "('yes',)\n"
     ]
    }
   ],
   "source": [
    "data = [42, 13, -4]\n",
    "try:\n",
    "    print(data[1])\n",
    "except Exception as exception:\n",
    "    print(exception.args)\n",
    "else:\n",
    "    print(\"('yes',)\")"
   ]
  },
  {
   "cell_type": "code",
   "execution_count": 18,
   "id": "d3c07fb6",
   "metadata": {},
   "outputs": [
    {
     "name": "stdout",
     "output_type": "stream",
     "text": [
      "Find method returned -1: substring not found\n",
      "-1\n"
     ]
    }
   ],
   "source": [
    "s=\"candeiazzz z\"\n",
    "try:\n",
    "    index_position = s.index(\"z\")\n",
    "except ValueError:\n",
    "    print(\"Index method raised ValueError: substring not found\")\n",
    " \n",
    "find_position = s.find(\"t\")\n",
    "if find_position == -1:\n",
    "    print(\"Find method returned -1: substring not found\")\n",
    "\n",
    "print(find_position)"
   ]
  },
  {
   "cell_type": "code",
   "execution_count": 59,
   "id": "89f50e18",
   "metadata": {},
   "outputs": [
    {
     "name": "stdout",
     "output_type": "stream",
     "text": [
      "[10, 11, 12]\n",
      "[13, 14, 15]\n",
      "[10, 12, 14]\n",
      "---\n",
      "[15, 14]\n"
     ]
    }
   ],
   "source": [
    "lista = [10, 11, 12, 13, 14, 15]\n",
    "print(lista[:3])     # do início até índice 2\n",
    "print(lista[3:])     # do índice 3 até o fim\n",
    "print(lista[::2])    # do início ao fim, pulando de 2 em 2\n",
    "print(\"---\")\n",
    "print(lista[:3:-1])"
   ]
  },
  {
   "cell_type": "code",
   "execution_count": 58,
   "id": "c9cffd5f",
   "metadata": {},
   "outputs": [
    {
     "name": "stdout",
     "output_type": "stream",
     "text": [
      "['e', 'd', 'c', 'b', 'a']\n"
     ]
    }
   ],
   "source": [
    "s = \"a,b,c,d,e\"\n",
    "print(s.split(\",\")[::-1])"
   ]
  },
  {
   "cell_type": "code",
   "execution_count": 60,
   "id": "f452105e",
   "metadata": {},
   "outputs": [
    {
     "name": "stdout",
     "output_type": "stream",
     "text": [
      "Permission denied\n"
     ]
    }
   ],
   "source": [
    "try:\n",
    "    with open(\"file.txt\", \"r\") as f:\n",
    "        f.write(\"Hello, world!\")\n",
    "except IOError as e:\n",
    "    print(\"Permission denied\")"
   ]
  }
 ],
 "metadata": {
  "kernelspec": {
   "display_name": "Python 3",
   "language": "python",
   "name": "python3"
  },
  "language_info": {
   "codemirror_mode": {
    "name": "ipython",
    "version": 3
   },
   "file_extension": ".py",
   "mimetype": "text/x-python",
   "name": "python",
   "nbconvert_exporter": "python",
   "pygments_lexer": "ipython3",
   "version": "3.13.6"
  }
 },
 "nbformat": 4,
 "nbformat_minor": 5
}
