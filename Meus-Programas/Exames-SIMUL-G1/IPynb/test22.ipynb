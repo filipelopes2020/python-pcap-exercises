{
 "cells": [
  {
   "cell_type": "code",
   "execution_count": 1,
   "id": "69d7bee9",
   "metadata": {},
   "outputs": [
    {
     "name": "stdout",
     "output_type": "stream",
     "text": [
      "Python\n",
      "Viper\n"
     ]
    }
   ],
   "source": [
    "def snake():\n",
    "    return \"Viper\"\n",
    " \n",
    "class A:\n",
    " \n",
    "    def __init__(self):        \n",
    "        self.snake()\n",
    "        print(snake())\n",
    "        \n",
    "    def snake(self):\n",
    "        print(\"Python\")           \n",
    " \n",
    "obj = A()"
   ]
  },
  {
   "cell_type": "code",
   "execution_count": 11,
   "id": "bbe23cc8",
   "metadata": {},
   "outputs": [
    {
     "name": "stdout",
     "output_type": "stream",
     "text": [
      "PYTHON|nohtyP\n",
      "NOHTYP|python\n"
     ]
    }
   ],
   "source": [
    "txt = \"Python\"\n",
    "#mirror = lambda s: t = s.upper() + \"|\" + t[::-1]\n",
    "#mirror = lambda s: s.upper() + \"|\" + s.upper()[::-1]\n",
    "mirror = lambda s: s.upper() + \"|\" + s[::-1]\n",
    "print(mirror(txt))\n",
    "\n",
    "print(txt[::-1].upper()+\"|\"+txt[::1].lower())\n"
   ]
  },
  {
   "cell_type": "code",
   "execution_count": 13,
   "id": "acdd2054",
   "metadata": {},
   "outputs": [
    {
     "name": "stdout",
     "output_type": "stream",
     "text": [
      "Viper4\n"
     ]
    }
   ],
   "source": [
    "class A:    \n",
    "    def __init__(self):        \n",
    "        print(\"Python\")\n",
    "    \n",
    "    def __init__(self):        \n",
    "        print(\"Viper1\")    \n",
    "    def __init__(self):        \n",
    "        print(\"Viper2\")    \n",
    "    def __init__(self):        \n",
    "        print(\"Viper3\")    \n",
    "    def __init__(self):        \n",
    "        print(\"Viper4\")    \n",
    "    \n",
    "obj = A()"
   ]
  },
  {
   "cell_type": "code",
   "execution_count": 15,
   "id": "91507b1c",
   "metadata": {},
   "outputs": [
    {
     "data": {
      "text/plain": [
       "'só conta o ultimo 4'"
      ]
     },
     "execution_count": 15,
     "metadata": {},
     "output_type": "execute_result"
    }
   ],
   "source": [
    "def met():\n",
    "    return (\"só conta o ultimo 1\" )\n",
    "\n",
    "def met():\n",
    "    return (\"só conta o ultimo 2\" )\n",
    "\n",
    "def met():\n",
    "    return (\"só conta o ultimo 3\" )\n",
    "\n",
    "def met():\n",
    "    return (\"só conta o ultimo 4\" )\n",
    "\n",
    "met()\n"
   ]
  },
  {
   "cell_type": "code",
   "execution_count": 17,
   "id": "8bb16f52",
   "metadata": {},
   "outputs": [
    {
     "ename": "TypeError",
     "evalue": "Random.random() takes no arguments (1 given)",
     "output_type": "error",
     "traceback": [
      "\u001b[31m---------------------------------------------------------------------------\u001b[39m",
      "\u001b[31mTypeError\u001b[39m                                 Traceback (most recent call last)",
      "\u001b[36mCell\u001b[39m\u001b[36m \u001b[39m\u001b[32mIn[17]\u001b[39m\u001b[32m, line 3\u001b[39m\n\u001b[32m      1\u001b[39m \u001b[38;5;28;01mimport\u001b[39;00m\u001b[38;5;250m \u001b[39m\u001b[34;01mrandom\u001b[39;00m\u001b[38;5;250m \u001b[39m\u001b[38;5;28;01mas\u001b[39;00m\u001b[38;5;250m \u001b[39m\u001b[34;01mr\u001b[39;00m\n\u001b[32m----> \u001b[39m\u001b[32m3\u001b[39m \u001b[38;5;28mprint\u001b[39m(\u001b[43mr\u001b[49m\u001b[43m.\u001b[49m\u001b[43mrandom\u001b[49m\u001b[43m(\u001b[49m\u001b[32;43m3\u001b[39;49m\u001b[43m)\u001b[49m)\n",
      "\u001b[31mTypeError\u001b[39m: Random.random() takes no arguments (1 given)"
     ]
    }
   ],
   "source": [
    "import random as r\n",
    "    \n",
    "print(r.random(3))"
   ]
  },
  {
   "cell_type": "code",
   "execution_count": null,
   "id": "874267ed",
   "metadata": {},
   "outputs": [
    {
     "ename": "TypeError",
     "evalue": "argument should be integer or None, not 'str'",
     "output_type": "error",
     "traceback": [
      "\u001b[31m---------------------------------------------------------------------------\u001b[39m",
      "\u001b[31mTypeError\u001b[39m                                 Traceback (most recent call last)",
      "\u001b[36mCell\u001b[39m\u001b[36m \u001b[39m\u001b[32mIn[38]\u001b[39m\u001b[32m, line 4\u001b[39m\n\u001b[32m      1\u001b[39m strm = \u001b[38;5;28mopen\u001b[39m(\u001b[33m'\u001b[39m\u001b[33manimals.txt\u001b[39m\u001b[33m'\u001b[39m)\n\u001b[32m      2\u001b[39m \u001b[38;5;66;03m#print(strm.readlines())\u001b[39;00m\n\u001b[32m----> \u001b[39m\u001b[32m4\u001b[39m \u001b[38;5;28mprint\u001b[39m(\u001b[43mstrm\u001b[49m\u001b[43m.\u001b[49m\u001b[43mreadlines\u001b[49m\u001b[43m(\u001b[49m\u001b[33;43m'\u001b[39;49m\u001b[33;43m'\u001b[39;49m\u001b[43m)\u001b[49m)  \u001b[38;5;66;03m# erro\u001b[39;00m\n\u001b[32m      5\u001b[39m \u001b[38;5;66;03m#print(strm.readlines(7))   # so lê 7 chars\u001b[39;00m\n\u001b[32m      6\u001b[39m \u001b[38;5;28mprint\u001b[39m(strm.readlines(\u001b[32m0\u001b[39m))\n",
      "\u001b[31mTypeError\u001b[39m: argument should be integer or None, not 'str'"
     ]
    }
   ],
   "source": [
    "\n",
    "strm = open('animals.txt')\n",
    "#print(strm.readlines())\n",
    "\n",
    "#print(strm.readlines(''))  # erro\n",
    "#print(strm.readlines(7))   # so lê 7 chars\n",
    "print(strm.readlines(0))\n",
    "strm.seek(0)\n",
    "print(strm.readlines(1))\n",
    "strm.seek(0)\n",
    "print(strm.readlines(20))\n",
    "strm.seek(0)\n",
    "print(strm.readlines(3))\n",
    "strm.seek(0)\n",
    "print(strm.readlines(14))\n",
    "strm.seek(0)\n",
    "print(strm.readlines(-10)) "
   ]
  },
  {
   "cell_type": "code",
   "execution_count": 64,
   "id": "64326595",
   "metadata": {},
   "outputs": [
    {
     "name": "stdout",
     "output_type": "stream",
     "text": [
      "B\n"
     ]
    }
   ],
   "source": [
    "class myErr(Exception):\n",
    "    def __init__(self, msg):\n",
    "        #super().__init__(msg * 2)\n",
    "        super().__init__(msg)\n",
    "        \n",
    "        \n",
    "    def __str__(self):\n",
    "        return \"B\"\n",
    "try:\n",
    "    raise myErr(\"A\")\n",
    "    \n",
    "except Exception as e:\n",
    "    print(e)\n",
    "\n"
   ]
  },
  {
   "cell_type": "code",
   "execution_count": 70,
   "id": "60c60fa6",
   "metadata": {},
   "outputs": [
    {
     "name": "stdout",
     "output_type": "stream",
     "text": [
      "one two three\n",
      "dict_items([('one', 1), ('two', 2), ('three', 3)]) <built-in method keys of dict object at 0x0000020043B0C380>\n"
     ]
    }
   ],
   "source": [
    "a,b,c = {'one': 1, 'two':2, 'three': 3}\n",
    "dict={'one': 1, 'two':2, 'three': 3}\n",
    "\n",
    "print(a, b, c)\n",
    "print(dict.items(), dict.keys)"
   ]
  },
  {
   "cell_type": "code",
   "execution_count": 83,
   "id": "0d846267",
   "metadata": {},
   "outputs": [
    {
     "name": "stdout",
     "output_type": "stream",
     "text": [
      "{'b': 10}\n",
      "{'__module__': '__main__', '__firstlineno__': 1, 'a': 2, '__init__': <function A.__init__ at 0x00000200437CCA40>, 'm': <function A.m at 0x00000200437CCB80>, '__static_attributes__': ('b',), '__dict__': <attribute '__dict__' of 'A' objects>, '__weakref__': <attribute '__weakref__' of 'A' objects>, '__doc__': None}\n",
      "False\n",
      "True\n"
     ]
    }
   ],
   "source": [
    "class A:\n",
    "    a = 2\n",
    " \n",
    "    def __init__(self, n):\n",
    "        self.b = n  \n",
    " \n",
    "    def m(self):\n",
    "        return self.b * A.a   \n",
    " \n",
    "obj = A(10)\n",
    " \n",
    "#print(A.__dict__['a'] != None)              # True\n",
    "#print(len(obj.__dict__) == len(A.__dict__)) # False\n",
    "print(obj.__dict__)\n",
    "print(A.__dict__)\n",
    "print('b' in A.__dict__)                    # False\n",
    "print('b' in obj.__dict__)                  # True"
   ]
  },
  {
   "cell_type": "code",
   "execution_count": 87,
   "id": "b5cd546a",
   "metadata": {},
   "outputs": [
    {
     "name": "stdout",
     "output_type": "stream",
     "text": [
      "João\n",
      "João\n",
      "30\n",
      "Desconhecido\n"
     ]
    },
    {
     "ename": "AttributeError",
     "evalue": "'Pessoa' object has no attribute 'batatas'",
     "output_type": "error",
     "traceback": [
      "\u001b[31m---------------------------------------------------------------------------\u001b[39m",
      "\u001b[31mAttributeError\u001b[39m                            Traceback (most recent call last)",
      "\u001b[36mCell\u001b[39m\u001b[36m \u001b[39m\u001b[32mIn[87]\u001b[39m\u001b[32m, line 18\u001b[39m\n\u001b[32m     16\u001b[39m \u001b[38;5;66;03m# Com valor padrão\u001b[39;00m\n\u001b[32m     17\u001b[39m \u001b[38;5;28mprint\u001b[39m(\u001b[38;5;28mgetattr\u001b[39m(p, \u001b[33m'\u001b[39m\u001b[33mcidade\u001b[39m\u001b[33m'\u001b[39m, \u001b[33m'\u001b[39m\u001b[33mDesconhecido\u001b[39m\u001b[33m'\u001b[39m))  \u001b[38;5;66;03m# Desconhecido\u001b[39;00m\n\u001b[32m---> \u001b[39m\u001b[32m18\u001b[39m \u001b[38;5;28mprint\u001b[39m(\u001b[38;5;28;43mgetattr\u001b[39;49m\u001b[43m(\u001b[49m\u001b[43mp\u001b[49m\u001b[43m,\u001b[49m\u001b[43m \u001b[49m\u001b[33;43m'\u001b[39;49m\u001b[33;43mbatatas\u001b[39;49m\u001b[33;43m'\u001b[39;49m\u001b[43m)\u001b[49m)\n",
      "\u001b[31mAttributeError\u001b[39m: 'Pessoa' object has no attribute 'batatas'"
     ]
    }
   ],
   "source": [
    "class Pessoa:\n",
    "    def __init__(self, nome, idade):\n",
    "        self.nome = nome\n",
    "        self.idade = idade\n",
    "\n",
    "# Criando objeto\n",
    "p = Pessoa(\"João\", 30)\n",
    "\n",
    "# Acesso normal\n",
    "print(p.nome)  # João\n",
    "\n",
    "# Usando getattr\n",
    "print(getattr(p, 'nome'))     # João\n",
    "print(getattr(p, 'idade'))    # 30\n",
    "\n",
    "# Com valor padrão\n",
    "print(getattr(p, 'cidade', 'Desconhecido'))  # Desconhecido\n",
    "print(getattr(p, 'batatas'))\n"
   ]
  },
  {
   "cell_type": "code",
   "execution_count": 101,
   "id": "8ceb8f42",
   "metadata": {},
   "outputs": [
    {
     "name": "stdout",
     "output_type": "stream",
     "text": [
      "Honda\n",
      "Civic\n",
      "2020\n",
      "vermelho\n",
      "{'marca': 'Honda', 'modelo': 'Civic', 'ano': 2020, 'cor': 'vermelho'}\n",
      "marca\n",
      "modelo\n",
      "ano\n",
      "cor\n",
      "Honda\n",
      "Civic\n",
      "2020\n",
      "vermelho\n",
      "{'__module__': '__main__', '__firstlineno__': 1, '__init__': <function Carro.__init__ at 0x00000200439289A0>, '__str__': <function Carro.__str__ at 0x0000020043928220>, '__static_attributes__': ('marca', 'modelo'), '__dict__': <attribute '__dict__' of 'Carro' objects>, '__weakref__': <attribute '__weakref__' of 'Carro' objects>, '__doc__': None}\n"
     ]
    }
   ],
   "source": [
    "class Carro:\n",
    "    def __init__(self, marca, modelo):\n",
    "        self.marca = marca\n",
    "        self.modelo = modelo\n",
    "    \n",
    "    def __str__(self):\n",
    "        return f\"Carro: {self.marca} {self.modelo} \"\n",
    "# Criando objeto\n",
    "carro = Carro(\"Toyota\", \"Corolla\")\n",
    "\n",
    "# Acesso normal\n",
    "carro.ano = 2020\n",
    "#print(carro.ano)  # 2020\n",
    "\n",
    "# Usando setattr\n",
    "setattr(carro, 'cor', 'vermelho')\n",
    "#print(carro.cor)  # vermelho\n",
    "\n",
    "# Modificando atributo existente\n",
    "setattr(carro, 'marca', 'Honda')\n",
    "setattr(carro, 'modelo', 'Civic')\n",
    "#print(carro.marca)  # Honda\n",
    "\n",
    "for at in carro.__dict__:\n",
    "    print(getattr(carro, at))\n",
    "\n",
    "#print(carro)\n",
    "print(carro.__dict__)\n",
    "\n",
    "for key in carro.__dict__.keys():\n",
    "    print(key)\n",
    "\n",
    "for key in carro.__dict__.values():\n",
    "    print(key)\n",
    "\n",
    "print(Carro.__dict__)"
   ]
  },
  {
   "cell_type": "code",
   "execution_count": 111,
   "id": "481604c8",
   "metadata": {},
   "outputs": [
    {
     "name": "stdout",
     "output_type": "stream",
     "text": [
      "['dog\\n', 'cat\\n', 'lion\\n', 'fox\\n', 'bat\\n', 'tiger\\n', 'mouse']\n"
     ]
    }
   ],
   "source": [
    "strm = open('animals.txt')\n",
    "    \n",
    "x = strm.readlines()\n",
    "    \n",
    "print(x)\n",
    "strm.close()"
   ]
  },
  {
   "cell_type": "code",
   "execution_count": 112,
   "id": "742ef407",
   "metadata": {},
   "outputs": [
    {
     "name": "stdout",
     "output_type": "stream",
     "text": [
      "Monty\\nPython\n"
     ]
    }
   ],
   "source": [
    "print(R\"Monty\\nPython\")"
   ]
  },
  {
   "cell_type": "code",
   "execution_count": 117,
   "id": "7cf66eec",
   "metadata": {},
   "outputs": [
    {
     "name": "stdout",
     "output_type": "stream",
     "text": [
      "5\n",
      "0\n"
     ]
    }
   ],
   "source": [
    "txt = \"Python\"\n",
    "    \n",
    "print(txt.find('n'))\n",
    "print(txt.index('Py'))"
   ]
  },
  {
   "cell_type": "code",
   "execution_count": 119,
   "id": "7f103466",
   "metadata": {},
   "outputs": [
    {
     "name": "stdout",
     "output_type": "stream",
     "text": [
      "1 a C++\n"
     ]
    }
   ],
   "source": [
    "x = 0 if 4 ** 0 > 2 else 1\n",
    "    \n",
    "y = 'a' if -2 else 'b'\n",
    "    \n",
    "z = 'Python' if 1 % 2 < 1 else 'C++'\n",
    "    \n",
    "print(x, y, z)"
   ]
  },
  {
   "cell_type": "code",
   "execution_count": 121,
   "id": "48567c36",
   "metadata": {},
   "outputs": [
    {
     "name": "stdout",
     "output_type": "stream",
     "text": [
      "['27-9-2022', '10:30', 'am']\n",
      "10:30\n"
     ]
    }
   ],
   "source": [
    "t1 = \"27-9-2022 10:30 am\"\n",
    "t2 = t1.split(); print(t2)\n",
    "print(t2[-2])"
   ]
  },
  {
   "cell_type": "code",
   "execution_count": 127,
   "id": "8e216960",
   "metadata": {},
   "outputs": [
    {
     "name": "stdout",
     "output_type": "stream",
     "text": [
      "100 1000\n",
      "ola\n"
     ]
    }
   ],
   "source": [
    "class A:\n",
    "    x = 0\n",
    "    def __init__(self):\n",
    "        self.a = 10\n",
    "        \n",
    "    def __str__(self):\n",
    "        return \"ola\"\n",
    "        \n",
    "obj = A()\n",
    "    \n",
    "obj.__dict__['a'] = 100\n",
    "obj.__dict__['b'] = 1000\n",
    "    \n",
    "print(obj.a, obj.b)\n",
    "print(obj)\n",
    "    \n",
    "#A.__dict__['x'] = 1\n",
    "#A.__dict__['y'] = 2\n",
    "    \n",
    "#print(A.x, A.y)"
   ]
  },
  {
   "cell_type": "code",
   "execution_count": 130,
   "id": "52ea11d5",
   "metadata": {},
   "outputs": [
    {
     "name": "stdout",
     "output_type": "stream",
     "text": [
      "1001\n"
     ]
    }
   ],
   "source": [
    "class A:    \n",
    "    def met(self):\n",
    "        return 1\n",
    "    \n",
    "    def met_a(self):\n",
    "        return self.met()\n",
    "        \n",
    "class B(A):\n",
    "    def met(self):\n",
    "        return 10\n",
    "    \n",
    "class C(A):\n",
    "    def met(self):\n",
    "        return 100\n",
    "    \n",
    "obj1 = A()\n",
    "obj2 = B()\n",
    "obj3 = C()\n",
    "    \n",
    "x = obj1.met_a() + obj2.met() * obj3.met()\n",
    "#x = obj2.met() * obj3.met()\n",
    "    \n",
    "print(x)"
   ]
  },
  {
   "cell_type": "code",
   "execution_count": 133,
   "id": "ed961c7f",
   "metadata": {},
   "outputs": [
    {
     "name": "stdout",
     "output_type": "stream",
     "text": [
      "Erro: O arquivo já existe!\n"
     ]
    }
   ],
   "source": [
    "try:\n",
    "    strm = open('my_doc.txt', 'x')\n",
    "    strm.write(\"Hello World\")\n",
    "    strm.close()\n",
    "    print(\"Arquivo criado e escrito com sucesso!\")\n",
    "except FileExistsError:\n",
    "    print(\"Erro: O arquivo já existe!\")"
   ]
  },
  {
   "cell_type": "code",
   "execution_count": 147,
   "id": "7ff5c7ba",
   "metadata": {},
   "outputs": [
    {
     "name": "stdout",
     "output_type": "stream",
     "text": [
      "10 10\n"
     ]
    }
   ],
   "source": [
    "class A:\n",
    "    def __init__(self, n = 1):\n",
    "        self.x = n\n",
    "    \n",
    "class B(A):    \n",
    "    def __init__(self, m):\n",
    "        self.y = m\n",
    "        #super().__init__() \n",
    "        super().__init__(self.y) \n",
    "        #super().__init__() \n",
    "        \n",
    "obj = B(10)\n",
    "    \n",
    "print(obj.x, obj.y)\n",
    "#print(obj.x)"
   ]
  },
  {
   "cell_type": "code",
   "execution_count": null,
   "id": "88860309",
   "metadata": {},
   "outputs": [],
   "source": [
    "try:\n",
    "    int('abc')\n",
    "    \n",
    "except ValueError:\n",
    "    print(1/0)\n",
    "    \n",
    "except:\n",
    "    print('An error occurred')"
   ]
  },
  {
   "cell_type": "code",
   "execution_count": null,
   "id": "41edb41c",
   "metadata": {},
   "outputs": [],
   "source": [
    "x = 1\n",
    "y = 0\n",
    "    \n",
    "try:\n",
    "    assert x, \"Assertion 1\"    \n",
    "    assert not y, \"Assertion 2\"   \n",
    "    assert (False, \"Assertion 3\")\n",
    "    \n",
    "except AssertionError as msg:\n",
    "    print(msg)\n",
    "else:\n",
    "    print(\"No assertion\")"
   ]
  },
  {
   "cell_type": "code",
   "execution_count": 163,
   "id": "43977a1f",
   "metadata": {},
   "outputs": [
    {
     "name": "stdout",
     "output_type": "stream",
     "text": [
      "ASSERT\n",
      "batats!\n"
     ]
    }
   ],
   "source": [
    "\n",
    "x = 1\n",
    "y = 0\n",
    "    \n",
    "try:\n",
    "    #print(x/y)\n",
    "    assert False,  \"batats!\"\n",
    "    \n",
    "except AssertionError as msg:\n",
    "    print(\"ASSERT\")\n",
    "    print(msg)\n",
    "except Exception:\n",
    "    print(\"excepção\")\n",
    "else:\n",
    "    print(\"No assertion\")\n",
    "\n"
   ]
  },
  {
   "cell_type": "code",
   "execution_count": 164,
   "id": "e81b898f",
   "metadata": {},
   "outputs": [
    {
     "name": "stdout",
     "output_type": "stream",
     "text": [
      "True True True False\n"
     ]
    }
   ],
   "source": [
    "class A():\n",
    "    __x = 0\n",
    "    ___x = 1\n",
    "    __x_ = 2\n",
    "    __x__ = 3\n",
    "    \n",
    "print('_A__x' in A.__dict__, end = \" \")\n",
    "print('_A___x' in A.__dict__, end = \" \")\n",
    "print('_A__x_' in A.__dict__, end = \" \")\n",
    "print('_A__x__' in A.__dict__)"
   ]
  },
  {
   "cell_type": "code",
   "execution_count": 166,
   "id": "8b10c2ae",
   "metadata": {},
   "outputs": [
    {
     "name": "stdout",
     "output_type": "stream",
     "text": [
      "0\n"
     ]
    }
   ],
   "source": [
    "def func(a):\n",
    "    print(a)\n",
    "    \n",
    "func(0)"
   ]
  },
  {
   "cell_type": "code",
   "execution_count": 191,
   "id": "3fc395b6",
   "metadata": {},
   "outputs": [
    {
     "name": "stdout",
     "output_type": "stream",
     "text": [
      "True\n",
      "True\n",
      "True\n",
      "True\n"
     ]
    }
   ],
   "source": [
    "class A:\n",
    "    var = 1\n",
    "    def __init__(self):\n",
    "        self.x = 1\n",
    "    \n",
    "class B(A):\n",
    "    def __init__(self):\n",
    "        super().__init__()\n",
    "    \n",
    "b = B()\n",
    "\n",
    "print(hasattr(b, '__init__'))\n",
    "print(hasattr(b, 'x'))\n",
    "print(hasattr(A, 'var'))\n",
    "#print(hasattr(A, 'x'))\n",
    "print(hasattr(B, '__init__'))\n"
   ]
  },
  {
   "cell_type": "code",
   "execution_count": 204,
   "id": "a87e7661",
   "metadata": {},
   "outputs": [
    {
     "name": "stdout",
     "output_type": "stream",
     "text": [
      "1.0 SAFE DONE ERROR DONE "
     ]
    }
   ],
   "source": [
    "for i in range(1,-1,-1):\n",
    "    try:\n",
    "        print(1/i, end=' ')\n",
    "    except:\n",
    "        print(\"ERROR\", end=' ')\n",
    "    else:\n",
    "        print(\"SAFE\", end=' ')\n",
    "    finally:\n",
    "        print(\"DONE\", end=' ')"
   ]
  },
  {
   "cell_type": "code",
   "execution_count": 202,
   "id": "688b38cf",
   "metadata": {},
   "outputs": [
    {
     "name": "stdout",
     "output_type": "stream",
     "text": [
      "1 "
     ]
    }
   ],
   "source": [
    "for i in range(1,-1,-2):\n",
    "    print(i,end=\" \")"
   ]
  },
  {
   "cell_type": "code",
   "execution_count": null,
   "id": "2bd670a3",
   "metadata": {},
   "outputs": [],
   "source": [
    "import random as rr\n",
    "#rr.seed(10)\n",
    "cartas = ['Ás', 'Rei', 'Dama', 'Valete', 'Sete']; print(cartas); random.shuffle(cartas); print(cartas)\n",
    "cartas = [7,1,8,11,5,6,9,16]\n",
    "cartas=rr.choices(cartas, k=4); print(cartas)\n",
    "cartas=rr.choice(cartas); print(cartas)\n",
    "print(\"----\")\n",
    "cartas=rr.randrange(1,15,5); print(cartas)\n",
    "cartas=rr.randint(1,100);print(cartas)\n",
    "\n",
    "cartas=rr.random()*10; print(round(cartas))"
   ]
  },
  {
   "cell_type": "code",
   "execution_count": 282,
   "id": "c6ccef27",
   "metadata": {},
   "outputs": [
    {
     "name": "stdout",
     "output_type": "stream",
     "text": [
      "['AndroidVer', 'IOSVersionInfo', '_Processor', '_WIN32_CLIENT_RELEASES', '_WIN32_SERVER_RELEASES', '__builtins__', '__cached__', '__copyright__', '__doc__', '__file__', '__loader__', '__name__', '__package__', '__spec__', '__version__', '_comparable_version', '_default_architecture', '_follow_symlinks', '_get_machine_win32', '_java_getprop', '_mac_ver_xml', '_node', '_norm_version', '_os_release_cache', '_os_release_candidates', '_parse_os_release', '_platform', '_platform_cache', '_sys_version', '_sys_version_cache', '_syscmd_file', '_syscmd_ver', '_uname_cache', '_unknown_as_blank', '_ver_stages', '_win32_ver', '_wmi', '_wmi_query', 'android_ver', 'architecture', 'collections', 'freedesktop_os_release', 'functools', 'ios_ver', 'itertools', 'java_ver', 'libc_ver', 'mac_ver', 'machine', 'node', 'os', 'platform', 'processor', 'python_branch', 'python_build', 'python_compiler', 'python_implementation', 'python_revision', 'python_version', 'python_version_tuple', 're', 'release', 'sys', 'system', 'system_alias', 'uname', 'uname_result', 'version', 'win32_edition', 'win32_is_iot', 'win32_ver']\n"
     ]
    }
   ],
   "source": [
    "import platform as p\n",
    "print(dir(p))"
   ]
  },
  {
   "cell_type": "code",
   "execution_count": 300,
   "id": "c235bac4",
   "metadata": {},
   "outputs": [
    {
     "name": "stdout",
     "output_type": "stream",
     "text": [
      "<module 'sys' (built-in)>\n",
      "3.13.6\n",
      "('3', '13', '6')\n",
      "CPython\n",
      "MSC v.1944 64 bit (AMD64)\n",
      "AMD64\n",
      "SkySpeed\n",
      "nt\n",
      "Windows-11-10.0.26100-SP0\n",
      "Intel64 Family 6 Model 158 Stepping 10, GenuineIntel\n"
     ]
    }
   ],
   "source": [
    "import platform as p\n",
    "#print(dir(p))\n",
    "print(p.sys)\n",
    "print(p.python_version())\n",
    "print(p.python_version_tuple())\n",
    "print(p.python_implementation())\n",
    "print(p.python_compiler())\n",
    "print(p.machine())\n",
    "print(p.node())\n",
    "print(p.os.name)\n",
    "print(p.platform())\n",
    "print(p.processor())\n",
    "\n"
   ]
  },
  {
   "cell_type": "code",
   "execution_count": 314,
   "id": "26122dc7",
   "metadata": {},
   "outputs": [
    {
     "name": "stdout",
     "output_type": "stream",
     "text": [
      "{'x': 10, 'y': 20, '_A__x': 11}\n",
      "11\n"
     ]
    }
   ],
   "source": [
    "class A:\n",
    "    var = 100\n",
    "    def __init__(self):\n",
    "        self.x = 10\n",
    "        self.y = 20\n",
    "        self.__x = 11  # use self.__x to create a private attribute\n",
    "\n",
    "a = A()\n",
    "print(a.__dict__)\n",
    "print(a._A__x)  # now this will work, as __x is an instance attribute"
   ]
  },
  {
   "cell_type": "code",
   "execution_count": 318,
   "id": "8a58fe30",
   "metadata": {},
   "outputs": [
    {
     "name": "stdout",
     "output_type": "stream",
     "text": [
      "False\n",
      "True\n"
     ]
    }
   ],
   "source": [
    "print(\"22.67\".isdecimal())\n",
    "print(isinstance(\"919\", str))"
   ]
  },
  {
   "cell_type": "code",
   "execution_count": null,
   "id": "36bdbfa0",
   "metadata": {},
   "outputs": [
    {
     "name": "stdout",
     "output_type": "stream",
     "text": [
      "6\n"
     ]
    }
   ],
   "source": [
    "def A(a):\n",
    "    b = a**2\n",
    "    def B(b):\n",
    "        return b+3\n",
    "    return B\n",
    "    \n",
    "x = A(10)\n",
    "print(x(2))"
   ]
  },
  {
   "cell_type": "code",
   "execution_count": 369,
   "id": "231104a0",
   "metadata": {},
   "outputs": [
    {
     "name": "stdout",
     "output_type": "stream",
     "text": [
      "['__breakpointhook__', '__displayhook__', '__doc__', '__excepthook__', '__interactivehook__', '__loader__', '__name__', '__package__', '__spec__', '__stderr__', '__stdin__', '__stdout__', '__unraisablehook__', '_base_executable', '_baserepl', '_clear_internal_caches', '_clear_type_cache', '_current_exceptions', '_current_frames', '_debugmallocstats', '_enablelegacywindowsfsencoding', '_framework', '_get_cpu_count_config', '_getframe', '_getframemodulename', '_git', '_home', '_is_gil_enabled', '_is_interned', '_setprofileallthreads', '_settraceallthreads', '_stdlib_dir', '_vpath', '_xoptions', 'activate_stack_trampoline', 'addaudithook', 'api_version', 'argv', 'audit', 'base_exec_prefix', 'base_prefix', 'breakpointhook', 'builtin_module_names', 'byteorder', 'call_tracing', 'copyright', 'deactivate_stack_trampoline', 'displayhook', 'dllhandle', 'dont_write_bytecode', 'exc_info', 'excepthook', 'exception', 'exec_prefix', 'executable', 'exit', 'flags', 'float_info', 'float_repr_style', 'get_asyncgen_hooks', 'get_coroutine_origin_tracking_depth', 'get_int_max_str_digits', 'getallocatedblocks', 'getdefaultencoding', 'getfilesystemencodeerrors', 'getfilesystemencoding', 'getprofile', 'getrecursionlimit', 'getrefcount', 'getsizeof', 'getswitchinterval', 'gettrace', 'getunicodeinternedsize', 'getwindowsversion', 'hash_info', 'hexversion', 'implementation', 'int_info', 'intern', 'is_finalizing', 'is_stack_trampoline_active', 'last_exc', 'last_traceback', 'last_type', 'last_value', 'maxsize', 'maxunicode', 'meta_path', 'modules', 'monitoring', 'orig_argv', 'path', 'path_hooks', 'path_importer_cache', 'platform', 'platlibdir', 'prefix', 'ps1', 'ps2', 'ps3', 'pycache_prefix', 'set_asyncgen_hooks', 'set_coroutine_origin_tracking_depth', 'set_int_max_str_digits', 'setprofile', 'setrecursionlimit', 'setswitchinterval', 'settrace', 'stderr', 'stdin', 'stdlib_module_names', 'stdout', 'thread_info', 'unraisablehook', 'version', 'version_info', 'warnoptions', 'winver']\n"
     ]
    }
   ],
   "source": [
    "import sys as s\n",
    "print(dir(sys))\n",
    "\n",
    "#print(s.version_info)"
   ]
  },
  {
   "cell_type": "code",
   "execution_count": null,
   "id": "f7daff2f",
   "metadata": {},
   "outputs": [
    {
     "name": "stdout",
     "output_type": "stream",
     "text": [
      "('Test', 'DOIS', 'Tres')\n",
      "{'__module__': '__main__', '__firstlineno__': 1, '__static_attributes__': (), '__weakref__': <attribute '__weakref__' of 'MyException' objects>, '__doc__': None}\n"
     ]
    }
   ],
   "source": [
    "class MyException(Exception):\n",
    "    pass\n",
    "    \n",
    "try:\n",
    "    raise MyException(\"Test\",\"DOIS\",\"Tres\")\n",
    "except MyException as e:\n",
    "    print(e.args)\n"
   ]
  },
  {
   "cell_type": "code",
   "execution_count": 338,
   "id": "d7932b82",
   "metadata": {},
   "outputs": [
    {
     "name": "stdout",
     "output_type": "stream",
     "text": [
      "['dog\\n', 'cat\\n', 'lion\\n', 'fox\\n', 'bat\\n', 'tiger\\n', 'mouse']\n"
     ]
    }
   ],
   "source": [
    "file = open('animals.txt')\n",
    "a = [i for i in file]\n",
    "print(a)"
   ]
  },
  {
   "cell_type": "code",
   "execution_count": 354,
   "id": "3299acb0",
   "metadata": {},
   "outputs": [
    {
     "name": "stdout",
     "output_type": "stream",
     "text": [
      "(<class '__main__.B'>,)\n",
      "True\n",
      "(<class 'object'>,)\n"
     ]
    }
   ],
   "source": [
    "import sys\n",
    "class A:\n",
    "    pass\n",
    "    \n",
    "class B(A):\n",
    "    pass\n",
    "    \n",
    "class C(B):\n",
    "    pass\n",
    "\n",
    "c=C()\n",
    "a=A()\n",
    "print(C.__bases__)\n",
    "print(isinstance(\"2.5\",str))\n",
    "print(A.__bases__)"
   ]
  },
  {
   "cell_type": "code",
   "execution_count": 368,
   "id": "b391f195",
   "metadata": {},
   "outputs": [
    {
     "name": "stdout",
     "output_type": "stream",
     "text": [
      "I am beta, son of Alpha\n",
      "(<class '__main__.Alpha'>, <class '__main__.Topo'>)\n",
      "Topo\n"
     ]
    }
   ],
   "source": [
    "class Topo:\n",
    "    pass\n",
    "        \n",
    "class Alpha(Topo):\n",
    "    def __init__(self, val):\n",
    "        self.a = val\n",
    "        self.__b = val*2\n",
    "\n",
    "class Beta(Alpha, Topo):\n",
    "    def __str__(self):\n",
    "        return \"I am \" + self.a + \", son of \" + Beta.__bases__[0].__name__\n",
    "\n",
    "beta = Beta(\"beta\")\n",
    "#print(beta, beta._Beta__b)  # dá erro\n",
    "print(beta)\n",
    "print(Beta.__bases__)\n",
    "print(Beta.__bases__[1].__name__)"
   ]
  },
  {
   "cell_type": "code",
   "execution_count": 370,
   "id": "7e7c5d6a",
   "metadata": {},
   "outputs": [
    {
     "name": "stdout",
     "output_type": "stream",
     "text": [
      "__main__\n"
     ]
    }
   ],
   "source": [
    "class A:\n",
    "    pass\n",
    "    \n",
    "print(A.__module__)"
   ]
  }
 ],
 "metadata": {
  "kernelspec": {
   "display_name": "Python 3",
   "language": "python",
   "name": "python3"
  },
  "language_info": {
   "codemirror_mode": {
    "name": "ipython",
    "version": 3
   },
   "file_extension": ".py",
   "mimetype": "text/x-python",
   "name": "python",
   "nbconvert_exporter": "python",
   "pygments_lexer": "ipython3",
   "version": "3.13.6"
  }
 },
 "nbformat": 4,
 "nbformat_minor": 5
}
