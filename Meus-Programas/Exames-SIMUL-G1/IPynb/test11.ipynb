{
 "cells": [
  {
   "cell_type": "code",
   "execution_count": 5,
   "id": "f4ff34ee",
   "metadata": {},
   "outputs": [
    {
     "name": "stdout",
     "output_type": "stream",
     "text": [
      "Divisão por zero: integer division or modulo by zero\n"
     ]
    }
   ],
   "source": [
    "try:\n",
    "    #x = int(\"abc\")\n",
    "    y = 10 // 0\n",
    "except ValueError as e1:\n",
    "    print(\"Valor inválido:\", e1)          # tratamento específico para ValueError\n",
    "except ZeroDivisionError as e2:\n",
    "    print(\"Divisão por zero:\", e2)     "
   ]
  },
  {
   "cell_type": "code",
   "execution_count": 9,
   "id": "1102af78",
   "metadata": {},
   "outputs": [
    {
     "name": "stdout",
     "output_type": "stream",
     "text": [
      "print(e): ('primeiro', 'segundo', 'terceiro')\n",
      "e.args: ('primeiro', 'segundo', 'terceiro')\n",
      "primeiro arg: primeiro\n",
      "segundo arg: segundo\n",
      "terceiro arg: terceiro\n"
     ]
    }
   ],
   "source": [
    "try:\n",
    "    raise Exception(\"primeiro\", \"segundo\",\"terceiro\")\n",
    "except Exception as e:\n",
    "    print(\"print(e):\", e)\n",
    "    print(\"e.args:\", e.args)\n",
    "    print(\"primeiro arg:\", e.args[0])\n",
    "    print(\"segundo arg:\", e.args[1])\n",
    "    print(\"terceiro arg:\", e.args[2])"
   ]
  },
  {
   "cell_type": "code",
   "execution_count": 23,
   "id": "74e39f8d",
   "metadata": {},
   "outputs": [
    {
     "name": "stdout",
     "output_type": "stream",
     "text": [
      "None\n",
      "0.38102068999577143\n"
     ]
    }
   ],
   "source": [
    "import random\n",
    "print(random.seed(41))\n",
    "print(random.random())"
   ]
  },
  {
   "cell_type": "code",
   "execution_count": 24,
   "id": "586f5717",
   "metadata": {},
   "outputs": [
    {
     "name": "stdout",
     "output_type": "stream",
     "text": [
      "Com seed 123:\n",
      "1\n",
      "5\n",
      "2\n",
      "\n",
      "Sem seed:\n",
      "7\n",
      "5\n",
      "2\n"
     ]
    }
   ],
   "source": [
    "import random\n",
    "\n",
    "# Com seed fixa - resultados previsíveis\n",
    "random.seed(123)\n",
    "print(\"Com seed 123:\")\n",
    "for _ in range(3):\n",
    "    print(random.randint(1, 10))\n",
    "\n",
    "# Sem seed - resultados diferentes a cada execução\n",
    "print(\"\\nSem seed:\")\n",
    "for _ in range(3):\n",
    "    print(random.randint(1, 10))"
   ]
  },
  {
   "cell_type": "code",
   "execution_count": 30,
   "id": "268301fc",
   "metadata": {},
   "outputs": [
    {
     "name": "stdout",
     "output_type": "stream",
     "text": [
      "Hello, my name is Alice\n",
      "I am a manager in the Sales department\n",
      "My salary is 100000\n"
     ]
    }
   ],
   "source": [
    "class Person:\n",
    "    def __init__(self, name):\n",
    "        self.name = name\n",
    "    \n",
    "    def greet(self):\n",
    "        print(f\"Hello, my name is {self.name}\")\n",
    "    \n",
    "    \n",
    "class Employee(Person):\n",
    "    def __init__(self, name, salary, **kwargs):\n",
    "        super().__init__(name, **kwargs)\n",
    "        self.salary = salary\n",
    "    \n",
    "    def greet(self):\n",
    "        super().greet()\n",
    "        print(f\"My salary is {self.salary}\")\n",
    "    \n",
    "    \n",
    "class Manager(Person):\n",
    "    def __init__(self, name, department, **kwargs):\n",
    "        super().__init__(name, **kwargs)\n",
    "        self.department = department\n",
    "    \n",
    "    def greet(self):\n",
    "        super().greet()\n",
    "        print(f\"I am a manager in the {self.department} department\")\n",
    "    \n",
    "    \n",
    "class ManagerEmployee(Employee, Manager):\n",
    "    def __init__(self, name, salary, department):\n",
    "        # Usamos super() que seguirá a MRO (Method Resolution Order)\n",
    "        super().__init__(name=name, salary=salary, department=department)\n",
    "    \n",
    "    \n",
    "me = ManagerEmployee(\"Alice\", 100000, \"Sales\")\n",
    "me.greet()"
   ]
  },
  {
   "cell_type": "code",
   "execution_count": 44,
   "id": "a09eed00",
   "metadata": {},
   "outputs": [
    {
     "name": "stdout",
     "output_type": "stream",
     "text": [
      "Max\n",
      "['Sit']\n",
      "['Sit', 'Run']\n"
     ]
    }
   ],
   "source": [
    "class Dog:\n",
    "    def __init__(self, name):\n",
    "        self.name = name\n",
    "        self.tricks = []\n",
    "    \n",
    "    def add_trick(self, trick):\n",
    "        self.tricks.append(trick)\n",
    "\n",
    "d1 = Dog(name=\"Max\")\n",
    "d2 = Dog(\"Fido\")\n",
    "d1.add_trick(\"Sit\")\n",
    "print(d1.name)\n",
    "print(d1.tricks)\n",
    "d1.add_trick(\"Run\")\n",
    "print(d1.tricks)"
   ]
  },
  {
   "cell_type": "code",
   "execution_count": 60,
   "id": "df889564",
   "metadata": {},
   "outputs": [
    {
     "name": "stdout",
     "output_type": "stream",
     "text": [
      "12\n"
     ]
    }
   ],
   "source": [
    "class A:\n",
    "    def __init__(self, x=1):\n",
    "        self.x = x\n",
    "    \n",
    "    def func(self):\n",
    "        self.x += 3\n",
    "    \n",
    "    \n",
    "class B(A):\n",
    "    def __init__(self, y=2):\n",
    "        #A.__init__(self, x=11)\n",
    "        self.y = y\n",
    "    \n",
    "    def func(self):\n",
    "        self.y += 5\n",
    "    \n",
    "a = A(3)\n",
    "a.func()\n",
    "#print(a.x)\n",
    "b = B(7)\n",
    "b.func()\n",
    "print(b.y)"
   ]
  },
  {
   "cell_type": "code",
   "execution_count": 61,
   "id": "9121c5dc",
   "metadata": {},
   "outputs": [
    {
     "name": "stdout",
     "output_type": "stream",
     "text": [
      "Car is a Vehicle\n",
      "Vehicle can be a Vehicle\n"
     ]
    }
   ],
   "source": [
    "class Vehicle:\n",
    "    pass\n",
    "    \n",
    "class Car(Vehicle):\n",
    "    pass\n",
    "    \n",
    "print(Car.__name__, 'is a', Vehicle.__name__)\n",
    "print(Car.__bases__[0].__name__, 'can be a', Vehicle.__name__)"
   ]
  },
  {
   "cell_type": "code",
   "execution_count": 68,
   "id": "ffb905ce",
   "metadata": {},
   "outputs": [
    {
     "name": "stdout",
     "output_type": "stream",
     "text": [
      "[('vermelho', 'P'), ('vermelho', 'M'), ('vermelho', 'G'), ('azul', 'P'), ('azul', 'M'), ('azul', 'G')]\n"
     ]
    }
   ],
   "source": [
    "cores = ['vermelho', 'azul']\n",
    "tamanhos = ['P', 'M', 'G']\n",
    "combinacoes = [(cor, tamanho) for cor in cores for tamanho in tamanhos]\n",
    "print(combinacoes)"
   ]
  },
  {
   "cell_type": "code",
   "execution_count": 67,
   "id": "c6c80a80",
   "metadata": {},
   "outputs": [
    {
     "name": "stdout",
     "output_type": "stream",
     "text": [
      "[['H', 'E', 'L', 'L', 'O'], ['W', 'O', 'R', 'L', 'D'], ['P', 'Y', 'T', 'H', 'O', 'N']]\n"
     ]
    }
   ],
   "source": [
    "words = ['hello', 'world', 'python']\n",
    "upcase = [[c.upper() for c in word] for word in words]\n",
    "print(upcase)"
   ]
  },
  {
   "cell_type": "code",
   "execution_count": 78,
   "id": "b344db8b",
   "metadata": {},
   "outputs": [
    {
     "name": "stdout",
     "output_type": "stream",
     "text": [
      "7\n",
      "\n",
      "4\n"
     ]
    }
   ],
   "source": [
    "s1 = \" \\n \\t \\n \"\n",
    "print(len(s1))\n",
    "\n",
    "print(s1.strip())\n",
    "\n",
    "if s1.strip() == \"\":\n",
    "    print(s1.count(\" \"))\n",
    "else:\n",
    "    print(\"Not empty\")"
   ]
  },
  {
   "cell_type": "code",
   "execution_count": 77,
   "id": "050c182a",
   "metadata": {},
   "outputs": [
    {
     "name": "stdout",
     "output_type": "stream",
     "text": [
      "4\n",
      "\n"
     ]
    }
   ],
   "source": [
    "s1 = \" \\n \\t \\n \"\n",
    "print(s1.count(\" \"))\n",
    "print(s1.strip())\n"
   ]
  },
  {
   "cell_type": "code",
   "execution_count": 79,
   "id": "0cf4acf8",
   "metadata": {},
   "outputs": [
    {
     "name": "stdout",
     "output_type": "stream",
     "text": [
      "23\n"
     ]
    }
   ],
   "source": [
    "class A:\n",
    "    def __init__(self, x):\n",
    "        self.x = x\n",
    "        x = 42\n",
    "    \n",
    "    \n",
    "a = A(23)\n",
    "    \n",
    "print(a.x)"
   ]
  },
  {
   "cell_type": "code",
   "execution_count": null,
   "id": "10593775",
   "metadata": {},
   "outputs": [
    {
     "name": "stdout",
     "output_type": "stream",
     "text": [
      "[2, 6, 10]\n",
      "True\n",
      "0\n"
     ]
    }
   ],
   "source": [
    "numbers = [1, 2, 3, 4, 5]\n",
    "result = list(map(lambda x: x * 2, filter(lambda x: x % 2 == 1, numbers)))\n",
    "print(result)\n",
    "print(1 % 2 == 1)\n"
   ]
  },
  {
   "cell_type": "code",
   "execution_count": 84,
   "id": "e2796740",
   "metadata": {},
   "outputs": [
    {
     "name": "stdout",
     "output_type": "stream",
     "text": [
      "True\n"
     ]
    }
   ],
   "source": [
    "my_string = \"hello world\"\n",
    "print(my_string.startswith(\"hello\"))"
   ]
  },
  {
   "cell_type": "code",
   "execution_count": 94,
   "id": "c1f2b43a",
   "metadata": {},
   "outputs": [
    {
     "name": "stdout",
     "output_type": "stream",
     "text": [
      "['The quick brown fox', 'jumps over the lazy dog']\n",
      "B\n",
      "The quick brown foxjumps over the lazy dog\n"
     ]
    }
   ],
   "source": [
    "s = \"The quick brown fox\\njumps over the lazy dog\"\n",
    "if \"\\n\" in s:\n",
    "    s = s.split(\"\\n\")\n",
    "    s.sort()\n",
    "    print(s)\n",
    "    s = \"\".join(s)\n",
    "else:\n",
    "    s = s[::-1]\n",
    "if \"xof\" in s:\n",
    "    print(\"A\")\n",
    "elif \"dog\" in s:\n",
    "    print(\"B\")\n",
    "elif \"lazy\" in s:\n",
    "    print(\"C\")\n",
    "else:\n",
    "    print(\"D\")\n",
    "\n",
    "print(s)"
   ]
  },
  {
   "cell_type": "code",
   "execution_count": 124,
   "id": "23cef2ca",
   "metadata": {},
   "outputs": [
    {
     "name": "stdout",
     "output_type": "stream",
     "text": [
      "0 0 1 ----\n",
      "[0, 0, 1, 0, 1, 2]\n"
     ]
    }
   ],
   "source": [
    "def fun(n):\n",
    "    for i in range(n):\n",
    "        for j in range(i):\n",
    "            yield j\n",
    "\n",
    "# Teste 1\n",
    "for x in fun(3):\n",
    "    print(x, end=\" \")\n",
    "\n",
    "print(\"----\")\n",
    "#n = 4\n",
    "gen = (j for i in range(n) for j in range(i))\n",
    "print(list(gen))\n",
    "#s = fun   # s é a função\n",
    "#print(list(s(5)))  # chama fun(5)\n",
    "\n"
   ]
  },
  {
   "cell_type": "code",
   "execution_count": 125,
   "id": "14dbb471",
   "metadata": {},
   "outputs": [
    {
     "name": "stdout",
     "output_type": "stream",
     "text": [
      "[0, 0, 1, 0, 1, 2]\n"
     ]
    }
   ],
   "source": [
    "gen = (j for i in range(n) for j in range(i))\n",
    "print(list(gen))\n",
    "#s = fun   # s é a função\n",
    "#print(list(s(5)))  # chama fun(5)\n"
   ]
  }
 ],
 "metadata": {
  "kernelspec": {
   "display_name": "Python 3",
   "language": "python",
   "name": "python3"
  },
  "language_info": {
   "codemirror_mode": {
    "name": "ipython",
    "version": 3
   },
   "file_extension": ".py",
   "mimetype": "text/x-python",
   "name": "python",
   "nbconvert_exporter": "python",
   "pygments_lexer": "ipython3",
   "version": "3.13.6"
  }
 },
 "nbformat": 4,
 "nbformat_minor": 5
}
