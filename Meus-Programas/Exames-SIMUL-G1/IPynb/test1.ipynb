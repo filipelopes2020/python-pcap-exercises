{
 "cells": [
  {
   "cell_type": "code",
   "execution_count": 5,
   "id": "1ffd071f",
   "metadata": {},
   "outputs": [
    {
     "name": "stdout",
     "output_type": "stream",
     "text": [
      "Nome: João, Idade: 20\n"
     ]
    }
   ],
   "source": [
    "class Pessoa:\n",
    "    def __init__(self, nome, idade):\n",
    "        self.nome = nome\n",
    "        self.idade = idade\n",
    "\t\n",
    "    def coisas(self):\n",
    "       return f\"Nome: {self.nome}, Idade: {self.idade}\"\n",
    "\t\n",
    "    def __str__(self):\n",
    "        return \"cenas\"\n",
    "\t\t\n",
    "\n",
    "s = Pessoa(\"João\", 20)\n",
    "print(s.coisas())  \n",
    "#print(str(s))  "
   ]
  },
  {
   "cell_type": "code",
   "execution_count": 8,
   "id": "147b8866",
   "metadata": {},
   "outputs": [],
   "source": [
    "class Account:\n",
    "  def __init__(self,accn=1):\n",
    "    self.accno = accn\n",
    "\t\n",
    "  def set_custid(self, id):\n",
    "    self.custid = id\n",
    "\t\n",
    "acc1 = Account()\n",
    "\n",
    "acc2 = Account(100)\n",
    "acc2.set_custid(1)\n",
    "\n",
    "acc3 = Account(200)\n",
    "acc3.phone = '900000'\n",
    "\n",
    "\n"
   ]
  },
  {
   "cell_type": "code",
   "execution_count": 10,
   "id": "2b783438",
   "metadata": {},
   "outputs": [
    {
     "name": "stdout",
     "output_type": "stream",
     "text": [
      "{'accno': 1}\n",
      "{'accno': 100, 'custid': 1}\n",
      "{'accno': 200, 'phone': '900000'}\n"
     ]
    }
   ],
   "source": [
    "print(acc1.__dict__)\n",
    "print(acc2.__dict__)\n",
    "print(acc3.__dict__)\n"
   ]
  },
  {
   "cell_type": "code",
   "execution_count": 13,
   "id": "c17bcd10",
   "metadata": {},
   "outputs": [],
   "source": [
    "class Account:\n",
    "  __counter=0\n",
    "  def __init__(self, type=1):\n",
    "    self.__type=type\n",
    "    Account.__counter += 1\n",
    "\t\n",
    "ac1 = Account()\n",
    "ac2 = Account(1)\n",
    "ac3 = Account(2)\n"
   ]
  },
  {
   "cell_type": "code",
   "execution_count": 17,
   "id": "dfb2a4f6",
   "metadata": {},
   "outputs": [],
   "source": [
    "class Account:\n",
    "    __counter = 0\n",
    "\n",
    "    def __init__(self, type=1):\n",
    "        self.__type = type\n",
    "        Account.__counter += 1\n",
    "\n",
    "    @property\n",
    "    def counter(self):\n",
    "        return Account.__counter"
   ]
  },
  {
   "cell_type": "code",
   "execution_count": 18,
   "id": "156fef87",
   "metadata": {},
   "outputs": [
    {
     "name": "stdout",
     "output_type": "stream",
     "text": [
      "3\n",
      "3\n",
      "3\n"
     ]
    }
   ],
   "source": [
    "ac1 = Account()\n",
    "ac2 = Account(1)\n",
    "ac3 = Account(2)\n",
    "\n",
    "print(ac1.counter)  # 3\n",
    "print(ac2.counter)  # 3\n",
    "print(ac3.counter)  # 3"
   ]
  },
  {
   "cell_type": "code",
   "execution_count": 23,
   "id": "d1e736fa",
   "metadata": {},
   "outputs": [
    {
     "name": "stdout",
     "output_type": "stream",
     "text": [
      "2022/01/01\n",
      "2025-08-16\n"
     ]
    }
   ],
   "source": [
    "from datetime import date\n",
    "\n",
    "d=date(2022,1,1)\n",
    "fd=d.strftime('%Y/%m/%d')\n",
    "print (fd)\n",
    "\n",
    "x=date.today()\n",
    "print(x)\n",
    "\n"
   ]
  },
  {
   "cell_type": "code",
   "execution_count": 26,
   "id": "987cca55",
   "metadata": {},
   "outputs": [
    {
     "name": "stdout",
     "output_type": "stream",
     "text": [
      "Informações do Sistema:\n",
      "Versão do Python: 3.13.6 (tags/v3.13.6:4e66535, Aug  6 2025, 14:36:00) [MSC v.1944 64 bit (AMD64)]\n",
      "Plataforma: win32\n",
      "Path onde o Python procura módulos:\n",
      "  c:\\Users\\mario\\AppData\\Local\\Programs\\Python\\Python313\\python313.zip\n",
      "  c:\\Users\\mario\\AppData\\Local\\Programs\\Python\\Python313\\DLLs\n",
      "  c:\\Users\\mario\\AppData\\Local\\Programs\\Python\\Python313\\Lib\n",
      "  c:\\Users\\mario\\AppData\\Local\\Programs\\Python\\Python313\n",
      "  \n",
      "  C:\\Users\\mario\\AppData\\Roaming\\Python\\Python313\\site-packages\n",
      "  C:\\Users\\mario\\AppData\\Roaming\\Python\\Python313\\site-packages\\win32\n",
      "  C:\\Users\\mario\\AppData\\Roaming\\Python\\Python313\\site-packages\\win32\\lib\n",
      "  C:\\Users\\mario\\AppData\\Roaming\\Python\\Python313\\site-packages\\Pythonwin\n",
      "  c:\\Users\\mario\\AppData\\Local\\Programs\\Python\\Python313\\Lib\\site-packages\n"
     ]
    }
   ],
   "source": [
    "import sys\n",
    "\n",
    "print(\"Informações do Sistema:\")   \n",
    "print(\"Versão do Python:\", sys.version)\n",
    "print(\"Plataforma:\", sys.platform)\n",
    "print(\"Path onde o Python procura módulos:\")\n",
    "for p in sys.path:\n",
    "    print(\" \", p)"
   ]
  },
  {
   "cell_type": "code",
   "execution_count": null,
   "id": "97e8fc14",
   "metadata": {},
   "outputs": [
    {
     "name": "stdout",
     "output_type": "stream",
     "text": [
      "MyExamCloud\n",
      "My Exam Preparation Mentor\n"
     ]
    }
   ],
   "source": [
    "for app in open('app.txt', 'rt'):\n",
    "   print(app,end=\"\")\n",
    "\n",
    "   stream = open('animals.txt')\n",
    "    print(stream.read())\n",
    "    stream.close()\n",
    "    "
   ]
  },
  {
   "cell_type": "code",
   "execution_count": 32,
   "id": "5e85355c",
   "metadata": {},
   "outputs": [
    {
     "name": "stdout",
     "output_type": "stream",
     "text": [
      "c\n"
     ]
    }
   ],
   "source": [
    "try:\n",
    "    raise Exception\n",
    "except Exception:\n",
    "    print('c')\n",
    "except BaseException:\n",
    "    print('b')\n",
    "except:\n",
    "    print('a')"
   ]
  },
  {
   "cell_type": "code",
   "execution_count": 41,
   "id": "58806508",
   "metadata": {},
   "outputs": [
    {
     "name": "stdout",
     "output_type": "stream",
     "text": [
      "False\n",
      "True\n",
      "True\n"
     ]
    }
   ],
   "source": [
    "class X:\n",
    "    Y = 1\n",
    "    k=2 \n",
    "    def __init__(self):\n",
    "        self.z = 0\n",
    "     \n",
    "print(hasattr(X, 'z'))\n",
    "print(hasattr(X, 'Y'))  \n",
    "obj = X()\n",
    "print(hasattr(obj, 'Y'))\n"
   ]
  },
  {
   "cell_type": "code",
   "execution_count": 44,
   "id": "45b12046",
   "metadata": {},
   "outputs": [
    {
     "name": "stdout",
     "output_type": "stream",
     "text": [
      "True\n",
      "False\n"
     ]
    }
   ],
   "source": [
    "class A:\n",
    " b = 1\n",
    " def __init__(self):\n",
    "  self.c = 0\n",
    " \n",
    "print(hasattr(A(), 'c'))\n",
    "print(hasattr(A, 'c'))\n"
   ]
  },
  {
   "cell_type": "code",
   "execution_count": 49,
   "id": "971c9750",
   "metadata": {},
   "outputs": [
    {
     "name": "stdout",
     "output_type": "stream",
     "text": [
      "False\n"
     ]
    }
   ],
   "source": [
    "print('20' > '8' )"
   ]
  },
  {
   "cell_type": "code",
   "execution_count": 52,
   "id": "e1554759",
   "metadata": {},
   "outputs": [
    {
     "name": "stdout",
     "output_type": "stream",
     "text": [
      "1\n",
      "('batatas',)\n",
      "batatas\n"
     ]
    }
   ],
   "source": [
    "try:\n",
    "  raise Exception(\"batatas\")   \n",
    "except Exception as e:\n",
    "  print(len(e.args))\n",
    "  print(e.args)\n",
    "  print(e)\n",
    "  "
   ]
  },
  {
   "cell_type": "code",
   "execution_count": 53,
   "id": "8ed2eced",
   "metadata": {},
   "outputs": [
    {
     "name": "stdout",
     "output_type": "stream",
     "text": [
      "['BPF', 'LOG4', 'NV_MAGICCONST', 'RECIP_BPF', 'Random', 'SG_MAGICCONST', 'SystemRandom', 'TWOPI', '_ONE', '_Sequence', '__all__', '__builtins__', '__cached__', '__doc__', '__file__', '__loader__', '__name__', '__package__', '__spec__', '_accumulate', '_acos', '_bisect', '_ceil', '_cos', '_e', '_exp', '_fabs', '_floor', '_index', '_inst', '_isfinite', '_lgamma', '_log', '_log2', '_os', '_parse_args', '_pi', '_random', '_repeat', '_sha512', '_sin', '_sqrt', '_test', '_test_generator', '_urandom', 'betavariate', 'binomialvariate', 'choice', 'choices', 'expovariate', 'gammavariate', 'gauss', 'getrandbits', 'getstate', 'lognormvariate', 'main', 'normalvariate', 'paretovariate', 'randbytes', 'randint', 'random', 'randrange', 'sample', 'seed', 'setstate', 'shuffle', 'triangular', 'uniform', 'vonmisesvariate', 'weibullvariate']\n"
     ]
    }
   ],
   "source": [
    "import random\n",
    "print(dir(random))"
   ]
  },
  {
   "cell_type": "code",
   "execution_count": 54,
   "id": "8533d2e8",
   "metadata": {},
   "outputs": [
    {
     "name": "stdout",
     "output_type": "stream",
     "text": [
      "3\n",
      "{'colour': 'brown', 'name': 'Atari', 'attr': 'extra'}\n"
     ]
    }
   ],
   "source": [
    "class Server:\n",
    "\tA=10\n",
    "\tdef __init__(self, colour):\n",
    "\t\tB=11\n",
    "\t\tself.colour = 'brown'\n",
    "\t\tself.name = 'Atari'\n",
    "\n",
    "myserv = Server('black')\n",
    "myserv.attr = 'extra'\n",
    "print(len(myserv.__dict__))\n",
    "print(myserv.__dict__)\n"
   ]
  },
  {
   "cell_type": "code",
   "execution_count": 56,
   "id": "d119edd4",
   "metadata": {},
   "outputs": [
    {
     "name": "stdout",
     "output_type": "stream",
     "text": [
      "404 Não encontrado\n"
     ]
    }
   ],
   "source": [
    "class MinhaExcecao(Exception):\n",
    "    def __init__(self, codigo, mensagem):\n",
    "        self.codigo = codigo\n",
    "        super().__init__(mensagem)\n",
    "\n",
    "try:\n",
    "    raise MinhaExcecao(404, \"Não encontrado\")\n",
    "except MinhaExcecao as e:\n",
    "    print(e.codigo, e)"
   ]
  },
  {
   "cell_type": "code",
   "execution_count": 82,
   "id": "3c1c66f1",
   "metadata": {},
   "outputs": [
    {
     "name": "stdout",
     "output_type": "stream",
     "text": [
      "5\n",
      "None\n"
     ]
    }
   ],
   "source": [
    "def a():\n",
    "    hey = 5\n",
    "\n",
    "    def b():\n",
    "        print(hey)\n",
    "        #return hey * 2\n",
    "\n",
    "    return b\n",
    "\n",
    "x = a()\n",
    "print(x())\n",
    "\n",
    "\n"
   ]
  },
  {
   "cell_type": "code",
   "execution_count": 83,
   "id": "95bbd2bd",
   "metadata": {},
   "outputs": [
    {
     "name": "stdout",
     "output_type": "stream",
     "text": [
      "Olá\n",
      "Valor de x: None\n"
     ]
    }
   ],
   "source": [
    "def f():\n",
    "    print(\"Olá\")\n",
    "    \n",
    "x = f()\n",
    "print(\"Valor de x:\", x)"
   ]
  },
  {
   "cell_type": "code",
   "execution_count": 85,
   "id": "6980580e",
   "metadata": {},
   "outputs": [
    {
     "name": "stdout",
     "output_type": "stream",
     "text": [
      "labrador\n"
     ]
    }
   ],
   "source": [
    "class Dog:\n",
    " def __init__(self, breed='none'):\n",
    "  self.breed = breed\n",
    " \n",
    " def set(self, breed='labrador'):\n",
    "  self.breed = breed\n",
    "  return self.breed\n",
    " \n",
    "puppy = Dog()\n",
    "friend = puppy\n",
    "cao=friend \n",
    "friend.set()\n",
    "print(cao.breed)"
   ]
  },
  {
   "cell_type": "code",
   "execution_count": 88,
   "id": "336497c4",
   "metadata": {},
   "outputs": [
    {
     "name": "stdout",
     "output_type": "stream",
     "text": [
      "Adam-Mary-Kate\n"
     ]
    }
   ],
   "source": [
    "\n",
    "inpt = ['Adam', 'Mary', 'Kate']\n",
    "#res = list(map(lambda x: x + '-', inpt))\n",
    "#res = ''.join(list(map(lambda x: x + '-', inpt)))\n",
    "res = '-'.join(inpt)\n",
    "print(res)"
   ]
  },
  {
   "cell_type": "code",
   "execution_count": 89,
   "id": "10d427df",
   "metadata": {},
   "outputs": [
    {
     "name": "stdout",
     "output_type": "stream",
     "text": [
      "Encontrado na posição 141\n"
     ]
    }
   ],
   "source": [
    "import os  \n",
    "x = dir(os)  \n",
    "try:  \n",
    "    posicao = x.index(\"strerror\")  \n",
    "    print(f\"Encontrado na posição {posicao}\")  \n",
    "except ValueError:  \n",
    "    print(\"Não encontrado!\")  "
   ]
  },
  {
   "cell_type": "code",
   "execution_count": 94,
   "id": "30642b29",
   "metadata": {},
   "outputs": [
    {
     "name": "stdout",
     "output_type": "stream",
     "text": [
      "Código de erro 30: Read-only file system\n"
     ]
    }
   ],
   "source": [
    "import os\n",
    "\n",
    "# Código de erro 2 geralmente significa \"arquivo ou diretório não encontrado\"\n",
    "codigo_erro = 30\n",
    "mensagem = os.strerror(codigo_erro)\n",
    "\n",
    "print(f\"Código de erro {codigo_erro}: {mensagem}\")"
   ]
  },
  {
   "cell_type": "code",
   "execution_count": 95,
   "id": "7e9fc013",
   "metadata": {},
   "outputs": [
    {
     "name": "stdout",
     "output_type": "stream",
     "text": [
      "E2BIG (7): Arg list too long\n",
      "EACCES (13): Permission denied\n",
      "EADDRINUSE (10048): Unknown error\n",
      "EADDRNOTAVAIL (10049): Unknown error\n",
      "EAFNOSUPPORT (10047): Unknown error\n",
      "EAGAIN (11): Resource temporarily unavailable\n",
      "EALREADY (10037): Unknown error\n",
      "EBADF (9): Bad file descriptor\n",
      "EBADMSG (104): bad message\n",
      "EBUSY (16): Resource device\n",
      "ECANCELED (105): operation canceled\n",
      "ECHILD (10): No child processes\n",
      "ECONNABORTED (10053): Unknown error\n",
      "ECONNREFUSED (10061): Unknown error\n",
      "ECONNRESET (10054): Unknown error\n",
      "EDEADLK (36): Resource deadlock avoided\n",
      "EDEADLOCK (36): Resource deadlock avoided\n",
      "EDESTADDRREQ (10039): Unknown error\n",
      "EDOM (33): Domain error\n",
      "EDQUOT (10069): Unknown error\n",
      "EEXIST (17): File exists\n",
      "EFAULT (14): Bad address\n",
      "EFBIG (27): File too large\n",
      "EHOSTDOWN (10064): Unknown error\n",
      "EHOSTUNREACH (10065): Unknown error\n",
      "EIDRM (111): identifier removed\n",
      "EILSEQ (42): Illegal byte sequence\n",
      "EINPROGRESS (10036): Unknown error\n",
      "EINTR (4): Interrupted function call\n",
      "EINVAL (22): Invalid argument\n",
      "EIO (5): Input/output error\n",
      "EISCONN (10056): Unknown error\n",
      "EISDIR (21): Is a directory\n",
      "ELOOP (10062): Unknown error\n",
      "EMFILE (24): Too many open files\n",
      "EMLINK (31): Too many links\n",
      "EMSGSIZE (10040): Unknown error\n",
      "ENAMETOOLONG (38): Filename too long\n",
      "ENETDOWN (10050): Unknown error\n",
      "ENETRESET (10052): Unknown error\n",
      "ENETUNREACH (10051): Unknown error\n",
      "ENFILE (23): Too many open files in system\n",
      "ENOBUFS (10055): Unknown error\n",
      "ENODATA (120): no message available\n",
      "ENODEV (19): No such device\n",
      "ENOENT (2): No such file or directory\n",
      "ENOEXEC (8): Exec format error\n",
      "ENOLCK (39): No locks available\n",
      "ENOLINK (121): no link\n",
      "ENOMEM (12): Not enough space\n",
      "ENOMSG (122): no message\n",
      "ENOPROTOOPT (10042): Unknown error\n",
      "ENOSPC (28): No space left on device\n",
      "ENOSR (124): no stream resources\n",
      "ENOSTR (125): not a stream\n",
      "ENOSYS (40): Function not implemented\n",
      "ENOTCONN (10057): Unknown error\n",
      "ENOTDIR (20): Not a directory\n",
      "ENOTEMPTY (41): Directory not empty\n",
      "ENOTRECOVERABLE (127): state not recoverable\n",
      "ENOTSOCK (10038): Unknown error\n",
      "ENOTSUP (129): not supported\n",
      "ENOTTY (25): Inappropriate I/O control operation\n",
      "ENXIO (6): No such device or address\n",
      "EOPNOTSUPP (10045): Unknown error\n",
      "EOVERFLOW (132): value too large\n",
      "EOWNERDEAD (133): owner dead\n",
      "EPERM (1): Operation not permitted\n",
      "EPFNOSUPPORT (10046): Unknown error\n",
      "EPIPE (32): Broken pipe\n",
      "EPROTO (134): protocol error\n",
      "EPROTONOSUPPORT (10043): Unknown error\n",
      "EPROTOTYPE (10041): Unknown error\n",
      "ERANGE (34): Result too large\n",
      "EREMOTE (10071): Unknown error\n",
      "EROFS (30): Read-only file system\n",
      "ESHUTDOWN (10058): Unknown error\n",
      "ESOCKTNOSUPPORT (10044): Unknown error\n",
      "ESPIPE (29): Invalid seek\n",
      "ESRCH (3): No such process\n",
      "ESTALE (10070): Unknown error\n",
      "ETIME (137): stream timeout\n",
      "ETIMEDOUT (10060): Unknown error\n",
      "ETOOMANYREFS (10059): Unknown error\n",
      "ETXTBSY (139): text file busy\n",
      "EUSERS (10068): Unknown error\n",
      "EWOULDBLOCK (10035): Unknown error\n",
      "EXDEV (18): Improper link\n",
      "WSABASEERR (10000): Unknown error\n",
      "WSAEACCES (10013): Unknown error\n",
      "WSAEADDRINUSE (10048): Unknown error\n",
      "WSAEADDRNOTAVAIL (10049): Unknown error\n",
      "WSAEAFNOSUPPORT (10047): Unknown error\n",
      "WSAEALREADY (10037): Unknown error\n",
      "WSAEBADF (10009): Unknown error\n",
      "WSAECONNABORTED (10053): Unknown error\n",
      "WSAECONNREFUSED (10061): Unknown error\n",
      "WSAECONNRESET (10054): Unknown error\n",
      "WSAEDESTADDRREQ (10039): Unknown error\n",
      "WSAEDISCON (10101): Unknown error\n",
      "WSAEDQUOT (10069): Unknown error\n",
      "WSAEFAULT (10014): Unknown error\n",
      "WSAEHOSTDOWN (10064): Unknown error\n",
      "WSAEHOSTUNREACH (10065): Unknown error\n",
      "WSAEINPROGRESS (10036): Unknown error\n",
      "WSAEINTR (10004): Unknown error\n",
      "WSAEINVAL (10022): Unknown error\n",
      "WSAEISCONN (10056): Unknown error\n",
      "WSAELOOP (10062): Unknown error\n",
      "WSAEMFILE (10024): Unknown error\n",
      "WSAEMSGSIZE (10040): Unknown error\n",
      "WSAENAMETOOLONG (10063): Unknown error\n",
      "WSAENETDOWN (10050): Unknown error\n",
      "WSAENETRESET (10052): Unknown error\n",
      "WSAENETUNREACH (10051): Unknown error\n",
      "WSAENOBUFS (10055): Unknown error\n",
      "WSAENOPROTOOPT (10042): Unknown error\n",
      "WSAENOTCONN (10057): Unknown error\n",
      "WSAENOTEMPTY (10066): Unknown error\n",
      "WSAENOTSOCK (10038): Unknown error\n",
      "WSAEOPNOTSUPP (10045): Unknown error\n",
      "WSAEPFNOSUPPORT (10046): Unknown error\n",
      "WSAEPROCLIM (10067): Unknown error\n",
      "WSAEPROTONOSUPPORT (10043): Unknown error\n",
      "WSAEPROTOTYPE (10041): Unknown error\n",
      "WSAEREMOTE (10071): Unknown error\n",
      "WSAESHUTDOWN (10058): Unknown error\n",
      "WSAESOCKTNOSUPPORT (10044): Unknown error\n",
      "WSAESTALE (10070): Unknown error\n",
      "WSAETIMEDOUT (10060): Unknown error\n",
      "WSAETOOMANYREFS (10059): Unknown error\n",
      "WSAEUSERS (10068): Unknown error\n",
      "WSAEWOULDBLOCK (10035): Unknown error\n",
      "WSANOTINITIALISED (10093): Unknown error\n",
      "WSASYSNOTREADY (10091): Unknown error\n",
      "WSAVERNOTSUPPORTED (10092): Unknown error\n"
     ]
    }
   ],
   "source": [
    "import os\n",
    "import errno\n",
    "\n",
    "# Percorrer todos os atributos do módulo errno\n",
    "for codigo in dir(errno):\n",
    "    if codigo.isupper():\n",
    "        numero = getattr(errno, codigo)\n",
    "        try:\n",
    "            mensagem = os.strerror(numero)\n",
    "            print(f\"{codigo} ({numero}): {mensagem}\")\n",
    "        except ValueError:\n",
    "            # Alguns códigos podem não ter mensagem\n",
    "            pass\n"
   ]
  }
 ],
 "metadata": {
  "kernelspec": {
   "display_name": "Python 3",
   "language": "python",
   "name": "python3"
  },
  "language_info": {
   "codemirror_mode": {
    "name": "ipython",
    "version": 3
   },
   "file_extension": ".py",
   "mimetype": "text/x-python",
   "name": "python",
   "nbconvert_exporter": "python",
   "pygments_lexer": "ipython3",
   "version": "3.13.6"
  }
 },
 "nbformat": 4,
 "nbformat_minor": 5
}
