{
 "cells": [
  {
   "cell_type": "code",
   "execution_count": null,
   "id": "62757ddf",
   "metadata": {},
   "outputs": [
    {
     "name": "stdout",
     "output_type": "stream",
     "text": [
      "10 100\n"
     ]
    }
   ],
   "source": [
    "class A:\n",
    "    def __init__(self, var):\n",
    "        self.var = var\n",
    "        \n",
    "class B(A):\n",
    "    def __init__(self, var):\n",
    "        super().__init__(var=11)\n",
    "        self.var = var\n",
    "        \n",
    "    \n",
    "    \n",
    "a = A(10)\n",
    "b = B(100)\n",
    "print(a.var, b.var)"
   ]
  },
  {
   "cell_type": "code",
   "execution_count": 13,
   "id": "0ff1aa41",
   "metadata": {},
   "outputs": [],
   "source": [
    "file = open('xyz.txt', 'w')\n",
    "a = [1,2,3,4,5]\n",
    "for i in a:\n",
    "    file.write(str(i))"
   ]
  },
  {
   "cell_type": "code",
   "execution_count": null,
   "id": "7e62e72e",
   "metadata": {},
   "outputs": [
    {
     "name": "stdout",
     "output_type": "stream",
     "text": [
      "A\n",
      "('teste',)\n"
     ]
    }
   ],
   "source": [
    "class MyException(Exception):\n",
    "    def __init__(self, message):\n",
    "        #super().__init__(message)\n",
    "        #print(\"Hello\", end=\" \")\n",
    "        pass\n",
    "    \n",
    "    def __str__(self):\n",
    "        return \"A\"\n",
    "    \n",
    "try:\n",
    "    raise MyException (\"teste\")\n",
    "except Exception as e:\n",
    "    print(e)\n",
    "    print(e.args)"
   ]
  },
  {
   "cell_type": "code",
   "execution_count": 31,
   "id": "6f875581",
   "metadata": {},
   "outputs": [
    {
     "name": "stdout",
     "output_type": "stream",
     "text": [
      "Área total: 114.5\n"
     ]
    }
   ],
   "source": [
    "class Circulo:\n",
    "    def __init__(self, raio):\n",
    "        self.raio = raio\n",
    "    \n",
    "    def area(self):\n",
    "        return 3.14 * self.raio ** 2\n",
    "\n",
    "class Retangulo:\n",
    "    def __init__(self, largura, altura):\n",
    "        self.largura = largura\n",
    "        self.altura = altura\n",
    "    \n",
    "    def area(self):\n",
    "        return self.largura * self.altura\n",
    "\n",
    "class Triangulo:\n",
    "    def __init__(self, base, altura):\n",
    "        self.base = base\n",
    "        self.altura = altura\n",
    "    \n",
    "    def area(self):\n",
    "        return (self.base * self.altura) / 2\n",
    "\n",
    "# Função polimórfica\n",
    "def calcular_area_total(formas):\n",
    "    return sum(forma.area() for forma in formas)\n",
    "\n",
    "# Uso\n",
    "formas = [Circulo(5), Retangulo(4, 6), Triangulo(3, 8)]\n",
    "area_total = calcular_area_total(formas)\n",
    "print(f\"Área total: {area_total}\")"
   ]
  },
  {
   "cell_type": "code",
   "execution_count": null,
   "id": "faac4ae6",
   "metadata": {},
   "outputs": [
    {
     "name": "stdout",
     "output_type": "stream",
     "text": [
      "fed\n"
     ]
    }
   ],
   "source": [
    "a = \"abcdef\"\n",
    "b = a[-1:-4:-1]\n",
    "print(b)"
   ]
  },
  {
   "cell_type": "code",
   "execution_count": null,
   "id": "c31ca6cf",
   "metadata": {},
   "outputs": [
    {
     "name": "stdout",
     "output_type": "stream",
     "text": [
      "12\n"
     ]
    }
   ],
   "source": [
    "a = \"pato que come larvas\"\n",
    "print(a.rfind('e',0,-3))"
   ]
  },
  {
   "cell_type": "code",
   "execution_count": 43,
   "id": "73fdbe45",
   "metadata": {},
   "outputs": [
    {
     "name": "stdout",
     "output_type": "stream",
     "text": [
      "[2, 3]\n"
     ]
    }
   ],
   "source": [
    "import random as r\n",
    "print(r.sample([2,3], 2))"
   ]
  },
  {
   "cell_type": "code",
   "execution_count": 47,
   "id": "fb11ef52",
   "metadata": {},
   "outputs": [
    {
     "ename": "TypeError",
     "evalue": "A.func() takes 0 positional arguments but 1 was given",
     "output_type": "error",
     "traceback": [
      "\u001b[31m---------------------------------------------------------------------------\u001b[39m",
      "\u001b[31mTypeError\u001b[39m                                 Traceback (most recent call last)",
      "\u001b[36mCell\u001b[39m\u001b[36m \u001b[39m\u001b[32mIn[47]\u001b[39m\u001b[32m, line 6\u001b[39m\n\u001b[32m      3\u001b[39m         \u001b[38;5;28mprint\u001b[39m(\u001b[33m\"\u001b[39m\u001b[33mHello!\u001b[39m\u001b[33m\"\u001b[39m)\n\u001b[32m      5\u001b[39m a = A()\n\u001b[32m----> \u001b[39m\u001b[32m6\u001b[39m \u001b[43ma\u001b[49m\u001b[43m.\u001b[49m\u001b[43mfunc\u001b[49m\u001b[43m(\u001b[49m\u001b[43m)\u001b[49m\n",
      "\u001b[31mTypeError\u001b[39m: A.func() takes 0 positional arguments but 1 was given"
     ]
    }
   ],
   "source": [
    "class A:\n",
    "    def func():\n",
    "        print(\"Hello!\")\n",
    "    \n",
    "a = A()\n",
    "a.func()"
   ]
  },
  {
   "cell_type": "code",
   "execution_count": 56,
   "id": "7d7c8c53",
   "metadata": {},
   "outputs": [
    {
     "name": "stdout",
     "output_type": "stream",
     "text": [
      "15\n",
      "100\n",
      "{'_A__var': 15, '__var': 100}\n",
      "15\n"
     ]
    }
   ],
   "source": [
    "class A:\n",
    "    def __init__(self, t=10):\n",
    "        self.__var = t     # Esta vira self._A__var (privada)\n",
    "     \n",
    "    def get_var(self):\n",
    "        return self.__var   # Retorna self._A__var\n",
    "     \n",
    "a = A(15)\n",
    "a.__var = 100              # Esta cria um NOVO atributo público chamado __var\n",
    "\n",
    "print(a.get_var())         # Output: 10 (acessa a variável privada _A__var)\n",
    "print(a.__var)             # Output: 100 (acessa a nova variável pública __var)\n",
    "print(a.__dict__)\n",
    "print(a._A__var)"
   ]
  },
  {
   "cell_type": "code",
   "execution_count": 64,
   "id": "b43a0035",
   "metadata": {},
   "outputs": [
    {
     "ename": "TypeError",
     "evalue": "Cannot create a consistent method resolution order (MRO) for bases A, B",
     "output_type": "error",
     "traceback": [
      "\u001b[31m---------------------------------------------------------------------------\u001b[39m",
      "\u001b[31mTypeError\u001b[39m                                 Traceback (most recent call last)",
      "\u001b[36mCell\u001b[39m\u001b[36m \u001b[39m\u001b[32mIn[64]\u001b[39m\u001b[32m, line 12\u001b[39m\n\u001b[32m      8\u001b[39m     \u001b[38;5;28;01mpass\u001b[39;00m\n\u001b[32m      9\u001b[39m \u001b[38;5;66;03m#class a4(B, C):\u001b[39;00m\n\u001b[32m     10\u001b[39m \u001b[38;5;66;03m#    pass\u001b[39;00m\n\u001b[32m---> \u001b[39m\u001b[32m12\u001b[39m \u001b[38;5;28;43;01mclass\u001b[39;49;00m\u001b[38;5;250;43m \u001b[39;49m\u001b[34;43;01ma3\u001b[39;49;00m\u001b[43m(\u001b[49m\u001b[43mA\u001b[49m\u001b[43m,\u001b[49m\u001b[43mB\u001b[49m\u001b[43m)\u001b[49m\u001b[43m:\u001b[49m\n\u001b[32m     13\u001b[39m \u001b[43m    \u001b[49m\u001b[38;5;28;43;01mpass\u001b[39;49;00m\n",
      "\u001b[31mTypeError\u001b[39m: Cannot create a consistent method resolution order (MRO) for bases A, B"
     ]
    }
   ],
   "source": [
    "class A:\n",
    "    pass\n",
    "class B(A):\n",
    "    pass\n",
    "class C(B):\n",
    "    pass\n",
    "class D(A):\n",
    "    pass\n",
    "#class a4(B, C):\n",
    "#    pass\n",
    "\n",
    "class a3(A,B):\n",
    "    pass"
   ]
  },
  {
   "cell_type": "code",
   "execution_count": 66,
   "id": "b98dbae0",
   "metadata": {},
   "outputs": [
    {
     "name": "stdout",
     "output_type": "stream",
     "text": [
      "29\n"
     ]
    }
   ],
   "source": [
    "    def A(a):\n",
    "        b = a**3\n",
    "        def B():\n",
    "            return b+2\n",
    "        return B\n",
    "     \n",
    "    x = A(3)\n",
    "    print(x())"
   ]
  },
  {
   "cell_type": "code",
   "execution_count": 67,
   "id": "79faf90b",
   "metadata": {},
   "outputs": [
    {
     "name": "stdout",
     "output_type": "stream",
     "text": [
      "0.8444218515250481\n",
      "0.7579544029403025\n",
      "0.420571580830845\n"
     ]
    }
   ],
   "source": [
    "import random as r\n",
    "r.seed(0)\n",
    "for i in range(3):\n",
    "    print(r.random())"
   ]
  },
  {
   "cell_type": "code",
   "execution_count": 70,
   "id": "1c96e910",
   "metadata": {},
   "outputs": [
    {
     "name": "stdout",
     "output_type": "stream",
     "text": [
      "0.8444218515250481\n",
      "0.7579544029403025\n",
      "F\n"
     ]
    }
   ],
   "source": [
    "import random as r\n",
    "r.seed(0)\n",
    "print(r.random())\n",
    "print(r.random())\n",
    "\n",
    "print(chr(70))"
   ]
  },
  {
   "cell_type": "code",
   "execution_count": 95,
   "id": "3fa05946",
   "metadata": {},
   "outputs": [
    {
     "name": "stdout",
     "output_type": "stream",
     "text": [
      "True\n",
      "{'__module__': '__main__', '__firstlineno__': 1, '__static_attributes__': (), '__dict__': <attribute '__dict__' of 'Z' objects>, '__weakref__': <attribute '__weakref__' of 'Z' objects>, '__doc__': None}\n",
      "{'k': 10}\n"
     ]
    }
   ],
   "source": [
    "class Z:\n",
    "    pass\n",
    "class A:\n",
    "    pass\n",
    "class B(Z):\n",
    "    pass\n",
    "class C(B):\n",
    "    def __init__(self):\n",
    "        self.k=10\n",
    "        super().__init__()\n",
    "        \n",
    "    \n",
    "    \n",
    "c = C()\n",
    "print(isinstance(c, (Z,A)))\n",
    "print(Z.__dict__)\n",
    "print(c.__dict__)"
   ]
  },
  {
   "cell_type": "code",
   "execution_count": 88,
   "id": "c853133d",
   "metadata": {},
   "outputs": [
    {
     "name": "stdout",
     "output_type": "stream",
     "text": [
      "['GHI']\n",
      "['Abc', 'Ghi']\n"
     ]
    }
   ],
   "source": [
    "a = ['aBc', 'def', 'GHI']\n",
    "print(list(filter(lambda y: y[2].isupper(), a)))\n",
    "b = list(map(lambda x: x.capitalize(), filter(lambda y: y[1].isupper(), a)))\n",
    "print(b)"
   ]
  }
 ],
 "metadata": {
  "kernelspec": {
   "display_name": "Python 3",
   "language": "python",
   "name": "python3"
  },
  "language_info": {
   "codemirror_mode": {
    "name": "ipython",
    "version": 3
   },
   "file_extension": ".py",
   "mimetype": "text/x-python",
   "name": "python",
   "nbconvert_exporter": "python",
   "pygments_lexer": "ipython3",
   "version": "3.13.6"
  }
 },
 "nbformat": 4,
 "nbformat_minor": 5
}
