{
 "cells": [
  {
   "cell_type": "code",
   "execution_count": 1,
   "id": "bbc5a03a",
   "metadata": {},
   "outputs": [
    {
     "name": "stdout",
     "output_type": "stream",
     "text": [
      "eggs ham eggs\n"
     ]
    }
   ],
   "source": [
    "class Foo:\n",
    "    bar = 'spam'\n",
    " \n",
    "f1 = Foo()\n",
    "f2 = Foo()\n",
    "f2.bar = 'ham'\n",
    "Foo.bar = 'eggs'\n",
    "print(f1.bar, f2.bar, Foo.bar)"
   ]
  },
  {
   "cell_type": "code",
   "execution_count": 2,
   "id": "3dc07e8e",
   "metadata": {},
   "outputs": [
    {
     "name": "stdout",
     "output_type": "stream",
     "text": [
      "(1, 2, 3, 4)\n"
     ]
    }
   ],
   "source": [
    "class Foo:\n",
    "    nums = (1, 2, 3)\n",
    "\n",
    "Foo.nums += (4,)\n",
    "print(Foo.nums)"
   ]
  },
  {
   "cell_type": "code",
   "execution_count": 7,
   "id": "66a0bc6d",
   "metadata": {},
   "outputs": [
    {
     "name": "stdout",
     "output_type": "stream",
     "text": [
      "__main__\n",
      "__main__\n",
      "__main__\n",
      "__main__\n",
      "builtins\n",
      "builtins\n",
      "builtins\n"
     ]
    }
   ],
   "source": [
    "class Spam:\n",
    "    __ham, ham = '__ham', 'ham'\n",
    "    def __eggs(self):\n",
    "        pass\n",
    "    eggs = __eggs\n",
    " \n",
    "s = Spam()\n",
    "\n",
    "print(s.__module__)\n",
    "\n",
    "print(s._Spam__eggs.__module__)\n",
    "\n",
    "print(s.eggs.__module__)\n",
    "\n",
    "print(Spam.__module__)\n",
    "\n",
    "#print(__module__)\n",
    "\n",
    "#print(s.ham.__module__)\n",
    "\n",
    "print(int.__module__)    # 'builtins'\n",
    "print(list.__module__)   # 'builtins'\n",
    "print(str.__module__)   # 'builtins'"
   ]
  },
  {
   "cell_type": "code",
   "execution_count": 14,
   "id": "c6cddccc",
   "metadata": {},
   "outputs": [
    {
     "data": {
      "text/plain": [
       "<__main__.Spam at 0x1d1e6246ba0>"
      ]
     },
     "execution_count": 14,
     "metadata": {},
     "output_type": "execute_result"
    }
   ],
   "source": [
    "class Spam:\n",
    "    def __str__(self): return \"Spam\"    \n",
    "s = Spam()\n",
    "\n",
    "s.__repr__()\n",
    "s.__str__()\n",
    "s"
   ]
  },
  {
   "cell_type": "code",
   "execution_count": 19,
   "id": "faf8a652",
   "metadata": {},
   "outputs": [
    {
     "name": "stdout",
     "output_type": "stream",
     "text": [
      "11\n"
     ]
    }
   ],
   "source": [
    "lista = [1, 2, 3]\n",
    "lista \n",
    "x = lambda x: x + 1\n",
    "print(x(10))"
   ]
  },
  {
   "cell_type": "code",
   "execution_count": 24,
   "id": "1a48ac70",
   "metadata": {},
   "outputs": [
    {
     "name": "stdout",
     "output_type": "stream",
     "text": [
      "False\n",
      "True\n"
     ]
    }
   ],
   "source": [
    "class Pessoa:\n",
    "    especie = \"Humana\"\n",
    "    \n",
    "    def __init__(self, nome):\n",
    "        self.nome = nome\n",
    "\n",
    "p = Pessoa(\"MF\")\n",
    "\n",
    "print(hasattr(Pessoa, \"nome\"))      # True  -> atributo de instância\n",
    "print(hasattr(Pessoa, \"especie\"))   # True  -> atributo de classe\n",
    "#print(hasattr(p, \"idade\"))     # False -> não existe\n"
   ]
  },
  {
   "cell_type": "code",
   "execution_count": 38,
   "id": "1866db50",
   "metadata": {},
   "outputs": [
    {
     "name": "stdout",
     "output_type": "stream",
     "text": [
      "False\n"
     ]
    }
   ],
   "source": [
    "class Spam: \n",
    "    def __init__(self):\n",
    "        ham = 1\n",
    "\n",
    "print(hasattr(Spam(), 'ham'))\n"
   ]
  },
  {
   "cell_type": "code",
   "execution_count": 36,
   "id": "dd1a6bd5",
   "metadata": {},
   "outputs": [
    {
     "name": "stdout",
     "output_type": "stream",
     "text": [
      "True\n",
      "True\n"
     ]
    }
   ],
   "source": [
    "class Spam:\n",
    "    def __init__(self):\n",
    "        self.ham = 1  # agora é atributo da instância\n",
    "\n",
    "c = Spam()\n",
    "print(hasattr(c, 'ham'))  # True\n",
    "print(hasattr(Spam(), 'ham'))  # True\n"
   ]
  },
  {
   "cell_type": "code",
   "execution_count": 39,
   "id": "d0c0cd2a",
   "metadata": {},
   "outputs": [
    {
     "name": "stdout",
     "output_type": "stream",
     "text": [
      "Food Eggs GoodFood\n"
     ]
    }
   ],
   "source": [
    "F=type('Food',(),{'remember2buy':'spam'})\n",
    "E=type('Eggs',(F,),{'remember2buy':'eggs'})\n",
    "G=type('GoodFood',(E,F),{})\n",
    "print(F.__name__, E.__name__, G.__name__)"
   ]
  },
  {
   "cell_type": "code",
   "execution_count": 42,
   "id": "f60cba16",
   "metadata": {},
   "outputs": [
    {
     "name": "stdout",
     "output_type": "stream",
     "text": [
      "['spam'] 301 ['ham'] 201\n"
     ]
    }
   ],
   "source": [
    "class MyClass:\n",
    "    FOO = 100\n",
    "    def __init__(self):\n",
    "        self.bar = [] \n",
    "    def add(self, p):\n",
    "        self.bar.append(p)\n",
    "        \n",
    "d, e = MyClass(), MyClass()\n",
    "d.add('spam')\n",
    "e.add('ham')\n",
    "e.FOO = 201\n",
    "MyClass.FOO = 301\n",
    "print(d.bar, d.FOO, e.bar, e.FOO)"
   ]
  },
  {
   "cell_type": "code",
   "execution_count": null,
   "id": "3781a6ac",
   "metadata": {},
   "outputs": [
    {
     "name": "stdout",
     "output_type": "stream",
     "text": [
      "1 2\n"
     ]
    }
   ],
   "source": [
    "class Bar:\n",
    "    def __init__(self):\n",
    "        self.x = 1\n",
    "class Foo(Bar):\n",
    "    def __init__(self):\n",
    "        Bar.__init__ (self)\n",
    "        #super(Foo, self).__init__ ()\n",
    "        self.y = 2\n",
    "f = Foo()\n",
    "print(f.x,f.y)"
   ]
  },
  {
   "cell_type": "code",
   "execution_count": null,
   "id": "fd534f83",
   "metadata": {},
   "outputs": [
    {
     "name": "stdout",
     "output_type": "stream",
     "text": [
      "(<class 'object'>,)\n",
      "<class 'method'>\n",
      "(<class '__main__.X'>, <class '__main__.Y'>)\n",
      "(<class '__main__.Spam'>, <class '__main__.X'>, <class '__main__.Y'>, <class 'object'>)\n"
     ]
    },
    {
     "ename": "AttributeError",
     "evalue": "'Spam' object has no attribute '__mro__'",
     "output_type": "error",
     "traceback": [
      "\u001b[31m---------------------------------------------------------------------------\u001b[39m",
      "\u001b[31mAttributeError\u001b[39m                            Traceback (most recent call last)",
      "\u001b[36mCell\u001b[39m\u001b[36m \u001b[39m\u001b[32mIn[61]\u001b[39m\u001b[32m, line 14\u001b[39m\n\u001b[32m     12\u001b[39m \u001b[38;5;28mprint\u001b[39m(Spam.\u001b[34m__bases__\u001b[39m)\n\u001b[32m     13\u001b[39m \u001b[38;5;28mprint\u001b[39m(Spam.\u001b[34m__mro__\u001b[39m)\n\u001b[32m---> \u001b[39m\u001b[32m14\u001b[39m \u001b[38;5;28mprint\u001b[39m(\u001b[43ms\u001b[49m\u001b[43m.\u001b[49m\u001b[34;43m__mro__\u001b[39;49m)\n",
      "\u001b[31mAttributeError\u001b[39m: 'Spam' object has no attribute '__mro__'"
     ]
    }
   ],
   "source": [
    "class X: pass\n",
    "class Y: pass\n",
    "class Spam (X, Y):\n",
    "    __ham, ham = '__ham', 'ham'\n",
    "    def __eggs(self):\n",
    "        pass\n",
    "    eggs = __eggs\n",
    " \n",
    "s = Spam()\n",
    "print(type(s.eggs).__bases__)\n",
    "print(type(s.eggs))\n",
    "print(Spam.__bases__)\n",
    "print(Spam.__mro__)\n"
   ]
  },
  {
   "cell_type": "code",
   "execution_count": 65,
   "id": "0adc6bdf",
   "metadata": {},
   "outputs": [
    {
     "name": "stdout",
     "output_type": "stream",
     "text": [
      "spam\n"
     ]
    }
   ],
   "source": [
    "class A:\n",
    "    def __init__(self):\n",
    "        pass\n",
    "    def spam(self):\n",
    "        return \"spam\"\n",
    "    def ham(self):\n",
    "        return self.spam()\n",
    "a = A()\n",
    "print(a.ham())"
   ]
  },
  {
   "cell_type": "code",
   "execution_count": null,
   "id": "b23b8c93",
   "metadata": {},
   "outputs": [
    {
     "name": "stdout",
     "output_type": "stream",
     "text": [
      "Ham.__init__() Ham.update() "
     ]
    },
    {
     "ename": "TypeError",
     "evalue": "Spam.__init__() missing 1 required positional argument: 'param'",
     "output_type": "error",
     "traceback": [
      "\u001b[31m---------------------------------------------------------------------------\u001b[39m",
      "\u001b[31mTypeError\u001b[39m                                 Traceback (most recent call last)",
      "\u001b[36mCell\u001b[39m\u001b[36m \u001b[39m\u001b[32mIn[69]\u001b[39m\u001b[32m, line 19\u001b[39m\n\u001b[32m     16\u001b[39m             \u001b[38;5;28mprint\u001b[39m(\u001b[38;5;28mtype\u001b[39m(\u001b[38;5;28mself\u001b[39m).\u001b[34m__name__\u001b[39m + \u001b[33m'\u001b[39m\u001b[33m.update()\u001b[39m\u001b[33m'\u001b[39m, end=\u001b[33m'\u001b[39m\u001b[33m \u001b[39m\u001b[33m'\u001b[39m)\n\u001b[32m     18\u001b[39m Ham()\n\u001b[32m---> \u001b[39m\u001b[32m19\u001b[39m \u001b[43mSpam\u001b[49m\u001b[43m(\u001b[49m\u001b[43m)\u001b[49m\n",
      "\u001b[31mTypeError\u001b[39m: Spam.__init__() missing 1 required positional argument: 'param'"
     ]
    }
   ],
   "source": [
    "class Ham:\n",
    "    def __init__(self):\n",
    "        print(type(self).__name__ + '.__init__()', end=' ')\n",
    "        self.update()\n",
    "    def update(self):\n",
    "        print(type(self).__name__ + '.update()', end=' ')\n",
    " \n",
    "class Spam(Ham):\n",
    "    def update(self, param):\n",
    "        print(type(self).__name__ + '.update(param)', end=' ')\n",
    " \n",
    "Ham()\n",
    "Spam()"
   ]
  },
  {
   "cell_type": "code",
   "execution_count": 70,
   "id": "191d7539",
   "metadata": {},
   "outputs": [
    {
     "name": "stdout",
     "output_type": "stream",
     "text": [
      "Ham "
     ]
    }
   ],
   "source": [
    "class Eggs:\n",
    "    def __init__(self):\n",
    "        print('Eggs', end=' ')\n",
    "class Ham(Eggs):\n",
    "    def __init__(self):\n",
    "        print('Ham', end=' ')\n",
    "class Spam(Ham):\n",
    "    pass\n",
    " \n",
    "s = Spam()"
   ]
  },
  {
   "cell_type": "code",
   "execution_count": 75,
   "id": "f3f8d31f",
   "metadata": {},
   "outputs": [
    {
     "name": "stdout",
     "output_type": "stream",
     "text": [
      "{'__module__': '__main__', '__firstlineno__': 1, 'name': 'John', 'age': 36, 'country': 'USA', '__static_attributes__': (), '__dict__': <attribute '__dict__' of 'Person' objects>, '__weakref__': <attribute '__weakref__' of 'Person' objects>, '__doc__': None}\n"
     ]
    }
   ],
   "source": [
    "class Person:\n",
    "    name = \"John\"\n",
    "    age = 36\n",
    "    country = \"USA\"\n",
    "p = Person()\n",
    "\n",
    "#p.__dict__\n",
    "print(vars(Person))"
   ]
  },
  {
   "cell_type": "code",
   "execution_count": 84,
   "id": "f78afc2f",
   "metadata": {},
   "outputs": [
    {
     "name": "stdout",
     "output_type": "stream",
     "text": [
      "Hello World\n"
     ]
    }
   ],
   "source": [
    "def spam():\n",
    "    class Ham:\n",
    "        def eggs(self):\n",
    "            #print('Hello World')\n",
    "            return 'Hello World'\n",
    "    return Ham()\n",
    "x= spam()\n",
    "y= x.eggs()\n",
    "#spam().eggs()\n",
    "print(y)"
   ]
  },
  {
   "cell_type": "code",
   "execution_count": null,
   "id": "ab24cd12",
   "metadata": {},
   "outputs": [
    {
     "name": "stdout",
     "output_type": "stream",
     "text": [
      "Ham.__init__() Ham.update() "
     ]
    },
    {
     "data": {
      "text/plain": [
       "<__main__.Ham at 0x1d1e6999160>"
      ]
     },
     "execution_count": 86,
     "metadata": {},
     "output_type": "execute_result"
    }
   ],
   "source": [
    "class Ham:\n",
    "    def __init__(self):\n",
    "        print(type(self).__name__ + '.__init__()', end=' ')\n",
    "        self.update()\n",
    "    def update(self, param):\n",
    "        print(type(self).__name__ + '.update(param)', end=' ')        \n",
    "    def update(self):\n",
    "        print(type(self).__name__ + '.update()', end=' ')\n",
    "\n",
    "Ham()"
   ]
  },
  {
   "cell_type": "code",
   "execution_count": 88,
   "id": "bdd8b42f",
   "metadata": {},
   "outputs": [
    {
     "name": "stdout",
     "output_type": "stream",
     "text": [
      "Ham.__init__() Ham.update()\n"
     ]
    },
    {
     "data": {
      "text/plain": [
       "<__main__.Ham at 0x1d1e6999550>"
      ]
     },
     "execution_count": 88,
     "metadata": {},
     "output_type": "execute_result"
    }
   ],
   "source": [
    "class Ham:\n",
    "    def __init__(self):\n",
    "        print(type(self).__name__ + '.__init__()', end=' ')\n",
    "        self.__update()\n",
    "    def update(self):\n",
    "        print(type(self).__name__ + '.update()')\n",
    "    __update = update\n",
    "    \n",
    "Ham()"
   ]
  },
  {
   "cell_type": "code",
   "execution_count": 89,
   "id": "c02841e3",
   "metadata": {},
   "outputs": [
    {
     "name": "stdout",
     "output_type": "stream",
     "text": [
      "False\n",
      "True\n",
      "True\n",
      "True\n"
     ]
    }
   ],
   "source": [
    "class Foo:\n",
    "    y = 10                # atributo de classe\n",
    "    def __init__(self):\n",
    "        self.x = 0        # atributo de instância\n",
    "\n",
    "print(hasattr(Foo, 'x'))  # False\n",
    "print(hasattr(Foo, 'y'))  # True\n",
    "\n",
    "f = Foo()\n",
    "print(hasattr(f, 'x'))    # True\n",
    "print(hasattr(f, 'y'))    # True (acessível via classe também)"
   ]
  },
  {
   "cell_type": "code",
   "execution_count": 92,
   "id": "ad006a37",
   "metadata": {},
   "outputs": [
    {
     "name": "stdout",
     "output_type": "stream",
     "text": [
      "1 2\n"
     ]
    }
   ],
   "source": [
    "class Ham():\n",
    "    def __init__(self):\n",
    "        self.v1 = 1\n",
    "class Spam(Ham):\n",
    "    def __init__(self):\n",
    "        self.v2 = 2\n",
    "        super().__init__()\n",
    "s = Spam()\n",
    "print(s.v1,s.v2)"
   ]
  },
  {
   "cell_type": "code",
   "execution_count": 1,
   "id": "06cb021d",
   "metadata": {},
   "outputs": [
    {
     "name": "stdout",
     "output_type": "stream",
     "text": [
      "x y z\n"
     ]
    }
   ],
   "source": [
    "x = 'x'\n",
    "def main():\n",
    "    y = 'y'\n",
    "    def spam():\n",
    "        print(x, y, z)\n",
    "        return\n",
    "    spam()\n",
    "z = 'z'\n",
    "if __name__ == \"__main__\":\n",
    "    main()"
   ]
  },
  {
   "cell_type": "code",
   "execution_count": 7,
   "id": "3cc3b5c9",
   "metadata": {},
   "outputs": [
    {
     "name": "stdout",
     "output_type": "stream",
     "text": [
      "['Hello World']\n"
     ]
    }
   ],
   "source": [
    "with open(\"a.txt\", \"w\") as f:\n",
    "    #f.write(\"Hello World\")\n",
    "    f.writelines(\"Hello World\")\n",
    "    f.close()\n",
    "    \n",
    "with open(\"a.txt\", \"r\") as f:\n",
    "    print(f.readlines())               # lê tudo; resultado: Hello World\n",
    "    f.close()   \n"
   ]
  },
  {
   "cell_type": "code",
   "execution_count": 15,
   "id": "a9363ed0",
   "metadata": {},
   "outputs": [
    {
     "data": {
      "text/plain": [
       "[1, 0, 1, 0, 1, 0, 1, 0, 1]"
      ]
     },
     "execution_count": 15,
     "metadata": {},
     "output_type": "execute_result"
    }
   ],
   "source": [
    "list(map(lambda x: x%2, [1, 2, 3, 4, 5, 6, 7, 8, 9]))\n"
   ]
  },
  {
   "cell_type": "code",
   "execution_count": 14,
   "id": "fe135822",
   "metadata": {},
   "outputs": [
    {
     "data": {
      "text/plain": [
       "[1, 2, 3]"
      ]
     },
     "execution_count": 14,
     "metadata": {},
     "output_type": "execute_result"
    }
   ],
   "source": [
    "list(filter(lambda x: x+10, [1, 2, 3]))"
   ]
  },
  {
   "cell_type": "code",
   "execution_count": 17,
   "id": "1011bdf3",
   "metadata": {},
   "outputs": [
    {
     "data": {
      "text/plain": [
       "[False, False, False]"
      ]
     },
     "execution_count": 17,
     "metadata": {},
     "output_type": "execute_result"
    }
   ],
   "source": [
    "[False for i in range(3)]\n"
   ]
  },
  {
   "cell_type": "code",
   "execution_count": 20,
   "id": "791fac23",
   "metadata": {},
   "outputs": [
    {
     "ename": "ZeroDivisionError",
     "evalue": "integer modulo by zero",
     "output_type": "error",
     "traceback": [
      "\u001b[31m---------------------------------------------------------------------------\u001b[39m",
      "\u001b[31mZeroDivisionError\u001b[39m                         Traceback (most recent call last)",
      "\u001b[36mCell\u001b[39m\u001b[36m \u001b[39m\u001b[32mIn[20]\u001b[39m\u001b[32m, line 3\u001b[39m\n\u001b[32m      1\u001b[39m l = [[i \u001b[38;5;28;01mfor\u001b[39;00m i \u001b[38;5;129;01min\u001b[39;00m \u001b[38;5;28mrange\u001b[39m(\u001b[32m2\u001b[39m)] \u001b[38;5;28;01mfor\u001b[39;00m i \u001b[38;5;129;01min\u001b[39;00m \u001b[38;5;28mrange\u001b[39m(\u001b[32m2\u001b[39m)]\n\u001b[32m      2\u001b[39m \u001b[38;5;28;01mfor\u001b[39;00m i \u001b[38;5;129;01min\u001b[39;00m \u001b[38;5;28mrange\u001b[39m(\u001b[32m2\u001b[39m):\n\u001b[32m----> \u001b[39m\u001b[32m3\u001b[39m     \u001b[38;5;28;01mif\u001b[39;00m \u001b[43ml\u001b[49m\u001b[43m[\u001b[49m\u001b[32;43m0\u001b[39;49m\u001b[43m]\u001b[49m\u001b[43m[\u001b[49m\u001b[43mi\u001b[49m\u001b[43m]\u001b[49m\u001b[43m \u001b[49m\u001b[43m%\u001b[49m\u001b[43m \u001b[49m\u001b[43ml\u001b[49m\u001b[43m[\u001b[49m\u001b[32;43m1\u001b[39;49m\u001b[43m]\u001b[49m\u001b[43m[\u001b[49m\u001b[43mi\u001b[49m\u001b[43m]\u001b[49m == \u001b[32m0\u001b[39m:\n\u001b[32m      4\u001b[39m         \u001b[38;5;28mprint\u001b[39m(\u001b[33m'\u001b[39m\u001b[33m*\u001b[39m\u001b[33m'\u001b[39m)\n",
      "\u001b[31mZeroDivisionError\u001b[39m: integer modulo by zero"
     ]
    }
   ],
   "source": [
    "l = [[i for i in range(2)] for i in range(2)]\n",
    "for i in range(2):\n",
    "    if l[0][i] % l[1][i] == 0:\n",
    "        print('*')"
   ]
  },
  {
   "cell_type": "code",
   "execution_count": 21,
   "id": "124b619d",
   "metadata": {},
   "outputs": [
    {
     "data": {
      "text/plain": [
       "b'th qck brwn fx'"
      ]
     },
     "execution_count": 21,
     "metadata": {},
     "output_type": "execute_result"
    }
   ],
   "source": [
    "b'the quick brown fox'.translate(None, b'aeiou')"
   ]
  },
  {
   "cell_type": "code",
   "execution_count": 25,
   "id": "c48b7040",
   "metadata": {},
   "outputs": [
    {
     "name": "stdout",
     "output_type": "stream",
     "text": [
      "ENOENT\n"
     ]
    }
   ],
   "source": [
    "import sys, errno\n",
    "try:\n",
    "    open(\"spam3.txt\", \"r\")\n",
    "except:\n",
    "    if sys.exc_info()[1].errno == errno.ENOENT:\n",
    "        print(errno.errorcode[sys.exc_info()[1].errno])"
   ]
  },
  {
   "cell_type": "code",
   "execution_count": 28,
   "id": "9235ca26",
   "metadata": {},
   "outputs": [
    {
     "data": {
      "text/plain": [
       "[[0, 2, 4, 6, 8],\n",
       " [0, 2, 4, 6, 8],\n",
       " [0, 2, 4, 6, 8],\n",
       " [0, 2, 4, 6, 8],\n",
       " [0, 2, 4, 6, 8]]"
      ]
     },
     "execution_count": 28,
     "metadata": {},
     "output_type": "execute_result"
    }
   ],
   "source": [
    "[_ for i in range(10) if not i%2 ]"
   ]
  },
  {
   "cell_type": "code",
   "execution_count": 30,
   "id": "e470a4be",
   "metadata": {},
   "outputs": [
    {
     "data": {
      "text/plain": [
       "[0]"
      ]
     },
     "execution_count": 30,
     "metadata": {},
     "output_type": "execute_result"
    }
   ],
   "source": [
    "[i for i in range(1)]"
   ]
  },
  {
   "cell_type": "code",
   "execution_count": 31,
   "id": "69745ef2",
   "metadata": {},
   "outputs": [
    {
     "name": "stdout",
     "output_type": "stream",
     "text": [
      "[8, 9]\n"
     ]
    }
   ],
   "source": [
    "x = [_ for _ in range(10)] \n",
    "del x[0:-2] \n",
    "print(x)"
   ]
  },
  {
   "cell_type": "code",
   "execution_count": 32,
   "id": "e3258f20",
   "metadata": {},
   "outputs": [
    {
     "data": {
      "text/plain": [
       "[[0], [0, 1]]"
      ]
     },
     "execution_count": 32,
     "metadata": {},
     "output_type": "execute_result"
    }
   ],
   "source": [
    "[[c for c in range(r)] for r in range(3) if r != 0]"
   ]
  },
  {
   "cell_type": "code",
   "execution_count": 33,
   "id": "c1624926",
   "metadata": {},
   "outputs": [],
   "source": [
    "bar = bytearray(range(10))"
   ]
  },
  {
   "cell_type": "code",
   "execution_count": 35,
   "id": "e8cf04e7",
   "metadata": {},
   "outputs": [
    {
     "data": {
      "text/plain": [
       "20"
      ]
     },
     "execution_count": 35,
     "metadata": {},
     "output_type": "execute_result"
    }
   ],
   "source": [
    "a, b = 100, 20\n",
    "(lambda: b, lambda: a)[a < b]()"
   ]
  },
  {
   "cell_type": "code",
   "execution_count": 40,
   "id": "b63419e8",
   "metadata": {},
   "outputs": [
    {
     "name": "stdout",
     "output_type": "stream",
     "text": [
      "1 <class 'int'> 2 <class 'int'> "
     ]
    }
   ],
   "source": [
    "x = { 1: \"um\", 2: \"dois\"} \n",
    "for e in x.keys(): \n",
    "    print(e, type(e), end=' ')"
   ]
  },
  {
   "cell_type": "code",
   "execution_count": 38,
   "id": "61bf0a07",
   "metadata": {},
   "outputs": [
    {
     "name": "stdout",
     "output_type": "stream",
     "text": [
      "1 <class 'str'> 2 <class 'str'> "
     ]
    }
   ],
   "source": [
    "x = {1: \"1\", 2: \"2\"}\n",
    "for e in x.values():\n",
    "    print(e, type(e), end=' ')"
   ]
  },
  {
   "cell_type": "code",
   "execution_count": 46,
   "id": "8fa5b71f",
   "metadata": {},
   "outputs": [
    {
     "name": "stdout",
     "output_type": "stream",
     "text": [
      "1\n"
     ]
    }
   ],
   "source": [
    "i = +1\n",
    "print(len(str(i)))"
   ]
  },
  {
   "cell_type": "code",
   "execution_count": 55,
   "id": "eefabbfc",
   "metadata": {},
   "outputs": [
    {
     "name": "stdout",
     "output_type": "stream",
     "text": [
      "{1: [1, 2], 2: [3, 4]} <class 'dict'>\n",
      "{5, 6} <class 'set'>\n"
     ]
    }
   ],
   "source": [
    "spam = {}\n",
    "numeros = set()\n",
    "spam[1] = [1, 2]\n",
    "spam[2] = [3, 4]\n",
    "numeros.add(5)\n",
    "numeros.add(6)\n",
    "print(spam,type(spam))\n",
    "print(numeros, type(numeros))"
   ]
  },
  {
   "cell_type": "code",
   "execution_count": 56,
   "id": "5424f285",
   "metadata": {},
   "outputs": [
    {
     "name": "stdout",
     "output_type": "stream",
     "text": [
      "{1, 2, 3, 4, 5}\n",
      "{3}\n",
      "{1, 2}\n",
      "{1, 2, 4, 5}\n"
     ]
    }
   ],
   "source": [
    "A = {1, 2, 3}\n",
    "B = {3, 4, 5}\n",
    "\n",
    "print(A | B)   # União: {1, 2, 3, 4, 5}\n",
    "print(A & B)   # Interseção: {3}\n",
    "print(A - B)   # Diferença: {1, 2}\n",
    "print(A ^ B)   # Diferença simétrica: {1, 2, 4, 5}\n"
   ]
  },
  {
   "cell_type": "code",
   "execution_count": 57,
   "id": "a93ff4c9",
   "metadata": {},
   "outputs": [
    {
     "name": "stdout",
     "output_type": "stream",
     "text": [
      "{1, 2, 3, 4, 5}\n",
      "{3}\n",
      "{1, 2}\n",
      "{1, 2, 4, 5}\n"
     ]
    }
   ],
   "source": [
    "A = {1, 2, 3}\n",
    "B = {3, 4, 5}\n",
    "\n",
    "print(A | B)   # União: {1, 2, 3, 4, 5}\n",
    "print(A & B)   # Interseção: {3}\n",
    "print(A - B)   # Diferença: {1, 2}\n",
    "print(A ^ B)   # Diferença simétrica: {1, 2, 4, 5}\n"
   ]
  },
  {
   "cell_type": "code",
   "execution_count": 58,
   "id": "ea7b0361",
   "metadata": {},
   "outputs": [
    {
     "name": "stdout",
     "output_type": "stream",
     "text": [
      "{1, 2, 3, 4}\n"
     ]
    }
   ],
   "source": [
    "lista = [1, 2, 2, 3, 4, 4]\n",
    "sem_duplicados = set(lista)\n",
    "print(sem_duplicados)\n",
    "# Saída: {1, 2, 3, 4}\n"
   ]
  },
  {
   "cell_type": "code",
   "execution_count": null,
   "id": "9b4efa95",
   "metadata": {},
   "outputs": [
    {
     "name": "stdout",
     "output_type": "stream",
     "text": [
      "Hello\n",
      "\n",
      "World!\n"
     ]
    }
   ],
   "source": [
    "#print('Hello', ' ')\n",
    "print('Hello', end=' ')\n",
    "print('World!')\n"
   ]
  },
  {
   "cell_type": "code",
   "execution_count": 68,
   "id": "e8244cbe",
   "metadata": {},
   "outputs": [
    {
     "name": "stdout",
     "output_type": "stream",
     "text": [
      "{'b1': 11, 'b2': 12} {'b1': 21, 'b2': 22} \n",
      " {'f1': {'b1': 11, 'b2': 12}, 'f2': {'b1': 21, 'b2': 22}}\n"
     ]
    }
   ],
   "source": [
    "spam = {}\n",
    "spam['f1'] = {'b1':11, 'b2':12}\n",
    "spam['f2'] = {'b1':21, 'b2':22}\n",
    "for ham in spam.values():\n",
    "    print(ham, end=' ')\n",
    "print(\"\\n\",spam)"
   ]
  },
  {
   "cell_type": "code",
   "execution_count": 69,
   "id": "0dd20b20",
   "metadata": {},
   "outputs": [
    {
     "name": "stdout",
     "output_type": "stream",
     "text": [
      "0 1 2\n"
     ]
    }
   ],
   "source": [
    "    c, b, a = 2, 1, 0 \n",
    "    a, c = c, b \n",
    "    b = b - c\n",
    "    c, b, a = a, c, b\n",
    "    print(a, b, c)"
   ]
  },
  {
   "cell_type": "code",
   "execution_count": 70,
   "id": "78d814e8",
   "metadata": {},
   "outputs": [
    {
     "name": "stdout",
     "output_type": "stream",
     "text": [
      "10\n"
     ]
    }
   ],
   "source": [
    "a, b = 10, 20\n",
    "print(a < b and a or b)"
   ]
  },
  {
   "cell_type": "code",
   "execution_count": 74,
   "id": "9148c1b6",
   "metadata": {},
   "outputs": [
    {
     "name": "stdout",
     "output_type": "stream",
     "text": [
      "10\n"
     ]
    }
   ],
   "source": [
    "print(True and 10 or 20)"
   ]
  },
  {
   "cell_type": "code",
   "execution_count": 75,
   "id": "01cdf1d4",
   "metadata": {},
   "outputs": [
    {
     "data": {
      "text/plain": [
       "{False: 'Nope'}"
      ]
     },
     "execution_count": 75,
     "metadata": {},
     "output_type": "execute_result"
    }
   ],
   "source": [
    "{False: 'No', 0: 'Nay', 0.0: 'Nope'}\n"
   ]
  },
  {
   "cell_type": "code",
   "execution_count": 76,
   "id": "82aff0e8",
   "metadata": {},
   "outputs": [
    {
     "data": {
      "text/plain": [
       "{1: 'umum'}"
      ]
     },
     "execution_count": 76,
     "metadata": {},
     "output_type": "execute_result"
    }
   ],
   "source": [
    "{1:\"um\", 1.0:\"dois\", True:\"tres\",1:\"umum\"}\n"
   ]
  },
  {
   "cell_type": "code",
   "execution_count": 77,
   "id": "994c42a5",
   "metadata": {},
   "outputs": [
    {
     "name": "stdout",
     "output_type": "stream",
     "text": [
      "args = (1, 2) (tipo: <class 'tuple'>)\n",
      "3\n",
      "args = (1, 2, 3, 4) (tipo: <class 'tuple'>)\n",
      "10\n",
      "args = () (tipo: <class 'tuple'>)\n",
      "0\n"
     ]
    }
   ],
   "source": [
    "def somar(*args):\n",
    "    print(f\"args = {args} (tipo: {type(args)})\")\n",
    "    return sum(args)\n",
    "\n",
    "# Testando:\n",
    "print(somar(1, 2))           # args = (1, 2)\n",
    "print(somar(1, 2, 3, 4))     # args = (1, 2, 3, 4)\n",
    "print(somar())               # args = ()"
   ]
  },
  {
   "cell_type": "code",
   "execution_count": 82,
   "id": "23270652",
   "metadata": {},
   "outputs": [
    {
     "name": "stdout",
     "output_type": "stream",
     "text": [
      "20\n"
     ]
    }
   ],
   "source": [
    "a, b = 10, 20\n",
    "print({False: a, True: b} [a < b])"
   ]
  },
  {
   "cell_type": "code",
   "execution_count": 88,
   "id": "2012c26d",
   "metadata": {},
   "outputs": [
    {
     "name": "stdout",
     "output_type": "stream",
     "text": [
      "b1 11\n",
      "b2 12\n",
      "c3 13\n"
     ]
    }
   ],
   "source": [
    "spam = {'b1':11, 'b2':12, 'c3':13}\n",
    "for x, y in spam.items():print(x, y)\n",
    "#for x in spam.items():print(x[0], x[1])"
   ]
  },
  {
   "cell_type": "code",
   "execution_count": null,
   "id": "cb9efca2",
   "metadata": {},
   "outputs": [],
   "source": []
  }
 ],
 "metadata": {
  "kernelspec": {
   "display_name": "Python 3",
   "language": "python",
   "name": "python3"
  },
  "language_info": {
   "codemirror_mode": {
    "name": "ipython",
    "version": 3
   },
   "file_extension": ".py",
   "mimetype": "text/x-python",
   "name": "python",
   "nbconvert_exporter": "python",
   "pygments_lexer": "ipython3",
   "version": "3.13.6"
  }
 },
 "nbformat": 4,
 "nbformat_minor": 5
}
