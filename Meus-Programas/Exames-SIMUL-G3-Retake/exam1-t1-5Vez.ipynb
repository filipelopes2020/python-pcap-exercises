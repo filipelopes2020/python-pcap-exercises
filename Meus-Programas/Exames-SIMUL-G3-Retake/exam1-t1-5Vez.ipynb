{
 "cells": [
  {
   "cell_type": "code",
   "execution_count": null,
   "id": "6f715db3",
   "metadata": {},
   "outputs": [
    {
     "name": "stdout",
     "output_type": "stream",
     "text": [
      "12\n"
     ]
    }
   ],
   "source": [
    "class Jedi:\n",
    "    Force = 0\n",
    "    def __init__(self,name):\n",
    "        Jedi.Force +=1\n",
    "        self.name = name\n",
    "    def __str__(self):\n",
    "        return \"I am master Jedi \" + self.name\n",
    "    \n",
    "class Padawan(Jedi):\n",
    "    def print(self):\n",
    "        return \"I am a Padawan\"\n",
    "    \n",
    "Luke=Jedi('Luke')\n",
    "Ben=Jedi('Ben')\n",
    "#Baby_Yoda=Padawan('Baby Yoda')\n",
    "print(Jedi.Force)\n",
    "#print(Baby_Yoda)"
   ]
  },
  {
   "cell_type": "code",
   "execution_count": 5,
   "id": "ecb8febe",
   "metadata": {},
   "outputs": [
    {
     "name": "stdout",
     "output_type": "stream",
     "text": [
      "1\n"
     ]
    }
   ],
   "source": [
    "def sum_list(args, fun):\n",
    "    z = 0\n",
    "    for x in args:\n",
    "        z = z + fun(x)\n",
    "    return z\n",
    "    \n",
    "print(sum_list([ex//2 for ex in range(5)], lambda x: 1 if x>1 else 0))"
   ]
  },
  {
   "cell_type": "code",
   "execution_count": 8,
   "id": "fea4494b",
   "metadata": {},
   "outputs": [
    {
     "name": "stdout",
     "output_type": "stream",
     "text": [
      "Can't divide by zero !\n"
     ]
    }
   ],
   "source": [
    "class AlphaDivisionError(ZeroDivisionError):\t\n",
    "    def __init__(self, message):\n",
    "        ZeroDivisionError.__init__(self, message)\n",
    "    \n",
    "def func_div(x,y):\n",
    "    if y==0:\n",
    "        raise ZeroDivisionError(\"Can't divide by zero !\")\n",
    "    elif isinstance(y, str):\t\t\n",
    "        raise AlphaDivisionError(\"Can't divide by string !\")\n",
    "    else:\t\t\n",
    "        return x/y\n",
    "    \n",
    "try:\n",
    "    #print(func_div(4,'a'))\n",
    "    print(func_div(4,0))\n",
    "except ZeroDivisionError as e:\n",
    "    print(str(e))\n",
    "except Exception as e:\n",
    "    print(\"There is an error !\")\n",
    "else:\n",
    "    print('All good !')"
   ]
  },
  {
   "cell_type": "code",
   "execution_count": 14,
   "id": "da75e1fa",
   "metadata": {},
   "outputs": [
    {
     "name": "stdout",
     "output_type": "stream",
     "text": [
      "['Line #1\\n', 'Line #2\\n', 'Line #3\\n', 'Line #4\\n', 'Line #5\\n', 'Line #6\\n', 'Line #7\\n', 'Line #8\\n', 'Line #9\\n', 'Line #10\\n']\n"
     ]
    }
   ],
   "source": [
    "f = open('myfile.txt', 'r')\n",
    "data = f.readlines()\n",
    "print(data)\n",
    "f.close()"
   ]
  },
  {
   "cell_type": "code",
   "execution_count": 17,
   "id": "25b63441",
   "metadata": {},
   "outputs": [
    {
     "name": "stdout",
     "output_type": "stream",
     "text": [
      "[1, 2, 4]\n"
     ]
    }
   ],
   "source": [
    "def myfunc(n):\n",
    "    res = 1\n",
    "    for i in range(n,n+3,1):\n",
    "        yield res\n",
    "        res*= 2\n",
    "    \n",
    "y = [x for x in myfunc(31)]\n",
    "    \n",
    "print(y)"
   ]
  },
  {
   "cell_type": "code",
   "execution_count": 18,
   "id": "b5a76f8d",
   "metadata": {},
   "outputs": [
    {
     "name": "stdout",
     "output_type": "stream",
     "text": [
      "4\n",
      "3.0\n",
      "3\n"
     ]
    }
   ],
   "source": [
    "import math\n",
    "pi = 3.141592653589793\n",
    "\n",
    "# insert  your code here to output 3\n",
    "# print(math.round(pi))\n",
    "print(math.ceil(pi))    # 4\n",
    "print(round(pi, 0))     # 3.0\n",
    "print(math.trunc(pi))   # 3 correct\n"
   ]
  }
 ],
 "metadata": {
  "kernelspec": {
   "display_name": "Python 3",
   "language": "python",
   "name": "python3"
  },
  "language_info": {
   "codemirror_mode": {
    "name": "ipython",
    "version": 3
   },
   "file_extension": ".py",
   "mimetype": "text/x-python",
   "name": "python",
   "nbconvert_exporter": "python",
   "pygments_lexer": "ipython3",
   "version": "3.13.6"
  }
 },
 "nbformat": 4,
 "nbformat_minor": 5
}
