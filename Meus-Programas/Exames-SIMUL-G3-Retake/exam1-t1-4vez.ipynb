{
 "cells": [
  {
   "cell_type": "code",
   "execution_count": null,
   "id": "267cee1d",
   "metadata": {},
   "outputs": [
    {
     "name": "stdout",
     "output_type": "stream",
     "text": [
      "{'name': 'Vader', 'lightsaber': 1, '_Sith__son': 'Luke', '__daughter': 'Leia'}\n"
     ]
    }
   ],
   "source": [
    "class Sith:\n",
    "    darkside= True\n",
    "    def __init__(self, x, y):\n",
    "        self.name = x\n",
    "        self.lightsaber = 1\n",
    "        self.__son = y\n",
    "    def __str__(self):\n",
    "        return self.name\n",
    "    \n",
    "Vader = Sith(\"Vader\", \"Luke\")\n",
    "Vader.__daughter = 'Leia'\n",
    "print(Vader.__dict__)\n"
   ]
  },
  {
   "cell_type": "code",
   "execution_count": 4,
   "id": "014012b7",
   "metadata": {},
   "outputs": [
    {
     "name": "stdout",
     "output_type": "stream",
     "text": [
      "Can't divide by string !\n"
     ]
    }
   ],
   "source": [
    "class AlphaDivisionError(ZeroDivisionError):\t\n",
    "    def __init__(self, message):\n",
    "        ZeroDivisionError.__init__(self, message)\n",
    "    \n",
    "def func_div(x,y):\n",
    "    if y==0:\n",
    "        raise ZeroDivisionError(\"Can't divide by zero !\")\n",
    "    elif isinstance(y, str):\t\t\n",
    "        raise AlphaDivisionError(\"Can't divide by string !\")\n",
    "    else:\t\t\n",
    "        return x/y\n",
    "    \n",
    "try:\n",
    "    print(func_div(4,'a'))\n",
    "except ZeroDivisionError as e:\n",
    "    print(str(e))                    # Can't divide by string !\n",
    "except Exception as e:\n",
    "    print(\"There is an error !\")\n",
    "else:\n",
    "    print('All good !')"
   ]
  },
  {
   "cell_type": "code",
   "execution_count": 5,
   "id": "eb62242d",
   "metadata": {},
   "outputs": [
    {
     "name": "stdout",
     "output_type": "stream",
     "text": [
      "2\n"
     ]
    }
   ],
   "source": [
    "import math\n",
    "    \n",
    "def my_func(x,y):\n",
    "    z = math.trunc(x) + math.ceil(x) - math.floor(y)\n",
    "    return z\n",
    "    \n",
    "print(my_func(-1.6,-3.2))"
   ]
  },
  {
   "cell_type": "code",
   "execution_count": 9,
   "id": "a3613e5f",
   "metadata": {},
   "outputs": [
    {
     "name": "stdout",
     "output_type": "stream",
     "text": [
      "[0, 0, 1, 1, 2]\n",
      "3\n"
     ]
    }
   ],
   "source": [
    "def sum_list(args, fun):\n",
    "    z = 0\n",
    "    for x in args:\n",
    "        z = z + fun(x)\n",
    "    return z\n",
    "    \n",
    "print([ex//2 for ex in range(5)])        # [0, 0, 1, 1, 2]\n",
    "    \n",
    "print(sum_list([ex//2 for ex in range(5)], lambda x: 1 if x>=1 else 0))  # 1"
   ]
  },
  {
   "cell_type": "code",
   "execution_count": 13,
   "id": "e2655ac5",
   "metadata": {},
   "outputs": [
    {
     "name": "stdout",
     "output_type": "stream",
     "text": [
      "(<class '__main__.Sith'>, <class '__main__.Jedi'>)\n"
     ]
    }
   ],
   "source": [
    "class Jedi:\n",
    "    def __init__(self):\n",
    "        self.force = 10\n",
    "        \n",
    "class Sith:\n",
    "    def __init__(self):\n",
    "        self.force = 15\n",
    "        self.bases = 1\n",
    "        \n",
    "class Padawan(Sith, Jedi):\n",
    "    def __init__(self):\n",
    "        super().__init__()\n",
    "    \n",
    "Luke=Padawan()\n",
    "print(Padawan.__bases__)"
   ]
  },
  {
   "cell_type": "code",
   "execution_count": 14,
   "id": "30badefa",
   "metadata": {},
   "outputs": [
    {
     "name": "stdout",
     "output_type": "stream",
     "text": [
      "R2D2 is friend with C3PO\n"
     ]
    }
   ],
   "source": [
    "my_list = ['R2D2', 'C3PO']\n",
    "print(' is friend with '.join(my_list))\n"
   ]
  },
  {
   "cell_type": "code",
   "execution_count": 19,
   "id": "9827f690",
   "metadata": {},
   "outputs": [
    {
     "name": "stdout",
     "output_type": "stream",
     "text": [
      "Luke\n"
     ]
    }
   ],
   "source": [
    "class Jedi:\n",
    "    def __init__(self, name):\n",
    "        self.name = name\n",
    "        \n",
    "    #def Print(self):\n",
    "    def __str__(self):\n",
    "        return self.name\n",
    "    \n",
    "    \n",
    "Luke = Jedi('Luke')\n",
    "print(Luke)"
   ]
  },
  {
   "cell_type": "code",
   "execution_count": 20,
   "id": "863bbb46",
   "metadata": {},
   "outputs": [
    {
     "name": "stdout",
     "output_type": "stream",
     "text": [
      "1\n",
      "2\n",
      "3\n",
      "I am master Jedi Baby Yoda\n"
     ]
    }
   ],
   "source": [
    "class Jedi:\n",
    "    Force = 0\n",
    "    def __init__(self,name):\n",
    "        Jedi.Force +=1\n",
    "        self.name = name\n",
    "    def __str__(self):\n",
    "        return \"I am master Jedi \" + self.name\n",
    "    \n",
    "class Padawan(Jedi):\n",
    "    def print(self):\n",
    "        return \"I am a Padawan\"\n",
    "    \n",
    "Luke=Jedi('Luke')\n",
    "print(Jedi.Force)                # 1\n",
    "Ben=Jedi('Ben')\n",
    "print(Jedi.Force)                # 2\n",
    "Baby_Yoda=Padawan('Baby Yoda')\n",
    "print(Jedi.Force)                # 3\n",
    "print(Baby_Yoda)                 # I am master Jedi Baby Yoda\n",
    "\n",
    "\n"
   ]
  },
  {
   "cell_type": "code",
   "execution_count": 21,
   "id": "e5ecb08b",
   "metadata": {},
   "outputs": [
    {
     "name": "stdout",
     "output_type": "stream",
     "text": [
      "['__doc__', '__loader__', '__name__', '__package__', '__spec__', 'acos', 'acosh', 'asin', 'asinh', 'atan', 'atan2', 'atanh', 'cbrt', 'ceil', 'comb', 'copysign', 'cos', 'cosh', 'degrees', 'dist', 'e', 'erf', 'erfc', 'exp', 'exp2', 'expm1', 'fabs', 'factorial', 'floor', 'fma', 'fmod', 'frexp', 'fsum', 'gamma', 'gcd', 'hypot', 'inf', 'isclose', 'isfinite', 'isinf', 'isnan', 'isqrt', 'lcm', 'ldexp', 'lgamma', 'log', 'log10', 'log1p', 'log2', 'modf', 'nan', 'nextafter', 'perm', 'pi', 'pow', 'prod', 'radians', 'remainder', 'sin', 'sinh', 'sqrt', 'sumprod', 'tan', 'tanh', 'tau', 'trunc', 'ulp']\n",
      "--------------\n",
      "{'__name__': 'math', '__doc__': 'This module provides access to the mathematical functions\\ndefined by the C standard.', '__package__': '', '__loader__': <class '_frozen_importlib.BuiltinImporter'>, '__spec__': ModuleSpec(name='math', loader=<class '_frozen_importlib.BuiltinImporter'>, origin='built-in'), 'acos': <built-in function acos>, 'acosh': <built-in function acosh>, 'asin': <built-in function asin>, 'asinh': <built-in function asinh>, 'atan': <built-in function atan>, 'atan2': <built-in function atan2>, 'atanh': <built-in function atanh>, 'cbrt': <built-in function cbrt>, 'ceil': <built-in function ceil>, 'copysign': <built-in function copysign>, 'cos': <built-in function cos>, 'cosh': <built-in function cosh>, 'degrees': <built-in function degrees>, 'dist': <built-in function dist>, 'erf': <built-in function erf>, 'erfc': <built-in function erfc>, 'exp': <built-in function exp>, 'exp2': <built-in function exp2>, 'expm1': <built-in function expm1>, 'fabs': <built-in function fabs>, 'factorial': <built-in function factorial>, 'floor': <built-in function floor>, 'fma': <built-in function fma>, 'fmod': <built-in function fmod>, 'frexp': <built-in function frexp>, 'fsum': <built-in function fsum>, 'gamma': <built-in function gamma>, 'gcd': <built-in function gcd>, 'hypot': <built-in function hypot>, 'isclose': <built-in function isclose>, 'isfinite': <built-in function isfinite>, 'isinf': <built-in function isinf>, 'isnan': <built-in function isnan>, 'isqrt': <built-in function isqrt>, 'lcm': <built-in function lcm>, 'ldexp': <built-in function ldexp>, 'lgamma': <built-in function lgamma>, 'log': <built-in function log>, 'log1p': <built-in function log1p>, 'log10': <built-in function log10>, 'log2': <built-in function log2>, 'modf': <built-in function modf>, 'pow': <built-in function pow>, 'radians': <built-in function radians>, 'remainder': <built-in function remainder>, 'sin': <built-in function sin>, 'sinh': <built-in function sinh>, 'sqrt': <built-in function sqrt>, 'tan': <built-in function tan>, 'tanh': <built-in function tanh>, 'sumprod': <built-in function sumprod>, 'trunc': <built-in function trunc>, 'prod': <built-in function prod>, 'perm': <built-in function perm>, 'comb': <built-in function comb>, 'nextafter': <built-in function nextafter>, 'ulp': <built-in function ulp>, 'pi': 3.141592653589793, 'e': 2.718281828459045, 'tau': 6.283185307179586, 'inf': inf, 'nan': nan}\n"
     ]
    }
   ],
   "source": [
    "import math            # Line 1\n",
    "print(dir(math))\n",
    "print(\"--------------\")\n",
    "print(math.__dict__)"
   ]
  },
  {
   "cell_type": "code",
   "execution_count": 26,
   "id": "3a51fe1e",
   "metadata": {},
   "outputs": [
    {
     "name": "stdout",
     "output_type": "stream",
     "text": [
      "{'name': 'Luke', '_Jedi__force': 11, 'lightsaber': True}\n",
      "{'__module__': '__main__', '__firstlineno__': 1, '_Jedi__coisas': 112, '__init__': <function Jedi.__init__ at 0x00000243F3DF4360>, '__static_attributes__': ('__force', 'name'), '__dict__': <attribute '__dict__' of 'Jedi' objects>, '__weakref__': <attribute '__weakref__' of 'Jedi' objects>, '__doc__': None}\n"
     ]
    }
   ],
   "source": [
    "class Jedi:\n",
    "    __coisas=112\n",
    "    def __init__(self, name):\n",
    "        self.name = name\n",
    "        self.__force = 11\n",
    "    #def set_force(self, val):\n",
    "        #self.__force = val\n",
    "    \n",
    "Luke = Jedi('Luke')\n",
    "#Luke.set_force(10)\n",
    "Luke.lightsaber = True\n",
    "    \n",
    "print(Luke.__dict__)\n",
    "print(Jedi.__dict__)"
   ]
  },
  {
   "cell_type": "code",
   "execution_count": 31,
   "id": "df3c2f02",
   "metadata": {},
   "outputs": [
    {
     "name": "stdout",
     "output_type": "stream",
     "text": [
      "15\n"
     ]
    }
   ],
   "source": [
    "my_str = \"No, I am your father !\"\n",
    "z = my_str.find(\"a\",7,19)\n",
    "print(z)"
   ]
  },
  {
   "cell_type": "code",
   "execution_count": 3,
   "id": "23402480",
   "metadata": {},
   "outputs": [
    {
     "name": "stdout",
     "output_type": "stream",
     "text": [
      "[0, 1, 2, 3, 4, 5, 6, 7, 8, 9]\n"
     ]
    }
   ],
   "source": [
    "my_l = [[i+j for i in range(1,5,1)] for j in range(-1,6,3)]\n",
    "my_p =[]\n",
    "    \n",
    "for l in my_l:\n",
    "    for k in l:\n",
    "        if k not in my_p:\n",
    "            my_p.append(k)\n",
    "    \n",
    "print(my_p)"
   ]
  },
  {
   "cell_type": "code",
   "execution_count": 9,
   "id": "0305b92e",
   "metadata": {},
   "outputs": [
    {
     "name": "stdout",
     "output_type": "stream",
     "text": [
      "['alaok', 'elppa', 'oloP', 'zB4321']\n",
      "['koala', 'apple', 'Polo', '1234Bz']\n",
      "oiram\n"
     ]
    }
   ],
   "source": [
    "my_list = ['apple', 'koala', '1234Bz', 'Polo']\n",
    "x = my_list.sort(key = lambda x: x[::-1])\n",
    "inverted_list = [x[::-1] for x in my_list]\n",
    "print(inverted_list)\n",
    "print(my_list)\n",
    "p=\"mario\"\n",
    "print(p[::-1])"
   ]
  },
  {
   "cell_type": "code",
   "execution_count": 10,
   "id": "a5acbd60",
   "metadata": {},
   "outputs": [
    {
     "name": "stdout",
     "output_type": "stream",
     "text": [
      "{'a': 97, 'b': 98, 'c': 99, 'd': 100}\n",
      "97\n",
      "[97]\n",
      "98\n",
      "[98, 97]\n",
      "99\n",
      "[98, 99, 97]\n",
      "100\n",
      "[98, 99, 100, 97]\n",
      "[98, 99, 100, 97]\n"
     ]
    }
   ],
   "source": [
    "my_list = {'a': ord('a'), 'b': ord('b'), 'c': ord('c'), 'd': ord('d') }\n",
    "print(my_list)\n",
    "list=[]\n",
    "for i in sorted(my_list.keys()):\n",
    "    print(my_list[i])\n",
    "    list.insert(-1,my_list[i])\n",
    "    print(list)\n",
    " \n",
    "print(list)"
   ]
  },
  {
   "cell_type": "code",
   "execution_count": 5,
   "id": "86bf27ef",
   "metadata": {},
   "outputs": [
    {
     "name": "stdout",
     "output_type": "stream",
     "text": [
      "<class 'tuple'>\n",
      "('ERRITO',)\n"
     ]
    }
   ],
   "source": [
    "try:\n",
    "    raise Exception(\"ERRITO\")\n",
    "except Exception as e:\n",
    "    print(type(e.args))\n",
    "    print(e.args)"
   ]
  },
  {
   "cell_type": "code",
   "execution_count": 9,
   "id": "c57a554f",
   "metadata": {},
   "outputs": [
    {
     "name": "stdout",
     "output_type": "stream",
     "text": [
      "4\n"
     ]
    }
   ],
   "source": [
    "class Lambda():\n",
    "    L=2\n",
    "    def __init__(self, x = 0):\n",
    "        self.l = x + 1\n",
    "        self.__m = x\n",
    "    def set(self, y = 2):\n",
    "        self.k = y + 1\n",
    "        return self.k \n",
    "    \n",
    "class Omega(Lambda):\n",
    "    M=2\n",
    "    def __str__(self):\n",
    "        return str(super().set(3))  \n",
    "    \n",
    "m = Omega()\n",
    "m.__n=3 \n",
    "\n",
    "print(m)"
   ]
  },
  {
   "cell_type": "code",
   "execution_count": 13,
   "id": "77e4a2de",
   "metadata": {},
   "outputs": [
    {
     "name": "stdout",
     "output_type": "stream",
     "text": [
      "['line #1\\n', 'line #2\\n', 'line #3\\n', 'line #4\\n', 'line #5\\n']\n"
     ]
    }
   ],
   "source": [
    "\n",
    "# Now this part of the code is to read the file Stars.txt                                        \n",
    "f = open('Stars.txt', 'rt')     \n",
    "data = f.readlines()[:5]             \n",
    "f.close()    \n",
    "print(data)    # ['Sirius\\n', 'Canopus\\n', 'Arcturus\\n', 'Vega\\n', 'Capella\\n']                                               "
   ]
  },
  {
   "cell_type": "code",
   "execution_count": 14,
   "id": "21ab4830",
   "metadata": {},
   "outputs": [
    {
     "name": "stdout",
     "output_type": "stream",
     "text": [
      "Franceoal\n",
      "France\n",
      "Fra\n",
      "Error 3\n"
     ]
    }
   ],
   "source": [
    "x = 'Franceoal'\n",
    "    \n",
    "def func(x):\n",
    "    return x[:-3]\n",
    "    \n",
    "try:\n",
    "    for i in range(3):\n",
    "        print(x)\n",
    "        x = func(x)\n",
    "        \n",
    "        assert x, \"Assert Error\"    # Added message to make it clear it is an \n",
    "    print(x)    \n",
    "except IndexError:\n",
    "    print(\"Error 1\")\n",
    "except LookupError:\n",
    "    print(\"Error 2\")\n",
    "except:\n",
    "    print(\"Error 3\")"
   ]
  },
  {
   "cell_type": "code",
   "execution_count": 31,
   "id": "e71630ec",
   "metadata": {},
   "outputs": [
    {
     "name": "stdout",
     "output_type": "stream",
     "text": [
      "False\n",
      "False\n",
      "False\n",
      "False\n",
      "False\n",
      "False\n"
     ]
    }
   ],
   "source": [
    "str1=2500\n",
    "str2=2500\n",
    "print(id(str1) == id(str2))\t\n",
    "str1=\"asdksçkdaçskdlçksad lçksadlça ksdlçdaºak dºdgsdgdlkºgklsgk çlsfdçgdfkgs lkfdlçg fgdsçghello\"\n",
    "str2=\"asdksçkdaçskdlçksad lçksadlça ksdlçdaºak dºdgsdgdlkºgklsgk çlsfdçgdfkgs lkfdlçg fgdsçghello\"\n",
    "print(id(str1) == id(str2))\t\n",
    "str1=(1,)\n",
    "str2=(1,)\n",
    "print(id(str1) == id(str2))\t\n",
    "str1=[1,2,4]\n",
    "str2=[1,2,4]\n",
    "print(id(str1) == id(str2))\t\n",
    "str1={1,2,4}\n",
    "str2={1,2,4}\n",
    "print(id(str1) == id(str2))\t\n",
    "str1={1:\"ola\",2:\"ole\"}\n",
    "str2={1:\"ola\",2:\"ole\"}\n",
    "print(id(str1) == id(str2))\t\n"
   ]
  },
  {
   "cell_type": "code",
   "execution_count": 34,
   "id": "d1f2f9d8",
   "metadata": {},
   "outputs": [
    {
     "name": "stdout",
     "output_type": "stream",
     "text": [
      "0:1:2:3:4:5:6:7:8:9:"
     ]
    }
   ],
   "source": [
    "for i in range(10):\n",
    "    print(i,end=':')"
   ]
  },
  {
   "cell_type": "code",
   "execution_count": 49,
   "id": "67c02dbd",
   "metadata": {},
   "outputs": [
    {
     "name": "stdout",
     "output_type": "stream",
     "text": [
      "[7, 5, 5, 9, 6, 7, 4, 2, 7, 5]\n"
     ]
    }
   ],
   "source": [
    "import random\n",
    "#x = [random.randint(1, 10) for i in range(10)]\n",
    "#x=random.sample(range(1, 11), 5)\n",
    "x=[int(random.random()*10+1) for i in range(10)]\n",
    "print(x)"
   ]
  },
  {
   "cell_type": "code",
   "execution_count": 55,
   "id": "8883b868",
   "metadata": {},
   "outputs": [
    {
     "name": "stdout",
     "output_type": "stream",
     "text": [
      "True\n",
      "True\n",
      "True\n"
     ]
    }
   ],
   "source": [
    "class Gamma:\n",
    "    P = 1\n",
    "    def __init__(self, val):\n",
    "        self.g = val\n",
    "    \n",
    "class Kappa(Gamma):\n",
    "    K = 0\n",
    "    pass\n",
    "    \n",
    "k1 = Kappa(1)\n",
    "k2 = Kappa(2)\n",
    "k3 = k1\n",
    "k3.g += 1\n",
    "\n",
    "print(isinstance(k2, Gamma))\n",
    "print(hasattr(k2,'g'))\n",
    "print(hasattr(Gamma,'P'))"
   ]
  },
  {
   "cell_type": "code",
   "execution_count": 54,
   "id": "c96e182d",
   "metadata": {},
   "outputs": [
    {
     "ename": "UnsupportedOperation",
     "evalue": "not readable",
     "output_type": "error",
     "traceback": [
      "\u001b[31m---------------------------------------------------------------------------\u001b[39m",
      "\u001b[31mUnsupportedOperation\u001b[39m                      Traceback (most recent call last)",
      "\u001b[36mCell\u001b[39m\u001b[36m \u001b[39m\u001b[32mIn[54]\u001b[39m\u001b[32m, line 5\u001b[39m\n\u001b[32m      3\u001b[39m     f.write(\u001b[33m'\u001b[39m\u001b[33mLine #\u001b[39m\u001b[33m'\u001b[39m + \u001b[38;5;28mstr\u001b[39m(i) + \u001b[33m'\u001b[39m\u001b[38;5;130;01m\\n\u001b[39;00m\u001b[33m'\u001b[39m)\n\u001b[32m      4\u001b[39m f.seek(\u001b[32m0\u001b[39m)\n\u001b[32m----> \u001b[39m\u001b[32m5\u001b[39m \u001b[38;5;28mprint\u001b[39m(\u001b[43mf\u001b[49m\u001b[43m.\u001b[49m\u001b[43mreadline\u001b[49m\u001b[43m(\u001b[49m\u001b[32;43m10\u001b[39;49m\u001b[43m)\u001b[49m)\n\u001b[32m      6\u001b[39m f.close()\n",
      "\u001b[31mUnsupportedOperation\u001b[39m: not readable"
     ]
    }
   ],
   "source": [
    "f = open(\"myfile.txt\", \"at\")\n",
    "for i in range(1,11):\n",
    "    f.write('Line #' + str(i) + '\\n')\n",
    "f.seek(0)\n",
    "print(f.readline(10))\n",
    "f.close()"
   ]
  },
  {
   "cell_type": "code",
   "execution_count": 59,
   "id": "7134ea94",
   "metadata": {},
   "outputs": [
    {
     "name": "stdout",
     "output_type": "stream",
     "text": [
      "3\n",
      "['\\t\\\\', '\\t\\\\', '\\t']\n"
     ]
    }
   ],
   "source": [
    "x = '\\t\\\\1'*2 + '\\t'\n",
    "print(len(x.split('1')))\n",
    "print(x.split('1'))"
   ]
  },
  {
   "cell_type": "code",
   "execution_count": 61,
   "id": "6925e30c",
   "metadata": {},
   "outputs": [
    {
     "name": "stdout",
     "output_type": "stream",
     "text": [
      "['Mario', 'Mario', 'Mario', 'Mario', 'Mario', 'Mario', 'Mario', 'Mario', 'Mario', 'Mario']\n"
     ]
    }
   ],
   "source": [
    "X = [\"Mario\" for i in range(10)]\n",
    "print(X)"
   ]
  },
  {
   "cell_type": "code",
   "execution_count": 63,
   "id": "6ca4ed5f",
   "metadata": {},
   "outputs": [
    {
     "name": "stdout",
     "output_type": "stream",
     "text": [
      "ABC\n",
      "ABC\n",
      "ABC\n",
      "ABC\n",
      "ABC\n",
      "ABC\n",
      "ABC\n",
      "ABC\n",
      "ABC\n",
      "ABC\n",
      "\n"
     ]
    }
   ],
   "source": [
    "L = [\"ABC\\n\" for x in range(10)]\n",
    "f = open(\"myfile2.txt\", \"w+\")\n",
    "f.writelines(L)\n",
    "f.seek(0)\n",
    "print(f.read())\n",
    "f.close()"
   ]
  },
  {
   "cell_type": "code",
   "execution_count": 64,
   "id": "511390ce",
   "metadata": {},
   "outputs": [
    {
     "name": "stdout",
     "output_type": "stream",
     "text": [
      "Error\n",
      "Done\n",
      "2\n"
     ]
    }
   ],
   "source": [
    "class Delta:\n",
    "    D=1\n",
    "    def __init__(self, d):\n",
    "        self.__d = d + 1\n",
    "    \n",
    "try:\n",
    "    d = Delta(1)\n",
    "    print(d.__d) \n",
    "except:\n",
    "    print(\"Error\")    # Error\n",
    "else:\n",
    "    print(\"All good\")\n",
    "finally:\n",
    "    print(\"Done\")     # Done\n",
    "    \n",
    "# correct way to access property d using mangled name:\n",
    "print(d._Delta__d)    # 2"
   ]
  },
  {
   "cell_type": "code",
   "execution_count": 74,
   "id": "11cde2d9",
   "metadata": {},
   "outputs": [
    {
     "name": "stdout",
     "output_type": "stream",
     "text": [
      "['France', 'Mexico']\n"
     ]
    }
   ],
   "source": [
    "list_1 = ['France','USA$','Canada!','Italy2','Mexico']\n",
    "#list_2 = list(filter(lambda x: x[-1].isalpha(), list_1))\n",
    "list_2 = list(filter(lambda x: x.isalpha(), list_1))\n",
    "print(list_2)    # [True, False, False, False, True]\n",
    "\n",
    "#print(x[-2])"
   ]
  },
  {
   "cell_type": "code",
   "execution_count": 78,
   "id": "3715ab05",
   "metadata": {},
   "outputs": [
    {
     "name": "stdout",
     "output_type": "stream",
     "text": [
      "True\n",
      "(<class '__main__.Alpha'>,)\n"
     ]
    }
   ],
   "source": [
    "class Alpha:\n",
    "    a=5\n",
    "    def __init__(self, x):\n",
    "        self.b = x\n",
    "    \n",
    "class Beta(Alpha):\n",
    "    c = 2\n",
    "    def __str__(self):\n",
    "        return \"Beta\"\n",
    "    \n",
    "beta = Beta(5)\n",
    "beta.d = 4\n",
    "\n",
    "print(hasattr(beta, 'a'))    # True\n",
    "print(Beta.__bases__)"
   ]
  },
  {
   "cell_type": "code",
   "execution_count": 80,
   "id": "542ab29a",
   "metadata": {},
   "outputs": [
    {
     "name": "stdout",
     "output_type": "stream",
     "text": [
      "3\n"
     ]
    }
   ],
   "source": [
    "class Class1:\n",
    "    def __init__(self,val):    \n",
    "        self.x = val\n",
    "        #return self.x   # if you uncomment this will raise an exception when creating an object\n",
    " \n",
    "class Class2(Class1):\n",
    "    def __init__(self,val):\n",
    "        #Class1.__init__(self,val)  # calling Class1 constructor within a subclass\n",
    "        super().__init__(val)\n",
    " \n",
    "a = Class1(2)\n",
    "b = Class2(3)\n",
    "print(b.x)        # 3"
   ]
  },
  {
   "cell_type": "code",
   "execution_count": 84,
   "id": "c1829208",
   "metadata": {},
   "outputs": [
    {
     "name": "stdout",
     "output_type": "stream",
     "text": [
      "in the except branch\n"
     ]
    }
   ],
   "source": [
    "#try:\n",
    "#    raise ArithmeticError\n",
    "#except (ArithmeticError, LookupError):\n",
    "#    print(\"in the except branch\")    # in the except branch\n",
    " \n",
    "try:\n",
    "    raise LookupError\n",
    "except (ArithmeticError, LookupError):\n",
    "    print(\"in the except branch\")  # in the except branch\n",
    " "
   ]
  }
 ],
 "metadata": {
  "kernelspec": {
   "display_name": "Python 3",
   "language": "python",
   "name": "python3"
  },
  "language_info": {
   "codemirror_mode": {
    "name": "ipython",
    "version": 3
   },
   "file_extension": ".py",
   "mimetype": "text/x-python",
   "name": "python",
   "nbconvert_exporter": "python",
   "pygments_lexer": "ipython3",
   "version": "3.13.6"
  }
 },
 "nbformat": 4,
 "nbformat_minor": 5
}
