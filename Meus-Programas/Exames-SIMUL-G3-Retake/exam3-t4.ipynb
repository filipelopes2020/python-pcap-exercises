{
 "cells": [
  {
   "cell_type": "code",
   "execution_count": 1,
   "id": "a0ebb55a",
   "metadata": {},
   "outputs": [
    {
     "name": "stdout",
     "output_type": "stream",
     "text": [
      "nt\n"
     ]
    }
   ],
   "source": [
    "import os\n",
    " \n",
    "print(os.name)"
   ]
  },
  {
   "cell_type": "code",
   "execution_count": 16,
   "id": "6f145299",
   "metadata": {},
   "outputs": [
    {
     "name": "stdout",
     "output_type": "stream",
     "text": [
      "1 0\n"
     ]
    }
   ],
   "source": [
    "x = 0\n",
    "y = 0\n",
    " \n",
    "def fun1():\n",
    "    global x\n",
    "    x += 1\n",
    "    return x\n",
    " \n",
    "def fun2():\n",
    "    global y\n",
    "    y += 1\n",
    "    return 1\n",
    " \n",
    "z = fun1() or fun2()\n",
    " \n",
    "print(x, y)\n",
    "#print(fun1(), fun2())\n",
    " "
   ]
  },
  {
   "cell_type": "code",
   "execution_count": 18,
   "id": "80e2cf22",
   "metadata": {},
   "outputs": [
    {
     "name": "stdout",
     "output_type": "stream",
     "text": [
      "0b11 0b1\n",
      "0b10 0b1\n",
      "0b1 0b1\n",
      "1\n"
     ]
    }
   ],
   "source": [
    "a = 2\n",
    "b = 1\n",
    " \n",
    "a = a | b ; print(bin(a), bin(b))\n",
    "a = a ^ b ; print(bin(a), bin(b))\n",
    "a = a >> b; print(bin(a), bin(b))\n",
    " \n",
    "print(a)"
   ]
  },
  {
   "cell_type": "code",
   "execution_count": 29,
   "id": "00c01c72",
   "metadata": {},
   "outputs": [
    {
     "name": "stdout",
     "output_type": "stream",
     "text": [
      "(1, 2, 3, 4, (5, 9, 7))\n"
     ]
    }
   ],
   "source": [
    "tpl = (1, 2, 3, 4)\n",
    "tpl = tpl + ((5,9,7),)\n",
    "print(tpl)"
   ]
  },
  {
   "cell_type": "code",
   "execution_count": 30,
   "id": "03dd8443",
   "metadata": {},
   "outputs": [
    {
     "name": "stdout",
     "output_type": "stream",
     "text": [
      "['1.315', '0.2', '5']\n",
      "51.315\n",
      "51.315\n"
     ]
    }
   ],
   "source": [
    "l = \"1.315 0.2 5\".split() \n",
    "print(l)  \n",
    "s = l[-1] + l[0]\n",
    "print(s)                # line 2\n",
    "print(float(s))           # line 3\n",
    " "
   ]
  },
  {
   "cell_type": "code",
   "execution_count": 31,
   "id": "f40ec297",
   "metadata": {},
   "outputs": [
    {
     "name": "stdout",
     "output_type": "stream",
     "text": [
      "False\n",
      "False\n",
      "True\n",
      "True\n"
     ]
    }
   ],
   "source": [
    "print('1000' > '2')                     # False\n",
    "print('aBcD' < 'AbCd')                  # False\n",
    "print('python' > 'python'.capitalize()) # True\n",
    "print('abc' * 0 < 1 * ' ')              # True"
   ]
  },
  {
   "cell_type": "code",
   "execution_count": 37,
   "id": "078efb6d",
   "metadata": {},
   "outputs": [
    {
     "name": "stdout",
     "output_type": "stream",
     "text": [
      "False\n",
      "True\n",
      "True\n",
      "True\n"
     ]
    }
   ],
   "source": [
    "s1 = 'abc'\n",
    "s2 = s1[:]\n",
    "print(id(s1) != id(s2))   # False\n",
    "print(len(s1) == len(s2)) # True\n",
    "print(s1[2:4] == s2[-1])  # True\n",
    "print(s1[0] == s2[0:1])   # True"
   ]
  },
  {
   "cell_type": "code",
   "execution_count": 38,
   "id": "89512436",
   "metadata": {},
   "outputs": [
    {
     "name": "stdout",
     "output_type": "stream",
     "text": [
      "abc\n"
     ]
    }
   ],
   "source": [
    "s = 'acb'\n",
    "new_s = ''.join(sorted(s))\n",
    "print(new_s)"
   ]
  },
  {
   "cell_type": "code",
   "execution_count": null,
   "id": "8c4b0483",
   "metadata": {},
   "outputs": [
    {
     "name": "stdout",
     "output_type": "stream",
     "text": [
      "acb\n"
     ]
    }
   ],
   "source": [
    "l = list('acb')\n",
    "sorted(l)\n",
    "print(''.join(l))"
   ]
  },
  {
   "cell_type": "code",
   "execution_count": 44,
   "id": "9f4babe7",
   "metadata": {},
   "outputs": [
    {
     "name": "stdout",
     "output_type": "stream",
     "text": [
      "<class 'list'> <class 'list'>\n",
      "<class 'str'> <class 'str'>\n",
      "['E2BIG', 'EACCES', 'EADDRINUSE', 'EADDRNOTAVAIL', 'EAFNOSUPPORT', 'EAGAIN', 'EALREADY', 'EBADF', 'EBADMSG', 'EBUSY', 'ECANCELED', 'ECHILD', 'ECONNABORTED', 'ECONNREFUSED', 'ECONNRESET', 'EDEADLK', 'EDEADLOCK', 'EDESTADDRREQ', 'EDOM', 'EDQUOT', 'EEXIST', 'EFAULT', 'EFBIG', 'EHOSTDOWN', 'EHOSTUNREACH', 'EIDRM', 'EILSEQ', 'EINPROGRESS', 'EINTR', 'EINVAL', 'EIO', 'EISCONN', 'EISDIR', 'ELOOP', 'EMFILE', 'EMLINK', 'EMSGSIZE', 'ENAMETOOLONG', 'ENETDOWN', 'ENETRESET', 'ENETUNREACH', 'ENFILE', 'ENOBUFS', 'ENODATA', 'ENODEV', 'ENOENT', 'ENOEXEC', 'ENOLCK', 'ENOLINK', 'ENOMEM', 'ENOMSG', 'ENOPROTOOPT', 'ENOSPC', 'ENOSR', 'ENOSTR', 'ENOSYS', 'ENOTCONN', 'ENOTDIR', 'ENOTEMPTY', 'ENOTRECOVERABLE', 'ENOTSOCK', 'ENOTSUP', 'ENOTTY', 'ENXIO', 'EOPNOTSUPP', 'EOVERFLOW', 'EOWNERDEAD', 'EPERM', 'EPFNOSUPPORT', 'EPIPE', 'EPROTO', 'EPROTONOSUPPORT', 'EPROTOTYPE', 'ERANGE', 'EREMOTE', 'EROFS', 'ESHUTDOWN', 'ESOCKTNOSUPPORT', 'ESPIPE', 'ESRCH', 'ESTALE', 'ETIME', 'ETIMEDOUT', 'ETOOMANYREFS', 'ETXTBSY', 'EUSERS', 'EWOULDBLOCK', 'EXDEV', 'WSABASEERR', 'WSAEACCES', 'WSAEADDRINUSE', 'WSAEADDRNOTAVAIL', 'WSAEAFNOSUPPORT', 'WSAEALREADY', 'WSAEBADF', 'WSAECONNABORTED', 'WSAECONNREFUSED', 'WSAECONNRESET', 'WSAEDESTADDRREQ', 'WSAEDISCON', 'WSAEDQUOT', 'WSAEFAULT', 'WSAEHOSTDOWN', 'WSAEHOSTUNREACH', 'WSAEINPROGRESS', 'WSAEINTR', 'WSAEINVAL', 'WSAEISCONN', 'WSAELOOP', 'WSAEMFILE', 'WSAEMSGSIZE', 'WSAENAMETOOLONG', 'WSAENETDOWN', 'WSAENETRESET', 'WSAENETUNREACH', 'WSAENOBUFS', 'WSAENOPROTOOPT', 'WSAENOTCONN', 'WSAENOTEMPTY', 'WSAENOTSOCK', 'WSAEOPNOTSUPP', 'WSAEPFNOSUPPORT', 'WSAEPROCLIM', 'WSAEPROTONOSUPPORT', 'WSAEPROTOTYPE', 'WSAEREMOTE', 'WSAESHUTDOWN', 'WSAESOCKTNOSUPPORT', 'WSAESTALE', 'WSAETIMEDOUT', 'WSAETOOMANYREFS', 'WSAEUSERS', 'WSAEWOULDBLOCK', 'WSANOTINITIALISED', 'WSASYSNOTREADY', 'WSAVERNOTSUPPORTED', '__doc__', '__loader__', '__name__', '__package__', '__spec__', 'errorcode']\n"
     ]
    }
   ],
   "source": [
    "import math, sys, errno\n",
    "    \n",
    "print(type(dir(math)), type(sys.path))\n",
    "print(type(dir(math)[0]), type(sys.path[0]))\n",
    "\n",
    "#print(dir(sys))\n",
    "print(dir(errno))"
   ]
  },
  {
   "cell_type": "code",
   "execution_count": 55,
   "id": "e237958f",
   "metadata": {},
   "outputs": [
    {
     "name": "stdout",
     "output_type": "stream",
     "text": [
      "6\n"
     ]
    }
   ],
   "source": [
    "def f(x):\n",
    "    \n",
    "    def g():\n",
    "        return x + 4 \n",
    "    return g()\n",
    "    \n",
    "var = f(2)\n",
    "\n",
    "print(var)"
   ]
  },
  {
   "cell_type": "code",
   "execution_count": 59,
   "id": "76580533",
   "metadata": {},
   "outputs": [
    {
     "name": "stdout",
     "output_type": "stream",
     "text": [
      "<function f.<locals>.g at 0x000001532E925E40>\n",
      "14\n",
      "-------\n",
      "(<cell at 0x000001532E3A52D0: int object at 0x00007FFA7D6E74C8>,)\n",
      "10\n"
     ]
    }
   ],
   "source": [
    "def f(x):\n",
    "    def g():\n",
    "        return x + 4\n",
    "    return g\n",
    "\n",
    "g1 = f(10)\n",
    "print(g1)                         # -> função\n",
    "print(g1())         \n",
    "print(\"-------\")# -> 14\n",
    "print(g1.__closure__)                 # -> tuple com cells (não None)\n",
    "print(g1.__closure__[0].cell_contents) # -> 10"
   ]
  },
  {
   "cell_type": "code",
   "execution_count": 71,
   "id": "b4bd29c8",
   "metadata": {},
   "outputs": [
    {
     "name": "stdout",
     "output_type": "stream",
     "text": [
      "True\n",
      "True\n",
      "True\n"
     ]
    }
   ],
   "source": [
    "print(\"MONTY PYTHON!$&%ÃÇÓ!\\\"[]\".isupper())\n",
    "print(\"\\n\\t\\t\\t\\t\\t\\t\".isspace())\n",
    "print(\"a-b-c.!.$#\".islower())"
   ]
  },
  {
   "cell_type": "code",
   "execution_count": 75,
   "id": "8f2f4ce8",
   "metadata": {},
   "outputs": [
    {
     "name": "stdout",
     "output_type": "stream",
     "text": [
      "{}\n",
      "10 10\n"
     ]
    }
   ],
   "source": [
    "class A:\n",
    "    x = 0\n",
    "    def __init__(self):        \n",
    "        pass      \n",
    "    \n",
    "obj1 = A()\n",
    "obj2 = A()\n",
    "    \n",
    "A.x = 10 \n",
    "#obj1.x = 100\n",
    "print(obj1.__dict__)   \n",
    "print(obj1.x, end = \" \")\n",
    "print(obj2.x)"
   ]
  },
  {
   "cell_type": "code",
   "execution_count": 84,
   "id": "0129cb40",
   "metadata": {},
   "outputs": [
    {
     "name": "stdout",
     "output_type": "stream",
     "text": [
      "P*y*t*h*o*n*\n"
     ]
    }
   ],
   "source": [
    "def fun(s):    \n",
    "    x=\"\" \n",
    "    for i in range(len(s)):\n",
    "        x += s[i] + '*'        \n",
    "    return x \n",
    " \n",
    "s = 'Python'\n",
    " \n",
    "print(fun(s))\n",
    " "
   ]
  },
  {
   "cell_type": "code",
   "execution_count": null,
   "id": "a46f61ef",
   "metadata": {},
   "outputs": [
    {
     "name": "stdout",
     "output_type": "stream",
     "text": [
      "[0, 6, 4]\n"
     ]
    }
   ],
   "source": [
    "lst1 = [-1, 0, -6, 4, 7]\n",
    "lst2 = [n if n >= 0 else -n   for n in lst1   if n % 2 == 0]\n",
    "print(lst2)"
   ]
  },
  {
   "cell_type": "code",
   "execution_count": 95,
   "id": "592f550d",
   "metadata": {},
   "outputs": [
    {
     "name": "stdout",
     "output_type": "stream",
     "text": [
      "[0, 4, 7]\n"
     ]
    }
   ],
   "source": [
    "lst1 = [-1, 0, -6, 4, 7]\n",
    "absolutos = [n if n >= 0 else -n for n in lst1 if n>=4 or n==0]\n",
    "print(absolutos)  \n"
   ]
  },
  {
   "cell_type": "code",
   "execution_count": 98,
   "id": "cb19eba2",
   "metadata": {},
   "outputs": [
    {
     "name": "stdout",
     "output_type": "stream",
     "text": [
      "dog\n",
      "cat\n",
      "foxn\n",
      "fox\n",
      "bat\n",
      "tiger\n",
      "fox\n",
      "dolphin\n"
     ]
    }
   ],
   "source": [
    "strm = open('animals.txt', 'a+')\n",
    "    \n",
    "strm.write('\\ndolphin')\n",
    "strm.seek(0)\n",
    "print(strm.read())\n",
    "    \n",
    "strm.close()"
   ]
  },
  {
   "cell_type": "code",
   "execution_count": null,
   "id": "233f6b53",
   "metadata": {},
   "outputs": [
    {
     "name": "stdout",
     "output_type": "stream",
     "text": [
      "1 [] 5 abc 2\n"
     ]
    }
   ],
   "source": [
    "x = 1 or 'a'\n",
    "y = 0 or []\n",
    "z = '' or 5 or True\n",
    "w = None or 'abc' or 0\n",
    "t = [] or 2 \n",
    "print(x, y,z,w,t)"
   ]
  },
  {
   "cell_type": "code",
   "execution_count": 115,
   "id": "393c4275",
   "metadata": {},
   "outputs": [
    {
     "name": "stdout",
     "output_type": "stream",
     "text": [
      "a 0  0 False\n"
     ]
    }
   ],
   "source": [
    "x = 1 and 'a'\n",
    "y = 0 and []\n",
    "z = '' and 5 and True\n",
    "w = 7 and 0 and True\n",
    "t = 1 and False and [] and 2\n",
    "print(x, y,z,w,t)\n",
    "#'a'\n",
    "#[]\n",
    "#''\n",
    "#0\n",
    "#[]\n"
   ]
  },
  {
   "cell_type": "code",
   "execution_count": null,
   "id": "1a4dcc49",
   "metadata": {},
   "outputs": [
    {
     "ename": "TypeError",
     "evalue": "str expected at most 3 arguments, got 4",
     "output_type": "error",
     "traceback": [
      "\u001b[31m---------------------------------------------------------------------------\u001b[39m",
      "\u001b[31mTypeError\u001b[39m                                 Traceback (most recent call last)",
      "\u001b[36mCell\u001b[39m\u001b[36m \u001b[39m\u001b[32mIn[120]\u001b[39m\u001b[32m, line 1\u001b[39m\n\u001b[32m----> \u001b[39m\u001b[32m1\u001b[39m animals = \u001b[38;5;28;43mstr\u001b[39;49m\u001b[43m(\u001b[49m\u001b[33;43m'\u001b[39;49m\u001b[33;43mdog\u001b[39;49m\u001b[38;5;130;43;01m\\n\u001b[39;49;00m\u001b[33;43m'\u001b[39;49m\u001b[43m,\u001b[49m\u001b[43m \u001b[49m\u001b[33;43m'\u001b[39;49m\u001b[33;43mcat\u001b[39;49m\u001b[38;5;130;43;01m\\n\u001b[39;49;00m\u001b[33;43m'\u001b[39;49m\u001b[43m,\u001b[49m\u001b[43m \u001b[49m\u001b[33;43m'\u001b[39;49m\u001b[33;43mfox\u001b[39;49m\u001b[38;5;130;43;01m\\n\u001b[39;49;00m\u001b[33;43m'\u001b[39;49m\u001b[43m,\u001b[49m\u001b[43m \u001b[49m\u001b[33;43m'\u001b[39;49m\u001b[33;43mlion\u001b[39;49m\u001b[33;43m'\u001b[39;49m\u001b[43m)\u001b[49m\n\u001b[32m      2\u001b[39m strm = \u001b[38;5;28mopen\u001b[39m(\u001b[33m'\u001b[39m\u001b[33manimals_2.txt\u001b[39m\u001b[33m'\u001b[39m, \u001b[33m'\u001b[39m\u001b[33mw\u001b[39m\u001b[33m'\u001b[39m)\n\u001b[32m      4\u001b[39m \u001b[38;5;66;03m#strm.writeln(animals)\u001b[39;00m\n\u001b[32m      5\u001b[39m \u001b[38;5;66;03m#strm.writelines(animals)\u001b[39;00m\n\u001b[32m      6\u001b[39m \u001b[38;5;66;03m#strm.writeline(animals)\u001b[39;00m\n",
      "\u001b[31mTypeError\u001b[39m: str expected at most 3 arguments, got 4"
     ]
    }
   ],
   "source": [
    "animals = ('dog\\n', 'cat\\n', 'fox\\n', 'lion')\n",
    "strm = open('animals_2.txt', 'w')\n",
    "    \n",
    "#strm.writeln(animals)\n",
    "#strm.writelines(animals)\n",
    "#strm.writeline(animals)\n",
    "strm.write(animals) \n",
    "\n",
    "strm.close()"
   ]
  },
  {
   "cell_type": "code",
   "execution_count": null,
   "id": "caae46c8",
   "metadata": {},
   "outputs": [
    {
     "name": "stdout",
     "output_type": "stream",
     "text": [
      "20\n",
      "2.5\n"
     ]
    }
   ],
   "source": [
    "print(2_0)\n",
    "print(int('2.5'))"
   ]
  },
  {
   "cell_type": "code",
   "execution_count": 131,
   "id": "5dcb8e40",
   "metadata": {},
   "outputs": [
    {
     "name": "stdout",
     "output_type": "stream",
     "text": [
      "[0, 2, 4, 6, 8]\n",
      "<generator object <genexpr> at 0x00000153301F8AD0>\n",
      "20\n",
      "20\n"
     ]
    }
   ],
   "source": [
    "x = [i * 2 for i in range(5)]\n",
    "y = (i * 2 for i in range(5))\n",
    "    \n",
    "print(x)\n",
    "print(y)\n",
    "    \n",
    "print(sum(x))\n",
    "print(sum(y))"
   ]
  },
  {
   "cell_type": "code",
   "execution_count": 137,
   "id": "ceb24186",
   "metadata": {},
   "outputs": [
    {
     "name": "stdout",
     "output_type": "stream",
     "text": [
      "11\n"
     ]
    }
   ],
   "source": [
    "class A:\n",
    "    def __init__(self):\n",
    "        self.x = 1\n",
    "        \n",
    "    def m(self):\n",
    "        self.x = 10       \n",
    " \n",
    "class B(A):\n",
    "    def m(self):\n",
    "        self.x = 100\n",
    "        super().m()\n",
    "        return self.x \n",
    " \n",
    "obj_a = A()\n",
    "obj_b = B()\n",
    " \n",
    "print(obj_b.m() + obj_a.x)\n",
    " "
   ]
  },
  {
   "cell_type": "code",
   "execution_count": 139,
   "id": "dc88be0c",
   "metadata": {},
   "outputs": [
    {
     "name": "stdout",
     "output_type": "stream",
     "text": [
      "0\n"
     ]
    }
   ],
   "source": [
    "lst = [0, 1, 2, 3]\n",
    "print(lst[1//2])"
   ]
  },
  {
   "cell_type": "code",
   "execution_count": 140,
   "id": "be53c0e5",
   "metadata": {},
   "outputs": [
    {
     "name": "stdout",
     "output_type": "stream",
     "text": [
      "The value of x is: 1\n"
     ]
    }
   ],
   "source": [
    "class A:\n",
    "    def __init__(self):\n",
    "        self.x = 1\n",
    " \n",
    "    def __str__(self):\n",
    "        return \"The value of x is: \" + str(self.x)\n",
    " \n",
    "class B(A):\n",
    "    def __init__(self):\n",
    "        self.x = 2\n",
    "        super().__init__()\n",
    " \n",
    "obj = B()\n",
    "print(obj)\n",
    " "
   ]
  }
 ],
 "metadata": {
  "kernelspec": {
   "display_name": "Python 3",
   "language": "python",
   "name": "python3"
  },
  "language_info": {
   "codemirror_mode": {
    "name": "ipython",
    "version": 3
   },
   "file_extension": ".py",
   "mimetype": "text/x-python",
   "name": "python",
   "nbconvert_exporter": "python",
   "pygments_lexer": "ipython3",
   "version": "3.13.6"
  }
 },
 "nbformat": 4,
 "nbformat_minor": 5
}
