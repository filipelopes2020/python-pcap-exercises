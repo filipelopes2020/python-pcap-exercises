{
 "cells": [
  {
   "cell_type": "code",
   "execution_count": 3,
   "id": "4db34ac5",
   "metadata": {},
   "outputs": [
    {
     "name": "stdout",
     "output_type": "stream",
     "text": [
      "3.14\n"
     ]
    }
   ],
   "source": [
    "import math\n",
    "print(round(math.pi,2))"
   ]
  },
  {
   "cell_type": "code",
   "execution_count": 6,
   "id": "a63b86b2",
   "metadata": {},
   "outputs": [
    {
     "name": "stdout",
     "output_type": "stream",
     "text": [
      "['AndroidVer', 'IOSVersionInfo', '_Processor', '_WIN32_CLIENT_RELEASES', '_WIN32_SERVER_RELEASES', '__builtins__', '__cached__', '__copyright__', '__doc__', '__file__', '__loader__', '__name__', '__package__', '__spec__', '__version__', '_comparable_version', '_default_architecture', '_follow_symlinks', '_get_machine_win32', '_java_getprop', '_mac_ver_xml', '_node', '_norm_version', '_os_release_cache', '_os_release_candidates', '_parse_os_release', '_platform', '_platform_cache', '_sys_version', '_sys_version_cache', '_syscmd_file', '_syscmd_ver', '_uname_cache', '_unknown_as_blank', '_ver_stages', '_win32_ver', '_wmi', '_wmi_query', 'android_ver', 'architecture', 'collections', 'freedesktop_os_release', 'functools', 'ios_ver', 'itertools', 'java_ver', 'libc_ver', 'mac_ver', 'machine', 'node', 'os', 'platform', 'processor', 'python_branch', 'python_build', 'python_compiler', 'python_implementation', 'python_revision', 'python_version', 'python_version_tuple', 're', 'release', 'sys', 'system', 'system_alias', 'uname', 'uname_result', 'version', 'win32_edition', 'win32_is_iot', 'win32_ver']\n"
     ]
    }
   ],
   "source": [
    "#from platform import sample\n",
    "import platform  \n",
    "print(dir(platform))"
   ]
  },
  {
   "cell_type": "code",
   "execution_count": 15,
   "id": "973729b4",
   "metadata": {},
   "outputs": [
    {
     "name": "stdout",
     "output_type": "stream",
     "text": [
      "File e Name Error\n"
     ]
    }
   ],
   "source": [
    "try:\n",
    "    #print(\"1\"/0)\n",
    "    print(x)\n",
    "except (NameError, FileNotFoundError):\n",
    "    print(\"File e Name Error\")\n",
    "except (ArithmeticError, ZeroDivisionError):\n",
    "    print(\"Base e Zero Div Error\")\n",
    "except:\n",
    "    print(\"Generic Error\")"
   ]
  },
  {
   "cell_type": "code",
   "execution_count": 39,
   "id": "b1f02f66",
   "metadata": {},
   "outputs": [
    {
     "name": "stdout",
     "output_type": "stream",
     "text": [
      "('Invalid input', 'ola', 1, (2, 3))\n"
     ]
    }
   ],
   "source": [
    "def foo(x):\n",
    "    assert x , (\"Invalid input\", \"ola\", 1,(2,3))\n",
    "    return 1/x\n",
    "\n",
    "try:\n",
    "    print(foo(0))\n",
    "except ZeroDivisionError:\n",
    "    print(\"Zero Div Error\")\n",
    "except AssertionError as e:\n",
    "    print(e)\n",
    "    #print(\"Assertion Error\")\n",
    "except: \n",
    "    print(\"Generic Error\")"
   ]
  },
  {
   "cell_type": "code",
   "execution_count": 46,
   "id": "489c8667",
   "metadata": {},
   "outputs": [
    {
     "name": "stdout",
     "output_type": "stream",
     "text": [
      "['dog']\n",
      "['dog']\n",
      "dog\n",
      "['cat', 'rat']\n"
     ]
    }
   ],
   "source": [
    "s1 = 'dog cat rat'\n",
    "s2 = s1.split()\n",
    "print(s2[-4:1])\n",
    "print(s2[0:1:1])\n",
    "print(s2[0])\n",
    "print(s2[1:300])"
   ]
  },
  {
   "cell_type": "code",
   "execution_count": 48,
   "id": "ac295270",
   "metadata": {},
   "outputs": [
    {
     "name": "stdout",
     "output_type": "stream",
     "text": [
      "Hello/World/!\n"
     ]
    }
   ],
   "source": [
    "my_list=['Hello', 'World','!']\n",
    "s = '/'.join(my_list)\n",
    "print(s)"
   ]
  },
  {
   "cell_type": "code",
   "execution_count": null,
   "id": "8aae5602",
   "metadata": {},
   "outputs": [],
   "source": [
    "class Python:\n",
    "    population=1\n",
    "    victims=0\n",
    "    def __init__(self):\n",
    "        self.length_ft=3\n",
    "        self.__venomous=False"
   ]
  },
  {
   "cell_type": "code",
   "execution_count": 51,
   "id": "3847f344",
   "metadata": {},
   "outputs": [
    {
     "name": "stdout",
     "output_type": "stream",
     "text": [
      "True False\n"
     ]
    }
   ],
   "source": [
    "class X: pass\n",
    "class Y(X): pass\n",
    "class Z(Y): pass\n",
    "x=Z()\n",
    "z=Z()\n",
    "print(isinstance(x,Z), isinstance(Z,X)) # True False\n"
   ]
  },
  {
   "cell_type": "code",
   "execution_count": 60,
   "id": "2e04857d",
   "metadata": {},
   "outputs": [
    {
     "name": "stdout",
     "output_type": "stream",
     "text": [
      "2\n"
     ]
    }
   ],
   "source": [
    "class A:\n",
    "    top=1\n",
    "    def __init__(self):\n",
    "        self.val=1\n",
    "class B(A):\n",
    "    mid=2\n",
    "    def __init__(self):\n",
    "        self.val=2\n",
    "        self.__val=3\n",
    "class C(B,A):\n",
    "    bot=3\n",
    "    def __init__(self):\n",
    "        self.batatas=9\n",
    "        super().__init__()\n",
    "obj_a=A()\n",
    "obj_b=B()\n",
    "obj_c=C()\n",
    "print(obj_c.val)"
   ]
  },
  {
   "cell_type": "code",
   "execution_count": 68,
   "id": "00d238ee",
   "metadata": {},
   "outputs": [
    {
     "name": "stdout",
     "output_type": "stream",
     "text": [
      "(0, 1, 2, 3)\n",
      "[0, 1, 2, 3]\n"
     ]
    }
   ],
   "source": [
    "def fun(n):\n",
    "    for i in range(n):\n",
    "        yield i \n",
    "\n",
    "print(tuple(fun(4)))\n",
    "print(list(fun(4)))\n"
   ]
  },
  {
   "cell_type": "code",
   "execution_count": 72,
   "id": "45f2d963",
   "metadata": {},
   "outputs": [
    {
     "ename": "AttributeError",
     "evalue": "module 'os' has no attribute 'uname'",
     "output_type": "error",
     "traceback": [
      "\u001b[31m---------------------------------------------------------------------------\u001b[39m",
      "\u001b[31mAttributeError\u001b[39m                            Traceback (most recent call last)",
      "\u001b[36mCell\u001b[39m\u001b[36m \u001b[39m\u001b[32mIn[72]\u001b[39m\u001b[32m, line 2\u001b[39m\n\u001b[32m      1\u001b[39m \u001b[38;5;28;01mimport\u001b[39;00m\u001b[38;5;250m \u001b[39m\u001b[34;01mos\u001b[39;00m\n\u001b[32m----> \u001b[39m\u001b[32m2\u001b[39m \u001b[38;5;28mprint\u001b[39m(\u001b[43mos\u001b[49m\u001b[43m.\u001b[49m\u001b[43muname\u001b[49m())\n",
      "\u001b[31mAttributeError\u001b[39m: module 'os' has no attribute 'uname'"
     ]
    }
   ],
   "source": [
    "import os\n",
    "print(os.uname())"
   ]
  },
  {
   "cell_type": "code",
   "execution_count": 90,
   "id": "98ca3f54",
   "metadata": {},
   "outputs": [
    {
     "name": "stdout",
     "output_type": "stream",
     "text": [
      "4 []\n"
     ]
    }
   ],
   "source": [
    "x = (lambda x: [])(2)\n",
    "y = lambda x: 2 * 2\n",
    "print(y(30),x)"
   ]
  },
  {
   "cell_type": "code",
   "execution_count": 91,
   "id": "2e5cce5d",
   "metadata": {},
   "outputs": [
    {
     "name": "stdout",
     "output_type": "stream",
     "text": [
      "2.718281828459045 1.0 20.085536923187668 1.0\n"
     ]
    }
   ],
   "source": [
    "from math import e,exp,log\n",
    "print(e, log(e,e), exp(3), exp(0))"
   ]
  },
  {
   "cell_type": "code",
   "execution_count": 97,
   "id": "400ed197",
   "metadata": {},
   "outputs": [
    {
     "name": "stdout",
     "output_type": "stream",
     "text": [
      "0 1\n"
     ]
    }
   ],
   "source": [
    "yy = 0\n",
    "def function(x,y):\n",
    "    #global y \n",
    "    y = 1\n",
    "    assert y!=0, \"y is zero\"\n",
    "    try:\n",
    "        return x/y\n",
    "    except ZeroDivisionError:\n",
    "        raise ValueError\n",
    "try:\n",
    "    function(3,10)\n",
    "except ArithmeticError:\n",
    "    y+=1\n",
    "except:\n",
    "    y+=3\n",
    "    \n",
    "print(yy,y)"
   ]
  },
  {
   "cell_type": "code",
   "execution_count": null,
   "id": "2d65be2f",
   "metadata": {},
   "outputs": [
    {
     "name": "stdout",
     "output_type": "stream",
     "text": [
      "['Charlie', 'Alice', 'Bob']\n"
     ]
    }
   ],
   "source": [
    "names=['Alice', 'Bob', 'Charlie' ]  \n",
    "\n",
    "#names.sort(key=lambda x: (x[-1], x[-2]), reverse=True)\n",
    "names.sort(key=lambda x: x[-1], reverse=True)\n",
    "print(names)\n"
   ]
  },
  {
   "cell_type": "code",
   "execution_count": 105,
   "id": "438905b3",
   "metadata": {},
   "outputs": [
    {
     "name": "stdout",
     "output_type": "stream",
     "text": [
      "False\n",
      "True\n"
     ]
    }
   ],
   "source": [
    "x=300\n",
    "y=300\n",
    "print(x is y)\n",
    "\n",
    "a=10\n",
    "b=10\n",
    "print(a is b)"
   ]
  },
  {
   "cell_type": "code",
   "execution_count": 107,
   "id": "cc9c9294",
   "metadata": {},
   "outputs": [
    {
     "name": "stdout",
     "output_type": "stream",
     "text": [
      "10.0.26100\n",
      "<class 'str'>\n"
     ]
    }
   ],
   "source": [
    "import platform\n",
    "print(platform.version())\n",
    "print(type(platform.version()))"
   ]
  },
  {
   "cell_type": "code",
   "execution_count": 130,
   "id": "0f1fd4a1",
   "metadata": {},
   "outputs": [
    {
     "name": "stdout",
     "output_type": "stream",
     "text": [
      "Windows-11-10.0.26100-SP0\n"
     ]
    }
   ],
   "source": [
    "info = platform.platform(aliased=0, terse=0)\n",
    "\n",
    "print(info)\n",
    "\n"
   ]
  },
  {
   "cell_type": "code",
   "execution_count": 132,
   "id": "a9fa3b70",
   "metadata": {},
   "outputs": [
    {
     "name": "stdout",
     "output_type": "stream",
     "text": [
      "['spam']\n"
     ]
    }
   ],
   "source": [
    "import random\n",
    "resultado = random.choices([\"spam\", \"ham\", \"eggs\"])\n",
    "print(resultado)  # Exemplo: ['ham'] - lista com 1 elemento"
   ]
  },
  {
   "cell_type": "code",
   "execution_count": 157,
   "id": "e98a9185",
   "metadata": {},
   "outputs": [
    {
     "name": "stdout",
     "output_type": "stream",
     "text": [
      "['a', 'r', 'ã', ' ', 'u']\n",
      "eggs\n"
     ]
    }
   ],
   "source": [
    "import random\n",
    "#resultado = random.choice({\"spam\", \"ham\", \"eggs\"})\n",
    "resultado =random.choice((\"spam\", \"ham\", \"eggs\"))\n",
    "texto = \"python é uma linguagem de programação\"\n",
    "print(random.choices(texto, k=5))   # → pode devolver ['p', 'y', 't', 'h', 'o']\n",
    "print(resultado)  # Exemplo: 'eggs' - um único elemento"
   ]
  },
  {
   "cell_type": "code",
   "execution_count": null,
   "id": "f4b48113",
   "metadata": {},
   "outputs": [],
   "source": [
    "import math\n",
    "math.hypot(3,4)"
   ]
  }
 ],
 "metadata": {
  "kernelspec": {
   "display_name": "Python 3",
   "language": "python",
   "name": "python3"
  },
  "language_info": {
   "codemirror_mode": {
    "name": "ipython",
    "version": 3
   },
   "file_extension": ".py",
   "mimetype": "text/x-python",
   "name": "python",
   "nbconvert_exporter": "python",
   "pygments_lexer": "ipython3",
   "version": "3.13.6"
  }
 },
 "nbformat": 4,
 "nbformat_minor": 5
}
