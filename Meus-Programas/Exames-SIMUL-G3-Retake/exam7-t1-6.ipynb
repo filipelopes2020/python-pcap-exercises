{
 "cells": [
  {
   "cell_type": "code",
   "execution_count": 7,
   "id": "26c0bbaf",
   "metadata": {},
   "outputs": [
    {
     "ename": "ValueError",
     "evalue": "",
     "output_type": "error",
     "traceback": [
      "\u001b[31m---------------------------------------------------------------------------\u001b[39m",
      "\u001b[31mValueError\u001b[39m                                Traceback (most recent call last)",
      "\u001b[36mCell\u001b[39m\u001b[36m \u001b[39m\u001b[32mIn[7]\u001b[39m\u001b[32m, line 2\u001b[39m\n\u001b[32m      1\u001b[39m \u001b[38;5;28;01mtry\u001b[39;00m:\n\u001b[32m----> \u001b[39m\u001b[32m2\u001b[39m     \u001b[38;5;28;01mraise\u001b[39;00m \u001b[38;5;167;01mValueError\u001b[39;00m\n\u001b[32m      3\u001b[39m \u001b[38;5;66;03m#except TypeError, ValueError:\u001b[39;00m\n\u001b[32m      4\u001b[39m \u001b[38;5;28;01mexcept\u001b[39;00m (\u001b[38;5;167;01mTypeError\u001b[39;00m, \u001b[38;5;167;01mValueError\u001b[39;00m) \u001b[38;5;28;01mas\u001b[39;00m e:\n",
      "\u001b[31mValueError\u001b[39m: "
     ]
    }
   ],
   "source": [
    "try:\n",
    "    raise ValueError\n",
    "#except TypeError, ValueError:\n",
    "except (TypeError, ValueError) as e:\n",
    "    raise"
   ]
  },
  {
   "cell_type": "code",
   "execution_count": 8,
   "id": "ab8f26a2",
   "metadata": {},
   "outputs": [
    {
     "name": "stdout",
     "output_type": "stream",
     "text": [
      "3\n"
     ]
    }
   ],
   "source": [
    "try:\n",
    "    raise Exception(1, 2, 3)\n",
    "except Exception as e:\n",
    "    print(len(e.args))"
   ]
  },
  {
   "cell_type": "code",
   "execution_count": 9,
   "id": "a52b7ae4",
   "metadata": {},
   "outputs": [
    {
     "data": {
      "text/plain": [
       "0"
      ]
     },
     "execution_count": 9,
     "metadata": {},
     "output_type": "execute_result"
    }
   ],
   "source": [
    "def f():\n",
    "    try:\n",
    "        1/0\n",
    "    finally:\n",
    "        return 0\n",
    "\n",
    "f()"
   ]
  },
  {
   "cell_type": "code",
   "execution_count": 12,
   "id": "7c9a33ae",
   "metadata": {},
   "outputs": [
    {
     "name": "stdout",
     "output_type": "stream",
     "text": [
      "Spam Spam "
     ]
    }
   ],
   "source": [
    "class Spam(Exception):\n",
    "    pass\n",
    "class Ham(Spam):\n",
    "    pass\n",
    "for ola in [Spam, Ham]:\n",
    "    try:\n",
    "        raise ola()\n",
    "    except Spam:\n",
    "        print(\"Spam\", end=\" \")\n",
    "    except Ham:\n",
    "        print(\"Ham\", end=\" \")"
   ]
  },
  {
   "cell_type": "code",
   "execution_count": 16,
   "id": "e1cf1a3f",
   "metadata": {},
   "outputs": [
    {
     "name": "stdout",
     "output_type": "stream",
     "text": [
      "spam\n"
     ]
    }
   ],
   "source": [
    "class MyException(Exception):\n",
    "    pass\n",
    "try:\n",
    "    raise MyException(\"spam\")\n",
    "except MyException as s:\n",
    "    print(s)"
   ]
  },
  {
   "cell_type": "code",
   "execution_count": 19,
   "id": "5ec54654",
   "metadata": {},
   "outputs": [
    {
     "ename": "RuntimeError",
     "evalue": "Falha na conversão",
     "output_type": "error",
     "traceback": [
      "\u001b[31m---------------------------------------------------------------------------\u001b[39m",
      "\u001b[31mValueError\u001b[39m                                Traceback (most recent call last)",
      "\u001b[36mCell\u001b[39m\u001b[36m \u001b[39m\u001b[32mIn[19]\u001b[39m\u001b[32m, line 2\u001b[39m\n\u001b[32m      1\u001b[39m \u001b[38;5;28;01mtry\u001b[39;00m:\n\u001b[32m----> \u001b[39m\u001b[32m2\u001b[39m     \u001b[38;5;28;43mint\u001b[39;49m\u001b[43m(\u001b[49m\u001b[33;43m\"\u001b[39;49m\u001b[33;43mabc\u001b[39;49m\u001b[33;43m\"\u001b[39;49m\u001b[43m)\u001b[49m\n\u001b[32m      3\u001b[39m \u001b[38;5;28;01mexcept\u001b[39;00m \u001b[38;5;167;01mValueError\u001b[39;00m \u001b[38;5;28;01mas\u001b[39;00m e:\n",
      "\u001b[31mValueError\u001b[39m: invalid literal for int() with base 10: 'abc'",
      "\nThe above exception was the direct cause of the following exception:\n",
      "\u001b[31mRuntimeError\u001b[39m                              Traceback (most recent call last)",
      "\u001b[36mCell\u001b[39m\u001b[36m \u001b[39m\u001b[32mIn[19]\u001b[39m\u001b[32m, line 4\u001b[39m\n\u001b[32m      2\u001b[39m     \u001b[38;5;28mint\u001b[39m(\u001b[33m\"\u001b[39m\u001b[33mabc\u001b[39m\u001b[33m\"\u001b[39m)\n\u001b[32m      3\u001b[39m \u001b[38;5;28;01mexcept\u001b[39;00m \u001b[38;5;167;01mValueError\u001b[39;00m \u001b[38;5;28;01mas\u001b[39;00m e:\n\u001b[32m----> \u001b[39m\u001b[32m4\u001b[39m     \u001b[38;5;28;01mraise\u001b[39;00m \u001b[38;5;167;01mRuntimeError\u001b[39;00m(\u001b[33m\"\u001b[39m\u001b[33mFalha na conversão\u001b[39m\u001b[33m\"\u001b[39m) \u001b[38;5;28;01mfrom\u001b[39;00m\u001b[38;5;250m \u001b[39m\u001b[34;01me\u001b[39;00m\n",
      "\u001b[31mRuntimeError\u001b[39m: Falha na conversão"
     ]
    }
   ],
   "source": [
    "try:\n",
    "    int(\"abc\")\n",
    "except ValueError as e:\n",
    "    raise RuntimeError(\"Falha na conversão\") from e"
   ]
  },
  {
   "cell_type": "code",
   "execution_count": 21,
   "id": "d378266a",
   "metadata": {},
   "outputs": [
    {
     "ename": "AttributeError",
     "evalue": "",
     "output_type": "error",
     "traceback": [
      "\u001b[31m---------------------------------------------------------------------------\u001b[39m",
      "\u001b[31mArithmeticError\u001b[39m                           Traceback (most recent call last)",
      "\u001b[36mCell\u001b[39m\u001b[36m \u001b[39m\u001b[32mIn[21]\u001b[39m\u001b[32m, line 3\u001b[39m, in \u001b[36mf\u001b[39m\u001b[34m()\u001b[39m\n\u001b[32m      2\u001b[39m \u001b[38;5;28;01mtry\u001b[39;00m:\n\u001b[32m----> \u001b[39m\u001b[32m3\u001b[39m     \u001b[38;5;28;01mraise\u001b[39;00m \u001b[38;5;167;01mArithmeticError\u001b[39;00m\n\u001b[32m      4\u001b[39m \u001b[38;5;28;01mexcept\u001b[39;00m:\n",
      "\u001b[31mArithmeticError\u001b[39m: ",
      "\nDuring handling of the above exception, another exception occurred:\n",
      "\u001b[31mAssertionError\u001b[39m                            Traceback (most recent call last)",
      "\u001b[36mCell\u001b[39m\u001b[36m \u001b[39m\u001b[32mIn[21]\u001b[39m\u001b[32m, line 5\u001b[39m, in \u001b[36mf\u001b[39m\u001b[34m()\u001b[39m\n\u001b[32m      4\u001b[39m \u001b[38;5;28;01mexcept\u001b[39;00m:\n\u001b[32m----> \u001b[39m\u001b[32m5\u001b[39m     \u001b[38;5;28;01mraise\u001b[39;00m \u001b[38;5;167;01mAssertionError\u001b[39;00m\n\u001b[32m      6\u001b[39m \u001b[38;5;28;01mfinally\u001b[39;00m:\n",
      "\u001b[31mAssertionError\u001b[39m: ",
      "\nDuring handling of the above exception, another exception occurred:\n",
      "\u001b[31mAttributeError\u001b[39m                            Traceback (most recent call last)",
      "\u001b[36mCell\u001b[39m\u001b[36m \u001b[39m\u001b[32mIn[21]\u001b[39m\u001b[32m, line 9\u001b[39m\n\u001b[32m      7\u001b[39m         \u001b[38;5;28;01mraise\u001b[39;00m \u001b[38;5;167;01mAttributeError\u001b[39;00m\n\u001b[32m      8\u001b[39m     \u001b[38;5;28;01mreturn\u001b[39;00m\n\u001b[32m----> \u001b[39m\u001b[32m9\u001b[39m \u001b[43mf\u001b[49m\u001b[43m(\u001b[49m\u001b[43m)\u001b[49m\n",
      "\u001b[36mCell\u001b[39m\u001b[36m \u001b[39m\u001b[32mIn[21]\u001b[39m\u001b[32m, line 7\u001b[39m, in \u001b[36mf\u001b[39m\u001b[34m()\u001b[39m\n\u001b[32m      5\u001b[39m     \u001b[38;5;28;01mraise\u001b[39;00m \u001b[38;5;167;01mAssertionError\u001b[39;00m\n\u001b[32m      6\u001b[39m \u001b[38;5;28;01mfinally\u001b[39;00m:\n\u001b[32m----> \u001b[39m\u001b[32m7\u001b[39m     \u001b[38;5;28;01mraise\u001b[39;00m \u001b[38;5;167;01mAttributeError\u001b[39;00m\n\u001b[32m      8\u001b[39m \u001b[38;5;28;01mreturn\u001b[39;00m\n",
      "\u001b[31mAttributeError\u001b[39m: "
     ]
    }
   ],
   "source": [
    "def f():\n",
    "    try:\n",
    "        raise ArithmeticError\n",
    "    except:\n",
    "        raise AssertionError\n",
    "    finally:\n",
    "        raise AttributeError\n",
    "    return\n",
    "f()"
   ]
  },
  {
   "cell_type": "code",
   "execution_count": 25,
   "id": "356a2bb1",
   "metadata": {},
   "outputs": [
    {
     "name": "stderr",
     "output_type": "stream",
     "text": [
      "<>:1: SyntaxWarning: assertion is always true, perhaps remove parentheses?\n",
      "C:\\Users\\mario\\AppData\\Local\\Temp\\ipykernel_17572\\2468645687.py:1: SyntaxWarning: assertion is always true, perhaps remove parentheses?\n",
      "  assert (True, 'Trigger Assertion')\n"
     ]
    }
   ],
   "source": [
    "assert (True, 'Trigger Assertion')"
   ]
  },
  {
   "cell_type": "code",
   "execution_count": 28,
   "id": "ad9ec5e8",
   "metadata": {},
   "outputs": [
    {
     "data": {
      "text/plain": [
       "tuple"
      ]
     },
     "execution_count": 28,
     "metadata": {},
     "output_type": "execute_result"
    }
   ],
   "source": [
    "type(Exception().args)"
   ]
  },
  {
   "cell_type": "code",
   "execution_count": 32,
   "id": "5a6dbe05",
   "metadata": {},
   "outputs": [
    {
     "name": "stdout",
     "output_type": "stream",
     "text": [
      "finally\n"
     ]
    },
    {
     "ename": "OSError",
     "evalue": "",
     "output_type": "error",
     "traceback": [
      "\u001b[31m---------------------------------------------------------------------------\u001b[39m",
      "\u001b[31mOSError\u001b[39m                                   Traceback (most recent call last)",
      "\u001b[36mCell\u001b[39m\u001b[36m \u001b[39m\u001b[32mIn[32]\u001b[39m\u001b[32m, line 2\u001b[39m\n\u001b[32m      1\u001b[39m \u001b[38;5;28;01mtry\u001b[39;00m:\n\u001b[32m----> \u001b[39m\u001b[32m2\u001b[39m     \u001b[38;5;28;01mraise\u001b[39;00m \u001b[38;5;167;01mOSError\u001b[39;00m\n\u001b[32m      3\u001b[39m \u001b[38;5;28;01mexcept\u001b[39;00m: \n\u001b[32m      4\u001b[39m     \u001b[38;5;28;01mraise\u001b[39;00m\n",
      "\u001b[31mOSError\u001b[39m: "
     ]
    }
   ],
   "source": [
    "try:\n",
    "    raise OSError\n",
    "except: \n",
    "    raise\n",
    "finally:\n",
    "    #pass\n",
    "    #raise RuntimeError\n",
    "    print (\"finally\")"
   ]
  },
  {
   "cell_type": "code",
   "execution_count": 34,
   "id": "6fd20c00",
   "metadata": {},
   "outputs": [
    {
     "ename": "AssertionError",
     "evalue": "batatas",
     "output_type": "error",
     "traceback": [
      "\u001b[31m---------------------------------------------------------------------------\u001b[39m",
      "\u001b[31mAssertionError\u001b[39m                            Traceback (most recent call last)",
      "\u001b[36mCell\u001b[39m\u001b[36m \u001b[39m\u001b[32mIn[34]\u001b[39m\u001b[32m, line 1\u001b[39m\n\u001b[32m----> \u001b[39m\u001b[32m1\u001b[39m \u001b[38;5;28;01massert\u001b[39;00m \u001b[32m2\u001b[39m < \u001b[32m1\u001b[39m, \u001b[33m\"\u001b[39m\u001b[33mbatatas\u001b[39m\u001b[33m\"\u001b[39m\n",
      "\u001b[31mAssertionError\u001b[39m: batatas"
     ]
    }
   ],
   "source": [
    "assert 2 < 1, \"batatas\""
   ]
  },
  {
   "cell_type": "code",
   "execution_count": 37,
   "id": "3fac3f33",
   "metadata": {},
   "outputs": [
    {
     "name": "stdout",
     "output_type": "stream",
     "text": [
      "('spam', 'eggs')\n",
      "('spam', 'eggs')\n"
     ]
    }
   ],
   "source": [
    "try:\n",
    "    raise Exception('spam', 'eggs')\n",
    "except Exception as exception:\n",
    "    print(exception)\n",
    "    print(exception.args)"
   ]
  },
  {
   "cell_type": "code",
   "execution_count": 40,
   "id": "fce079d2",
   "metadata": {},
   "outputs": [
    {
     "ename": "RuntimeError",
     "evalue": "",
     "output_type": "error",
     "traceback": [
      "\u001b[31m---------------------------------------------------------------------------\u001b[39m",
      "\u001b[31mRuntimeError\u001b[39m                              Traceback (most recent call last)",
      "\u001b[36mCell\u001b[39m\u001b[36m \u001b[39m\u001b[32mIn[40]\u001b[39m\u001b[32m, line 4\u001b[39m\n\u001b[32m      2\u001b[39m     \u001b[38;5;28;01mraise\u001b[39;00m \u001b[38;5;167;01mIOError\u001b[39;00m\n\u001b[32m      3\u001b[39m \u001b[38;5;28;01mexcept\u001b[39;00m \u001b[38;5;167;01mIOError\u001b[39;00m:\n\u001b[32m----> \u001b[39m\u001b[32m4\u001b[39m     \u001b[38;5;28;01mraise\u001b[39;00m \u001b[38;5;167;01mRuntimeError\u001b[39;00m \u001b[38;5;28;01mfrom\u001b[39;00m\u001b[38;5;250m \u001b[39m\u001b[38;5;28;01mNone\u001b[39;00m\n",
      "\u001b[31mRuntimeError\u001b[39m: "
     ]
    }
   ],
   "source": [
    "try:\n",
    "    raise IOError\n",
    "except IOError:\n",
    "    raise RuntimeError from None"
   ]
  },
  {
   "cell_type": "code",
   "execution_count": 47,
   "id": "cf640189",
   "metadata": {},
   "outputs": [],
   "source": [
    "try:\n",
    "    raise UndefinedException\n",
    "except:\n",
    "    pass\n"
   ]
  },
  {
   "cell_type": "code",
   "execution_count": 48,
   "id": "3488a6ca",
   "metadata": {},
   "outputs": [],
   "source": [
    "try:\n",
    "    abcd\n",
    "    efgh\n",
    "except:\n",
    "    pass"
   ]
  },
  {
   "cell_type": "code",
   "execution_count": 49,
   "id": "f0b652cc",
   "metadata": {},
   "outputs": [
    {
     "ename": "FileNotFoundError",
     "evalue": "[Errno 2] No such file or directory: 'spam.txt'",
     "output_type": "error",
     "traceback": [
      "\u001b[31m---------------------------------------------------------------------------\u001b[39m",
      "\u001b[31mFileNotFoundError\u001b[39m                         Traceback (most recent call last)",
      "\u001b[36mCell\u001b[39m\u001b[36m \u001b[39m\u001b[32mIn[49]\u001b[39m\u001b[32m, line 3\u001b[39m\n\u001b[32m      1\u001b[39m \u001b[38;5;28;01mimport\u001b[39;00m\u001b[38;5;250m \u001b[39m\u001b[34;01msys\u001b[39;00m\n\u001b[32m      2\u001b[39m \u001b[38;5;28;01mtry\u001b[39;00m:\n\u001b[32m----> \u001b[39m\u001b[32m3\u001b[39m     f = \u001b[38;5;28;43mopen\u001b[39;49m\u001b[43m(\u001b[49m\u001b[33;43m'\u001b[39;49m\u001b[33;43mspam.txt\u001b[39;49m\u001b[33;43m'\u001b[39;49m\u001b[43m)\u001b[49m\n\u001b[32m      4\u001b[39m     s = f.readline()\n\u001b[32m      5\u001b[39m \u001b[38;5;28;01mexcept\u001b[39;00m:\n",
      "\u001b[36mFile \u001b[39m\u001b[32m~\\AppData\\Roaming\\Python\\Python313\\site-packages\\IPython\\core\\interactiveshell.py:343\u001b[39m, in \u001b[36m_modified_open\u001b[39m\u001b[34m(file, *args, **kwargs)\u001b[39m\n\u001b[32m    336\u001b[39m \u001b[38;5;28;01mif\u001b[39;00m file \u001b[38;5;129;01min\u001b[39;00m {\u001b[32m0\u001b[39m, \u001b[32m1\u001b[39m, \u001b[32m2\u001b[39m}:\n\u001b[32m    337\u001b[39m     \u001b[38;5;28;01mraise\u001b[39;00m \u001b[38;5;167;01mValueError\u001b[39;00m(\n\u001b[32m    338\u001b[39m         \u001b[33mf\u001b[39m\u001b[33m\"\u001b[39m\u001b[33mIPython won\u001b[39m\u001b[33m'\u001b[39m\u001b[33mt let you open fd=\u001b[39m\u001b[38;5;132;01m{\u001b[39;00mfile\u001b[38;5;132;01m}\u001b[39;00m\u001b[33m by default \u001b[39m\u001b[33m\"\u001b[39m\n\u001b[32m    339\u001b[39m         \u001b[33m\"\u001b[39m\u001b[33mas it is likely to crash IPython. If you know what you are doing, \u001b[39m\u001b[33m\"\u001b[39m\n\u001b[32m    340\u001b[39m         \u001b[33m\"\u001b[39m\u001b[33myou can use builtins\u001b[39m\u001b[33m'\u001b[39m\u001b[33m open.\u001b[39m\u001b[33m\"\u001b[39m\n\u001b[32m    341\u001b[39m     )\n\u001b[32m--> \u001b[39m\u001b[32m343\u001b[39m \u001b[38;5;28;01mreturn\u001b[39;00m \u001b[43mio_open\u001b[49m\u001b[43m(\u001b[49m\u001b[43mfile\u001b[49m\u001b[43m,\u001b[49m\u001b[43m \u001b[49m\u001b[43m*\u001b[49m\u001b[43margs\u001b[49m\u001b[43m,\u001b[49m\u001b[43m \u001b[49m\u001b[43m*\u001b[49m\u001b[43m*\u001b[49m\u001b[43mkwargs\u001b[49m\u001b[43m)\u001b[49m\n",
      "\u001b[31mFileNotFoundError\u001b[39m: [Errno 2] No such file or directory: 'spam.txt'"
     ]
    }
   ],
   "source": [
    "import sys\n",
    "try:\n",
    "    f = open('spam.txt')\n",
    "    s = f.readline()\n",
    "except:\n",
    "    raise"
   ]
  },
  {
   "cell_type": "code",
   "execution_count": 11,
   "id": "4c11679d",
   "metadata": {},
   "outputs": [
    {
     "ename": "Exception",
     "evalue": "",
     "output_type": "error",
     "traceback": [
      "\u001b[31m---------------------------------------------------------------------------\u001b[39m",
      "\u001b[31mException\u001b[39m                                 Traceback (most recent call last)",
      "\u001b[36mCell\u001b[39m\u001b[36m \u001b[39m\u001b[32mIn[11]\u001b[39m\u001b[32m, line 8\u001b[39m\n\u001b[32m      5\u001b[39m         \u001b[38;5;28;01mreturn\u001b[39;00m \u001b[33m\"\u001b[39m\u001b[33mSurprise\u001b[39m\u001b[33m\"\u001b[39m\n\u001b[32m      7\u001b[39m \u001b[38;5;28;01mtry\u001b[39;00m:\n\u001b[32m----> \u001b[39m\u001b[32m8\u001b[39m     \u001b[38;5;28;01mraise\u001b[39;00m \u001b[38;5;167;01mException\u001b[39;00m \n\u001b[32m      9\u001b[39m \u001b[38;5;28;01mexcept\u001b[39;00m E \u001b[38;5;28;01mas\u001b[39;00m e:\n\u001b[32m     10\u001b[39m     \u001b[38;5;28mprint\u001b[39m(\u001b[33m\"\u001b[39m\u001b[33mE:\u001b[39m\u001b[33m\"\u001b[39m, e.message)\n",
      "\u001b[31mException\u001b[39m: "
     ]
    }
   ],
   "source": [
    "class E(Exception):\n",
    "    def __init__(self, message=\"Stop\"):\n",
    "        self.message = message\n",
    "    def __str__(self):\n",
    "        return \"Surprise\"\n",
    "    \n",
    "try:\n",
    "    raise Exception \n",
    "except E as e:\n",
    "    print(\"E:\", e.message)\n",
    "else:\n",
    "    print(\"Goodbye\")"
   ]
  },
  {
   "cell_type": "code",
   "execution_count": 15,
   "id": "0e56c71b",
   "metadata": {},
   "outputs": [
    {
     "name": "stdout",
     "output_type": "stream",
     "text": [
      "['banana', 'apple', 'pear', 'grapes']\n"
     ]
    }
   ],
   "source": [
    "def inverte(word):\n",
    "    return word[::-1]\n",
    "print(sorted(['banana', 'pear', 'grapes', 'apple'], key=inverte, reverse=False))"
   ]
  },
  {
   "cell_type": "code",
   "execution_count": 18,
   "id": "3c03337c",
   "metadata": {},
   "outputs": [
    {
     "name": "stdout",
     "output_type": "stream",
     "text": [
      "True\n",
      "True\n",
      "False\n"
     ]
    }
   ],
   "source": [
    "class A: pass\n",
    "class B: pass\n",
    "a=A()\n",
    "b=B()\n",
    "c=a \n",
    "spam = 'FuBar'\n",
    "ham = spam[:]\n",
    "print(id(spam) == id(ham))\n",
    "print(id(a) == id(c))\n",
    "print(id(a) == id(b))"
   ]
  },
  {
   "cell_type": "code",
   "execution_count": 19,
   "id": "daf34784",
   "metadata": {},
   "outputs": [
    {
     "name": "stdout",
     "output_type": "stream",
     "text": [
      "True\n"
     ]
    },
    {
     "name": "stderr",
     "output_type": "stream",
     "text": [
      "<>:1: SyntaxWarning: \"is not\" with 'str' literal. Did you mean \"!=\"?\n",
      "C:\\Users\\mario\\AppData\\Local\\Temp\\ipykernel_6312\\4009834398.py:1: SyntaxWarning: \"is not\" with 'str' literal. Did you mean \"!=\"?\n",
      "  print(not 'hello' is 'Hello')\n"
     ]
    }
   ],
   "source": [
    "print(not 'hello' is 'Hello')"
   ]
  },
  {
   "cell_type": "code",
   "execution_count": 20,
   "id": "298c0850",
   "metadata": {},
   "outputs": [
    {
     "name": "stdout",
     "output_type": "stream",
     "text": [
      "1 3 2 0 "
     ]
    }
   ],
   "source": [
    "d = { 'zero':0, 'one':1, 'three':3, 'two':2 }\n",
    "for k in sorted(d.keys()):\n",
    "    print(d[k], end=' ')"
   ]
  },
  {
   "cell_type": "code",
   "execution_count": 24,
   "id": "fc8ebdd2",
   "metadata": {},
   "outputs": [
    {
     "name": "stdout",
     "output_type": "stream",
     "text": [
      "a 97\n",
      "66 65\n",
      "B A\n"
     ]
    }
   ],
   "source": [
    "spam = chr(97)\n",
    "ham = ord(spam)\n",
    "print(spam, ham)\n",
    "print(ord('B'), ord('A'))\n",
    "print(chr(66), chr(65))"
   ]
  },
  {
   "cell_type": "code",
   "execution_count": 26,
   "id": "a295a599",
   "metadata": {},
   "outputs": [
    {
     "name": "stdout",
     "output_type": "stream",
     "text": [
      "True\n",
      "True <class 'bool'>\n"
     ]
    }
   ],
   "source": [
    "x = \"0\"\n",
    "y = \"1\"\n",
    "z = \"2\"\n",
    "x = y < z; print(x)\n",
    "print(x == 1, type(x))"
   ]
  },
  {
   "cell_type": "code",
   "execution_count": 27,
   "id": "321bcf22",
   "metadata": {},
   "outputs": [
    {
     "name": "stdout",
     "output_type": "stream",
     "text": [
      "Pn\n",
      "nP\n",
      "Pn\n",
      "Pn\n"
     ]
    }
   ],
   "source": [
    "s = 'Python'\n",
    "\n",
    "print(s[::5])\n",
    "print(s[::-5])\n",
    "print(s[::-1][::-5])\n",
    "print(s[0] + s[-1]) "
   ]
  },
  {
   "cell_type": "code",
   "execution_count": 30,
   "id": "01fc7063",
   "metadata": {},
   "outputs": [
    {
     "name": "stdout",
     "output_type": "stream",
     "text": [
      "Eggs found\n"
     ]
    }
   ],
   "source": [
    "f = open('file.txt', 'r')\n",
    "if 'eggs' in f.read():\n",
    "    print('Eggs found')\n",
    "else:\n",
    "    print('Eggs not found')"
   ]
  },
  {
   "cell_type": "code",
   "execution_count": 31,
   "id": "68278767",
   "metadata": {},
   "outputs": [
    {
     "name": "stdout",
     "output_type": "stream",
     "text": [
      "a\n",
      "97\n"
     ]
    }
   ],
   "source": [
    "print(chr(97))\n",
    "print(ord('a'))"
   ]
  },
  {
   "cell_type": "code",
   "execution_count": 32,
   "id": "f0b1c9a5",
   "metadata": {},
   "outputs": [
    {
     "name": "stdout",
     "output_type": "stream",
     "text": [
      "Hello World\n"
     ]
    }
   ],
   "source": [
    "\"spam\"\n",
    "\"ham\"\n",
    "\"eggs\"\n",
    "print(\"Hello World\")"
   ]
  },
  {
   "cell_type": "code",
   "execution_count": 38,
   "id": "44acbd34",
   "metadata": {},
   "outputs": [
    {
     "name": "stdout",
     "output_type": "stream",
     "text": [
      "['__add__', '__class__', '__contains__', '__delattr__', '__dir__', '__doc__', '__eq__', '__format__', '__ge__', '__getattribute__', '__getitem__', '__getnewargs__', '__getstate__', '__gt__', '__hash__', '__init__', '__init_subclass__', '__iter__', '__le__', '__len__', '__lt__', '__mod__', '__mul__', '__ne__', '__new__', '__reduce__', '__reduce_ex__', '__repr__', '__rmod__', '__rmul__', '__setattr__', '__sizeof__', '__str__', '__subclasshook__', 'capitalize', 'casefold', 'center', 'count', 'encode', 'endswith', 'expandtabs', 'find', 'format', 'format_map', 'index', 'isalnum', 'isalpha', 'isascii', 'isdecimal', 'isdigit', 'isidentifier', 'islower', 'isnumeric', 'isprintable', 'isspace', 'istitle', 'isupper', 'join', 'ljust', 'lower', 'lstrip', 'maketrans', 'partition', 'removeprefix', 'removesuffix', 'replace', 'rfind', 'rindex', 'rjust', 'rpartition', 'rsplit', 'rstrip', 'split', 'splitlines', 'startswith', 'strip', 'swapcase', 'title', 'translate', 'upper', 'zfill']\n"
     ]
    }
   ],
   "source": [
    "print(dir(str), sep='*')"
   ]
  },
  {
   "cell_type": "code",
   "execution_count": 45,
   "id": "ee6c204c",
   "metadata": {},
   "outputs": [
    {
     "data": {
      "text/plain": [
       "'DLROW OLLEH'"
      ]
     },
     "execution_count": 45,
     "metadata": {},
     "output_type": "execute_result"
    }
   ],
   "source": [
    "s = 'Hello World'\n",
    "x=''\n",
    "for i in range(len(s)):\n",
    "    x = s[i].upper() + x\n",
    "x"
   ]
  },
  {
   "cell_type": "code",
   "execution_count": 51,
   "id": "48f24e53",
   "metadata": {},
   "outputs": [
    {
     "name": "stdout",
     "output_type": "stream",
     "text": [
      "John said: \"I m fine!\"\n"
     ]
    },
    {
     "ename": "TypeError",
     "evalue": "unsupported operand type(s) for *: 'NoneType' and 'int'",
     "output_type": "error",
     "traceback": [
      "\u001b[31m---------------------------------------------------------------------------\u001b[39m",
      "\u001b[31mTypeError\u001b[39m                                 Traceback (most recent call last)",
      "\u001b[36mCell\u001b[39m\u001b[36m \u001b[39m\u001b[32mIn[51]\u001b[39m\u001b[32m, line 2\u001b[39m\n\u001b[32m      1\u001b[39m \u001b[38;5;28mprint\u001b[39m(\u001b[33m\"\u001b[39m\u001b[33mJohn said: \u001b[39m\u001b[38;5;130;01m\\\"\u001b[39;00m\u001b[33mI m fine!\u001b[39m\u001b[38;5;130;01m\\\"\u001b[39;00m\u001b[33m\"\u001b[39m)\n\u001b[32m----> \u001b[39m\u001b[32m2\u001b[39m \u001b[38;5;28;43;01mNone\u001b[39;49;00m\u001b[43m \u001b[49m\u001b[43m*\u001b[49m\u001b[43m \u001b[49m\u001b[32;43m2\u001b[39;49m\n",
      "\u001b[31mTypeError\u001b[39m: unsupported operand type(s) for *: 'NoneType' and 'int'"
     ]
    }
   ],
   "source": [
    "print(\"John said: \\\"I m fine!\\\"\")\n",
    "None * 2"
   ]
  },
  {
   "cell_type": "code",
   "execution_count": 58,
   "id": "6828855d",
   "metadata": {},
   "outputs": [
    {
     "name": "stdout",
     "output_type": "stream",
     "text": [
      "abcdefghijklmnopqrstuvwxyzABCDEFGHIJKLMNOPQRSTUVWXYZ\n",
      "abcdefghijklmnopqrstuvwxyz\n",
      "ABCDEFGHIJKLMNOPQRSTUVWXYZ\n",
      "0123456789\n",
      "0123456789abcdefABCDEF\n",
      "01234567\n",
      "!\"#$%&'()*+,-./:;<=>?@[\\]^_`{|}~\n",
      "0123456789abcdefghijklmnopqrstuvwxyzABCDEFGHIJKLMNOPQRSTUVWXYZ!\"#$%&'()*+,-./:;<=>?@[\\]^_`{|}~ \t\n",
      "\u000b\f\n",
      "------\n",
      ">j;A^Jd\"LI#Q}a{=}/!w\n"
     ]
    }
   ],
   "source": [
    "import string, random\n",
    "\n",
    "print(string.ascii_letters)\n",
    "print(string.ascii_lowercase)\n",
    "print(string.ascii_uppercase)\n",
    "print(string.digits)\n",
    "print(string.hexdigits)\n",
    "print(string.octdigits)\n",
    "print(string.punctuation)\n",
    "print(string.printable)\n",
    "print(\"------\")\n",
    "senha = ''.join(random.choice(string.ascii_letters + string.digits+ string.punctuation) for _ in range(20))\n",
    "print(senha)"
   ]
  },
  {
   "cell_type": "code",
   "execution_count": null,
   "id": "b4ddf93f",
   "metadata": {},
   "outputs": [
    {
     "name": "stdout",
     "output_type": "stream",
     "text": [
      "Ham.__init__() Ham.update() Spam.__init__(param) Spam.update(param) "
     ]
    },
    {
     "data": {
      "text/plain": [
       "<__main__.Spam at 0x1fb6f4c5a90>"
      ]
     },
     "execution_count": 61,
     "metadata": {},
     "output_type": "execute_result"
    }
   ],
   "source": [
    "class Ham:\n",
    "    def __init__(self):\n",
    "        print(type(self).__name__ + '.__init__()', end=' ')\n",
    "        self.update()\n",
    "    def update(self):\n",
    "        print(type(self).__name__ + '.update()', end=' ')\n",
    "    \n",
    "class Spam(Ham):\n",
    "    def __init__(self, param):\n",
    "        print(type(self).__name__ + '.__init__(param)', end=' ')        \n",
    "        self.update(param)\n",
    "    def update(self, param):\n",
    "        print(type(self).__name__ + '.update(param)', end=' ')\n",
    "    \n",
    "Ham()\n",
    "Spam(\"ola\")"
   ]
  },
  {
   "cell_type": "code",
   "execution_count": 62,
   "id": "b0dad3fa",
   "metadata": {},
   "outputs": [
    {
     "name": "stdout",
     "output_type": "stream",
     "text": [
      "Food Eggs GoodFood\n"
     ]
    }
   ],
   "source": [
    "F=type('Food',(),{'remember2buy':'spam'})\n",
    "E=type('Eggs',(F,),{'remember2buy':'eggs'})\n",
    "G=type('GoodFood',(E,F),{})\n",
    "print(F.__name__, E.__name__, G.__name__)"
   ]
  },
  {
   "cell_type": "code",
   "execution_count": null,
   "id": "31ddca05",
   "metadata": {},
   "outputs": [
    {
     "name": "stdout",
     "output_type": "stream",
     "text": [
      "nada\n",
      "Spam\n",
      "__eggs\n",
      "__eggs\n"
     ]
    }
   ],
   "source": [
    "class Spam:\n",
    "    __ham, ham = '__ham', 'ham'\n",
    "    def nada(self):\n",
    "        pass\n",
    "    def __eggs(self):\n",
    "        pass\n",
    "    eggs = __eggs\n",
    "\n",
    "s = Spam()\n",
    "\n",
    "print(s.nada.__name__)\n",
    "print(Spam.__name__)            # -> Spam\n",
    "print(s._Spam__eggs.__name__)   # -> __eggs\n",
    "print(s.eggs.__name__)          # -> __eggs\n",
    "\n",
    "#print(s.__name__)               # -> AttributeError: 'Spam' object has no attribute '__name__'\n",
    "#print(s.ham.__name__)           # -> AttributeError: 'str' object has no attribute '__name__'\n",
    "#print(s._Spam__ham.__name__)    # -> AttributeError: 'str' object has no attribute '__name__'"
   ]
  },
  {
   "cell_type": "code",
   "execution_count": null,
   "id": "8d56bb3e",
   "metadata": {},
   "outputs": [
    {
     "name": "stdout",
     "output_type": "stream",
     "text": [
      "{'__module__': '__main__', '__firstlineno__': 1, 'name': 'John', 'age': 36, 'country': 'USA', '__init__': <function Person.__init__ at 0x000001FB6FF4B6A0>, 'hello': <function Person.hello at 0x000001FB6FF4B740>, '__static_attributes__': ('nada',), '__dict__': <attribute '__dict__' of 'Person' objects>, '__weakref__': <attribute '__weakref__' of 'Person' objects>, '__doc__': None}\n",
      "{'nada': 1, 'job': 'Engineer'}\n",
      "hello\n",
      "goodbye\n"
     ]
    }
   ],
   "source": [
    "class Person:\n",
    "    name = \"John\"\n",
    "    age = 36\n",
    "    country = \"USA\"\n",
    "    def __init__(self):\n",
    "        self.nada=1\n",
    "    def hello(self):\n",
    "        k = \"batatas\"\n",
    "        print(\"Hello\")\n",
    "p = Person()\n",
    "p.job = \"Engineer\"\n",
    "print(vars(Person))\n",
    "#print(dir(Person))\n",
    "print(vars(p))\n",
    "\n",
    "def goodbye(self):\n",
    "    print(\"Goodbye\")\n",
    "    return 100\n",
    "\n",
    "print(p.hello.__name__)\n",
    "print(goodbye.__name__)"
   ]
  },
  {
   "cell_type": "code",
   "execution_count": 78,
   "id": "9ee7bc8c",
   "metadata": {},
   "outputs": [
    {
     "name": "stdout",
     "output_type": "stream",
     "text": [
      "__main__\n",
      "__main__\n",
      "__main__\n",
      "__main__\n",
      "__main__\n"
     ]
    }
   ],
   "source": [
    "class Spam:\n",
    "    __ham, ham = '__ham', 'ham'\n",
    "    def __eggs(self):\n",
    "        pass\n",
    "    eggs = __eggs\n",
    " \n",
    "s = Spam()\n",
    "\n",
    "def batatas2():\n",
    "     pass\n",
    "print(s.__module__); \n",
    "print(s._Spam__eggs.__module__)\n",
    "print(s.eggs.__module__)\n",
    "print(Spam.__module__)\n",
    "print(batatas2.__module__)\n",
    "\n",
    "#print(s.ham.__module__)  #-> AttributeError: 'str' object has no attribute '__module__'"
   ]
  },
  {
   "cell_type": "code",
   "execution_count": 85,
   "id": "903bd76a",
   "metadata": {},
   "outputs": [
    {
     "name": "stdout",
     "output_type": "stream",
     "text": [
      "1 2\n"
     ]
    }
   ],
   "source": [
    "class Bar:\n",
    "    def __init__(self):\n",
    "        self.x = 1\n",
    "class Foo(Bar):\n",
    "    def __init__(self):\n",
    "        #Bar.__init__ (self)\n",
    "        super(Foo, self).__init__ ()\n",
    "        #super().__init__ ()\n",
    "        self.y = 2\n",
    "f = Foo()\n",
    "print(f.x,f.y)"
   ]
  },
  {
   "cell_type": "code",
   "execution_count": 86,
   "id": "c95d537e",
   "metadata": {},
   "outputs": [],
   "source": [
    "class Spam:\n",
    "    ''' This is class Spam '''\n",
    "    pass"
   ]
  },
  {
   "cell_type": "code",
   "execution_count": 88,
   "id": "c4cd5fd8",
   "metadata": {},
   "outputs": [
    {
     "name": "stdout",
     "output_type": "stream",
     "text": [
      "1 2\n"
     ]
    }
   ],
   "source": [
    "class Ham:\n",
    "    def __init__(self):\n",
    "        self.v1 = 1\n",
    "class Spam(Ham):\n",
    "    def __init__(self):\n",
    "        super().__init__()\n",
    "        self.v2 = 2\n",
    "s = Spam()\n",
    "print(s.v1,s.v2)"
   ]
  },
  {
   "cell_type": "code",
   "execution_count": 92,
   "id": "d6d7380c",
   "metadata": {},
   "outputs": [
    {
     "name": "stdout",
     "output_type": "stream",
     "text": [
      "B.spam B.spam\n"
     ]
    }
   ],
   "source": [
    "class A:\n",
    "    def spam(self):\n",
    "        return 'A.spam'\n",
    "    \n",
    "    def ham(self):\n",
    "        return self.spam()\n",
    "    \n",
    "    \n",
    "class B:\n",
    "    def spam(self):\n",
    "        return 'B.spam'\n",
    "class C(B, A):\n",
    "    pass\n",
    "    \n",
    "c = C()\n",
    "print(c.spam(), c.ham())"
   ]
  },
  {
   "cell_type": "code",
   "execution_count": 97,
   "id": "2463d164",
   "metadata": {},
   "outputs": [
    {
     "name": "stdout",
     "output_type": "stream",
     "text": [
      "eggs ham eggs\n",
      "{}\n",
      "{'bar': 'ham'}\n",
      "eggs\n"
     ]
    }
   ],
   "source": [
    "class Foo:\n",
    "    bar = 'spam'\n",
    "    \n",
    "f1 = Foo()\n",
    "f2 = Foo()\n",
    "f2.bar = 'ham'\n",
    "Foo.bar = 'eggs'\n",
    "print(f1.bar, f2.bar, Foo.bar)\n",
    "#print(Foo.__dict__)\n",
    "print(f1.__dict__)\n",
    "print(f2.__dict__)  \n",
    "print(Foo.bar)"
   ]
  },
  {
   "cell_type": "code",
   "execution_count": 98,
   "id": "f4bdd75a",
   "metadata": {},
   "outputs": [
    {
     "name": "stdout",
     "output_type": "stream",
     "text": [
      "Hello World\n"
     ]
    }
   ],
   "source": [
    "def spam():\n",
    "    class Ham:\n",
    "        def eggs(self):\n",
    "            print('Hello World')\n",
    "    return Ham()\n",
    "    \n",
    "spam().eggs()"
   ]
  },
  {
   "cell_type": "code",
   "execution_count": 99,
   "id": "9f6c24c5",
   "metadata": {},
   "outputs": [
    {
     "name": "stdout",
     "output_type": "stream",
     "text": [
      "Hello World\n"
     ]
    }
   ],
   "source": [
    "def foo(self, p):\n",
    "\tprint('Hello',p)\n",
    "class Spam:\n",
    "    bar = foo    \n",
    "s = Spam()\n",
    "s.bar('World')"
   ]
  },
  {
   "cell_type": "code",
   "execution_count": 100,
   "id": "d9ee38c5",
   "metadata": {},
   "outputs": [],
   "source": [
    "class A(object): pass\n",
    "class B(object): pass\n",
    "class C(object): pass\n",
    "class D(object): pass\n",
    "class E(object): pass\n",
    "class K1(A,B,C): pass\n",
    "class K2(D,B,E): pass\n",
    "class K3(D,A): pass\n",
    "\n",
    "class Foo(K1,K2,K3): pass"
   ]
  },
  {
   "cell_type": "code",
   "execution_count": null,
   "id": "3ea54989",
   "metadata": {},
   "outputs": [
    {
     "name": "stdout",
     "output_type": "stream",
     "text": [
      "D. hasattr(Spam, 'ham'): True\n",
      "E. hasattr(spam, 'ham'): True\n",
      "Spam.ham: 100\n",
      "spam.ham: 42\n",
      "False\n"
     ]
    },
    {
     "ename": "AttributeError",
     "evalue": "'Spam' object has no attribute 'sp'",
     "output_type": "error",
     "traceback": [
      "\u001b[31m---------------------------------------------------------------------------\u001b[39m",
      "\u001b[31mAttributeError\u001b[39m                            Traceback (most recent call last)",
      "\u001b[36mCell\u001b[39m\u001b[36m \u001b[39m\u001b[32mIn[118]\u001b[39m\u001b[32m, line 19\u001b[39m\n\u001b[32m     17\u001b[39m \u001b[38;5;28mprint\u001b[39m(\u001b[33m\"\u001b[39m\u001b[33mspam.ham:\u001b[39m\u001b[33m\"\u001b[39m, spam.ham)  \u001b[38;5;66;03m# 36\u001b[39;00m\n\u001b[32m     18\u001b[39m \u001b[38;5;28mprint\u001b[39m(\u001b[38;5;28mhasattr\u001b[39m(spam, \u001b[33m'\u001b[39m\u001b[33msp\u001b[39m\u001b[33m'\u001b[39m))\n\u001b[32m---> \u001b[39m\u001b[32m19\u001b[39m \u001b[38;5;28mprint\u001b[39m(\u001b[33m\"\u001b[39m\u001b[33mspam.ham:\u001b[39m\u001b[33m\"\u001b[39m, \u001b[43mspam\u001b[49m\u001b[43m.\u001b[49m\u001b[43msp\u001b[49m)  \n",
      "\u001b[31mAttributeError\u001b[39m: 'Spam' object has no attribute 'sp'"
     ]
    }
   ],
   "source": [
    "class Root: \n",
    "    sp = 10\n",
    "    def __init__(self):\n",
    "        self.sp = 1\n",
    "class Spam(Root):\n",
    "    ham = 36  # atributo de classe\n",
    "    def __init__(self):\n",
    "        #super().__init__()\n",
    "        self.ham = 42  # atributo de instância\n",
    "spam = Spam()  # instância da classe\n",
    "\n",
    "print(\"D. hasattr(Spam, 'ham'):\", hasattr(Spam, 'ham'))  # True\n",
    "print(\"E. hasattr(spam, 'ham'):\", hasattr(spam, 'ham'))  # True\n",
    "#spam.ham = 42  # atributo de instância\n",
    "Spam.ham = 100  # atributo de classe\n",
    "print(\"Spam.ham:\", Spam.ham)  # 36\n",
    "print(\"spam.ham:\", spam.ham)  # 36\n",
    "print(hasattr(spam, 'sp'))\n",
    "print(\"spam.ham:\", spam.sp)  "
   ]
  },
  {
   "cell_type": "code",
   "execution_count": 133,
   "id": "97e34742",
   "metadata": {},
   "outputs": [
    {
     "name": "stdout",
     "output_type": "stream",
     "text": [
      "False\n",
      "True\n",
      "True\n",
      "True\n",
      "True\n",
      "True\n",
      "{'ham': 2}\n",
      "{'ham': 2}\n"
     ]
    }
   ],
   "source": [
    "class Spam: \n",
    "    ham2=1\n",
    "    def __init__(self):\n",
    "        self.ham=2\n",
    "s=Spam()\n",
    "print(hasattr(Spam, 'ham'))\n",
    "print(hasattr(Spam, 'ham2'))\n",
    "print(hasattr(Spam(), 'ham'))\n",
    "print(hasattr(Spam(), 'ham2'))\n",
    "print(hasattr(s, 'ham'))\n",
    "print(hasattr(s, 'ham2'))\n",
    "print(s.__dict__)\n",
    "print(Spam().__dict__)\n",
    "\n"
   ]
  },
  {
   "cell_type": "code",
   "execution_count": 10,
   "id": "4205adbb",
   "metadata": {},
   "outputs": [
    {
     "name": "stdout",
     "output_type": "stream",
     "text": [
      "(<class 'object'>,)\n",
      "<class 'method'>\n",
      "<class 'str'>\n",
      "<class 'float'>\n"
     ]
    }
   ],
   "source": [
    "class Spam:\n",
    "    __ham, ham = '__ham', 'ham'\n",
    "    def __eggs(self):\n",
    "        pass\n",
    "    eggs = __eggs\n",
    "    \n",
    "s = Spam()\n",
    "#print(type(s.eggs).__bases__)\n",
    "print(type(s).__bases__)\n",
    "print(type(s.eggs))\n",
    "print(type(s.ham))\n",
    "k=1.0\n",
    "print(type(k))"
   ]
  },
  {
   "cell_type": "code",
   "execution_count": 11,
   "id": "8e8aca01",
   "metadata": {},
   "outputs": [
    {
     "name": "stdout",
     "output_type": "stream",
     "text": [
      "[<class '__main__.Carro'>, <class '__main__.Moto'>, <class '__main__.Bicicleta'>]\n"
     ]
    }
   ],
   "source": [
    "class Veiculo: pass\n",
    "class Carro(Veiculo): pass\n",
    "class Moto(Veiculo): pass\n",
    "class Bicicleta(Veiculo): pass\n",
    "\n",
    "print(Veiculo.__subclasses__())\n",
    "# Output: [<class '__main__.Carro'>, <class '__main__.Moto'>, <class '__main__.Bicicleta'>]"
   ]
  },
  {
   "cell_type": "code",
   "execution_count": 12,
   "id": "f5613746",
   "metadata": {},
   "outputs": [
    {
     "name": "stdout",
     "output_type": "stream",
     "text": [
      "[<class '__main__.C'>, <class '__main__.B'>, <class '__main__.A'>, <class 'object'>]\n"
     ]
    }
   ],
   "source": [
    "class A: pass\n",
    "class B(A): pass\n",
    "class C(B): pass\n",
    "\n",
    "print(C.mro())\n",
    "# Mesmo resultado que C.__mro__"
   ]
  },
  {
   "cell_type": "code",
   "execution_count": 17,
   "id": "011391cb",
   "metadata": {},
   "outputs": [
    {
     "name": "stdout",
     "output_type": "stream",
     "text": [
      "__main__\n",
      "__main__\n",
      "----\n",
      "Spam\n",
      "Spam\n",
      "----\n",
      "<class '__main__.Spam'>\n"
     ]
    }
   ],
   "source": [
    "class Spam:\n",
    "    def v0(self):\n",
    "        print(__name__)\n",
    "print(__name__)\n",
    "s = Spam()\n",
    "s.v0()\n",
    "print(\"----\")\n",
    "print(s.__class__.__name__)\n",
    "print(Spam.__name__)\n",
    "#print(s.__name__)\n",
    "print(\"----\")\n",
    "print(s.__class__)"
   ]
  },
  {
   "cell_type": "code",
   "execution_count": 29,
   "id": "a0c87dfe",
   "metadata": {},
   "outputs": [
    {
     "name": "stdout",
     "output_type": "stream",
     "text": [
      "2 1\n"
     ]
    }
   ],
   "source": [
    "class Ham:\n",
    "    v = 1\n",
    "    def v0(self):\n",
    "        return self.v\n",
    "class Spam(Ham):\n",
    "    v = 2\n",
    "s = Spam()\n",
    "h = Ham()\n",
    "print(s.v0(), h.v0())"
   ]
  },
  {
   "cell_type": "code",
   "execution_count": 40,
   "id": "c01d9b68",
   "metadata": {},
   "outputs": [
    {
     "name": "stdout",
     "output_type": "stream",
     "text": [
      "Ham.__init__() Ham.update() Spam.__init__() Spam.update() "
     ]
    },
    {
     "data": {
      "text/plain": [
       "<__main__.Spam at 0x16f799c42f0>"
      ]
     },
     "execution_count": 40,
     "metadata": {},
     "output_type": "execute_result"
    }
   ],
   "source": [
    "class Ham:\n",
    "    def __init__(self):\n",
    "        print(type(self).__name__ + '.__init__()', end=' ')\n",
    "        self.__update()\n",
    "    def update(self):\n",
    "        print(type(self).__name__ + '.update()', end=' ')\n",
    "        #print(\"Ham.updatessssssssss()\")\n",
    "    __update = update\n",
    "    \n",
    "class Spam(Ham):\n",
    "    def update(self, param, param2):\n",
    "        print(type(self).__name__ + '.update(param)', end=' ')         \n",
    "    \n",
    "    def update(self, param):\n",
    "        print(type(self).__name__ + '.update(param)', end=' ')         \n",
    "Ham()\n",
    "Spam()"
   ]
  },
  {
   "cell_type": "code",
   "execution_count": 68,
   "id": "a49aa7ee",
   "metadata": {},
   "outputs": [
    {
     "name": "stdout",
     "output_type": "stream",
     "text": [
      "Spam com valor 42\n",
      "Spam(valor=42)\n"
     ]
    }
   ],
   "source": [
    "class Spam:\n",
    "    def __init__(self, valor=0):\n",
    "        self.valor = valor\n",
    "    \n",
    "    def __str__(self):\n",
    "        return f\"Spam com valor {self.valor}\"\n",
    "    \n",
    "    def __repr__(self):\n",
    "        return f\"Spam(valor={self.valor})\"\n",
    "\n",
    "s = Spam(42)\n",
    "\n",
    "print(str(s))      # Usa __str__: \"Spam com valor 42\"\n",
    "print(repr(s))     # Usa __repr__: \"Spam(valor=42)\""
   ]
  },
  {
   "cell_type": "code",
   "execution_count": 71,
   "id": "ae386bd5",
   "metadata": {},
   "outputs": [
    {
     "data": {
      "text/plain": [
       "'Spam'"
      ]
     },
     "execution_count": 71,
     "metadata": {},
     "output_type": "execute_result"
    }
   ],
   "source": [
    "class Spam:\n",
    "\tdef __str__(self): return \"Spam\"    \n",
    "s = Spam()\n",
    "\n",
    "#s.__repr__() \n",
    "s.__str__() "
   ]
  },
  {
   "cell_type": "code",
   "execution_count": 86,
   "id": "edae1835",
   "metadata": {},
   "outputs": [
    {
     "name": "stdout",
     "output_type": "stream",
     "text": [
      "Ham Spam\n"
     ]
    }
   ],
   "source": [
    "class Ham:\n",
    "    def __init__(self):\n",
    "        print('Ham', end=' ')\n",
    "        \n",
    "class Eggs:\n",
    "    def __init__(self, end=' '):\n",
    "        print('Eggs')\n",
    "class Spam(Ham, Eggs):\n",
    "    def __str__(self):        \n",
    "        return 'Spam'\n",
    "s = Spam()\n",
    "#str(s)\n",
    "#print(str(s))\n",
    "print(s)"
   ]
  },
  {
   "cell_type": "code",
   "execution_count": 96,
   "id": "37bbe221",
   "metadata": {},
   "outputs": [
    {
     "name": "stdout",
     "output_type": "stream",
     "text": [
      "A Spam\n"
     ]
    }
   ],
   "source": [
    "class A:\n",
    "    def __init__(self):\n",
    "        print('A', end=' ')\n",
    "        return None\n",
    "    def spam(self):\n",
    "        return \"Spam\"\n",
    "    def ham(self):\n",
    "        return self.spam()\n",
    "a = A()\n",
    "print(a.ham())"
   ]
  },
  {
   "cell_type": "code",
   "execution_count": 97,
   "id": "54a5514e",
   "metadata": {},
   "outputs": [
    {
     "name": "stdout",
     "output_type": "stream",
     "text": [
      "s p a m "
     ]
    }
   ],
   "source": [
    "class Spam:\n",
    "    def __init__(self, p=\"\"):\n",
    "        self.s = p\n",
    "        self.i = 0\n",
    "    def __iter__(self):\n",
    "        return self\n",
    "    def __next__(self):\n",
    "        if self.i == len(self.s):\n",
    "            raise StopIteration\n",
    "        v = self.s[self.i]\n",
    "        self.i += 1\n",
    "        return v\n",
    "\n",
    "for c in Spam(\"spam\"):\n",
    "    print(c, end=' ')"
   ]
  },
  {
   "cell_type": "code",
   "execution_count": 103,
   "id": "cdbbf223",
   "metadata": {},
   "outputs": [
    {
     "name": "stdout",
     "output_type": "stream",
     "text": [
      "Ham\n",
      "Ham\n",
      "Ham\n",
      "Ham\n",
      "Ham\n"
     ]
    }
   ],
   "source": [
    "class Ham:\n",
    "    def __str__(self): return \"Ham\"\n",
    "    \n",
    "class Spam(Ham): pass\n",
    "    \n",
    "s=Spam()\n",
    "print(Spam())\n",
    "print(Spam.__str__(Spam()))\n",
    "print(s)\n",
    "print(s.__str__())\n",
    "print(Spam.__str__(s))\n"
   ]
  },
  {
   "cell_type": "code",
   "execution_count": 107,
   "id": "8e2cb42a",
   "metadata": {},
   "outputs": [
    {
     "name": "stdout",
     "output_type": "stream",
     "text": [
      "False\n",
      "True\n",
      "True\n",
      "True\n"
     ]
    }
   ],
   "source": [
    "class Foo:\n",
    "    def __init__(self):\n",
    "        self.x = 0\n",
    "f= Foo()\n",
    "print(hasattr(Foo, 'x'))\n",
    "print(hasattr(f, 'x'))\n",
    "print(hasattr(f, '__init__'))\n",
    "print(hasattr(Foo, '__init__'))"
   ]
  },
  {
   "cell_type": "code",
   "execution_count": 115,
   "id": "b958470f",
   "metadata": {},
   "outputs": [
    {
     "name": "stdout",
     "output_type": "stream",
     "text": [
      "1\n",
      "2\n",
      "3\n",
      "4\n",
      "5\n",
      "6\n",
      "7\n",
      "8\n",
      "9\n"
     ]
    }
   ],
   "source": [
    "list(filter(lambda x: x%3==0, [1, 2, 3, 4, 5, 6, 7, 8, 9]))\n",
    "y=(lambda x: x%2, [1, 2, 3, 4, 5, 6, 7, 8, 9])\n",
    "\n",
    "for i in y[1]:\n",
    "    print(i)"
   ]
  },
  {
   "cell_type": "code",
   "execution_count": 119,
   "id": "1ef0c6a3",
   "metadata": {},
   "outputs": [
    {
     "name": "stdout",
     "output_type": "stream",
     "text": [
      "3\n"
     ]
    },
    {
     "data": {
      "text/plain": [
       "[[], [0], [0, 1]]"
      ]
     },
     "execution_count": 119,
     "metadata": {},
     "output_type": "execute_result"
    }
   ],
   "source": [
    "print(len([[c for c in range(r)] for r in range(3)]))\n",
    "[[c for c in range(r)] for r in range(3)]"
   ]
  },
  {
   "cell_type": "code",
   "execution_count": 121,
   "id": "22b38b3d",
   "metadata": {},
   "outputs": [
    {
     "name": "stdout",
     "output_type": "stream",
     "text": [
      "x y z\n"
     ]
    }
   ],
   "source": [
    "x = 'x'\n",
    "def main():\n",
    "    y = 'y'\n",
    "    def spam():\n",
    "        print(x, y, z)\n",
    "        return\n",
    "    spam()\n",
    "z = 'z'\n",
    "if __name__ == \"__main__\":\n",
    "    main()"
   ]
  },
  {
   "cell_type": "code",
   "execution_count": 125,
   "id": "8bb68f1e",
   "metadata": {},
   "outputs": [
    {
     "name": "stdout",
     "output_type": "stream",
     "text": [
      "5 7 9 "
     ]
    }
   ],
   "source": [
    "def spam(x):\n",
    "    y = 2\n",
    "    def ham(z):\n",
    "        return x + y + z\n",
    "    return ham\n",
    "    \n",
    "for i in range(3):\n",
    "    eggs = spam(i)\n",
    "    print(eggs(i+3), end=' ')"
   ]
  },
  {
   "cell_type": "code",
   "execution_count": 129,
   "id": "150a1417",
   "metadata": {},
   "outputs": [
    {
     "data": {
      "text/plain": [
       "0"
      ]
     },
     "execution_count": 129,
     "metadata": {},
     "output_type": "execute_result"
    }
   ],
   "source": [
    "[i for i in range(1)][-1]\n"
   ]
  },
  {
   "cell_type": "code",
   "execution_count": 130,
   "id": "3a5e0a54",
   "metadata": {},
   "outputs": [
    {
     "data": {
      "text/plain": [
       "[0, 2, 4, 6, 8]"
      ]
     },
     "execution_count": 130,
     "metadata": {},
     "output_type": "execute_result"
    }
   ],
   "source": [
    "[_ for _ in range(10) if not _%2 ]"
   ]
  },
  {
   "cell_type": "code",
   "execution_count": 131,
   "id": "161408e8",
   "metadata": {},
   "outputs": [
    {
     "data": {
      "text/plain": [
       "[[0], [0, 1]]"
      ]
     },
     "execution_count": 131,
     "metadata": {},
     "output_type": "execute_result"
    }
   ],
   "source": [
    "[[c for c in range(r)] for r in range(3) if r != 0]"
   ]
  },
  {
   "cell_type": "code",
   "execution_count": 1,
   "id": "0ea99cd8",
   "metadata": {},
   "outputs": [
    {
     "name": "stdout",
     "output_type": "stream",
     "text": [
      "This is LINE 1\n",
      "This is LINE 2"
     ]
    }
   ],
   "source": [
    "for spam in open('spam.txt', 'rt'):\n",
    "    print(spam, end='')"
   ]
  },
  {
   "cell_type": "code",
   "execution_count": 2,
   "id": "6e2d75e9",
   "metadata": {},
   "outputs": [
    {
     "name": "stdout",
     "output_type": "stream",
     "text": [
      "5 7 9 "
     ]
    }
   ],
   "source": [
    "def spam(x):\n",
    "    y = 2\n",
    "    return lambda z: x + y + z\n",
    "    \n",
    "for i in range(3):\n",
    "    eggs = spam(i)\n",
    "    print(eggs(i+3), end=' ')"
   ]
  },
  {
   "cell_type": "code",
   "execution_count": null,
   "id": "833585e5",
   "metadata": {},
   "outputs": [
    {
     "data": {
      "text/plain": [
       "20"
      ]
     },
     "execution_count": 6,
     "metadata": {},
     "output_type": "execute_result"
    }
   ],
   "source": [
    "a, b = 10, 20\n",
    "(lambda: b, lambda: a)[a < b]()"
   ]
  },
  {
   "cell_type": "code",
   "execution_count": 11,
   "id": "86f5c9dc",
   "metadata": {},
   "outputs": [
    {
     "name": "stdout",
     "output_type": "stream",
     "text": [
      "[Errno 2] No such file or directory: 'spam2.txt'\n"
     ]
    }
   ],
   "source": [
    "import sys, errno\n",
    "try:\n",
    "    open(\"spam2.txt\", \"r\")\n",
    "except:\n",
    "    #if sys.exc_info()[1].errno == errno.ENOENT:\n",
    "    #    print(errno.errorcode[sys.exc_info()[1].errno])\n",
    "    print(sys.exc_info()[1])"
   ]
  },
  {
   "cell_type": "code",
   "execution_count": 12,
   "id": "02106bba",
   "metadata": {},
   "outputs": [
    {
     "ename": "ZeroDivisionError",
     "evalue": "integer modulo by zero",
     "output_type": "error",
     "traceback": [
      "\u001b[31m---------------------------------------------------------------------------\u001b[39m",
      "\u001b[31mZeroDivisionError\u001b[39m                         Traceback (most recent call last)",
      "\u001b[36mCell\u001b[39m\u001b[36m \u001b[39m\u001b[32mIn[12]\u001b[39m\u001b[32m, line 3\u001b[39m\n\u001b[32m      1\u001b[39m l = [[i \u001b[38;5;28;01mfor\u001b[39;00m i \u001b[38;5;129;01min\u001b[39;00m \u001b[38;5;28mrange\u001b[39m(\u001b[32m2\u001b[39m)] \u001b[38;5;28;01mfor\u001b[39;00m i \u001b[38;5;129;01min\u001b[39;00m \u001b[38;5;28mrange\u001b[39m(\u001b[32m2\u001b[39m)]\n\u001b[32m      2\u001b[39m \u001b[38;5;28;01mfor\u001b[39;00m i \u001b[38;5;129;01min\u001b[39;00m \u001b[38;5;28mrange\u001b[39m(\u001b[32m2\u001b[39m):\n\u001b[32m----> \u001b[39m\u001b[32m3\u001b[39m     \u001b[38;5;28;01mif\u001b[39;00m \u001b[43ml\u001b[49m\u001b[43m[\u001b[49m\u001b[32;43m0\u001b[39;49m\u001b[43m]\u001b[49m\u001b[43m[\u001b[49m\u001b[43mi\u001b[49m\u001b[43m]\u001b[49m\u001b[43m \u001b[49m\u001b[43m%\u001b[49m\u001b[43m \u001b[49m\u001b[43ml\u001b[49m\u001b[43m[\u001b[49m\u001b[32;43m1\u001b[39;49m\u001b[43m]\u001b[49m\u001b[43m[\u001b[49m\u001b[43mi\u001b[49m\u001b[43m]\u001b[49m == \u001b[32m0\u001b[39m:\n\u001b[32m      4\u001b[39m         \u001b[38;5;28mprint\u001b[39m(\u001b[33m'\u001b[39m\u001b[33m*\u001b[39m\u001b[33m'\u001b[39m)\n",
      "\u001b[31mZeroDivisionError\u001b[39m: integer modulo by zero"
     ]
    }
   ],
   "source": [
    "l = [[i for i in range(2)] for i in range(2)]\n",
    "for i in range(2):\n",
    "    if l[0][i] % l[1][i] == 0:\n",
    "        print('*')"
   ]
  },
  {
   "cell_type": "code",
   "execution_count": 15,
   "id": "a0a01dd2",
   "metadata": {},
   "outputs": [
    {
     "name": "stdout",
     "output_type": "stream",
     "text": [
      "[1, 1, 2] [1, 1, 1, 2] "
     ]
    }
   ],
   "source": [
    "spam = [1, 2]\n",
    "for i in range(2):\n",
    "    spam.insert(-1, spam[i])\n",
    "    print(spam, end=' ')"
   ]
  },
  {
   "cell_type": "code",
   "execution_count": 16,
   "id": "99e14e46",
   "metadata": {},
   "outputs": [
    {
     "name": "stdout",
     "output_type": "stream",
     "text": [
      "Hello World!\n"
     ]
    }
   ],
   "source": [
    "print('Hello', end=' ')\n",
    "print('World!')"
   ]
  },
  {
   "cell_type": "code",
   "execution_count": 19,
   "id": "440cb8ff",
   "metadata": {},
   "outputs": [
    {
     "name": "stdout",
     "output_type": "stream",
     "text": [
      "[1, 2, 3]\n",
      "[1, 2, 3]\n",
      "False\n",
      "True\n",
      "2292835449536 2292835449856\n",
      "2292835449536 2292835486016\n"
     ]
    }
   ],
   "source": [
    "lista1 = [1, 2, 3]\n",
    "lista2 = lista1.copy()\n",
    "\n",
    "print(lista1)   # [1, 2, 3]\n",
    "print(lista2)   # [1, 2, 3]\n",
    "print(lista1 is lista2)  # False\n",
    "print(lista1 == lista2)  # True \n",
    "print(id(lista1), id(lista2))\n",
    "spam = list(lista1)\n",
    "print(id(lista1), id(spam))"
   ]
  },
  {
   "cell_type": "code",
   "execution_count": 20,
   "id": "083e8f4f",
   "metadata": {},
   "outputs": [
    {
     "name": "stdout",
     "output_type": "stream",
     "text": [
      "x <class 'str'> y <class 'str'> "
     ]
    }
   ],
   "source": [
    "x = { 'x': 1, 'y': 2} \n",
    "for e in x: \n",
    "    print(e, type(e), end=' ')"
   ]
  },
  {
   "cell_type": "code",
   "execution_count": 21,
   "id": "a73c554d",
   "metadata": {},
   "outputs": [
    {
     "name": "stdout",
     "output_type": "stream",
     "text": [
      "b1 11\n",
      "b2 12\n"
     ]
    }
   ],
   "source": [
    "spam = {'b1':11, 'b2':12}\n",
    "for x in spam.items():print(x[0], x[1])\n",
    "#for x, y in spam.items():print(x, y)"
   ]
  },
  {
   "cell_type": "code",
   "execution_count": 29,
   "id": "f1fb3862",
   "metadata": {},
   "outputs": [
    {
     "name": "stdout",
     "output_type": "stream",
     "text": [
      "1 2 3\n",
      "1 2 3\n",
      "1 2 3\n",
      "1 2 3\n",
      "1 2 3\n"
     ]
    }
   ],
   "source": [
    "def spam(a, b, c=3):\n",
    "    print(a, b, c)\n",
    "    \n",
    "spam(a=1,b=2)\n",
    "spam(1,b=2)\n",
    "spam(1,2)\n",
    "spam(1,2,3)\n",
    "spam(1,b=2,c=3)"
   ]
  },
  {
   "cell_type": "code",
   "execution_count": 31,
   "id": "cd9b3381",
   "metadata": {},
   "outputs": [
    {
     "name": "stdout",
     "output_type": "stream",
     "text": [
      "1 2 3\n"
     ]
    }
   ],
   "source": [
    "def spam(a, b, c=3):\n",
    "    print(a, b, c)\n",
    "spam(1, 2, c=3,)"
   ]
  },
  {
   "cell_type": "code",
   "execution_count": 32,
   "id": "18a5bc3e",
   "metadata": {},
   "outputs": [
    {
     "name": "stdout",
     "output_type": "stream",
     "text": [
      "112\n"
     ]
    }
   ],
   "source": [
    "total = 0\n",
    "for i in range(1, 4) :\n",
    "    i += 2\n",
    "    total += i\n",
    "else:\n",
    "    total += 100\n",
    "print(total)"
   ]
  },
  {
   "cell_type": "code",
   "execution_count": 35,
   "id": "435516b3",
   "metadata": {},
   "outputs": [
    {
     "data": {
      "text/plain": [
       "{False: 'perdizes', 1: 'kouves'}"
      ]
     },
     "execution_count": 35,
     "metadata": {},
     "output_type": "execute_result"
    }
   ],
   "source": [
    "{False: 'No', 0: 'Nay', 0.0: 'Nope'}\n",
    "{False: 'No', 0: 'Nay', 0.0: 'Nope', 0: 'perdizes',1:'kouves'}\n"
   ]
  },
  {
   "cell_type": "code",
   "execution_count": 38,
   "id": "e29b8adc",
   "metadata": {},
   "outputs": [
    {
     "name": "stdout",
     "output_type": "stream",
     "text": [
      "<class 'float'>\n",
      "1.0\n",
      "1\n"
     ]
    }
   ],
   "source": [
    "spam = 1e0; print(type(spam)), print(spam)\n",
    "print(0o1)"
   ]
  },
  {
   "cell_type": "code",
   "execution_count": 41,
   "id": "6e73b337",
   "metadata": {},
   "outputs": [
    {
     "data": {
      "text/plain": [
       "-1"
      ]
     },
     "execution_count": 41,
     "metadata": {},
     "output_type": "execute_result"
    }
   ],
   "source": [
    "-1 // 2"
   ]
  },
  {
   "cell_type": "code",
   "execution_count": 42,
   "id": "787b9315",
   "metadata": {},
   "outputs": [
    {
     "name": "stdout",
     "output_type": "stream",
     "text": [
      "0\n"
     ]
    }
   ],
   "source": [
    "def spam(x, sum):\n",
    "    return sum if x == 0 else sum + spam(x-1, sum)\n",
    "print(spam(3, 0))"
   ]
  },
  {
   "cell_type": "code",
   "execution_count": 51,
   "id": "b2e8b3b6",
   "metadata": {},
   "outputs": [
    {
     "data": {
      "text/plain": [
       "{1: 'ola', 2: 'pa', 3: 'boa', 4: 'noite'}"
      ]
     },
     "execution_count": 51,
     "metadata": {},
     "output_type": "execute_result"
    }
   ],
   "source": [
    "(1,2,3,)*3\n",
    "[1,2,3]*3\n",
    "#{1,2,3}*3\n",
    "{1:\"ola\",2:\"pa\", 3:\"boa\", 4:\"noite\"}\n",
    "\n"
   ]
  },
  {
   "cell_type": "code",
   "execution_count": 75,
   "id": "c018c1be",
   "metadata": {},
   "outputs": [
    {
     "name": "stdout",
     "output_type": "stream",
     "text": [
      "99\n",
      "0\n",
      "1\n",
      "43\n",
      "10\n"
     ]
    }
   ],
   "source": [
    "#int(0o12)\n",
    "print(int(99))\n",
    "#print(int(\"104.10\",10))  \n",
    "print(int(False))\n",
    "print(int(True))\n",
    "print(int(\"101011\",2))\n",
    "print(int(0o12))"
   ]
  },
  {
   "cell_type": "code",
   "execution_count": 78,
   "id": "ee8bd76e",
   "metadata": {},
   "outputs": [
    {
     "name": "stdout",
     "output_type": "stream",
     "text": [
      "f1 f2 -----------\n",
      "{'f1': {'b1': 11, 'b2': 12}, 'f2': {'b1': 21, 'b2': 22}}\n"
     ]
    }
   ],
   "source": [
    "spam = {}\n",
    "spam['f1'] = {'b1':11, 'b2':12}\n",
    "spam['f2'] = {'b1':21, 'b2':22}\n",
    "for ham in spam.keys():\n",
    "    print(ham, end=' ')\n",
    "print(\"-----------\")    \n",
    "print(spam)"
   ]
  },
  {
   "cell_type": "code",
   "execution_count": 85,
   "id": "90e78435",
   "metadata": {},
   "outputs": [
    {
     "name": "stdout",
     "output_type": "stream",
     "text": [
      "{'0': 'value1', '1': 'value2'}\n"
     ]
    }
   ],
   "source": [
    "def spam(d, *args):\n",
    "    # Example: group args into key-value pairs\n",
    "    for i in range(0, len(args), 2):\n",
    "        if i+1 < len(args):\n",
    "            d[args[i]] = args[i+1]\n",
    "    return d\n",
    "print(spam({}, '0', 'value1', '1', 'value2'))"
   ]
  },
  {
   "cell_type": "code",
   "execution_count": 86,
   "id": "5a61bc94",
   "metadata": {},
   "outputs": [
    {
     "ename": "ZeroDivisionError",
     "evalue": "float division by zero",
     "output_type": "error",
     "traceback": [
      "\u001b[31m---------------------------------------------------------------------------\u001b[39m",
      "\u001b[31mZeroDivisionError\u001b[39m                         Traceback (most recent call last)",
      "\u001b[36mCell\u001b[39m\u001b[36m \u001b[39m\u001b[32mIn[86]\u001b[39m\u001b[32m, line 1\u001b[39m\n\u001b[32m----> \u001b[39m\u001b[32m1\u001b[39m \u001b[32;43m1.\u001b[39;49m\u001b[43m \u001b[49m\u001b[43m/\u001b[49m\u001b[43m(\u001b[49m\u001b[43m \u001b[49m\u001b[32;43m4.\u001b[39;49m\u001b[43m \u001b[49m\u001b[43m%\u001b[49m\u001b[43m \u001b[49m\u001b[32;43m2.\u001b[39;49m\u001b[43m)\u001b[49m\n",
      "\u001b[31mZeroDivisionError\u001b[39m: float division by zero"
     ]
    }
   ],
   "source": [
    "1. /( 4. % 2.)"
   ]
  },
  {
   "cell_type": "code",
   "execution_count": 91,
   "id": "3ac09007",
   "metadata": {},
   "outputs": [
    {
     "data": {
      "text/plain": [
       "False"
      ]
     },
     "execution_count": 91,
     "metadata": {},
     "output_type": "execute_result"
    }
   ],
   "source": [
    "tel = {'rick': 123, 'morty': 456}\n",
    "#tel['spam'] is not None\n",
    "tel.get('spam') is not None\n",
    "#print(tel['spamaaaa'])"
   ]
  },
  {
   "cell_type": "code",
   "execution_count": 92,
   "id": "04919fbf",
   "metadata": {},
   "outputs": [
    {
     "name": "stdout",
     "output_type": "stream",
     "text": [
      "bbbbbb"
     ]
    }
   ],
   "source": [
    "def ham(n):\n",
    "    result = 'b'\n",
    "    for i in range(n):\n",
    "        result += result\n",
    "        yield result\n",
    "for spam in ham(2):\n",
    "    print(spam, end=\"\")"
   ]
  },
  {
   "cell_type": "code",
   "execution_count": 93,
   "id": "fc40f23c",
   "metadata": {},
   "outputs": [
    {
     "name": "stdout",
     "output_type": "stream",
     "text": [
      "0 1 1 0\n"
     ]
    }
   ],
   "source": [
    "a, b = 0, 1\n",
    "print(a ^ a, a ^ b, b ^ a, b ^ b)"
   ]
  },
  {
   "cell_type": "code",
   "execution_count": 96,
   "id": "56570f79",
   "metadata": {},
   "outputs": [
    {
     "data": {
      "text/plain": [
       "['spam', 'ham', 'spam', 'ham', 'spam', 'ham']"
      ]
     },
     "execution_count": 96,
     "metadata": {},
     "output_type": "execute_result"
    }
   ],
   "source": [
    "['spam', 'ham'] * 3"
   ]
  },
  {
   "cell_type": "code",
   "execution_count": 3,
   "id": "3a5b9d42",
   "metadata": {},
   "outputs": [
    {
     "ename": "ValueError",
     "evalue": "could not convert string to float: 'Nasdsan'",
     "output_type": "error",
     "traceback": [
      "\u001b[31m---------------------------------------------------------------------------\u001b[39m",
      "\u001b[31mValueError\u001b[39m                                Traceback (most recent call last)",
      "\u001b[36mCell\u001b[39m\u001b[36m \u001b[39m\u001b[32mIn[3]\u001b[39m\u001b[32m, line 1\u001b[39m\n\u001b[32m----> \u001b[39m\u001b[32m1\u001b[39m \u001b[38;5;28;43mfloat\u001b[39;49m\u001b[43m(\u001b[49m\u001b[33;43m'\u001b[39;49m\u001b[33;43mNasdsan\u001b[39;49m\u001b[33;43m'\u001b[39;49m\u001b[43m)\u001b[49m       \n",
      "\u001b[31mValueError\u001b[39m: could not convert string to float: 'Nasdsan'"
     ]
    }
   ],
   "source": [
    "float('Nasdsan')       "
   ]
  },
  {
   "cell_type": "code",
   "execution_count": 7,
   "id": "da30f3d8",
   "metadata": {},
   "outputs": [
    {
     "ename": "IndentationError",
     "evalue": "expected an indented block after 'while' statement on line 2 (3026739762.py, line 3)",
     "output_type": "error",
     "traceback": [
      "  \u001b[36mCell\u001b[39m\u001b[36m \u001b[39m\u001b[32mIn[7]\u001b[39m\u001b[32m, line 3\u001b[39m\n\u001b[31m    \u001b[39m\u001b[31mprint(x, end='')\u001b[39m\n    ^\n\u001b[31mIndentationError\u001b[39m\u001b[31m:\u001b[39m expected an indented block after 'while' statement on line 2\n"
     ]
    }
   ],
   "source": [
    "x = 3\n",
    "while x > 0:\n",
    "print(x, end='')\n",
    "x //= 2"
   ]
  },
  {
   "cell_type": "code",
   "execution_count": 21,
   "id": "7cff3cd7",
   "metadata": {},
   "outputs": [
    {
     "data": {
      "text/plain": [
       "'hello world'"
      ]
     },
     "execution_count": 21,
     "metadata": {},
     "output_type": "execute_result"
    }
   ],
   "source": [
    "def dofunc(text, b):\n",
    "    def lowcase(): return text.lower()\n",
    "    def upcase(): return text.upper()\n",
    "    return upcase if b else lowcase\n",
    "\n",
    "#dofunc('Hello World', True)()\n",
    "#dofunc('Hello World', (False,))()\n",
    "#dofunc('Hello World', True)\n",
    "dofunc('Hello World', False)()"
   ]
  },
  {
   "cell_type": "code",
   "execution_count": 13,
   "id": "5b1dc231",
   "metadata": {},
   "outputs": [
    {
     "name": "stdout",
     "output_type": "stream",
     "text": [
      "spam ham eggs\n"
     ]
    }
   ],
   "source": [
    "def spam():\n",
    "    print(\"spam\", end=\" \")\n",
    "    def ham():\n",
    "        print(\"ham\", end=\" \")\n",
    "        def eggs():\n",
    "            print(\"eggs\")\n",
    "            return None\n",
    "        return eggs\n",
    "    return ham\n",
    "\n",
    "#x = spam(); y = x(); z = y()\n",
    "spam()()()"
   ]
  }
 ],
 "metadata": {
  "kernelspec": {
   "display_name": "Python 3",
   "language": "python",
   "name": "python3"
  },
  "language_info": {
   "codemirror_mode": {
    "name": "ipython",
    "version": 3
   },
   "file_extension": ".py",
   "mimetype": "text/x-python",
   "name": "python",
   "nbconvert_exporter": "python",
   "pygments_lexer": "ipython3",
   "version": "3.13.6"
  }
 },
 "nbformat": 4,
 "nbformat_minor": 5
}
