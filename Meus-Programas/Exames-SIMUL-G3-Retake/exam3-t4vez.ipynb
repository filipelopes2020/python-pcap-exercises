{
 "cells": [
  {
   "cell_type": "code",
   "execution_count": null,
   "id": "dac6d00c",
   "metadata": {},
   "outputs": [
    {
     "name": "stdout",
     "output_type": "stream",
     "text": [
      "12\n"
     ]
    }
   ],
   "source": [
    "def f(x):\n",
    "    a = x**2\n",
    "    def g(b):\n",
    "        return a * b\n",
    "    return g\n",
    "\n",
    "var = f(2)    # line 7\n",
    "print(var(3))"
   ]
  },
  {
   "cell_type": "code",
   "execution_count": 3,
   "id": "dae7c53c",
   "metadata": {},
   "outputs": [
    {
     "name": "stdout",
     "output_type": "stream",
     "text": [
      "d:\\OneDrive\\Documentos\\REPOS\\PYTHON\\Cursos_Python\\Meus-Programas\\Exames-SIMUL-G3-Retake\n"
     ]
    }
   ],
   "source": [
    "import os\n",
    "\n",
    "print(os.getcwd())          # line 1\n",
    "\n",
    "#os.makedirs(\"Snake/Python\")      # line 3\n",
    "#os.makedirs(\"Snake/Viper/Cobra\") # line 4\n",
    " \n",
    "#print(os.listdir(\"Snake\"))"
   ]
  },
  {
   "cell_type": "code",
   "execution_count": 5,
   "id": "abff2343",
   "metadata": {},
   "outputs": [
    {
     "name": "stdout",
     "output_type": "stream",
     "text": [
      "True\n",
      "True\n",
      "False\n",
      "False\n",
      "1 100\n"
     ]
    }
   ],
   "source": [
    "class A:\n",
    "    x = 0\n",
    "    def __init__(self):\n",
    "        self.y = 10\n",
    " \n",
    "class B:\n",
    "    x = 1\n",
    "    def __init__(self):\n",
    "        self.y = 100\n",
    " \n",
    "class C(B, A):    \n",
    "    def __init__(self):        \n",
    "        super().__init__()\n",
    " \n",
    "obj1 = C()\n",
    "obj2 = C()\n",
    "obj3 = obj2\n",
    " \n",
    "print(C.x == 1)         # True\n",
    "print(obj1 is not obj2) # True\n",
    "print(obj1.y == 10)     # False\n",
    "print(obj3 is not obj2) # False\n",
    "print(obj1.x, obj2.y)"
   ]
  },
  {
   "cell_type": "code",
   "execution_count": 11,
   "id": "7b2ecc47",
   "metadata": {},
   "outputs": [
    {
     "ename": "TypeError",
     "evalue": "'tuple' object doesn't support item deletion",
     "output_type": "error",
     "traceback": [
      "\u001b[31m---------------------------------------------------------------------------\u001b[39m",
      "\u001b[31mTypeError\u001b[39m                                 Traceback (most recent call last)",
      "\u001b[36mCell\u001b[39m\u001b[36m \u001b[39m\u001b[32mIn[11]\u001b[39m\u001b[32m, line 5\u001b[39m\n\u001b[32m      1\u001b[39m l = (\u001b[33m'\u001b[39m\u001b[33mAa\u001b[39m\u001b[33m'\u001b[39m, \u001b[33m'\u001b[39m\u001b[33mBb\u001b[39m\u001b[33m'\u001b[39m, \u001b[33m'\u001b[39m\u001b[33mCc\u001b[39m\u001b[33m'\u001b[39m, \u001b[33m'\u001b[39m\u001b[33mDd\u001b[39m\u001b[33m'\u001b[39m)\n\u001b[32m      3\u001b[39m \u001b[38;5;66;03m#del l[2][0]\u001b[39;00m\n\u001b[32m      4\u001b[39m \u001b[38;5;66;03m#l.remove('Cc')\u001b[39;00m\n\u001b[32m----> \u001b[39m\u001b[32m5\u001b[39m \u001b[38;5;28;01mdel\u001b[39;00m \u001b[43ml\u001b[49m\u001b[43m[\u001b[49m\u001b[32;43m2\u001b[39;49m\u001b[43m]\u001b[49m\n\u001b[32m      7\u001b[39m \u001b[38;5;28mprint\u001b[39m(l)\n",
      "\u001b[31mTypeError\u001b[39m: 'tuple' object doesn't support item deletion"
     ]
    }
   ],
   "source": [
    "l = ('Aa', 'Bb', 'Cc', 'Dd')\n",
    "\n",
    "#del l[2][0]\n",
    "#l.remove('Cc')\n",
    "del l[2]\n",
    "\n",
    "print(l)"
   ]
  },
  {
   "cell_type": "code",
   "execution_count": 18,
   "id": "9ea029f6",
   "metadata": {},
   "outputs": [
    {
     "name": "stdout",
     "output_type": "stream",
     "text": [
      "5000\n",
      "9\n"
     ]
    }
   ],
   "source": [
    "a = lambda: 5000\n",
    "print(a())\n",
    "y = lambda x: x**2\n",
    "print(y(3))"
   ]
  },
  {
   "cell_type": "code",
   "execution_count": 23,
   "id": "aaaf4113",
   "metadata": {},
   "outputs": [
    {
     "ename": "ZeroDivisionError",
     "evalue": "division by zero",
     "output_type": "error",
     "traceback": [
      "\u001b[31m---------------------------------------------------------------------------\u001b[39m",
      "\u001b[31mValueError\u001b[39m                                Traceback (most recent call last)",
      "\u001b[36mCell\u001b[39m\u001b[36m \u001b[39m\u001b[32mIn[23]\u001b[39m\u001b[32m, line 2\u001b[39m\n\u001b[32m      1\u001b[39m \u001b[38;5;28;01mtry\u001b[39;00m:\n\u001b[32m----> \u001b[39m\u001b[32m2\u001b[39m     \u001b[38;5;28;43mint\u001b[39;49m\u001b[43m(\u001b[49m\u001b[33;43m'\u001b[39;49m\u001b[33;43mabc\u001b[39;49m\u001b[33;43m'\u001b[39;49m\u001b[43m)\u001b[49m\n\u001b[32m      4\u001b[39m \u001b[38;5;28;01mexcept\u001b[39;00m \u001b[38;5;167;01mValueError\u001b[39;00m \u001b[38;5;28;01mas\u001b[39;00m e:\n",
      "\u001b[31mValueError\u001b[39m: invalid literal for int() with base 10: 'abc'",
      "\nDuring handling of the above exception, another exception occurred:\n",
      "\u001b[31mZeroDivisionError\u001b[39m                         Traceback (most recent call last)",
      "\u001b[36mCell\u001b[39m\u001b[36m \u001b[39m\u001b[32mIn[23]\u001b[39m\u001b[32m, line 5\u001b[39m\n\u001b[32m      2\u001b[39m     \u001b[38;5;28mint\u001b[39m(\u001b[33m'\u001b[39m\u001b[33mabc\u001b[39m\u001b[33m'\u001b[39m)\n\u001b[32m      4\u001b[39m \u001b[38;5;28;01mexcept\u001b[39;00m \u001b[38;5;167;01mValueError\u001b[39;00m \u001b[38;5;28;01mas\u001b[39;00m e:\n\u001b[32m----> \u001b[39m\u001b[32m5\u001b[39m     \u001b[38;5;28mprint\u001b[39m(\u001b[32;43m1\u001b[39;49m\u001b[43m/\u001b[49m\u001b[32;43m0\u001b[39;49m)\n\u001b[32m      6\u001b[39m     \u001b[38;5;66;03m#print ('A ValueError occurred:', e)\u001b[39;00m\n\u001b[32m      8\u001b[39m \u001b[38;5;28;01mexcept\u001b[39;00m:\n",
      "\u001b[31mZeroDivisionError\u001b[39m: division by zero"
     ]
    }
   ],
   "source": [
    "try:\n",
    "    int('abc')\n",
    "    \n",
    "except ValueError as e:\n",
    "    print(1/0)\n",
    "    #print ('A ValueError occurred:', e)\n",
    "    \n",
    "except:\n",
    "    print('An error occurred')\n"
   ]
  },
  {
   "cell_type": "code",
   "execution_count": 26,
   "id": "92cd19bb",
   "metadata": {},
   "outputs": [
    {
     "name": "stdout",
     "output_type": "stream",
     "text": [
      "B\n"
     ]
    }
   ],
   "source": [
    "class myErr(Exception):\n",
    "    def __init__(self, msg):\n",
    "        super().__init__(msg * 2)\n",
    " \n",
    "    def __str__(self):\n",
    "        return \"B\"\n",
    "try:\n",
    "    raise myErr(\"A\")\n",
    "except Exception as e:\n",
    "    print(e)"
   ]
  },
  {
   "cell_type": "code",
   "execution_count": 34,
   "id": "91281af8",
   "metadata": {},
   "outputs": [
    {
     "name": "stdout",
     "output_type": "stream",
     "text": [
      "100 10\n"
     ]
    }
   ],
   "source": [
    "class A:\n",
    "    def __init__(self, n = 1):\n",
    "        self.x = n\n",
    " \n",
    "class B(A):    \n",
    "    def __init__(self, m):\n",
    "        self.y = m\n",
    "        self.x = 100\n",
    "        super().__init__(self.x)        \n",
    " \n",
    "obj = B(10)\n",
    " \n",
    "print(obj.x, obj.y)"
   ]
  },
  {
   "cell_type": "code",
   "execution_count": 39,
   "id": "5b0c4e6c",
   "metadata": {},
   "outputs": [
    {
     "name": "stdout",
     "output_type": "stream",
     "text": [
      "False\n",
      "True\n",
      "False\n",
      "True\n",
      "{'__module__': '__main__', '__firstlineno__': 1, 'a': 2, '__init__': <function A.__init__ at 0x000002EDEC734400>, 'm': <function A.m at 0x000002EDEC734680>, '__static_attributes__': ('b',), '__dict__': <attribute '__dict__' of 'A' objects>, '__weakref__': <attribute '__weakref__' of 'A' objects>, '__doc__': None}\n"
     ]
    }
   ],
   "source": [
    "class A:\n",
    "    a = 2\n",
    " \n",
    "    def __init__(self, n):\n",
    "        self.b = n  \n",
    " \n",
    "    def m(self):\n",
    "        return self.b * A.a   \n",
    " \n",
    "obj = A(10)\n",
    "print('b' in A.__dict__)\n",
    "print('b' in obj.__dict__) \n",
    "print(len(obj.__dict__) == len(A.__dict__)) \n",
    "\n",
    "print(A.__dict__['a'] != None)\n",
    "print(A.__dict__)"
   ]
  },
  {
   "cell_type": "code",
   "execution_count": 40,
   "id": "bf9b5dce",
   "metadata": {},
   "outputs": [
    {
     "name": "stdout",
     "output_type": "stream",
     "text": [
      "[]\n"
     ]
    }
   ],
   "source": [
    "strm = open('mydoc.txt')\n",
    " \n",
    "x = strm.readlines()\n",
    " \n",
    "print(x)\n",
    "strm.close()"
   ]
  },
  {
   "cell_type": "code",
   "execution_count": 45,
   "id": "2e27b7a0",
   "metadata": {},
   "outputs": [
    {
     "name": "stdout",
     "output_type": "stream",
     "text": [
      "A\n",
      "A\n",
      "<class '__main__.A'>\n"
     ]
    }
   ],
   "source": [
    "class A:\n",
    "    pass\n",
    " \n",
    "obj = A()\n",
    "\n",
    "print(obj.__class__.__name__)\n",
    "print(type(obj).__name__)\n",
    "\n",
    "print(obj.__class__)\n",
    "#print(obj.class())\n",
    "#print(obj.__name__)"
   ]
  }
 ],
 "metadata": {
  "kernelspec": {
   "display_name": "Python 3",
   "language": "python",
   "name": "python3"
  },
  "language_info": {
   "codemirror_mode": {
    "name": "ipython",
    "version": 3
   },
   "file_extension": ".py",
   "mimetype": "text/x-python",
   "name": "python",
   "nbconvert_exporter": "python",
   "pygments_lexer": "ipython3",
   "version": "3.13.6"
  }
 },
 "nbformat": 4,
 "nbformat_minor": 5
}
