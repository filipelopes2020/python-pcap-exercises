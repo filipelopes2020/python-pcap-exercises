{
 "cells": [
  {
   "cell_type": "code",
   "execution_count": 1,
   "id": "fd8685ba",
   "metadata": {},
   "outputs": [
    {
     "name": "stdout",
     "output_type": "stream",
     "text": [
      "String: CHOICE\n",
      "Len: 3\n"
     ]
    }
   ],
   "source": [
    "# Example\n",
    "String = 'CHOICE'\n",
    "    \n",
    "sliceString = String[1:-2]\n",
    "    \n",
    "print (\"String:\",String)\n",
    "print (\"Len:\",len(sliceString))\n",
    "    \n",
    "# Result:\n",
    "Len: 3"
   ]
  },
  {
   "cell_type": "code",
   "execution_count": 6,
   "id": "17f9c7c2",
   "metadata": {},
   "outputs": [
    {
     "name": "stdout",
     "output_type": "stream",
     "text": [
      "False\n",
      "2 2\n"
     ]
    }
   ],
   "source": [
    "var = 1\n",
    "\n",
    "def f():\n",
    "    global var\n",
    "    var += 1\n",
    "    def g():\n",
    "        return var\n",
    "    return g\n",
    "\n",
    "a=f()\n",
    "#b=f()\n",
    "#c=f()\n",
    "\n",
    "print(a is b)\n",
    "print(a(), b())"
   ]
  },
  {
   "cell_type": "code",
   "execution_count": 18,
   "id": "1bf0b40c",
   "metadata": {},
   "outputs": [
    {
     "name": "stdout",
     "output_type": "stream",
     "text": [
      "[5, 4, 3, 2, 1]\n",
      "[4, 2]\n"
     ]
    }
   ],
   "source": [
    "my_list = [i for i in range(5,0,-1)]; print(my_list)\n",
    "m=[my_list[i] for i in range(5) if my_list[i] %2 == 0]\n",
    "#m=for i in my_list if my_list[i] %2 == 0\n",
    "print(m)\n",
    "\n"
   ]
  },
  {
   "cell_type": "code",
   "execution_count": 25,
   "id": "f30a2ed0",
   "metadata": {},
   "outputs": [
    {
     "name": "stdout",
     "output_type": "stream",
     "text": [
      "[9, 8, 7, 6, 5, 4, 3]\n"
     ]
    }
   ],
   "source": [
    "list1=[i for i in range(1,10)]\n",
    "list2=list1[-1:1:-1]\n",
    "print(list2)"
   ]
  },
  {
   "cell_type": "code",
   "execution_count": null,
   "id": "54cf2307",
   "metadata": {},
   "outputs": [
    {
     "name": "stdout",
     "output_type": "stream",
     "text": [
      "2\n"
     ]
    }
   ],
   "source": [
    "str='abcdef'\n",
    "def fun(s):\n",
    "    del s[2]\n",
    "    #del s\n",
    "    return 2\n",
    "\n",
    "print(fun(str))"
   ]
  },
  {
   "cell_type": "code",
   "execution_count": null,
   "id": "606ad3a5",
   "metadata": {},
   "outputs": [
    {
     "name": "stdout",
     "output_type": "stream",
     "text": [
      "Key exists2\n"
     ]
    }
   ],
   "source": [
    "dict = { 1: \"João Silva\", 2: 30, 3: \"São Paulo\", 4: \"Engenheiro\" }     \n",
    "key = 1\n",
    "#if key in dict:\n",
    "if key in dict.keys():    \n",
    "    print(\"Key exists\")"
   ]
  },
  {
   "cell_type": "code",
   "execution_count": 42,
   "id": "9b018d6b",
   "metadata": {},
   "outputs": [
    {
     "name": "stdout",
     "output_type": "stream",
     "text": [
      "{'pi': 3.145}\n"
     ]
    }
   ],
   "source": [
    "dict = {\"pi\":3.14}\n",
    "dict[\"pi\"] = 3.145\n",
    "\n",
    "print(dict)\n"
   ]
  },
  {
   "cell_type": "code",
   "execution_count": 48,
   "id": "8c4a147e",
   "metadata": {},
   "outputs": [
    {
     "name": "stdout",
     "output_type": "stream",
     "text": [
      "32\n"
     ]
    }
   ],
   "source": [
    "print(ord(\"z\")-ord(\"Z\"))"
   ]
  },
  {
   "cell_type": "code",
   "execution_count": 57,
   "id": "6c21da52",
   "metadata": {},
   "outputs": [
    {
     "name": "stdout",
     "output_type": "stream",
     "text": [
      "2000.0\n",
      "8\n",
      "type error\n",
      "Value error\n"
     ]
    }
   ],
   "source": [
    "try:\n",
    "    print(float('2e3'))\n",
    "except:\n",
    "    print('error') # 2000\n",
    " \n",
    "try:\n",
    "    print(pow(2,3))\n",
    "except TypeError:\n",
    "   print('Type error') # Type error\n",
    " \n",
    "try:\n",
    "    print('2'/0)       # Unhandled TypeError exception \n",
    "except ArithmeticError:\n",
    "    print('Arithmetic error')\n",
    "except:\n",
    "    print(\"type error\")\n",
    "    \n",
    "#from math import sqrt\n",
    "try:\n",
    "    print(sqrt(-8))    # Unhandled NameError exception\n",
    "except ValueError:\n",
    "    print('Value error')\n",
    " \n",
    "# -----------------"
   ]
  },
  {
   "cell_type": "code",
   "execution_count": 59,
   "id": "c7647b39",
   "metadata": {},
   "outputs": [
    {
     "name": "stdout",
     "output_type": "stream",
     "text": [
      "Value error\n"
     ]
    }
   ],
   "source": [
    "import math\n",
    "try:\n",
    "    print(math.sqrt(-8))    # Unhandled NameError exception\n",
    "except ValueError:\n",
    "    print('Value error')"
   ]
  },
  {
   "cell_type": "code",
   "execution_count": null,
   "id": "e911c410",
   "metadata": {},
   "outputs": [
    {
     "name": "stdout",
     "output_type": "stream",
     "text": [
      "3 3 3\n"
     ]
    }
   ],
   "source": [
    "class A:\n",
    "    x = 0\n",
    "    def __init__(self, x):\n",
    "        A.x += 1\n",
    "        self.x += 1\n",
    "\n",
    "obj1 = A(1)\n",
    "obj2 = A(1)\n",
    "obj3 = A(1)\n",
    "\n",
    "print(obj1.x, obj2.x, obj3.x)"
   ]
  },
  {
   "cell_type": "code",
   "execution_count": 88,
   "id": "a13122ed",
   "metadata": {},
   "outputs": [
    {
     "name": "stdout",
     "output_type": "stream",
     "text": [
      "14\n"
     ]
    }
   ],
   "source": [
    "class A:\n",
    "    def __init__(self, n1, n2):\n",
    "        self.x = n1\n",
    "        self.y = n2\n",
    "        \n",
    "    def a(self):\n",
    "        return self.x * self.y\n",
    "    \n",
    "    def b(self):\n",
    "        return self.x ** self.y\n",
    "    \n",
    "obj = A(2, 3)\n",
    "    \n",
    "y = obj.a() + obj.b()\n",
    "    \n",
    "print(y)"
   ]
  },
  {
   "cell_type": "code",
   "execution_count": 90,
   "id": "41a7a79e",
   "metadata": {},
   "outputs": [
    {
     "name": "stdout",
     "output_type": "stream",
     "text": [
      "['Python,é,', 'muito,bom']\n"
     ]
    }
   ],
   "source": [
    "texto = \"Python,é, muito,bom\"\n",
    "print(texto.split())"
   ]
  },
  {
   "cell_type": "code",
   "execution_count": 99,
   "id": "6c8abe90",
   "metadata": {},
   "outputs": [
    {
     "name": "stdout",
     "output_type": "stream",
     "text": [
      "AMD64\n",
      "Windows-11-10.0.26100-SP0\n",
      "Intel64 Family 6 Model 158 Stepping 10, GenuineIntel\n",
      "('64bit', 'WindowsPE')\n",
      "Windows\n",
      "-----\n",
      "uname_result(system='Windows', node='SkySpeed', release='11', version='10.0.26100', machine='AMD64')\n",
      "('3', '13', '6')\n",
      "3.13.6\n",
      "11\n",
      "CPython\n",
      "10.0.26100\n",
      "['AndroidVer', 'IOSVersionInfo', '_Processor', '_WIN32_CLIENT_RELEASES', '_WIN32_SERVER_RELEASES', '__builtins__', '__cached__', '__copyright__', '__doc__', '__file__', '__loader__', '__name__', '__package__', '__spec__', '__version__', '_comparable_version', '_default_architecture', '_follow_symlinks', '_get_machine_win32', '_java_getprop', '_mac_ver_xml', '_node', '_norm_version', '_os_release_cache', '_os_release_candidates', '_parse_os_release', '_platform', '_platform_cache', '_sys_version', '_sys_version_cache', '_syscmd_file', '_syscmd_ver', '_uname_cache', '_unknown_as_blank', '_ver_stages', '_win32_ver', '_wmi', '_wmi_query', 'android_ver', 'architecture', 'collections', 'freedesktop_os_release', 'functools', 'ios_ver', 'itertools', 'java_ver', 'libc_ver', 'mac_ver', 'machine', 'node', 'os', 'platform', 'processor', 'python_branch', 'python_build', 'python_compiler', 'python_implementation', 'python_revision', 'python_version', 'python_version_tuple', 're', 'release', 'sys', 'system', 'system_alias', 'uname', 'uname_result', 'version', 'win32_edition', 'win32_is_iot', 'win32_ver']\n"
     ]
    }
   ],
   "source": [
    "import platform as p\n",
    " \n",
    "print(p.machine())\n",
    "print(p.platform())\n",
    "print(p.processor())\n",
    "print(p.architecture())\n",
    "print(p.system())\n",
    "print(\"-----\")\n",
    "print(p.uname())\n",
    "print(p.python_version_tuple())\n",
    "print(p.python_version())\n",
    "print(p.release())\n",
    "print(p.python_implementation())\n",
    "print(p.version())\n",
    "print(dir(p))\n"
   ]
  },
  {
   "cell_type": "code",
   "execution_count": 107,
   "id": "13680d4f",
   "metadata": {},
   "outputs": [
    {
     "name": "stdout",
     "output_type": "stream",
     "text": [
      "3\n",
      "3\n"
     ]
    }
   ],
   "source": [
    "print(len('\"\\\\\"'))\n",
    "print(len(\"'\\\\'\"))\n",
    "# print(str(None)) # TypeError"
   ]
  },
  {
   "cell_type": "code",
   "execution_count": 110,
   "id": "87cc24f9",
   "metadata": {},
   "outputs": [
    {
     "name": "stdout",
     "output_type": "stream",
     "text": [
      "Monty\n",
      "Python\n"
     ]
    }
   ],
   "source": [
    "strm = open(\"mydoc.txt\", 'w')\n",
    "str = \"Monty\\nPython\"\n",
    "strm.write(str)\n",
    "strm.close()\n",
    "\n",
    "strm = open(\"mydoc.txt\", 'r')\n",
    "str2=strm.read()\n",
    "print(str2)\n",
    "\n",
    " "
   ]
  },
  {
   "cell_type": "code",
   "execution_count": 115,
   "id": "8d043d71",
   "metadata": {},
   "outputs": [
    {
     "ename": "NameError",
     "evalue": "name 'is_float_string' is not defined",
     "output_type": "error",
     "traceback": [
      "\u001b[31m---------------------------------------------------------------------------\u001b[39m",
      "\u001b[31mNameError\u001b[39m                                 Traceback (most recent call last)",
      "\u001b[36mCell\u001b[39m\u001b[36m \u001b[39m\u001b[32mIn[115]\u001b[39m\u001b[32m, line 1\u001b[39m\n\u001b[32m----> \u001b[39m\u001b[32m1\u001b[39m \u001b[38;5;28mprint\u001b[39m(\u001b[43mis_float_string\u001b[49m(-\u001b[32m4.0\u001b[39m)) \n",
      "\u001b[31mNameError\u001b[39m: name 'is_float_string' is not defined"
     ]
    }
   ],
   "source": [
    "print(is_float_string(-4.0)) "
   ]
  },
  {
   "cell_type": "code",
   "execution_count": 120,
   "id": "b3d21d04",
   "metadata": {},
   "outputs": [
    {
     "name": "stdout",
     "output_type": "stream",
     "text": [
      "(1, 1, 4)\n",
      "(<function <lambda> at 0x000002257E4507C0>, [0, 1, 2])\n"
     ]
    }
   ],
   "source": [
    "lst = [0, 1, 2]\n",
    "#t = tuple(lambda x: x**x, lst)\n",
    "x= lambda x: x**x, lst\n",
    "t = tuple(map(lambda x: x**x, lst))\n",
    "print(t)\n",
    "print(tuple(x))"
   ]
  },
  {
   "cell_type": "code",
   "execution_count": 122,
   "id": "1f0b64bc",
   "metadata": {},
   "outputs": [
    {
     "name": "stdout",
     "output_type": "stream",
     "text": [
      "True True False False\n"
     ]
    }
   ],
   "source": [
    "class A:\n",
    "    a = 0\n",
    "    def __init__(self):\n",
    "        self.x = 10 \n",
    " \n",
    "class B(A):    \n",
    "    def __init__(self):\n",
    "        #super().__init__()\n",
    "        pass\n",
    "        \n",
    "obj = B()\n",
    " \n",
    "print(hasattr(obj, 'a'), end = \" \")\n",
    "print(hasattr(B, 'a'), end = \" \")\n",
    "print(hasattr(obj, 'x'), end = \" \")\n",
    "print(hasattr(B, 'x'))\n",
    " "
   ]
  },
  {
   "cell_type": "code",
   "execution_count": 125,
   "id": "08d83840",
   "metadata": {},
   "outputs": [
    {
     "name": "stdout",
     "output_type": "stream",
     "text": [
      "(<class '__main__.B'>,)\n"
     ]
    }
   ],
   "source": [
    "class A:\n",
    "    pass\n",
    "    \n",
    "class B(A):\n",
    "    pass\n",
    "    \n",
    "class C(B):    \n",
    "    pass\n",
    "    \n",
    "obj = C()\n",
    "    \n",
    "print(type(obj).__bases__)"
   ]
  },
  {
   "cell_type": "code",
   "execution_count": 127,
   "id": "58f530c0",
   "metadata": {},
   "outputs": [
    {
     "name": "stdout",
     "output_type": "stream",
     "text": [
      "{'a': 1000}\n"
     ]
    }
   ],
   "source": [
    "class A:\n",
    "    def m(self):\n",
    "        self.a = 1000\n",
    "\n",
    "obj = A()\n",
    "obj.m()\n",
    "print(obj.__dict__)\n"
   ]
  },
  {
   "cell_type": "code",
   "execution_count": 131,
   "id": "ad75ae4c",
   "metadata": {},
   "outputs": [
    {
     "name": "stdout",
     "output_type": "stream",
     "text": [
      "4\n",
      "False\n",
      "0\n",
      "0\n",
      "None\n"
     ]
    }
   ],
   "source": [
    "x = 'a' and 4\n",
    "y = False and True\n",
    "z = [8] and 0 and None\n",
    "    \n",
    "print(x)\n",
    "print(y)\n",
    "print(z)\n",
    "\n",
    "print([8] and 0)\n",
    "print(None and 0)"
   ]
  },
  {
   "cell_type": "code",
   "execution_count": 134,
   "id": "a921b4d2",
   "metadata": {},
   "outputs": [
    {
     "name": "stdout",
     "output_type": "stream",
     "text": [
      "2\n"
     ]
    }
   ],
   "source": [
    "class A:\n",
    "    x = 2\n",
    "    def __init__(self, n):\n",
    "        self.__a = n // 2\n",
    "    \n",
    "obj = A(5)\n",
    "    \n",
    "print(obj._A__a)"
   ]
  },
  {
   "cell_type": "code",
   "execution_count": 136,
   "id": "a1fee752",
   "metadata": {},
   "outputs": [
    {
     "name": "stdout",
     "output_type": "stream",
     "text": [
      "Bytes: b'A\\xc3\\xa7\\xc3\\xa3o! \\xf0\\x9f\\x98\\x8a'\n",
      "Número de bytes: 12\n",
      "Número de caracteres (code points): 7\n",
      "Ação! 😊\n"
     ]
    }
   ],
   "source": [
    "# Exemplo em Python 3\n",
    "texto = \"Ação! 😊\"\n",
    "bytes_utf8 = texto.encode('utf-8')  # Converte string para bytes UTF-8\n",
    "print(f\"Bytes: {bytes_utf8}\")\n",
    "print(f\"Número de bytes: {len(bytes_utf8)}\")\n",
    "print(f\"Número de caracteres (code points): {len(texto)}\")\n",
    "x= bytes_utf8.decode('utf-8')\n",
    "print(x)"
   ]
  },
  {
   "cell_type": "code",
   "execution_count": 142,
   "id": "358100ab",
   "metadata": {},
   "outputs": [
    {
     "name": "stdout",
     "output_type": "stream",
     "text": [
      "True\n",
      "Palindrome function test passed!\n"
     ]
    }
   ],
   "source": [
    "def palindrome(s):    \n",
    "    return s == s[::-1]\n",
    "    \n",
    "def test_palindrome():\n",
    "    assert palindrome(''), 'Empty string test failed'\n",
    "    assert palindrome('alba') == False, 'Non-palindrome word test failed'\n",
    "    assert palindrome('racecar'), 'Basic test failed'\n",
    "    assert palindrome('x\\tx'), 'Escape sequence test failed'    \n",
    "    \n",
    "try:\n",
    "    test_palindrome()\n",
    "    print(palindrome(\"catac\"))\n",
    "except AssertionError as err:\n",
    "    print(err)\n",
    "else:\n",
    "    print('Palindrome function test passed!')"
   ]
  },
  {
   "cell_type": "code",
   "execution_count": 144,
   "id": "1e0cddcc",
   "metadata": {},
   "outputs": [
    {
     "name": "stdout",
     "output_type": "stream",
     "text": [
      "8\n"
     ]
    }
   ],
   "source": [
    "x = 2 ** 3 ** (0 and 1) ** 0 ** 2\n",
    "\n",
    "print(x)"
   ]
  }
 ],
 "metadata": {
  "kernelspec": {
   "display_name": "Python 3",
   "language": "python",
   "name": "python3"
  },
  "language_info": {
   "codemirror_mode": {
    "name": "ipython",
    "version": 3
   },
   "file_extension": ".py",
   "mimetype": "text/x-python",
   "name": "python",
   "nbconvert_exporter": "python",
   "pygments_lexer": "ipython3",
   "version": "3.13.6"
  }
 },
 "nbformat": 4,
 "nbformat_minor": 5
}
