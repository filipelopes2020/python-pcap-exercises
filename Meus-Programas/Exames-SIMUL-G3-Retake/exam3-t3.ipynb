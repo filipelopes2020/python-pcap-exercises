{
 "cells": [
  {
   "cell_type": "code",
   "execution_count": 5,
   "id": "93b2e3f1",
   "metadata": {},
   "outputs": [
    {
     "name": "stdout",
     "output_type": "stream",
     "text": [
      "True\n",
      "False\n",
      "True\n"
     ]
    }
   ],
   "source": [
    "class A:\n",
    "    pass\n",
    " \n",
    "class B:\n",
    "    pass\n",
    " \n",
    "class C(A, B):    \n",
    "    pass\n",
    " \n",
    "class D(C):\n",
    "    pass\n",
    " \n",
    "d = D()\n",
    "    \n",
    "print(isinstance(d, (A, B)))\n",
    "print(isinstance(D, C))\n",
    "#print(isinstance(d, [A, B]))\n",
    "print(isinstance(d, B))\n",
    "#print(isinstance(d, A, C)) "
   ]
  },
  {
   "cell_type": "code",
   "execution_count": 6,
   "id": "b1853aa6",
   "metadata": {},
   "outputs": [
    {
     "name": "stdout",
     "output_type": "stream",
     "text": [
      "D:\\OneDrive\\Documentos\\REPOS\\PYTHON\\Cursos_Python\\Meus-Programas\\packages\\PackP\n"
     ]
    }
   ],
   "source": [
    "import sys\n",
    "print(sys.path[0])"
   ]
  },
  {
   "cell_type": "code",
   "execution_count": null,
   "id": "9ff4a639",
   "metadata": {},
   "outputs": [
    {
     "ename": "TypeError",
     "evalue": "Cannot create a consistent method resolution order (MRO) for bases A, B",
     "output_type": "error",
     "traceback": [
      "\u001b[31m---------------------------------------------------------------------------\u001b[39m",
      "\u001b[31mTypeError\u001b[39m                                 Traceback (most recent call last)",
      "\u001b[36mCell\u001b[39m\u001b[36m \u001b[39m\u001b[32mIn[9]\u001b[39m\u001b[32m, line 9\u001b[39m\n\u001b[32m      7\u001b[39m \u001b[38;5;28;01mclass\u001b[39;00m\u001b[38;5;250m \u001b[39m\u001b[34;01mE\u001b[39;00m(D,C): \u001b[38;5;28;01mpass\u001b[39;00m\n\u001b[32m      8\u001b[39m \u001b[38;5;28;01mclass\u001b[39;00m\u001b[38;5;250m \u001b[39m\u001b[34;01mE\u001b[39;00m(B,C): \u001b[38;5;28;01mpass\u001b[39;00m\n\u001b[32m----> \u001b[39m\u001b[32m9\u001b[39m \u001b[38;5;28;01mclass\u001b[39;00m\u001b[38;5;250m \u001b[39m\u001b[34;01mE\u001b[39;00m(A,B): \u001b[38;5;28;01mpass\u001b[39;00m\n\u001b[32m     10\u001b[39m \u001b[38;5;66;03m# class E(A,C): pass\u001b[39;00m\n\u001b[32m     11\u001b[39m \u001b[38;5;66;03m# class E(B,D): pass\u001b[39;00m\n\u001b[32m     12\u001b[39m \u001b[38;5;66;03m# ----------------- \u001b[39;00m\n",
      "\u001b[31mTypeError\u001b[39m: Cannot create a consistent method resolution order (MRO) for bases A, B"
     ]
    }
   ],
   "source": [
    "class A: pass\n",
    "class B(A): pass\n",
    "class C(A): pass\n",
    "class D(B): pass\n",
    "class E(D,A): pass\n",
    "class E(C,D): pass\n",
    "class E(D,C): pass\n",
    "class E(B,C): pass\n",
    "# class E(A,B): pass\n",
    "# class E(A,C): pass\n",
    "# class E(B,D): pass\n",
    "# ----------------- "
   ]
  },
  {
   "cell_type": "code",
   "execution_count": 11,
   "id": "50b2c6e5",
   "metadata": {},
   "outputs": [
    {
     "name": "stdout",
     "output_type": "stream",
     "text": [
      "Snake\n"
     ]
    }
   ],
   "source": [
    "class A:    \n",
    "    def __m(self):\n",
    "        print(\"Snake\")\n",
    "    \n",
    "obj = A()\n",
    "obj._A__m()"
   ]
  },
  {
   "cell_type": "code",
   "execution_count": 13,
   "id": "e229300f",
   "metadata": {},
   "outputs": [
    {
     "name": "stdout",
     "output_type": "stream",
     "text": [
      "False\n",
      "True\n",
      "False\n",
      "True\n",
      "nohtyP\n"
     ]
    }
   ],
   "source": [
    "print(not 'a' in 'abc')           # False \n",
    "print('' in '')                   # True    \n",
    "print('ty' not in 'Python'[::-1]) # False   \n",
    "print('\\n' in ''' a              \n",
    "              b ''')              # True \n",
    "\n",
    "print('Python'[::-1])"
   ]
  },
  {
   "cell_type": "code",
   "execution_count": 31,
   "id": "148bb3f8",
   "metadata": {},
   "outputs": [
    {
     "name": "stdout",
     "output_type": "stream",
     "text": [
      "hhhh\n",
      "aaaa\n",
      "bbbb\n"
     ]
    }
   ],
   "source": [
    "\n",
    "y = lambda x: 4*{1:\"a\", 2:\"b\", 3:\"c\"}[x-1] if x in (2,3) else 'hhhh'\n",
    "\n",
    "print(y(1))  # imprime \"a\"\n",
    "print(y(2))  # imprime \"b\"\n",
    "print(y(3))  # imprime \"c\"\n"
   ]
  },
  {
   "cell_type": "code",
   "execution_count": 38,
   "id": "225d326c",
   "metadata": {},
   "outputs": [
    {
     "name": "stdout",
     "output_type": "stream",
     "text": [
      "A\n",
      "B\n"
     ]
    }
   ],
   "source": [
    "def fun(x, y):    \n",
    "    try:\n",
    "        \n",
    "        return x/y\n",
    "    except:    \n",
    "        print('A')    \n",
    "        raise\n",
    "    \n",
    "try:    \n",
    "    \n",
    "    fun(2, 0)\n",
    "except ZeroDivisionError:\n",
    "    print('B')\n",
    "except:\n",
    "    print('C')\n",
    "    \n",
    "else:\n",
    "    print('D')\n"
   ]
  },
  {
   "cell_type": "code",
   "execution_count": 96,
   "id": "b3722634",
   "metadata": {},
   "outputs": [
    {
     "name": "stdout",
     "output_type": "stream",
     "text": [
      "b\n",
      "False\n",
      "[]\n",
      "1\n"
     ]
    }
   ],
   "source": [
    "x = 'a' and 4 and 'b'\n",
    "y = True and False\n",
    "z = [] and 1\n",
    "v = False or 1\n",
    "\n",
    "print(x)\n",
    "print(y)\n",
    "print(z)\n",
    "print(v)"
   ]
  },
  {
   "cell_type": "code",
   "execution_count": 97,
   "id": "52aa2c79",
   "metadata": {},
   "outputs": [
    {
     "name": "stdout",
     "output_type": "stream",
     "text": [
      "Windows\n",
      "AMD64\n",
      "Intel64 Family 6 Model 158 Stepping 10, GenuineIntel\n",
      "Windows-11-10.0.26100-SP0\n",
      "('64bit', 'WindowsPE')\n"
     ]
    }
   ],
   "source": [
    "import platform as p\n",
    "print(p.system())\n",
    "print(p.machine())\n",
    "print(p.processor())\n",
    "print(p.platform()) \n",
    "print(p.architecture())"
   ]
  },
  {
   "cell_type": "code",
   "execution_count": 99,
   "id": "2c947290",
   "metadata": {},
   "outputs": [
    {
     "name": "stdout",
     "output_type": "stream",
     "text": [
      "dog\n",
      "cat\n",
      "foxn\n",
      "fox\n",
      "bat\n",
      "tiger\n"
     ]
    }
   ],
   "source": [
    "stream = open(\"animals.txt\")\n",
    "content = stream.read()\n",
    "print(content)"
   ]
  },
  {
   "cell_type": "code",
   "execution_count": 100,
   "id": "35716fc5",
   "metadata": {},
   "outputs": [
    {
     "name": "stdout",
     "output_type": "stream",
     "text": [
      "PythonViper\n",
      "PythonViper\n"
     ]
    }
   ],
   "source": [
    "class A:\n",
    "    x = \"\"\n",
    "    \n",
    "    def __init__(self, s):\n",
    "        A.x += s \n",
    "    \n",
    "obj1 = A('Python')\n",
    "obj2 = A('Viper')\n",
    "    \n",
    "print(obj1.x)\n",
    "print(obj2.x)"
   ]
  },
  {
   "cell_type": "code",
   "execution_count": 103,
   "id": "b8d98221",
   "metadata": {},
   "outputs": [
    {
     "name": "stdout",
     "output_type": "stream",
     "text": [
      "14\n"
     ]
    }
   ],
   "source": [
    "class A:\n",
    "    def __init__(self, n1, n2):\n",
    "        self.x = n1\n",
    "        self.y = n2\n",
    "        \n",
    "    def a(self):\n",
    "        return self.x * self.y\n",
    " \n",
    "    def b(self):\n",
    "        return self.x ** self.y\n",
    "    \n",
    "obj = A(2, 3)\n",
    " \n",
    "y = obj.a() + obj.b()\n",
    "print(y)"
   ]
  },
  {
   "cell_type": "code",
   "execution_count": 104,
   "id": "55d26651",
   "metadata": {},
   "outputs": [
    {
     "name": "stdout",
     "output_type": "stream",
     "text": [
      "True True True False\n"
     ]
    }
   ],
   "source": [
    "class A:\n",
    "    a = 0\n",
    "    def __init__(self):\n",
    "        self.x = 10 \n",
    "    \n",
    "class B(A):    \n",
    "    def __init__(self):\n",
    "        super().__init__()\n",
    "        \n",
    "obj = B()\n",
    "    \n",
    "print(hasattr(obj, 'a'), end = \" \")\n",
    "print(hasattr(B, 'a'), end = \" \")\n",
    "print(hasattr(obj, 'x'), end = \" \")\n",
    "print(hasattr(B, 'x'))"
   ]
  },
  {
   "cell_type": "code",
   "execution_count": 111,
   "id": "e743d3e3",
   "metadata": {},
   "outputs": [
    {
     "name": "stdout",
     "output_type": "stream",
     "text": [
      "Value error\n"
     ]
    }
   ],
   "source": [
    "import math\n",
    "try:\n",
    "    print(math.sqrt(-8))\n",
    "except ValueError:\n",
    "    print('Value error')\n"
   ]
  },
  {
   "cell_type": "code",
   "execution_count": null,
   "id": "13139387",
   "metadata": {},
   "outputs": [
    {
     "name": "stdout",
     "output_type": "stream",
     "text": [
      "Value error\n"
     ]
    }
   ],
   "source": [
    "import math \n",
    "try:\n",
    "    print(sqrt(-8))\n",
    "except ValueError:\n",
    "    print('Value error')"
   ]
  },
  {
   "cell_type": "code",
   "execution_count": 112,
   "id": "26425d2d",
   "metadata": {},
   "outputs": [
    {
     "ename": "ValueError",
     "evalue": "math domain error",
     "output_type": "error",
     "traceback": [
      "\u001b[31m---------------------------------------------------------------------------\u001b[39m",
      "\u001b[31mValueError\u001b[39m                                Traceback (most recent call last)",
      "\u001b[36mCell\u001b[39m\u001b[36m \u001b[39m\u001b[32mIn[112]\u001b[39m\u001b[32m, line 2\u001b[39m\n\u001b[32m      1\u001b[39m \u001b[38;5;28;01mimport\u001b[39;00m\u001b[38;5;250m \u001b[39m\u001b[34;01mmath\u001b[39;00m\n\u001b[32m----> \u001b[39m\u001b[32m2\u001b[39m \u001b[38;5;28mprint\u001b[39m(\u001b[43mmath\u001b[49m\u001b[43m.\u001b[49m\u001b[43msqrt\u001b[49m\u001b[43m(\u001b[49m\u001b[43m-\u001b[49m\u001b[32;43m8\u001b[39;49m\u001b[43m)\u001b[49m)\n",
      "\u001b[31mValueError\u001b[39m: math domain error"
     ]
    }
   ],
   "source": [
    "import math\n",
    "print(math.sqrt(-8))"
   ]
  },
  {
   "cell_type": "code",
   "execution_count": 124,
   "id": "794f5878",
   "metadata": {},
   "outputs": [
    {
     "name": "stdout",
     "output_type": "stream",
     "text": [
      "20013\n",
      "128522\n",
      "b'A'\n",
      "b'\\xe2\\x82\\xac'\n",
      "b'\\xf0\\x9f\\x98\\x8a'\n",
      "€\n",
      "😊\n"
     ]
    }
   ],
   "source": [
    "print(ord('中'))   # Saída: 20013 (0x4E2D)\n",
    "print(ord('😊'))   # Saída: 128522 (0x1F60A)\n",
    "\n",
    "print('A'.encode('utf-8'))   # Saída: b'A' (um byte)\n",
    "print('€'.encode('utf-8'))   # Saída: b'\\xe2\\x82\\xac' (três bytes)\n",
    "print('😊'.encode('utf-8'))  # Saída: b'\\xf0\\x9f\\x98\\x8a' (quatro bytes)\n",
    "\n",
    "# Decodifica bytes UTF-8 para string\n",
    "b = b'\\xe2\\x82\\xac'; s = b.decode('utf-8')\n",
    "print(s)  # Saída: €\n",
    "b = b'\\xf0\\x9f\\x98\\x8a'; s = b.decode('utf-8')\n",
    "print(s)  # Saída: 😊"
   ]
  },
  {
   "cell_type": "code",
   "execution_count": 126,
   "id": "19cc1b69",
   "metadata": {},
   "outputs": [
    {
     "name": "stdout",
     "output_type": "stream",
     "text": [
      "False\n",
      "Palindrome function test passed!\n"
     ]
    }
   ],
   "source": [
    "def palindrome(s):    \n",
    "    return s == s[::-1]\n",
    " \n",
    "def test_palindrome():\n",
    "    assert palindrome(''), 'Empty string test failed'\n",
    "    assert palindrome('alba') == False, 'Non-palindrome word test failed'\n",
    "    assert palindrome('racecar'), 'Basic test failed'\n",
    "    assert palindrome('x\\tx'), 'Escape sequence test failed'    \n",
    " \n",
    "try:\n",
    "    test_palindrome()\n",
    "    print(palindrome('alba') )\n",
    "except AssertionError as err:\n",
    "    print(err)\n",
    "else:\n",
    "    print('Palindrome function test passed!')\n",
    " "
   ]
  },
  {
   "cell_type": "code",
   "execution_count": 144,
   "id": "0cc1cfb8",
   "metadata": {},
   "outputs": [
    {
     "name": "stdout",
     "output_type": "stream",
     "text": [
      "2\n",
      "(<class 'object'>,)\n"
     ]
    }
   ],
   "source": [
    "class A:\n",
    "    x = 2\n",
    "    def __init__(self, n):\n",
    "        self.__a = n // 2\n",
    "    \n",
    "obj = A(5)\n",
    "    \n",
    "print(obj._A__a)\n",
    "#print(obj.__mro__)\n",
    "#print(obj.__bases__)\n",
    "print(A.__bases__)\n",
    "#print(obj.__name__)"
   ]
  },
  {
   "cell_type": "code",
   "execution_count": 134,
   "id": "74e8468d",
   "metadata": {},
   "outputs": [
    {
     "name": "stdout",
     "output_type": "stream",
     "text": [
      "(1, 1, 4)\n",
      "(0, 1, 2)\n"
     ]
    },
    {
     "ename": "TypeError",
     "evalue": "unsupported operand type(s) for ** or pow(): 'list' and 'list'",
     "output_type": "error",
     "traceback": [
      "\u001b[31m---------------------------------------------------------------------------\u001b[39m",
      "\u001b[31mTypeError\u001b[39m                                 Traceback (most recent call last)",
      "\u001b[36mCell\u001b[39m\u001b[36m \u001b[39m\u001b[32mIn[134]\u001b[39m\u001b[32m, line 12\u001b[39m\n\u001b[32m      7\u001b[39m \u001b[38;5;28mprint\u001b[39m(t)                               \u001b[38;5;66;03m# (0, 1, 2)\u001b[39;00m\n\u001b[32m      9\u001b[39m \u001b[38;5;66;03m# t = tuple(lambda x: x**x, lst)       # TypeError\u001b[39;00m\n\u001b[32m     10\u001b[39m \u001b[38;5;66;03m# print(t)\u001b[39;00m\n\u001b[32m---> \u001b[39m\u001b[32m12\u001b[39m t = \u001b[43m(\u001b[49m\u001b[38;5;28;43;01mlambda\u001b[39;49;00m\u001b[43m \u001b[49m\u001b[43mx\u001b[49m\u001b[43m:\u001b[49m\u001b[43m \u001b[49m\u001b[43mx\u001b[49m\u001b[43m*\u001b[49m\u001b[43m*\u001b[49m\u001b[43mx\u001b[49m\u001b[43m)\u001b[49m\u001b[43m(\u001b[49m\u001b[43mlst\u001b[49m\u001b[43m)\u001b[49m            \u001b[38;5;66;03m# TypeError\u001b[39;00m\n\u001b[32m     13\u001b[39m \u001b[38;5;28mprint\u001b[39m(\u001b[38;5;28mtuple\u001b[39m(t))\n",
      "\u001b[36mCell\u001b[39m\u001b[36m \u001b[39m\u001b[32mIn[134]\u001b[39m\u001b[32m, line 12\u001b[39m, in \u001b[36m<lambda>\u001b[39m\u001b[34m(x)\u001b[39m\n\u001b[32m      7\u001b[39m \u001b[38;5;28mprint\u001b[39m(t)                               \u001b[38;5;66;03m# (0, 1, 2)\u001b[39;00m\n\u001b[32m      9\u001b[39m \u001b[38;5;66;03m# t = tuple(lambda x: x**x, lst)       # TypeError\u001b[39;00m\n\u001b[32m     10\u001b[39m \u001b[38;5;66;03m# print(t)\u001b[39;00m\n\u001b[32m---> \u001b[39m\u001b[32m12\u001b[39m t = (\u001b[38;5;28;01mlambda\u001b[39;00m x: \u001b[43mx\u001b[49m\u001b[43m*\u001b[49m\u001b[43m*\u001b[49m\u001b[43mx\u001b[49m)(lst)            \u001b[38;5;66;03m# TypeError\u001b[39;00m\n\u001b[32m     13\u001b[39m \u001b[38;5;28mprint\u001b[39m(\u001b[38;5;28mtuple\u001b[39m(t))\n",
      "\u001b[31mTypeError\u001b[39m: unsupported operand type(s) for ** or pow(): 'list' and 'list'"
     ]
    }
   ],
   "source": [
    "lst = [0, 1, 2]\n",
    " \n",
    "t = tuple(map(lambda x: x**x, lst))\n",
    "print(t)                               # (1, 1, 4)\n",
    " \n",
    "t = tuple(filter(lambda x: x**x, lst))\n",
    "print(t)                               # (0, 1, 2)\n",
    " \n",
    "# t = tuple(lambda x: x**x, lst)       # TypeError\n",
    "# print(t)\n",
    " \n",
    "t = (lambda x: x**x)(lst)            # TypeError\n",
    "print(tuple(t))"
   ]
  },
  {
   "cell_type": "code",
   "execution_count": 135,
   "id": "035a2888",
   "metadata": {},
   "outputs": [
    {
     "name": "stdout",
     "output_type": "stream",
     "text": [
      "True\n",
      "False\n",
      "True\n",
      "False\n"
     ]
    }
   ],
   "source": [
    "print(ord('f') - ord('c') == 3)        # True\n",
    "print(ord(\"A\") - ord(\"d\") == ord(\"0\")) # False\n",
    "print(ord('z') - ord('Z') == ord(' ')) # True\n",
    "print(ord('9') - ord('0') != 9)        # False"
   ]
  },
  {
   "cell_type": "code",
   "execution_count": 145,
   "id": "26624b1e",
   "metadata": {},
   "outputs": [
    {
     "name": "stdout",
     "output_type": "stream",
     "text": [
      "4\n",
      "<function f.<locals>.g at 0x000001742CB698A0>\n"
     ]
    }
   ],
   "source": [
    "def f(x):   \n",
    "    y = 2 \n",
    "    def g():\n",
    "        return x * y\n",
    "    return g\n",
    "    \n",
    "var = f(2)\n",
    "    \n",
    "print(var())\n",
    "print(var)"
   ]
  }
 ],
 "metadata": {
  "kernelspec": {
   "display_name": "Python 3",
   "language": "python",
   "name": "python3"
  },
  "language_info": {
   "codemirror_mode": {
    "name": "ipython",
    "version": 3
   },
   "file_extension": ".py",
   "mimetype": "text/x-python",
   "name": "python",
   "nbconvert_exporter": "python",
   "pygments_lexer": "ipython3",
   "version": "3.13.6"
  }
 },
 "nbformat": 4,
 "nbformat_minor": 5
}
