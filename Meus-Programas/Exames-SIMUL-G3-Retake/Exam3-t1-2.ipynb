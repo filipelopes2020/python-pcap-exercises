{
 "cells": [
  {
   "cell_type": "code",
   "execution_count": 2,
   "id": "f050506c",
   "metadata": {},
   "outputs": [
    {
     "name": "stdout",
     "output_type": "stream",
     "text": [
      "True True True False True\n",
      "True "
     ]
    }
   ],
   "source": [
    "class A:\n",
    "    pass\n",
    "    \n",
    "class B:\n",
    "    pass\n",
    "    \n",
    "class C(A):\n",
    "    pass\n",
    "    \n",
    "class D(C):\n",
    "    pass\n",
    "    \n",
    "print(issubclass(D, C), end = \" \")\n",
    "print(issubclass(D, A), end = \" \")\n",
    "print(issubclass(A, A), end = \" \")\n",
    "print(issubclass(D, B), end = \" \")\n",
    "print(issubclass(D, (A, B)))\n",
    "print(issubclass(D, D), end = \" \")"
   ]
  },
  {
   "cell_type": "code",
   "execution_count": 6,
   "id": "f83baf41",
   "metadata": {},
   "outputs": [
    {
     "name": "stdout",
     "output_type": "stream",
     "text": [
      "V\n",
      "i\n",
      "p\n",
      "e\n",
      "r\n",
      "V\n",
      "i\n",
      "p\n",
      "e\n",
      "r\n",
      "2\n"
     ]
    }
   ],
   "source": [
    "n = 0\n",
    "for i in \"Viper\" * 2:\n",
    "    print(i)\n",
    "    if i in \"Snake\":\n",
    "        n += 1\n",
    "        #print(i)\n",
    " \n",
    "print(n)"
   ]
  },
  {
   "cell_type": "code",
   "execution_count": 10,
   "id": "a02f4eb9",
   "metadata": {},
   "outputs": [
    {
     "name": "stdout",
     "output_type": "stream",
     "text": [
      "Olá, mundo!\n"
     ]
    }
   ],
   "source": [
    "# Lambda sem argumentos usando valores padrão\n",
    "sem_arg = lambda: \"Olá, mundo!\"\n",
    "\n",
    "# Chamando a função\n",
    "print(sem_arg())  # Output: Olá, mundo!"
   ]
  },
  {
   "cell_type": "code",
   "execution_count": 14,
   "id": "4993f6ab",
   "metadata": {},
   "outputs": [
    {
     "name": "stdout",
     "output_type": "stream",
     "text": [
      "ERROR END 2.0 OK END "
     ]
    }
   ],
   "source": [
    "for i in range(3, 1, -1):\n",
    "    try:\n",
    "        print(2 / (3 % i), end=' ')\n",
    "    except:\n",
    "        print(\"ERROR\", end=' ')\n",
    "    else:\n",
    "        print(\"OK\", end=' ')\n",
    "    finally:\n",
    "        print(\"END\", end=' ')"
   ]
  },
  {
   "cell_type": "code",
   "execution_count": 15,
   "id": "b1b80747",
   "metadata": {},
   "outputs": [
    {
     "name": "stdout",
     "output_type": "stream",
     "text": [
      "False\n"
     ]
    }
   ],
   "source": [
    "print (not 'e')"
   ]
  },
  {
   "cell_type": "code",
   "execution_count": 16,
   "id": "569f26d1",
   "metadata": {},
   "outputs": [
    {
     "name": "stdout",
     "output_type": "stream",
     "text": [
      "(1, [3], 'abc')\n"
     ]
    }
   ],
   "source": [
    "t = (1, [2], 'abc')\n",
    "t[1][0] = 3\n",
    "print(t)"
   ]
  },
  {
   "cell_type": "code",
   "execution_count": 33,
   "id": "8c8fd56e",
   "metadata": {},
   "outputs": [
    {
     "name": "stdout",
     "output_type": "stream",
     "text": [
      "['o', 'p', 'i', 'u']\n"
     ]
    }
   ],
   "source": [
    "txt = \"Python\"\n",
    "    \n",
    "l = [chr(ord(x) + 1) for x in txt]\n",
    "    \n",
    "print(l[-1:1:-1])"
   ]
  },
  {
   "cell_type": "code",
   "execution_count": 40,
   "id": "9a7209cb",
   "metadata": {},
   "outputs": [
    {
     "name": "stdout",
     "output_type": "stream",
     "text": [
      "5.0\n",
      "['__doc__', '__loader__', '__name__', '__package__', '__spec__', 'acos', 'acosh', 'asin', 'asinh', 'atan', 'atan2', 'atanh', 'cbrt', 'ceil', 'comb', 'copysign', 'cos', 'cosh', 'degrees', 'dist', 'e', 'erf', 'erfc', 'exp', 'exp2', 'expm1', 'fabs', 'factorial', 'floor', 'fma', 'fmod', 'frexp', 'fsum', 'gamma', 'gcd', 'hypot', 'inf', 'isclose', 'isfinite', 'isinf', 'isnan', 'isqrt', 'lcm', 'ldexp', 'lgamma', 'log', 'log10', 'log1p', 'log2', 'modf', 'nan', 'nextafter', 'perm', 'pi', 'pow', 'prod', 'radians', 'remainder', 'sin', 'sinh', 'sqrt', 'sumprod', 'tan', 'tanh', 'tau', 'trunc', 'ulp']\n"
     ]
    }
   ],
   "source": [
    "#from math import *\n",
    "import math as m\n",
    "print(m.sqrt(25))\n",
    "print(dir(m))"
   ]
  },
  {
   "cell_type": "code",
   "execution_count": 41,
   "id": "49b2db6f",
   "metadata": {},
   "outputs": [
    {
     "name": "stdout",
     "output_type": "stream",
     "text": [
      "10\n"
     ]
    }
   ],
   "source": [
    "class A:\n",
    "    def __init__(foo):\n",
    "        foo.x = 10\n",
    "        \n",
    "obj = A()\n",
    "    \n",
    "print(obj.x)"
   ]
  },
  {
   "cell_type": "code",
   "execution_count": 43,
   "id": "e4a6930b",
   "metadata": {},
   "outputs": [
    {
     "name": "stdout",
     "output_type": "stream",
     "text": [
      "'Python'\n",
      "''\n",
      "'yth'\n",
      "'Po'\n",
      "12\n"
     ]
    }
   ],
   "source": [
    "txt = \"Python\"\n",
    "    \n",
    "sl1 = txt[:]; print(f\"'{sl1}'\")\n",
    "sl2 = txt[4:2]; print(f\"'{sl2}'\")\n",
    "sl3 = txt[1:4]; print(f\"'{sl3}'\")\n",
    "sl4 = txt[::4]; print(f\"'{sl4}'\")\n",
    "\n",
    "x = len(sl1) - len(sl2) + len(sl3) * len(sl4)\n",
    "print(x)"
   ]
  },
  {
   "cell_type": "code",
   "execution_count": 46,
   "id": "34efcbe8",
   "metadata": {},
   "outputs": [
    {
     "name": "stdout",
     "output_type": "stream",
     "text": [
      "(<class '__main__.B'>,)\n",
      "True "
     ]
    }
   ],
   "source": [
    "class A():\n",
    "    pass\n",
    "class B(A):\n",
    "    pass\n",
    "class C(B):\n",
    "    pass\n",
    "\n",
    "#print(B.__bases__) # (<class '__main__.A'>,)\n",
    "print(C.__bases__) # (<class '__main__.B'>, <class '__main__.A'>)\n",
    "print(issubclass(C, A), end = \" \") # True"
   ]
  },
  {
   "cell_type": "code",
   "execution_count": 1,
   "id": "0e22743d",
   "metadata": {},
   "outputs": [
    {
     "name": "stdout",
     "output_type": "stream",
     "text": [
      "6\n"
     ]
    }
   ],
   "source": [
    "class A:\n",
    "    x = 1\n",
    "    def __init__(self):\n",
    "        A.x += 1\n",
    "    \n",
    "y = A().x * A().x\n",
    "    \n",
    "print(y)"
   ]
  },
  {
   "cell_type": "code",
   "execution_count": 3,
   "id": "6f65e8da",
   "metadata": {},
   "outputs": [],
   "source": [
    "class A:\n",
    "    ..."
   ]
  },
  {
   "cell_type": "code",
   "execution_count": 29,
   "id": "53930fef",
   "metadata": {},
   "outputs": [
    {
     "name": "stdout",
     "output_type": "stream",
     "text": [
      "abcdef\n",
      "\n",
      "abcdef\n",
      "----\n",
      "abcdef\n",
      "abcdef\n",
      "\n",
      "\n"
     ]
    }
   ],
   "source": [
    "s = \"abcdef\"\n",
    "print(s[-10:10])\n",
    "print(s[5:5])\n",
    "print(s[:])\n",
    "print(\"----\")\n",
    "print(s[-10:]) #-> print(s[0:]) -> abcdef\n",
    "print(s[:100]) #-> print(s[:]) -> abcdef\n",
    "print(s[10:15]) #-> print(s[10:]) -> ''\n",
    "print(s[-20:-10]) #-> print(s[0:-10]) -> ''"
   ]
  },
  {
   "cell_type": "code",
   "execution_count": 49,
   "id": "83e3a55c",
   "metadata": {},
   "outputs": [
    {
     "name": "stdout",
     "output_type": "stream",
     "text": [
      "4\n",
      "['I', 'd love to join your team, but I', 'm afraid I can', 't.']\n",
      "[' ', ' ', ' ', ' ', ' ', ' ', ' ', ' ', ' ', ' ', ' ', ' ', ' ', ' ', ' ', ' ', ' ', ' ', ' ', ' ', ' ', ' ', ' ', ' ', ' ', ' ', ' ', ' ', ' ', ' ', ' ', ' ', ' ', ' ', ' ', ' ', ' ', ' ', ' ', ' ', ' ', ' ', ' ', ' ', ' ', ' ', ' ', ' ', ' ', ' ', ' ', ' ', ' ', ' ', ' ', ' ', ' ', ' ', ' ', ' ', \"'\", \"'\", \"'\", ',', '.', 'I', 'I', 'I', 'a', 'a', 'a', 'a', 'b', 'c', 'd', 'd', 'e', 'e', 'f', 'i', 'i', 'j', 'l', 'm', 'm', 'n', 'n', 'o', 'o', 'o', 'o', 'r', 'r', 't', 't', 't', 't', 'u', 'u', 'v', 'y']\n",
      "I'd love to join your team, but I'm afraid I can't.\n"
     ]
    }
   ],
   "source": [
    "list1 = \"I'd love to join your team, but I'm afraid I can't.\".split(\"'\")\n",
    "list2 = sorted(' '.join(\"I'd love to join your team, but I'm afraid I can't.\"))\n",
    "print(len(list1))\n",
    "print(list1)\n",
    "print(list2)\n",
    "print(''.join(\"I'd love to join your team, but I'm afraid I can't.\"))"
   ]
  },
  {
   "cell_type": "code",
   "execution_count": 55,
   "id": "30b9619b",
   "metadata": {},
   "outputs": [
    {
     "name": "stdout",
     "output_type": "stream",
     "text": [
      "(5, 6)\n",
      "None\n",
      "14\n"
     ]
    }
   ],
   "source": [
    "g=lambda x, y: None\n",
    "f=lambda x,y: (x+y, x*y)\n",
    "h=lambda x, y: x*y + x**y\n",
    "print(f(2, 3))\n",
    "print(g(2, 3))\n",
    "print(h(2, 3))  "
   ]
  },
  {
   "cell_type": "code",
   "execution_count": 61,
   "id": "a51cc23b",
   "metadata": {},
   "outputs": [
    {
     "name": "stdout",
     "output_type": "stream",
     "text": [
      "-1\n"
     ]
    }
   ],
   "source": [
    " \n",
    "txt = \"Hello World\"\n",
    "x = txt.find('l', 4) ;\n",
    "#print(x); \n",
    "#print(txt.find('l', -5))\n",
    "print(txt.find('world'))\n",
    "x= x + txt.find('world') * txt.find('l', -5)\n",
    " \n",
    "#print(x)\n",
    " "
   ]
  },
  {
   "cell_type": "code",
   "execution_count": 64,
   "id": "35d88a36",
   "metadata": {},
   "outputs": [
    {
     "name": "stdout",
     "output_type": "stream",
     "text": [
      "B\n",
      "A"
     ]
    }
   ],
   "source": [
    "class A:\n",
    "    def m(self):\n",
    "        print(\"A\", end = \"\")\n",
    "    \n",
    "class B(A):\n",
    "    def m(self):\n",
    "        print(\"B\")\n",
    "    \n",
    "class C(B, A):\n",
    "    pass\n",
    "    \n",
    "obj = C()\n",
    "obja=A()\n",
    "obj.m()\n",
    "obja.m()\n"
   ]
  },
  {
   "cell_type": "code",
   "execution_count": 67,
   "id": "1c1f9a74",
   "metadata": {},
   "outputs": [
    {
     "name": "stdout",
     "output_type": "stream",
     "text": [
      "MontyPython\n"
     ]
    }
   ],
   "source": [
    "x = \"Monty\" \"Python\"\n",
    "print(x)"
   ]
  },
  {
   "cell_type": "code",
   "execution_count": 68,
   "id": "088eb295",
   "metadata": {},
   "outputs": [
    {
     "name": "stdout",
     "output_type": "stream",
     "text": [
      "bytearray(b'\\x00\\x00\\x00\\x00\\x00')\n"
     ]
    }
   ],
   "source": [
    "data = bytearray(5)\n",
    "    \n",
    "print(data)"
   ]
  },
  {
   "cell_type": "code",
   "execution_count": 69,
   "id": "27ca3260",
   "metadata": {},
   "outputs": [
    {
     "name": "stdout",
     "output_type": "stream",
     "text": [
      "22\n"
     ]
    }
   ],
   "source": [
    "class A:\n",
    "    def __init__(self, n):\n",
    "        self.x = n    \n",
    "    \n",
    "    def m1(self):\n",
    "        return self.x + 1\n",
    "    \n",
    "    def m2(self):\n",
    "        return self.m1() * 2\n",
    "    \n",
    "obj = A(10)\n",
    "    \n",
    "print(obj.m2())"
   ]
  },
  {
   "cell_type": "code",
   "execution_count": 77,
   "id": "8b036a3c",
   "metadata": {},
   "outputs": [
    {
     "name": "stdout",
     "output_type": "stream",
     "text": [
      "10\n",
      "1 1 100\n",
      "{'__module__': '__main__', '__firstlineno__': 1, 'x': 1, '__init__': <function A.__init__ at 0x000002955AE0A7A0>, '__static_attributes__': ('x1',), '__dict__': <attribute '__dict__' of 'A' objects>, '__weakref__': <attribute '__weakref__' of 'A' objects>, '__doc__': None}\n",
      "{'x1': 100}\n"
     ]
    }
   ],
   "source": [
    "class A:\n",
    "    x = 1    \n",
    "    def __init__(self):\n",
    "        x = 10\n",
    "        self.x1 = 100\n",
    "        print(x)\n",
    "        \n",
    "obj = A()\n",
    "print(obj.x, A.x, obj.x1)\n",
    "print(A.__dict__)\n",
    "print(obj.__dict__)"
   ]
  },
  {
   "cell_type": "code",
   "execution_count": null,
   "id": "401350a3",
   "metadata": {},
   "outputs": [
    {
     "name": "stdout",
     "output_type": "stream",
     "text": [
      "24\n",
      "120\n"
     ]
    }
   ],
   "source": [
    "from math import factorial as fact\n",
    "import math as m\n",
    "    \n",
    "x = m.factorial(4)\n",
    "y = fact(5)\n",
    "    \n",
    "print(x)\n",
    "print(y)"
   ]
  },
  {
   "cell_type": "code",
   "execution_count": 92,
   "id": "18319119",
   "metadata": {},
   "outputs": [
    {
     "name": "stdout",
     "output_type": "stream",
     "text": [
      "Windows-11-10.0.26100-SP0\n",
      "uname_result(system='Windows', node='SkySpeed', release='11', version='10.0.26100', machine='AMD64')\n",
      "AMD64\n",
      "Windows\n",
      "('64bit', 'WindowsPE')\n",
      "3.13.6\n",
      "('3', '13', '6')\n",
      "nt\n"
     ]
    }
   ],
   "source": [
    "import platform, os\n",
    "print(platform.platform())\n",
    "print(platform.uname())\n",
    "# print(platform.os())  # There is no 'os' function in platform module\n",
    "print(platform.machine())\n",
    "print(platform.system())\n",
    "print(platform.architecture())\n",
    "print(platform.python_version())\n",
    "print(platform.python_version_tuple())\n",
    "print(os.name)"
   ]
  },
  {
   "cell_type": "code",
   "execution_count": 98,
   "id": "6d1b2a57",
   "metadata": {},
   "outputs": [
    {
     "name": "stdout",
     "output_type": "stream",
     "text": [
      "Python\n"
     ]
    }
   ],
   "source": [
    "s11 = \"Python\"\n",
    "s22 = ''\n",
    "    \n",
    "for i in range(len(s11)):\n",
    "    s22 = s22 + s11[i]\n",
    "    \n",
    "print(s22)"
   ]
  },
  {
   "cell_type": "code",
   "execution_count": null,
   "id": "6f267bcc",
   "metadata": {},
   "outputs": [
    {
     "name": "stdout",
     "output_type": "stream",
     "text": [
      "error aA\n",
      "('error B',) error CC error CC\n"
     ]
    }
   ],
   "source": [
    "class myErr1(Exception):    \n",
    "        pass\n",
    " \n",
    "class myErr2(Exception):    \n",
    "    def __str__(self):\n",
    "        return 'error CC'\n",
    "        \n",
    "try:\n",
    "    raise myErr1('error A')\n",
    "except myErr1 as e:\n",
    "   # print(e.args, end = \" \")\n",
    "    #print(e.__str__(), end = \" \")\n",
    "    print(e)\n",
    " \n",
    "try:\n",
    "    raise myErr2('error B')\n",
    "except myErr2 as e:\n",
    "    print(e.args, end = \" \")\n",
    "    print(e.__str__(), end = \" \")\n",
    "    print(e)\n",
    "    \n",
    " "
   ]
  },
  {
   "cell_type": "code",
   "execution_count": 114,
   "id": "2cb461d9",
   "metadata": {},
   "outputs": [
    {
     "name": "stdout",
     "output_type": "stream",
     "text": [
      "PythonnohtyP\n"
     ]
    }
   ],
   "source": [
    "\n",
    "s = \"Python\"\n",
    "    \n",
    "for i in s[::-1]:\n",
    "    s += i\n",
    "    \n",
    "print(s)"
   ]
  },
  {
   "cell_type": "code",
   "execution_count": 116,
   "id": "4b2725c2",
   "metadata": {},
   "outputs": [
    {
     "name": "stdout",
     "output_type": "stream",
     "text": [
      "0 y\n",
      "1 yQ\n",
      "2 yQw\n",
      "3 yQwe\n",
      "4 yQwer\n",
      "5 yQwert\n",
      "yQwert\n"
     ]
    }
   ],
   "source": [
    "s1 = 'Qwerty'\n",
    "s2 = \"\"\n",
    "    \n",
    "for i in range(len(s1)):    \n",
    "    s2 += s1[i - 1]\n",
    "    print(i,s2, sep=' ')\n",
    "    \n",
    "print(s2)"
   ]
  },
  {
   "cell_type": "code",
   "execution_count": 118,
   "id": "27549a0d",
   "metadata": {},
   "outputs": [
    {
     "name": "stdout",
     "output_type": "stream",
     "text": [
      "t\n",
      "t\n"
     ]
    }
   ],
   "source": [
    "s = 'Python'\n",
    "s = s[-4: -3]; print(s)\n",
    "s = s[-1]\n",
    "    \n",
    "print(s)"
   ]
  },
  {
   "cell_type": "code",
   "execution_count": 122,
   "id": "c2a8831c",
   "metadata": {},
   "outputs": [
    {
     "name": "stdout",
     "output_type": "stream",
     "text": [
      "Python\n",
      "Viper\n"
     ]
    }
   ],
   "source": [
    "class A:\n",
    "    def __init__(self):\n",
    "        print(\"Python\")\n",
    "    \n",
    "class B(A):\n",
    "    def __init__(self):\n",
    "        #super().__init__()\n",
    "        A.__init__(self)\n",
    "        print(\"Viper\")\n",
    "        \n",
    "#a=A()\n",
    "b=B()\n"
   ]
  },
  {
   "cell_type": "code",
   "execution_count": 124,
   "id": "3b68b5a0",
   "metadata": {},
   "outputs": [
    {
     "name": "stdout",
     "output_type": "stream",
     "text": [
      "CPython\n",
      "10.0.26100\n"
     ]
    }
   ],
   "source": [
    "import platform\n",
    "print(platform.python_implementation())\n",
    "print(platform.version())"
   ]
  },
  {
   "cell_type": "code",
   "execution_count": 128,
   "id": "3b9c2c10",
   "metadata": {},
   "outputs": [
    {
     "name": "stdout",
     "output_type": "stream",
     "text": [
      "dog\n"
     ]
    }
   ],
   "source": [
    "for x in open('animals.txt'):\n",
    "    print(x, end='')\n",
    "    break"
   ]
  },
  {
   "cell_type": "code",
   "execution_count": null,
   "id": "a92792f7",
   "metadata": {},
   "outputs": [
    {
     "name": "stdout",
     "output_type": "stream",
     "text": [
      "Hello world!\n",
      "Hello world!\n",
      "Hello Python!\n"
     ]
    }
   ],
   "source": [
    "class A:    \n",
    "    def msg(self):\n",
    "        return 'Hello world!'    \n",
    " \n",
    "class B(A):\n",
    "    pass\n",
    " \n",
    "class C(A):\n",
    "    def msg(self):\n",
    "        return 'Hello Python!'\n",
    "\n",
    "print(A().msg())\n",
    "print(B().msg())\n",
    "print(C().msg())\n",
    "\n",
    "for i in [B(), C()]:\n",
    "    print(i.msg())\n"
   ]
  },
  {
   "cell_type": "code",
   "execution_count": 131,
   "id": "f0e1c8c7",
   "metadata": {},
   "outputs": [
    {
     "name": "stdout",
     "output_type": "stream",
     "text": [
      "['b']\n"
     ]
    }
   ],
   "source": [
    "lst = ['a', 'b', 'c', 'd']\n",
    "    \n",
    "def fun(x, y, f):    \n",
    "    return f(x, y)\n",
    "    \n",
    "print(fun(1, 2, lambda j, k: lst[j:k] if j < k else lst[k:j]))"
   ]
  },
  {
   "cell_type": "code",
   "execution_count": 141,
   "id": "d00b4223",
   "metadata": {},
   "outputs": [
    {
     "name": "stdout",
     "output_type": "stream",
     "text": [
      "dog\n",
      "cat\n",
      "foxn\n",
      "fox\n",
      "bat\n",
      "tiger\n",
      "mousefox2fox2fox2fox2\n",
      "fox2\n"
     ]
    }
   ],
   "source": [
    "strm = open('animals.txt', 'r+')\n",
    "strm.seek(0,2)\n",
    "strm.write('\\nfox2')\n",
    "#strm.read()\n",
    "strm.seek(0,0)\n",
    "print(strm.read())\n",
    "strm.close()"
   ]
  },
  {
   "cell_type": "code",
   "execution_count": 149,
   "id": "e216ae82",
   "metadata": {},
   "outputs": [
    {
     "name": "stdout",
     "output_type": "stream",
     "text": [
      "xy'z\n"
     ]
    }
   ],
   "source": [
    "print('xy\\'z') "
   ]
  },
  {
   "cell_type": "code",
   "execution_count": 153,
   "id": "87b8e1cf",
   "metadata": {},
   "outputs": [
    {
     "name": "stdout",
     "output_type": "stream",
     "text": [
      "['P', 'h', 'n', 'o', 't', 'y']\n",
      "Phnoty\n"
     ]
    }
   ],
   "source": [
    "l = list('Python')\n",
    "l.sort(); print(l)\n",
    "print(''.join(l))"
   ]
  },
  {
   "cell_type": "code",
   "execution_count": 155,
   "id": "e11e98ae",
   "metadata": {},
   "outputs": [
    {
     "name": "stdout",
     "output_type": "stream",
     "text": [
      "False [0, 5] [0, 5]\n",
      "True [0, 5] [0, 5]\n",
      "True [0, 5] [0, 5]\n",
      "False\n",
      "[0, 5] [0, 5]\n"
     ]
    }
   ],
   "source": [
    "l1 = [1, 2, 3, 4, 5]\n",
    "l2 = l1\n",
    "    \n",
    "del l1[1:4]\n",
    "l2[0] = 0\n",
    "    \n",
    "print(id(l1) != id(l2), end = \" \"); print(l1, l2)\n",
    "print(len(l1) == len(l2), end = \" \"); print(l1, l2)\n",
    "print(l1[1] == l2[1], end = \" \");print(l1, l2)\n",
    "print(l1[0] != l2[-2])\n",
    "print(l1, l2)"
   ]
  },
  {
   "cell_type": "code",
   "execution_count": 181,
   "id": "dd125850",
   "metadata": {},
   "outputs": [
    {
     "name": "stdout",
     "output_type": "stream",
     "text": [
      "True\n",
      "True\n",
      "True\n",
      "-----\n",
      "11\n",
      "20\n"
     ]
    }
   ],
   "source": [
    "class A:\n",
    "    x = 10\n",
    "    \n",
    "    def m_a(self):\n",
    "        pass\n",
    "    \n",
    "class B(A):\n",
    "    x=11\n",
    "    def __init__(self):\n",
    "        self.x2 = 20\n",
    "    def m_a(self):\n",
    "        pass\n",
    "    \n",
    "    def m_b(self):\n",
    "        pass\n",
    "    \n",
    "obj = B()\n",
    "a = A()\n",
    "print(hasattr(obj, 'x2'))\n",
    "print(hasattr(A(), 'x'))\n",
    "print(hasattr(B(), 'm_b'))\n",
    "print(\"-----\")\n",
    "#print(hasattr(obj, 'x'))\n",
    "#print(hasattr(A, 'm_b'))\n",
    "#print(hasattr(B, 'm_b'))\n",
    "#print(obj.__dict__)\n",
    "#print(A.__dict__)\n",
    "print(obj.x)     \n",
    "print(obj.x2)\n"
   ]
  },
  {
   "cell_type": "code",
   "execution_count": 182,
   "id": "545d9d9d",
   "metadata": {},
   "outputs": [
    {
     "name": "stdout",
     "output_type": "stream",
     "text": [
      "[[1, 2, 3], [1, 2, 3], [1, 2, 3]]\n"
     ]
    }
   ],
   "source": [
    "lst = [[1, 2, 3] for i in range(3)]\n",
    "    \n",
    "print(lst)"
   ]
  },
  {
   "cell_type": "code",
   "execution_count": 195,
   "id": "c893e1e7",
   "metadata": {},
   "outputs": [
    {
     "name": "stdout",
     "output_type": "stream",
     "text": [
      "0.608048396097936 0.9579512349724348\n"
     ]
    }
   ],
   "source": [
    "    import random as r\n",
    "     \n",
    "    x = r.random()\n",
    "    y = r.random()\n",
    "    print(x,y)"
   ]
  },
  {
   "cell_type": "code",
   "execution_count": 198,
   "id": "e393ea79",
   "metadata": {},
   "outputs": [
    {
     "name": "stdout",
     "output_type": "stream",
     "text": [
      "True\n",
      "True\n"
     ]
    }
   ],
   "source": [
    "class A:    \n",
    "    def __init__(self, n, k=1):\n",
    "        self.x = n\n",
    "        self.y = k\n",
    " \n",
    "obj = A(0, 1)\n",
    " \n",
    "print(hasattr(obj, 'x'))\n",
    "print(hasattr(obj, 'y'))"
   ]
  },
  {
   "cell_type": "code",
   "execution_count": 200,
   "id": "3f9a0f0d",
   "metadata": {},
   "outputs": [
    {
     "name": "stdout",
     "output_type": "stream",
     "text": [
      "32\n"
     ]
    }
   ],
   "source": [
    "print((lambda x, y: x ** y)(2, 5))"
   ]
  },
  {
   "cell_type": "code",
   "execution_count": 225,
   "id": "27eb87ea",
   "metadata": {},
   "outputs": [
    {
     "name": "stdout",
     "output_type": "stream",
     "text": [
      "E\n",
      "('A',)\n"
     ]
    }
   ],
   "source": [
    "class myErr(BaseException):\n",
    "    def __init__(self, msg):\n",
    "        self.description = msg\n",
    "        \n",
    "try:\n",
    "    raise myErr(\"A\")\n",
    "except RuntimeError:\n",
    "    print(\"B\")\n",
    "except LookupError:\n",
    "    print(\"C\")\n",
    "except BaseException as e:\n",
    "    print(\"E\")\n",
    "    print(e.args)\n",
    "except myErr as e:\n",
    "    print(\"D\")\n",
    "    #print(e.description)\n",
    "    print(e)\n",
    "    print(e.args)\n",
    "#!/usr/bin/env python3"
   ]
  },
  {
   "cell_type": "code",
   "execution_count": 231,
   "id": "ac057303",
   "metadata": {},
   "outputs": [
    {
     "name": "stdout",
     "output_type": "stream",
     "text": [
      "C\n",
      "('list index out of range',)\n"
     ]
    }
   ],
   "source": [
    "class myErr(Exception):\n",
    "    def __init__(self, msg):\n",
    "        self.description = msg\n",
    "        \n",
    "try:\n",
    "    l=[1, 2, 3]\n",
    "    print(l[7])\n",
    "except RuntimeError:\n",
    "    print(\"B\")\n",
    "except LookupError as e:\n",
    "    print(\"C\")\n",
    "    print(e.args)\n",
    "except ZeroDivisionError as e:\n",
    "    print(\"E\")\n",
    "    print(e.args)\n",
    "except myErr as e:\n",
    "    print(\"D\")\n",
    "    #print(e.description)\n",
    "    print(e)\n",
    "    print(e.args)\n",
    "#!/usr/bin/env python3"
   ]
  },
  {
   "cell_type": "code",
   "execution_count": 234,
   "id": "a89197e0",
   "metadata": {},
   "outputs": [
    {
     "name": "stdout",
     "output_type": "stream",
     "text": [
      "language-exam-ver\n",
      "Python-PCAP-31-03\n"
     ]
    },
    {
     "ename": "TypeError",
     "evalue": "sequence item 0: expected str instance, tuple found",
     "output_type": "error",
     "traceback": [
      "\u001b[31m---------------------------------------------------------------------------\u001b[39m",
      "\u001b[31mTypeError\u001b[39m                                 Traceback (most recent call last)",
      "\u001b[36mCell\u001b[39m\u001b[36m \u001b[39m\u001b[32mIn[234]\u001b[39m\u001b[32m, line 5\u001b[39m\n\u001b[32m      3\u001b[39m \u001b[38;5;28mprint\u001b[39m(s)\n\u001b[32m      4\u001b[39m \u001b[38;5;28mprint\u001b[39m(\u001b[33m\"\u001b[39m\u001b[33m-\u001b[39m\u001b[33m\"\u001b[39m.join(d.values()))\n\u001b[32m----> \u001b[39m\u001b[32m5\u001b[39m \u001b[38;5;28mprint\u001b[39m(\u001b[33;43m\"\u001b[39;49m\u001b[33;43m-\u001b[39;49m\u001b[33;43m\"\u001b[39;49m\u001b[43m.\u001b[49m\u001b[43mjoin\u001b[49m\u001b[43m(\u001b[49m\u001b[43md\u001b[49m\u001b[43m.\u001b[49m\u001b[43mitems\u001b[49m\u001b[43m(\u001b[49m\u001b[43m)\u001b[49m\u001b[43m)\u001b[49m)\n",
      "\u001b[31mTypeError\u001b[39m: sequence item 0: expected str instance, tuple found"
     ]
    }
   ],
   "source": [
    "d = {\"language\": \"Python\", \"exam\": \"PCAP\", \"ver\": \"31-03\"}\n",
    "s = \"-\".join(d.keys())\n",
    "print(s)\n",
    "print(\"-\".join(d.values()))\n",
    "print(\"-\".join(d.items()))"
   ]
  },
  {
   "cell_type": "code",
   "execution_count": 250,
   "id": "91ad8f4a",
   "metadata": {},
   "outputs": [
    {
     "name": "stdout",
     "output_type": "stream",
     "text": [
      "True\n",
      "True\n",
      "True\n",
      "True\n",
      "True\n",
      "False\n",
      "(<class '__main__.A'>, <class 'object'>)\n"
     ]
    }
   ],
   "source": [
    "class A:\n",
    "    __x = 10\n",
    "    y=11\n",
    "    def __init__(self):\n",
    "        self.z=12\n",
    "a = A()\n",
    "    \n",
    "print(hasattr(a, '_A__x'))\n",
    "print(hasattr(A, '_A__x'))\n",
    "print(hasattr(a, 'y'))\n",
    "print(hasattr(A, 'y'))\n",
    "print(hasattr(a, 'z'))\n",
    "print(hasattr(A, 'z'))\n",
    "print(A.__mro__)"
   ]
  },
  {
   "cell_type": "code",
   "execution_count": 251,
   "id": "156403d8",
   "metadata": {},
   "outputs": [
    {
     "name": "stdout",
     "output_type": "stream",
     "text": [
      "1\n"
     ]
    }
   ],
   "source": [
    "print(1 % 3)"
   ]
  },
  {
   "cell_type": "code",
   "execution_count": null,
   "id": "121ed4fc",
   "metadata": {},
   "outputs": [
    {
     "name": "stdout",
     "output_type": "stream",
     "text": [
      "7\n"
     ]
    }
   ],
   "source": [
    "import math as m\n",
    "\n",
    "x = -2.5\n",
    "y = m.trunc(x) * m.ceil(x)\n",
    "z = abs(m.floor(x) - y)\n",
    "\n",
    "print(z)"
   ]
  },
  {
   "cell_type": "code",
   "execution_count": 253,
   "id": "ce95184d",
   "metadata": {},
   "outputs": [
    {
     "name": "stdout",
     "output_type": "stream",
     "text": [
      "8\n",
      "8\n",
      "6\n",
      "4\n",
      "12\n"
     ]
    }
   ],
   "source": [
    "x = 2\n",
    "x = x * x * x\n",
    "print(x)      # output: 8\n",
    "\n",
    "x = 2\n",
    "x **= 3\n",
    "print(x)      # output: 8\n",
    "\n",
    "x = 2\n",
    "x *= 3\n",
    "print(x)      # output: 6\n",
    "\n",
    "x = 2\n",
    "x **= x\n",
    "print(x)      # output: 4\n",
    "\n",
    "x = 2\n",
    "x *= x*3\n",
    "print(x)      # output: 12\n"
   ]
  },
  {
   "cell_type": "code",
   "execution_count": 254,
   "id": "7ec07357",
   "metadata": {},
   "outputs": [
    {
     "name": "stdout",
     "output_type": "stream",
     "text": [
      "False\n",
      "True\n",
      "False\n",
      "True\n"
     ]
    }
   ],
   "source": [
    "print('not in' in 'not' + 'in')           # False\n",
    "print(str(3 * 2) not in '0123456789'[:6]) # True\n",
    "print('bc' not in 'abc')                  # False\n",
    "print('a\\'b' in \"a'b\")                    # True\n"
   ]
  }
 ],
 "metadata": {
  "kernelspec": {
   "display_name": "Python 3",
   "language": "python",
   "name": "python3"
  },
  "language_info": {
   "codemirror_mode": {
    "name": "ipython",
    "version": 3
   },
   "file_extension": ".py",
   "mimetype": "text/x-python",
   "name": "python",
   "nbconvert_exporter": "python",
   "pygments_lexer": "ipython3",
   "version": "3.13.6"
  }
 },
 "nbformat": 4,
 "nbformat_minor": 5
}
