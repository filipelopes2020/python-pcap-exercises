{
 "cells": [
  {
   "cell_type": "code",
   "execution_count": 23,
   "id": "64761b26",
   "metadata": {},
   "outputs": [
    {
     "name": "stdout",
     "output_type": "stream",
     "text": [
      "20 30 40\n"
     ]
    }
   ],
   "source": [
    "class Base:\n",
    "    def __init__(self, *args, **kwargs):\n",
    "        self.a = args[0] if len(args) > 0 else None\n",
    "        self.b = args[1] if len(args) > 1 else None\n",
    "        self.c = args[2] if len(args) > 2 else None\n",
    "\n",
    "class Derivada(Base):\n",
    "    def __init__(self,x, *args, **kwargs):\n",
    "        super().__init__(*args, **kwargs)\n",
    "\n",
    "obj = Derivada(10, 20, 30, 40, 50, nome='Alice', idade=30)\n",
    "print(obj.a, obj.b, obj.c)  # 10 20 30\n"
   ]
  },
  {
   "cell_type": "code",
   "execution_count": 24,
   "id": "4398312b",
   "metadata": {},
   "outputs": [
    {
     "name": "stdout",
     "output_type": "stream",
     "text": [
      "oh no\n",
      "done\n"
     ]
    }
   ],
   "source": [
    "def f(n):\n",
    "    try:\n",
    "        return 1 / n\n",
    "    except ArithmeticError:\n",
    "        print(\"oh no\")\n",
    "    return None\n",
    "    \n",
    "f(0)\n",
    "    \n",
    "print(\"done\")"
   ]
  },
  {
   "cell_type": "code",
   "execution_count": 30,
   "id": "2b28bd6e",
   "metadata": {},
   "outputs": [
    {
     "name": "stdout",
     "output_type": "stream",
     "text": [
      "(('BANANA', 6), ('CHERRY', 6))\n"
     ]
    }
   ],
   "source": [
    "words = [\"apple\", \"banana\", \"cherry\"]\n",
    "result = [(w.upper(), len(w)) for w in words if len(w) > 5]\n",
    "print(tuple(result))"
   ]
  },
  {
   "cell_type": "code",
   "execution_count": 31,
   "id": "9bdb47cc",
   "metadata": {},
   "outputs": [
    {
     "name": "stdout",
     "output_type": "stream",
     "text": [
      "{1, 2, 3, 4}\n",
      "{'n', 'a', 'b'}\n"
     ]
    }
   ],
   "source": [
    "# exemplo com lista\n",
    "lista = [1, 2, 2, 3, 4, 4]\n",
    "conjunto = set(lista)\n",
    "print(conjunto)   # {1, 2, 3, 4}\n",
    "\n",
    "# exemplo com string\n",
    "s = \"banana\"\n",
    "print(set(s))     # {'b', 'a', 'n'}\n"
   ]
  },
  {
   "cell_type": "code",
   "execution_count": 32,
   "id": "73a9eb26",
   "metadata": {},
   "outputs": [
    {
     "name": "stdout",
     "output_type": "stream",
     "text": [
      "{'a': 1, 'b': 2, 'c': 3}\n",
      "{'x': 10, 'y': 20}\n",
      "{'x': 10, 'y': 20}\n",
      "{'nome': 'Maria', 'idade': 30}\n"
     ]
    }
   ],
   "source": [
    "# a partir de lista de tuplas (chave, valor)\n",
    "pares = [(\"a\", 1), (\"b\", 2), (\"c\", 3)]\n",
    "d = dict(pares)\n",
    "print(d)   # {'a': 1, 'b': 2, 'c': 3}\n",
    "\n",
    "# a partir de lista de listas\n",
    "pares = [[\"x\", 10], [\"y\", 20]]\n",
    "d = dict(pares)\n",
    "print(d)   # {'x': 10, 'y': 20}\n",
    "\n",
    "# a partir de outro dicionário\n",
    "d2 = dict(d)\n",
    "print(d2)  # {'x': 10, 'y': 20}\n",
    "\n",
    "# usando argumentos nomeados\n",
    "d3 = dict(nome=\"Maria\", idade=30)\n",
    "print(d3)  # {'nome': 'Maria', 'idade': 30}\n"
   ]
  },
  {
   "cell_type": "code",
   "execution_count": null,
   "id": "2d39abf8",
   "metadata": {},
   "outputs": [
    {
     "name": "stdout",
     "output_type": "stream",
     "text": [
      "{'i', 'v', 'e', 'c', 'ó', 'o', ' ', 'l', 's', 'b', 'u', 'r'}\n",
      "{1, 2, 3, 4, 5}\n",
      "['apple', 'banana', 'mango']\n",
      "{'banana', 'apple', 'mango'}\n"
     ]
    }
   ],
   "source": [
    "s = \"couves e brócolis\"\n",
    "print(set(s))\n",
    "p=[4,1,2,1,3,4,2,5]\n",
    "print(set(p))\n",
    "m = \"mango, banana, apple\"; v=m.split(\", \"); v.sort(); \n",
    "print(v);\n",
    "print(set(v))"
   ]
  },
  {
   "cell_type": "code",
   "execution_count": 43,
   "id": "53e571eb",
   "metadata": {},
   "outputs": [
    {
     "name": "stdout",
     "output_type": "stream",
     "text": [
      "4\n",
      "A 1\n"
     ]
    }
   ],
   "source": [
    "s1 = \" \\n \\t \\n \"\n",
    "s2 = \" \\n A\\t \\n \"\n",
    "if s1.strip() == \"\":\n",
    "    print(s1.count(\" \"))\n",
    "else:\n",
    "    print(\"Not empty\")\n",
    "    \n",
    "print(s2.strip(), len(s2.strip()))"
   ]
  },
  {
   "cell_type": "code",
   "execution_count": 45,
   "id": "f168d734",
   "metadata": {},
   "outputs": [
    {
     "name": "stdout",
     "output_type": "stream",
     "text": [
      "The directory already exists.\n"
     ]
    }
   ],
   "source": [
    "import os\n",
    "    \n",
    "try:\n",
    "    os.mkdir(\"procoding\")\n",
    "except FileExistsError:\n",
    "    print(\"The directory already exists.\")"
   ]
  },
  {
   "cell_type": "code",
   "execution_count": 52,
   "id": "e1c4ddeb",
   "metadata": {},
   "outputs": [
    {
     "name": "stdout",
     "output_type": "stream",
     "text": [
      "Hello, my name is Alice\n",
      "I am a manager in the Sales department\n",
      "My salary is 100000\n"
     ]
    }
   ],
   "source": [
    "class Person:\n",
    "    def __init__(self, name, **kwargs):\n",
    "        super().__init__(**kwargs)\n",
    "        self.name = name\n",
    "\n",
    "    def greet(self):\n",
    "        print(f\"Hello, my name is {self.name}\")\n",
    "\n",
    "\n",
    "class Employee(Person):\n",
    "    def __init__(self, salary, **kwargs):\n",
    "        super().__init__(**kwargs)\n",
    "        self.salary = salary\n",
    "\n",
    "    def greet(self):\n",
    "        super().greet()\n",
    "        print(f\"My salary is {self.salary}\")\n",
    "\n",
    "\n",
    "class Manager(Person):\n",
    "    def __init__(self, department, **kwargs):\n",
    "        super().__init__(**kwargs)\n",
    "        self.department = department\n",
    "\n",
    "    def greet(self):\n",
    "        super().greet()\n",
    "        print(f\"I am a manager in the {self.department} department\")\n",
    "\n",
    "\n",
    "class ManagerEmployee(Employee, Manager):\n",
    "    def __init__(self, name, salary, department):\n",
    "        super().__init__(name=name, salary=salary, department=department)\n",
    "\n",
    "\n",
    "me = ManagerEmployee(\"Alice\", 100000, \"Sales\")\n",
    "me.greet()"
   ]
  },
  {
   "cell_type": "code",
   "execution_count": 56,
   "id": "d5dc092a",
   "metadata": {},
   "outputs": [
    {
     "name": "stdout",
     "output_type": "stream",
     "text": [
      "True\n"
     ]
    }
   ],
   "source": [
    "x=\"10\"\n",
    "y=20\n",
    "print(x!=y)"
   ]
  },
  {
   "cell_type": "code",
   "execution_count": 61,
   "id": "9e2abd61",
   "metadata": {},
   "outputs": [
    {
     "name": "stdout",
     "output_type": "stream",
     "text": [
      "False\n",
      "None\n",
      "A than None\n",
      "B than None\n"
     ]
    }
   ],
   "source": [
    "class A:\n",
    "    val = \"None\"    \n",
    "    def __init__(self, this):\n",
    "        self.name = this + \" than \" + A.val\n",
    "    \n",
    "x = A(\"A\")\n",
    "y = A(\"B\")\n",
    "print(x.val == y.name)\n",
    "print(x.val)\n",
    "print(x.name)\n",
    "print(y.name)"
   ]
  },
  {
   "cell_type": "code",
   "execution_count": 66,
   "id": "e9693cca",
   "metadata": {},
   "outputs": [
    {
     "name": "stdout",
     "output_type": "stream",
     "text": [
      "Original string: Hello World\n",
      "String as list: ['H', 'e', 'l', 'l', 'o', ' ', 'W', 'o', 'r', 'l', 'd']\n",
      "Maximum character: r\n"
     ]
    }
   ],
   "source": [
    "my_string = \"Hello World\"\n",
    "#my_string.sort()  # Raises AttributeError\n",
    "    \n",
    "    \n",
    "my_list = list(my_string)  # Convert string to list\n",
    "max_char = max(my_list)    # Find maximum character in list\n",
    "    \n",
    "print(\"Original string:\", my_string)\n",
    "print(\"String as list:\", my_list)\n",
    "print(\"Maximum character:\", max_char)"
   ]
  },
  {
   "cell_type": "code",
   "execution_count": 73,
   "id": "ae5496ea",
   "metadata": {},
   "outputs": [
    {
     "name": "stdout",
     "output_type": "stream",
     "text": [
      "a\n",
      "3\n"
     ]
    }
   ],
   "source": [
    "d = {\"a\": 5, \"b\": 1, \"c\": 3}\n",
    "\n",
    "print(max(d, key=d.get))  # \"b\"\n",
    "print(d.get(\"c\"))   "
   ]
  },
  {
   "cell_type": "code",
   "execution_count": 75,
   "id": "80da2eed",
   "metadata": {},
   "outputs": [
    {
     "name": "stdout",
     "output_type": "stream",
     "text": [
      "['The quick brown fox', 'jumps over the lazy dog']\n",
      "['The quick brown fox', 'jumps over the lazy dog']\n",
      "The quick brown foxjumps over the lazy dog\n",
      "B\n"
     ]
    }
   ],
   "source": [
    "s = \"The quick brown fox\\njumps over the lazy dog\"\n",
    "if \"\\n\" in s:\n",
    "    s = s.split(\"\\n\"); print(s)\n",
    "    s.sort(); print(s)\n",
    "    s = \"\".join(s); print(s)\n",
    "else:\n",
    "    s = s[::-1]\n",
    "if \"xof\" in s:\n",
    "    print(\"A\")\n",
    "elif \"dog\" in s:\n",
    "    print(\"B\")\n",
    "elif \"lazy\" in s:\n",
    "    print(\"C\")\n",
    "else:\n",
    "    print(\"D\")"
   ]
  }
 ],
 "metadata": {
  "kernelspec": {
   "display_name": "Python 3",
   "language": "python",
   "name": "python3"
  },
  "language_info": {
   "codemirror_mode": {
    "name": "ipython",
    "version": 3
   },
   "file_extension": ".py",
   "mimetype": "text/x-python",
   "name": "python",
   "nbconvert_exporter": "python",
   "pygments_lexer": "ipython3",
   "version": "3.13.6"
  }
 },
 "nbformat": 4,
 "nbformat_minor": 5
}
