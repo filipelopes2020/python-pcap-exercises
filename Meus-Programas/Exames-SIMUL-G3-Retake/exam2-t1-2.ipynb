{
 "cells": [
  {
   "cell_type": "code",
   "execution_count": null,
   "id": "7f914ab8",
   "metadata": {},
   "outputs": [],
   "source": [
    "with open('file.txt', 'w') as f:\n",
    "    f.write('Hello world!')\n",
    "    \n",
    "with open('file.txt', 'r') as f:\n",
    "    data = f.read()\n",
    "print(data)\n",
    "\n",
    "with open('file.txt', 'wb') as f:\n",
    "    f.write(data.encode(\"utf-8\"))\n",
    "    \n",
    "with open('file.txt', 'rb') as f:\n",
    "    data = f.read()\n",
    "    texto = data.decode(\"utf-8\")\n",
    "    \n",
    "print(data)\n",
    "print(texto)"
   ]
  },
  {
   "cell_type": "code",
   "execution_count": 4,
   "id": "6e6b9972",
   "metadata": {},
   "outputs": [
    {
     "name": "stdout",
     "output_type": "stream",
     "text": [
      "<class '__main__.B'>\n"
     ]
    }
   ],
   "source": [
    "class A: pass\n",
    "class B(A): pass\n",
    "\n",
    "b=B()\n",
    "\n",
    "print(type(b))"
   ]
  },
  {
   "cell_type": "code",
   "execution_count": 20,
   "id": "71b66e55",
   "metadata": {},
   "outputs": [
    {
     "name": "stdout",
     "output_type": "stream",
     "text": [
      "bac bac bac\n"
     ]
    }
   ],
   "source": [
    "class Person:\n",
    "    def __init__(self, name):\n",
    "        self.__name = name\n",
    "    \n",
    "    def get_name2(self):\n",
    "        return self.__name\n",
    "    \n",
    "    def set_name2(self, name):\n",
    "        self.__name = name\n",
    "    \n",
    "#    name = property(get_name, set_name)\n",
    "    bacalhau = property(get_name2, set_name2)\n",
    "    \n",
    "p = Person(\"John\")\n",
    "#p.name = \"Bob\"\n",
    "p.bacalhau = \"bac\"\n",
    "print(p.get_name2(), p.bacalhau, p._Person__name)  # Accessing the mangled name directly"
   ]
  },
  {
   "cell_type": "code",
   "execution_count": 21,
   "id": "8908d1c3",
   "metadata": {},
   "outputs": [
    {
     "ename": "TypeError",
     "evalue": "write() argument must be str, not bytearray",
     "output_type": "error",
     "traceback": [
      "\u001b[31m---------------------------------------------------------------------------\u001b[39m",
      "\u001b[31mTypeError\u001b[39m                                 Traceback (most recent call last)",
      "\u001b[36mCell\u001b[39m\u001b[36m \u001b[39m\u001b[32mIn[21]\u001b[39m\u001b[32m, line 3\u001b[39m\n\u001b[32m      1\u001b[39m data = \u001b[38;5;28mbytearray\u001b[39m(\u001b[33mb\u001b[39m\u001b[33m\"\u001b[39m\u001b[33mHello, world!\u001b[39m\u001b[33m\"\u001b[39m)\n\u001b[32m      2\u001b[39m \u001b[38;5;28;01mwith\u001b[39;00m \u001b[38;5;28mopen\u001b[39m(\u001b[33m\"\u001b[39m\u001b[33mfile.txt\u001b[39m\u001b[33m\"\u001b[39m, \u001b[33m\"\u001b[39m\u001b[33mw\u001b[39m\u001b[33m\"\u001b[39m) \u001b[38;5;28;01mas\u001b[39;00m f:\n\u001b[32m----> \u001b[39m\u001b[32m3\u001b[39m     \u001b[43mf\u001b[49m\u001b[43m.\u001b[49m\u001b[43mwrite\u001b[49m\u001b[43m(\u001b[49m\u001b[43mdata\u001b[49m\u001b[43m)\u001b[49m\n",
      "\u001b[31mTypeError\u001b[39m: write() argument must be str, not bytearray"
     ]
    }
   ],
   "source": [
    "data = bytearray(b\"Hello, world!\")\n",
    "with open(\"file.txt\", \"w\") as f:\n",
    "    f.write(data)"
   ]
  },
  {
   "cell_type": "code",
   "execution_count": 22,
   "id": "ec4cac88",
   "metadata": {},
   "outputs": [
    {
     "name": "stdout",
     "output_type": "stream",
     "text": [
      "('list index out of range',)\n"
     ]
    }
   ],
   "source": [
    "data = [42, 13, -4]\n",
    "try:\n",
    "    print(data[-4])\n",
    "except Exception as exception:\n",
    "    print(exception.args)\n",
    "else:\n",
    "    print(\"('yes',)\")"
   ]
  },
  {
   "cell_type": "code",
   "execution_count": 29,
   "id": "91d532e8",
   "metadata": {},
   "outputs": [
    {
     "ename": "MyException",
     "evalue": "mensagem de erro",
     "output_type": "error",
     "traceback": [
      "\u001b[31m---------------------------------------------------------------------------\u001b[39m",
      "\u001b[31mMyException\u001b[39m                               Traceback (most recent call last)",
      "\u001b[36mCell\u001b[39m\u001b[36m \u001b[39m\u001b[32mIn[29]\u001b[39m\u001b[32m, line 5\u001b[39m\n\u001b[32m      2\u001b[39m     \u001b[38;5;28;01mdef\u001b[39;00m\u001b[38;5;250m \u001b[39m\u001b[34m__init__\u001b[39m(\u001b[38;5;28mself\u001b[39m, msg):\n\u001b[32m      3\u001b[39m         \u001b[38;5;28mself\u001b[39m.msg = msg\n\u001b[32m----> \u001b[39m\u001b[32m5\u001b[39m \u001b[38;5;28;01mraise\u001b[39;00m MyException(\u001b[33m\"\u001b[39m\u001b[33mmensagem de erro\u001b[39m\u001b[33m\"\u001b[39m)\n",
      "\u001b[31mMyException\u001b[39m: mensagem de erro"
     ]
    }
   ],
   "source": [
    "class MyException(Exception):\n",
    "    def __init__(self, msg):\n",
    "        self.msg = msg\n",
    "\n",
    "raise MyException(\"mensagem de erro\")"
   ]
  },
  {
   "cell_type": "code",
   "execution_count": 34,
   "id": "f0855150",
   "metadata": {},
   "outputs": [
    {
     "name": "stdout",
     "output_type": "stream",
     "text": [
      "[[1, 4, 7], [2, 5, 8], [3, 6, 9], [33, 66, 99]]\n"
     ]
    }
   ],
   "source": [
    "matrix = [[1, 2, 3,33],\n",
    "            [4, 5, 6,66],\n",
    "            [7, 8, 9,99]]\n",
    "    \n",
    "transpose = [[row[i] for row in matrix] for i in range(len(matrix[0]))]\n",
    "    \n",
    "print(transpose)"
   ]
  },
  {
   "cell_type": "code",
   "execution_count": 35,
   "id": "905ef2ff",
   "metadata": {},
   "outputs": [
    {
     "name": "stdout",
     "output_type": "stream",
     "text": [
      "[[4, 8, 12], [5, 10, 15], [6, 12, 18]]\n"
     ]
    }
   ],
   "source": [
    "nums1 = [1, 2, 3]\n",
    "nums2 = [4, 5, 6]\n",
    "result = [[num1 * num2 for num1 in nums1] for num2 in nums2]\n",
    "print(result)"
   ]
  },
  {
   "cell_type": "code",
   "execution_count": 37,
   "id": "063a82aa",
   "metadata": {},
   "outputs": [
    {
     "name": "stdout",
     "output_type": "stream",
     "text": [
      "2 3\n"
     ]
    }
   ],
   "source": [
    "class A:\n",
    "    x=1\n",
    "    \n",
    "a=A()\n",
    "def ola():\n",
    "    a.x=2\n",
    "    A.x=3\n",
    "ola()\n",
    "print(a.x, A.x)"
   ]
  },
  {
   "cell_type": "code",
   "execution_count": null,
   "id": "7c9767ed",
   "metadata": {},
   "outputs": [
    {
     "name": "stdout",
     "output_type": "stream",
     "text": [
      "2\n",
      "3\n"
     ]
    }
   ],
   "source": [
    "def func1():\n",
    "    class Holder:\n",
    "        x = 1\n",
    "    h = Holder()\n",
    "    def func2():\n",
    "        h.x += 1\n",
    "        print(h.x)\n",
    "    func2()\n",
    "    func2()\n",
    "\n",
    "func1()"
   ]
  },
  {
   "cell_type": "code",
   "execution_count": 53,
   "id": "eeae2abb",
   "metadata": {},
   "outputs": [
    {
     "name": "stdout",
     "output_type": "stream",
     "text": [
      "0\n",
      "1\n",
      "2\n"
     ]
    }
   ],
   "source": [
    "def outer_func(num):\n",
    "    def inner_func():\n",
    "        print(num)\n",
    "    return inner_func\n",
    "    \n",
    "funcs = []\n",
    "for i in range(3):\n",
    "    funcs.append(outer_func(i))\n",
    "    \n",
    "for f in funcs:\n",
    "    f()\n",
    "   "
   ]
  },
  {
   "cell_type": "code",
   "execution_count": 55,
   "id": "7cfd2807",
   "metadata": {},
   "outputs": [
    {
     "name": "stdout",
     "output_type": "stream",
     "text": [
      "True\n",
      "False\n"
     ]
    }
   ],
   "source": [
    "print(\"20\"<\"8\")\n",
    "print(\"\">\" \")"
   ]
  },
  {
   "cell_type": "code",
   "execution_count": 57,
   "id": "542b0971",
   "metadata": {},
   "outputs": [
    {
     "name": "stdout",
     "output_type": "stream",
     "text": [
      "[(1, 2), (1, 5), (1, 8), (2, 4), (2, 7), (2, 10), (3, 6), (3, 9), (4, 5), (4, 8), (5, 7), (5, 10), (6, 9), (7, 8), (8, 10)]\n"
     ]
    }
   ],
   "source": [
    "numbers = [1, 2, 3, 4, 5, 6, 7, 8, 9, 10]\n",
    "divisor = 3\n",
    "  \n",
    "pairs = [(numbers[i], numbers[j]) for i in range(len(numbers)) for j in range(i+1, len(numbers)) if (numbers[i] + numbers[j]) % divisor == 0]\n",
    "\n",
    "print(pairs)"
   ]
  },
  {
   "cell_type": "code",
   "execution_count": null,
   "id": "c06781cc",
   "metadata": {},
   "outputs": [
    {
     "name": "stdout",
     "output_type": "stream",
     "text": [
      "[0, 0, 0, 2, 2, 2, 4, 4, 6, 6, 8, 8, 10, 12, 14]\n"
     ]
    }
   ],
   "source": [
    "numbers = [1, 2, 3, 4, 5, 6, 7, 8, 9, 10]\n",
    "divisor = 3\n",
    "  \n",
    "pairs = [i for i in range(len(numbers)) \n",
    "         for j in range(i+1, len(numbers)) \n",
    "            if (numbers[i] + numbers[j]) % divisor == 0\n",
    "         ]\n",
    "\n",
    "print(pairs)"
   ]
  },
  {
   "cell_type": "code",
   "execution_count": 62,
   "id": "ab6decfd",
   "metadata": {},
   "outputs": [
    {
     "name": "stdout",
     "output_type": "stream",
     "text": [
      "hellohello\n",
      "*****\n"
     ]
    }
   ],
   "source": [
    "# Example of using *= and * operators with strings in Python\n",
    "text = \"hello\"\n",
    "multiplier = 2\n",
    "    \n",
    "# Use *= operator to repeat the string\n",
    "text *= multiplier\n",
    "print(text)  # Output: hellohellohello\n",
    "    \n",
    "# Use * operator to create a new string with repeated characters\n",
    "new_text = \"*\" * 5\n",
    "print(new_text)  # Output: *****"
   ]
  },
  {
   "cell_type": "code",
   "execution_count": 65,
   "id": "3e0fec27",
   "metadata": {},
   "outputs": [
    {
     "name": "stdout",
     "output_type": "stream",
     "text": [
      "14\n"
     ]
    }
   ],
   "source": [
    "try:\n",
    "    raise Exception(\"batatas\", (1,2,1),42, 0, 13, 44, \"code\",32,3,4,4,5,5,2)\n",
    "except Exception as e:\n",
    "    print(len(e.args))"
   ]
  },
  {
   "cell_type": "code",
   "execution_count": 73,
   "id": "3643dc88",
   "metadata": {},
   "outputs": [
    {
     "name": "stdout",
     "output_type": "stream",
     "text": [
      "['__class__', '__delattr__', '__dict__', '__dir__', '__doc__', '__eq__', '__firstlineno__', '__format__', '__ge__', '__getattribute__', '__getstate__', '__gt__', '__hash__', '__init__', '__init_subclass__', '__le__', '__lt__', '__module__', '__ne__', '__new__', '__reduce__', '__reduce_ex__', '__repr__', '__setattr__', '__sizeof__', '__static_attributes__', '__str__', '__subclasshook__', '__weakref__']\n",
      "False\n",
      "True\n",
      "False\n",
      "True\n",
      "(<class 'object'>,)\n",
      "MyClass\n"
     ]
    }
   ],
   "source": [
    "class MyClass:\n",
    "    pass\n",
    "    \n",
    "obj = MyClass()\n",
    "print(dir(obj))    \n",
    "print(hasattr(obj, '__name__'))\n",
    "print(hasattr(obj, '__module__'))\n",
    "print(hasattr(obj, '__bases__'))\n",
    "print(hasattr(MyClass, '__name__'))\n",
    "print(MyClass.__bases__ )\n",
    "print(MyClass.__name__)"
   ]
  },
  {
   "cell_type": "code",
   "execution_count": 74,
   "id": "13b96463",
   "metadata": {},
   "outputs": [
    {
     "name": "stdout",
     "output_type": "stream",
     "text": [
      "[' ', ' ', '1', '2', '3', 'a', 'a', 'l', 'o', 'p']\n"
     ]
    }
   ],
   "source": [
    "s= \"ola pa 123\"\n",
    "print(sorted(s))"
   ]
  },
  {
   "cell_type": "code",
   "execution_count": 78,
   "id": "4b33ef0d",
   "metadata": {},
   "outputs": [
    {
     "name": "stdout",
     "output_type": "stream",
     "text": [
      "2\n",
      "1\n"
     ]
    }
   ],
   "source": [
    "my_string = \"Hello World\"\n",
    "print(my_string[1:10:2].count(\"l\"))\n",
    "print(1%2)"
   ]
  },
  {
   "cell_type": "code",
   "execution_count": 79,
   "id": "820fc111",
   "metadata": {},
   "outputs": [
    {
     "name": "stdout",
     "output_type": "stream",
     "text": [
      "[9]\n"
     ]
    }
   ],
   "source": [
    "numbers = [1, 2, 3, 4, 5]\n",
    "result = filter(lambda x: x % 3 == 0, map(lambda x: x ** 2, numbers))\n",
    "print(list(result))"
   ]
  },
  {
   "cell_type": "code",
   "execution_count": 92,
   "id": "caa241a3",
   "metadata": {},
   "outputs": [
    {
     "name": "stdout",
     "output_type": "stream",
     "text": [
      "26\n"
     ]
    }
   ],
   "source": [
    "class MyClass:\n",
    "    def __init__(self, value):\n",
    "        self.value = value\n",
    "        self.v=value * 1\n",
    "        \n",
    "    def add(self, batatas):\n",
    "        return MyClass(self.value + batatas.v)\n",
    "\n",
    "obj1 = MyClass(1)\n",
    "obj2 = MyClass(25)\n",
    "obj3 = obj1.add(obj2)\n",
    "print(obj3.value)"
   ]
  },
  {
   "cell_type": "code",
   "execution_count": 95,
   "id": "bcf31d20",
   "metadata": {},
   "outputs": [
    {
     "name": "stdout",
     "output_type": "stream",
     "text": [
      "True 2.718281828459045 32.0 32\n"
     ]
    }
   ],
   "source": [
    "import math\n",
    " \n",
    "x = math.e != math.pow(2,5)\n",
    "print(x, math.e, math.pow(2,5), 2**5)"
   ]
  },
  {
   "cell_type": "code",
   "execution_count": 102,
   "id": "d628006f",
   "metadata": {},
   "outputs": [
    {
     "name": "stdout",
     "output_type": "stream",
     "text": [
      "A\n"
     ]
    }
   ],
   "source": [
    "class A:\n",
    "    def method(self):\n",
    "        return \"A\"\n",
    "    \n",
    "class B(A):\n",
    "    pass\n",
    "    \n",
    "class C(A):\n",
    "    def method(self):\n",
    "        return \"C\"\n",
    "    \n",
    "class D(B):\n",
    "    pass\n",
    "    \n",
    "obj = D()\n",
    "print(obj.method())"
   ]
  },
  {
   "cell_type": "code",
   "execution_count": 103,
   "id": "1925a13f",
   "metadata": {},
   "outputs": [
    {
     "name": "stdout",
     "output_type": "stream",
     "text": [
      "[1, 4, 9, 16]\n"
     ]
    }
   ],
   "source": [
    "matrix = [[1, 2], [3, 4]]\n",
    "result = [num**2 for row in matrix for num in row]\n",
    "print(result)"
   ]
  },
  {
   "cell_type": "code",
   "execution_count": 120,
   "id": "34f8e3f2",
   "metadata": {},
   "outputs": [
    {
     "name": "stdout",
     "output_type": "stream",
     "text": [
      "Caught a ValueError\n"
     ]
    }
   ],
   "source": [
    "#raise ValueError(\"This is a custom message\")\n",
    "\n",
    "#raise ValueError, \"This is a custom message\"  # Invalid syntax in Python 3\n",
    "try:\n",
    "    raise ValueError(\"This is a custom message\")\n",
    "except ValueError:\n",
    "    print(\"Caught a ValueError\")\n",
    "\n",
    "\n"
   ]
  },
  {
   "cell_type": "code",
   "execution_count": 127,
   "id": "0fa4cbd5",
   "metadata": {},
   "outputs": [
    {
     "name": "stdout",
     "output_type": "stream",
     "text": [
      "10084\n",
      "65039\n",
      "❤️\n"
     ]
    }
   ],
   "source": [
    "print(ord('❤️'[0]))\n",
    "print(ord('❤️'[1]))\n",
    "#print(chr(8364)) # '€', converte de volta para caractere\n",
    "print(chr(10084) + chr(65039))  # ❤️\n"
   ]
  },
  {
   "cell_type": "code",
   "execution_count": 131,
   "id": "6f2d0a87",
   "metadata": {},
   "outputs": [
    {
     "name": "stdout",
     "output_type": "stream",
     "text": [
      "This is a custom exception ('This is a custom exception',)\n"
     ]
    }
   ],
   "source": [
    "class MyException(Exception):\n",
    "    def __init__(self, msg):\n",
    "        self.msg = msg\n",
    "    \n",
    "try:\n",
    "    raise MyException(\"This is a custom exception\")\n",
    "except MyException as e:\n",
    "    print(e.msg, e.args)\n",
    "except Exception as e:\n",
    "    print(e)"
   ]
  },
  {
   "cell_type": "code",
   "execution_count": null,
   "id": "20f2eb2a",
   "metadata": {},
   "outputs": [
    {
     "ename": "Batatas",
     "evalue": "This is a custom exception",
     "output_type": "error",
     "traceback": [
      "\u001b[31m---------------------------------------------------------------------------\u001b[39m",
      "\u001b[31mBatatas\u001b[39m                                   Traceback (most recent call last)",
      "\u001b[36mCell\u001b[39m\u001b[36m \u001b[39m\u001b[32mIn[137]\u001b[39m\u001b[32m, line 5\u001b[39m\n\u001b[32m      2\u001b[39m     \u001b[38;5;28;01mdef\u001b[39;00m\u001b[38;5;250m \u001b[39m\u001b[34m__init__\u001b[39m(\u001b[38;5;28mself\u001b[39m, msg):\n\u001b[32m      3\u001b[39m         \u001b[38;5;28mself\u001b[39m.msg = msg\n\u001b[32m----> \u001b[39m\u001b[32m5\u001b[39m \u001b[38;5;28;01mraise\u001b[39;00m Batatas(\u001b[33m\"\u001b[39m\u001b[33mThis is a custom exception\u001b[39m\u001b[33m\"\u001b[39m)  \n",
      "\u001b[31mBatatas\u001b[39m: This is a custom exception"
     ]
    }
   ],
   "source": [
    "class MyException(Exception):\n",
    "    def __init__(self, msg):\n",
    "        self.msg = msg\n",
    "\n",
    "raise MyException(\"This is a custom exception\")  \n"
   ]
  },
  {
   "cell_type": "code",
   "execution_count": 139,
   "id": "8a17201d",
   "metadata": {},
   "outputs": [
    {
     "ename": "AttributeError",
     "evalue": "'dict' object has no attribute '__dict__'",
     "output_type": "error",
     "traceback": [
      "\u001b[31m---------------------------------------------------------------------------\u001b[39m",
      "\u001b[31mAttributeError\u001b[39m                            Traceback (most recent call last)",
      "\u001b[36mCell\u001b[39m\u001b[36m \u001b[39m\u001b[32mIn[139]\u001b[39m\u001b[32m, line 2\u001b[39m\n\u001b[32m      1\u001b[39m x = {\u001b[32m1\u001b[39m:\u001b[33m\"\u001b[39m\u001b[33mola\u001b[39m\u001b[33m\"\u001b[39m,\u001b[32m2\u001b[39m:\u001b[33m\"\u001b[39m\u001b[33mpois\u001b[39m\u001b[33m\"\u001b[39m,\u001b[32m3\u001b[39m: (\u001b[32m1\u001b[39m,\u001b[32m2\u001b[39m)}\n\u001b[32m----> \u001b[39m\u001b[32m2\u001b[39m \u001b[38;5;28mprint\u001b[39m(\u001b[43mx\u001b[49m\u001b[43m.\u001b[49m\u001b[34;43m__dict__\u001b[39;49m)\n",
      "\u001b[31mAttributeError\u001b[39m: 'dict' object has no attribute '__dict__'"
     ]
    }
   ],
   "source": [
    "x = {1:\"ola\",2:\"pois\",3: (1,2)}\n",
    "print(x.__dict__)"
   ]
  },
  {
   "cell_type": "code",
   "execution_count": 148,
   "id": "e6a5c2dc",
   "metadata": {},
   "outputs": [
    {
     "name": "stdout",
     "output_type": "stream",
     "text": [
      "Alice\n",
      "30\n",
      "False\n",
      "['nome', 'idade']\n",
      "Batatas tem dict:  {'x': 1}\n",
      "'Pessoa' object has no attribute 'altura' and no __dict__ for setting new attributes\n"
     ]
    }
   ],
   "source": [
    "class Pessoa:\n",
    "    __slots__ = [\"nome\", \"idade\"]  # define os atributos permitidos\n",
    "    def __init__(self, nome, idade):\n",
    "        self.nome = nome\n",
    "        self.idade = idade\n",
    "        \n",
    "\n",
    "class Batatas:\n",
    "    def __init__(self):\n",
    "        self.x=1\n",
    "        \n",
    "# Criando uma instância\n",
    "p = Pessoa(\"Alice\", 30)\n",
    "b = Batatas()\n",
    "\n",
    "# Acessando os atributos\n",
    "print(p.nome)  # Alice\n",
    "print(p.idade) # 30\n",
    "\n",
    "# Tentando acessar __dict__\n",
    "print(hasattr(p, \"__dict__\"))  # False\n",
    "\n",
    "print(Pessoa.__slots__)\n",
    "#print(p.__dict__)\n",
    "print(\"Batatas tem dict: \", b.__dict__)\n",
    "# Tentando adicionar um novo atributo não definido em __slots__\n",
    "try:\n",
    "    p.altura = 1.70\n",
    "except AttributeError as e:\n",
    "    print(e)  # 'Pessoa' object has no attribute 'altura'\n"
   ]
  },
  {
   "cell_type": "code",
   "execution_count": 151,
   "id": "ee2504c5",
   "metadata": {},
   "outputs": [
    {
     "name": "stdout",
     "output_type": "stream",
     "text": [
      "Erro capturado:\n",
      "mensagem de erro\n"
     ]
    }
   ],
   "source": [
    "try:\n",
    "    raise MyException(\"mensagem de erro\")\n",
    "except (MyException, BaseException, ZeroDivisionError) as e:\n",
    "    print(\"Erro capturado:\")\n",
    "    print(e)"
   ]
  },
  {
   "cell_type": "code",
   "execution_count": 156,
   "id": "9a464f1c",
   "metadata": {},
   "outputs": [
    {
     "name": "stdout",
     "output_type": "stream",
     "text": [
      "<ipykernel.iostream.OutStream object at 0x000001CFD59768F0>\n"
     ]
    },
    {
     "name": "stderr",
     "output_type": "stream",
     "text": [
      "1\n",
      "2\n",
      "3\n",
      "4\n",
      "5\n"
     ]
    }
   ],
   "source": [
    "import sys\n",
    "    \n",
    "numbers = [1, 2, 3, 4, 5]\n",
    "    \n",
    "for n in numbers:\n",
    "    print(n, file=sys.stderr)\n",
    "    \n",
    "print((sys.stderr))"
   ]
  },
  {
   "cell_type": "code",
   "execution_count": null,
   "id": "219b54f8",
   "metadata": {},
   "outputs": [
    {
     "name": "stdout",
     "output_type": "stream",
     "text": [
      "1\n",
      "2\n",
      "3\n",
      "4\n",
      "5\n",
      "\n"
     ]
    }
   ],
   "source": [
    "import sys\n",
    "import io\n",
    "\n",
    "# Criar um buffer para capturar o stderr\n",
    "buffer = io.StringIO()\n",
    "original_stderr = sys.stderr\n",
    "sys.stderr = buffer\n",
    "\n",
    "# Escrever para stderr (na verdade vai para o buffer)\n",
    "numbers = [1, 2, 3, 4, 5]\n",
    "for n in numbers:\n",
    "    print(n, file=sys.stderr)\n",
    "\n",
    "\n",
    "# Restaurar stderr original\n",
    "sys.stderr = original_stderr\n",
    "\n",
    "# Mostrar o conteúdo capturado\n",
    "print(\"Conteúdo capturado do sys.stderr:\")\n",
    "print(buffer.getvalue())\n"
   ]
  },
  {
   "cell_type": "code",
   "execution_count": 167,
   "id": "5a0c503a",
   "metadata": {},
   "outputs": [
    {
     "name": "stdout",
     "output_type": "stream",
     "text": [
      "1 7\n"
     ]
    }
   ],
   "source": [
    "class A:\n",
    "    def __init__(self, x=1):\n",
    "        self.x = x\n",
    "    \n",
    "    def func(self):\n",
    "        self.x += 3\n",
    "    \n",
    "    \n",
    "class B(A):\n",
    "    def __init__(self, y=2):\n",
    "        A.__init__(self, 1)\n",
    "        self.y = y\n",
    "    \n",
    "    \n",
    "    def func(self):\n",
    "        self.y += 5\n",
    "    \n",
    "    \n",
    "b = B()\n",
    "b.func()\n",
    "print(b.x, b.y)"
   ]
  }
 ],
 "metadata": {
  "kernelspec": {
   "display_name": "Python 3",
   "language": "python",
   "name": "python3"
  },
  "language_info": {
   "codemirror_mode": {
    "name": "ipython",
    "version": 3
   },
   "file_extension": ".py",
   "mimetype": "text/x-python",
   "name": "python",
   "nbconvert_exporter": "python",
   "pygments_lexer": "ipython3",
   "version": "3.13.6"
  }
 },
 "nbformat": 4,
 "nbformat_minor": 5
}
