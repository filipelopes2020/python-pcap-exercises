{
 "cells": [
  {
   "cell_type": "code",
   "execution_count": null,
   "id": "b20bc2cc",
   "metadata": {},
   "outputs": [
    {
     "name": "stdout",
     "output_type": "stream",
     "text": [
      "DarkandStormy\n"
     ]
    }
   ],
   "source": [
    "l1 = [\"It Was\", \"a Dark\", \"and\", \"Stormy Night\"]\n",
    "l2 = \"\".join(l1).split()\n",
    "print(l2[2])"
   ]
  },
  {
   "cell_type": "code",
   "execution_count": 6,
   "id": "eb430e6a",
   "metadata": {},
   "outputs": [
    {
     "name": "stdout",
     "output_type": "stream",
     "text": [
      "error A\n",
      "error B\n",
      "('error B',)\n"
     ]
    }
   ],
   "source": [
    "class MyExcept(Exception):\n",
    "    def __init__(self, msg):                      \n",
    "        self.args = 'error B', \n",
    "        print(msg)     \n",
    "    \n",
    "try:\n",
    "    raise MyExcept('error A')\n",
    "except MyExcept as err:\n",
    "    print(err)\n",
    "    print(err.args)"
   ]
  },
  {
   "cell_type": "code",
   "execution_count": 7,
   "id": "1ea89ed6",
   "metadata": {},
   "outputs": [
    {
     "name": "stdout",
     "output_type": "stream",
     "text": [
      "rlci\n"
     ]
    }
   ],
   "source": [
    "x =\"circular\"\n",
    "print(x[::-2])\n"
   ]
  },
  {
   "cell_type": "code",
   "execution_count": null,
   "id": "e7ea5cf4",
   "metadata": {},
   "outputs": [
    {
     "name": "stdout",
     "output_type": "stream",
     "text": [
      "[1, 2, 3, 5]\n"
     ]
    }
   ],
   "source": [
    "class A:\n",
    "    def __init__(self, l):\n",
    "        self.lst = l\n",
    "    def get_list(self):\n",
    "        return self.lst\n",
    "    def get_element(self, elem):\n",
    "        return self.lst[elem]\n",
    "    def delete_element(self):\n",
    "        self.lst.remove(self.get_element(2))\n",
    "        #self.lst.remove(self.get_element(2) + 1)\n",
    "        # remove(self.lst, get_element(2))     # NameError\n",
    "        # remove(self.lst, get_element(2) + 1) # NameError\n",
    " \n",
    "obj = A([1, 2, 3, 4, 5])\n",
    "obj.delete_element()\n",
    "print(obj.get_list())"
   ]
  },
  {
   "cell_type": "code",
   "execution_count": 17,
   "id": "3a105d42",
   "metadata": {},
   "outputs": [
    {
     "name": "stdout",
     "output_type": "stream",
     "text": [
      "[1, 2, 3, 2, 1, 2, 3, 4, 5]\n"
     ]
    }
   ],
   "source": [
    "numeros = [1, 2, 3,6,2,1,2,3,4,5]\n",
    "#numeros.remove(2)   # 4 não está na lista\n",
    "numeros.pop(3)  # remove o elemento do índice 3\n",
    "print(numeros)"
   ]
  },
  {
   "cell_type": "code",
   "execution_count": 18,
   "id": "4df193e9",
   "metadata": {},
   "outputs": [
    {
     "name": "stdout",
     "output_type": "stream",
     "text": [
      "[1, 3]\n"
     ]
    }
   ],
   "source": [
    "lista = [1, 2, 2, 3, 2]\n",
    "while 2 in lista:\n",
    "    lista.remove(2)\n",
    "print(lista)"
   ]
  },
  {
   "cell_type": "code",
   "execution_count": 21,
   "id": "d0f579cf",
   "metadata": {},
   "outputs": [
    {
     "name": "stdout",
     "output_type": "stream",
     "text": [
      "zcbayx\n",
      "['a', 'b', 'c', 'x', 'y', 'z']\n",
      "abcxyz\n"
     ]
    }
   ],
   "source": [
    "txt = \"zcbayx\"\n",
    "print(txt)\n",
    "print(sorted(txt))\n",
    "k=\"\".join(sorted(txt))\n",
    "print(k)"
   ]
  },
  {
   "cell_type": "code",
   "execution_count": null,
   "id": "2b62d84b",
   "metadata": {},
   "outputs": [],
   "source": [
    "a = 2\n",
    "    \n",
    "x = 1 if a > 1 else 1/0\n",
    "y = 1 if a == 2 else y = 0\n",
    "print(x + y)"
   ]
  },
  {
   "cell_type": "code",
   "execution_count": null,
   "id": "4e18bbc3",
   "metadata": {},
   "outputs": [
    {
     "name": "stdout",
     "output_type": "stream",
     "text": [
      "(0, 1, 0, 1)\n",
      "(1, 2, 3, 4, 5, 1, 2, 3, 4, 5)\n"
     ]
    },
    {
     "ename": "TypeError",
     "evalue": "unsupported operand type(s) for *: 'int' and 'set'",
     "output_type": "error",
     "traceback": [
      "\u001b[31m---------------------------------------------------------------------------\u001b[39m",
      "\u001b[31mTypeError\u001b[39m                                 Traceback (most recent call last)",
      "\u001b[36mCell\u001b[39m\u001b[36m \u001b[39m\u001b[32mIn[41]\u001b[39m\u001b[32m, line 12\u001b[39m\n\u001b[32m     10\u001b[39m \u001b[38;5;28mprint\u001b[39m(y)\n\u001b[32m     11\u001b[39m \u001b[38;5;28mprint\u001b[39m(\u001b[32m2\u001b[39m*t)\n\u001b[32m---> \u001b[39m\u001b[32m12\u001b[39m \u001b[38;5;28mprint\u001b[39m(\u001b[32;43m2\u001b[39;49m\u001b[43m*\u001b[49m\u001b[43ms\u001b[49m)\n\u001b[32m     13\u001b[39m \u001b[38;5;66;03m#print(w)\u001b[39;00m\n",
      "\u001b[31mTypeError\u001b[39m: unsupported operand type(s) for *: 'int' and 'set'"
     ]
    }
   ],
   "source": [
    "x = 0,1\n",
    "y = x * 2\n",
    "t=(1,2,3,4,5)\n",
    "d = {1: 'a', 2: 'b'}\n",
    "s= {4,3,2,1,0}\n",
    "#print(d*2)\n",
    "z1 = [1,2]\n",
    "z2 = [3,4]\n",
    "#w = z1 * z2\n",
    "print(y)\n",
    "print(2*t)\n",
    "#print(2*s)\n",
    "#print(w)"
   ]
  },
  {
   "cell_type": "code",
   "execution_count": 48,
   "id": "a2af1ef9",
   "metadata": {},
   "outputs": [
    {
     "ename": "ValueError",
     "evalue": "not enough values to unpack (expected 3, got 2)",
     "output_type": "error",
     "traceback": [
      "\u001b[31m---------------------------------------------------------------------------\u001b[39m",
      "\u001b[31mValueError\u001b[39m                                Traceback (most recent call last)",
      "\u001b[36mCell\u001b[39m\u001b[36m \u001b[39m\u001b[32mIn[48]\u001b[39m\u001b[32m, line 1\u001b[39m\n\u001b[32m----> \u001b[39m\u001b[32m1\u001b[39m [a, b, c] = \u001b[38;5;28mrange\u001b[39m(\u001b[32m2\u001b[39m)\n\u001b[32m      3\u001b[39m \u001b[38;5;28mprint\u001b[39m(a, b, c)\n",
      "\u001b[31mValueError\u001b[39m: not enough values to unpack (expected 3, got 2)"
     ]
    }
   ],
   "source": [
    "[a, b, c] = range(2)\n",
    "    \n",
    "print(a, b, c)"
   ]
  },
  {
   "cell_type": "code",
   "execution_count": 52,
   "id": "26925480",
   "metadata": {},
   "outputs": [
    {
     "name": "stdout",
     "output_type": "stream",
     "text": [
      "B\n",
      "B\n"
     ]
    }
   ],
   "source": [
    "class A:\n",
    "    def method(self):\n",
    "        print('A')\n",
    "    \n",
    "class B:\n",
    "    def method(self):\n",
    "        print('B')\n",
    "    \n",
    "class C(A, B):\n",
    "    def method(self):\n",
    "        print('C')\n",
    " \n",
    "obj = C.__bases__[1]()\n",
    "obj.method()\n",
    "print(C.__bases__[1].__name__)"
   ]
  },
  {
   "cell_type": "code",
   "execution_count": 61,
   "id": "946fdb43",
   "metadata": {},
   "outputs": [
    {
     "name": "stdout",
     "output_type": "stream",
     "text": [
      "cc bb aa\n",
      "['aa', 'cc', 'bb']\n",
      "aa bb cc\n"
     ]
    }
   ],
   "source": [
    "x, y, z = 'aa cc bb'.split()\n",
    "x, y, z = y, z, x # c b a\n",
    "print(x,y,z)\n",
    "print('aa cc bb'.split())\n",
    "print(z, y, x)"
   ]
  },
  {
   "cell_type": "code",
   "execution_count": null,
   "id": "ed07820d",
   "metadata": {},
   "outputs": [
    {
     "ename": "NameError",
     "evalue": "name 'rfind' is not defined",
     "output_type": "error",
     "traceback": [
      "\u001b[31m---------------------------------------------------------------------------\u001b[39m",
      "\u001b[31mNameError\u001b[39m                                 Traceback (most recent call last)",
      "\u001b[36mCell\u001b[39m\u001b[36m \u001b[39m\u001b[32mIn[71]\u001b[39m\u001b[32m, line 2\u001b[39m\n\u001b[32m      1\u001b[39m l = [\u001b[32m1\u001b[39m, \u001b[32m2\u001b[39m, \u001b[32m3\u001b[39m,\u001b[32m6\u001b[39m,\u001b[32m3\u001b[39m,\u001b[32m8\u001b[39m,\u001b[32m2\u001b[39m,\u001b[32m1\u001b[39m,\u001b[32m1\u001b[39m,\u001b[32m1\u001b[39m,\u001b[32m1\u001b[39m,\u001b[32m1\u001b[39m,\u001b[32m11\u001b[39m,\u001b[32m123\u001b[39m]\n\u001b[32m----> \u001b[39m\u001b[32m2\u001b[39m \u001b[43mrfind\u001b[49m(\u001b[32m9\u001b[39m,\u001b[32m2\u001b[39m)\n",
      "\u001b[31mNameError\u001b[39m: name 'rfind' is not defined"
     ]
    }
   ],
   "source": [
    "l = [1, 2, 3,6,3,8,2,1,1,1,1,1,11,123]\n",
    "if 9 in l[2:]:\n",
    "\tprint(l.index(9, 2))\n",
    "else:\n",
    "\tprint(\"9 not found in the list starting from index 2\")"
   ]
  },
  {
   "cell_type": "code",
   "execution_count": 72,
   "id": "58dd72d1",
   "metadata": {},
   "outputs": [
    {
     "name": "stdout",
     "output_type": "stream",
     "text": [
      "3\n"
     ]
    }
   ],
   "source": [
    "nums = [10, 20, 30, 20]\n",
    "\n",
    "# última ocorrência de 20\n",
    "print(len(nums) - 1 - nums[::-1].index(20))   # 3\n"
   ]
  },
  {
   "cell_type": "code",
   "execution_count": 74,
   "id": "aec84ba1",
   "metadata": {},
   "outputs": [
    {
     "ename": "ValueError",
     "evalue": "invalid literal for int() with base 10: 'Python'",
     "output_type": "error",
     "traceback": [
      "\u001b[31m---------------------------------------------------------------------------\u001b[39m",
      "\u001b[31mValueError\u001b[39m                                Traceback (most recent call last)",
      "\u001b[36mCell\u001b[39m\u001b[36m \u001b[39m\u001b[32mIn[74]\u001b[39m\u001b[32m, line 2\u001b[39m\n\u001b[32m      1\u001b[39m \u001b[38;5;66;03m#int([1, 2])\u001b[39;00m\n\u001b[32m----> \u001b[39m\u001b[32m2\u001b[39m \u001b[38;5;28;43mint\u001b[39;49m\u001b[43m(\u001b[49m\u001b[33;43m\"\u001b[39;49m\u001b[33;43mPython\u001b[39;49m\u001b[33;43m\"\u001b[39;49m\u001b[43m)\u001b[49m\n",
      "\u001b[31mValueError\u001b[39m: invalid literal for int() with base 10: 'Python'"
     ]
    }
   ],
   "source": [
    "#int([1, 2])\n",
    "int(\"Python\")"
   ]
  },
  {
   "cell_type": "code",
   "execution_count": 81,
   "id": "55dc1893",
   "metadata": {},
   "outputs": [
    {
     "name": "stdout",
     "output_type": "stream",
     "text": [
      "TypeError occurred\n"
     ]
    }
   ],
   "source": [
    "class A:\n",
    "    def __init__(self):\n",
    "        return \"Python\"\n",
    "        #return None\n",
    "try:\n",
    "    print(A())\n",
    "except TypeError:\n",
    "    print(\"TypeError occurred\")\n",
    "except Exception as e:\n",
    "    print(e)\n",
    "    print(type(e))\n",
    "    print(e.args)\n",
    "\n",
    "    "
   ]
  },
  {
   "cell_type": "code",
   "execution_count": 99,
   "id": "b3f283c5",
   "metadata": {},
   "outputs": [
    {
     "ename": "MyError",
     "evalue": "",
     "output_type": "error",
     "traceback": [
      "\u001b[31m---------------------------------------------------------------------------\u001b[39m",
      "\u001b[31mMyError\u001b[39m                                   Traceback (most recent call last)",
      "\u001b[36mCell\u001b[39m\u001b[36m \u001b[39m\u001b[32mIn[99]\u001b[39m\u001b[32m, line 7\u001b[39m\n\u001b[32m      4\u001b[39m     \u001b[38;5;28;01mdef\u001b[39;00m\u001b[38;5;250m \u001b[39m\u001b[34m__init_subclass__\u001b[39m(\u001b[38;5;28mcls\u001b[39m):\n\u001b[32m      5\u001b[39m         \u001b[38;5;28;01mreturn\u001b[39;00m \u001b[38;5;28msuper\u001b[39m().__init_subclass__()\n\u001b[32m----> \u001b[39m\u001b[32m7\u001b[39m \u001b[38;5;28;01mraise\u001b[39;00m MyError\n\u001b[32m      8\u001b[39m \u001b[38;5;66;03m#raise MyError(\"error B\")\u001b[39;00m\n",
      "\u001b[31mMyError\u001b[39m: "
     ]
    }
   ],
   "source": [
    "class MyError(Exception):\n",
    "    #def __init__(self, msg='error Ax'):\n",
    "    #    Exception.__init__(self, msg)\n",
    "    def __init_subclass__(cls):\n",
    "        return super().__init_subclass__()\n",
    "\n",
    "raise MyError\n",
    "#raise MyError(\"error B\")\n"
   ]
  },
  {
   "cell_type": "code",
   "execution_count": 100,
   "id": "27b13dd2",
   "metadata": {},
   "outputs": [
    {
     "name": "stdout",
     "output_type": "stream",
     "text": [
      "Viper Viper "
     ]
    }
   ],
   "source": [
    "class A:\n",
    "    def m(self):\n",
    "        print(\"Python\")\n",
    "    \n",
    "    def get_m(self):\n",
    "        self.m()\n",
    "    \n",
    "class B(A):\n",
    "    def m(self):\n",
    "        print('Viper', end = \" \")\n",
    "    \n",
    "class C(B):\n",
    "    def get_m(self):\n",
    "        self.m()\n",
    "    \n",
    "B().m()\n",
    "C().get_m()"
   ]
  },
  {
   "cell_type": "code",
   "execution_count": 101,
   "id": "6eccb514",
   "metadata": {},
   "outputs": [
    {
     "name": "stdout",
     "output_type": "stream",
     "text": [
      "Antes: ['D:\\\\OneDrive\\\\Documentos\\\\REPOS\\\\PYTHON\\\\Cursos_Python\\\\Meus-Programas\\\\packages\\\\PackP', 'd:\\\\OneDrive\\\\Documentos\\\\REPOS\\\\PYTHON\\\\Cursos_Python\\\\Meus-Programas\\\\Exames-SIMUL-G3-Retake\\\\%PYTHONPATH%', 'c:\\\\Users\\\\mario\\\\AppData\\\\Local\\\\Programs\\\\Python\\\\Python313\\\\python313.zip']\n"
     ]
    }
   ],
   "source": [
    "from sys import path\n",
    "\n",
    "print(\"Antes:\", path[:3])  # Mostra os 3 primeiros diretórios"
   ]
  },
  {
   "cell_type": "code",
   "execution_count": null,
   "id": "17f95194",
   "metadata": {},
   "outputs": [
    {
     "name": "stdout",
     "output_type": "stream",
     "text": [
      "201\n",
      "140713825107976 140713825107976\n"
     ]
    }
   ],
   "source": [
    "class A:\n",
    "    pass\n",
    "    \n",
    "obj1 = A()\n",
    "obj2 = A()\n",
    "#obj2 = obj1\n",
    "A.x = 1\n",
    "obj1.x = 100\n",
    "y =  A.x + obj1.x + obj2.x\n",
    "print(y)\n",
    "print(id(obj1.x), id(obj2.x))"
   ]
  },
  {
   "cell_type": "code",
   "execution_count": 114,
   "id": "972d9d37",
   "metadata": {},
   "outputs": [
    {
     "name": "stdout",
     "output_type": "stream",
     "text": [
      "abc /'def/'\n",
      " 'abc' \"def\" \n",
      "My name's 'Mario' \n"
     ]
    }
   ],
   "source": [
    "print(\"abc /'def/'\")\n",
    "#print(\"\"\" 'abc' \"def\" \"\"\")\n",
    "print(''' 'abc' \"def\" ''')\n",
    "#print(\"My name's \\\"Mario\\\"\")\n",
    "print('My name\\'s \\'Mario\\' ')\n",
    "#print('\\\\\\')"
   ]
  },
  {
   "cell_type": "code",
   "execution_count": 117,
   "id": "00160f90",
   "metadata": {},
   "outputs": [
    {
     "name": "stdout",
     "output_type": "stream",
     "text": [
      "message B ('message C',)\n"
     ]
    }
   ],
   "source": [
    "class MyExcept(Exception):\n",
    "    \n",
    "    def __init__(self, description = 'message A'):\n",
    "        self.message = description\n",
    "        \n",
    "    def __str__(self):\n",
    "        return 'message B'\n",
    "    \n",
    "try:    \n",
    "    #raise Exception('message C')\n",
    "    raise MyExcept('message C')\n",
    "    \n",
    "except MyExcept as err:\n",
    "    print(err, err.args)\n",
    "    \n",
    "else:\n",
    "    print('message D')"
   ]
  },
  {
   "cell_type": "code",
   "execution_count": 129,
   "id": "407680c7",
   "metadata": {},
   "outputs": [
    {
     "name": "stdout",
     "output_type": "stream",
     "text": [
      "[1, 1, 4]\n",
      "1 1 4\n",
      "1 1 4 1\n",
      "1\n",
      "4\n"
     ]
    }
   ],
   "source": [
    "def fun(n):\n",
    "    for i in range(n):\n",
    "        yield i ** i\n",
    "\n",
    "print(list(fun(3)))\n",
    "print(*fun(3))\n",
    "\n",
    "for x in fun(3):\n",
    "    print(x, end=' ')\n",
    "\n",
    "g = fun(3)\n",
    "print(next(g))  # 1\n",
    "print(next(g))  # 1\n",
    "print(next(g))  # 4\n"
   ]
  },
  {
   "cell_type": "code",
   "execution_count": 130,
   "id": "52825568",
   "metadata": {},
   "outputs": [
    {
     "name": "stdout",
     "output_type": "stream",
     "text": [
      "0\n",
      "1\n",
      "2\n",
      "3\n",
      "4\n"
     ]
    }
   ],
   "source": [
    "class Contador:\n",
    "    def __init__(self, limite):\n",
    "        self.limite = limite\n",
    "        self.atual = 0\n",
    "\n",
    "    def __iter__(self):\n",
    "        return self  # o iterador é o próprio objecto\n",
    "\n",
    "    def __next__(self):\n",
    "        if self.atual < self.limite:\n",
    "            valor = self.atual\n",
    "            self.atual += 1\n",
    "            return valor\n",
    "        else:\n",
    "            raise StopIteration\n",
    "\n",
    "# usar o iterador\n",
    "c = Contador(5)\n",
    "for numero in c:\n",
    "    print(numero)\n"
   ]
  },
  {
   "cell_type": "code",
   "execution_count": 133,
   "id": "25e021cf",
   "metadata": {},
   "outputs": [
    {
     "name": "stdout",
     "output_type": "stream",
     "text": [
      "<list_iterator object at 0x000002092E18F010>\n",
      "10\n",
      "20\n",
      "30\n"
     ]
    }
   ],
   "source": [
    "lista = [10, 20, 30]\n",
    "it = iter(lista)  # chama internamente lista.__iter__()\n",
    "print(it)  # <list_iterator object at ...>\n",
    "print(next(it))  # 10\n",
    "print(next(it))  # 20\n",
    "print(next(it))  # 30\n",
    "#print(next(it))  # StopIteration\n"
   ]
  },
  {
   "cell_type": "code",
   "execution_count": 135,
   "id": "c09e4ef5",
   "metadata": {},
   "outputs": [
    {
     "name": "stdout",
     "output_type": "stream",
     "text": [
      "dog\n",
      "cat\n",
      "foxn\n",
      "fox\n",
      "bat\n",
      "tiger\n",
      "fox\n",
      "dolphin\n"
     ]
    }
   ],
   "source": [
    "with open('animals.txt', 'r') as arquivo:\n",
    "    for linha in iter(arquivo.readline, ''):\n",
    "        print(linha.strip())"
   ]
  },
  {
   "cell_type": "code",
   "execution_count": 138,
   "id": "8f3dc8ac",
   "metadata": {},
   "outputs": [
    {
     "name": "stdout",
     "output_type": "stream",
     "text": [
      "2\n",
      "3 3\n",
      "24\n"
     ]
    }
   ],
   "source": [
    "class A:\n",
    "    __x = 1\n",
    " \n",
    "    def __init__(self):\n",
    "        A.__x += 1\n",
    " \n",
    "    def m(self, n):\n",
    "        self.a = A._A__x ** n\n",
    " \n",
    "obj1 = A()\n",
    "print(obj1._A__x)\n",
    "obj1.m(3)\n",
    " \n",
    "obj2 = A()\n",
    "print(obj2._A__x, obj1._A__x)\n",
    "print(obj1.a * obj1._A__x)\n",
    " "
   ]
  },
  {
   "cell_type": "code",
   "execution_count": null,
   "id": "ee56bd21",
   "metadata": {},
   "outputs": [],
   "source": [
    "class A:\n",
    "    __x = 11\n",
    "    y=1\n",
    "    def __init__(self):\n",
    "        self.__x = 12\n",
    "        self.yy = 2\n",
    " \n",
    "obj = A()\n",
    "A.y += 33\n",
    "print(A._A__x, obj._A__x, A.y)\n",
    "print(A.yy)"
   ]
  },
  {
   "cell_type": "code",
   "execution_count": 152,
   "id": "9dcc2b62",
   "metadata": {},
   "outputs": [
    {
     "name": "stdout",
     "output_type": "stream",
     "text": [
      "5 5\n",
      "0 0\n"
     ]
    }
   ],
   "source": [
    "def f(l):\n",
    "    for c in l:\n",
    "        yield c ** 2\n",
    " \n",
    "g1 = f([1, 2])\n",
    "g2 = (i * i for i in range(3))\n",
    " \n",
    "s1, s2 = sum(g1), sum(g2) # line 8\n",
    "print(s1, s2)             # line 9\n",
    "                          # line 10\n",
    "s4, s5 = sum(g1), sum(g2) # line 11\n",
    "print(s4, s5)             # line 12"
   ]
  },
  {
   "cell_type": "code",
   "execution_count": null,
   "id": "97b92803",
   "metadata": {},
   "outputs": [
    {
     "name": "stdout",
     "output_type": "stream",
     "text": [
      "nohtyP\n"
     ]
    }
   ],
   "source": [
    "string = \"Python\"\n",
    "def fun(s):    \n",
    "    s2 = \"\"\n",
    "    for c in s:\n",
    "        s2 = c + s2\n",
    "    return s2\n",
    "\n",
    "print(fun(string))"
   ]
  },
  {
   "cell_type": "code",
   "execution_count": 157,
   "id": "9405a694",
   "metadata": {},
   "outputs": [
    {
     "name": "stdout",
     "output_type": "stream",
     "text": [
      "True\n",
      "True\n",
      "{'__module__': '__main__', '__firstlineno__': 1, 'class_var': 1, '__init__': <function A.__init__ at 0x000002092ECBA3E0>, '__static_attributes__': ('instance_var',), '__dict__': <attribute '__dict__' of 'A' objects>, '__weakref__': <attribute '__weakref__' of 'A' objects>, '__doc__': None}\n",
      "{'instance_var': 10}\n",
      "False\n"
     ]
    }
   ],
   "source": [
    "class A:\n",
    "    class_var = 1\n",
    "    \n",
    "    def __init__(self):\n",
    "        self.instance_var = 10       \n",
    "    \n",
    "obj = A()\n",
    "print('class_var' in A.__dict__)\n",
    "print('instance_var' in obj.__dict__)\n",
    "print(A.__dict__)\n",
    "print(obj.__dict__) \n",
    "print('instance_var' in A.__dict__)"
   ]
  },
  {
   "cell_type": "code",
   "execution_count": 158,
   "id": "a3aa0297",
   "metadata": {},
   "outputs": [
    {
     "name": "stdout",
     "output_type": "stream",
     "text": [
      "B\n"
     ]
    }
   ],
   "source": [
    "def fun2(x):\n",
    "    assert x % 2 == 0    \n",
    "    return x + 1\n",
    " \n",
    "def fun1(x):\n",
    "    try:\n",
    "        print(fun2(x))\n",
    "    except:\n",
    "        raise\n",
    " \n",
    "try:\n",
    "    fun1(3)\n",
    "except ArithmeticError:\n",
    "    print('A')\n",
    "except Exception:\n",
    "    print('B')\n",
    "except:\n",
    "    print('C')\n",
    " "
   ]
  },
  {
   "cell_type": "code",
   "execution_count": 161,
   "id": "c8bea2ae",
   "metadata": {},
   "outputs": [
    {
     "name": "stdout",
     "output_type": "stream",
     "text": [
      "False\n"
     ]
    }
   ],
   "source": [
    "print(23 == '10')"
   ]
  },
  {
   "cell_type": "code",
   "execution_count": null,
   "id": "2e178c7a",
   "metadata": {},
   "outputs": [
    {
     "name": "stdout",
     "output_type": "stream",
     "text": [
      " 0\n"
     ]
    }
   ],
   "source": [
    "x = [1,3,3,12,1]\n",
    "\n",
    "for i in range(-1, -3, -1):    \n",
    "    x = '*' * i\n",
    "\n",
    "print(x, len(x))"
   ]
  },
  {
   "cell_type": "code",
   "execution_count": 32,
   "id": "1fd72e00",
   "metadata": {},
   "outputs": [
    {
     "name": "stdout",
     "output_type": "stream",
     "text": [
      "['Snake']\n",
      "Diretório atual: d:\\temp\n"
     ]
    }
   ],
   "source": [
    "import os\n",
    "os.chdir(\"d://temp\")\n",
    "\n",
    "#os.makedirs(\"Snake/Python/Viper\")\n",
    "os.chdir(\"Snake/Python/Viper\")\n",
    "os.chdir(\"../../../\")\n",
    "    \n",
    "     \n",
    "#os.mkdir(\"Python/Java/C++\")\n",
    "#os.chdir(\"Python\")\n",
    "     \n",
    "print(os.listdir())\n",
    "\n",
    "diretorio_atual = os.getcwd()\n",
    "print(f\"Diretório atual: {diretorio_atual}\")\n"
   ]
  },
  {
   "cell_type": "code",
   "execution_count": 8,
   "id": "f858ce35",
   "metadata": {},
   "outputs": [
    {
     "name": "stdout",
     "output_type": "stream",
     "text": [
      "7\n"
     ]
    }
   ],
   "source": [
    "a = 1110\n",
    "x = lambda b: 3 * 2\n",
    "print(x(a) + 1)"
   ]
  },
  {
   "cell_type": "code",
   "execution_count": 22,
   "id": "868b7699",
   "metadata": {},
   "outputs": [
    {
     "name": "stdout",
     "output_type": "stream",
     "text": [
      "['y', 'P']\n",
      "[3, 4]\n",
      "[(8, 1), (8, 7)]\n"
     ]
    }
   ],
   "source": [
    "import random as r\n",
    " \n",
    "print(r.sample(\"Python\", 2))\n",
    "print(r.sample([1,2,3,4,7,54,3], 2))\n",
    "print(r.sample((1,(8,7),(8,1)), 2))\n",
    "\n"
   ]
  },
  {
   "cell_type": "code",
   "execution_count": 23,
   "id": "68943e61",
   "metadata": {},
   "outputs": [
    {
     "name": "stdout",
     "output_type": "stream",
     "text": [
      "['pop', 'ab\\nba', 'xy yx', 'level']\n"
     ]
    }
   ],
   "source": [
    "    words = ['pop', 'ab\\nba', 'xy yx', 'level', 'alba']\n",
    "     \n",
    "    def fun(word):\n",
    "        reverse_word = word[::-1]\n",
    "        return reverse_word == word\n",
    "     \n",
    "    l = filter(fun, words)\n",
    "     \n",
    "    print(list(l))"
   ]
  },
  {
   "cell_type": "code",
   "execution_count": 27,
   "id": "e16fb988",
   "metadata": {},
   "outputs": [
    {
     "name": "stdout",
     "output_type": "stream",
     "text": [
      "saiednaC sepoL epiliF oiraM\n"
     ]
    }
   ],
   "source": [
    "def fun(word):\n",
    "        reverse_word = word[::-1]\n",
    "        return reverse_word \n",
    "\n",
    "print(fun(\"Mario Filipe Lopes Candeias\"))"
   ]
  },
  {
   "cell_type": "code",
   "execution_count": 36,
   "id": "293adc12",
   "metadata": {},
   "outputs": [
    {
     "name": "stdout",
     "output_type": "stream",
     "text": [
      "[]\n"
     ]
    }
   ],
   "source": [
    "import os\n",
    "os.chdir(\"d://OneDrive//Documentos//REPOS//PYTHON//Cursos_Python//Meus-Programas//Exames-SIMUL-G3-Retake\")\n",
    "strm = open('file.txt')\n",
    "    \n",
    "x = strm.readlines()\n",
    "    \n",
    "print(x)\n",
    "strm.close()"
   ]
  },
  {
   "cell_type": "code",
   "execution_count": 43,
   "id": "e577d184",
   "metadata": {},
   "outputs": [
    {
     "name": "stdout",
     "output_type": "stream",
     "text": [
      "21 11\n"
     ]
    }
   ],
   "source": [
    "class A:\n",
    "    x = 1\n",
    "    \n",
    "obj = A()\n",
    " \n",
    "#obj.x = \n",
    "A.x += 10\n",
    "obj.x += 10\n",
    " \n",
    "print(obj.x, A.x)"
   ]
  },
  {
   "cell_type": "code",
   "execution_count": 49,
   "id": "da9fdb75",
   "metadata": {},
   "outputs": [
    {
     "name": "stdout",
     "output_type": "stream",
     "text": [
      "1001\n"
     ]
    }
   ],
   "source": [
    "class A:    \n",
    "    def met(self):\n",
    "        return 1\n",
    "    \n",
    "    def met_a(self):\n",
    "        return self.met()\n",
    "        \n",
    "class B(A):\n",
    "    def met(self):\n",
    "        return 10\n",
    " \n",
    "class C(A):\n",
    "    def met(self):\n",
    "        return 100\n",
    " \n",
    "obj1 = A()\n",
    "obj2 = B()\n",
    "obj3 = C()\n",
    " \n",
    "#obj1.met_a()\n",
    "#print(obj1.met())\n",
    "x = obj1.met_a() + obj2.met() * obj3.met()\n",
    "print(x)\n"
   ]
  },
  {
   "cell_type": "code",
   "execution_count": 4,
   "id": "2600bae4",
   "metadata": {},
   "outputs": [
    {
     "name": "stdout",
     "output_type": "stream",
     "text": [
      "[0, 1, 4, 9]\n"
     ]
    }
   ],
   "source": [
    "quadrados = lambda n: [i*i for i in range(n)]\n",
    "print(quadrados(4))  # [0, 1, 4, 9]\n"
   ]
  },
  {
   "cell_type": "code",
   "execution_count": null,
   "id": "b989c2ad",
   "metadata": {},
   "outputs": [
    {
     "name": "stdout",
     "output_type": "stream",
     "text": [
      "Viper\n",
      "Python\n",
      "Viper\n"
     ]
    }
   ],
   "source": [
    "def snake():\n",
    "    return \"Viper\"\n",
    "    \n",
    "class A:\n",
    "    \n",
    "    def __init__(self):        \n",
    "        self.snake()\n",
    "        print(snake())\n",
    "        \n",
    "    def snake(self):\n",
    "        print(\"Python\")           \n",
    "    \n",
    "obj = A()"
   ]
  },
  {
   "cell_type": "code",
   "execution_count": 19,
   "id": "2bd05fbc",
   "metadata": {},
   "outputs": [
    {
     "name": "stdout",
     "output_type": "stream",
     "text": [
      "True False\n"
     ]
    }
   ],
   "source": [
    "a = 10000 \n",
    "#b=a\n",
    "b = 10000 \n",
    "\n",
    "print(a == b, a is b)"
   ]
  },
  {
   "cell_type": "code",
   "execution_count": null,
   "id": "901b6484",
   "metadata": {},
   "outputs": [
    {
     "name": "stdout",
     "output_type": "stream",
     "text": [
      "True True\n"
     ]
    }
   ],
   "source": [
    "class Pessoa:\n",
    "    def __init__(self, nome):\n",
    "        self.nome = nome\n",
    "\n",
    "x = Pessoa(\"Ana\")\n",
    "y = Pessoa(\"Ana\")\n",
    "\n",
    "print(x == y, x is y)\n"
   ]
  },
  {
   "cell_type": "code",
   "execution_count": 22,
   "id": "60eb131e",
   "metadata": {},
   "outputs": [
    {
     "name": "stdout",
     "output_type": "stream",
     "text": [
      "<class '__main__.A'>\n",
      "A\n",
      "<class '__main__.A'>\n",
      "A\n"
     ]
    }
   ],
   "source": [
    "class A:\n",
    "    pass\n",
    " \n",
    "obj = A()\n",
    " \n",
    "print(type(obj))\n",
    "print(type(obj).__name__)\n",
    "print(obj.__class__)\n",
    "print(obj.__class__.__name__)\n",
    "# print(obj.__name__) # AttributeError\n",
    "# print(obj.class())  # Syntax error"
   ]
  },
  {
   "cell_type": "code",
   "execution_count": 27,
   "id": "c62d3b59",
   "metadata": {},
   "outputs": [
    {
     "name": "stdout",
     "output_type": "stream",
     "text": [
      "100 11\n"
     ]
    }
   ],
   "source": [
    "class A:\n",
    "    x = 11\n",
    " \n",
    "class B(A):\n",
    "    x = 100\n",
    "    \n",
    "    def __init__(self):\n",
    "        print(B.x, end = \" \")\n",
    "        \n",
    "    def m(self):   \n",
    "        del(B.x)\n",
    "        print(B.x)\n",
    "                \n",
    "obj = B()\n",
    "obj.m()"
   ]
  },
  {
   "cell_type": "code",
   "execution_count": 28,
   "id": "72868657",
   "metadata": {},
   "outputs": [
    {
     "name": "stdout",
     "output_type": "stream",
     "text": [
      "['dog\\n', 'cat\\n', 'foxn\\n', 'fox\\n', 'bat\\n', 'tiger\\n', 'fox\\n', 'dolphin']\n"
     ]
    },
    {
     "data": {
      "text/plain": [
       "str"
      ]
     },
     "execution_count": 28,
     "metadata": {},
     "output_type": "execute_result"
    }
   ],
   "source": [
    "strm= open(\"animals.txt\")\n",
    "print(strm.readlines(-10))\n",
    "#print(strm.readlines(10))\n",
    "str"
   ]
  },
  {
   "cell_type": "code",
   "execution_count": null,
   "id": "086d10c6",
   "metadata": {},
   "outputs": [
    {
     "name": "stdout",
     "output_type": "stream",
     "text": [
      " 0\n",
      "\n"
     ]
    }
   ],
   "source": [
    "x = 1\n",
    " \n",
    "for i in range(0, -3, -1):\n",
    "    x = '*' * i\n",
    "    break\n",
    "print(x)\n",
    "\n",
    "print((-3)*'*', len((-3)*'*'))\n"
   ]
  },
  {
   "cell_type": "code",
   "execution_count": 41,
   "id": "a8276214",
   "metadata": {},
   "outputs": [
    {
     "ename": "RuntimeError",
     "evalue": "super(): no arguments",
     "output_type": "error",
     "traceback": [
      "\u001b[31m---------------------------------------------------------------------------\u001b[39m",
      "\u001b[31mRuntimeError\u001b[39m                              Traceback (most recent call last)",
      "\u001b[36mCell\u001b[39m\u001b[36m \u001b[39m\u001b[32mIn[41]\u001b[39m\u001b[32m, line 5\u001b[39m\n\u001b[32m      2\u001b[39m     \u001b[38;5;28;01mdef\u001b[39;00m\u001b[38;5;250m \u001b[39m\u001b[34m__init__\u001b[39m(\u001b[38;5;28mself\u001b[39m, n = \u001b[32m1\u001b[39m):\n\u001b[32m      3\u001b[39m         \u001b[38;5;28mself\u001b[39m.x = n\n\u001b[32m----> \u001b[39m\u001b[32m5\u001b[39m \u001b[38;5;28;43;01mclass\u001b[39;49;00m\u001b[38;5;250;43m \u001b[39;49m\u001b[34;43;01mB\u001b[39;49;00m\u001b[43m(\u001b[49m\u001b[43mA\u001b[49m\u001b[43m)\u001b[49m\u001b[43m:\u001b[49m\u001b[43m    \u001b[49m\n\u001b[32m      6\u001b[39m \u001b[43m    \u001b[49m\u001b[38;5;28;43;01mdef\u001b[39;49;00m\u001b[38;5;250;43m \u001b[39;49m\u001b[34;43m__init__\u001b[39;49m\u001b[43m(\u001b[49m\u001b[38;5;28;43mself\u001b[39;49m\u001b[43m,\u001b[49m\u001b[43m \u001b[49m\u001b[43mm\u001b[49m\u001b[43m)\u001b[49m\u001b[43m:\u001b[49m\n\u001b[32m      7\u001b[39m \u001b[43m        \u001b[49m\u001b[38;5;28;43mself\u001b[39;49m\u001b[43m.\u001b[49m\u001b[43my\u001b[49m\u001b[43m \u001b[49m\u001b[43m=\u001b[49m\u001b[43m \u001b[49m\u001b[43mm\u001b[49m\n",
      "\u001b[36mCell\u001b[39m\u001b[36m \u001b[39m\u001b[32mIn[41]\u001b[39m\u001b[32m, line 8\u001b[39m, in \u001b[36mB\u001b[39m\u001b[34m()\u001b[39m\n\u001b[32m      6\u001b[39m \u001b[38;5;28;01mdef\u001b[39;00m\u001b[38;5;250m \u001b[39m\u001b[34m__init__\u001b[39m(\u001b[38;5;28mself\u001b[39m, m):\n\u001b[32m      7\u001b[39m     \u001b[38;5;28mself\u001b[39m.y = m\n\u001b[32m----> \u001b[39m\u001b[32m8\u001b[39m \u001b[38;5;28;43msuper\u001b[39;49m\u001b[43m(\u001b[49m\u001b[43m)\u001b[49m.\u001b[34m__init__\u001b[39m(\u001b[38;5;28mself\u001b[39m.y)\n",
      "\u001b[31mRuntimeError\u001b[39m: super(): no arguments"
     ]
    }
   ],
   "source": [
    "class A:\n",
    "    def __init__(self, n = 1):\n",
    "        self.x = n\n",
    " \n",
    "class B(A):    \n",
    "    def __init__(self, m):\n",
    "        self.y = m\n",
    "    super().__init__(self.y)        \n",
    " \n",
    "obj = B(10)\n",
    " \n",
    "print(obj.x)"
   ]
  },
  {
   "cell_type": "code",
   "execution_count": 48,
   "id": "1a5eb76d",
   "metadata": {},
   "outputs": [
    {
     "name": "stdout",
     "output_type": "stream",
     "text": [
      "{'__module__': '__main__', '__firstlineno__': 1, 'a': 2, '__init__': <function A.__init__ at 0x00000249EBF900E0>, 'm': <function A.m at 0x00000249EBF90180>, '__static_attributes__': ('b',), '__dict__': <attribute '__dict__' of 'A' objects>, '__weakref__': <attribute '__weakref__' of 'A' objects>, '__doc__': None}\n",
      "<function A.m at 0x00000249EBF90180>\n",
      "True\n",
      "False\n",
      "False\n",
      "True\n"
     ]
    }
   ],
   "source": [
    "class A:\n",
    "    a = 2\n",
    " \n",
    "    def __init__(self, n):\n",
    "        self.b = n  \n",
    " \n",
    "    def m(self):\n",
    "        return self.b * A.a   \n",
    " \n",
    "obj = A(10)\n",
    "\n",
    "print(A.__dict__)\n",
    "print(A.__dict__['m'])\n",
    "print(A.__dict__['a'] != None)              # True\n",
    "print(len(obj.__dict__) == len(A.__dict__)) # False\n",
    "print('b' in A.__dict__)                    # False\n",
    "print('b' in obj.__dict__)                  # True"
   ]
  },
  {
   "cell_type": "code",
   "execution_count": 61,
   "id": "332e3ea2",
   "metadata": {},
   "outputs": [
    {
     "name": "stdout",
     "output_type": "stream",
     "text": [
      "one two three\n",
      "one two three\n",
      "1 2 3\n",
      "[('one', 1), ('two', 2), ('three', 3)] two\n"
     ]
    }
   ],
   "source": [
    "a, b, c = {'one': 1, 'two': 2, 'three': 3}\n",
    "print(a, b, c)  # 1 2 3\n",
    "a, b, c = {'one': 1, 'two': 2, 'three': 3}.keys()\n",
    "print(a, b, c)  # 1 2 3\n",
    "a, b, c = {'one': 1, 'two': 2, 'three': 3}.values()\n",
    "print(a, b, c)  # 1 2 3\n",
    "a, b, c = {'one': 1, 'two': 2, 'three': 3}.items()\n",
    "l = list((a, b, c))  # 1 2 3\n",
    "print(l, l[1][0])"
   ]
  },
  {
   "cell_type": "code",
   "execution_count": 64,
   "id": "24d3f274",
   "metadata": {},
   "outputs": [
    {
     "name": "stdout",
     "output_type": "stream",
     "text": [
      "a\\\\\n"
     ]
    }
   ],
   "source": [
    "#print(r'\\')    # syntax error\n",
    "print(r'a\\\\')  # a\\\\\n",
    "#print(r'a\\\\\\') # syntax error"
   ]
  },
  {
   "cell_type": "code",
   "execution_count": 80,
   "id": "b4169a0a",
   "metadata": {},
   "outputs": [
    {
     "name": "stdout",
     "output_type": "stream",
     "text": [
      "a a False\n"
     ]
    }
   ],
   "source": [
    "x = None or \"a\"\n",
    "y = [None] and \"a\"\n",
    "z= True and \"False\"\n",
    "print(x, y, z)\n"
   ]
  },
  {
   "cell_type": "code",
   "execution_count": 85,
   "id": "fff1c72a",
   "metadata": {},
   "outputs": [
    {
     "name": "stdout",
     "output_type": "stream",
     "text": [
      "B AA\n"
     ]
    }
   ],
   "source": [
    "class myErr(Exception):\n",
    "    def __init__(self, msg):\n",
    "        super().__init__(msg * 2)\n",
    " \n",
    "    def __str__(self):\n",
    "        return \"B\"\n",
    "try:\n",
    "    raise myErr(\"A\")\n",
    "except Exception as e:\n",
    "    print(e, e.args[0])"
   ]
  },
  {
   "cell_type": "code",
   "execution_count": 86,
   "id": "90422559",
   "metadata": {},
   "outputs": [],
   "source": [
    "with open('dados.bin', 'wb') as f:\n",
    "    f.write(b'\\x48\\x65\\x6C\\x6C\\x6F')  # Escreve \"Hello\" em binário"
   ]
  },
  {
   "cell_type": "code",
   "execution_count": 87,
   "id": "f1cb86a8",
   "metadata": {},
   "outputs": [
    {
     "name": "stdout",
     "output_type": "stream",
     "text": [
      "<class 'bytes'> 5\n"
     ]
    }
   ],
   "source": [
    "with open(\"dados.bin\", \"rb\") as bf:\n",
    "    b = bf.read(100)\n",
    "    print(type(b), len(b))  # <class 'bytes'>, ≤100"
   ]
  },
  {
   "cell_type": "code",
   "execution_count": 88,
   "id": "70b7877c",
   "metadata": {},
   "outputs": [
    {
     "name": "stdout",
     "output_type": "stream",
     "text": [
      "5 <class 'bytearray'>\n"
     ]
    }
   ],
   "source": [
    "with open(\"dados.bin\", \"rb\") as bf:\n",
    "    buf = bytearray(100)\n",
    "    n = bf.readinto(buf)\n",
    "    print(n, type(buf))     # n = nº bytes lidos; buf contém bytes escrito"
   ]
  },
  {
   "cell_type": "code",
   "execution_count": 90,
   "id": "853b8ec9",
   "metadata": {},
   "outputs": [
    {
     "name": "stdout",
     "output_type": "stream",
     "text": [
      "bytearray(b'Hello') <class 'bytearray'>\n"
     ]
    }
   ],
   "source": [
    "with open(\"dados.bin\", \"rb\") as bf:\n",
    "    data = bytearray(bf.read(100))\n",
    "print(data, type(data))"
   ]
  },
  {
   "cell_type": "code",
   "execution_count": 94,
   "id": "1ca8de34",
   "metadata": {},
   "outputs": [
    {
     "name": "stdout",
     "output_type": "stream",
     "text": [
      "Objeto de erro customizado\n"
     ]
    }
   ],
   "source": [
    "class MeuErro:\n",
    "    def __str__(self):\n",
    "        return \"Objeto de erro customizado\"\n",
    "\n",
    "x = -1\n",
    "try:\n",
    "    assert x > 0, MeuErro()\n",
    "except AssertionError as e:\n",
    "    print(e)\n"
   ]
  },
  {
   "cell_type": "code",
   "execution_count": 95,
   "id": "f52141a9",
   "metadata": {},
   "outputs": [
    {
     "name": "stdout",
     "output_type": "stream",
     "text": [
      "No assertion\n"
     ]
    },
    {
     "name": "stderr",
     "output_type": "stream",
     "text": [
      "<>:7: SyntaxWarning: assertion is always true, perhaps remove parentheses?\n",
      "C:\\Users\\mario\\AppData\\Local\\Temp\\ipykernel_18656\\3747549790.py:7: SyntaxWarning: assertion is always true, perhaps remove parentheses?\n",
      "  assert (False, \"Assertion 3\")\n"
     ]
    }
   ],
   "source": [
    "x = 1\n",
    "y = 0\n",
    "    \n",
    "try:\n",
    "    assert x, \"Assertion 1\"    \n",
    "    assert not y, \"Assertion 2\"   \n",
    "    assert (False, \"Assertion 3\")\n",
    "    \n",
    "except AssertionError as msg:\n",
    "    print(msg)\n",
    "else:\n",
    "    print(\"No assertion\")"
   ]
  },
  {
   "cell_type": "code",
   "execution_count": 105,
   "id": "27da1b30",
   "metadata": {},
   "outputs": [
    {
     "ename": "AssertionError",
     "evalue": "",
     "output_type": "error",
     "traceback": [
      "\u001b[31m---------------------------------------------------------------------------\u001b[39m",
      "\u001b[31mAssertionError\u001b[39m                            Traceback (most recent call last)",
      "\u001b[36mCell\u001b[39m\u001b[36m \u001b[39m\u001b[32mIn[105]\u001b[39m\u001b[32m, line 6\u001b[39m\n\u001b[32m      4\u001b[39m \u001b[38;5;28;01massert\u001b[39;00m {\u001b[32m1\u001b[39m:\u001b[33m\"\u001b[39m\u001b[33mone\u001b[39m\u001b[33m\"\u001b[39m,\u001b[32m2\u001b[39m:\u001b[33m\"\u001b[39m\u001b[33mtwo\u001b[39m\u001b[33m\"\u001b[39m,\u001b[32m3\u001b[39m:\u001b[33m\"\u001b[39m\u001b[33mthree\u001b[39m\u001b[33m\"\u001b[39m}\n\u001b[32m      5\u001b[39m \u001b[38;5;28;01massert\u001b[39;00m \u001b[33m\"\u001b[39m\u001b[33mbatatas\u001b[39m\u001b[33m\"\u001b[39m\n\u001b[32m----> \u001b[39m\u001b[32m6\u001b[39m \u001b[38;5;28;01massert\u001b[39;00m \u001b[38;5;28;01mFalse\u001b[39;00m\n",
      "\u001b[31mAssertionError\u001b[39m: "
     ]
    }
   ],
   "source": [
    "#assert (False, \"Assertion 3\")\n",
    "assert [0]\n",
    "assert {False}\n",
    "assert {1:\"one\",2:\"two\",3:\"three\"}\n",
    "assert \"batatas\"\n",
    "assert False"
   ]
  },
  {
   "cell_type": "code",
   "execution_count": 113,
   "id": "b7eeb156",
   "metadata": {},
   "outputs": [
    {
     "name": "stdout",
     "output_type": "stream",
     "text": [
      "Peter Piper picked a peck of pickled peppers\n"
     ]
    }
   ],
   "source": [
    "txt2 = \"Peter Python pickled a peck of pickled peppers\"\n",
    "txt=txt2.replace('Python', 'Piper').replace('pickled', 'picked', 1)\n",
    "#txt.replace('Python', 'Piper').replace('picked', 'pickled', 1)\n",
    "# txt.replace('Python', 'Piper').replace('pickled', 'picked', 1)\n",
    "# txt.replace('Python', 'Piper').replace('pickled', 'picked', 0)\n",
    "# txt.replace('Python', 'Piper'; 'pickled', 'picked', 1)\n",
    " \n",
    "print(txt)"
   ]
  },
  {
   "cell_type": "code",
   "execution_count": 115,
   "id": "0987e841",
   "metadata": {},
   "outputs": [
    {
     "name": "stdout",
     "output_type": "stream",
     "text": [
      "Python\n"
     ]
    },
    {
     "ename": "TypeError",
     "evalue": "A.m() takes 0 positional arguments but 1 was given",
     "output_type": "error",
     "traceback": [
      "\u001b[31m---------------------------------------------------------------------------\u001b[39m",
      "\u001b[31mTypeError\u001b[39m                                 Traceback (most recent call last)",
      "\u001b[36mCell\u001b[39m\u001b[36m \u001b[39m\u001b[32mIn[115]\u001b[39m\u001b[32m, line 10\u001b[39m\n\u001b[32m      6\u001b[39m         \u001b[38;5;28mprint\u001b[39m(\u001b[33m\"\u001b[39m\u001b[33mViper\u001b[39m\u001b[33m\"\u001b[39m)      \n\u001b[32m      8\u001b[39m obj = A()\n\u001b[32m---> \u001b[39m\u001b[32m10\u001b[39m \u001b[43mobj\u001b[49m\u001b[43m.\u001b[49m\u001b[43mm\u001b[49m\u001b[43m(\u001b[49m\u001b[43m)\u001b[49m\n",
      "\u001b[31mTypeError\u001b[39m: A.m() takes 0 positional arguments but 1 was given"
     ]
    }
   ],
   "source": [
    "class A:\n",
    "    def __init__(self):\n",
    "        print(\"Python\")\n",
    "        \n",
    "    def m():\n",
    "        print(\"Viper\")      \n",
    "        \n",
    "obj = A()\n",
    "    \n",
    "obj.m()"
   ]
  },
  {
   "cell_type": "code",
   "execution_count": 118,
   "id": "cc46caed",
   "metadata": {},
   "outputs": [
    {
     "name": "stdout",
     "output_type": "stream",
     "text": [
      "1.0 <class 'float'>\n"
     ]
    }
   ],
   "source": [
    "b = 1e0\n",
    "print(b, type(b))"
   ]
  },
  {
   "cell_type": "code",
   "execution_count": 119,
   "id": "3a401224",
   "metadata": {},
   "outputs": [
    {
     "name": "stdout",
     "output_type": "stream",
     "text": [
      "Viper\n"
     ]
    }
   ],
   "source": [
    "class A:    \n",
    "    def __init__(self):        \n",
    "        print(\"Python\")\n",
    "    \n",
    "    def __init__(self):        \n",
    "        print(\"Viper\")    \n",
    "    \n",
    "obj = A()"
   ]
  },
  {
   "cell_type": "code",
   "execution_count": 124,
   "id": "c290834f",
   "metadata": {},
   "outputs": [
    {
     "name": "stdout",
     "output_type": "stream",
     "text": [
      "<class 'int'>\n",
      "dict_values([2, 4, 6])\n",
      "dict_items([('a', 2), ('b', 4), ('c', 6)])\n",
      "2 4 6\n"
     ]
    }
   ],
   "source": [
    "class A:\n",
    "    def __init__(self):\n",
    "        self.a = 1\n",
    "        self.b = 2\n",
    "        self.c = 3\n",
    "    \n",
    "obj = A()\n",
    "    \n",
    "def fun(obj):\n",
    "    for k in obj.__dict__.keys():\n",
    "        attr = getattr(obj, k)\n",
    "        setattr(obj, k, attr * 2 )\n",
    "    print(type(attr))\n",
    "    print(obj.__dict__.values())\n",
    "    print(obj.__dict__.items())\n",
    "\n",
    "fun(obj)\n",
    "    \n",
    "print(obj.a, obj.b, obj.c)"
   ]
  },
  {
   "cell_type": "code",
   "execution_count": 125,
   "id": "452b4895",
   "metadata": {},
   "outputs": [
    {
     "name": "stdout",
     "output_type": "stream",
     "text": [
      "True\n"
     ]
    }
   ],
   "source": [
    "if -2:\n",
    "    print(\"True\")\n",
    "else:\n",
    "    print(\"False\")"
   ]
  },
  {
   "cell_type": "code",
   "execution_count": 126,
   "id": "4d35c454",
   "metadata": {},
   "outputs": [
    {
     "name": "stdout",
     "output_type": "stream",
     "text": [
      "1\n"
     ]
    }
   ],
   "source": [
    "print(1 % 2)"
   ]
  },
  {
   "cell_type": "code",
   "execution_count": 130,
   "id": "781688f1",
   "metadata": {},
   "outputs": [
    {
     "name": "stdout",
     "output_type": "stream",
     "text": [
      "C\n"
     ]
    }
   ],
   "source": [
    "def fun(n):    \n",
    "    raise\n",
    "    print(1/n, end=' ')\n",
    " \n",
    "try:\n",
    "    fun(0)\n",
    " \n",
    "except ArithmeticError:\n",
    "    print('A')    \n",
    "except ZeroDivisionError:\n",
    "    print('B')\n",
    "except:\n",
    "    print('C')\n",
    "else:\n",
    "    print('D')\n",
    " "
   ]
  },
  {
   "cell_type": "code",
   "execution_count": 131,
   "id": "526c8174",
   "metadata": {},
   "outputs": [
    {
     "name": "stdout",
     "output_type": "stream",
     "text": [
      "True True True False\n"
     ]
    }
   ],
   "source": [
    "class A():\n",
    "    __x = 0\n",
    "    ___x = 1\n",
    "    __x_ = 2\n",
    "    __x__ = 3\n",
    "    \n",
    "print('_A__x' in A.__dict__, end = \" \")\n",
    "print('_A___x' in A.__dict__, end = \" \")\n",
    "print('_A__x_' in A.__dict__, end = \" \")\n",
    "print('_A__x__' in A.__dict__)"
   ]
  },
  {
   "cell_type": "code",
   "execution_count": 133,
   "id": "90fd72ba",
   "metadata": {},
   "outputs": [
    {
     "name": "stdout",
     "output_type": "stream",
     "text": [
      "<function <lambda> at 0x00000249EC1C23E0>\n",
      "5\n"
     ]
    }
   ],
   "source": [
    "a = lambda: 5\n",
    "print(a)\n",
    "print(a())"
   ]
  },
  {
   "cell_type": "code",
   "execution_count": 135,
   "id": "67d5a45e",
   "metadata": {},
   "outputs": [
    {
     "name": "stdout",
     "output_type": "stream",
     "text": [
      "x x x abc\n"
     ]
    }
   ],
   "source": [
    "a = \"abc\"\n",
    "    \n",
    "for i in a:\n",
    "    i = 'x'\n",
    "    print(i, end = \" \")\n",
    "    \n",
    "print(a)"
   ]
  },
  {
   "cell_type": "code",
   "execution_count": 138,
   "id": "2ba47481",
   "metadata": {},
   "outputs": [
    {
     "name": "stdout",
     "output_type": "stream",
     "text": [
      "8\n",
      "4\n",
      "<class '_io.TextIOWrapper'>\n"
     ]
    }
   ],
   "source": [
    "file = open('animals.txt')\n",
    "print(len(file.readlines()))\n",
    "print(file.fileno())\n",
    "print(type(file))  \n",
    "file.close()"
   ]
  },
  {
   "cell_type": "code",
   "execution_count": 139,
   "id": "648bff46",
   "metadata": {},
   "outputs": [
    {
     "name": "stdout",
     "output_type": "stream",
     "text": [
      "B A "
     ]
    }
   ],
   "source": [
    "class A:\n",
    "    pass\n",
    "    \n",
    "class B(A):\n",
    "    pass\n",
    "    \n",
    "class C(B, A):\n",
    "    def __init__(self):\n",
    "        pass\n",
    "    def get_bases(self):\n",
    "        for c in C.__bases__:\n",
    "            print(c.__name__, end=\" \")\n",
    "    \n",
    "C().get_bases()"
   ]
  },
  {
   "cell_type": "code",
   "execution_count": 140,
   "id": "230eb76e",
   "metadata": {},
   "outputs": [
    {
     "name": "stdout",
     "output_type": "stream",
     "text": [
      "d\n"
     ]
    }
   ],
   "source": [
    "    file = open('animals.txt')\n",
    "    for i in file.read():\n",
    "        print(i)\n",
    "        break"
   ]
  },
  {
   "cell_type": "code",
   "execution_count": null,
   "id": "e83ce765",
   "metadata": {},
   "outputs": [
    {
     "name": "stdout",
     "output_type": "stream",
     "text": [
      "False True\n",
      "True True\n",
      "True\n"
     ]
    }
   ],
   "source": [
    "a = 1000\n",
    "b = 1000\n",
    "c = a \n",
    "f =1\n",
    "g=10\n",
    "print(a is b, c is a)\n",
    "print(a == b, c == a)\n",
    "\n"
   ]
  },
  {
   "cell_type": "code",
   "execution_count": null,
   "id": "69928d12",
   "metadata": {},
   "outputs": [
    {
     "name": "stdout",
     "output_type": "stream",
     "text": [
      "Windows-11-10.0.26100-SP0\n",
      "<module 'os' (frozen)>\n",
      "('64bit', 'WindowsPE')\n",
      "<module 'sys' (built-in)>\n"
     ]
    }
   ],
   "source": [
    "import platform  as p\n",
    "\n",
    "print(p.platform())\n",
    "print(p.architecture())\n",
    "\n",
    "#print(p.sys)\n",
    "#print(p.os)\n",
    "#print(dir(p.platform))"
   ]
  },
  {
   "cell_type": "code",
   "execution_count": 161,
   "id": "fe4de00f",
   "metadata": {},
   "outputs": [
    {
     "name": "stdout",
     "output_type": "stream",
     "text": [
      "True\n"
     ]
    }
   ],
   "source": [
    "print(\"\\t\\n \".isspace())"
   ]
  },
  {
   "cell_type": "code",
   "execution_count": 175,
   "id": "aeb70a23",
   "metadata": {},
   "outputs": [
    {
     "name": "stdout",
     "output_type": "stream",
     "text": [
      "True\n",
      "True False False True\n",
      "True True True True\n",
      "True True\n",
      "True True False\n"
     ]
    }
   ],
   "source": [
    "class A:\n",
    "    var = 1\n",
    "    def __init__(self):\n",
    "        self.x = 1\n",
    "    def get_var():\n",
    "        return A.var\n",
    "class B(A):\n",
    "    new_var = 1\n",
    "    def __init__(self):\n",
    "        super().__init__()\n",
    "    def __kouves(self):\n",
    "        return B.new_var\n",
    "b = B()\n",
    "\n",
    "print(hasattr(b,'_B__kouves'))\n",
    "\n",
    "print(hasattr(A, 'var'),\n",
    "      hasattr(A, 'new_var'), \n",
    "      hasattr(A, 'x'), \n",
    "      hasattr(A, 'get_var') )\n",
    "print(hasattr(b, 'var'),\n",
    "      hasattr(b, 'new_var'), \n",
    "      hasattr(b, 'x'), \n",
    "      hasattr(b, 'get_var') )\n",
    "print(hasattr(b, 'get_var'),\n",
    "      hasattr(b, '__init__'))\n",
    "print(hasattr(B, 'get_var'),\n",
    "      hasattr(B, '__init__'),\n",
    "      hasattr(A, 'new_var'))"
   ]
  },
  {
   "cell_type": "code",
   "execution_count": 176,
   "id": "a60f7983",
   "metadata": {},
   "outputs": [
    {
     "name": "stdout",
     "output_type": "stream",
     "text": [
      "10\n"
     ]
    }
   ],
   "source": [
    "a = lambda x,y: x+y\n",
    "b = lambda x: x*2\n",
    "    \n",
    "def func(a,b,c):\n",
    "    return a(b(c[0]),b(c[1]))\n",
    "    \n",
    "print(func(a,b,[2,3]))"
   ]
  },
  {
   "cell_type": "code",
   "execution_count": 188,
   "id": "3e50274d",
   "metadata": {},
   "outputs": [
    {
     "name": "stdout",
     "output_type": "stream",
     "text": [
      "My secret number is 10 or 200\n"
     ]
    }
   ],
   "source": [
    "class A:\n",
    "    def __init__(self, var=1):\n",
    "        self.a = 1\n",
    "    def __str__(self):\n",
    "        return f\"My secret number is {self.a} or {self.b}\"\n",
    "    \n",
    "class B(A):\n",
    "    def __init__(self, var=1):\n",
    "        self.a = 10\n",
    "        self.b=var\n",
    "    \n",
    "class C(B):\n",
    "    def __init__(self, var=1):\n",
    "        self.a = 100\n",
    "        super().__init__(200)\n",
    "    \n",
    "c = C()\n",
    "print(c)"
   ]
  },
  {
   "cell_type": "code",
   "execution_count": 196,
   "id": "524cf108",
   "metadata": {},
   "outputs": [
    {
     "name": "stdout",
     "output_type": "stream",
     "text": [
      "1 1 11\n"
     ]
    }
   ],
   "source": [
    "class A:\n",
    "    __Var = 100\n",
    "    def __init__(self):\n",
    "        self.__Bar = 11  # store __Bar as an instance variable\n",
    "    def get_var(self):\n",
    "        return A.__Var\n",
    "\n",
    "a = A()\n",
    "A._A__Var = 1\n",
    "b = A()\n",
    "print(b.get_var(), a.get_var(), a._A__Bar)"
   ]
  },
  {
   "cell_type": "code",
   "execution_count": 211,
   "id": "c28dd174",
   "metadata": {},
   "outputs": [
    {
     "name": "stdout",
     "output_type": "stream",
     "text": [
      "[[0], [0, 1], [0, 1, 2]]\n",
      "[[1], [2, 2], [3, 3, 3]]\n",
      "1\n",
      "2\n"
     ]
    }
   ],
   "source": [
    "a = [1,2,3]\n",
    "b = [[j for j in range(i)] for i in a]\n",
    "c = [[i for j in range(i)] for i in a]\n",
    "print(b)\n",
    "print(c)\n",
    "print(b[1][1])\n",
    "print(c[1][1])"
   ]
  }
 ],
 "metadata": {
  "kernelspec": {
   "display_name": "Python 3",
   "language": "python",
   "name": "python3"
  },
  "language_info": {
   "codemirror_mode": {
    "name": "ipython",
    "version": 3
   },
   "file_extension": ".py",
   "mimetype": "text/x-python",
   "name": "python",
   "nbconvert_exporter": "python",
   "pygments_lexer": "ipython3",
   "version": "3.13.6"
  }
 },
 "nbformat": 4,
 "nbformat_minor": 5
}
