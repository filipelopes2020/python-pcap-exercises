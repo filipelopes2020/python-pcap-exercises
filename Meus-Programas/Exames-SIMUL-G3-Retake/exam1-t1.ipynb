{
 "cells": [
  {
   "cell_type": "code",
   "execution_count": 5,
   "id": "de407289",
   "metadata": {},
   "outputs": [
    {
     "name": "stdout",
     "output_type": "stream",
     "text": [
      "Function Error !\n",
      "Batatas\n"
     ]
    }
   ],
   "source": [
    "from math import sqrt as root\n",
    "    \n",
    "def my_root(x):\n",
    "    try:\n",
    "        return root(x)\n",
    "    except:\n",
    "        print('Function Error !')\n",
    "        raise\n",
    "    \n",
    "x=-2\n",
    "try:\n",
    "    assert x + 2, \"Wrong input !\"\n",
    "    print(my_root(x))\n",
    "except Exception as e:\n",
    "    print(e)\n",
    "    #print(\"Batatas\")\n",
    "else:\n",
    "    print('All good !')"
   ]
  },
  {
   "cell_type": "code",
   "execution_count": 6,
   "id": "d3efb996",
   "metadata": {},
   "outputs": [
    {
     "name": "stdout",
     "output_type": "stream",
     "text": [
      "{'name': 'Luke', '_Jedi__force': 10, 'lightsaber': True}\n"
     ]
    }
   ],
   "source": [
    "\n",
    "class Jedi:\n",
    "    def __init__(self, name):\n",
    "        self.name = name\n",
    "    \n",
    "    def set_force(self, val):\n",
    "        self.__force = val\n",
    "    \n",
    "Luke = Jedi('Luke')\n",
    "Luke.set_force(10)\n",
    "Luke.lightsaber = True\n",
    "    \n",
    "print(Luke.__dict__)"
   ]
  },
  {
   "cell_type": "code",
   "execution_count": 13,
   "id": "cc2209ab",
   "metadata": {},
   "outputs": [
    {
     "name": "stdout",
     "output_type": "stream",
     "text": [
      "True\n",
      "15 5\n"
     ]
    }
   ],
   "source": [
    "class Jedi:\n",
    "    LightSaber = 1\n",
    "    def __init__(self):\n",
    "        self.force = 10\n",
    "        \n",
    "    \n",
    "class Sith(Jedi):\n",
    "    def __init__(self):\n",
    "        self.force = 15\n",
    "        \n",
    "class Padawan(Sith):\n",
    "    force = 5\n",
    "    def __init__(self):\n",
    "        super().__init__()\n",
    "        \n",
    "Luke = Padawan()\n",
    "    \n",
    "#print(hasattr(Padawan, 'LightSaber'))\n",
    "print(hasattr(Luke, 'LightSaber'))\n",
    "print(Luke.force, Padawan.force)"
   ]
  },
  {
   "cell_type": "code",
   "execution_count": 15,
   "id": "436c8093",
   "metadata": {},
   "outputs": [
    {
     "name": "stdout",
     "output_type": "stream",
     "text": [
      "(<class '__main__.Sith'>, <class '__main__.Jedi'>)\n"
     ]
    }
   ],
   "source": [
    "class Jedi:\n",
    "    def __init__(self):\n",
    "        self.force = 10\n",
    "        \n",
    "class Sith:\n",
    "    def __init__(self):\n",
    "        self.force = 15\n",
    "        self.bases = 1\n",
    "        \n",
    "class Padawan(Sith, Jedi):\n",
    "    def __init__(self):\n",
    "        super().__init__()\n",
    "    \n",
    "Luke=Padawan()\n",
    "print(Padawan.__bases__)"
   ]
  },
  {
   "cell_type": "code",
   "execution_count": 17,
   "id": "0229015a",
   "metadata": {},
   "outputs": [
    {
     "name": "stdout",
     "output_type": "stream",
     "text": [
      "Function Error #2\n",
      "None\n"
     ]
    }
   ],
   "source": [
    "def list_func(x):\n",
    "    try:\n",
    "        return x[4]/x[-1]\n",
    "    except ZeroDivisionError:\n",
    "        print(\"Function Error #1\")\n",
    "        raise\n",
    "    except IndexError:\n",
    "        print(\"Function Error #2\")\n",
    "        raise\n",
    "    except:\n",
    "        print(\"Function Error #3\")\n",
    "        raise\n",
    "    \n",
    "my_list=[3,4,1,0]\n",
    "try:\n",
    "    print(list_func(my_list))\n",
    "except LookupError:\n",
    "    print(\"Program Error #1\")\n",
    "except ArithmeticError:\n",
    "    print(\"Program Error #2\")\n",
    "except:\n",
    "    print(\"Program Error #3\")"
   ]
  },
  {
   "cell_type": "code",
   "execution_count": 18,
   "id": "324888d8",
   "metadata": {},
   "outputs": [
    {
     "name": "stdout",
     "output_type": "stream",
     "text": [
      "Windows\n",
      "10.0.26100\n",
      "CPython\n",
      "3.13.6\n"
     ]
    }
   ],
   "source": [
    "from platform import system, version, python_implementation, python_version\n",
    "print(system())                # Linux\n",
    "print(version())               # #242-Ubuntu SMP Fri Apr 16 09:57:56 UTC 2021\n",
    "print(python_implementation()) # CPython\n",
    "print(python_version())        # 3.7.10"
   ]
  },
  {
   "cell_type": "code",
   "execution_count": 19,
   "id": "b7390349",
   "metadata": {},
   "outputs": [
    {
     "name": "stdout",
     "output_type": "stream",
     "text": [
      "[1, 2]\n",
      "[1, 2]\n",
      "[1, 2]\n"
     ]
    }
   ],
   "source": [
    "def myfunc(n):\n",
    "    res = 1\n",
    "    for i in range(n,n+2,1):\n",
    "        yield res\n",
    "        res*= 2\n",
    "    \n",
    "y = [x for x in myfunc(3)]\n",
    "print(y)            # [1,2]\n",
    "    \n",
    "y = [x for x in myfunc(4)]\n",
    "print(y)            # [1,2]\n",
    "    \n",
    "y = [x for x in myfunc(5)]\n",
    "print(y)            # [1,2]"
   ]
  },
  {
   "cell_type": "code",
   "execution_count": 22,
   "id": "56b6a040",
   "metadata": {},
   "outputs": [
    {
     "name": "stdout",
     "output_type": "stream",
     "text": [
      "{'name': 'Vader', 'lightsaber': 1, '_Sith__son': 'Luke', '__daughter': 'Leia'}\n"
     ]
    }
   ],
   "source": [
    "class Sith:\n",
    "    darkside= True\n",
    "    def __init__(self, x, y):\n",
    "        self.name = x\n",
    "        self.lightsaber = 1\n",
    "        self.__son = y\n",
    "    def __str__(self):\n",
    "        return self.name\n",
    "    \n",
    "Vader = Sith(\"Vader\", \"Luke\")\n",
    "Vader.__daughter = 'Leia'\n",
    "print(Vader.__dict__)"
   ]
  },
  {
   "cell_type": "code",
   "execution_count": 24,
   "id": "22251463",
   "metadata": {},
   "outputs": [
    {
     "name": "stdout",
     "output_type": "stream",
     "text": [
      "Hello I am a Droid and my name is R2D2\n"
     ]
    }
   ],
   "source": [
    "class Robot:\n",
    "    def __init__(self, name):\n",
    "        self.name = name\n",
    "    def __str__(self):\n",
    "        return \"My name is \" + self.name\n",
    "    \n",
    "class Droid(Robot):\n",
    "    def __str__(self):\n",
    "        return \"Hello I am a Droid and my name is \" + self.name\n",
    "\n",
    "R2D2 = Droid(\"R2D2\")\n",
    "print(R2D2)        # Hello I am a Droid and my name is R2D2"
   ]
  },
  {
   "cell_type": "code",
   "execution_count": null,
   "id": "a02c81d4",
   "metadata": {},
   "outputs": [],
   "source": [
    "f = open('myfilex.txt','x+t')\n",
    "f.write('Hello World !\\n')\n",
    "f.seek(0)\n",
    "print(f.read())\n",
    "f.close()\n"
   ]
  },
  {
   "cell_type": "code",
   "execution_count": 56,
   "id": "c94b488e",
   "metadata": {},
   "outputs": [
    {
     "name": "stdout",
     "output_type": "stream",
     "text": [
      "67 30\n"
     ]
    }
   ],
   "source": [
    "class A:\n",
    "    def __init__(self, v=11):\n",
    "        self.x = v\n",
    "        \n",
    "class B(A):\n",
    "    def __init__(self,v):\n",
    "        super().__init__(v)\n",
    "        #A.__init__(self, v=22)\n",
    "        self.z = 30\n",
    "\n",
    "b = B(67)\n",
    "print(b.x, b.z)   # 10 30"
   ]
  },
  {
   "cell_type": "code",
   "execution_count": 59,
   "id": "7a26b1a9",
   "metadata": {},
   "outputs": [
    {
     "name": "stdout",
     "output_type": "stream",
     "text": [
      "Luke\n",
      "Luke\n"
     ]
    }
   ],
   "source": [
    "class Jedi:\n",
    "    def __init__(self, name):\n",
    "        self.name = name\n",
    "    def Print(self):\n",
    "        return self.name\n",
    "    def __repr__(self):\n",
    "        return self.name\n",
    "\n",
    "\n",
    "Luke = Jedi('Luke')\n",
    "print(Luke) \n",
    "print(Luke.Print())"
   ]
  },
  {
   "cell_type": "code",
   "execution_count": 62,
   "id": "f00d1eaf",
   "metadata": {},
   "outputs": [
    {
     "name": "stdout",
     "output_type": "stream",
     "text": [
      "Método __str__\n",
      "Método __str__\n",
      "Método __repr__\n"
     ]
    }
   ],
   "source": [
    "class Exemplo:\n",
    "    def __str__(self):\n",
    "        return \"Método __str__\"\n",
    "    \n",
    "    def __repr__(self):\n",
    "        return \"Método __repr__\"\n",
    "\n",
    "e = Exemplo()\n",
    "print(e)           # Chama __str__ → \"Método __str__\"\n",
    "print(str(e))      # Chama __str__ → \"Método __str__\"\n",
    "print(repr(e))     # Chama __repr__ → \"Método __repr__\""
   ]
  },
  {
   "cell_type": "code",
   "execution_count": null,
   "id": "593fce6c",
   "metadata": {},
   "outputs": [],
   "source": [
    "mystring='Skywalker'\n",
    "n=0\n",
    "while n<=len(mystring):\n",
    "    print(mystring[n],end='')\n",
    "    if mystring[n]=='y':\n",
    "        break\n",
    "    else:  \n",
    "        continue\n",
    "    n+=1\n",
    "else:\n",
    "    print(mystring[0])"
   ]
  },
  {
   "cell_type": "code",
   "execution_count": 66,
   "id": "00794bcc",
   "metadata": {},
   "outputs": [
    {
     "name": "stdout",
     "output_type": "stream",
     "text": [
      "9,3,1,7,2,-----\n",
      "1\n"
     ]
    }
   ],
   "source": [
    "from random import random\n",
    "from math import floor\n",
    "    \n",
    "for i in range(5):\n",
    "    print(floor(random()*10),end=',')\n",
    "print(\"-----\")\n",
    "print(floor(1.9))"
   ]
  },
  {
   "cell_type": "code",
   "execution_count": 70,
   "id": "1be9373a",
   "metadata": {},
   "outputs": [
    {
     "name": "stdout",
     "output_type": "stream",
     "text": [
      "Error\n",
      "Completed\n",
      "None\n"
     ]
    }
   ],
   "source": [
    "def myfunc(x):\n",
    "    try:\n",
    "        y = 1 / x\n",
    "    except ZeroDivisionError:\n",
    "        print(\"Failure\")\n",
    "    except:\n",
    "        print(\"Error\")\n",
    "        #return \"é lixado este erro :-)\"\n",
    "    else:\n",
    "        print(\"Everything OK\")\n",
    "        return y\n",
    "    finally:\n",
    "        print(\"Completed\")\n",
    "    \n",
    "    \n",
    "print(myfunc('0'))\n"
   ]
  },
  {
   "cell_type": "code",
   "execution_count": 73,
   "id": "1e963366",
   "metadata": {},
   "outputs": [
    {
     "name": "stdout",
     "output_type": "stream",
     "text": [
      "batatas\n",
      "Can't divide by string ! (\"Can't divide by string !\",)\n"
     ]
    }
   ],
   "source": [
    "class AlphaDivisionError(ZeroDivisionError):\t\n",
    "    def __init__(self, message):\n",
    "        ZeroDivisionError.__init__(self, message)\n",
    "    \n",
    "def func_div(x,y):\n",
    "    if y==0:\n",
    "        raise ZeroDivisionError(\"Can't divide by zero !\")\n",
    "    elif isinstance(y, str):\t\t\n",
    "        raise AlphaDivisionError(\"Can't divide by string !\")\n",
    "    else:\t\t\n",
    "        return x/y\n",
    "    \n",
    "try:\n",
    "    print(func_div(4,'a'))\n",
    "except ZeroDivisionError as e:\n",
    "    #print(\"batatas\")\n",
    "    print(str(e))                    # Can't divide by string !\n",
    "except Exception as e:\n",
    "    print(\"There is an error !\")\n",
    "else:\n",
    "    print('All good !')"
   ]
  },
  {
   "cell_type": "code",
   "execution_count": 78,
   "id": "b56f6077",
   "metadata": {},
   "outputs": [
    {
     "name": "stdout",
     "output_type": "stream",
     "text": [
      "dog\n",
      "\n",
      "cat\n",
      "\n"
     ]
    }
   ],
   "source": [
    "f = open(\"animals.txt\", \"r\")\n",
    "print(f.readline(20))        # This is my test file\n",
    "print(f.readline(20))        # This is my test file"
   ]
  },
  {
   "cell_type": "code",
   "execution_count": 79,
   "id": "8bca7abf",
   "metadata": {},
   "outputs": [
    {
     "name": "stdout",
     "output_type": "stream",
     "text": [
      "[['L', 'u', 'k', 'e'], ['L', 'u', 'k', 'e'], ['L', 'u', 'k', 'e']]\n"
     ]
    }
   ],
   "source": [
    "mylist1 = [[i for i in 'Luke'] for j in range(3)]\n",
    "print(mylist1)   # [['L', 'u', 'k', 'e'], ['L', 'u', 'k', 'e'], ['L', 'u', 'k', 'e']]"
   ]
  },
  {
   "cell_type": "code",
   "execution_count": 80,
   "id": "462eaa26",
   "metadata": {},
   "outputs": [
    {
     "name": "stdout",
     "output_type": "stream",
     "text": [
      "[['L', 'u', 'k', 'e'], ['L', 'u', 'k', 'e'], ['L', 'u', 'k', 'e']]\n",
      "['L', 'u', 'k', 'e']\n",
      "['L', 'u', 'k', 'e']\n",
      "['L', 'u', 'k', 'e']\n",
      "Luke!\n"
     ]
    }
   ],
   "source": [
    "mylist1 = [[i for i in 'Luke'] for j in range(3)]\n",
    "mylist2 =[]\n",
    "    \n",
    "print(mylist1)       # [['L', 'u', 'k', 'e'], ['L', 'u', 'k', 'e'], ['L', 'u', 'k', 'e']]\n",
    "    \n",
    "for x in mylist1:\n",
    "    print (x)        # ['L', 'u', 'k', 'e']\n",
    "    for y in x:      # 'L' --> 'u' --> 'k' --> 'e'\n",
    "        if y in mylist2:\n",
    "            continue\n",
    "        else:\n",
    "            mylist2.append(y)\n",
    "else:       \n",
    "    mylist2.append('!')\n",
    "print(''.join(mylist2)) # Luke!"
   ]
  },
  {
   "cell_type": "code",
   "execution_count": 84,
   "id": "c15f5a64",
   "metadata": {},
   "outputs": [
    {
     "name": "stdout",
     "output_type": "stream",
     "text": [
      "[['M', 'v', 'l', 'f'], ['M', 'v', 'l', 'f'], ['M', 'v', 'l', 'f']]\n"
     ]
    }
   ],
   "source": [
    "mylist1 = [[chr(ord(i)+1) for i in 'Luke'] for j in range(3)]\n",
    "print(mylist1)       # [['M', 'v', 'l', 'f'], ['M', 'v', 'l', 'f'], ['M', 'v', 'l', 'f']]"
   ]
  },
  {
   "cell_type": "code",
   "execution_count": null,
   "id": "657844cf",
   "metadata": {},
   "outputs": [
    {
     "name": "stdout",
     "output_type": "stream",
     "text": [
      "1\n",
      "2\n",
      "3\n",
      "I am master Jedi Baby Yoda\n"
     ]
    }
   ],
   "source": [
    "class Jedi:\n",
    "    Force = 0\n",
    "    def __init__(self,name):\n",
    "        Jedi.Force +=1\n",
    "        self.name = name\n",
    "    def __str__(self):\n",
    "        return \"I am master Jedi \" + self.name\n",
    "    \n",
    "class Padawan(Jedi):\n",
    "    def print(self):\n",
    "        return \"I am a Padawan\"\n",
    "    \n",
    "Luke=Jedi('Luke')\n",
    "print(Jedi.Force)                # 1\n",
    "\n",
    "Ben=Jedi('Ben')\n",
    "print(Jedi.Force)                # 2\n",
    "\n",
    "Baby_Yoda=Padawan('Baby Yoda')\n",
    "print(Jedi.Force)                # 3\n",
    "\n",
    "print(Baby_Yoda)                 # I am master Jedi Baby Yoda\n"
   ]
  },
  {
   "cell_type": "code",
   "execution_count": 86,
   "id": "f7b45f3f",
   "metadata": {},
   "outputs": [],
   "source": [
    "try:\n",
    "    f = open('myfile.txt', 'wt')\n",
    "    for i in range(10):\n",
    "        s = \"line #\" + str(i+1) + \"\\n\"\n",
    "        f.write(s)\n",
    "    f.close()\n",
    "except:\n",
    "    print(\"I/O error occurred:\")\n",
    "# End of code"
   ]
  },
  {
   "cell_type": "code",
   "execution_count": 10,
   "id": "fc970945",
   "metadata": {},
   "outputs": [
    {
     "name": "stdout",
     "output_type": "stream",
     "text": [
      "['line #1\\n', 'line #2\\n', 'line #3\\n', 'line #4\\n', 'line #5\\n', 'line #6\\n', 'line #7\\n', 'line #8\\n', 'line #9\\n', 'line #10\\n']\n"
     ]
    }
   ],
   "source": [
    "f = open('myfile.txt', 'r')\n",
    "#data = f.readlines(10)\n",
    "data = f.readlines()\n",
    "print(data)\n",
    "f.close()             "
   ]
  },
  {
   "cell_type": "code",
   "execution_count": null,
   "id": "c3ac6dc7",
   "metadata": {},
   "outputs": [],
   "source": []
  }
 ],
 "metadata": {
  "kernelspec": {
   "display_name": "Python 3",
   "language": "python",
   "name": "python3"
  },
  "language_info": {
   "codemirror_mode": {
    "name": "ipython",
    "version": 3
   },
   "file_extension": ".py",
   "mimetype": "text/x-python",
   "name": "python",
   "nbconvert_exporter": "python",
   "pygments_lexer": "ipython3",
   "version": "3.13.6"
  }
 },
 "nbformat": 4,
 "nbformat_minor": 5
}
