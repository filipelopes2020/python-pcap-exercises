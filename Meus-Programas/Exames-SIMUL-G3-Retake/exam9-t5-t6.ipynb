{
 "cells": [
  {
   "cell_type": "code",
   "execution_count": 3,
   "id": "c521b7f2",
   "metadata": {},
   "outputs": [
    {
     "name": "stdout",
     "output_type": "stream",
     "text": [
      "5 5\n",
      "0 0\n",
      "0 5\n"
     ]
    }
   ],
   "source": [
    "def f(l):\n",
    "    for c in l:\n",
    "        yield c ** 2\n",
    " \n",
    "g1 = f([1, 2])\n",
    "g2 = (i * i for i in range(3))\n",
    " \n",
    "s1, s2 = sum(g1), sum(g2) # line 8\n",
    "print(s1, s2)             # line 9\n",
    "                          # line 10\n",
    "s4, s5 = sum(g1), sum(g2) # line 11\n",
    "print(s4, s5)  \n",
    "g2 = (i * i for i in range(3))# line 12\n",
    "s4, s5 = sum(g1), sum(g2) # line 11\n",
    "print(s4, s5)             # line 12"
   ]
  },
  {
   "cell_type": "code",
   "execution_count": 8,
   "id": "c8afa89d",
   "metadata": {},
   "outputs": [
    {
     "name": "stdout",
     "output_type": "stream",
     "text": [
      "2\n"
     ]
    }
   ],
   "source": [
    "a = 2\n",
    "    \n",
    "x = 1 if a > 1 else 1/0\n",
    "y = 1 if a == 2 else 0\n",
    "    \n",
    "print(x + y)"
   ]
  },
  {
   "cell_type": "code",
   "execution_count": 13,
   "id": "c3b25b26",
   "metadata": {},
   "outputs": [
    {
     "name": "stdout",
     "output_type": "stream",
     "text": [
      "<class 'str'>\n",
      "<class 'list'>\n",
      "['Uma string qualquer']\n"
     ]
    }
   ],
   "source": [
    "x = \"Uma string qualquer\"  # x é uma string\n",
    "y = x.split(\",\",2)              # y é uma lista criada a partir de x\n",
    "print(type(x))  # <class 'str'>\n",
    "print(type(y))  # <class 'list'>\n",
    "print(y)"
   ]
  },
  {
   "cell_type": "code",
   "execution_count": 29,
   "id": "b1619045",
   "metadata": {},
   "outputs": [
    {
     "name": "stdout",
     "output_type": "stream",
     "text": [
      "B\n",
      "(<class '__main__.A'>, <class '__main__.B'>)\n",
      "{'x': 10}\n"
     ]
    }
   ],
   "source": [
    "class A:\n",
    "    def __init__(self):\n",
    "        self.x = 10\n",
    "    def method(self):\n",
    "        print('A')\n",
    "    \n",
    "class B:\n",
    "    def method(self):\n",
    "        print('B')\n",
    "    \n",
    "class C(A, B):\n",
    "    def method(self):\n",
    "        print('C')\n",
    "    def __init__(self):\n",
    "        super().__init__()\n",
    "        #self.y=11\n",
    " \n",
    "obj = C.__bases__[1]()\n",
    "obj.method()\n",
    "c=C()\n",
    "print(C.__bases__)\n",
    "print(c.__dict__)"
   ]
  },
  {
   "cell_type": "code",
   "execution_count": 43,
   "id": "0b5611b7",
   "metadata": {},
   "outputs": [
    {
     "name": "stdout",
     "output_type": "stream",
     "text": [
      "['o', 'n', 'P']\n"
     ]
    }
   ],
   "source": [
    "import random as r\n",
    "    \n",
    "print(r.sample(\"Python\", 3))"
   ]
  },
  {
   "cell_type": "code",
   "execution_count": null,
   "id": "6c4772ef",
   "metadata": {},
   "outputs": [],
   "source": [
    "class MyExcept(Exception):\n",
    "    \n",
    "    def __init__(self, description = 'message A'):\n",
    "        self.message = description\n",
    "        \n",
    "    def __str__(self):\n",
    "        return 'message B'\n",
    "    \n",
    "try:    \n",
    "    raise Exception('message C')\n",
    "    \n",
    "except MyExcept as err:\n",
    "    print(err)\n",
    "    \n",
    "else:\n",
    "    print('message D')"
   ]
  },
  {
   "cell_type": "code",
   "execution_count": 50,
   "id": "0f866602",
   "metadata": {},
   "outputs": [
    {
     "name": "stdout",
     "output_type": "stream",
     "text": [
      "dog\n",
      "\n",
      "cat\n",
      "\n",
      "foxn\n",
      "\n",
      "fox\n",
      "\n",
      "bat\n",
      "\n",
      "tiger\n",
      "\n",
      "fox\n",
      "\n",
      "dolphin\n"
     ]
    }
   ],
   "source": [
    "strm = open('animals.txt')\n",
    "for l in strm:\n",
    "    print(l)"
   ]
  },
  {
   "cell_type": "code",
   "execution_count": 64,
   "id": "5a72903e",
   "metadata": {},
   "outputs": [
    {
     "name": "stdout",
     "output_type": "stream",
     "text": [
      "Learn-to-code\n",
      "It Was$a Dark$and$Stormy Night\n"
     ]
    }
   ],
   "source": [
    "l1 = [\"It Was\", \"a Dark\", \"and\", \"Stormy Night\"]\n",
    "    \n",
    "#l2 = \"\".join(l1).split()\n",
    "l2 = \"$\".join(l1)\n",
    "l3=\"-\".join((\"Learn\", \"to\", \"code\"))\n",
    "print(l3)\n",
    "print(l2)\n",
    "#print(l2[2])"
   ]
  },
  {
   "cell_type": "code",
   "execution_count": null,
   "id": "2e01b088",
   "metadata": {},
   "outputs": [
    {
     "name": "stdout",
     "output_type": "stream",
     "text": [
      "0 1 2\n"
     ]
    }
   ],
   "source": [
    "[a, b, c] = range(3)\n",
    "\n",
    "print(a, b, c)"
   ]
  },
  {
   "cell_type": "code",
   "execution_count": 69,
   "id": "b15a41e7",
   "metadata": {},
   "outputs": [
    {
     "name": "stdout",
     "output_type": "stream",
     "text": [
      "True\n",
      "__main__\n"
     ]
    }
   ],
   "source": [
    "\n",
    "class A():\n",
    "    pass\n",
    "    \n",
    "class B():\n",
    "    pass\n",
    "    \n",
    "class C(B, A):\n",
    "    pass\n",
    "    \n",
    "instance = C()\n",
    "    \n",
    "print(__name__ == \"__main__\")\n",
    "print(C.__module__)"
   ]
  },
  {
   "cell_type": "code",
   "execution_count": 71,
   "id": "1d675465",
   "metadata": {},
   "outputs": [
    {
     "name": "stdout",
     "output_type": "stream",
     "text": [
      "abc /'def/'\n",
      "My name's \"Mario\"\n",
      " 'abc' \"def\" \n"
     ]
    }
   ],
   "source": [
    "print(\"abc /'def/'\")\n",
    "print(\"My name's \\\"Mario\\\"\") \n",
    "print(\"\"\" 'abc' \"def\" \"\"\")\n"
   ]
  },
  {
   "cell_type": "code",
   "execution_count": 73,
   "id": "eb3f185e",
   "metadata": {},
   "outputs": [
    {
     "name": "stdout",
     "output_type": "stream",
     "text": [
      "7\n"
     ]
    }
   ],
   "source": [
    "a = 1000\n",
    "    \n",
    "x = lambda b: 3 * 2\n",
    "    \n",
    "print(x(a) + 1)"
   ]
  },
  {
   "cell_type": "code",
   "execution_count": null,
   "id": "080be956",
   "metadata": {},
   "outputs": [
    {
     "ename": "SyntaxError",
     "evalue": "did you forget parentheses around the comprehension target? (1246629450.py, line 10)",
     "output_type": "error",
     "traceback": [
      "  \u001b[36mCell\u001b[39m\u001b[36m \u001b[39m\u001b[32mIn[86]\u001b[39m\u001b[32m, line 10\u001b[39m\n\u001b[31m    \u001b[39m\u001b[31mw = {(chave * 2), for chave in z.keys()}\u001b[39m\n          ^\n\u001b[31mSyntaxError\u001b[39m\u001b[31m:\u001b[39m did you forget parentheses around the comprehension target?\n"
     ]
    }
   ],
   "source": [
    "x = [0, 1, 2]\n",
    "z = {1: \"batatas\", 2: \"kouves\"}\n",
    "\n",
    "# Multiplicar lista (funciona)\n",
    "y = x * 2\n",
    "print(y)  # Output: [0, 1, 2, 0, 1, 2]\n",
    "\n",
    "# Multiplicar as CHAVES do dicionário\n",
    "w = {chave * 3: valor+\" nada\" for chave, valor in z.items()}\n",
    "#w = {(chave * 2), for chave in z.keys()} \n",
    "print(w)  # Output: {2: 'batatas', 4: 'kouves'}"
   ]
  },
  {
   "cell_type": "code",
   "execution_count": 88,
   "id": "9ca0d409",
   "metadata": {},
   "outputs": [
    {
     "name": "stdout",
     "output_type": "stream",
     "text": [
      "<__main__.A object at 0x000001FE9A1C5010>\n"
     ]
    }
   ],
   "source": [
    "class A:\n",
    "    def __init__(self):\n",
    "        #return \"Python\"\n",
    "        return None\n",
    "                \n",
    "print(A())"
   ]
  },
  {
   "cell_type": "code",
   "execution_count": 94,
   "id": "5d338fd1",
   "metadata": {},
   "outputs": [
    {
     "name": "stdout",
     "output_type": "stream",
     "text": [
      "-2\n",
      "3\n",
      "7\n"
     ]
    }
   ],
   "source": [
    "class A:\n",
    "    x = 1\n",
    "    \n",
    "    def __init__(self, n):        \n",
    "        if n <= 0:\n",
    "            A.x = -n\n",
    "            self.a = n\n",
    "        else:            \n",
    "            A.x += 1\n",
    "            self.a = n + 1\n",
    "    \n",
    "obj1 = A(-2)\n",
    "obj2 = A(2)\n",
    "    \n",
    "y = obj1.x + obj2.x + obj1.a + obj2.a\n",
    "#print(obj1.x)\n",
    "print(obj1.a)\n",
    "#print(obj2.x)\n",
    "print(obj2.a)\n",
    "    \n",
    "print(y)"
   ]
  },
  {
   "cell_type": "code",
   "execution_count": 99,
   "id": "6f5ee56b",
   "metadata": {},
   "outputs": [
    {
     "name": "stdout",
     "output_type": "stream",
     "text": [
      "[1, 1, 4] "
     ]
    }
   ],
   "source": [
    "def fun(n):\n",
    "    for i in range(n):\n",
    "        yield i ** i\n",
    "\n",
    "y = fun(3)\n",
    "print(list(y), end=' ')"
   ]
  },
  {
   "cell_type": "code",
   "execution_count": 105,
   "id": "c93fd9bb",
   "metadata": {},
   "outputs": [
    {
     "name": "stdout",
     "output_type": "stream",
     "text": [
      "<generator object fun at 0x000001FE9AD301E0>\n"
     ]
    }
   ],
   "source": [
    "def fun(n):\n",
    "    for i in range(n):\n",
    "        yield i ** i\n",
    "    #return i ** i\n",
    "\n",
    "print(fun(3))\n",
    "#y = fun(3)\n",
    "#for valor in y:\n",
    "#    print(valor, end=' ')"
   ]
  },
  {
   "cell_type": "code",
   "execution_count": 112,
   "id": "e9e3b13c",
   "metadata": {},
   "outputs": [
    {
     "name": "stdout",
     "output_type": "stream",
     "text": [
      "True\n",
      "21\n"
     ]
    }
   ],
   "source": [
    "print(max(\"It was a dark and stormy night\") == 'y') # True\n",
    "print(max({1,2,3,6,21}))"
   ]
  },
  {
   "cell_type": "code",
   "execution_count": null,
   "id": "d99be054",
   "metadata": {},
   "outputs": [
    {
     "name": "stdout",
     "output_type": "stream",
     "text": [
      "('error B',)\n"
     ]
    }
   ],
   "source": [
    "class MyError(Exception):\n",
    "    def __init__(self, msg='error A'):\n",
    "        Exception.__init__(self, msg)\n",
    "try: \n",
    "    raise MyError(\"Batatas\")\n",
    "    raise MyError(\"error B\")\n",
    "except Exception as e:\n",
    "    print(e.args)\n",
    "except: \n",
    "    print(\"Kouves\")"
   ]
  },
  {
   "cell_type": "code",
   "execution_count": 117,
   "id": "718b87c9",
   "metadata": {},
   "outputs": [
    {
     "name": "stdout",
     "output_type": "stream",
     "text": [
      "['a', 'b', 'c', 'x', 'y', 'z']\n"
     ]
    }
   ],
   "source": [
    "txt = \"zcbayx\"\n",
    "x=sorted(txt)\n",
    "print(x,)"
   ]
  },
  {
   "cell_type": "code",
   "execution_count": 132,
   "id": "21a7b47f",
   "metadata": {},
   "outputs": [
    {
     "name": "stdout",
     "output_type": "stream",
     "text": [
      "error A\n"
     ]
    }
   ],
   "source": [
    "class MyExcept(Exception):\n",
    "    def __init__(self, msg):                      \n",
    "        #self.args = 'error B',      \n",
    "        #self.args = \"batatas\"\n",
    "        self.msg = msg\n",
    "    \n",
    "try:\n",
    "    raise MyExcept('error A')\n",
    "except MyExcept as err:\n",
    "    print(err)"
   ]
  },
  {
   "cell_type": "code",
   "execution_count": 134,
   "id": "dd3723c3",
   "metadata": {},
   "outputs": [
    {
     "name": "stdout",
     "output_type": "stream",
     "text": [
      "False\n",
      "True\n",
      "True\n"
     ]
    }
   ],
   "source": [
    "#print(ord(ord('z')) == 'z')\n",
    "print(chr(ord('X') + 2) == 'z')\n",
    "print(ord('z') > ord('Z'))\n",
    "print(chr(ord('a')) == 'a')"
   ]
  },
  {
   "cell_type": "code",
   "execution_count": 15,
   "id": "1d502996",
   "metadata": {},
   "outputs": [
    {
     "ename": "TypeError",
     "evalue": "int() argument must be a string, a bytes-like object or a real number, not 'list'",
     "output_type": "error",
     "traceback": [
      "\u001b[31m---------------------------------------------------------------------------\u001b[39m",
      "\u001b[31mTypeError\u001b[39m                                 Traceback (most recent call last)",
      "\u001b[36mCell\u001b[39m\u001b[36m \u001b[39m\u001b[32mIn[15]\u001b[39m\u001b[32m, line 4\u001b[39m\n\u001b[32m      1\u001b[39m l = [\u001b[32m1\u001b[39m, \u001b[32m2\u001b[39m, \u001b[32m3\u001b[39m]\n\u001b[32m      2\u001b[39m \u001b[38;5;66;03m#l.index(2)\u001b[39;00m\n\u001b[32m      3\u001b[39m \u001b[38;5;66;03m#l.find(2)\u001b[39;00m\n\u001b[32m----> \u001b[39m\u001b[32m4\u001b[39m \u001b[38;5;28mprint\u001b[39m(\u001b[38;5;28;43mint\u001b[39;49m\u001b[43m(\u001b[49m\u001b[43m[\u001b[49m\u001b[32;43m1\u001b[39;49m\u001b[43m,\u001b[49m\u001b[32;43m2\u001b[39;49m\u001b[43m]\u001b[49m\u001b[43m)\u001b[49m)\n",
      "\u001b[31mTypeError\u001b[39m: int() argument must be a string, a bytes-like object or a real number, not 'list'"
     ]
    }
   ],
   "source": [
    "l = [1, 2, 3]\n",
    "#l.index(2)\n",
    "#l.find(2)\n",
    "print(int([1,2]))"
   ]
  },
  {
   "cell_type": "code",
   "execution_count": 16,
   "id": "f965a952",
   "metadata": {},
   "outputs": [
    {
     "ename": "ValueError",
     "evalue": "5 is not in list",
     "output_type": "error",
     "traceback": [
      "\u001b[31m---------------------------------------------------------------------------\u001b[39m",
      "\u001b[31mValueError\u001b[39m                                Traceback (most recent call last)",
      "\u001b[36mCell\u001b[39m\u001b[36m \u001b[39m\u001b[32mIn[16]\u001b[39m\u001b[32m, line 2\u001b[39m\n\u001b[32m      1\u001b[39m l = [\u001b[32m1\u001b[39m, \u001b[32m2\u001b[39m, \u001b[32m3\u001b[39m]\n\u001b[32m----> \u001b[39m\u001b[32m2\u001b[39m \u001b[43ml\u001b[49m\u001b[43m.\u001b[49m\u001b[43mindex\u001b[49m\u001b[43m(\u001b[49m\u001b[32;43m5\u001b[39;49m\u001b[43m)\u001b[49m\n",
      "\u001b[31mValueError\u001b[39m: 5 is not in list"
     ]
    }
   ],
   "source": [
    "l = [1, 2, 3]\n",
    "l.index(5)"
   ]
  },
  {
   "cell_type": "code",
   "execution_count": 1,
   "id": "b02681f5",
   "metadata": {},
   "outputs": [
    {
     "name": "stdout",
     "output_type": "stream",
     "text": [
      "1\n",
      "3\n",
      "5\n",
      "-1\n"
     ]
    }
   ],
   "source": [
    "frase = \"banana\"\n",
    "\n",
    "print(frase.find(\"a\"))          # 1 (primeiro \"a\")\n",
    "print(frase.find(\"a\", 2))       # 3 (busca a partir do índice 2)\n",
    "print(frase.find(\"a\", 4, 6))    # 5 (busca entre índices 4 e 5)\n",
    "print(frase.find(\"a\", 4, 5))    # -1 (não encontrou nesse intervalo)"
   ]
  },
  {
   "cell_type": "code",
   "execution_count": 2,
   "id": "507eb182",
   "metadata": {},
   "outputs": [
    {
     "name": "stdout",
     "output_type": "stream",
     "text": [
      "200\n"
     ]
    }
   ],
   "source": [
    "class A:   \n",
    "    def __init__(self, n = 1):\n",
    "        if n > 0:\n",
    "            A.x = n * 2            \n",
    "    \n",
    "obj1 = A(10)\n",
    "obj2 = A(100)\n",
    "        \n",
    "print(obj1.x)"
   ]
  },
  {
   "cell_type": "code",
   "execution_count": 6,
   "id": "b7c2f6a8",
   "metadata": {},
   "outputs": [
    {
     "name": "stdout",
     "output_type": "stream",
     "text": [
      "**\n"
     ]
    }
   ],
   "source": [
    "x = '*' * 2\n",
    "print(x)  # Output: '' (empty string)"
   ]
  },
  {
   "cell_type": "code",
   "execution_count": 9,
   "id": "afc6ca7c",
   "metadata": {},
   "outputs": [
    {
     "name": "stdout",
     "output_type": "stream",
     "text": [
      "1\n"
     ]
    }
   ],
   "source": [
    "x = 1\n",
    "    \n",
    "for i in range(-3):    \n",
    "    x = '*' * i\n",
    "    print(\"ola\")\n",
    "    break\n",
    "\n",
    "print(x)  # Output: '' (empty string)"
   ]
  },
  {
   "cell_type": "code",
   "execution_count": 11,
   "id": "7e6c638c",
   "metadata": {},
   "outputs": [
    {
     "name": "stdout",
     "output_type": "stream",
     "text": [
      "<class 'ZeroDivisionError'>\n"
     ]
    }
   ],
   "source": [
    "x = int(input(\"Enter a number: \"))\n",
    "    \n",
    "try:\n",
    "    print(x / 0)\n",
    "    \n",
    "except (ValueError, AttributeError, TypeError, ZeroDivisionError) as e:\n",
    "    print(type(e))"
   ]
  },
  {
   "cell_type": "code",
   "execution_count": 19,
   "id": "4f0129cd",
   "metadata": {},
   "outputs": [
    {
     "name": "stdout",
     "output_type": "stream",
     "text": [
      "12\n",
      "2\n"
     ]
    }
   ],
   "source": [
    "class A:\n",
    "    __x = 2\n",
    "    \n",
    "obj = A()\n",
    "    \n",
    "obj._A__x += 10\n",
    "    \n",
    "print(obj._A__x)\n",
    "print(A._A__x)"
   ]
  },
  {
   "cell_type": "code",
   "execution_count": 26,
   "id": "601f9021",
   "metadata": {},
   "outputs": [
    {
     "name": "stdout",
     "output_type": "stream",
     "text": [
      "<function <lambda> at 0x0000023557C93100>\n",
      "16\n"
     ]
    }
   ],
   "source": [
    "a = lambda x: x**2\n",
    "print(a) \n",
    "print(a(4))"
   ]
  },
  {
   "cell_type": "code",
   "execution_count": 27,
   "id": "5f8bb5f7",
   "metadata": {},
   "outputs": [
    {
     "name": "stdout",
     "output_type": "stream",
     "text": [
      "10\n"
     ]
    }
   ],
   "source": [
    "class A:\n",
    "    def __init__(self, n=1):\n",
    "        self.x = n\n",
    "    \n",
    "class B(A):    \n",
    "    def __init__(self, m):        \n",
    "        self.y = m                 \n",
    "        super().__init__(self.y)  # fixed here\n",
    "    \n",
    "obj = B(10)\n",
    "    \n",
    "print(obj.x)"
   ]
  },
  {
   "cell_type": "code",
   "execution_count": 31,
   "id": "29013dca",
   "metadata": {},
   "outputs": [
    {
     "name": "stdout",
     "output_type": "stream",
     "text": [
      "10\n",
      "{'y': 10, 'x': 10}\n"
     ]
    }
   ],
   "source": [
    "class A:\n",
    "    def __init__(self, n = 1):\n",
    "        self.x = n\n",
    " \n",
    "class B(A):    \n",
    "    def __init__(self, m):\n",
    "        self.y = m\n",
    "        #super().__init__(self.y)        \n",
    "        super().__init__(m)\n",
    " \n",
    "obj = B(10)\n",
    " \n",
    "print(obj.x)\n",
    "print(obj.__dict__)"
   ]
  },
  {
   "cell_type": "code",
   "execution_count": 32,
   "id": "d662696c",
   "metadata": {},
   "outputs": [
    {
     "name": "stdout",
     "output_type": "stream",
     "text": [
      "a a\n"
     ]
    }
   ],
   "source": [
    "x = None or \"a\"\n",
    "y = [None] and \"a\"\n",
    "    \n",
    "print(x, y)"
   ]
  },
  {
   "cell_type": "code",
   "execution_count": 4,
   "id": "e4eb8bea",
   "metadata": {},
   "outputs": [
    {
     "name": "stdout",
     "output_type": "stream",
     "text": [
      "A\n",
      "A\n",
      "(<class '__main__.A'>, <class '__main__.H'>, <class '__main__.T'>, <class 'object'>)\n"
     ]
    }
   ],
   "source": [
    "class T:\n",
    "    pass\n",
    "class H(T):\n",
    "    pass\n",
    "class A(H):\n",
    "    pass\n",
    "    \n",
    "obj = A()\n",
    "\n",
    "print(type(obj).__name__)\n",
    "print(obj.__class__.__name__)\n",
    "print(A.__mro__)"
   ]
  },
  {
   "cell_type": "code",
   "execution_count": 16,
   "id": "e8ff191c",
   "metadata": {},
   "outputs": [
    {
     "name": "stdout",
     "output_type": "stream",
     "text": [
      "1001\n"
     ]
    }
   ],
   "source": [
    "class A:    \n",
    "    def met(self):\n",
    "        return 1\n",
    "    \n",
    "    def met_a(self):\n",
    "        return self.met()\n",
    "        \n",
    "class B(A):\n",
    "    def met(self):\n",
    "        return 10\n",
    "    \n",
    "class C(A):\n",
    "    def met(self):\n",
    "        return 100\n",
    "    \n",
    "obj1 = A()\n",
    "obj2 = B()\n",
    "obj3 = C()\n",
    "    \n",
    "x = obj1.met_a() + obj2.met() * obj3.met()\n",
    "    \n",
    "print(x)"
   ]
  },
  {
   "cell_type": "code",
   "execution_count": 4,
   "id": "ec1619c9",
   "metadata": {},
   "outputs": [
    {
     "name": "stdout",
     "output_type": "stream",
     "text": [
      "dog\n",
      "cat\n",
      "fox\n",
      "bat\n",
      "tiger\n",
      "dolphin"
     ]
    }
   ],
   "source": [
    "strm = open('animals.txt', 'r')\n",
    "    \n",
    "for i in strm:\n",
    "    print(i, end='')    \n",
    "    \n",
    "for i in strm:    \n",
    "    print(\"--\",i[0], end='')"
   ]
  },
  {
   "cell_type": "code",
   "execution_count": 7,
   "id": "e5fe5e79",
   "metadata": {},
   "outputs": [
    {
     "name": "stdout",
     "output_type": "stream",
     "text": [
      "True True True True\n",
      "{'__module__': '__main__', '__firstlineno__': 1, '_A__x': 0, '_A___x': 1, '_A__x_': 2, '__x__': 3, '__static_attributes__': (), '__dict__': <attribute '__dict__' of 'A' objects>, '__weakref__': <attribute '__weakref__' of 'A' objects>, '__doc__': None}\n"
     ]
    }
   ],
   "source": [
    "class A():\n",
    "    __x = 0\n",
    "    ___x = 1\n",
    "    __x_ = 2\n",
    "    __x__ = 3\n",
    "    \n",
    "print('_A__x' in A.__dict__, end = \" \")\n",
    "print('_A___x' in A.__dict__, end = \" \")\n",
    "print('_A__x_' in A.__dict__, end = \" \")\n",
    "print('__x__' in A.__dict__)\n",
    "\n",
    "print(A.__dict__)"
   ]
  },
  {
   "cell_type": "code",
   "execution_count": 8,
   "id": "f61b82b3",
   "metadata": {},
   "outputs": [
    {
     "name": "stdout",
     "output_type": "stream",
     "text": [
      "100 0\n"
     ]
    }
   ],
   "source": [
    "class A:\n",
    "    x = 0\n",
    " \n",
    "class B(A):\n",
    "    x = 100\n",
    "    \n",
    "    def __init__(self):\n",
    "        print(B.x, end = \" \")\n",
    "        \n",
    "    def m(self):   \n",
    "        del(B.x)\n",
    "        print(B.x)\n",
    "                \n",
    "obj = B()\n",
    "obj.m()"
   ]
  },
  {
   "cell_type": "code",
   "execution_count": null,
   "id": "34168189",
   "metadata": {},
   "outputs": [
    {
     "name": "stdout",
     "output_type": "stream",
     "text": [
      "True\n",
      "True\n",
      "0\n"
     ]
    }
   ],
   "source": [
    "print(hasattr(B, 'x'))  # True antes da deleção\n",
    "del(B.x)\n",
    "print(hasattr(B, 'x'))  # False após deleção\n",
    "print(B.x)  # 0 (herdado de A)"
   ]
  },
  {
   "cell_type": "code",
   "execution_count": 11,
   "id": "006d86b7",
   "metadata": {},
   "outputs": [
    {
     "name": "stdout",
     "output_type": "stream",
     "text": [
      "0.3333333333333333\n"
     ]
    }
   ],
   "source": [
    "s1 = str(1/3)\n",
    "print(s1)"
   ]
  },
  {
   "cell_type": "code",
   "execution_count": 12,
   "id": "0185bcd9",
   "metadata": {},
   "outputs": [
    {
     "ename": "SyntaxError",
     "evalue": "cannot assign to lambda (970381134.py, line 3)",
     "output_type": "error",
     "traceback": [
      "  \u001b[36mCell\u001b[39m\u001b[36m \u001b[39m\u001b[32mIn[12]\u001b[39m\u001b[32m, line 3\u001b[39m\n\u001b[31m    \u001b[39m\u001b[31mmirror = lambda s: t = s.upper() + \"|\" + t[::-1]\u001b[39m\n             ^\n\u001b[31mSyntaxError\u001b[39m\u001b[31m:\u001b[39m cannot assign to lambda\n"
     ]
    }
   ],
   "source": [
    "txt = \"Python\"\n",
    "    \n",
    "mirror = lambda s: t = s.upper() + \"|\" + t[::-1]\n",
    "    \n",
    "print(mirror(txt))"
   ]
  },
  {
   "cell_type": "code",
   "execution_count": 17,
   "id": "416e931f",
   "metadata": {},
   "outputs": [
    {
     "name": "stdout",
     "output_type": "stream",
     "text": [
      "Python\n",
      "Viper\n",
      "Rattlesnake\n"
     ]
    }
   ],
   "source": [
    "class A():\n",
    "    def __init__(self, snake):\n",
    "        self.snake = snake\n",
    "\n",
    "    #def __str__(self):\n",
    "    #    return self.snake\n",
    "\n",
    "class B(A):    \n",
    "    def __str__(self):\n",
    "        return self.snake\n",
    "    \n",
    "class C(B):\n",
    "    pass\n",
    "    \n",
    "obj1 = A(\"Python\")\n",
    "obj2 = B(\"Viper\")\n",
    "obj3 = C(\"Rattlesnake\")\n",
    "    \n",
    "print(obj1.snake)\n",
    "#print(obj1)\n",
    "print(obj2)\n",
    "print(obj3)"
   ]
  },
  {
   "cell_type": "code",
   "execution_count": 19,
   "id": "99e9eb79",
   "metadata": {},
   "outputs": [
    {
     "name": "stdout",
     "output_type": "stream",
     "text": [
      "Assertion 3\n"
     ]
    }
   ],
   "source": [
    "x = 1\n",
    "y = 0\n",
    "    \n",
    "try:\n",
    "    assert x, \"Assertion 1\"    \n",
    "    assert not y, \"Assertion 2\"   \n",
    "    assert False, \"Assertion 3\"\n",
    "    \n",
    "except AssertionError as msg:\n",
    "    print(msg)\n",
    "else:\n",
    "    print(\"No assertion\")"
   ]
  },
  {
   "cell_type": "code",
   "execution_count": 21,
   "id": "4802fb40",
   "metadata": {},
   "outputs": [
    {
     "name": "stdout",
     "output_type": "stream",
     "text": [
      "C:\\Users\\Nome\\Documents\\arquivo.txt\n"
     ]
    }
   ],
   "source": [
    "# Sem raw string (problemático)\n",
    "#path = \"C:\\Users\\Nome\\Documents\\arquivo.txt\"  # Erro! \\U e \\N são escapes\n",
    "\n",
    "# Com raw string (correto)\n",
    "path = r\"C:\\Users\\Nome\\Documents\\arquivo.txt\"\n",
    "print(path)  # C:\\Users\\Nome\\Documents\\arquivo.txt"
   ]
  },
  {
   "cell_type": "code",
   "execution_count": 25,
   "id": "7c75f192",
   "metadata": {},
   "outputs": [
    {
     "name": "stdout",
     "output_type": "stream",
     "text": [
      "-1\n"
     ]
    },
    {
     "ename": "ValueError",
     "evalue": "substring not found",
     "output_type": "error",
     "traceback": [
      "\u001b[31m---------------------------------------------------------------------------\u001b[39m",
      "\u001b[31mValueError\u001b[39m                                Traceback (most recent call last)",
      "\u001b[36mCell\u001b[39m\u001b[36m \u001b[39m\u001b[32mIn[25]\u001b[39m\u001b[32m, line 4\u001b[39m\n\u001b[32m      1\u001b[39m txt = \u001b[33m\"\u001b[39m\u001b[33mPython\u001b[39m\u001b[33m\"\u001b[39m\n\u001b[32m      3\u001b[39m \u001b[38;5;28mprint\u001b[39m(txt.find(\u001b[33m'\u001b[39m\u001b[33mJava\u001b[39m\u001b[33m'\u001b[39m))\n\u001b[32m----> \u001b[39m\u001b[32m4\u001b[39m \u001b[38;5;28mprint\u001b[39m(\u001b[43mtxt\u001b[49m\u001b[43m.\u001b[49m\u001b[43mindex\u001b[49m\u001b[43m(\u001b[49m\u001b[33;43m'\u001b[39;49m\u001b[33;43mZ\u001b[39;49m\u001b[33;43m'\u001b[39;49m\u001b[43m)\u001b[49m)\n",
      "\u001b[31mValueError\u001b[39m: substring not found"
     ]
    }
   ],
   "source": [
    "txt = \"Python\"\n",
    "    \n",
    "print(txt.find('Java'))\n",
    "print(txt.index('Z'))"
   ]
  },
  {
   "cell_type": "code",
   "execution_count": 34,
   "id": "fdecec20",
   "metadata": {},
   "outputs": [
    {
     "name": "stdout",
     "output_type": "stream",
     "text": [
      "B\n"
     ]
    }
   ],
   "source": [
    "class myErr(Exception):\n",
    "    def __init__(self, msg):\n",
    "        super().__init__(msg * 5)        \n",
    "     \n",
    "    def __str__(self):\n",
    "        return \"B\"\n",
    "        \n",
    "\n",
    "try:\n",
    "    raise myErr(\"A\")\n",
    "except Exception as e:\n",
    "    print(e)"
   ]
  },
  {
   "cell_type": "code",
   "execution_count": 36,
   "id": "eb3190d4",
   "metadata": {},
   "outputs": [
    {
     "name": "stdout",
     "output_type": "stream",
     "text": [
      "['dog\\n', 'cat\\n', 'fox\\n', 'bat\\n', 'tiger\\n', 'dolphin']\n"
     ]
    }
   ],
   "source": [
    "strm = open('animals.txt')\n",
    "#print(strm.readlines(7))\n",
    "print(strm.readlines(-10))"
   ]
  },
  {
   "cell_type": "code",
   "execution_count": 39,
   "id": "5452f225",
   "metadata": {},
   "outputs": [
    {
     "name": "stdout",
     "output_type": "stream",
     "text": [
      "<class 'str'>\n",
      "<class 'int'>\n",
      "1\n"
     ]
    },
    {
     "ename": "TypeError",
     "evalue": "object of type 'int' has no len()",
     "output_type": "error",
     "traceback": [
      "\u001b[31m---------------------------------------------------------------------------\u001b[39m",
      "\u001b[31mTypeError\u001b[39m                                 Traceback (most recent call last)",
      "\u001b[36mCell\u001b[39m\u001b[36m \u001b[39m\u001b[32mIn[39]\u001b[39m\u001b[32m, line 5\u001b[39m\n\u001b[32m      2\u001b[39m \u001b[38;5;28mprint\u001b[39m(\u001b[38;5;28mtype\u001b[39m(\u001b[38;5;28mord\u001b[39m(\u001b[33m'\u001b[39m\u001b[33mx\u001b[39m\u001b[33m'\u001b[39m)))\n\u001b[32m      4\u001b[39m \u001b[38;5;28mprint\u001b[39m(\u001b[38;5;28mlen\u001b[39m(\u001b[38;5;28mchr\u001b[39m(\u001b[32m122\u001b[39m)))\n\u001b[32m----> \u001b[39m\u001b[32m5\u001b[39m \u001b[38;5;28mprint\u001b[39m(\u001b[38;5;28;43mlen\u001b[39;49m\u001b[43m(\u001b[49m\u001b[38;5;28;43mord\u001b[39;49m\u001b[43m(\u001b[49m\u001b[33;43m'\u001b[39;49m\u001b[33;43mx\u001b[39;49m\u001b[33;43m'\u001b[39;49m\u001b[43m)\u001b[49m\u001b[43m)\u001b[49m)\n",
      "\u001b[31mTypeError\u001b[39m: object of type 'int' has no len()"
     ]
    }
   ],
   "source": [
    "print(type(chr(122)))\n",
    "print(type(ord('x')))\n",
    "    \n",
    "print(len(chr(122)))\n",
    "print(len(ord('x')))"
   ]
  },
  {
   "cell_type": "code",
   "execution_count": 41,
   "id": "40adeec8",
   "metadata": {},
   "outputs": [
    {
     "name": "stdout",
     "output_type": "stream",
     "text": [
      "['Aa', 'Bb', 'Dd']\n"
     ]
    }
   ],
   "source": [
    "l = ['Aa', 'Bb', 'Cc', 'Dd']\n",
    "    \n",
    "del l[2]\n",
    "    \n",
    "print(l)"
   ]
  },
  {
   "cell_type": "code",
   "execution_count": 44,
   "id": "50ca938d",
   "metadata": {},
   "outputs": [
    {
     "name": "stdout",
     "output_type": "stream",
     "text": [
      "1\n",
      "0\n"
     ]
    }
   ],
   "source": [
    "print(1%2)\n",
    "print(1//2)"
   ]
  },
  {
   "cell_type": "code",
   "execution_count": null,
   "id": "8afe812e",
   "metadata": {},
   "outputs": [
    {
     "name": "stdout",
     "output_type": "stream",
     "text": [
      "Python\n",
      "Viper\n"
     ]
    }
   ],
   "source": [
    "class A:\n",
    "    def __init__(self):\n",
    "        print(\"Python\")\n",
    "        \n",
    "    def m():\n",
    "        print(\"Viper\")      \n",
    "        \n",
    "obj = A()\n",
    "    \n",
    "obj.m()\n",
    " "
   ]
  },
  {
   "cell_type": "code",
   "execution_count": 49,
   "id": "ce1778ae",
   "metadata": {},
   "outputs": [
    {
     "name": "stdout",
     "output_type": "stream",
     "text": [
      "100 1000\n"
     ]
    }
   ],
   "source": [
    "class A:\n",
    "    x = 0\n",
    " \n",
    "    def __init__(self):\n",
    "        self.a = 10\n",
    "        \n",
    "obj = A()\n",
    " \n",
    "obj.__dict__['a'] = 100\n",
    "obj.__dict__['b'] = 1000\n",
    " \n",
    "print(obj.a, obj.b)\n",
    " \n",
    "#A.__dict__['x'] = 1\n",
    "#A.__dict__['y'] = 2\n",
    " \n",
    "#print(A.x, A.y)"
   ]
  },
  {
   "cell_type": "code",
   "execution_count": 51,
   "id": "50cebd64",
   "metadata": {},
   "outputs": [
    {
     "name": "stdout",
     "output_type": "stream",
     "text": [
      "1 2 3\n"
     ]
    }
   ],
   "source": [
    "a, b, c = {'one': 1, 'two':2, 'three': 3}\n",
    "a,b,c={1:\"batatas\",2:\"kouves\",3:\"melancias\"}\n",
    "print(a, b, c)\n",
    "\n"
   ]
  },
  {
   "cell_type": "code",
   "execution_count": 55,
   "id": "0ae442be",
   "metadata": {},
   "outputs": [
    {
     "name": "stdout",
     "output_type": "stream",
     "text": [
      "True True\n",
      "True\n"
     ]
    }
   ],
   "source": [
    "a = 101\n",
    "b = 101\n",
    "c = a\n",
    "print(a == b, a is b)\n",
    "print(c is a)\n",
    " "
   ]
  },
  {
   "cell_type": "code",
   "execution_count": 60,
   "id": "552171d7",
   "metadata": {},
   "outputs": [
    {
     "ename": "ZeroDivisionError",
     "evalue": "division by zero",
     "output_type": "error",
     "traceback": [
      "\u001b[31m---------------------------------------------------------------------------\u001b[39m",
      "\u001b[31mValueError\u001b[39m                                Traceback (most recent call last)",
      "\u001b[36mCell\u001b[39m\u001b[36m \u001b[39m\u001b[32mIn[60]\u001b[39m\u001b[32m, line 2\u001b[39m\n\u001b[32m      1\u001b[39m \u001b[38;5;28;01mtry\u001b[39;00m:\n\u001b[32m----> \u001b[39m\u001b[32m2\u001b[39m     \u001b[38;5;28;43mint\u001b[39;49m\u001b[43m(\u001b[49m\u001b[33;43m'\u001b[39;49m\u001b[33;43mabc\u001b[39;49m\u001b[33;43m'\u001b[39;49m\u001b[43m)\u001b[49m\n\u001b[32m      4\u001b[39m \u001b[38;5;28;01mexcept\u001b[39;00m \u001b[38;5;167;01mValueError\u001b[39;00m:\n",
      "\u001b[31mValueError\u001b[39m: invalid literal for int() with base 10: 'abc'",
      "\nDuring handling of the above exception, another exception occurred:\n",
      "\u001b[31mZeroDivisionError\u001b[39m                         Traceback (most recent call last)",
      "\u001b[36mCell\u001b[39m\u001b[36m \u001b[39m\u001b[32mIn[60]\u001b[39m\u001b[32m, line 5\u001b[39m\n\u001b[32m      2\u001b[39m     \u001b[38;5;28mint\u001b[39m(\u001b[33m'\u001b[39m\u001b[33mabc\u001b[39m\u001b[33m'\u001b[39m)\n\u001b[32m      4\u001b[39m \u001b[38;5;28;01mexcept\u001b[39;00m \u001b[38;5;167;01mValueError\u001b[39;00m:\n\u001b[32m----> \u001b[39m\u001b[32m5\u001b[39m     \u001b[38;5;28mprint\u001b[39m(\u001b[32;43m1\u001b[39;49m\u001b[43m/\u001b[49m\u001b[32;43m0\u001b[39;49m)\n\u001b[32m      7\u001b[39m \u001b[38;5;28;01mexcept\u001b[39;00m:\n\u001b[32m      8\u001b[39m     \u001b[38;5;28mprint\u001b[39m(\u001b[33m'\u001b[39m\u001b[33mAn error occurred\u001b[39m\u001b[33m'\u001b[39m)\n",
      "\u001b[31mZeroDivisionError\u001b[39m: division by zero"
     ]
    }
   ],
   "source": [
    "\n",
    "try:\n",
    "    int('abc')\n",
    "    \n",
    "except ValueError:\n",
    "    print(1/0)\n",
    "    \n",
    "except:\n",
    "    print('An error occurred')"
   ]
  }
 ],
 "metadata": {
  "kernelspec": {
   "display_name": "Python 3",
   "language": "python",
   "name": "python3"
  },
  "language_info": {
   "codemirror_mode": {
    "name": "ipython",
    "version": 3
   },
   "file_extension": ".py",
   "mimetype": "text/x-python",
   "name": "python",
   "nbconvert_exporter": "python",
   "pygments_lexer": "ipython3",
   "version": "3.13.6"
  }
 },
 "nbformat": 4,
 "nbformat_minor": 5
}
