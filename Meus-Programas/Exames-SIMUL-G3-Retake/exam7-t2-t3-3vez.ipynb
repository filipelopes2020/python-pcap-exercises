{
 "cells": [
  {
   "cell_type": "code",
   "execution_count": 3,
   "id": "2b8eaf44",
   "metadata": {},
   "outputs": [],
   "source": [
    "for x in range(1):\n",
    "    try:\n",
    "        print(x/x)\n",
    "    finally:\n",
    "        #continue\n",
    "        break\n",
    "        #print(\"batatas\")"
   ]
  },
  {
   "cell_type": "code",
   "execution_count": 11,
   "id": "e2b026cd",
   "metadata": {},
   "outputs": [
    {
     "ename": "RuntimeError",
     "evalue": "",
     "output_type": "error",
     "traceback": [
      "\u001b[31m---------------------------------------------------------------------------\u001b[39m",
      "\u001b[31mRuntimeError\u001b[39m                              Traceback (most recent call last)",
      "\u001b[36mCell\u001b[39m\u001b[36m \u001b[39m\u001b[32mIn[11]\u001b[39m\u001b[32m, line 4\u001b[39m\n\u001b[32m      2\u001b[39m     \u001b[38;5;28;01mraise\u001b[39;00m \u001b[38;5;167;01mIOError\u001b[39;00m\n\u001b[32m      3\u001b[39m \u001b[38;5;28;01mexcept\u001b[39;00m \u001b[38;5;167;01mIOError\u001b[39;00m:\n\u001b[32m----> \u001b[39m\u001b[32m4\u001b[39m     \u001b[38;5;28;01mraise\u001b[39;00m \u001b[38;5;167;01mRuntimeError\u001b[39;00m \u001b[38;5;28;01mfrom\u001b[39;00m\u001b[38;5;250m \u001b[39m\u001b[38;5;28;01mNone\u001b[39;00m\n",
      "\u001b[31mRuntimeError\u001b[39m: "
     ]
    }
   ],
   "source": [
    "try:\n",
    "    raise IOError\n",
    "except IOError:\n",
    "    raise RuntimeError from None"
   ]
  },
  {
   "cell_type": "code",
   "execution_count": null,
   "id": "089c25e6",
   "metadata": {},
   "outputs": [],
   "source": [
    "try:\n",
    "    raise IOError\n",
    "except IOError as e:\n",
    "    raise RuntimeError(\"falha ao processar\") from e"
   ]
  },
  {
   "cell_type": "code",
   "execution_count": 17,
   "id": "7b320fa6",
   "metadata": {},
   "outputs": [
    {
     "name": "stdout",
     "output_type": "stream",
     "text": [
      "Exception\n"
     ]
    }
   ],
   "source": [
    "for i in range(1):\n",
    "    try:\n",
    "        raise UndefinedException\n",
    "    except:\n",
    "        #pass\n",
    "        #break\n",
    "        #continue\n",
    "        print(\"Exception\")"
   ]
  },
  {
   "cell_type": "code",
   "execution_count": 20,
   "id": "1ed95abd",
   "metadata": {},
   "outputs": [
    {
     "name": "stdout",
     "output_type": "stream",
     "text": [
      "Exception\n"
     ]
    }
   ],
   "source": [
    "try:\n",
    "    abcd\n",
    "    efgh\n",
    "except:\n",
    "    #pass\n",
    "    print(\"Exception\")"
   ]
  },
  {
   "cell_type": "code",
   "execution_count": 25,
   "id": "dfd550b8",
   "metadata": {},
   "outputs": [
    {
     "name": "stdout",
     "output_type": "stream",
     "text": [
      "1\n",
      "('batatas',)\n"
     ]
    }
   ],
   "source": [
    "try:\n",
    "    raise Exception (\"batatas\")\n",
    "except Exception as e:\n",
    "    print(len(e.args))\n",
    "    print(e.args)"
   ]
  },
  {
   "cell_type": "code",
   "execution_count": 31,
   "id": "12455d85",
   "metadata": {},
   "outputs": [
    {
     "name": "stdout",
     "output_type": "stream",
     "text": [
      "AgeException\n"
     ]
    }
   ],
   "source": [
    "class AgeException(Exception):\n",
    "    def __init__(self, age):\n",
    "        super(AgeException, self).__init__(\"AgeException\")\n",
    "try:\n",
    "    raise AgeException(age=18)\n",
    "except AgeException as e:\n",
    "    print(e)"
   ]
  },
  {
   "cell_type": "code",
   "execution_count": 40,
   "id": "a25c06ed",
   "metadata": {},
   "outputs": [
    {
     "ename": "FileNotFoundError",
     "evalue": "[Errno 2] No such file or directory: 'spam2.txt'",
     "output_type": "error",
     "traceback": [
      "\u001b[31m---------------------------------------------------------------------------\u001b[39m",
      "\u001b[31mFileNotFoundError\u001b[39m                         Traceback (most recent call last)",
      "\u001b[36mCell\u001b[39m\u001b[36m \u001b[39m\u001b[32mIn[40]\u001b[39m\u001b[32m, line 3\u001b[39m\n\u001b[32m      1\u001b[39m \u001b[38;5;28;01mimport\u001b[39;00m\u001b[38;5;250m \u001b[39m\u001b[34;01msys\u001b[39;00m\n\u001b[32m      2\u001b[39m \u001b[38;5;28;01mtry\u001b[39;00m:\n\u001b[32m----> \u001b[39m\u001b[32m3\u001b[39m     f = \u001b[38;5;28;43mopen\u001b[39;49m\u001b[43m(\u001b[49m\u001b[33;43m'\u001b[39;49m\u001b[33;43mspam2.txt\u001b[39;49m\u001b[33;43m'\u001b[39;49m\u001b[43m)\u001b[49m\n\u001b[32m      4\u001b[39m     s = f.readline()\n\u001b[32m      5\u001b[39m \u001b[38;5;28;01mexcept\u001b[39;00m:\n",
      "\u001b[36mFile \u001b[39m\u001b[32m~\\AppData\\Roaming\\Python\\Python313\\site-packages\\IPython\\core\\interactiveshell.py:343\u001b[39m, in \u001b[36m_modified_open\u001b[39m\u001b[34m(file, *args, **kwargs)\u001b[39m\n\u001b[32m    336\u001b[39m \u001b[38;5;28;01mif\u001b[39;00m file \u001b[38;5;129;01min\u001b[39;00m {\u001b[32m0\u001b[39m, \u001b[32m1\u001b[39m, \u001b[32m2\u001b[39m}:\n\u001b[32m    337\u001b[39m     \u001b[38;5;28;01mraise\u001b[39;00m \u001b[38;5;167;01mValueError\u001b[39;00m(\n\u001b[32m    338\u001b[39m         \u001b[33mf\u001b[39m\u001b[33m\"\u001b[39m\u001b[33mIPython won\u001b[39m\u001b[33m'\u001b[39m\u001b[33mt let you open fd=\u001b[39m\u001b[38;5;132;01m{\u001b[39;00mfile\u001b[38;5;132;01m}\u001b[39;00m\u001b[33m by default \u001b[39m\u001b[33m\"\u001b[39m\n\u001b[32m    339\u001b[39m         \u001b[33m\"\u001b[39m\u001b[33mas it is likely to crash IPython. If you know what you are doing, \u001b[39m\u001b[33m\"\u001b[39m\n\u001b[32m    340\u001b[39m         \u001b[33m\"\u001b[39m\u001b[33myou can use builtins\u001b[39m\u001b[33m'\u001b[39m\u001b[33m open.\u001b[39m\u001b[33m\"\u001b[39m\n\u001b[32m    341\u001b[39m     )\n\u001b[32m--> \u001b[39m\u001b[32m343\u001b[39m \u001b[38;5;28;01mreturn\u001b[39;00m \u001b[43mio_open\u001b[49m\u001b[43m(\u001b[49m\u001b[43mfile\u001b[49m\u001b[43m,\u001b[49m\u001b[43m \u001b[49m\u001b[43m*\u001b[49m\u001b[43margs\u001b[49m\u001b[43m,\u001b[49m\u001b[43m \u001b[49m\u001b[43m*\u001b[49m\u001b[43m*\u001b[49m\u001b[43mkwargs\u001b[49m\u001b[43m)\u001b[49m\n",
      "\u001b[31mFileNotFoundError\u001b[39m: [Errno 2] No such file or directory: 'spam2.txt'"
     ]
    }
   ],
   "source": [
    "import sys\n",
    "try:\n",
    "    f = open('spam2.txt')\n",
    "    s = f.readline()\n",
    "except:\n",
    "    raise"
   ]
  },
  {
   "cell_type": "code",
   "execution_count": 44,
   "id": "29005881",
   "metadata": {},
   "outputs": [
    {
     "name": "stdout",
     "output_type": "stream",
     "text": [
      "Spam Ham "
     ]
    }
   ],
   "source": [
    "class Spam(BaseException):\n",
    "    pass\n",
    "class Ham(Spam):\n",
    "    pass\n",
    "\n",
    "for cls in [Spam, Ham]:\n",
    "    try:\n",
    "        raise cls()\n",
    "    except Ham:\n",
    "        print(\"Ham\", end=\" \")    \n",
    "    except Spam:\n",
    "        print(\"Spam\", end=\" \")\n"
   ]
  },
  {
   "cell_type": "code",
   "execution_count": 47,
   "id": "2cd4af4e",
   "metadata": {},
   "outputs": [],
   "source": [
    "try:\n",
    "    raise OSError\n",
    "except OSError:\n",
    "    pass"
   ]
  },
  {
   "cell_type": "code",
   "execution_count": 53,
   "id": "8a0b42ac",
   "metadata": {},
   "outputs": [
    {
     "ename": "SpamException",
     "evalue": "Spam",
     "output_type": "error",
     "traceback": [
      "\u001b[31m---------------------------------------------------------------------------\u001b[39m",
      "\u001b[31mSpamException\u001b[39m                             Traceback (most recent call last)",
      "\u001b[36mCell\u001b[39m\u001b[36m \u001b[39m\u001b[32mIn[53]\u001b[39m\u001b[32m, line 6\u001b[39m\n\u001b[32m      4\u001b[39m     \u001b[38;5;66;03m#super().__init__(message)\u001b[39;00m\n\u001b[32m      5\u001b[39m     \u001b[38;5;28mself\u001b[39m.message = message\n\u001b[32m----> \u001b[39m\u001b[32m6\u001b[39m \u001b[38;5;28;01mraise\u001b[39;00m SpamException(\u001b[33m\"\u001b[39m\u001b[33mSpam\u001b[39m\u001b[33m\"\u001b[39m)\n",
      "\u001b[31mSpamException\u001b[39m: Spam"
     ]
    }
   ],
   "source": [
    "class SpamException(Exception):\n",
    "  def __init__(self, message):\n",
    "    super(SpamException, self).__init__(message)    \n",
    "    #super().__init__(message)\n",
    "    self.message = message\n",
    "raise SpamException(\"Spam\")"
   ]
  },
  {
   "cell_type": "code",
   "execution_count": 54,
   "id": "2491b06f",
   "metadata": {},
   "outputs": [
    {
     "name": "stdout",
     "output_type": "stream",
     "text": [
      "NameError\n"
     ]
    }
   ],
   "source": [
    "try:\n",
    "    raise UndefinedException\n",
    "except NameError:\n",
    "    print('NameError')\n",
    "except UndefinedException:\n",
    "    print('UndefinedException')\n",
    "except:\n",
    "    pass"
   ]
  },
  {
   "cell_type": "code",
   "execution_count": 57,
   "id": "3479f821",
   "metadata": {},
   "outputs": [
    {
     "name": "stdout",
     "output_type": "stream",
     "text": [
      "ELSE\n"
     ]
    }
   ],
   "source": [
    "try:\n",
    "    pass\n",
    "except ZeroDivisionError:\n",
    "  print('ZeroDivisionError')\n",
    "except TypeError:\n",
    "    print('TypeError')\n",
    "else:\n",
    "    print('ELSE')"
   ]
  },
  {
   "cell_type": "code",
   "execution_count": 58,
   "id": "ece2e6fb",
   "metadata": {},
   "outputs": [
    {
     "name": "stdout",
     "output_type": "stream",
     "text": [
      "('spam', 'ham', 'eggs')\n"
     ]
    }
   ],
   "source": [
    "class MyException(Exception):\n",
    "    pass\n",
    "try:\n",
    "    raise MyException(\"spam\", \"ham\", \"eggs\")\n",
    "except MyException as s:\n",
    "    print(s)"
   ]
  },
  {
   "cell_type": "code",
   "execution_count": 66,
   "id": "419edf48",
   "metadata": {},
   "outputs": [
    {
     "ename": "ValueError",
     "evalue": "",
     "output_type": "error",
     "traceback": [
      "\u001b[31m---------------------------------------------------------------------------\u001b[39m",
      "\u001b[31mValueError\u001b[39m                                Traceback (most recent call last)",
      "\u001b[36mCell\u001b[39m\u001b[36m \u001b[39m\u001b[32mIn[66]\u001b[39m\u001b[32m, line 2\u001b[39m\n\u001b[32m      1\u001b[39m \u001b[38;5;28;01mtry\u001b[39;00m:\n\u001b[32m----> \u001b[39m\u001b[32m2\u001b[39m     \u001b[38;5;28;01mraise\u001b[39;00m \u001b[38;5;167;01mValueError\u001b[39;00m\n\u001b[32m      3\u001b[39m \u001b[38;5;28;01mexcept\u001b[39;00m (\u001b[38;5;167;01mTypeError\u001b[39;00m, \u001b[38;5;167;01mValueError\u001b[39;00m):\n\u001b[32m      4\u001b[39m     \u001b[38;5;28;01mraise\u001b[39;00m  \n",
      "\u001b[31mValueError\u001b[39m: "
     ]
    }
   ],
   "source": [
    "try:\n",
    "    raise ValueError\n",
    "except (TypeError, ValueError):\n",
    "    raise  "
   ]
  },
  {
   "cell_type": "code",
   "execution_count": 69,
   "id": "f3c8c948",
   "metadata": {},
   "outputs": [
    {
     "ename": "AttributeError",
     "evalue": "",
     "output_type": "error",
     "traceback": [
      "\u001b[31m---------------------------------------------------------------------------\u001b[39m",
      "\u001b[31mArithmeticError\u001b[39m                           Traceback (most recent call last)",
      "\u001b[36mCell\u001b[39m\u001b[36m \u001b[39m\u001b[32mIn[69]\u001b[39m\u001b[32m, line 3\u001b[39m, in \u001b[36mf\u001b[39m\u001b[34m()\u001b[39m\n\u001b[32m      2\u001b[39m \u001b[38;5;28;01mtry\u001b[39;00m:\n\u001b[32m----> \u001b[39m\u001b[32m3\u001b[39m     \u001b[38;5;28;01mraise\u001b[39;00m \u001b[38;5;167;01mArithmeticError\u001b[39;00m\n\u001b[32m      4\u001b[39m \u001b[38;5;28;01mexcept\u001b[39;00m:\n",
      "\u001b[31mArithmeticError\u001b[39m: ",
      "\nDuring handling of the above exception, another exception occurred:\n",
      "\u001b[31mAssertionError\u001b[39m                            Traceback (most recent call last)",
      "\u001b[36mCell\u001b[39m\u001b[36m \u001b[39m\u001b[32mIn[69]\u001b[39m\u001b[32m, line 5\u001b[39m, in \u001b[36mf\u001b[39m\u001b[34m()\u001b[39m\n\u001b[32m      4\u001b[39m \u001b[38;5;28;01mexcept\u001b[39;00m:\n\u001b[32m----> \u001b[39m\u001b[32m5\u001b[39m     \u001b[38;5;28;01mraise\u001b[39;00m \u001b[38;5;167;01mAssertionError\u001b[39;00m\n\u001b[32m      6\u001b[39m \u001b[38;5;28;01mfinally\u001b[39;00m:\n",
      "\u001b[31mAssertionError\u001b[39m: ",
      "\nDuring handling of the above exception, another exception occurred:\n",
      "\u001b[31mAttributeError\u001b[39m                            Traceback (most recent call last)",
      "\u001b[36mCell\u001b[39m\u001b[36m \u001b[39m\u001b[32mIn[69]\u001b[39m\u001b[32m, line 9\u001b[39m\n\u001b[32m      7\u001b[39m         \u001b[38;5;28;01mraise\u001b[39;00m \u001b[38;5;167;01mAttributeError\u001b[39;00m\n\u001b[32m      8\u001b[39m     \u001b[38;5;66;03m#return\u001b[39;00m\n\u001b[32m----> \u001b[39m\u001b[32m9\u001b[39m \u001b[43mf\u001b[49m\u001b[43m(\u001b[49m\u001b[43m)\u001b[49m\n",
      "\u001b[36mCell\u001b[39m\u001b[36m \u001b[39m\u001b[32mIn[69]\u001b[39m\u001b[32m, line 7\u001b[39m, in \u001b[36mf\u001b[39m\u001b[34m()\u001b[39m\n\u001b[32m      5\u001b[39m     \u001b[38;5;28;01mraise\u001b[39;00m \u001b[38;5;167;01mAssertionError\u001b[39;00m\n\u001b[32m      6\u001b[39m \u001b[38;5;28;01mfinally\u001b[39;00m:\n\u001b[32m----> \u001b[39m\u001b[32m7\u001b[39m     \u001b[38;5;28;01mraise\u001b[39;00m \u001b[38;5;167;01mAttributeError\u001b[39;00m\n",
      "\u001b[31mAttributeError\u001b[39m: "
     ]
    }
   ],
   "source": [
    "def f():\n",
    "    try:\n",
    "        raise ArithmeticError\n",
    "    except:\n",
    "        raise AssertionError\n",
    "    finally:\n",
    "        raise AttributeError\n",
    "    #return\n",
    "f()"
   ]
  },
  {
   "cell_type": "code",
   "execution_count": 70,
   "id": "cd12819f",
   "metadata": {},
   "outputs": [
    {
     "name": "stdout",
     "output_type": "stream",
     "text": [
      "Eggs not found\n"
     ]
    }
   ],
   "source": [
    "f = open('spam.txt', 'r')\n",
    "if 'eggs' in f:\n",
    "    print('Eggs found')\n",
    "else:\n",
    "    print('Eggs not found')"
   ]
  },
  {
   "cell_type": "code",
   "execution_count": 72,
   "id": "86a4ebf8",
   "metadata": {},
   "outputs": [
    {
     "name": "stdout",
     "output_type": "stream",
     "text": [
      "['banana', 'apple', 'pear', 'grapes']\n"
     ]
    }
   ],
   "source": [
    "x=sorted(['banana', 'pear', 'grapes', 'apple'], key=lambda x: x[::-1])\n",
    "print(x)"
   ]
  },
  {
   "cell_type": "code",
   "execution_count": 74,
   "id": "9bea6aed",
   "metadata": {},
   "outputs": [
    {
     "name": "stdout",
     "output_type": "stream",
     "text": [
      "nohtyP\n",
      "Pn\n"
     ]
    }
   ],
   "source": [
    "s = 'Python'\n",
    "print(s[::-1])\n",
    "print(s[::-1][::-5])"
   ]
  },
  {
   "cell_type": "code",
   "execution_count": 75,
   "id": "7a7d52ba",
   "metadata": {},
   "outputs": [
    {
     "ename": "TypeError",
     "evalue": "'str' object cannot be interpreted as an integer",
     "output_type": "error",
     "traceback": [
      "\u001b[31m---------------------------------------------------------------------------\u001b[39m",
      "\u001b[31mTypeError\u001b[39m                                 Traceback (most recent call last)",
      "\u001b[36mCell\u001b[39m\u001b[36m \u001b[39m\u001b[32mIn[75]\u001b[39m\u001b[32m, line 1\u001b[39m\n\u001b[32m----> \u001b[39m\u001b[32m1\u001b[39m spam = \u001b[38;5;28;43mchr\u001b[39;49m\u001b[43m(\u001b[49m\u001b[33;43m'\u001b[39;49m\u001b[33;43ma\u001b[39;49m\u001b[33;43m'\u001b[39;49m\u001b[43m)\u001b[49m\n\u001b[32m      2\u001b[39m ham = \u001b[38;5;28mord\u001b[39m(spam)\n\u001b[32m      3\u001b[39m \u001b[38;5;28mprint\u001b[39m(spam, ham)\n",
      "\u001b[31mTypeError\u001b[39m: 'str' object cannot be interpreted as an integer"
     ]
    }
   ],
   "source": [
    "spam = chr('a')\n",
    "ham = ord(spam)\n",
    "print(spam, ham)\n"
   ]
  },
  {
   "cell_type": "code",
   "execution_count": 77,
   "id": "2602722d",
   "metadata": {},
   "outputs": [
    {
     "name": "stdout",
     "output_type": "stream",
     "text": [
      "True\n"
     ]
    }
   ],
   "source": [
    "spam = 'FuBar'\n",
    "ham = spam[:]\n",
    "\n",
    "print(id(spam) == id(ham))"
   ]
  },
  {
   "cell_type": "code",
   "execution_count": 78,
   "id": "b26448ac",
   "metadata": {},
   "outputs": [
    {
     "name": "stdout",
     "output_type": "stream",
     "text": [
      "True\n",
      "False\n"
     ]
    }
   ],
   "source": [
    "l1 = {1, 2, 3}\n",
    "l2 = l1\n",
    "print(id(l1) == id(l2))   # True → mesma lista\n",
    "l3 = l1.copy()\n",
    "print(id(l1) == id(l3))   # False → cópia nova"
   ]
  },
  {
   "cell_type": "code",
   "execution_count": 79,
   "id": "8c75f0c1",
   "metadata": {},
   "outputs": [
    {
     "name": "stdout",
     "output_type": "stream",
     "text": [
      "Hello World\n"
     ]
    }
   ],
   "source": [
    "\"spam\"\n",
    "\"ham\"\n",
    "\"eggs\"\n",
    "print(\"Hello World\")"
   ]
  }
 ],
 "metadata": {
  "kernelspec": {
   "display_name": "Python 3",
   "language": "python",
   "name": "python3"
  },
  "language_info": {
   "codemirror_mode": {
    "name": "ipython",
    "version": 3
   },
   "file_extension": ".py",
   "mimetype": "text/x-python",
   "name": "python",
   "nbconvert_exporter": "python",
   "pygments_lexer": "ipython3",
   "version": "3.13.6"
  }
 },
 "nbformat": 4,
 "nbformat_minor": 5
}
